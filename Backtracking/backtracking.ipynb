{
 "cells": [
  {
   "cell_type": "markdown",
   "metadata": {},
   "source": [
    "# Backtracking\n",
    "- What is backtracking?\n",
    "    - Is an algoithmic technique that involves finding a solution incrementally by trying different options and undoing them if they lead to a dead end.\n",
    "    - Solutions are built step by step using recursion\n",
    "    - If path does not lead to solution/ violates constraints we abandon path\n",
    "    - Make changes in place (pass by reference)\n",
    "    - Controlled recursion\n",
    "    - Ex. Sudoku \n",
    "- How is it different from recursion?\n",
    "    - We abandon solution when it violates or does not lead to solution\n",
    "- How does backtracking work?\n",
    "    1. Explore one option\n",
    "    2. Keep building the solution with recursion\n",
    "    3. If it violates condition we backtrack, explore a different path\n",
    "    4. If valid solution we return it\n",
    "- Pass by reference/change in place?\n",
    "    - changes to the state of the problem is in place or the input is pass by reference. We do not make a copy of the input\n",
    "    - Ex.\n",
    "        - Permutation of a string abc\n",
    "        - approach 1: create new array/ string and get all permutations\n",
    "        - approach 2: Backtracking: in place using swaps\n",
    "- Blueprint to solve questions using Backtracking\n",
    "    -very powerful\n",
    "    - will help solve any recursion problem\n",
    "    - Pseudocode\n",
    "        func helper()\n",
    "        base condition: if problem is solve -> save the solution/print\n",
    "        return\n",
    "        if isValid(choice)\n",
    "            for choice in choices\n",
    "                choose\n",
    "                helper()\n",
    "                reverse choice\n",
    "        helper()"
   ]
  },
  {
   "cell_type": "code",
   "execution_count": null,
   "metadata": {},
   "outputs": [],
   "source": []
  }
 ],
 "metadata": {
  "language_info": {
   "name": "python"
  }
 },
 "nbformat": 4,
 "nbformat_minor": 2
}
