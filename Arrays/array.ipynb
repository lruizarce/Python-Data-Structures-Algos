{
 "cells": [
  {
   "cell_type": "markdown",
   "metadata": {},
   "source": [
    "# Question\n",
    "You are given an array of intergres in which each subsequent value is not less than the previous value. Write a function that takes this array as an input and returns a new array with the sqaures of each number sorted in ascending order."
   ]
  },
  {
   "cell_type": "markdown",
   "metadata": {},
   "source": [
    "## During the interview ask questions\n",
    "Possible questions:\n",
    "1. Are all numbers positives?\n",
    "2. Are the integers distinct? \n",
    "3. Can an empty array of integers be given as input? Yes, return an empty array\n",
    "Test cases:\n",
    "1. different inputs, expect output\n",
    "2. Work with the interview and ask for different output examples\n",
    "3. [1,3,5] --> [1, 9, 25]\n",
    "4. [0,5,6] --> [0, 25, 36]\n",
    "5. [-4, -2, 0, 1, 3] --> [0, 1, 4, 9, 16]"
   ]
  },
  {
   "cell_type": "code",
   "execution_count": 49,
   "metadata": {},
   "outputs": [],
   "source": [
    "\n",
    "def sort_array(array):\n",
    "    sqrt_list= []\n",
    "    for i in range(len(array)):\n",
    "        sqrt_list.append(array[i]**2)\n",
    "    sqrt_list.sort()\n",
    "    return sqrt_list\n",
    "        "
   ]
  },
  {
   "cell_type": "markdown",
   "metadata": {},
   "source": [
    "### Brute for Solution\n",
    "Time complexity: O(nlog n)---> sort is a n logn algorithm\n",
    "Space Complexity: O(n)---> we need to copy the new array and square the values"
   ]
  },
  {
   "cell_type": "code",
   "execution_count": 52,
   "metadata": {},
   "outputs": [
    {
     "name": "stdout",
     "output_type": "stream",
     "text": [
      "[]\n",
      "[0, 25, 25, 36]\n",
      "[0, 1, 4, 9, 16]\n"
     ]
    }
   ],
   "source": [
    "print(sort_array([]))\n",
    "print(sort_array([0, 5, 5, 6]))\n",
    "print(sort_array([-4, -2, 0, 1, 3]))"
   ]
  },
  {
   "cell_type": "markdown",
   "metadata": {},
   "source": [
    "### Optimized Solution\n"
   ]
  },
  {
   "cell_type": "code",
   "execution_count": 98,
   "metadata": {},
   "outputs": [],
   "source": [
    "def opt_sorted_array(array):\n",
    "    \n",
    "    n = len(array)\n",
    "    i,j = 0, n-1\n",
    "    res = [0]*n\n",
    "    # we know it is sorted in \n",
    "    for k in reversed(range(n)):\n",
    "        if array[i]**2>array[j]**2:\n",
    "            res[k] = array[i]**2\n",
    "            i+=1\n",
    "            print(k)\n",
    "        else:\n",
    "            res[k] = array[j]**2\n",
    "            j-=1\n",
    "            print(k)\n",
    "    return res\n",
    "    "
   ]
  },
  {
   "cell_type": "code",
   "execution_count": 99,
   "metadata": {},
   "outputs": [
    {
     "name": "stdout",
     "output_type": "stream",
     "text": [
      "[3, 1, 0, -2, -4]\n"
     ]
    }
   ],
   "source": [
    "a = [-4, -2, 0, 1, 3]\n",
    "print(list(reversed(a)))"
   ]
  },
  {
   "cell_type": "code",
   "execution_count": 100,
   "metadata": {},
   "outputs": [
    {
     "name": "stdout",
     "output_type": "stream",
     "text": [
      "[]\n",
      "3\n",
      "2\n",
      "1\n",
      "0\n",
      "[0, 25, 25, 36]\n",
      "4\n",
      "3\n",
      "2\n",
      "1\n",
      "0\n",
      "[0, 1, 4, 9, 16]\n"
     ]
    }
   ],
   "source": [
    "print(opt_sorted_array([]))\n",
    "print(opt_sorted_array([0, 5, 5, 6]))\n",
    "print(opt_sorted_array([-4, -2, 0, 1, 3]))"
   ]
  },
  {
   "cell_type": "markdown",
   "metadata": {},
   "source": [
    "# Question 2\n",
    "An array is monotonic if it is either monotone increasing or monotone decreasing. An array is monotone increasing if all its elements from left to right are non-decreasing. An array is monotone decreasing if all its elemetns from left to right are non-increasing. Given an interger array return true if the given array is monotonic, or false."
   ]
  },
  {
   "cell_type": "markdown",
   "metadata": {},
   "source": [
    "### Questions to ask interviewer\n",
    "1. Can you give me an example of a both montone increasing and decreasing\n",
    "2. Ex. Increasing [1,2,3,4,5]\n",
    "2a. Ex. Decreasing [5,4,3,2,1]\n",
    "3. Are they all positive numbers?\n",
    "4. Can the input be empty?\n",
    "5. Are all values distinct?\n",
    "6. Is an empty array monotonic? Yes\n",
    "7. Is an array with only 1 integer monotonic? Yes\n",
    "\n",
    "### Test Cases\n",
    "1. [1,2,3]-> T\n",
    "2. [3,2,1]-> T\n",
    "3. [0] -> T\n",
    "4. [1,2,2] -> T\n",
    "5. [3,3,3]-> T\n",
    "6. []-> T\n",
    "7. [2,2,3,1] -> F\n"
   ]
  },
  {
   "cell_type": "code",
   "execution_count": 107,
   "metadata": {},
   "outputs": [],
   "source": [
    "def monotone(array):\n",
    "    n = len(array)\n",
    "    if n==0:\n",
    "        return True\n",
    "    start, end = array[0], array[n-1]\n",
    "    if start > end:\n",
    "        # MD or array is not monotonic\n",
    "        for k in range(n-1):\n",
    "            if array[k] < array[k+1]:\n",
    "                return False\n",
    "    elif start == end:\n",
    "        # M - all values are equal\n",
    "        for k in range(n-1):\n",
    "            if array[k] != array[k+1]:\n",
    "                return False\n",
    "    else:\n",
    "        # start<end\n",
    "        #MI or not M\n",
    "        for k in range(n-1):\n",
    "            if array[k] > array[k+1]:\n",
    "                return False\n",
    "    return True\n",
    "           "
   ]
  },
  {
   "cell_type": "markdown",
   "metadata": {},
   "source": [
    "### Notes about Solution\n",
    "if the value at start is greater than the value at the end we can only check for monotonic decreasing. \n"
   ]
  },
  {
   "cell_type": "code",
   "execution_count": 112,
   "metadata": {},
   "outputs": [
    {
     "name": "stdout",
     "output_type": "stream",
     "text": [
      "True\n",
      "False\n",
      "True\n"
     ]
    }
   ],
   "source": [
    "print(monotone([3,2,1]))\n",
    "print(monotone([1,3,2,1,2,34,]))\n",
    "print(monotone([-1, -4, -9]))\n"
   ]
  },
  {
   "cell_type": "code",
   "execution_count": null,
   "metadata": {},
   "outputs": [],
   "source": []
  }
 ],
 "metadata": {
  "kernelspec": {
   "display_name": "tf2",
   "language": "python",
   "name": "python3"
  },
  "language_info": {
   "codemirror_mode": {
    "name": "ipython",
    "version": 3
   },
   "file_extension": ".py",
   "mimetype": "text/x-python",
   "name": "python",
   "nbconvert_exporter": "python",
   "pygments_lexer": "ipython3",
   "version": "3.10.9"
  }
 },
 "nbformat": 4,
 "nbformat_minor": 2
}
