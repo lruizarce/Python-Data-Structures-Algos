{
 "cells": [
  {
   "cell_type": "markdown",
   "metadata": {},
   "source": [
    "# K-th Symbol in Grammar\n",
    "We build a table of n rows(1-indexed). We start by writing 0 in the 1st row. Now in every subsequent row, we look at the previous row and replace each occurrence of 0 with 01, and each occurrence of 1 with 10. \n",
    "\n",
    "For example, for n = 3, the 1st row is 0, the 2nd row is 01, and the 3rd row is 0110.\n",
    "\n",
    "Given two integer n and k, return the kth (1-indexed) symbol in the nth row of a table of n rows. "
   ]
  },
  {
   "cell_type": "markdown",
   "metadata": {},
   "source": [
    "- 0 -->n=1\n",
    "- 01 -->n=2\n",
    "- 00110 --> n-3\n",
    "- k =1 return 1\n",
    "- k=2 return 1\n",
    "- k=3 return 1\n",
    "- k=4 return 4\n",
    "\n",
    "### Clarifying questions\n",
    "1. Is it possbile that n is given as zero? No, n >=1\n",
    "2. Can k be out of bound? For e.g. if n =3, there will be 4 numbers, can k be given as 5? No, 1 <= k <= 2\n",
    "\n",
    "### Test cases\n",
    "Can form together with interviewer\n",
    "- 0: n=1, k=1 -> return 0\n",
    "- 01\n",
    "- 0110\n",
    "- 01101001 n=4, k=1 -> 0\n",
    "        n=4, k=8 -> 1"
   ]
  },
  {
   "cell_type": "markdown",
   "metadata": {},
   "source": [
    "### Pseudocode\n",
    "\n",
    "kgrams\n",
    "base case: if n = 1 return 0\n",
    "recursive case: find length = 2^n-1, \n",
    "mid points length // 2\n",
    "if k <= half\n",
    "return kgram(n-1, k)\n",
    "else\n",
    "return not kgram(n-1, k-mid)"
   ]
  },
  {
   "cell_type": "code",
   "execution_count": 58,
   "metadata": {},
   "outputs": [
    {
     "name": "stdout",
     "output_type": "stream",
     "text": [
      "1\n"
     ]
    }
   ],
   "source": [
    "def kth_symbol(n,k):\n",
    "    # 0\n",
    "    #01\n",
    "    #0110\n",
    "    # Base case\n",
    "    if n==1:\n",
    "        return 0\n",
    "    # do this because each subsequent row is twice as longs as the previous row\n",
    "    length = 2**(n-1)\n",
    "    # determine if kth symbol is on the first half or second half\n",
    "    mid = length // 2\n",
    "    # checks condition\n",
    "    if k <=mid:\n",
    "        # decrement n and return the value at k position\n",
    "        return kth_symbol(n-1, k)\n",
    "    else:\n",
    "        # k-mid resets the index. So, we get a value from the first half of the list\n",
    "        return int(not kth_symbol(n-1, k-mid))\n",
    "\n",
    "if __name__ == '__main__':\n",
    "    result = kth_symbol(2,3)\n",
    "    print(result)\n"
   ]
  },
  {
   "cell_type": "markdown",
   "metadata": {},
   "source": [
    "- 0: n =1, length =1\n",
    "- 01: n=2, lenght = 2\n",
    "- 0110: n=3, length = 4\n",
    "- 01101001: n=4, length = 8\n",
    "- 01101001: n=5, length = 16"
   ]
  },
  {
   "cell_type": "markdown",
   "metadata": {},
   "source": [
    "### Complexity Analysis\n",
    "Time Complexity = O(n)\n",
    "Space Complexity = O(n)\n"
   ]
  },
  {
   "cell_type": "markdown",
   "metadata": {},
   "source": [
    "# Problem 2\n",
    "Josephus problem: Find the Winner of the Circular Game. \\\n",
    "There are n friends that are playing a game. The friends are sitting in a circle and are numbered from 1 to n in clockwise order. More formally, moving clockwise from the ith firend brings you to the (i+1)th friend for 1 <= i< n, and moving clockwise from the nth friend brings you to the 1st friend. \n",
    "The fules of the game are as follows:\n",
    "1. Start at the 1st friend\n",
    "2. Count the next k friends in the clockwise direction inclding the friend you started at. The counting wraps around the circle and may count some friends more than once. \n",
    "3. The last friend you counted leaves the cirlce and loses the game. \n",
    "4. If there is still more than one friend in the circle, go back to step 2 starting from the friend immediately clockwise of the friend who just lost and repeat.\n",
    "5. Else, the last friend in the circle wins the game.\n",
    "\n",
    "Given the number of friends , n, and an integer k, return the winner of the game\n"
   ]
  },
  {
   "cell_type": "markdown",
   "metadata": {},
   "source": [
    "#### Pseudocode\n",
    "start at the first friend\\\n",
    "count all the friend you have in clockwise order\\\n",
    "the kth friend you count loses the game\\\n",
    "if length is greater than 1\\\n",
    "count again and elimate kth friend\\\n",
    "if lenght ==1\\\n",
    "    kth friend wins\\\n",
    "\n",
    "#### Test Cases\n",
    "n =1\n",
    "k=3\n",
    "output = 1\\\n",
    "n=2\n",
    "k=3\n",
    "output = 2\\\n",
    "n=3\n",
    "k=3\n",
    "output = 2\\\n",
    "n=4\n",
    "k=3\n",
    "ouput=1"
   ]
  },
  {
   "cell_type": "markdown",
   "metadata": {},
   "source": [
    "### Approaches\n",
    "1. Approach 1 -> T=O(n), S=O(n)\n",
    "- Notice the problem is defined recursively\n",
    " array = [1,2,3,4...n]\n",
    " def winner(array, start)\n",
    " if len(array) ==1:\n",
    "    return array[0]\n",
    "remove = [start + k-1] % length\n",
    "remove -> array[remove]\n",
    "winner(array, remove)\n",
    "\n",
    "### Complexity Analysis\n",
    "- everytime we call the function 1 element is deleted\n",
    "- So will have to call the funciton n times\n",
    "- Time: O(n^2)\n",
    "- Space: O(n) we are creating the input size of the array"
   ]
  },
  {
   "cell_type": "code",
   "execution_count": 84,
   "metadata": {},
   "outputs": [
    {
     "name": "stdout",
     "output_type": "stream",
     "text": [
      "2\n"
     ]
    }
   ],
   "source": [
    "def findTheWinner(n,k):\n",
    "    # creating n =4, array = [1,2,3,4]\n",
    "    arr = [i+1 for i in range(n)]\n",
    "\n",
    "    def helper(arr, start_idx):\n",
    "        # base condition\n",
    "        if len(arr) == 1:\n",
    "            return arr[0]\n",
    "        # recursive case\n",
    "        idx_to_remove = (start_idx + k-1)%len(arr)\n",
    "        del arr[idx_to_remove]\n",
    "        return helper(arr, idx_to_remove)\n",
    "    return helper(arr, 0)\n",
    "res = findTheWinner(3,3)\n",
    "print(res)\n"
   ]
  },
  {
   "cell_type": "markdown",
   "metadata": {},
   "source": [
    "### Approach 2\n",
    "- Q: Given n, K find winners\n",
    "- Think -> if you knew the winners for n-1, k can you find winner for n,k\n",
    "Build Intuition\n",
    "k = 3\n",
    "1,2,3,4,5\n",
    "1,2,4,5\n",
    "... we get 4\n",
    "## Pseudocode\n",
    "function winner(n,k)\n",
    "base case:\n",
    "if n ==1:\n",
    "return arr[0]\n",
    "recursion case:\n",
    "else:\n",
    "return [winner(n-1, k)+k] % n"
   ]
  },
  {
   "cell_type": "markdown",
   "metadata": {},
   "source": [
    "### Complexity Analysis\n",
    "Time: O(n)\\\n",
    "Space: O(n)"
   ]
  },
  {
   "cell_type": "code",
   "execution_count": 2,
   "metadata": {},
   "outputs": [
    {
     "name": "stdout",
     "output_type": "stream",
     "text": [
      "4\n"
     ]
    }
   ],
   "source": [
    "def findTheWinner(n,k):\n",
    "    arr = [i+1 for i in range(n)]\n",
    "    \n",
    "    def josephus(n):\n",
    "        if n ==1:\n",
    "            return 0\n",
    "        # recursive case\n",
    "        return (josephus(n-1) +k)%n\n",
    "    return josephus(n) + 1\n",
    "print(findTheWinner(5,3))"
   ]
  },
  {
   "cell_type": "markdown",
   "metadata": {},
   "source": [
    "### Aproach 3\n",
    "Time: O(n)\n",
    "Space: O(n)\n",
    "\n",
    "### Intiution\n",
    "n= 5, k = 3\n",
    "iterate n=2 to n = 5\n",
    "(n=1--> input = 0 +1)"
   ]
  },
  {
   "cell_type": "code",
   "execution_count": null,
   "metadata": {},
   "outputs": [],
   "source": [
    "def circular_game(n,k):\n",
    "    survivor = 0\n",
    "    for i in range(2, n=1):\n",
    "        survivor = (survivor +k)%i\n",
    "    return survivor +1\n",
    "    \n"
   ]
  },
  {
   "cell_type": "markdown",
   "metadata": {},
   "source": [
    "### Problem 3: Tower of Hanoi\n",
    "We have three rods and N disks. The objective of the puzzle is to move the entire stack to another rod. Initially, there discs are in the rod 1. You need to print all the steps of discs movement so that all the discs reach the 3rd rod. Also, find & return the toal moves. Note: The discs are arranged such that the top disc is numbered 1 and the bottom-most disc is numbered N. Also, all the discs have different sizes and a bigger disc cannot be put on top of a smaller disc. You can only move 1 disk at a time. \n",
    "\n"
   ]
  },
  {
   "cell_type": "markdown",
   "metadata": {},
   "source": [
    "### Method, Complexity Analysis\n",
    "1. 1 disk\n",
    "    - just move from rod 1 to rod 3\n",
    "2. 2 disk\n",
    "    - move disc 2 to rod 2 and now disc 1 to rod 3 finally move disc 2 to rod 3\n",
    "3. 3 disks\n",
    "    - from rod 1 move top most disk to rod 3, then from rod 1 move top most disk to rod 2. After, from rod 3 move top most disc to rod 2\n",
    "    and from rod 1 move top most disc to rod 3.  \n",
    "4. n disks"
   ]
  },
  {
   "attachments": {
    "image.png": {
     "image/png": "[encoded data removed]"
    }
   },
   "cell_type": "markdown",
   "metadata": {},
   "source": [
    "![image.png](attachment:image.png)"
   ]
  },
  {
   "cell_type": "code",
   "execution_count": 36,
   "metadata": {},
   "outputs": [
    {
     "name": "stdout",
     "output_type": "stream",
     "text": [
      "move disk 1 from rod A to rod C\n",
      "move disk 2 from rod A to rod B\n",
      "move disk 1 from rod C to rod B\n",
      "move disk 3 from rod A to rod C\n",
      "move disk 1 from rod B to rod A\n",
      "move disk 2 from rod B to rod C\n",
      "move disk 1 from rod A to rod C\n"
     ]
    },
    {
     "data": {
      "text/plain": [
       "7"
      ]
     },
     "execution_count": 36,
     "metadata": {},
     "output_type": "execute_result"
    }
   ],
   "source": [
    "def toh(n, from_rod, to_rod, aux_rod):\n",
    "    count = 0\n",
    "    def helper(n, from_rod, to_rod, aux_rod):\n",
    "        nonlocal count\n",
    "        if n ==1:\n",
    "            print(\"move disk \" + str(n) + ' from rod '+str(from_rod) + ' to rod '+str(to_rod))\n",
    "            count +=1\n",
    "            return\n",
    "        helper(n-1, from_rod, aux_rod, to_rod)\n",
    "        print(\"move disk \" + str(n) + \" from rod \" + str(from_rod) + \" to rod \" + str(to_rod))\n",
    "        count +=1\n",
    "        helper(n-1, aux_rod, to_rod, from_rod)\n",
    "    helper(n, from_rod, to_rod, aux_rod)\n",
    "    return count\n",
    "\n",
    "\n",
    "toh(3,'A', 'C', 'B')"
   ]
  },
  {
   "cell_type": "code",
   "execution_count": 50,
   "metadata": {},
   "outputs": [
    {
     "name": "stdout",
     "output_type": "stream",
     "text": [
      "move disk 1 from Start to End\n",
      "move disk 2 from Start to midpoint\n",
      "move disk 1 from End to midpoint\n",
      "move disk 3 from Start to End\n",
      "move disk 1 from midpoint to Start\n",
      "move disk 2 from midpoint to End\n",
      "move disk 1 from Start to End\n"
     ]
    },
    {
     "data": {
      "text/plain": [
       "2"
      ]
     },
     "execution_count": 50,
     "metadata": {},
     "output_type": "execute_result"
    }
   ],
   "source": [
    "def h(n, start, end, mid):\n",
    "    count = 0\n",
    "    \n",
    "    def move(n, start, end):\n",
    "        nonlocal count\n",
    "        print(\"move disk \" + str(n) + \" from \" + str(start) + \" to \" + str(end))\n",
    "        count += 1\n",
    "        return\n",
    "\n",
    "    if n == 1:\n",
    "        move(n, start, end)\n",
    "    else:\n",
    "        h(n-1, start, mid, end)\n",
    "        move(n, start, end)\n",
    "        count +=1\n",
    "        h(n-1, mid, end, start)\n",
    "\n",
    "    return count\n",
    "\n",
    "h(3, \"Start\", \"End\", \"midpoint\")"
   ]
  },
  {
   "cell_type": "markdown",
   "metadata": {},
   "source": [
    "1 hr \n",
    "- Dish core values\n",
    "- SHL vendor\n",
    "- two sections\n",
    "- paper pencil \n",
    "- calculation \n",
    "- pattern\n",
    "- logic question\n",
    "- \n",
    "2nd section\n",
    "- think about the core values from dish\n",
    "- take your time\n",
    "- evaluation for Dish's core values"
   ]
  },
  {
   "cell_type": "code",
   "execution_count": null,
   "metadata": {},
   "outputs": [],
   "source": []
  }
 ],
 "metadata": {
  "kernelspec": {
   "display_name": "tf2",
   "language": "python",
   "name": "python3"
  },
  "language_info": {
   "codemirror_mode": {
    "name": "ipython",
    "version": 3
   },
   "file_extension": ".py",
   "mimetype": "text/x-python",
   "name": "python",
   "nbconvert_exporter": "python",
   "pygments_lexer": "ipython3",
   "version": "3.10.9"
  }
 },
 "nbformat": 4,
 "nbformat_minor": 2
}
