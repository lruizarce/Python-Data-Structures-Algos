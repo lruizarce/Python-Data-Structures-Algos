{
 "cells": [
  {
   "cell_type": "markdown",
   "metadata": {},
   "source": [
    "# K-th Symbol in Grammar\n",
    "We build a table of n rows(1-indexed). We start by writing 0 in the 1st row. Now in every subsequent row, we look at the previous row and replace each occurren e of 0 with 01, and each occurrence of 1 with 10. \n",
    "\n",
    "For example, for n = 3, the 1st row is 0, the 2nd row is 01, and the 3rd row is 0110.\n",
    "\n",
    "Given two integer n and k, return the kth (1-indexed) symbol in the nth row of a table of n rows. "
   ]
  },
  {
   "cell_type": "code",
   "execution_count": null,
   "metadata": {},
   "outputs": [],
   "source": []
  }
 ],
 "metadata": {
  "kernelspec": {
   "display_name": "tf2",
   "language": "python",
   "name": "python3"
  },
  "language_info": {
   "codemirror_mode": {
    "name": "ipython",
    "version": 3
   },
   "file_extension": ".py",
   "mimetype": "text/x-python",
   "name": "python",
   "nbconvert_exporter": "python",
   "pygments_lexer": "ipython3",
   "version": "3.10.9"
  }
 },
 "nbformat": 4,
 "nbformat_minor": 2
}
