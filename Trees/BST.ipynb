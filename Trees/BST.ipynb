{
 "cells": [
  {
   "cell_type": "markdown",
   "metadata": {},
   "source": [
    "## The Node Class\n",
    "To implement a BST, the first thing you’d need is a node. A node should have a value, a left child, a right child, and a parent. This node can be implemented as a Python class and here is the code."
   ]
  },
  {
   "cell_type": "code",
   "execution_count": 10,
   "metadata": {},
   "outputs": [],
   "source": [
    "class Node:\n",
    "    def __init__(self, val: int):\n",
    "        self.val = val\n",
    "        self.left = None\n",
    "        self.right = None\n",
    "        self.parent = None"
   ]
  },
  {
   "cell_type": "markdown",
   "metadata": {},
   "source": [
    "## The BinarySearchTree Class"
   ]
  },
  {
   "cell_type": "code",
   "execution_count": 11,
   "metadata": {},
   "outputs": [
    {
     "name": "stdout",
     "output_type": "stream",
     "text": [
      "6\n"
     ]
    }
   ],
   "source": [
    "class BinarySearchTree:\n",
    "    def __init__(self, val) -> None:\n",
    "        self.root = Node(val)\n",
    "        \n",
    "bst = BinarySearchTree(6)\n",
    "print(bst.root.val)"
   ]
  },
  {
   "cell_type": "markdown",
   "metadata": {},
   "source": [
    "## Binary Search Tree Insertion Algorithm\n",
    "Here is a description of the algorithm you’d use to insert a new value into a BST.\n",
    "\n",
    "Start from the root node\n",
    "\n",
    "Check if the value to be inserted is greater than the root/current node’s value\n",
    "\n",
    "If yes, then repeat the steps above for the right subtree, otherwise repeat the steps above for the left sub-tree of the current node.\n",
    "\n",
    "Repeat until you find a node that has no right/left child to move onto. Insert the given value there and update the parent node accordingly."
   ]
  },
  {
   "cell_type": "code",
   "execution_count": null,
   "metadata": {},
   "outputs": [],
   "source": [
    "\n",
    "class Node:\n",
    "    def __init__(self, val: int):\n",
    "        self.val = val\n",
    "        self.left = None\n",
    "        self.right = None\n",
    "        self.parent = None\n",
    "        \n",
    "    def insert(self, val:int)-> None:\n",
    "        \"\"\"\n",
    "        Inserts a new node with the given value into the binary search tree.\n",
    "        Args:\n",
    "            val (int): The value to be inserted into the tree.\n",
    "        The method starts at the root of the tree and traverses down to find the correct\n",
    "        position for the new node. It compares the value to be inserted with the current\n",
    "        node's value and moves to the left child if the value is smaller, or to the right\n",
    "        child if the value is larger. Once the correct position is found, the new node is\n",
    "        inserted as a left or right child of the parent node.\n",
    "        \"\"\"\n",
    "        curr = self\n",
    "        parent = None\n",
    "        \n",
    "        while curr:\n",
    "            parent = curr\n",
    "            if val < curr.val:\n",
    "                curr = curr.left\n",
    "            else:\n",
    "                curr = curr.right\n",
    "                \n",
    "        if val < parent.val:\n",
    "            parent.left = Node(val)\n",
    "        else:\n",
    "            parent.right = Node(val)\n",
    "            \n",
    "    def search(self, val: int)-> None:\n",
    "        curr = self\n",
    "        while curr:\n",
    "            if val < curr.val:\n",
    "                curr = curr.left\n",
    "            elif val > curr.val:\n",
    "                curr = curr.right\n",
    "            else:\n",
    "                return True\n",
    "        return False\n",
    "            \n",
    "        \n",
    "    def delete(self,val:int) -> None:\n",
    "        pass\n",
    "class BinarySearchTree:\n",
    "    def __init__(self, val) -> None:\n",
    "        self.root = Node(val)\n",
    "        \n",
    "            "
   ]
  },
  {
   "cell_type": "code",
   "execution_count": null,
   "metadata": {},
   "outputs": [],
   "source": []
  },
  {
   "cell_type": "code",
   "execution_count": null,
   "metadata": {},
   "outputs": [],
   "source": []
  }
 ],
 "metadata": {
  "kernelspec": {
   "display_name": "tf2",
   "language": "python",
   "name": "python3"
  },
  "language_info": {
   "codemirror_mode": {
    "name": "ipython",
    "version": 3
   },
   "file_extension": ".py",
   "mimetype": "text/x-python",
   "name": "python",
   "nbconvert_exporter": "python",
   "pygments_lexer": "ipython3",
   "version": "3.10.14"
  }
 },
 "nbformat": 4,
 "nbformat_minor": 2
}
