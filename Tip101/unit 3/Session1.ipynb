{
 "cells": [
  {
   "cell_type": "code",
   "execution_count": 5,
   "metadata": {},
   "outputs": [
    {
     "name": "stdout",
     "output_type": "stream",
     "text": [
      "1 mississippi\n",
      "2 mississippi\n",
      "3 mississippi\n",
      "4 mississippi\n",
      "5 mississippi\n"
     ]
    }
   ],
   "source": [
    "def count_mississippi(limit):\n",
    "    for num in range(1, limit+1):\n",
    "        print(f\"{num} mississippi\")\n",
    "        \n",
    "count_mississippi(5)"
   ]
  },
  {
   "cell_type": "code",
   "execution_count": 40,
   "metadata": {},
   "outputs": [
    {
     "name": "stdout",
     "output_type": "stream",
     "text": [
      "toab\n"
     ]
    }
   ],
   "source": [
    "def swap_ends(myStr):\n",
    "    start = myStr[0]\n",
    "    end = myStr[-1]\n",
    "    middle = myStr[1:-1]\n",
    "    return end+middle+start\n",
    "\n",
    "\n",
    "myStr = \"boat\"\n",
    "swapped = swap_ends(myStr)\n",
    "print(swapped)"
   ]
  },
  {
   "cell_type": "code",
   "execution_count": 43,
   "metadata": {},
   "outputs": [
    {
     "name": "stdout",
     "output_type": "stream",
     "text": [
      "True\n",
      "False\n"
     ]
    }
   ],
   "source": [
    "def is_pangram(myStr):\n",
    "    \n",
    "    alphabet = \"abcdefghijklmnopqrstuvwxyz\"\n",
    "    for char in alphabet:\n",
    "        if char not in myStr.lower():\n",
    "            return False\n",
    "    return True\n",
    "\n",
    "myStr = \"The quick brown fox jumps over the lazy dog\"\n",
    "print(is_pangram(myStr))\n",
    "\n",
    "str2 = \"The dog jumped\"\n",
    "print(is_pangram(str2))"
   ]
  },
  {
   "cell_type": "code",
   "execution_count": 47,
   "metadata": {},
   "outputs": [
    {
     "name": "stdout",
     "output_type": "stream",
     "text": [
      "evil\n"
     ]
    }
   ],
   "source": [
    "def reverse_string(myStr):\n",
    "    return myStr[::-1]\n",
    "                \n",
    "\n",
    "myStr = \"live\"\n",
    "print(reverse_string(myStr))"
   ]
  },
  {
   "cell_type": "code",
   "execution_count": 52,
   "metadata": {},
   "outputs": [
    {
     "name": "stdout",
     "output_type": "stream",
     "text": [
      "0\n",
      "2\n",
      "-1\n"
     ]
    }
   ],
   "source": [
    "def first_unique_char(myStr):\n",
    "    seen = {}\n",
    "    \n",
    "    for char in myStr.lower():\n",
    "        if char not in seen:\n",
    "            seen[char] = 1\n",
    "        else:\n",
    "            seen[char] +=1\n",
    "    \n",
    "    for i, j in enumerate(seen):\n",
    "        if seen[j] ==1:\n",
    "            return i\n",
    "    return -1\n",
    "            \n",
    "        \n",
    "            \n",
    "\n",
    "myStr = \"leetcode\"\n",
    "print(first_unique_char(myStr))\n",
    "\n",
    "str2 = \"loveleetcode\"\n",
    "print(first_unique_char(str2))\n",
    "\n",
    "str3 = \"aabb\"\n",
    "print(first_unique_char(str3))"
   ]
  },
  {
   "cell_type": "code",
   "execution_count": 10,
   "metadata": {},
   "outputs": [
    {
     "name": "stdout",
     "output_type": "stream",
     "text": [
      "3\n",
      "1\n",
      "-1\n"
     ]
    }
   ],
   "source": [
    "def min_distance(words, word1, word2):\n",
    "    index1, index2 = -1, -1\n",
    "    min_dist = len(words)  # Use the length of the list as the maximum possible distance\n",
    "    for i, word in enumerate(words):\n",
    "        if word == word1:\n",
    "            index1 = i\n",
    "            if index2 != -1:\n",
    "                min_dist = min(min_dist, index1 - index2)\n",
    "        elif word == word2:\n",
    "            index2 = i\n",
    "            if index1 != -1:\n",
    "                min_dist = min(min_dist, index2 - index1)\n",
    "    return min_dist if min_dist != len(words) else -1\n",
    "\n",
    "\n",
    "words = [\"the\", \"quick\", \"brown\", \"fox\", \"jumped\", \"the\"]\n",
    "dist1 = min_distance(words, \"quick\", \"jumped\")\n",
    "dist2 = min_distance(words, \"the\", \"jumped\")\n",
    "print(dist1)\n",
    "print(dist2)\n",
    "\n",
    "words2 = [\"code\", \"path\", \"code\", \"contribute\", \"practice\"]\n",
    "dist3 = min_distance(words, \"code\", \"practice\")\n",
    "print(dist3)"
   ]
  },
  {
   "cell_type": "code",
   "execution_count": 12,
   "metadata": {},
   "outputs": [
    {
     "name": "stdout",
     "output_type": "stream",
     "text": [
      "Peanut butter and Jelly are a perfect match.\n",
      "Spongebob and Patrick are a perfect match.\n",
      "Ash and Pikachu are a perfect match.\n"
     ]
    }
   ],
   "source": [
    "def match_made(dictionary):\n",
    "    for key, value in dictionary.items():\n",
    "        print(f\"{key} and {value} are a perfect match.\")\n",
    "\n",
    "dictionary = {\n",
    "    \"Peanut butter\": \"Jelly\",\n",
    "    \"Spongebob\": \"Patrick\",\n",
    "    \"Ash\": \"Pikachu\",\n",
    "}\n",
    "match_made(dictionary)"
   ]
  },
  {
   "cell_type": "code",
   "execution_count": 37,
   "metadata": {},
   "outputs": [
    {
     "name": "stdout",
     "output_type": "stream",
     "text": [
      "typo\n"
     ]
    }
   ],
   "source": [
    "def remove_char(s, n):\n",
    "    new_str = ''\n",
    "    for idx, char in enumerate(s):\n",
    "        if idx != n:\n",
    "            new_str += char\n",
    "    return new_str\n",
    "            \n",
    "\n",
    "s = \"typpo\"\n",
    "fixed_s = remove_char(s, 2)\n",
    "print(fixed_s)"
   ]
  },
  {
   "cell_type": "code",
   "execution_count": 39,
   "metadata": {},
   "outputs": [
    {
     "name": "stdout",
     "output_type": "stream",
     "text": [
      "3\n",
      "10\n",
      "0\n"
     ]
    }
   ],
   "source": [
    "def vowel_count(s):\n",
    "    vowels = 'aeiou'\n",
    "    k = 0\n",
    "    for char in s.lower():\n",
    "        if char in vowels:\n",
    "            k +=1\n",
    "    return k\n",
    "\n",
    "myStr = \"hello world\"\n",
    "myStr2 = \"aAaAaAaAAA\"\n",
    "myStr3 = \"ths strng s mssng vwls\"\n",
    "\n",
    "count1 = vowel_count(myStr)\n",
    "print(count1)\n",
    "count2 = vowel_count(myStr2)\n",
    "print(count2)\n",
    "count3 = vowel_count(myStr3)\n",
    "print(count3)"
   ]
  },
  {
   "cell_type": "code",
   "execution_count": 61,
   "metadata": {},
   "outputs": [
    {
     "data": {
      "text/plain": [
       "'good no to up am I swear solemnly I'"
      ]
     },
     "execution_count": 61,
     "metadata": {},
     "output_type": "execute_result"
    }
   ],
   "source": [
    "def reverse_sentence(sentence):\n",
    "    if len(sentence.split()) == 1:\n",
    "        return sentence\n",
    "    words = sentence.split(\" \")\n",
    "    rWords = words[::-1]\n",
    "    newStr = ' '.join(rWords)\n",
    "    return newStr\n",
    "    \n",
    "sentence = \"I solemnly swear I am up to no good\"\n",
    "reverse_sentence(sentence)"
   ]
  },
  {
   "cell_type": "code",
   "execution_count": 76,
   "metadata": {},
   "outputs": [
    {
     "name": "stdout",
     "output_type": "stream",
     "text": [
      "a5b2c3d1\n",
      "abcde\n"
     ]
    }
   ],
   "source": [
    "def compress_string(myStr):\n",
    "    if not myStr:\n",
    "        return \"\"\n",
    "    result = \"\"\n",
    "    count = 1\n",
    "    current_char = myStr[0]\n",
    "    for i in range(1, len(myStr)):\n",
    "        if myStr[i] == current_char:\n",
    "            count += 1\n",
    "        else:\n",
    "            result += current_char + str(count)\n",
    "            current_char = myStr[i]\n",
    "            count = 1\n",
    "    result += current_char + str(count)\n",
    "    if len(result) < len(myStr):\n",
    "        return result\n",
    "    else:\n",
    "        return myStr\n",
    "\n",
    "\n",
    "myStr = \"aaaaabbcccd\"\n",
    "compressed_Str = compress_string(myStr)\n",
    "print(compressed_Str)\n",
    "\n",
    "myStr2 = \"abcde\"\n",
    "compressed_Str2 = compress_string(myStr2)\n",
    "print(compressed_Str2)"
   ]
  },
  {
   "cell_type": "code",
   "execution_count": 88,
   "metadata": {},
   "outputs": [
    {
     "name": "stdout",
     "output_type": "stream",
     "text": [
      "2\n",
      "-1\n"
     ]
    }
   ],
   "source": [
    "import re\n",
    "def find_the_needle(haystack, needle):\n",
    "    return haystack.find(needle)\n",
    "        \n",
    "\n",
    "\n",
    "haystack = \"tobeornottobe\"\n",
    "needle = \"be\"\n",
    "print(find_the_needle(haystack, needle))\n",
    "\n",
    "haystack2 = \"leetcode\"\n",
    "needle2 = \"leeto\"\n",
    "print(find_the_needle(haystack2, needle2))"
   ]
  },
  {
   "cell_type": "code",
   "execution_count": 95,
   "metadata": {},
   "outputs": [
    {
     "name": "stdout",
     "output_type": "stream",
     "text": [
      "Pikachu I choose you!\n",
      "Charizard I choose you!\n",
      "Eevee I choose you!\n"
     ]
    }
   ],
   "source": [
    "def choose_pokemon(my_pokemon):\n",
    "\tfor pokemon in my_pokemon:\n",
    "\t\tprint(f'{pokemon} I choose you!')\n",
    "  \n",
    "choose_pokemon(['Pikachu','Charizard', 'Eevee'])"
   ]
  },
  {
   "cell_type": "code",
   "execution_count": 102,
   "metadata": {},
   "outputs": [
    {
     "name": "stdout",
     "output_type": "stream",
     "text": [
      "tationro\n"
     ]
    }
   ],
   "source": [
    "def rotate_left(s, n):\n",
    "    \n",
    "    return s[n:] + s[:n]\n",
    "\n",
    "s = \"rotation\"\n",
    "print(rotate_left(s, 2))"
   ]
  },
  {
   "cell_type": "code",
   "execution_count": 123,
   "metadata": {},
   "outputs": [
    {
     "name": "stdout",
     "output_type": "stream",
     "text": [
      "3\n",
      "5\n",
      "None\n"
     ]
    }
   ],
   "source": [
    "def first_repeated_char(s):\n",
    "    seen = []\n",
    "    for idx, char in enumerate(s):\n",
    "        if char in seen:\n",
    "            return idx\n",
    "        seen.append(char)\n",
    "    return None            \n",
    "        \n",
    "           \n",
    "\n",
    "s = \"hello world\"\n",
    "s2 = \"aAbBCC\"\n",
    "s3 = \"abcdefg\"\n",
    "\n",
    "print(first_repeated_char(s))\n",
    "print(first_repeated_char(s2))\n",
    "print(first_repeated_char(s3))"
   ]
  },
  {
   "cell_type": "code",
   "execution_count": 125,
   "metadata": {},
   "outputs": [
    {
     "name": "stdout",
     "output_type": "stream",
     "text": [
      "e\n"
     ]
    }
   ],
   "source": [
    "def find_difference(s1, s2):\n",
    "    missing = None\n",
    "    for char in s2:\n",
    "        if char not in s1:\n",
    "            missing = char\n",
    "    return missing\n",
    "        \n",
    "\n",
    "s1 = \"abcd\"\n",
    "s2 = \"baedc\"\n",
    "print(find_difference(s1, s2))"
   ]
  },
  {
   "cell_type": "code",
   "execution_count": 129,
   "metadata": {},
   "outputs": [
    {
     "name": "stdout",
     "output_type": "stream",
     "text": [
      "30\n"
     ]
    }
   ],
   "source": [
    "def sum_of_number_strings(nums):\n",
    "    total = 0\n",
    "    for i in nums:\n",
    "        total = int(i)\n",
    "    return total\n",
    "\n",
    "nums = [\"10\", \"20\", \"30\"]\n",
    "sum = sum_of_number_strings(nums)\n",
    "print(sum)"
   ]
  },
  {
   "cell_type": "code",
   "execution_count": 131,
   "metadata": {},
   "outputs": [
    {
     "data": {
      "text/plain": [
       "{1, 2, 3, 4, 5, 6}"
      ]
     },
     "execution_count": 131,
     "metadata": {},
     "output_type": "execute_result"
    }
   ],
   "source": [
    "def remove_duplicates(nums):\n",
    "    seen = set()\n",
    "    \n",
    "    for i in nums:\n",
    "        seen.add(i)\n",
    "    return seen\n",
    "\n",
    "remove_duplicates(nums=[1, 1, 1, 2, 3, 4, 4, 5, 6, 6])"
   ]
  },
  {
   "cell_type": "code",
   "execution_count": 153,
   "metadata": {},
   "outputs": [
    {
     "name": "stdout",
     "output_type": "stream",
     "text": [
      "j-Ih-gfE-dCba\n"
     ]
    }
   ],
   "source": [
    "def reverse_only_letters(s):\n",
    "    res = []\n",
    "    for char in s:\n",
    "        if char.isalpha():\n",
    "            res.append(char)\n",
    "    newStr = \"\"\n",
    "    end = len(res)-1\n",
    "    for c in s:\n",
    "        if c.isalpha():\n",
    "            newStr += res[end]\n",
    "            end -=1\n",
    "        else:\n",
    "            newStr +=c\n",
    "    return newStr\n",
    "\n",
    "\n",
    "s = \"a-bC-dEf-ghIj\"\n",
    "reversed_s = reverse_only_letters(s)\n",
    "print(reversed_s)"
   ]
  },
  {
   "cell_type": "code",
   "execution_count": 182,
   "metadata": {},
   "outputs": [
    {
     "name": "stdout",
     "output_type": "stream",
     "text": [
      "4\n",
      "1\n"
     ]
    }
   ],
   "source": [
    "def longest_uniform_substring(s):\n",
    "    if not s:\n",
    "        return None\n",
    "    \n",
    "    maxCount = 1\n",
    "    currCount = 1\n",
    "    for i in range(1, len(s)):\n",
    "        if s[i] == s[i-1]:\n",
    "            currCount += 1\n",
    "            maxCount = max(currCount, maxCount)\n",
    "        else:\n",
    "            currCount = 1\n",
    "            \n",
    "\n",
    "    return maxCount\n",
    "\n",
    "\n",
    "s1 = \"aabbbbCdAA\"\n",
    "l1 = longest_uniform_substring(s1)\n",
    "print(l1)\n",
    "\n",
    "s2 = \"abcdef\"\n",
    "l2 = longest_uniform_substring(s2)\n",
    "print(l2)"
   ]
  },
  {
   "cell_type": "code",
   "execution_count": null,
   "metadata": {},
   "outputs": [],
   "source": [
    "def find_poisoned_duration(time_series, duration):\n",
    "    \n",
    "\n",
    "time_series = [1, 4, 9]\n",
    "damage = find_poisoned_duration(time_series, 3)\n",
    "print(damage)"
   ]
  }
 ],
 "metadata": {
  "kernelspec": {
   "display_name": "tf2",
   "language": "python",
   "name": "python3"
  },
  "language_info": {
   "codemirror_mode": {
    "name": "ipython",
    "version": 3
   },
   "file_extension": ".py",
   "mimetype": "text/x-python",
   "name": "python",
   "nbconvert_exporter": "python",
   "pygments_lexer": "ipython3",
   "version": "3.10.14"
  }
 },
 "nbformat": 4,
 "nbformat_minor": 2
}
