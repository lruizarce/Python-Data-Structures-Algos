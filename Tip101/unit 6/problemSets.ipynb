{
 "cells": [
  {
   "cell_type": "markdown",
   "metadata": {},
   "source": [
    "# Problem Set Version 1\n"
   ]
  },
  {
   "cell_type": "markdown",
   "metadata": {},
   "source": [
    "## Problem 1: Nested Constructors\n",
    "Step 1: Copy the following code into Replit.\n",
    "\n",
    "Step 2: Add a line of code (outside of the class) to create the linked list 4 -> 3 -> 2 in a single assignment statement.\n"
   ]
  },
  {
   "cell_type": "code",
   "execution_count": 15,
   "metadata": {},
   "outputs": [
    {
     "name": "stdout",
     "output_type": "stream",
     "text": [
      "3 -> 1 -> 2 -> 1\n"
     ]
    }
   ],
   "source": [
    "class Node:\n",
    "    def __init__(self, value, next=None):\n",
    "        self.value = value\n",
    "        self.next = next\n",
    "\n",
    "\n",
    "# Helper function to print the linked list\n",
    "def print_list(node):\n",
    "    current = node\n",
    "    while current:\n",
    "        print(current.value, end=\" -> \" if current.next else \"\")\n",
    "        current = current.next\n",
    "    print()\n",
    "\n",
    "\n",
    "head = Node(3,Node(1, Node(2, Node(1))))\n",
    "print_list(head)"
   ]
  },
  {
   "cell_type": "markdown",
   "metadata": {},
   "source": [
    "## Problem 2: Find Frequency\n",
    "\n",
    "Given the head of a linked list and a value val, return the frequency of val in the list. Evaluate the time and space complexity of your solution. Define your variables and provide a rationale for why you believe your solution has the stated time and space complexity."
   ]
  },
  {
   "cell_type": "code",
   "execution_count": 16,
   "metadata": {},
   "outputs": [
    {
     "name": "stdout",
     "output_type": "stream",
     "text": [
      "The frequency count for 1 is: 3\n"
     ]
    }
   ],
   "source": [
    "class Node:\n",
    "    def __init__(self, value, next=None):\n",
    "        self.value = value\n",
    "        self.next = next\n",
    "\n",
    "\n",
    "def count_element(head, val):\n",
    "    if not head:\n",
    "        return head\n",
    "\n",
    "    curr = head\n",
    "    freq_count = {}\n",
    "    while curr:\n",
    "        if curr.value in freq_count:\n",
    "            freq_count[curr.value] +=1\n",
    "        else:\n",
    "            freq_count[curr.value] = 1\n",
    "        curr = curr.next\n",
    "    \n",
    "    return print(f'The frequency count for {val} is: {freq_count[val]}')\n",
    "\n",
    "head = Node(3, Node(1, Node(2, Node(1, Node(1)))))\n",
    "b = count_element(head, 1)\n"
   ]
  },
  {
   "cell_type": "markdown",
   "metadata": {},
   "source": [
    "### Time & Space Complexity\n",
    "\n",
    "Considering we are traversing through the linkedlist once we can say that the time complexity is O(n) and the same can be said with the space complexity since we are adding every element in the linkedlist. "
   ]
  },
  {
   "cell_type": "markdown",
   "metadata": {},
   "source": [
    "## Problem 3: Remove Tail\n",
    "\n",
    "The following code attempts to remove the tail of a singly linked list. However, it has a bug!\n",
    "\n",
    "Step 1: Copy this code into Replit.\n",
    "\n",
    "Step 2: Create your own test cases to run the code against, and use print statements and the stack trace to identify and fix the bug so that the function correctly removes the tail of the list."
   ]
  },
  {
   "cell_type": "code",
   "execution_count": 17,
   "metadata": {},
   "outputs": [
    {
     "name": "stdout",
     "output_type": "stream",
     "text": [
      "1 -> 2 -> 3\n"
     ]
    }
   ],
   "source": [
    "class Node:\n",
    "    def __init__(self, value=None, next=None):\n",
    "        self.value = value\n",
    "        self.next = next\n",
    "\n",
    "\n",
    "# Helper function to print the linked list\n",
    "def print_list(node):\n",
    "    current = node\n",
    "    while current:\n",
    "        print(current.value, end=\" -> \" if current.next else \"\")\n",
    "        current = current.next\n",
    "    print()\n",
    "\n",
    "\n",
    "# I have a bug!\n",
    "def remove_tail(head):\n",
    "    if head is None or head.next is None:  # If the list is empty, return None\n",
    "        return head\n",
    "    \n",
    "\n",
    "    # Start from the head and find the second-to-last node\n",
    "    current = head\n",
    "    prev = None\n",
    "\n",
    "    while current.next:\n",
    "        prev = current\n",
    "        current = current.next\n",
    "\n",
    "    if current.next is not None or prev.next is not None:\n",
    "        prev.next = None\n",
    "        \n",
    "    return head\n",
    "\n",
    "head = Node(1, Node(2, Node(3, Node(4))))\n",
    "b = remove_tail(head)\n",
    "print_list(b)"
   ]
  },
  {
   "cell_type": "markdown",
   "metadata": {},
   "source": [
    "## Problem 4: Find the Middle\n",
    "A variation of the two-pointer technique introduced in Unit 4 is to have a slow and a fast pointer that increment at different rates. Given the head of a linked list, use the slow-fast pointer technique to find the middle node of a linked list. If there are two middle nodes, return the second middle node.\n",
    "\n",
    "Evaluate the time and space complexity of your solution. Define your variables and provide a rationale for why you believe your solution has the stated time and space complexity.\n"
   ]
  },
  {
   "cell_type": "code",
   "execution_count": 18,
   "metadata": {},
   "outputs": [
    {
     "name": "stdout",
     "output_type": "stream",
     "text": [
      "3\n"
     ]
    }
   ],
   "source": [
    "class Node:\n",
    "    def __init__(self, value, next=None):\n",
    "        self.value = value\n",
    "        self.next = next\n",
    "\n",
    "\n",
    "def find_middle_element(head):\n",
    "    if not head:\n",
    "        return head\n",
    "    \n",
    "    slow, fast = head, head\n",
    "    while fast and fast.next:\n",
    "        slow = slow.next\n",
    "        fast = fast.next.next\n",
    "    return slow\n",
    "\n",
    "head = Node(1, Node(2, Node(3, Node(4))))\n",
    "middle = find_middle_element(head)\n",
    "print(middle.value)"
   ]
  },
  {
   "cell_type": "markdown",
   "metadata": {},
   "source": [
    "#### Time & Space Complexity\n",
    "\n",
    "The time complexity is O(n) because we are iterating through the whole linkedlist. The space time compelxity is O(1) because we have two constant variables which are O(1 + 1) that ultimately simplifies to O(1). "
   ]
  },
  {
   "cell_type": "markdown",
   "metadata": {},
   "source": [
    "## Problem 5: Is Palindrome?\n",
    "Given the head of a singly linked list, return True if the values of the linked list are palindromic and False otherwise. Use the two-pointer technique in your solution.\n",
    "\n",
    "Evaluate the time and space complexity of your solution. Define your variables and provide a rationale for why you believe your solution has the stated time and space complexity."
   ]
  },
  {
   "cell_type": "code",
   "execution_count": 19,
   "metadata": {},
   "outputs": [
    {
     "data": {
      "text/plain": [
       "True"
      ]
     },
     "execution_count": 19,
     "metadata": {},
     "output_type": "execute_result"
    }
   ],
   "source": [
    "class Node:\n",
    "    def __init__(self, value, next=None):\n",
    "        self.value = value\n",
    "        self.next = next\n",
    "\n",
    "\n",
    "def is_palindrome(head):\n",
    "    if not head:\n",
    "        return head\n",
    "    \n",
    "    slow, fast = head, head\n",
    "    while fast and fast.next:\n",
    "        slow = slow.next\n",
    "        fast = fast.next.next\n",
    "        \n",
    "    prev = None\n",
    "    curr = slow\n",
    "    while curr:\n",
    "        new_node = curr.next\n",
    "        curr.next = prev\n",
    "        prev = curr\n",
    "        curr = new_node\n",
    "        \n",
    "    first_half = head\n",
    "    second_half = prev\n",
    "    while second_half:\n",
    "        if second_half.value != first_half.value:\n",
    "            return False\n",
    "        second_half = second_half.next\n",
    "        first_half = first_half.next\n",
    "    return True\n",
    "\n",
    "head = Node(3, Node(1, Node(3,)))\n",
    "is_palindrome(head)"
   ]
  },
  {
   "cell_type": "markdown",
   "metadata": {},
   "source": [
    "#### Time & Space Complexity\n",
    "\n",
    "The time complexity is O(n) because we are traversing through the linkedlist. The space time complexity is O(1) as no additional space proportional to the input size is used."
   ]
  },
  {
   "cell_type": "markdown",
   "metadata": {},
   "source": [
    "## Problem 6: Put in Reverse\n",
    "Given the head of a singly linked list, reverse the list, and return the reversed list. You must reverse the list in place. Return the head of the reversed list.\n",
    "\n",
    "Evaluate the time and space complexity of your solution. Define your variables and provide a rationale for why you believe your solution has the stated time and space complexity."
   ]
  },
  {
   "cell_type": "code",
   "execution_count": 20,
   "metadata": {},
   "outputs": [
    {
     "data": {
      "text/plain": [
       "3"
      ]
     },
     "execution_count": 20,
     "metadata": {},
     "output_type": "execute_result"
    }
   ],
   "source": [
    "class Node:\n",
    "    def __init__(self, value, next=None):\n",
    "        self.value = value\n",
    "        self.next = next\n",
    "\n",
    "\n",
    "def reverse(head):\n",
    "    if not head:\n",
    "        return head\n",
    "\n",
    "    prev = None\n",
    "    curr = head\n",
    "    while curr:\n",
    "        new_node = curr.next\n",
    "        curr.next = prev\n",
    "        prev = curr\n",
    "        curr = new_node\n",
    "    return prev.value\n",
    "\n",
    "\n",
    "head = Node(1, Node(2, Node(3)))\n",
    "reverse(head)"
   ]
  },
  {
   "cell_type": "markdown",
   "metadata": {},
   "source": [
    "# Problem Set Version 2"
   ]
  },
  {
   "cell_type": "markdown",
   "metadata": {},
   "source": [
    "## Problem 1: One to Many\n",
    "The assignment statement to the head variable below creates the linked list Mario -> Luigi -> Wario. Break apart the assignment statement into multiple lines with one call to the Node constructor per line to recreate the list."
   ]
  },
  {
   "cell_type": "code",
   "execution_count": 21,
   "metadata": {},
   "outputs": [
    {
     "name": "stdout",
     "output_type": "stream",
     "text": [
      "mario -> luigi -> wario\n"
     ]
    }
   ],
   "source": [
    "class Node:\n",
    "    def __init__(self, value, next=None):\n",
    "        self.value = value\n",
    "        self.next = next\n",
    "\n",
    "    def print_list(self, head):\n",
    "        if not head:\n",
    "            return None\n",
    "        current = head\n",
    "        while current:\n",
    "            print(current.value, end=\" -> \" if current.next else \"\")\n",
    "            current = current.next\n",
    "        print()\n",
    "\n",
    "wario = Node('wario')\n",
    "luigi = Node('luigi', wario)\n",
    "mario = Node('mario', luigi)\n",
    "print_list(mario)"
   ]
  },
  {
   "cell_type": "markdown",
   "metadata": {},
   "source": [
    "## Problem 2: Find Max\n",
    "Given the head of a linked list where each node is an integer value, return the maximum value in the linked list."
   ]
  },
  {
   "cell_type": "code",
   "execution_count": 22,
   "metadata": {},
   "outputs": [
    {
     "name": "stdout",
     "output_type": "stream",
     "text": [
      "5\n"
     ]
    }
   ],
   "source": [
    "class Node:\n",
    "    def __init__(self, value, next=None):\n",
    "        self.value = value\n",
    "        self.next = next\n",
    "\n",
    "    def find_max(self, head):\n",
    "        if not head:\n",
    "            return None\n",
    "\n",
    "        curr = head\n",
    "        maxVal = float('-inf')\n",
    "        while curr:\n",
    "            if curr.value > maxVal:\n",
    "                maxVal = curr.value\n",
    "            curr = curr.next\n",
    "        return maxVal\n",
    "\n",
    "head = Node(1, Node(2, Node(3, Node(4, Node(5)))))\n",
    "print(head.find_max(head))\n"
   ]
  },
  {
   "cell_type": "markdown",
   "metadata": {},
   "source": [
    "## Problem 3: Remove First Value\n",
    "The following code attempts to remove the first node with a given value from a singly linked list based but it contains a bug!\n",
    "\n",
    "Step 1: Copy this code into Replit.\n",
    "\n",
    "Step 2: Create your own test cases to run the code against, and use print statements and the stack trace to identify and fix the bug so that the function correctly removes a node by value from the list."
   ]
  },
  {
   "cell_type": "code",
   "execution_count": 23,
   "metadata": {},
   "outputs": [
    {
     "name": "stdout",
     "output_type": "stream",
     "text": [
      "Next: <__main__.Node object at 0x000001B8F039B340>\n",
      "1 -> 3 -> 4\n"
     ]
    }
   ],
   "source": [
    "class Node:\n",
    "    def __init__(self, value=None, next=None):\n",
    "        self.value = value\n",
    "        self.next = next\n",
    "\n",
    "\n",
    "# Helper function to print the linked list\n",
    "def print_list(node):\n",
    "    current = node\n",
    "    while current:\n",
    "        print(current.value, end=\" -> \" if current.next else \"\")\n",
    "        current = current.next\n",
    "    print()\n",
    "\n",
    "\n",
    "# Function with a bug!\n",
    "def remove_by_value(head, val):\n",
    "    if head is None:\n",
    "        return head\n",
    "\n",
    "    # If the node to be removed is the head of the list\n",
    "    if head.value == val:\n",
    "        return head.next\n",
    "\n",
    "    # Initialize pointers\n",
    "    current = head.next\n",
    "    previous = head\n",
    "\n",
    "    while current:  # FIXED: Changed from current.next to current\n",
    "        print(\n",
    "            f\"Next: {current.next}\"\n",
    "        )  # Should show that we don't iterate over last node in list\n",
    "        if current.value == val:\n",
    "            previous.next = current.next\n",
    "            return head\n",
    "        previous = current\n",
    "        current = current.next\n",
    "\n",
    "    return head\n",
    "\n",
    "\n",
    "head = Node(1, Node(2, Node(3, Node(4))))\n",
    "a = remove_by_value(head, 2)\n",
    "print_list(a)"
   ]
  },
  {
   "cell_type": "markdown",
   "metadata": {},
   "source": [
    "## Problem 4: MIddle Match\n",
    "A variation of the two-pointer technique introduced in Unit 4 is to have a slow and a fast pointer that increment at different rates. Given the head of a linked list, and a value val, use the slow-fast pointer technique to determine if val matches the middle node of the list. If there are two middle nodes, return True if the second middle node matches the value val.\n",
    "\n",
    "Evaluate the time and space complexity of your solution. Define your variables and provide a rationale for why you believe your solution has the stated time and space complexity.\n"
   ]
  },
  {
   "cell_type": "code",
   "execution_count": 24,
   "metadata": {},
   "outputs": [
    {
     "name": "stdout",
     "output_type": "stream",
     "text": [
      "True\n"
     ]
    },
    {
     "data": {
      "text/plain": [
       "False"
      ]
     },
     "execution_count": 24,
     "metadata": {},
     "output_type": "execute_result"
    }
   ],
   "source": [
    "class Node:\n",
    "    def __init__(self, value, next=None):\n",
    "        self.value = value\n",
    "        self.next = next\n",
    "\n",
    "\n",
    "def middle_match(head, val):\n",
    "    if not head:\n",
    "        return head\n",
    "    slow, fast = head, head\n",
    "    while fast and fast.next:\n",
    "        slow = slow.next\n",
    "        fast = fast.next.next\n",
    "    \n",
    "    if slow.value == val:\n",
    "        return True\n",
    "    return False\n",
    "\n",
    "node_1 = Node(1, Node(2, Node(3)))\n",
    "print(middle_match(node_1, 2))\n",
    "head2 = Node(1, Node(2, Node(3, Node(4))))\n",
    "middle_match(head2, 2)"
   ]
  },
  {
   "cell_type": "markdown",
   "metadata": {},
   "source": [
    "#### Space & Time Complexity\n",
    "\n",
    "Given that we are iterating through the linkedlist we can say that the time complexity is O(n). The space complexity is O(1) because the space is less than the input size"
   ]
  },
  {
   "cell_type": "markdown",
   "metadata": {},
   "source": [
    "## Problem 5: Where Do We Begin?\n",
    "\n",
    "A linked list contains a cycle if the tail element points back to another element in the list. Given the head of a linked list, use the fast and slow pointer method to determine the node where the cycle starts. If the linked list does not contain a cycle, return None.\n",
    "\n",
    "Evaluate the time and space complexity of your solution. Define your variables and provide a rationale for why you believe your solution has the stated time and space complexity."
   ]
  },
  {
   "cell_type": "code",
   "execution_count": 25,
   "metadata": {},
   "outputs": [],
   "source": [
    "class Node:\n",
    "    def __init__(self, value, next=None):\n",
    "        self.value = value\n",
    "        self.next = next\n",
    "        \n",
    "    def find_loop_start(self, meet_point, head):\n",
    "        \"\"\"\n",
    "        Finds the start of a loop in a linked list.\n",
    "\n",
    "        Parameters:\n",
    "        - meet_point: The node where the slow and fast pointers meet.\n",
    "        - head: The head node of the linked list.\n",
    "\n",
    "        Returns:\n",
    "        - The node where the loop starts.\n",
    "\n",
    "        \"\"\"\n",
    "        slow2 = head\n",
    "        while slow2 != meet_point:\n",
    "            slow2 = slow2.next\n",
    "            meet_point = meet_point.next\n",
    "        return slow2\n",
    "    \n",
    "    def get_loop_start(self, head):\n",
    "        if not head:\n",
    "            return head\n",
    "\n",
    "        slow, fast = head, head\n",
    "\n",
    "        while fast and fast.next:\n",
    "            slow = slow.next\n",
    "            fast = fast.next.next\n",
    "            # This checks if they meet\n",
    "            if slow == fast:\n",
    "                return self.get_loop_start(slow, head)\n",
    "        \n",
    "        return None\n",
    "\n"
   ]
  },
  {
   "cell_type": "markdown",
   "metadata": {},
   "source": [
    "#### Space & Time Complexity\n",
    "The time complexity is O(n) because we are iterating through the size of the input which in this case is the linkedlist of size 4. \n",
    "The space complexity is O(1) because we are using two pointers that will not scale in size. "
   ]
  },
  {
   "cell_type": "markdown",
   "metadata": {},
   "source": [
    "## Problem 6: Was That a Crit?\n",
    "Given the head of a singly linked list, return the number of critical points. A critical point is a local minima or maxima. - The head and tail nodes are not considered critical points. - A node is a local minima if both the next and previous elements are greater than the current element - A node is a local maxima if both the next and previous elements are greater than the current element.\n",
    "\n",
    "Evaluate the time and space complexity of your solution. Define your variables and provide a rationale for why y"
   ]
  },
  {
   "cell_type": "code",
   "execution_count": 26,
   "metadata": {},
   "outputs": [
    {
     "name": "stdout",
     "output_type": "stream",
     "text": [
      "2\n"
     ]
    }
   ],
   "source": [
    "# 1, 1, 1 return None\n",
    "# 1, 2, 3 return local minima\n",
    "# 1, 3, 2 return local maxima\n",
    "\n",
    "\n",
    "\n",
    "class Node:\n",
    "    def __init__(self, value, next=None):\n",
    "        self.value = value\n",
    "        self.next = next\n",
    "\n",
    "\n",
    "    def count_critical_points(self, head):\n",
    "        # Checks if the linkedlist is of at least size 3\n",
    "        if head.next is None or head.next.next is None:\n",
    "            return []\n",
    "        # points to the head of the linked list\n",
    "        prev = head\n",
    "        # points to the second node\n",
    "        curr = head.next\n",
    "        # points to the third node\n",
    "        next_node = head.next.next\n",
    "        cpCounter = 0\n",
    "\n",
    "        # while there is a third node we continue\n",
    "        while next_node:\n",
    "            # checks for local minima\n",
    "            if curr.value < prev.value and curr.value < next_node.value:\n",
    "                cpCounter +=1\n",
    "                # checks for local maxima\n",
    "            if curr.value > prev.value and curr.value > next_node.value:\n",
    "                cpCounter +=1\n",
    "            # slides window\n",
    "            prev = curr\n",
    "            curr = curr.next\n",
    "            # Prevents when accessing attributes of `Nonetype`\n",
    "            next_node = curr.next if curr else None\n",
    "        return cpCounter\n",
    "\n",
    "head = Node(1, Node(2, Node(3, Node(3, Node(3, Node(5, Node(1, Node(3))))))))\n",
    "cp = head.count_critical_points(head)\n",
    "print(cp)\n",
    "                \n",
    "            \n",
    "            "
   ]
  },
  {
   "cell_type": "code",
   "execution_count": 27,
   "metadata": {},
   "outputs": [
    {
     "ename": "NameError",
     "evalue": "name 'next_node' is not defined",
     "output_type": "error",
     "traceback": [
      "\u001b[1;31m---------------------------------------------------------------------------\u001b[0m",
      "\u001b[1;31mNameError\u001b[0m                                 Traceback (most recent call last)",
      "Cell \u001b[1;32mIn[27], line 1\u001b[0m\n\u001b[1;32m----> 1\u001b[0m \u001b[38;5;28;01mwhile\u001b[39;00m \u001b[43mnext_node\u001b[49m:\n\u001b[0;32m      2\u001b[0m     \u001b[38;5;28;01mif\u001b[39;00m (current\u001b[38;5;241m.\u001b[39mvalue \u001b[38;5;241m>\u001b[39m prev_node\u001b[38;5;241m.\u001b[39mvalue \u001b[38;5;129;01mand\u001b[39;00m current\u001b[38;5;241m.\u001b[39mvalue \u001b[38;5;241m>\u001b[39m next_node\u001b[38;5;241m.\u001b[39mvalue) \u001b[38;5;129;01mor\u001b[39;00m (\n\u001b[0;32m      3\u001b[0m         current\u001b[38;5;241m.\u001b[39mvalue \u001b[38;5;241m<\u001b[39m prev_node\u001b[38;5;241m.\u001b[39mvalue \u001b[38;5;129;01mand\u001b[39;00m current\u001b[38;5;241m.\u001b[39mvalue \u001b[38;5;241m<\u001b[39m next_node\u001b[38;5;241m.\u001b[39mvalue\n\u001b[0;32m      4\u001b[0m     ):\n\u001b[0;32m      5\u001b[0m         count \u001b[38;5;241m+\u001b[39m\u001b[38;5;241m=\u001b[39m \u001b[38;5;241m1\u001b[39m\n",
      "\u001b[1;31mNameError\u001b[0m: name 'next_node' is not defined"
     ]
    }
   ],
   "source": [
    "while next_node:\n",
    "    if (current.value > prev_node.value and current.value > next_node.value) or (\n",
    "        current.value < prev_node.value and current.value < next_node.value\n",
    "    ):\n",
    "        count += 1\n",
    "    # Move to the next set of nodes\n",
    "    prev_node = current\n",
    "    current = next_node\n",
    "    next_node = next_node.next"
   ]
  },
  {
   "cell_type": "markdown",
   "metadata": {},
   "source": [
    "#### Space & Time Complexity\n",
    "The time complexity is O(n) because we are traversing through the entire linked list at worst case.\n",
    "The space complexity is O(1) because we only have pointers that are not increasing in size as the input gets larger.\n"
   ]
  },
  {
   "cell_type": "markdown",
   "metadata": {},
   "source": [
    "# Problem Set Version 3"
   ]
  },
  {
   "cell_type": "markdown",
   "metadata": {},
   "source": [
    "## Problem 1: The Power of One\n",
    "\n",
    "The following code creates the linked list Ash -> Misty -> Brock. Refactor the code to create the same list with a single line of code."
   ]
  },
  {
   "cell_type": "code",
   "execution_count": 1,
   "metadata": {},
   "outputs": [],
   "source": [
    "class Node:\n",
    "    def __init__(self, value, next=None):\n",
    "        self.value = value\n",
    "        self.next = next\n",
    "\n",
    "\n",
    "# Recreate this list in a single line of code\n",
    "head = Node(\"Ash\")\n",
    "misty = Node(\"Misty\")\n",
    "brock = Node(\"Brock\")\n",
    "head = Node(\"Ash\", Node('Misty', Node(\"Brock\")))"
   ]
  },
  {
   "cell_type": "markdown",
   "metadata": {},
   "source": [
    "## Problem 2: Frequency Map\n",
    "Given the head of a linked list, return a dictionary that maps each unique element in the list to its frequency.\n",
    "\n",
    "Evaluate the time and space complexity of your solution. Define your variables and provide a rationale for why you believe your solution has the stated time and space complexity."
   ]
  },
  {
   "cell_type": "code",
   "execution_count": 2,
   "metadata": {},
   "outputs": [
    {
     "data": {
      "text/plain": [
       "{1: 1, 2: 1, 3: 1, 4: 3, 6: 1}"
      ]
     },
     "execution_count": 2,
     "metadata": {},
     "output_type": "execute_result"
    }
   ],
   "source": [
    "class Node:\n",
    "    def __init__(self, value, next=None):\n",
    "        self.value = value\n",
    "        self.next = next\n",
    "\n",
    "\n",
    "    def frequency_map(self, head):\n",
    "        if not head:\n",
    "            return head\n",
    "        freqCount = {}\n",
    "        curr = head\n",
    "        while curr:\n",
    "            if curr.value not in freqCount:\n",
    "                freqCount[curr.value] = 1\n",
    "            else:\n",
    "                freqCount[curr.value] +=1\n",
    "            curr = curr.next\n",
    "        return freqCount\n",
    "head = Node(1, Node(2, Node(3, Node(4, Node(4, Node(4, Node(6)))))))\n",
    "head.frequency_map(head)\n",
    "\n"
   ]
  },
  {
   "cell_type": "markdown",
   "metadata": {},
   "source": [
    "## Problem 3: Get it Out of Here!\n",
    "The following code attempts to remove the first node with a given value from a singly linked list based but it contains a bug!\n",
    "\n",
    "Step 1: Copy this code into Replit.\n",
    "\n",
    "Step 2: Create your own test cases to run the code against, and use print statements and the stack trace to identify and fix the bug so that the function correctly removes a node by value from the list."
   ]
  },
  {
   "cell_type": "code",
   "execution_count": 3,
   "metadata": {},
   "outputs": [
    {
     "name": "stdout",
     "output_type": "stream",
     "text": [
      "1 -> 3 -> 4\n"
     ]
    }
   ],
   "source": [
    "class Node:\n",
    "    def __init__(self, value=None, next=None):\n",
    "        self.value = value\n",
    "        self.next = next\n",
    "\n",
    "\n",
    "# Helper function to print the linked list\n",
    "def print_list(node):\n",
    "    current = node\n",
    "    while current:\n",
    "        print(current.value, end=\" -> \" if current.next else \"\")\n",
    "        current = current.next\n",
    "    print()\n",
    "\n",
    "\n",
    "# Function with a bug!\n",
    "def remove_by_value(head, val):\n",
    "    # Handle empty list and removal from the head\n",
    "    if not head:\n",
    "        return None\n",
    "    if head.value == val:\n",
    "        return head.next  # Return the second node as the new head\n",
    "    # points to the head of the LL\n",
    "    current = head\n",
    "    # We start at the second node because we have a\n",
    "    # the edge case for the first value\n",
    "    while current.next:\n",
    "        # check conditions\n",
    "        if current.next.value == val:\n",
    "            current.next = current.next.next  # Skip the node with the value\n",
    "            return head  # Return the original head\n",
    "        current = current.next\n",
    "\n",
    "    # If no node was found with the value `val`, return the original head\n",
    "    return head\n",
    "\n",
    "head = Node(1, Node(2, Node(3, Node(4))))\n",
    "rm = remove_by_value(head, 2)\n",
    "print_list(rm)"
   ]
  },
  {
   "cell_type": "markdown",
   "metadata": {},
   "source": [
    "## Problem 4: Does it Cycle?\n",
    "Given the head of a linked list, return True if the list has a cycle in it and false otherwise. A linked list has a cycle if at some point in the list, the node’s next pointer points back to a previous node in the list.\n",
    "\n",
    "Evaluate the time and space complexity of your solution. Define your variables and provide a rationale for why you believe your solution has the stated time and space complexity."
   ]
  },
  {
   "cell_type": "code",
   "execution_count": 4,
   "metadata": {},
   "outputs": [
    {
     "data": {
      "text/plain": [
       "False"
      ]
     },
     "execution_count": 4,
     "metadata": {},
     "output_type": "execute_result"
    }
   ],
   "source": [
    "class Node:\n",
    "    def __init__(self, value, next=None):\n",
    "        self.value = value\n",
    "        self.next = next\n",
    "\n",
    "\n",
    "def has_cycle(head):\n",
    "    if not head:\n",
    "        return head\n",
    "    slow, fast = head, head\n",
    "    while fast and fast.next:\n",
    "        slow = slow.next\n",
    "        fast = fast.next.next\n",
    "        if slow == fast:\n",
    "            return True\n",
    "    return False\n",
    "    \n",
    "\n",
    "head = Node(1, Node(2, Node(3, Node(4, Node(2)))))\n",
    "has_cycle(head)"
   ]
  },
  {
   "cell_type": "markdown",
   "metadata": {},
   "source": [
    "#### Time & Space Complexity\n",
    "The time complexity is O(n) because we are traversing through the LL. The space complexity is O(1)"
   ]
  },
  {
   "cell_type": "markdown",
   "metadata": {},
   "source": [
    "## Problem 5: Are We There Yet?\n",
    "Given the head of a linked list, return the length of its cycle.\n",
    "A linked list has a cycle if at some point in the list, the node’s next pointer points back to a previous node in the list.\n",
    "\n",
    "Evaluate the time and space complexity of your solution. Define your variables and provide a rationale for why you believe your solution has the stated time and space complexity."
   ]
  },
  {
   "cell_type": "code",
   "execution_count": 5,
   "metadata": {},
   "outputs": [],
   "source": [
    "class Node:\n",
    "    def __init__(self, value, next=None):\n",
    "        self.value = value\n",
    "        self.next = next\n",
    "\n",
    "\n",
    "def cycle_length(head):\n",
    "    if not head:\n",
    "        return None\n",
    "    \n",
    "    \n",
    "    "
   ]
  },
  {
   "cell_type": "code",
   "execution_count": null,
   "metadata": {},
   "outputs": [],
   "source": []
  },
  {
   "cell_type": "markdown",
   "metadata": {},
   "source": [
    "# Session 2\n"
   ]
  },
  {
   "cell_type": "markdown",
   "metadata": {},
   "source": [
    "# Problem Set Version 1"
   ]
  },
  {
   "cell_type": "markdown",
   "metadata": {},
   "source": [
    "## Problem 1: Detect Cicular Linked List\n",
    "\n",
    "A circular linked list is a linked list where the tail node points at the head node. Given the head of a linked list, write a function is_circular() that returns True if the linked list is circular and False otherwise.\n",
    "\n",
    "Evaluate the time and space complexity of your solution. Define your variables and provide a rationale for why you believe your solution has the stated time and space complexity."
   ]
  },
  {
   "cell_type": "code",
   "execution_count": 2,
   "metadata": {},
   "outputs": [
    {
     "data": {
      "text/plain": [
       "True"
      ]
     },
     "execution_count": 2,
     "metadata": {},
     "output_type": "execute_result"
    }
   ],
   "source": [
    "class Node:\n",
    "    def __init__(self, value, next=None):\n",
    "        self.value = value\n",
    "        self.next = next\n",
    "\n",
    "\n",
    "def is_circular(head):\n",
    "    if not head:\n",
    "        return False\n",
    "\n",
    "    curr = head\n",
    "    while curr.next:\n",
    "        curr = curr.next\n",
    "        if curr.next == head:\n",
    "            return True\n",
    "    return False\n",
    "\n",
    "\n",
    "def print_list(node):\n",
    "    current = node\n",
    "    while current:\n",
    "        print(current.value, end=\" -> \" if current.next else \"\")\n",
    "        current = current.next\n",
    "    print()\n",
    "\n",
    "\n",
    "num1 = Node('num1')\n",
    "num2 = Node('num2')\n",
    "num3 = Node('num3')\n",
    "num4 = Node('num4')\n",
    "num1 = Node('num1')\n",
    "num1.next = num2\n",
    "num2.next = num3\n",
    "num3.next = num4\n",
    "num4.next = num1\n",
    "\n",
    "\n",
    "is_circular(num1)\n"
   ]
  },
  {
   "cell_type": "markdown",
   "metadata": {},
   "source": [
    "## Problem 2: Find Last Node in a Linked List Cycle \n",
    "Given the head of a singly linked list, write a function that returns the last node in the cycle. If there is no cycle in the linked list, return None."
   ]
  },
  {
   "cell_type": "code",
   "execution_count": 8,
   "metadata": {},
   "outputs": [
    {
     "data": {
      "text/plain": [
       "'num4'"
      ]
     },
     "execution_count": 8,
     "metadata": {},
     "output_type": "execute_result"
    }
   ],
   "source": [
    "def find_last_node_in_cycle(head):\n",
    "    if head is None:\n",
    "        return head\n",
    "    \n",
    "    \n",
    "    slow, fast = head , head\n",
    "    while fast and fast.next:\n",
    "        slow = slow.next\n",
    "        fast = fast.next.next\n",
    "        # check if there is a cycle\n",
    "        if slow == fast:\n",
    "            break\n",
    "    else:\n",
    "        \n",
    "        return None\n",
    "\n",
    "    # points to head\n",
    "    ptr1 = head\n",
    "    # points to the meeting point\n",
    "    ptr2 = slow\n",
    "    # Trying to identify where the two pointer overlap\n",
    "    while ptr1 != ptr2:\n",
    "        ptr1 = ptr1.next\n",
    "        ptr2 = ptr2.next\n",
    "    # Where both pointers meet\n",
    "    cycle_entry = ptr1\n",
    "    \n",
    "    # entry point of the cycle\n",
    "    curr = cycle_entry\n",
    "    # traverse until curr.next points to the cycle\n",
    "    while curr.next != cycle_entry:\n",
    "        # returns the node before the cycle\n",
    "        curr = curr.next\n",
    "        \n",
    "    return curr.value\n",
    "\n",
    "num1 = Node(\"num1\")\n",
    "num2 = Node(\"num2\")\n",
    "num3 = Node(\"num3\")\n",
    "num4 = Node(\"num4\")\n",
    "num1 = Node(\"num1\")\n",
    "num1.next = num2\n",
    "num2.next = num3\n",
    "num3.next = num4\n",
    "num4.next = num1\n",
    "find_last_node_in_cycle(num1)"
   ]
  },
  {
   "cell_type": "markdown",
   "metadata": {},
   "source": [
    "## Problem 3: Partition List Around Value\n",
    "Given the head of a linked list and a value val, partition a linked list around val such that all nodes with values less than val come before nodes with values greater than or equal to val."
   ]
  },
  {
   "cell_type": "code",
   "execution_count": 8,
   "metadata": {},
   "outputs": [
    {
     "name": "stdout",
     "output_type": "stream",
     "text": [
      "1 -> 2 -> 2 -> 4 -> 3 -> 5\n"
     ]
    }
   ],
   "source": [
    "class Node:\n",
    "    def __init__(self, value, next=None):\n",
    "        self.value = value\n",
    "        self.next = next\n",
    "\n",
    "\n",
    "def print_list(node):\n",
    "    current = node\n",
    "    while current:\n",
    "        print(current.value, end=\" -> \" if current.next else \"\")\n",
    "        current = current.next\n",
    "    print()\n",
    "\n",
    "\n",
    "def partition(head, val):\n",
    "    # checks edge case when the linkedlist is empty\n",
    "    if not head:\n",
    "        return head\n",
    "    \n",
    "    # Create two dummy LL\n",
    "    less_than = Node(0)\n",
    "    greater_than = Node(0)\n",
    "    # pointers to dummy list\n",
    "    less = less_than\n",
    "    greater = greater_than\n",
    "    # pointer to head of original LL\n",
    "    curr = head\n",
    "    while curr:\n",
    "        # Checks for condition\n",
    "        if curr.value < val:\n",
    "            less.next = curr\n",
    "            less = less.next\n",
    "        else:\n",
    "            greater.next = curr\n",
    "            greater = greater.next\n",
    "        curr = curr.next\n",
    "        \n",
    "    # stops the infinit loop \n",
    "    greater.next = None\n",
    "    # connects both LL together\n",
    "    less.next = greater_than.next\n",
    "    # return from the second LL \n",
    "    return less_than.next\n",
    "\n",
    "\n",
    "head = Node(1, Node(4, Node(3, Node(2, Node(5, Node(2))))))\n",
    "a = partition(head, 3)         \n",
    "print_list(a)   "
   ]
  },
  {
   "cell_type": "markdown",
   "metadata": {},
   "source": [
    "## Problem 4: convert Binary Number in a Linked List to Integer\n",
    "You are given the head of a linked list. Each value in the linked list is either 0 or 1, and the entire linked list represents a binary number. Return an integer that is the decimal value of the number represented by the linked list. The most significant bit is at the head of the linked list."
   ]
  },
  {
   "cell_type": "code",
   "execution_count": 9,
   "metadata": {},
   "outputs": [
    {
     "name": "stdout",
     "output_type": "stream",
     "text": [
      "5\n"
     ]
    }
   ],
   "source": [
    "class Node:\n",
    "    def __init__(self, value, next=None):\n",
    "        self.value = value\n",
    "        self.next = next\n",
    "\n",
    "\n",
    "def binary_to_int(head):\n",
    "    if not head:\n",
    "        return 0\n",
    "\n",
    "  \n",
    "    total = 0\n",
    "    curr = head\n",
    "    while curr:\n",
    "        # first we shift total to the left by 1 and make room for either (0 or 1)\n",
    "        # second we adds the curr.value to the RIGHTMOST bit\n",
    "        # We use OR because we want to add if curr.value =1 and ignore if curr.value =0\n",
    "        total = (total << 1) | curr.value\n",
    "        curr = curr.next\n",
    "\n",
    "    return total\n",
    "\n",
    "\n",
    "# Example usage\n",
    "num1 = Node(1)\n",
    "num1.next = Node(0)\n",
    "num1.next.next = Node(1)\n",
    "print(binary_to_int(num1))  "
   ]
  },
  {
   "cell_type": "markdown",
   "metadata": {},
   "source": [
    "## Problem 5: Add Two Numbers Represented by Linked Lists\n",
    "You are given two non-empty linked lists representing two non-negative integers. The digits are stored in reverse order, and each of their nodes contains a single digit. Add the two numbers and return the sum as a linked list."
   ]
  },
  {
   "cell_type": "code",
   "execution_count": 40,
   "metadata": {},
   "outputs": [
    {
     "name": "stdout",
     "output_type": "stream",
     "text": [
      "807\n",
      "7 -> 0 -> 8\n"
     ]
    }
   ],
   "source": [
    "def add_two_numbers(head_a, head_b):\n",
    "    # Temp head to simplify handling the result list\n",
    "    temp_head = Node(None)\n",
    "    current = temp_head\n",
    "    carry = 0\n",
    "\n",
    "    a_current = head_a\n",
    "    b_current = head_b\n",
    "    while a_current or b_current or carry:\n",
    "        val_a = a_current.value if a_current else 0\n",
    "        val_b = b_current.value if b_current else 0\n",
    "\n",
    "        # Calculate the sum of values and the carry\n",
    "        sum_val = val_a + val_b + carry\n",
    "        carry = sum_val // 10\n",
    "        sum_val = sum_val % 10\n",
    "\n",
    "        # Append the result to the new list\n",
    "        current.next = Node(sum_val)\n",
    "        current = current.next\n",
    "\n",
    "        # Move to the next elements in the lists\n",
    "        if a_current:\n",
    "            a_current = a_current.next\n",
    "        if b_current:\n",
    "            b_current = b_current.next\n",
    "\n",
    "    result = temp_head.next\n",
    "    result_join = \"\"\n",
    "    while result:\n",
    "        #print(result.value, end=\"->\")\n",
    "        result_join += str(result.value)\n",
    "        result = result.next\n",
    "    print(result_join[::-1])\n",
    "\n",
    "    return temp_head.next\n",
    "\n",
    "l1 = Node(2, Node(4, Node(3)))\n",
    "l2 = Node(5, Node(6, Node(4)))\n",
    "# list 1: 2 -> 4 -> 3 (342)\n",
    "# list 2: 5 -> 6 -> 4 (465)\n",
    "# head_a = 2, head_b = 5\n",
    "a =add_two_numbers(l1, l2)\n",
    "print_list(a)"
   ]
  },
  {
   "cell_type": "markdown",
   "metadata": {},
   "source": [
    "## Problem 6: Reverse Sublist of a Linked List\n",
    "Given the head of a linked list and indices m and n, reverse the linked list between positions m and n. Assume the linked list uses 1-based indexing and the 0 <= m <= n <= length of list. Return the head of the list."
   ]
  },
  {
   "cell_type": "code",
   "execution_count": 42,
   "metadata": {},
   "outputs": [
    {
     "name": "stdout",
     "output_type": "stream",
     "text": [
      "1 -> 5 -> 4 -> 3 -> 2\n"
     ]
    }
   ],
   "source": [
    "def reverseBetween(head: Node, m: int, n: int) -> Node:\n",
    "    if m == n:\n",
    "        return head\n",
    "    \n",
    "    dummy = Node(None)\n",
    "    dummy.next = head\n",
    "    prev = head\n",
    "    for _ in range(m-1):\n",
    "        prev = prev.next\n",
    "        \n",
    "    curr = prev.next\n",
    "    \n",
    "    for _ in range(n-m):\n",
    "        newNode = curr.next\n",
    "        curr.next = newNode.next\n",
    "        newNode.next = prev.next\n",
    "        prev.next = newNode\n",
    "        \n",
    "    if m ==1:\n",
    "        return dummy.next\n",
    "        \n",
    "    else:\n",
    "        return head\n",
    "        \n",
    "\n",
    "head = Node(1, Node(2, Node(3, Node(4, Node(5)))))\n",
    "# input list: 1 -> 2 -> 3 -> 4 -> 5\n",
    "rv = reverseBetween(head, 2, 4)\n",
    "# Example Output: 1 -> 5 -> 4 -> 3 -> 2\n",
    "print_list(rv)"
   ]
  },
  {
   "cell_type": "markdown",
   "metadata": {},
   "source": [
    "Initial list: 1 -> 2 -> 3 -> 4 -> 5\n",
    "Let's say m = 2 and n = 4\n",
    "\n",
    "Step 0: Add temporary head\n",
    "temp_head -> 1 -> 2 -> 3 -> 4 -> 5\n",
    "\n",
    "Step 1: Move prev to the node before position m\n",
    "temp_head -> 1 -> 2 -> 3 -> 4 -> 5\n",
    "             ^\n",
    "            prev\n",
    "\n",
    "Step 2: Set start and then\n",
    "temp_head -> 1 -> 2 -> 3 -> 4 -> 5\n",
    "             ^    ^    ^\n",
    "            prev start then\n",
    "\n",
    "Step 3: First iteration of the reversal loop\n",
    "temp_head -> 1 -> 3 -> 2 -> 4 -> 5\n",
    "             ^    ^    ^    ^\n",
    "            prev       start then\n",
    "\n",
    "Step 4: Second iteration of the reversal loop\n",
    "temp_head -> 1 -> 4 -> 3 -> 2 -> 5\n",
    "             ^    ^         ^    ^\n",
    "            prev            start then\n",
    "\n",
    "Final result: Remove temp_head\n",
    "1 -> 4 -> 3 -> 2 -> 5"
   ]
  },
  {
   "cell_type": "markdown",
   "metadata": {},
   "source": [
    "# Problem Set Version 2"
   ]
  },
  {
   "cell_type": "markdown",
   "metadata": {},
   "source": [
    "## Problem 1: Convert a Single Linked List to a Circular Linked List\n",
    "A circular linked list is a linked list where the tail node points at the head node. Write a function that transforms a singly linked list into a circular linked list. Return the head of the linked list. Evaluate the time and space complexity of your solution. Define your variables and provide a rationale for why you believe your solution has the stated time and space complexity."
   ]
  },
  {
   "cell_type": "code",
   "execution_count": 16,
   "metadata": {},
   "outputs": [
    {
     "data": {
      "text/plain": [
       "<__main__.Node at 0x23cf5490dc0>"
      ]
     },
     "execution_count": 16,
     "metadata": {},
     "output_type": "execute_result"
    }
   ],
   "source": [
    "class Node:\n",
    "    def __init__(self, value, next=None):\n",
    "        self.value = value\n",
    "        self.next = next\n",
    "\n",
    "\n",
    "def make_circular(head):\n",
    "    if not head:\n",
    "        return None\n",
    "    \n",
    "    lastNode = None\n",
    "    curr = head\n",
    "    # First find the last Node\n",
    "    while curr:\n",
    "        lastNode = curr\n",
    "        curr = curr.next\n",
    "    lastNode.next = head\n",
    "    return head\n",
    "    \n",
    "    \n",
    "head = Node('num1', Node('num2', Node('num3', Node('num4'))))\n",
    "make_circular(head)\n"
   ]
  },
  {
   "cell_type": "markdown",
   "metadata": {},
   "source": [
    "## Problem 2: Collect Nodes of a Cycle in a Linked List\n",
    "Given the head of a linked list, return the elements of any cycle in the linked list as a list."
   ]
  },
  {
   "cell_type": "code",
   "execution_count": 23,
   "metadata": {},
   "outputs": [
    {
     "name": "stdout",
     "output_type": "stream",
     "text": [
      "['num2', 'num3', 'num4']\n",
      "[]\n"
     ]
    }
   ],
   "source": [
    "class Node:\n",
    "    def __init__(self, value, next=None):\n",
    "        self.value = value\n",
    "        self.next = next\n",
    "\n",
    "\n",
    "def collect_cycle_nodes(head):\n",
    "    if not head:\n",
    "        return []\n",
    "\n",
    "    slow, fast = head, head\n",
    "    # Detect cycle using slow and fast pointers\n",
    "    while fast and fast.next:\n",
    "        slow = slow.next\n",
    "        fast = fast.next.next\n",
    "        if slow == fast:\n",
    "            break\n",
    "    else:\n",
    "        # No cycle detected\n",
    "        return []\n",
    "\n",
    "    # Find the entry point of the cycle\n",
    "    ptr1, ptr2 = head, slow\n",
    "    while ptr1 != ptr2:\n",
    "        ptr1 = ptr1.next\n",
    "        ptr2 = ptr2.next\n",
    "\n",
    "    # Collect nodes in the cycle\n",
    "    nodes = []\n",
    "    start_cycle = ptr1\n",
    "    nodes.append(start_cycle.value)\n",
    "    ptr1 = ptr1.next\n",
    "    while ptr1 != start_cycle:\n",
    "        nodes.append(ptr1.value)\n",
    "        ptr1 = ptr1.next\n",
    "\n",
    "    return nodes\n",
    "\n",
    "\n",
    "# Test case with a cycle\n",
    "num4 = Node(\"num4\")\n",
    "num3 = Node(\"num3\", num4)\n",
    "num2 = Node(\"num2\", num3)\n",
    "num1 = Node(\"num1\", num2)\n",
    "num4.next = num2\n",
    "\n",
    "# num1 -> num2 -> num3 -> num4 -> num2 (cycle starts at num2)\n",
    "lst = collect_cycle_nodes(num1)\n",
    "print(lst)  # Should print nodes in the cycle ['num2', 'num3', 'num4']\n",
    "\n",
    "# Test case without a cycle\n",
    "var1 = Node(\"var1\", Node(\"var2\", Node(\"var3\", Node(\"var4\"))))\n",
    "# var1 -> var2 -> var3 -> var4 (no cycle)\n",
    "lst2 = collect_cycle_nodes(var1)\n",
    "print(lst2)  # Should print []"
   ]
  },
  {
   "cell_type": "markdown",
   "metadata": {},
   "source": [
    "## Problem 3: Delete Duplicates in a Linked List\n",
    "\n",
    "Given the head of a sorted linked list, delete all elements that occur more than once in the list (not just the duplicates). The resulting list should maintain sorted order. Return the head of the linked list."
   ]
  },
  {
   "cell_type": "code",
   "execution_count": 2,
   "metadata": {},
   "outputs": [
    {
     "ename": "AttributeError",
     "evalue": "'NoneType' object has no attribute 'value'",
     "output_type": "error",
     "traceback": [
      "\u001b[1;31m---------------------------------------------------------------------------\u001b[0m",
      "\u001b[1;31mAttributeError\u001b[0m                            Traceback (most recent call last)",
      "Cell \u001b[1;32mIn[2], line 44\u001b[0m\n\u001b[0;32m     36\u001b[0m     \u001b[38;5;28;01mreturn\u001b[39;00m dummy\u001b[38;5;241m.\u001b[39mnext\n\u001b[0;32m     43\u001b[0m head \u001b[38;5;241m=\u001b[39m Node(\u001b[38;5;241m1\u001b[39m, Node(\u001b[38;5;241m2\u001b[39m, Node(\u001b[38;5;241m3\u001b[39m, Node(\u001b[38;5;241m3\u001b[39m, Node(\u001b[38;5;241m4\u001b[39m, Node(\u001b[38;5;241m5\u001b[39m))))))\n\u001b[1;32m---> 44\u001b[0m \u001b[43mdelete_dupes\u001b[49m\u001b[43m(\u001b[49m\u001b[43mhead\u001b[49m\u001b[43m)\u001b[49m\n",
      "Cell \u001b[1;32mIn[2], line 21\u001b[0m, in \u001b[0;36mdelete_dupes\u001b[1;34m(head)\u001b[0m\n\u001b[0;32m     17\u001b[0m curr \u001b[38;5;241m=\u001b[39m head\n\u001b[0;32m     18\u001b[0m \u001b[38;5;28;01mwhile\u001b[39;00m curr:\n\u001b[0;32m     19\u001b[0m     \u001b[38;5;66;03m# checks if curr is not None\u001b[39;00m\n\u001b[0;32m     20\u001b[0m     \u001b[38;5;66;03m# checks if both curr and curr.next are the same\u001b[39;00m\n\u001b[1;32m---> 21\u001b[0m     \u001b[38;5;28;01mif\u001b[39;00m curr \u001b[38;5;129;01mand\u001b[39;00m curr\u001b[38;5;241m.\u001b[39mvalue \u001b[38;5;241m==\u001b[39m \u001b[43mcurr\u001b[49m\u001b[38;5;241;43m.\u001b[39;49m\u001b[43mnext\u001b[49m\u001b[38;5;241;43m.\u001b[39;49m\u001b[43mvalue\u001b[49m:\n\u001b[0;32m     22\u001b[0m         \u001b[38;5;66;03m# if they are, the same\u001b[39;00m\n\u001b[0;32m     23\u001b[0m         \u001b[38;5;28;01mwhile\u001b[39;00m curr\u001b[38;5;241m.\u001b[39mnext \u001b[38;5;129;01mand\u001b[39;00m curr\u001b[38;5;241m.\u001b[39mvalue \u001b[38;5;241m==\u001b[39m curr\u001b[38;5;241m.\u001b[39mnext\u001b[38;5;241m.\u001b[39mvalue:\n\u001b[0;32m     24\u001b[0m             \u001b[38;5;66;03m# we check if the next node is also the same\u001b[39;00m\n\u001b[0;32m     25\u001b[0m             curr \u001b[38;5;241m=\u001b[39m curr\u001b[38;5;241m.\u001b[39mnext\n",
      "\u001b[1;31mAttributeError\u001b[0m: 'NoneType' object has no attribute 'value'"
     ]
    }
   ],
   "source": [
    "class Node:\n",
    "    def __init__(self, value, next=None):\n",
    "        self.value = value\n",
    "        self.next = next\n",
    "\n",
    "\n",
    "def delete_dupes(head):\n",
    "    if not head:\n",
    "        return head\n",
    "    # Edge case if duplicate starts at the beginning\n",
    "    dummy = Node(None)\n",
    "    # connect dummy LL to actual LL\n",
    "    dummy.next = head\n",
    "    # keeps track of node before curr\n",
    "    prev = dummy\n",
    "    # points to the head of the LL\n",
    "    curr = head\n",
    "    while curr:\n",
    "        # checks if curr is not None\n",
    "        # checks if both curr and curr.next are the same\n",
    "        if curr and curr.value == curr.next.value:\n",
    "            # if they are, the same\n",
    "            while curr.next and curr.value == curr.next.value:\n",
    "                # we check if the next node is also the same\n",
    "                curr = curr.next\n",
    "            # if we identify all the same nodes\n",
    "            # make the previous Node point to the first non duplicate\n",
    "            # This line disconnect duplicates from the LL\n",
    "            prev.next = curr.next\n",
    "        else:\n",
    "            # We move the head of the linked list foward\n",
    "            prev = prev.next\n",
    "        # increment the linked list\n",
    "        curr = curr.next\n",
    "    # return the second node from the linkedlist\n",
    "    return dummy.next\n",
    "            \n",
    "            \n",
    "            \n",
    "            \n",
    "                \n",
    "    \n",
    "head = Node(1, Node(2, Node(3, Node(3, Node(4, Node(5))))))\n",
    "delete_dupes(head)"
   ]
  },
  {
   "cell_type": "markdown",
   "metadata": {},
   "source": [
    "## Problem 4: Identical Linked Lists\n",
    "\n",
    "Two linked lists are identical when they have the same values and the same order of values. Given the heads of two linked lists, write a function that returns True if the the linked lists are identical and False otherwise."
   ]
  },
  {
   "cell_type": "code",
   "execution_count": 4,
   "metadata": {},
   "outputs": [
    {
     "data": {
      "text/plain": [
       "False"
      ]
     },
     "execution_count": 4,
     "metadata": {},
     "output_type": "execute_result"
    }
   ],
   "source": [
    "def is_identical(head_a, head_b):\n",
    "    if head_a is None or head_b is None:\n",
    "        return False\n",
    "    currA = head_a\n",
    "    currB = head_b\n",
    "    while currA and currB:\n",
    "        if currA.value != currB.value:\n",
    "            return False\n",
    "        currA = currA.next\n",
    "        currB = currB.next\n",
    "    if currA:\n",
    "        return False\n",
    "    if currB:\n",
    "        return False\n",
    "    return True\n",
    "        \n",
    "        \n",
    "lst1 = Node(1, Node(2, Node(3, Node(4))))\n",
    "lst2 = Node(1, Node(2, Node(3, Node(4))))\n",
    "is_identical(lst1, lst2)\n",
    "lst3 = Node(1, Node(2, Node(3, Node(4))))\n",
    "lst4 = Node(1, Node(2))\n",
    "is_identical(lst3, lst4)"
   ]
  },
  {
   "cell_type": "markdown",
   "metadata": {},
   "source": [
    "## Problem 5: Circular Linked List Rotate\n",
    "Given the head of a linked list and a non-negative integer k, rotate the list to the right by k places. Return the head of the linked list."
   ]
  },
  {
   "cell_type": "code",
   "execution_count": 9,
   "metadata": {},
   "outputs": [
    {
     "data": {
      "text/plain": [
       "'num1'"
      ]
     },
     "execution_count": 9,
     "metadata": {},
     "output_type": "execute_result"
    }
   ],
   "source": [
    "class Node:\n",
    "    def __init__(self, value, next=None):\n",
    "        self.value = value\n",
    "\n",
    "        self.next = next\n",
    "\n",
    "\n",
    "def rotate_right(head, k):\n",
    "    if not head:\n",
    "        return head\n",
    "    if k == 0 or k < 0:\n",
    "        return head\n",
    "    \n",
    "    curr = head\n",
    "    \n",
    "    # Find the end of the LL\n",
    "    slow = head\n",
    "    fast = head\n",
    "    while fast and fast.next:\n",
    "        slow = slow.next\n",
    "        fast = fast.next.next\n",
    "    \n",
    "    # fast points to the end of the linked list\n",
    "    # Now we create a cycle in the linked list\n",
    "    fast.next = head\n",
    "    prev = head\n",
    "    for _ in range(k):\n",
    "        head = \n",
    "        prev = prev.next\n",
    "    return fast.value\n",
    "\n",
    "        \n",
    "            \n",
    "        \n",
    "            \n",
    "    \n",
    "head = Node('num1', Node('num2', Node('num3')))\n",
    "rotate_right(head, 6)\n",
    "        \n",
    "    "
   ]
  },
  {
   "cell_type": "code",
   "execution_count": null,
   "metadata": {},
   "outputs": [],
   "source": []
  }
 ],
 "metadata": {
  "kernelspec": {
   "display_name": "tf2",
   "language": "python",
   "name": "python3"
  },
  "language_info": {
   "codemirror_mode": {
    "name": "ipython",
    "version": 3
   },
   "file_extension": ".py",
   "mimetype": "text/x-python",
   "name": "python",
   "nbconvert_exporter": "python",
   "pygments_lexer": "ipython3",
   "version": "3.10.14"
  }
 },
 "nbformat": 4,
 "nbformat_minor": 2
}
