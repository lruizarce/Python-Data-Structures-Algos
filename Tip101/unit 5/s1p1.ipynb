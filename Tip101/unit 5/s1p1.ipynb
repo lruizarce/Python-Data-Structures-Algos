{
 "cells": [
  {
   "cell_type": "code",
   "execution_count": 43,
   "metadata": {},
   "outputs": [
    {
     "name": "stdout",
     "output_type": "stream",
     "text": [
      "17\n"
     ]
    }
   ],
   "source": [
    "class Card:\n",
    "    def __init__(self, suit, rank, next = None):\n",
    "        self.suit = suit\n",
    "        self.rank = rank\n",
    "        self.next = next\n",
    "\n",
    "    def print_card(self):\n",
    "        print(f\"{self.rank} of {self.suit}\")\n",
    "\n",
    "    def is_valid(self):\n",
    "        vaildSuit = ['Hearts', 'Spades', 'Clubs', 'Diamonds']\n",
    "        validRank = ['2', '3', '4', '5', '6', '7', '8', '9', '10', 'Jack', \"Queen\", \"King\", \"Ace\"]\n",
    "\n",
    "        if self.suit in vaildSuit and self.rank in validRank:\n",
    "            return True\n",
    "        return False\n",
    "\n",
    "    def get_value(self):\n",
    "        if not self.is_valid():\n",
    "            return None\n",
    "        elif self.rank == \"Jack\":\n",
    "            return 11\n",
    "        elif self.rank == \"Queen\":\n",
    "            return 12\n",
    "        elif self.rank == \"King\":\n",
    "            return 13\n",
    "        elif self.rank == \"Ace\":\n",
    "            return 1\n",
    "        else:\n",
    "            return int(self.rank)\n",
    "        \n",
    "\n",
    "class Hand:\n",
    "    def __init__(self):\n",
    "        self.cards = []\n",
    "        \n",
    "    def add_card(self,card):        \n",
    "        self.cards.append(card)\n",
    "    \n",
    "    def remove_card(self, card):\n",
    "        if card in self.cards:\n",
    "            self.cards.remove(card)\n",
    "\n",
    "def sum_hand(hand):\n",
    "    total = 0\n",
    "    for card in hand.cards:\n",
    "        if not card.is_valid():\n",
    "            return None\n",
    "        total += card.get_value()\n",
    "    return total\n",
    "\n",
    "def print_hand(starting_card):\n",
    "    deck =[]\n",
    "    curr_card = starting_card\n",
    "    while curr_card:\n",
    "        deck.append(curr_card)\n",
    "        curr_card = curr_card.next\n",
    "    return deck\n",
    "    \n",
    "    \n",
    "card_one = Card(\"Hearts\", \"3\")\n",
    "card_two = Card(\"Hearts\", \"Jack\")\n",
    "card_three = Card(\"Spades\", \"3\")\n",
    "\n",
    "hand = Hand()\n",
    "hand.add_card(card_one)\n",
    "hand.add_card(card_two)\n",
    "hand.add_card(card_three)\n",
    "\n",
    "sum = sum_hand(hand)\n",
    "print(sum)"
   ]
  },
  {
   "cell_type": "code",
   "execution_count": 61,
   "metadata": {},
   "outputs": [
    {
     "name": "stdout",
     "output_type": "stream",
     "text": [
      "aries -> taurus -> gemini -> cancer\n"
     ]
    }
   ],
   "source": [
    "class Node:\n",
    "    def __init__(self, value, next=None):\n",
    "        self.value = value\n",
    "        self.next = next\n",
    "\n",
    "\n",
    "def print_linked_list(head):\n",
    "    current = head\n",
    "    values = []\n",
    "    while current:\n",
    "        values.append(current.value)\n",
    "        current = current.next\n",
    "    print(\" -> \".join(values))\n",
    "\n",
    "\n",
    "lst = [\"aries\", \"taurus\", \"gemini\", \"cancer\"]\n",
    "head = Node(lst[0])\n",
    "current = head\n",
    "for value in lst[1:]:\n",
    "    current.next = Node(value)\n",
    "    current = current.next\n",
    "\n",
    "print_linked_list(head)\n"
   ]
  },
  {
   "cell_type": "code",
   "execution_count": 62,
   "metadata": {},
   "outputs": [
    {
     "name": "stdout",
     "output_type": "stream",
     "text": [
      "Pikachu dealth 20 damage to Bulbasaur\n"
     ]
    }
   ],
   "source": [
    "class Pokemon:\n",
    "    def __init__(self, name, hp, damage):\n",
    "        self.name = name\n",
    "        self.hp = hp  # hit points\n",
    "        self.damage = damage  # The amount of damage this pokemon does to its opponent every attack\n",
    "\n",
    "    def attack(self, opponent):\n",
    "        opponent.hp -= self.damage\n",
    "        if opponent.hp <= 0:\n",
    "            opponent.hp = 0\n",
    "            print(f\"{opponent.name} fainted\")\n",
    "        else:\n",
    "            print(f\"{self.name} dealth {self.damage} damage to {opponent.name}\")\n",
    "\n",
    "pikachu = Pokemon(\"Pikachu\", 35, 20)\n",
    "bulbasaur = Pokemon(\"Bulbasaur\", 45, 30)\n",
    "\n",
    "opponent = bulbasaur\n",
    "pikachu.attack(opponent)"
   ]
  },
  {
   "cell_type": "code",
   "execution_count": 87,
   "metadata": {},
   "outputs": [],
   "source": [
    "class Node:\n",
    "    def __init__(self, value, next=None):\n",
    "        self.value = value\n",
    "        self.next = next\n",
    "\n",
    "def add_first(head, new_node):\n",
    "    if new_node is not None:\n",
    "        new_node.next = head\n",
    "        return new_node\n",
    "    else:\n",
    "        new_node = head\n",
    "\n",
    "def get_tail(head):\n",
    "    if not head:\n",
    "        return None\n",
    "    curr = head\n",
    "    while curr.next:\n",
    "        curr = curr.next\n",
    "    return curr.value\n",
    "\n",
    "def ll_replace(head, original, replacement):\n",
    "    curr = head\n",
    "    if curr is None:\n",
    "        return None\n",
    "    else:\n",
    "        while curr:\n",
    "            if curr.value == original:\n",
    "                curr.value = replacement\n",
    "            curr = curr.next\n",
    "            \n",
    "num3 = Node(5)\n",
    "num2 = Node(6, num3)\n",
    "num1 = Node(5, num2)\n",
    "# initial linked list: 5 -> 6 -> 5\n",
    "\n",
    "head = num1\n",
    "ll_replace(head, 5, \"banana\")\n",
    "\n"
   ]
  },
  {
   "cell_type": "code",
   "execution_count": 117,
   "metadata": {},
   "outputs": [
    {
     "data": {
      "text/plain": [
       "<__main__.Node at 0x1f3230ab340>"
      ]
     },
     "execution_count": 117,
     "metadata": {},
     "output_type": "execute_result"
    }
   ],
   "source": [
    "class Node:\n",
    "    def __init__(self, value, next=None):\n",
    "        self.value = value\n",
    "        self.next = next\n",
    "\n",
    "\n",
    "def listify_first_n(head, n):\n",
    "    if not head:\n",
    "        return None\n",
    "    curr = head\n",
    "    res = []\n",
    "    count = 0\n",
    "    while curr:\n",
    "        count +=1\n",
    "        if count <= n:\n",
    "            res.append(curr.value)\n",
    "        curr = curr.next\n",
    "    return res\n",
    "\n",
    "\n",
    "def ll_insert(head, val, i):\n",
    "    # Handle the case where the list is initially empty or `i` is 0\n",
    "    if not head or i == 0:\n",
    "        return Node(val, head)\n",
    "\n",
    "    # Traverse to find the insertion point\n",
    "    current = head\n",
    "    count = 1  # Start count at 1 since we've already handled `i == 0`\n",
    "    while current:\n",
    "        # Insert at index `i` by adjusting the `next` pointers\n",
    "        if count == i:\n",
    "            new_node = Node(val, current.next)\n",
    "            current.next = new_node\n",
    "            return head\n",
    "        current = current.next\n",
    "        count += 1\n",
    "\n",
    "    # If `i` was beyond the end, append to the last\n",
    "    if count < i:\n",
    "        current.next = Node(val)\n",
    "\n",
    "    return head\n",
    "\n",
    "\n",
    "a = Node(9)\n",
    "b = Node(12, a)\n",
    "c = Node(8, b)\n",
    "d = Node(9, c)\n",
    "head = a\n",
    "ll_insert(head, 20, 2) "
   ]
  },
  {
   "cell_type": "code",
   "execution_count": 132,
   "metadata": {},
   "outputs": [
    {
     "name": "stdout",
     "output_type": "stream",
     "text": [
      "['Betty', 'Veronica', 'Archie']\n",
      "Betty\n"
     ]
    }
   ],
   "source": [
    "class Node:\n",
    "    def __init__(self, value, next=None):\n",
    "        self.value = value\n",
    "        self.next = next\n",
    "\n",
    "\n",
    "def list_to_linked_list(lst):\n",
    "    if not lst:\n",
    "        return None\n",
    "    res = []\n",
    "    head = Node(lst[0])\n",
    "    curr = head\n",
    "    for v in lst[1:]:\n",
    "        curr.next = Node(v)    \n",
    "        res.append(curr.value)\n",
    "        curr = curr.next\n",
    "    print(res)\n",
    "    return head.value\n",
    "normal_list = [\"Betty\", \"Veronica\", \"Archie\", \"Jughead\"]\n",
    "linked_list = list_to_linked_list(normal_list)\n",
    "print(linked_list)  # Only prints the head element!"
   ]
  },
  {
   "cell_type": "code",
   "execution_count": 144,
   "metadata": {},
   "outputs": [
    {
     "name": "stdout",
     "output_type": "stream",
     "text": [
      "Poliwrath\n",
      "Poliwag\n",
      "Poliwhirl\n"
     ]
    }
   ],
   "source": [
    "class Node:\n",
    "    def __init__(self, value, next=None, prev=None):\n",
    "        self.value = value\n",
    "        self.next = next\n",
    "        self.prev = prev\n",
    "def print_reverse(lst):\n",
    "    nodes = [Node(lst[i]) for i in range(-1, len(lst)-1)]\n",
    "    for node in nodes:\n",
    "        print(node.value)\n",
    "        \n",
    "        \n",
    "        \n",
    "lst = [\"Poliwag\", \"Poliwhirl\", \"Poliwrath\"]\n",
    "poliwag = Node(lst[0])\n",
    "poliwrath = Node(lst[-1])\n",
    "poliwhirl = Node(lst[1], poliwrath, poliwag)\n",
    "print_reverse(lst)"
   ]
  },
  {
   "cell_type": "code",
   "execution_count": 172,
   "metadata": {},
   "outputs": [
    {
     "name": "stdout",
     "output_type": "stream",
     "text": [
      "{'Ace': 2, '4': 2, '6': 1}\n",
      "True\n",
      "{'4': 2, 'Ace': 1, '6': 1, '7': 1}\n",
      "False\n"
     ]
    }
   ],
   "source": [
    "class Card:\n",
    "    def __init__(self, suit, rank):\n",
    "        self.suit = suit\n",
    "        self.rank = rank\n",
    "\n",
    "\n",
    "def is_two_pair(player_hand):\n",
    "    if not player_hand:\n",
    "        return None\n",
    "    hand = dict()\n",
    "    for c in player_hand:\n",
    "        if c.rank in hand:\n",
    "            hand[c.rank] +=1\n",
    "        else:\n",
    "            hand[c.rank] =1\n",
    "    print(hand)\n",
    "    pairs = 0\n",
    "    for c in hand.values():\n",
    "        if c == 2:\n",
    "            pairs +=1\n",
    "    return pairs ==2\n",
    "\n",
    "card_one = Card(\"Hearts\", \"Ace\")\n",
    "card_two = Card(\"Hearts\", \"4\")\n",
    "card_three = Card(\"Diamonds\", \"Ace\")\n",
    "card_four = Card(\"Diamonds\", \"4\")\n",
    "card_five = Card(\"Diamonds\", \"6\")\n",
    "card_six = Card(\"Diamonds\", \"7\")\n",
    "\n",
    "player_one_hand = [card_one, card_two, card_three, card_four, card_five]\n",
    "print(is_two_pair(player_one_hand))\n",
    "\n",
    "player_two_hand = [card_two, card_three, card_four, card_five, card_six]\n",
    "print(is_two_pair(player_two_hand))"
   ]
  },
  {
   "cell_type": "markdown",
   "metadata": {},
   "source": [
    "Problem 2: Barbie Linked List\n",
    "A linked list is a new data type that, similar to a normal list or array, allows us to store pieces of data sequentially. The difference between a linked list and a normal list lies in how each element is stored in a computer’s memory.\n",
    "\n",
    "In a normal list, individual elements of the list are stored in adjacent memory locations according to the order they appear in the list. If we know where the first element of the list is stored, it’s really easy to find any other element in the list.\n",
    "\n",
    "In a linked list, the individual elements called nodes are not stored in sequential memory locations. Each node may be stored in an unrelated memory location. To connect nodes together into a sequential list, each node stores a reference or pointer to the next node in the list.\n",
    "\n",
    "Using the provided Node class below, recreate the list ['Barbie', 'President Barbie', 'Weird Barbie', 'Ken'] as a linked list."
   ]
  },
  {
   "cell_type": "code",
   "execution_count": 184,
   "metadata": {},
   "outputs": [
    {
     "name": "stdout",
     "output_type": "stream",
     "text": [
      "Barbie -> President Barbie\n",
      "President Barbie -> Weird Barbie\n",
      "Weird Barbie -> Ken\n",
      "Ken -> None\n"
     ]
    }
   ],
   "source": [
    "class Node:\n",
    "    def __init__(self, value, next=None):\n",
    "        self.value = value\n",
    "        self.next = next\n",
    "        \n",
    "lst = [\"Barbie\", \"President Barbie\", \"Weird Barbie\", \"Ken\"]\n",
    "node_4 = Node(lst[-1])\n",
    "node_3 = Node(lst[-2], node_4)\n",
    "node_2 = Node(lst[-3], node_3)\n",
    "node_1 = Node(lst[0], node_2)\n",
    "\n",
    "print(node_1.value, \"->\", node_1.next.value)\n",
    "print(node_2.value, \"->\", node_2.next.value)\n",
    "print(node_3.value, \"->\", node_3.next.value)\n",
    "print(node_4.value, \"->\", node_4.next)"
   ]
  },
  {
   "cell_type": "markdown",
   "metadata": {},
   "source": [
    "Using the Node class, write a function add_first() that takes in the head of a linked list and a value object val as parameters.\n",
    "\n",
    "The function shout insert a new Node object with value val as the new head of the linked list and return the new node.\n",
    "\n",
    "Note: The \"head\" of a linked list is the first element in the linked list. Equivalent to lst[0] of a normal list."
   ]
  },
  {
   "cell_type": "code",
   "execution_count": 191,
   "metadata": {},
   "outputs": [
    {
     "name": "stdout",
     "output_type": "stream",
     "text": [
      "0\n"
     ]
    }
   ],
   "source": [
    "class Node:\n",
    "    def __init__(self, value, next=None):\n",
    "        self.value = value\n",
    "        self.next = next\n",
    "\n",
    "\n",
    "def add_first(head, val):\n",
    "    new_head = Node(val)\n",
    "    new_head.next = head\n",
    "    return new_head\n",
    "\n",
    "# Linked List: A -> B -> C\n",
    "node_c = Node(\"C\")\n",
    "node_b = Node(\"B\", node_c)\n",
    "node_a = Node(\"A\", node_b)\n",
    "new_list = add_first(node_a, 0)\n",
    "# New List: 0 -> A -> B -> C\n"
   ]
  },
  {
   "cell_type": "code",
   "execution_count": 194,
   "metadata": {},
   "outputs": [
    {
     "name": "stdout",
     "output_type": "stream",
     "text": [
      "3\n",
      "0\n"
     ]
    }
   ],
   "source": [
    "class Node:\n",
    "    def __init__(self, value, next=None):\n",
    "        self.value = value\n",
    "        self.next = next\n",
    "\n",
    "\n",
    "def ll_length(head):\n",
    "    length = 0\n",
    "    curr = head\n",
    "    while curr:\n",
    "        length +=1\n",
    "        curr = curr.next\n",
    "    return length\n",
    "\n",
    "# Linked List: num1 -> num2 -> num3\n",
    "head = num1\n",
    "print(ll_length(head))\n",
    "\n",
    "# Empty Linked List\n",
    "head = None\n",
    "print(ll_length(head))"
   ]
  },
  {
   "cell_type": "code",
   "execution_count": 202,
   "metadata": {},
   "outputs": [],
   "source": [
    "class Node:\n",
    "    def __init__(self, value, next=None):\n",
    "        self.value = value\n",
    "        self.next = next\n",
    "\n",
    "\n",
    "def delete_tail(head):\n",
    "    if head is None or head.next is None:\n",
    "        return None\n",
    "    prev = None\n",
    "    curr = head\n",
    "    while curr.next is not None:\n",
    "        prev = curr\n",
    "        curr = curr.next\n",
    "    prev.next = None   \n",
    "\n",
    "num3 = Node(\"num3\")\n",
    "num2 = Node(\"num2\", num3)\n",
    "num1 = Node(\"num1\", num2)\n",
    "delete_tail(num1)"
   ]
  },
  {
   "cell_type": "code",
   "execution_count": 207,
   "metadata": {},
   "outputs": [
    {
     "name": "stdout",
     "output_type": "stream",
     "text": [
      "30\n"
     ]
    }
   ],
   "source": [
    "class Node:\n",
    "    def __init__(self, value, next=None):\n",
    "        self.value = value\n",
    "        self.next = next\n",
    "\n",
    "\n",
    "def find_max(head):\n",
    "    if not head:\n",
    "        return None\n",
    "    curr = head\n",
    "    maxVal = float('-inf')\n",
    "    while curr:\n",
    "        if curr.value > maxVal:\n",
    "            maxVal = curr.value\n",
    "        curr = curr.next\n",
    "    return maxVal\n",
    "\n",
    "\n",
    "num1 = 20\n",
    "num2 = 15\n",
    "num3 = 30\n",
    "num4 = 10\n",
    "num4 = Node(num4)\n",
    "num3 = Node(num3, num4)\n",
    "num2 = Node(num2, num3)\n",
    "num1 = Node(num1, num2)\n",
    "\n",
    "# linked list: num1 -> num2 -> num3 -> num4\n",
    "max_val = find_max(num1)\n",
    "print(max_val)"
   ]
  },
  {
   "cell_type": "code",
   "execution_count": 219,
   "metadata": {},
   "outputs": [
    {
     "name": "stdout",
     "output_type": "stream",
     "text": [
      "20\n"
     ]
    }
   ],
   "source": [
    "class Node:\n",
    "    def __init__(self, value, next=None):\n",
    "        self.value = value\n",
    "        self.next = next\n",
    "\n",
    "\n",
    "def ll_pop(head, i):\n",
    "    if i < 0 or head is None:\n",
    "        return head\n",
    "    if i ==0:\n",
    "        return head.next\n",
    "    \n",
    "    length = 0\n",
    "    prev = None\n",
    "    curr = head\n",
    "    while curr is not None and length < i:\n",
    "        length +=1\n",
    "        prev = curr\n",
    "        curr = curr.next\n",
    "    \n",
    "    if curr is not None and prev is not None:\n",
    "        prev.next = curr.next\n",
    "        \n",
    "    return head.value\n",
    "\n",
    "\n",
    "num1 = 20\n",
    "num2 = 15\n",
    "num3 = 30\n",
    "num4 = 10\n",
    "num4 = Node(num4)\n",
    "num3 = Node(num3, num4)\n",
    "num2 = Node(num2, num3)\n",
    "num1 = Node(num1, num2)\n",
    "print(ll_pop(num1, 1))"
   ]
  },
  {
   "cell_type": "code",
   "execution_count": 237,
   "metadata": {},
   "outputs": [
    {
     "name": "stdout",
     "output_type": "stream",
     "text": [
      "3\n"
     ]
    }
   ],
   "source": [
    "class Node:\n",
    "    def __init__(self, value, next=None):\n",
    "        self.value = value\n",
    "        self.next = next\n",
    "\n",
    "\n",
    "def find_middle_node(head):\n",
    "    # start at the same point\n",
    "    slow , fast = head, head\n",
    "    # `fast` keeps track of the next value and fast.next ensures that the loop continues as long as there are at least two nodes for `fast` to move to\n",
    "    while fast and fast.next:\n",
    "        # keeps track of the middle value\n",
    "        slow = slow.next\n",
    "        # ensures that there are at least two nodes for `fast` to move to\n",
    "        fast = fast.next.next\n",
    "    return slow\n",
    "\n",
    "\n",
    "# Creating the linked list: 1 -> 2 -> 3 -> 4 -> 5\n",
    "node5 = Node(5)\n",
    "node4 = Node(4, node5)\n",
    "node3 = Node(3, node4)\n",
    "node2 = Node(2, node3)\n",
    "head = Node(1, node2)\n",
    "middle_node = find_middle_node(head)\n",
    "print(middle_node.value)  # Output: 3"
   ]
  },
  {
   "cell_type": "code",
   "execution_count": 230,
   "metadata": {},
   "outputs": [
    {
     "name": "stdout",
     "output_type": "stream",
     "text": [
      "First <-> Last\n",
      "First <-> Last\n"
     ]
    }
   ],
   "source": [
    "class Node:\n",
    "    def __init__(self, value, next = None, prev = None):\n",
    "        self.value = value\n",
    "        self.next = next\n",
    "        self.prev = prev\n",
    "\n",
    "head = Node(\"First\")\n",
    "tail = Node(\"Last\")\n",
    "head.next = tail\n",
    "tail.prev = head\n",
    "print(head.value, \"<->\", head.next.value)\n",
    "print(tail.prev.value, \"<->\", tail.value)"
   ]
  },
  {
   "cell_type": "code",
   "execution_count": 240,
   "metadata": {},
   "outputs": [
    {
     "name": "stdout",
     "output_type": "stream",
     "text": [
      "Ice\n"
     ]
    }
   ],
   "source": [
    "class SLLNode:\n",
    "    def __init__(self, value, next=None):\n",
    "        self.value = value\n",
    "        self.next = next\n",
    "\n",
    "\n",
    "class DLLNode:\n",
    "    def __init__(self, value, next=None, prev=None):\n",
    "        self.value = value\n",
    "        self.next = next\n",
    "        self.prev = prev\n",
    "\n",
    "\n",
    "def dll_to_sll(dll_head):\n",
    "    mock_node = Node(None)\n",
    "    \n",
    "    curr_dll = dll_head\n",
    "    while curr_dll:\n",
    "        new_node = Node(curr_dll.value)\n",
    "        mock_node.next = new_node\n",
    "        curr_dll = curr_dll.next\n",
    "    return mock_node.next.value\n",
    "\n",
    "\n",
    "# DLL: Ice <-> Water <-> Steam\n",
    "dll_head = DLLNode('Ice')\n",
    "water = DLLNode('Water')\n",
    "Steam = DLLNode('Steam')\n",
    "dll_head.next = water\n",
    "water.prev = dll_head\n",
    "Steam.prev = water\n",
    "water.next = Steam\n",
    "dll_head = DLLNode(\"Ice\")\n",
    "sll_head = dll_to_sll(dll_head)\n",
    "print(sll_head)\n",
    "\n",
    "# SLL: Ice -> Water -> Steam"
   ]
  },
  {
   "cell_type": "markdown",
   "metadata": {},
   "source": [
    "Problem 1: Calculate Tournament Placement\n",
    "In the Player class below, each player has a race_outcomes attribute which holds a list of integers describing what place they came in for each race in a tournament.\n",
    "\n",
    "Write a method get_tournament_place() that takes in one parameter opponents, a list of other player objects also participating in the tournament, and returns the place in the overall tournament.\n",
    "\n",
    "Rank in the tournament is determined by the lowest average race outcome. (1st place is better than 2nd!)\n",
    "Each opponent in opponents is guaranteed to have participated in the same number of races as the current player."
   ]
  },
  {
   "cell_type": "code",
   "execution_count": 264,
   "metadata": {},
   "outputs": [
    {
     "ename": "TypeError",
     "evalue": "'int' object is not callable",
     "output_type": "error",
     "traceback": [
      "\u001b[1;31m---------------------------------------------------------------------------\u001b[0m",
      "\u001b[1;31mTypeError\u001b[0m                                 Traceback (most recent call last)",
      "Cell \u001b[1;32mIn[264], line 33\u001b[0m\n\u001b[0;32m     30\u001b[0m player3 \u001b[38;5;241m=\u001b[39m Player(\u001b[38;5;124m\"\u001b[39m\u001b[38;5;124mPeach\u001b[39m\u001b[38;5;124m\"\u001b[39m, \u001b[38;5;124m\"\u001b[39m\u001b[38;5;124mStandard\u001b[39m\u001b[38;5;124m\"\u001b[39m, [\u001b[38;5;241m3\u001b[39m, \u001b[38;5;241m3\u001b[39m, \u001b[38;5;241m2\u001b[39m, \u001b[38;5;241m3\u001b[39m, \u001b[38;5;241m1\u001b[39m])\n\u001b[0;32m     32\u001b[0m opponents \u001b[38;5;241m=\u001b[39m [player2, player3]\n\u001b[1;32m---> 33\u001b[0m \u001b[38;5;28mprint\u001b[39m(\u001b[38;5;124mf\u001b[39m\u001b[38;5;124m\"\u001b[39m\u001b[38;5;132;01m{\u001b[39;00mplayer1\u001b[38;5;241m.\u001b[39mcharacter\u001b[38;5;132;01m}\u001b[39;00m\u001b[38;5;124m was number \u001b[39m\u001b[38;5;132;01m{\u001b[39;00m\u001b[43mplayer1\u001b[49m\u001b[38;5;241;43m.\u001b[39;49m\u001b[43mget_tournament_place\u001b[49m\u001b[43m(\u001b[49m\u001b[43mopponents\u001b[49m\u001b[43m)\u001b[49m\u001b[38;5;132;01m}\u001b[39;00m\u001b[38;5;124m\"\u001b[39m)\n",
      "Cell \u001b[1;32mIn[264], line 11\u001b[0m, in \u001b[0;36mPlayer.get_tournament_place\u001b[1;34m(self, opponents)\u001b[0m\n\u001b[0;32m      8\u001b[0m \u001b[38;5;28;01mdef\u001b[39;00m \u001b[38;5;21mget_tournament_place\u001b[39m(\u001b[38;5;28mself\u001b[39m, opponents):\n\u001b[0;32m      9\u001b[0m     \u001b[38;5;66;03m# Calculate own average race outcome\u001b[39;00m\n\u001b[0;32m     10\u001b[0m     own_average \u001b[38;5;241m=\u001b[39m (\n\u001b[1;32m---> 11\u001b[0m         \u001b[38;5;28;43msum\u001b[39;49m\u001b[43m(\u001b[49m\u001b[38;5;28;43mself\u001b[39;49m\u001b[38;5;241;43m.\u001b[39;49m\u001b[43mrace_outcomes\u001b[49m\u001b[43m)\u001b[49m \u001b[38;5;241m/\u001b[39m \u001b[38;5;28mlen\u001b[39m(\u001b[38;5;28mself\u001b[39m\u001b[38;5;241m.\u001b[39mrace_outcomes)\n\u001b[0;32m     12\u001b[0m         \u001b[38;5;28;01mif\u001b[39;00m \u001b[38;5;28mself\u001b[39m\u001b[38;5;241m.\u001b[39mrace_outcomes\n\u001b[0;32m     13\u001b[0m         \u001b[38;5;28;01melse\u001b[39;00m \u001b[38;5;28mfloat\u001b[39m(\u001b[38;5;124m\"\u001b[39m\u001b[38;5;124minf\u001b[39m\u001b[38;5;124m\"\u001b[39m)\n\u001b[0;32m     14\u001b[0m     )\n\u001b[0;32m     16\u001b[0m     \u001b[38;5;66;03m# Start counting at 1 for the player themselves\u001b[39;00m\n\u001b[0;32m     17\u001b[0m     rank \u001b[38;5;241m=\u001b[39m \u001b[38;5;241m1\u001b[39m\n",
      "\u001b[1;31mTypeError\u001b[0m: 'int' object is not callable"
     ]
    }
   ],
   "source": [
    "class Player:\n",
    "    def __init__(self, character, kart, outcomes):\n",
    "        self.character = character\n",
    "        self.kart = kart\n",
    "        self.items = []\n",
    "        self.race_outcomes = outcomes\n",
    "\n",
    "    def get_tournament_place(self, opponents):\n",
    "        # Calculate own average race outcome\n",
    "        own_average = (\n",
    "            sum(self.race_outcomes) / len(self.race_outcomes)\n",
    "            if self.race_outcomes\n",
    "            else float(\"inf\")\n",
    "        )\n",
    "\n",
    "        # Start counting at 1 for the player themselves\n",
    "        rank = 1\n",
    "\n",
    "        # Calculate and compare with each opponent's average race outcome\n",
    "        for opponent in opponents:\n",
    "            opponent_average = sum(opponent.race_outcomes) / len(opponent.race_outcomes)\n",
    "            if opponent_average < own_average:\n",
    "                rank += 1  # The opponent did better (lower) than we did!\n",
    "\n",
    "        return rank\n",
    "\n",
    "\n",
    "player1 = Player(\"Mario\", \"Standard\", [1, 2, 1, 1, 3])\n",
    "player2 = Player(\"Luigi\", \"Standard\", [2, 1, 3, 2, 2])\n",
    "player3 = Player(\"Peach\", \"Standard\", [3, 3, 2, 3, 1])\n",
    "\n",
    "opponents = [player2, player3]\n",
    "print(f\"{player1.character} was number {player1.get_tournament_place(opponents)}\")"
   ]
  },
  {
   "cell_type": "markdown",
   "metadata": {},
   "source": [
    "Problem 2: Update Linked List Sequence\n",
    "A linked list is a new data type that, similar to a normal list or array, allows us to store pieces of data sequentially. The difference between a linked list and a normal list lies in how each element is stored in a computer’s memory.\n",
    "\n",
    "In a normal list, individual elements of the list are stored in adjacent memory locations according to the order they appear in the list. If we know where the first element of the list is stored, it’s really easy to find any other element in the list.\n",
    "\n",
    "In a linked list, individual elements, called nodes, are not stored in sequential memory locations. Each node may be stored in an unrelated memory location. To connect nodes together into a sequential list, each node stores a reference or pointer to the next node in the list.\n",
    "\n",
    "Using the provided Node class and linked list below, update the current linked list red -> yellow -> blue to be red -> orange -> yellow -> green -> blue."
   ]
  },
  {
   "cell_type": "code",
   "execution_count": 266,
   "metadata": {},
   "outputs": [],
   "source": [
    "class Node:\n",
    "    def __init__(self, value, next=None):\n",
    "        self.value = value\n",
    "        self.next = next\n",
    "\n",
    "\n",
    "red = Node(\"red\")\n",
    "orange = Node(\"orange\")\n",
    "yellow = Node(\"yellow\")\n",
    "blue = Node(\"blue\")\n",
    "red.next = orange\n",
    "orange.next = yellow\n",
    "yellow.next = blue"
   ]
  },
  {
   "cell_type": "markdown",
   "metadata": {},
   "source": [
    "Problem 3: Insert Node as Second Element\n",
    "Write a function add_second() that takes in the head of a linked list and a value object val as parameters. It should insert val as the second node in the linked list and return the head of the linked list. (You can assume head is not None.)\n",
    "\n",
    "Note: The \"head\" of a linked list is the first element in the linked list. Equivalent to lst[0] of a normal list."
   ]
  },
  {
   "cell_type": "code",
   "execution_count": 280,
   "metadata": {},
   "outputs": [
    {
     "name": "stdout",
     "output_type": "stream",
     "text": [
      "1\n"
     ]
    }
   ],
   "source": [
    "class Node:\n",
    "    def __init__(self, value, next=None):\n",
    "        self.value = value\n",
    "        self.next = next\n",
    "\n",
    "    def add_second(head, val):\n",
    "        # check edge case where head is empty\n",
    "        if head is None:\n",
    "            return Node(val)\n",
    "        # check for edge case where the 2nd node is empty\n",
    "        if head.next is None:\n",
    "            head.next = Node(val)\n",
    "            return head\n",
    "        \n",
    "        # create a the new node\n",
    "        new_node = Node(val)\n",
    "        # start at the second node\n",
    "        new_node.next = head.next\n",
    "        # connect the second node to the new_node\n",
    "        head.next = new_node\n",
    "        return head.value\n",
    "        \n",
    "            \n",
    "            \n",
    "four = Node(4)\n",
    "three = Node(3, four)\n",
    "two = Node(2, three)\n",
    "one = Node(1, two)\n",
    "res = Node.add_second(one, 2)\n",
    "print(res)"
   ]
  },
  {
   "cell_type": "markdown",
   "metadata": {},
   "source": [
    "Problem 4: Increment Linked List Node Values\n",
    "Write a function increment_ll() that takes in the head of a linked list of integer values and returns the same list, but with each node's value incremented by 1. Return the head of the list."
   ]
  },
  {
   "cell_type": "code",
   "execution_count": 284,
   "metadata": {},
   "outputs": [],
   "source": [
    "class Node:\n",
    "    def __init__(self, value, next=None):\n",
    "        self.value = value\n",
    "        self.next = next\n",
    "\n",
    "\n",
    "def increment_ll(head):\n",
    "    if head is None:\n",
    "        return None\n",
    "    curr = head\n",
    "    while curr:\n",
    "        curr.value +=1\n",
    "        curr=curr.next\n",
    "\n",
    "    return curr\n",
    "\n"
   ]
  },
  {
   "cell_type": "markdown",
   "metadata": {},
   "source": [
    "Problem 5: Copy Linked List\n",
    "Write a function copy_ll() that takes in the head of a linked_list, and creates a complete copy of that linked list.\n",
    "\n",
    "The function should return the head of a new linked list which is identical to the given list in terms of its structure and contents, but does not use any of the node objects from the original list."
   ]
  },
  {
   "cell_type": "code",
   "execution_count": 285,
   "metadata": {},
   "outputs": [],
   "source": [
    "class Node:\n",
    "    def __init__(self, value, next=None):\n",
    "        self.value = value\n",
    "        self.next = next\n",
    "\n",
    "\n",
    "def copy_ll(head):\n",
    "    # initialize new LL\n",
    "    mock_head = Node(0)\n",
    "    # create a pointer for the new LL\n",
    "    curr_new = mock_head\n",
    "    # create a pointer for the original head\n",
    "    curr_original = head\n",
    "    # Traverse the OG LL\n",
    "    while curr_original:\n",
    "        # create a new node with the OG LL\n",
    "        new_node = Node(curr_original.value)\n",
    "        # Append it to the end of the new LL\n",
    "        curr_new.next = new_node\n",
    "        # Move the new list pointer forward\n",
    "        curr_new = curr_new.next\n",
    "        # move to the next node in the OG LL\n",
    "        curr_original = curr_original.next\n",
    "    return mock_head\n",
    "    \n"
   ]
  },
  {
   "cell_type": "markdown",
   "metadata": {},
   "source": [
    "Write a function ll_remove() that takes in the head of a linked list and a value val as parameters.\n",
    "\n",
    "The function should remove the first node it finds in the linked list with value val and return the head of the linked list. If no node can be found with the value val, return the list unchanged."
   ]
  },
  {
   "cell_type": "code",
   "execution_count": 287,
   "metadata": {},
   "outputs": [],
   "source": [
    "class Node:\n",
    "    def __init__(self, value, next=None):\n",
    "        self.value = value\n",
    "        self.next = next\n",
    "\n",
    "\n",
    "def find_min(head):\n",
    "    if head is None:\n",
    "        return None\n",
    "    curr = head\n",
    "    minVal = float('inf')\n",
    "    while curr:\n",
    "        if curr.value < minVal:\n",
    "            minVal = curr.value\n",
    "        curr = curr.next\n",
    "    return minVal"
   ]
  },
  {
   "cell_type": "markdown",
   "metadata": {},
   "source": [
    "Problem 7: Remove Node by Value from Linked List\n",
    "Write a function ll_remove() that takes in the head of a linked list and a value val as parameters.\n",
    "\n",
    "The function should remove the first node it finds in the linked list with value val and return the head of the linked list. If no node can be found with the value val, return the list unchanged."
   ]
  },
  {
   "cell_type": "code",
   "execution_count": 289,
   "metadata": {},
   "outputs": [],
   "source": [
    "class Node:\n",
    "    def __init__(self, value, next=None):\n",
    "        self.value = value\n",
    "        self.next = next\n",
    "\n",
    "\n",
    "def ll_remove(head, val):\n",
    "    # Edge case when we have an empty LL\n",
    "    if head is None:\n",
    "        return None\n",
    "    # Edge case when we only have one value in the LL\n",
    "    if head.value == val:\n",
    "        return head.next\n",
    "    # two pointers\n",
    "    curr = head\n",
    "    prev = None\n",
    "    # Traverse the LL\n",
    "    while curr:\n",
    "        # if the current node value equals the val\n",
    "        if curr.value == val:\n",
    "            # prev.next points to the next node of curr\n",
    "            # so example 1,2,3,4,5, val = 3\n",
    "            # prev.next points to 4\n",
    "            prev.next == curr.next\n",
    "            return head\n",
    "        # prev moves to the next node in the LL\n",
    "        prev = curr\n",
    "        # increment curr \n",
    "        curr = curr.next\n",
    "            \n",
    "    return head\n"
   ]
  },
  {
   "cell_type": "markdown",
   "metadata": {},
   "source": [
    "Problem 8: Move Tail to Front of Linked List\n",
    "Write a function tail_to_head() that takes in the head of a linked list as a parameter, and moves the tail of the linked list to the front."
   ]
  },
  {
   "cell_type": "code",
   "execution_count": 295,
   "metadata": {},
   "outputs": [
    {
     "name": "stdout",
     "output_type": "stream",
     "text": [
      "4 -> 1 -> 2 -> 3 -> None\n"
     ]
    }
   ],
   "source": [
    "class Node:\n",
    "    def __init__(self, value, next=None):\n",
    "        self.value = value\n",
    "        self.next = next\n",
    "\n",
    "\n",
    "def print_linked_list(head):\n",
    "    current = head\n",
    "    while current:\n",
    "        print(current.value, end=\" -> \")\n",
    "        current = current.next\n",
    "    print(\"None\")\n",
    "\n",
    "\n",
    "def tail_to_head(head):\n",
    "    # edge case where head is empty or the next node is empty\n",
    "    if head is None or head.next is None:\n",
    "        return head\n",
    "    # initialize the two pointers\n",
    "    # curr keeps track of the head of the LL\n",
    "    curr = head\n",
    "    # prev will keep track of the node before the curr\n",
    "    prev = None\n",
    "    # Traverse to the end of the LL until curr points to the last node (tail)\n",
    "    while curr.next:\n",
    "        # prev now points to the node before the tail\n",
    "        prev = curr\n",
    "        # increment and curr is now the tail of the LL\n",
    "        curr = curr.next\n",
    "    # Remember prev points to the node before the tail\n",
    "    # Remove the last node from the OG LL\n",
    "    prev.next = None\n",
    "    # move the last node to the front\n",
    "    curr.next = head\n",
    "    # update the head to the new front\n",
    "    head = curr\n",
    "    return head\n",
    "\n",
    "head = Node(1, Node(2, Node(3, Node(4))))\n",
    "\n",
    "# Move tail to head\n",
    "head = tail_to_head(head)\n",
    "print_linked_list(head)  # Output: 4 -> 1 -> 2 -> 3 -> None"
   ]
  },
  {
   "cell_type": "markdown",
   "metadata": {},
   "source": [
    "Problem 9: Convert Singly Linked List to Doubly Linked List\n",
    "One of the drawbacks of a linked list is that it's difficult to go backwards, because each Node only knows about the Node in front of it. (E.g., A -> B -> C)\n",
    "\n",
    "A doubly linked list solves this problem! Instead of just having a next attribute, a doubly linked list also has a prev attribute that points to the Node before it. (E.g., A <-> B <-> C)\n",
    "\n",
    "Update the code below to convert the singly linked list a doubly linked list."
   ]
  },
  {
   "cell_type": "code",
   "execution_count": 298,
   "metadata": {},
   "outputs": [
    {
     "name": "stdout",
     "output_type": "stream",
     "text": [
      "Crazy in Love -> Formation -> Texas Hold 'Em -> None\n"
     ]
    }
   ],
   "source": [
    "class Node:\n",
    "    def __init__(self, value, next=None, prev=None):\n",
    "        self.value = value\n",
    "        self.next = next\n",
    "        self.prev = prev\n",
    "\n",
    "\n",
    "def print_linked_list(head):\n",
    "    current = head\n",
    "    while current:\n",
    "        print(current.value, end=\" -> \")\n",
    "        current = current.next\n",
    "    print(\"None\")\n",
    "\n",
    "\n",
    "crazy_in_love = Node(\"Crazy in Love\")\n",
    "formation = Node(\"Formation\")\n",
    "formation.prev = crazy_in_love\n",
    "texas_hold_em = Node(\"Texas Hold 'Em\")\n",
    "crazy_in_love.next = formation\n",
    "formation.next = texas_hold_em\n"
   ]
  },
  {
   "cell_type": "markdown",
   "metadata": {},
   "source": [
    "# Problem Set Version 1"
   ]
  },
  {
   "cell_type": "markdown",
   "metadata": {},
   "source": [
    "Problem 1: Pokemon Class\n",
    "Step 1: Copy the following code into Replit.\n",
    "\n",
    "Step 2: Add a line of code (outside of the class) to instantiate an instance of the class Pokemon and store it in a variable named my_pokemon. The Pokemon instance created should have name \"Pikachu\" and its types should be [\"Electric\"]."
   ]
  },
  {
   "cell_type": "code",
   "execution_count": 300,
   "metadata": {},
   "outputs": [
    {
     "name": "stdout",
     "output_type": "stream",
     "text": [
      "<__main__.Pokemon object at 0x000001F3228AAFE0>\n"
     ]
    }
   ],
   "source": [
    "class Pokemon:\n",
    "    def __init__(self, name, types):\n",
    "        self.name = name\n",
    "        self.types = types\n",
    "        self.is_caught = False\n",
    "my_pokemon = Pokemon('Pikachu', ['Electric'])\n",
    "print(my_pokemon)"
   ]
  },
  {
   "cell_type": "markdown",
   "metadata": {},
   "source": [
    "Problem 2: Create Squirtle\n",
    "Step 1: Add the print_pokemon definition below to your code on Replit.\n",
    "\n",
    "Step 2: Instantiate an instance of the class Pokemon and store it in a variable named squirtle. The Pokemon instance created should have name \"Squirtle\" and its types should be [\"Water\"].\n",
    "\n",
    "Step 3: Call the method print_pokemon() on your new Pokemon instance squirtle.\n",
    "\n",
    "\n",
    "Problem 3: Is Caught\n",
    "Using your code from Problem 2, update your squirtle Pokemon so that is_caught is updated to True. Use the print_pokemon() function to verify that squirtle's is_caught property was updated."
   ]
  },
  {
   "cell_type": "code",
   "execution_count": 307,
   "metadata": {},
   "outputs": [
    {
     "name": "stdout",
     "output_type": "stream",
     "text": [
      "{'name': 'Squirtle', 'types': ['Water'], 'is_caught': True}\n"
     ]
    }
   ],
   "source": [
    "class Pokemon:\n",
    "    def __init__(self, name, types):\n",
    "        self.name = name\n",
    "        self.types = types\n",
    "        self.is_caught = False\n",
    "\n",
    "    def print_pokemon(self):\n",
    "        print(\n",
    "            {\n",
    "                \"name\": self.name,  # Output: \"name\": \"Squirtle\",\n",
    "                \"types\": self.types,  # Output: \"types\": [\"Water\"],\n",
    "                \"is_caught\": self.is_caught,  # Output: \"is_caught\": False\n",
    "            }\n",
    "        )\n",
    "        \n",
    "squirtle = Pokemon('Squirtle', ['Water'])\n",
    "squirtle.is_caught = True\n",
    "squirtle.print_pokemon()"
   ]
  },
  {
   "cell_type": "markdown",
   "metadata": {},
   "source": [
    "Problem 4: Catch Pokemon\n",
    "Update the Pokemon class with a new method catch() that takes in no parameters except self.\n",
    "\n",
    "The method should update the Pokemon's is_caught attribute to True and not return any value.\n",
    "\n",
    "\n",
    "Problem 5: Choose Pokemon\n",
    "Update the Pokemon class with a new method choose() that takes in no parameters except self.\n",
    "\n",
    "If the Pokemon is caught, the method should print the string \"<Pokemon name> I choose you!\".\n",
    "\n",
    "Otherwise, it should print \"<Pokemon name> is wild! Catch them if you can!\".\n",
    "\n",
    "Problem 6: Add Pokemon Type\n",
    "Update the Pokemon class with a new method add_type() that takes in a string new_type as a parameter.\n",
    "\n",
    "It should add new_type to the Pokemon's list of types.\n",
    "\n",
    "Problem 7: Get Pokemon\n",
    "Outside the Pokemon class, write a new function get_by_type() that takes in a list of Pokemon instances my_pokemon and a string pokemon_type as parameters.\n",
    "\n",
    "The function should return a list of all Pokemon instances from my_pokemon that have the type pokemon_type.\n",
    "\n",
    "Hint: To test, loop over Pokemon in return list and print the Pokemon's name\n"
   ]
  },
  {
   "cell_type": "code",
   "execution_count": 315,
   "metadata": {},
   "outputs": [
    {
     "name": "stdout",
     "output_type": "stream",
     "text": [
      "{'name': 'Jigglypuff', 'types': ['Normal'], 'is_caught': False}\n",
      "{'name': 'Jigglypuff', 'types': ['Normal', 'Fairy'], 'is_caught': False}\n"
     ]
    }
   ],
   "source": [
    "class Pokemon:\n",
    "    def __init__(self, name, types):\n",
    "        self.name = name\n",
    "        self.types = types\n",
    "        self.is_caught = False\n",
    "\n",
    "    def print_pokemon(self):\n",
    "        print(\n",
    "            {\n",
    "                \"name\": self.name,  # Output: \"name\": \"Squirtle\",\n",
    "                \"types\": self.types,  # Output: \"types\": [\"Water\"],\n",
    "                \"is_caught\": self.is_caught,  # Output: \"is_caught\": False\n",
    "            }\n",
    "        )\n",
    "    def catch(self):\n",
    "        self.is_caught = True\n",
    "\n",
    "    def choose(self):\n",
    "        if self.is_caught == True:\n",
    "            print(f'{self.name} I choose you!')\n",
    "        else:\n",
    "            print(f'{self.name} is wild! catch them if you can')\n",
    "\n",
    "    def add_type(self, new_type):\n",
    "        if new_type not in self.types:\n",
    "            self.types.append(new_type)\n",
    "        else:\n",
    "            print(f'{new_type} type is already in the list')\n",
    "            \n",
    "def get_by_type(my_pokemon, pokemon_type):\n",
    "        \n",
    "\n",
    "\n",
    "# initializing pokemons\n",
    "jigglypuff = Pokemon(\"Jigglypuff\", [\"Normal\", \"Fairy\"])\n",
    "diglett = Pokemon(\"Diglett\", [\"Ground\"])\n",
    "meowth = Pokemon(\"Meowth\", [\"Normal\"])\n",
    "pidgeot = Pokemon(\"Pidgeot\", [\"Normal\", \"Flying\"])\n",
    "blastoise = Pokemon(\"Blastoise\", [\"Water\"])\n",
    "\n",
    "my_pokemon = [jigglypuff, diglett, meowth, pidgeot, blastoise]\n",
    "normal_pokemon = get_by_type(my_pokemon, \"Normal\")\n",
    "print(normal_pokemon)"
   ]
  },
  {
   "cell_type": "code",
   "execution_count": null,
   "metadata": {},
   "outputs": [],
   "source": []
  },
  {
   "cell_type": "code",
   "execution_count": 9,
   "metadata": {},
   "outputs": [
    {
     "name": "stdout",
     "output_type": "stream",
     "text": [
      "Pikachu dealt 20 damage to Bulbasaur\n"
     ]
    }
   ],
   "source": [
    "class Pokemon():\n",
    "\tdef  __init__(self, name, hp, damage):\n",
    "\t\tself.name = name\n",
    "\t\tself.hp = hp # hit points\n",
    "\t\tself.damage = damage # The amount of damage this pokemon does to its opponent every attack\n",
    "\t\t\n",
    "\tdef attack(self, opponent):\n",
    "\t\topponent.hp -=self.damage\n",
    "\t\tif opponent.hp <= 0:\n",
    "\t\t\tprint(f'{opponent.name} fainted')\n",
    "\t\telse:\n",
    "\t\t\tprint(f'{self.name} dealt 20 damage to {opponent.name}')\n",
    "pikachu = Pokemon(\"Pikachu\", 35, 20)\n",
    "bulbasaur = Pokemon(\"Bulbasaur\", 45, 30) \n",
    "\n",
    "opponent = bulbasaur\n",
    "pikachu.attack(opponent)"
   ]
  },
  {
   "cell_type": "markdown",
   "metadata": {},
   "source": [
    "Problem 2: Convert to Linked List\n",
    "A linked list is a new data type that, similar to a normal list or array, allows us to store pieces of data sequentially. The difference between a linked list and a normal list lies in how each element is stored in a computer’s memory.\n",
    "\n",
    "In a normal list, individual elements of the list are stored in adjacent memory locations according to the order they appear in the list. If we know where the first element of the list is stored, it’s really easy to find any other element in the list.\n",
    "\n",
    "In a linked list, the individual elements called nodes are not stored in sequential memory locations. Each node may be stored in an unrelated memory location. To connect nodes together into a sequential list, each node stores a reference or pointer to the next node in the list.\n",
    "\n",
    "Using the provided Node class below, create the normal Python list [\"Jigglypuff\", \"Wigglytuff\"] as a linked list."
   ]
  },
  {
   "cell_type": "code",
   "execution_count": 11,
   "metadata": {},
   "outputs": [
    {
     "name": "stdout",
     "output_type": "stream",
     "text": [
      "Jigglytuff -> Wigglytuff\n",
      "Wigglytuff -> None\n"
     ]
    }
   ],
   "source": [
    "class Node:\n",
    "    def __init__(self, value, next=None):\n",
    "        self.value = value\n",
    "        self.next = next\n",
    "\n",
    "node_2 = Node('Wigglytuff')\n",
    "node_1 = Node('Jigglytuff', node_2)\n",
    "\n",
    "print(node_1.value, \"->\", node_1.next.value)\n",
    "print(node_2.value, \"->\", node_2.next)"
   ]
  },
  {
   "cell_type": "markdown",
   "metadata": {},
   "source": [
    "Problem 3: Add First\n",
    "Write a function add_first() that takes in a head of a linked list and a new_node from the Node class as parameters.\n",
    "\n",
    "It should insert new_node as the new head of the linked_list. The function returns new_node.\n",
    "\n",
    "Note: The \"head\" of a linked list is the first element in the linked list. Equivalent to lst[0] of a normal list."
   ]
  },
  {
   "cell_type": "code",
   "execution_count": 25,
   "metadata": {},
   "outputs": [
    {
     "name": "stdout",
     "output_type": "stream",
     "text": [
      "Jigglytuff -> Wigglytuff\n",
      "Ditto -> Jigglytuff\n"
     ]
    }
   ],
   "source": [
    "class Node:\n",
    "    def __init__(self, value, next=None):\n",
    "        self.value = value\n",
    "        self.next = next\n",
    "\n",
    "\n",
    "def add_first(head, new_node):\n",
    "    if not head:\n",
    "        return new_node\n",
    "    \n",
    "    # the pointer for this `new node` points to the head\n",
    "    new_node.next = head\n",
    "    # Now return the `new_node` becuase that is the newly added head\n",
    "    return new_node\n",
    "    \n",
    "\n",
    "    \n",
    "node_2 = Node(\"Wigglytuff\")\n",
    "node_1 = Node(\"Jigglytuff\", node_2)\n",
    "\n",
    "# Using the Linked List from Problem 2\n",
    "print(node_1.value, \"->\", node_1.next.value)\n",
    "\n",
    "new_node = Node(\"Ditto\")\n",
    "node_1 = add_first(node_1, new_node)\n",
    "\n",
    "print(node_1.value, \"->\", node_1.next.value)"
   ]
  },
  {
   "cell_type": "markdown",
   "metadata": {},
   "source": [
    "Write a function get_tail() that takes in the head of a linked list as a parameter.\n",
    "\n",
    "It should print out the value of the tail of the list.\n",
    "\n",
    "If the list is empty (head is None), return None.\n",
    "Note: The \"tail\" of a list is the last element in the linked list. Equivalent to lst[-1] in a normal list."
   ]
  },
  {
   "cell_type": "code",
   "execution_count": 29,
   "metadata": {},
   "outputs": [
    {
     "name": "stdout",
     "output_type": "stream",
     "text": [
      "num3\n"
     ]
    }
   ],
   "source": [
    "class Node:\n",
    "    def __init__(self, value, next=None):\n",
    "        self.value = value\n",
    "        self.next = next\n",
    "\n",
    "\n",
    "def get_tail(head):\n",
    "    if not head:\n",
    "        return None\n",
    "    \n",
    "    curr = head\n",
    "    while curr.next:\n",
    "        curr = curr.next\n",
    "    return curr.value\n",
    "\n",
    "\n",
    "def print_linkedList(head):\n",
    "    curr = head\n",
    "    while curr:\n",
    "        print(curr.value + \"->\")\n",
    "        curr = curr.next\n",
    "\n",
    "num3 = Node('num3')\n",
    "num2 = Node('num2', num3)\n",
    "num1 = Node('num1', num2)\n",
    "head = num1\n",
    "tail = get_tail(num1)\n",
    "print(tail)"
   ]
  },
  {
   "cell_type": "markdown",
   "metadata": {},
   "source": [
    "Problem 5: Replace Node\n",
    "Using the Node class, write a function ll_replace() that takes a head of a linked list and two values, original and replacement as parameters.\n",
    "\n",
    "The function updates any node with value original to have value replacement."
   ]
  },
  {
   "cell_type": "code",
   "execution_count": 32,
   "metadata": {},
   "outputs": [
    {
     "data": {
      "text/plain": [
       "'banana'"
      ]
     },
     "execution_count": 32,
     "metadata": {},
     "output_type": "execute_result"
    }
   ],
   "source": [
    "class Node:\n",
    "    def __init__(self, value, next=None):\n",
    "        self.value = value\n",
    "        self.next = next\n",
    "\n",
    "\n",
    "def ll_replace(head, original, replacement):\n",
    "    if not head:\n",
    "        return None\n",
    "    \n",
    "    curr = head\n",
    "    while curr:\n",
    "        if curr.value == original:\n",
    "            curr.value = replacement\n",
    "        curr = curr.next\n",
    "    return head.value\n",
    "    \n",
    "\n",
    "\n",
    "num3 = Node(5)\n",
    "num2 = Node(6, num3)\n",
    "num1 = Node(5, num2)\n",
    "# initial linked list: 5 -> 6 -> 5\n",
    "\n",
    "head = num1\n",
    "ll_replace(head, 5, \"banana\")\n",
    "# updated linked list: \"banana\" -> 6 -> \"banana\""
   ]
  },
  {
   "cell_type": "markdown",
   "metadata": {},
   "source": [
    "Problem 6: List Nodes\n",
    "Write a function listify_first_n() that takes in a head of a linked list and a non-negative integer n as parameters.\n",
    "\n",
    "The function returns a list of values of the first n nodes.\n",
    "\n",
    "If n is greater than the length of the linked list, return a list of the values of all nodes in the linked list."
   ]
  },
  {
   "cell_type": "code",
   "execution_count": 36,
   "metadata": {},
   "outputs": [
    {
     "name": "stdout",
     "output_type": "stream",
     "text": [
      "['a', 'b']\n",
      "['j', 'k', 'l']\n"
     ]
    }
   ],
   "source": [
    "class Node:\n",
    "    def __init__(self, value, next=None):\n",
    "        self.value = value\n",
    "        self.next = next\n",
    "\n",
    "\n",
    "def listify_first_n(head, n):\n",
    "    if not head or n < 0:\n",
    "        return None\n",
    "    \n",
    "    res = []\n",
    "    curr = head\n",
    "    count = 0\n",
    "    while curr and count < n:\n",
    "        res.append(curr.value)\n",
    "        curr = curr.next\n",
    "        count +=1\n",
    "    return res\n",
    "\n",
    "\n",
    "c = Node('c')\n",
    "b = Node('b', c)\n",
    "a = Node('a', b)\n",
    "# linked list: a -> b -> c\n",
    "head = a\n",
    "lst = listify_first_n(head, 2)\n",
    "print(lst)\n",
    "\n",
    "l = Node(\"l\")\n",
    "k = Node(\"k\", l)\n",
    "j = Node(\"j\", k)\n",
    "# linked list: j -> k -> l\n",
    "head2 = j\n",
    "lst2 = listify_first_n(head2, 5)\n",
    "print(lst2)"
   ]
  },
  {
   "cell_type": "code",
   "execution_count": 45,
   "metadata": {},
   "outputs": [
    {
     "name": "stdout",
     "output_type": "stream",
     "text": [
      "3 ->\n",
      "8 ->\n",
      "12 ->\n",
      "9 ->\n"
     ]
    }
   ],
   "source": [
    "class Node:\n",
    "    def __init__(self, value, next=None):\n",
    "        self.value = value\n",
    "        self.next = next\n",
    "\n",
    "\n",
    "def print_linkedList(head):\n",
    "    curr = head\n",
    "    while curr:\n",
    "        print(f'{curr.value} ->')\n",
    "        curr = curr.next\n",
    "\n",
    "\n",
    "def ll_insert(head, val, i):\n",
    "    # checks if the head is empty and if the index is zero to add at the beginning\n",
    "    if not head or i ==0:\n",
    "        return Node(val, head)\n",
    "    \n",
    "    # create a counter because we already know the linkedlist should start at position 1\n",
    "    # and not 0\n",
    "    count = 1\n",
    "    curr = head\n",
    "    while curr:\n",
    "        if count == i:\n",
    "            # if our index count equal the given index\n",
    "            # we insert the new node at the given index and assign\n",
    "            # the next attribute to point to the next node\n",
    "            curr.val = Node(val, curr.next)\n",
    "            return curr.value\n",
    "        curr = curr.next\n",
    "        count +=1\n",
    "    # Checks if the given idex is greater than the length of the linkedlist\n",
    "    # If so, we insert the new node at the end\n",
    "    curr.next = Node(val)\n",
    "    return head\n",
    "\n",
    "\n",
    "nine = Node('9')\n",
    "twelve = Node('12', nine)\n",
    "eight = Node('8', twelve)\n",
    "three = Node('3', eight)\n",
    "# linked list: 3 -> 8 -> 12 -> 9\n",
    "ll_insert(head, 20, 2)\n",
    "print_linkedList(three)\n",
    "\n",
    "# result linked list: 3 -> 8 -> 20 -> 12 -> 9"
   ]
  },
  {
   "cell_type": "markdown",
   "metadata": {},
   "source": [
    "# Problem 8: Linked Listify\n",
    "\n",
    "Write a function list_to_linked_list() that takes in a list lst as a parameter and converts it to a linked list. The function should return the head of the linked list.\n"
   ]
  },
  {
   "cell_type": "code",
   "execution_count": 54,
   "metadata": {},
   "outputs": [
    {
     "name": "stdout",
     "output_type": "stream",
     "text": [
      "Betty\n"
     ]
    }
   ],
   "source": [
    "class Node:\n",
    "    def __init__(self, value, next=None):\n",
    "        self.value = value\n",
    "        self.next = next\n",
    "\n",
    "\n",
    "def list_to_linked_list(lst):\n",
    "    if not lst:\n",
    "        return None\n",
    "\n",
    "    dummy = Node(lst[0])\n",
    "    curr = dummy\n",
    "    for i in lst[1:]:\n",
    "        curr.next = Node(i)\n",
    "        curr = curr.next\n",
    "    return dummy.value\n",
    "\n",
    "\n",
    "def print_linked_list(head):\n",
    "    current = head\n",
    "    while current:\n",
    "        print(current.value, end=\" -> \")\n",
    "        current = current.next\n",
    "    print(\"None\")\n",
    "\n",
    "\n",
    "normal_list = [\"Betty\", \"Veronica\", \"Archie\", \"Jughead\"]\n",
    "linked_list = list_to_linked_list(normal_list)\n",
    "print(linked_list) # Only prints the head element!\n"
   ]
  },
  {
   "cell_type": "markdown",
   "metadata": {},
   "source": [
    "# Problem 9: Doubly Linked List\n",
    "\n",
    "One of the drawbacks of a linked list is that it's difficult to go backwards, because each Node only knows about the Node in front of it. (E.g., A -> B -> C)\n",
    "\n",
    "A doubly linked list solves this problem! Instead of just having a next attribute, a doubly linked list also has a prev attribute that points to the Node before it. (E.g., A <-> B <-> C)\n",
    "\n",
    "Given the Node class for a doubly linked list below, recreate the list [\"Poliwag\", \"Poliwhirl\", \"Poliwrath\"] as a doubly linked list"
   ]
  },
  {
   "cell_type": "code",
   "execution_count": 55,
   "metadata": {},
   "outputs": [
    {
     "name": "stdout",
     "output_type": "stream",
     "text": [
      "poliwag <-> polwhirl <-> poliwrath\n"
     ]
    }
   ],
   "source": [
    "class Node:\n",
    "    def __init__(self, value, next=None, prev=None):\n",
    "        self.value = value\n",
    "        self.next = next\n",
    "        self.prev = prev\n",
    "\n",
    "\n",
    "poliwrath = Node('poliwrath')\n",
    "poliwag = Node('poliwag')\n",
    "poliwhirl = Node('polwhirl', poliwrath, poliwag)\n",
    "\n",
    "print(poliwhirl.prev.value, \"<->\", poliwhirl.value, \"<->\", poliwhirl.next.value)"
   ]
  },
  {
   "cell_type": "markdown",
   "metadata": {},
   "source": [
    "# Problem 10: Print Backwards\n",
    "\n",
    "Write a function print_reverse() that takes in the tail of a doubly linked list as a parameter.\n",
    "\n",
    "It should print out the values of the linked list in reverse order, each separated by a space."
   ]
  },
  {
   "cell_type": "code",
   "execution_count": 58,
   "metadata": {},
   "outputs": [
    {
     "name": "stdout",
     "output_type": "stream",
     "text": [
      "poliwrath\n"
     ]
    }
   ],
   "source": [
    "class Node:\n",
    "    def __init__(self, value, next=None, prev=None):\n",
    "        self.value = value\n",
    "        self.next = next\n",
    "        self.prev = prev\n",
    "\n",
    "\n",
    "def print_reverse(tail):\n",
    "    if not tail:\n",
    "        return tail\n",
    "    \n",
    "    val = []\n",
    "    curr = tail\n",
    "    while curr:\n",
    "        val.append(str(curr.value))\n",
    "        curr = curr.prev\n",
    "    print(\"\".join(val))\n",
    "        \n",
    "        \n",
    "\n",
    "\n",
    "poliwrath = Node(\"poliwrath\")\n",
    "poliwag = Node(\"poliwag\")\n",
    "poliwhirl = Node(\"polwhirl\", poliwrath, poliwag)\n",
    "\n",
    "print_reverse(poliwrath)"
   ]
  },
  {
   "cell_type": "markdown",
   "metadata": {},
   "source": [
    "# Problem Set Version 2"
   ]
  },
  {
   "cell_type": "markdown",
   "metadata": {},
   "source": [
    "## Problem 1: Poker Two-Pair Hand\n",
    "\n",
    "In poker, players are given a hand of five cards. A player has a \"two-pair\" hand if they have two cards of the same rank and another two cards of another rank. The fifth card isn’t used here.\n",
    "\n",
    "Given the Card class below, write a function is_two_pair() that takes in a list player_hand that contains 5 Card objects.\n",
    "\n",
    "The function returns True if the player has a two pair hand and False otherwise.\n",
    "\n",
    "Cards in the hand are guaranteed to be unique and are guaranteed to have on the following suits and ranks:\n",
    "\n",
    "The suit is one of the following values: \"Hearts\", \"Spades\", \"Clubs\", \"Diamonds\"\n",
    "The rank is one of the following values: '2', '3', '4', '5', '6', '7', '8', '9', '10', 'Jack', 'Queen', 'King', 'Ace'"
   ]
  },
  {
   "cell_type": "code",
   "execution_count": 79,
   "metadata": {},
   "outputs": [
    {
     "name": "stdout",
     "output_type": "stream",
     "text": [
      "{'Ace': 2, '4': 2, '6': 1}\n",
      "True\n",
      "{'4': 2, 'Ace': 1, '6': 1, '7': 1}\n",
      "False\n"
     ]
    }
   ],
   "source": [
    "class Card:\n",
    "    def __init__(self, suit, rank):\n",
    "        self.suit = suit\n",
    "        self.rank = rank\n",
    "\n",
    "\n",
    "def is_two_pair(player_hand):\n",
    "    if not player_hand:\n",
    "        return player_hand\n",
    "    \n",
    "    # keeps count of all the ranks in the player hand\n",
    "    rank_count = {}\n",
    "    for c in player_hand:\n",
    "        if c.rank in rank_count:\n",
    "            rank_count[c.rank] +=1\n",
    "        else:\n",
    "            rank_count[c.rank] = 1\n",
    "    print(rank_count)\n",
    "    pairs = 0\n",
    "    \n",
    "    # We iterate through the values of the rank count\n",
    "    for count in rank_count.values():\n",
    "        # if rank count == 2 then we have a pair\n",
    "        if count == 2:\n",
    "            pairs +=1\n",
    "    return pairs == 2\n",
    "    \n",
    "    \n",
    "    \n",
    "card_one = Card(\"Hearts\", \"Ace\")\n",
    "card_two = Card(\"Hearts\", \"4\")\n",
    "card_three = Card(\"Diamonds\", \"Ace\")\n",
    "card_four = Card(\"Diamonds\", \"4\")\n",
    "card_five = Card(\"Diamonds\", \"6\")\n",
    "card_six = Card(\"Diamonds\", \"7\")\n",
    "\n",
    "player_one_hand = [card_one, card_two, card_three, card_four, card_five]\n",
    "print(is_two_pair(player_one_hand))\n",
    "\n",
    "player_two_hand = [card_two, card_three, card_four, card_five, card_six]\n",
    "print(is_two_pair(player_two_hand))"
   ]
  },
  {
   "cell_type": "markdown",
   "metadata": {},
   "source": [
    "## Problem 2: Barbie Linked List\n",
    "\n",
    "A linked list is a new data type that, similar to a normal list or array, allows us to store pieces of data sequentially. The difference between a linked list and a normal list lies in how each element is stored in a computer’s memory.\n",
    "\n",
    "In a normal list, individual elements of the list are stored in adjacent memory locations according to the order they appear in the list. If we know where the first element of the list is stored, it’s really easy to find any other element in the list.\n",
    "\n",
    "In a linked list, the individual elements called nodes are not stored in sequential memory locations. Each node may be stored in an unrelated memory location. To connect nodes together into a sequential list, each node stores a reference or pointer to the next node in the list.\n",
    "\n",
    "Using the provided Node class below, recreate the list ['Barbie', 'President Barbie', 'Weird Barbie', 'Ken'] as a linked list."
   ]
  },
  {
   "cell_type": "code",
   "execution_count": 80,
   "metadata": {},
   "outputs": [
    {
     "name": "stdout",
     "output_type": "stream",
     "text": [
      "Barbie -> President Barbie\n",
      "President Barbie -> Weird Barbie\n",
      "Weird Barbie -> Ken\n",
      "Ken -> None\n"
     ]
    }
   ],
   "source": [
    "class Node:\n",
    "    def __init__(self, value, next=None):\n",
    "        self.value = value\n",
    "        self.next = next\n",
    "\n",
    "node_4 = Node(\"Ken\")\n",
    "node_3 = Node(\"Weird Barbie\", node_4)\n",
    "node_2 = Node(\"President Barbie\", node_3)\n",
    "node_1 = Node(\"Barbie\", node_2)\n",
    "\n",
    "\n",
    "print(node_1.value, \"->\", node_1.next.value)\n",
    "print(node_2.value, \"->\", node_2.next.value)\n",
    "print(node_3.value, \"->\", node_3.next.value)\n",
    "print(node_4.value, \"->\", node_4.next)"
   ]
  },
  {
   "cell_type": "markdown",
   "metadata": {},
   "source": [
    "## Problem 3: Insert Value First\n",
    "Using the Node class, write a function add_first() that takes in the head of a linked list and a value object val as parameters.\n",
    "\n",
    "The function shout insert a new Node object with value val as the new head of the linked list and return the new node.\n",
    "\n",
    "Note: The \"head\" of a linked list is the first element in the linked list. Equivalent to lst[0] of a normal list."
   ]
  },
  {
   "cell_type": "code",
   "execution_count": 102,
   "metadata": {},
   "outputs": [
    {
     "name": "stdout",
     "output_type": "stream",
     "text": [
      "Batman -> Barbie -> President Barbie -> Weird Barbie -> Ken -> None\n"
     ]
    }
   ],
   "source": [
    "class Node:\n",
    "    def __init__(self, value, next=None):\n",
    "        self.value = value\n",
    "        self.next = next\n",
    "\n",
    "\n",
    "def add_first(head, val):\n",
    "    if not head:\n",
    "        head = Node(val)\n",
    "        return head\n",
    "    # We create a new Node and have it point to the exisit head\n",
    "    new_head = Node(val, head)\n",
    "    return new_head \n",
    "\n",
    "\n",
    "def print_linked_list(head):\n",
    "    current = head\n",
    "    while current:\n",
    "        print(current.value, end=\" -> \")\n",
    "        current = current.next\n",
    "    print(\"None\")\n",
    "\n",
    "\n",
    "node_4 = Node(\"Ken\")\n",
    "node_3 = Node(\"Weird Barbie\", node_4)\n",
    "node_2 = Node(\"President Barbie\", node_3)\n",
    "node_1 = Node(\"Barbie\", node_2)\n",
    "\n",
    "# Linked List: node_1 -> node_2 -> node_3 -> node_4\n",
    "new_list = add_first(node_1, \"Batman\")  # Add \"Batman\" at the beginning\n",
    "# New List: \"Batman\" -> node_1 -> node_2 -> node_3 -> node_4\n",
    "print_linked_list(new_list)"
   ]
  },
  {
   "cell_type": "markdown",
   "metadata": {},
   "source": [
    "## Problem 4: Linked List Length\n",
    "Write a function ll_length() that takes in a head of a linked list as a parameter and returns the length of the linked list."
   ]
  },
  {
   "cell_type": "code",
   "execution_count": 104,
   "metadata": {},
   "outputs": [
    {
     "name": "stdout",
     "output_type": "stream",
     "text": [
      "3\n",
      "0\n"
     ]
    }
   ],
   "source": [
    "class Node:\n",
    "    def __init__(self, value, next=None):\n",
    "        self.value = value\n",
    "        self.next = next\n",
    "\n",
    "\n",
    "def ll_length(head):\n",
    "    if not head:\n",
    "        return 0\n",
    "    count = 0\n",
    "    curr = head\n",
    "    while curr:\n",
    "        curr = curr.next\n",
    "        count +=1\n",
    "    return count\n",
    "\n",
    "# Linked List: num1 -> num2 -> num3\n",
    "head = num1\n",
    "print(ll_length(head))\n",
    "\n",
    "# Empty Linked List\n",
    "head = None\n",
    "print(ll_length(head))"
   ]
  },
  {
   "cell_type": "markdown",
   "metadata": {},
   "source": [
    "## Problem 5: Delete Tail\n",
    "Write a function delete_tail() that takes in a head of a linked list as a parameter and removes the tail from the end of the list.\n",
    "\n",
    "The function does not need to return any value, as it modifies the linked list in place.\n",
    "\n",
    "Note: The \"tail\" of a list is the last element in the linked list. Equivalent to lst[-1] in a normal list."
   ]
  },
  {
   "cell_type": "code",
   "execution_count": 120,
   "metadata": {},
   "outputs": [
    {
     "name": "stdout",
     "output_type": "stream",
     "text": [
      "Barbie -> President Barbie -> Weird Barbie -> None\n"
     ]
    }
   ],
   "source": [
    "class Node:\n",
    "    def __init__(self, value, next=None):\n",
    "        self.value = value\n",
    "        self.next = next\n",
    "\n",
    "\n",
    "def delete_tail(head):\n",
    "    if head is None or head.next is None:\n",
    "        return None\n",
    "    \n",
    "    prev = None\n",
    "    curr = head\n",
    "    while curr.next:\n",
    "        prev = curr\n",
    "        curr = curr.next\n",
    "    prev.next = None\n",
    "    return  head\n",
    "\n",
    "def print_linked_list(head):\n",
    "    current = head\n",
    "    while current:\n",
    "        print(current.value, end=\" -> \")\n",
    "        current = current.next\n",
    "    print(\"None\")\n",
    "\n",
    "\n",
    "node_4 = Node(\"Ken\")\n",
    "node_3 = Node(\"Weird Barbie\", node_4)\n",
    "node_2 = Node(\"President Barbie\", node_3)\n",
    "node_1 = Node(\"Barbie\", node_2)\n",
    "\n",
    "# Linked List: node_1 -> node_2 -> node_3 -> node_4\n",
    "new_list = delete_tail(node_1)\n",
    "# New List: node_1 -> node_2 -> node_3\n",
    "print_linked_list(new_list)"
   ]
  },
  {
   "cell_type": "markdown",
   "metadata": {},
   "source": [
    "## Problem 6: Greatest Node\n",
    "Write a function find_max() that takes in a head of a linked list as a parameter where each node is an integer value.\n",
    "\n",
    "The function should return the maximum value in the linked list."
   ]
  },
  {
   "cell_type": "code",
   "execution_count": 130,
   "metadata": {},
   "outputs": [
    {
     "name": "stdout",
     "output_type": "stream",
     "text": [
      "50\n"
     ]
    }
   ],
   "source": [
    "class Node:\n",
    "\tdef __init__(self, value, next=None):\n",
    "\t\tself.value = value\n",
    "\t\tself.next = next\n",
    "\n",
    "def print_linked_list(head):\n",
    "    current = head\n",
    "    while current:\n",
    "        print(current.value, end=\" -> \")\n",
    "        current = current.next\n",
    "    print(\"None\")\n",
    "\n",
    "def find_max(head):\n",
    "    if head is None:\n",
    "        return head\n",
    "    \n",
    "    maxVal = float('-inf')\n",
    "    curr = head\n",
    "    while curr:\n",
    "        if curr.value > maxVal:\n",
    "            maxVal = curr.value\n",
    "        curr = curr.next\n",
    "        \n",
    "    return maxVal\n",
    "\n",
    "node_4 = Node(50)\n",
    "node_3 = Node(30, node_4)\n",
    "node_2 = Node(23, node_3)\n",
    "node_1 = Node(2, node_2)\n",
    "max_val = find_max(node_1)\n",
    "print(max_val)"
   ]
  },
  {
   "cell_type": "markdown",
   "metadata": {},
   "source": [
    "## Problem 7: Pop Node\n",
    "\n",
    "Write a function ll_pop() that takes in the head of a linked_list and an index i as parameters.\n",
    "\n",
    "The function should remove the node at index i of the linked list and return the head of the list.\n",
    "\n",
    "If i is greater than the length of the list, do nothing.\n",
    "Hint: Linked lists do not have built-in indices so you will need to track the indices yourself."
   ]
  },
  {
   "cell_type": "code",
   "execution_count": 143,
   "metadata": {},
   "outputs": [
    {
     "name": "stdout",
     "output_type": "stream",
     "text": [
      "num1 -> num2\n"
     ]
    }
   ],
   "source": [
    "class Node:\n",
    "    def __init__(self, value, next=None):\n",
    "        self.value = value  # Initialize the value of the node\n",
    "        self.next = next  # Initialize the next pointer of the node\n",
    "\n",
    "\n",
    "def ll_pop(head, i):\n",
    "    # Checks for the empty linkedlist & if we have a `i` less than 0\n",
    "    if head is None or i < 0:\n",
    "        return None\n",
    "    \n",
    "    # Now the edge case where the `i` is the head\n",
    "    if i == 0:\n",
    "        return head\n",
    "    \n",
    "    curr = head\n",
    "    prev = None\n",
    "    count = 0\n",
    "    while curr and i < count:\n",
    "        prev = curr\n",
    "        curr = curr.next\n",
    "        count +=1\n",
    "    \n",
    "    # Check if we have reached the node to be removed and it is valid\n",
    "    if curr.next is not None or prev.next is not None:\n",
    "        prev.next = curr.next\n",
    "\n",
    "\n",
    "# Create a linked list: num1 -> num2 -> num3\n",
    "num3 = Node(\"num3\")\n",
    "num2 = Node(\"num2\", num3)\n",
    "num1 = Node(\"num1\", num2)\n",
    "\n",
    "# Call the ll_pop function to remove the node at index 2 and print the new list structure\n",
    "new_list = ll_pop(num1, 2)\n",
    "\n",
    "\n",
    "# Function to print the linked list for verification\n",
    "def print_list(head):\n",
    "    curr = head\n",
    "    while curr:\n",
    "        print(curr.value, end=\" -> \" if curr.next else \"\")\n",
    "        curr = curr.next\n",
    "    print()\n",
    "\n",
    "\n",
    "print_list(new_list)  # Output the new list to verify the removal"
   ]
  },
  {
   "cell_type": "markdown",
   "metadata": {},
   "source": [
    "## Problem 8: FInd Middle Node\n",
    "Write a function find_middle_node() that takes in the head of a linked list and returns the \"middle\" node.\n",
    "\n",
    "If the linked list has an even length and there are two \"middle\" nodes, return the first middle node.\n",
    "(E.g., \"1 -> 2 -> 3 -> 4\" would return 2, not 3.)"
   ]
  },
  {
   "cell_type": "code",
   "execution_count": 149,
   "metadata": {},
   "outputs": [
    {
     "name": "stdout",
     "output_type": "stream",
     "text": [
      "num2\n"
     ]
    }
   ],
   "source": [
    "class Node:\n",
    "    def __init__(self, value, next=None):\n",
    "        self.value = value\n",
    "        self.next = next\n",
    "\n",
    "\n",
    "def find_middle_node(head):\n",
    "    if not head:\n",
    "        return head\n",
    "\n",
    "    slow = head\n",
    "    fast = head\n",
    "\n",
    "    while fast and fast.next:\n",
    "        slow = slow.next\n",
    "        fast = fast.next.next\n",
    "    print(slow.value)\n",
    "    return slow\n",
    "\n",
    "# Create a linked list: num1 -> num2 -> num3\n",
    "num3 = Node(\"num3\")\n",
    "num2 = Node(\"num2\", num3)\n",
    "num1 = Node(\"num1\", num2)\n",
    "\n",
    "# Call the ll_pop function to remove the node at index 2 and print the new list structure\n",
    "mid_node = find_middle_node(num1)\n",
    "\n",
    "\n"
   ]
  },
  {
   "cell_type": "markdown",
   "metadata": {},
   "source": [
    "## Problem 9: Create Double Links\n",
    "\n",
    "One of the drawbacks of a linked list is that it's difficult to go backwards, because each Node only knows about the Node in front of it. (E.g., A -> B -> C)\n",
    "\n",
    "A doubly linked list solves this problem! Instead of just having a next attribute, a doubly linked list also has a prev attribute that points to the Node before it. (E.g., A <-> B <-> C)\n",
    "\n",
    "Update the Node constructor below so that the code creates a doubly linked list with head <-> tail."
   ]
  },
  {
   "cell_type": "code",
   "execution_count": 157,
   "metadata": {},
   "outputs": [
    {
     "name": "stdout",
     "output_type": "stream",
     "text": [
      "First <-> Last\n",
      "First <-> Last\n"
     ]
    }
   ],
   "source": [
    "class Node:\n",
    "    def __init__(self, value, next=None, prev = None):\n",
    "        self.value = value\n",
    "        self.next = next\n",
    "        self.prev = prev\n",
    "\n",
    "head = Node(\"First\")\n",
    "tail = Node(\"Last\")\n",
    "\n",
    "head.next = tail\n",
    "tail.prev = head\n",
    "print(head.value, \"<->\", head.next.value)\n",
    "print(tail.prev.value, \"<->\", tail.value)"
   ]
  },
  {
   "cell_type": "markdown",
   "metadata": {},
   "source": [
    "## Problem 10: Double to Single\n",
    "Below are the node classes for a singly linked list and a doubly linked list. Write a function dll_to_sll() that takes in the head of a doubly linked list as a parameter and recreates it as a singly linked list.\n",
    "\n",
    "The function returns the head of the new singly linked list."
   ]
  },
  {
   "cell_type": "code",
   "execution_count": 160,
   "metadata": {},
   "outputs": [
    {
     "ename": "TypeError",
     "evalue": "Node.__init__() missing 1 required positional argument: 'value'",
     "output_type": "error",
     "traceback": [
      "\u001b[1;31m---------------------------------------------------------------------------\u001b[0m",
      "\u001b[1;31mTypeError\u001b[0m                                 Traceback (most recent call last)",
      "Cell \u001b[1;32mIn[160], line 33\u001b[0m\n\u001b[0;32m     31\u001b[0m \u001b[38;5;66;03m# DLL: Ice <-> Water <-> Steam\u001b[39;00m\n\u001b[0;32m     32\u001b[0m dll_head \u001b[38;5;241m=\u001b[39m ice\n\u001b[1;32m---> 33\u001b[0m sll_head \u001b[38;5;241m=\u001b[39m \u001b[43mdll_to_sll\u001b[49m\u001b[43m(\u001b[49m\u001b[43mdll_head\u001b[49m\u001b[43m)\u001b[49m\n\u001b[0;32m     35\u001b[0m \u001b[38;5;66;03m# SLL: Ice -> Water -> Steam\u001b[39;00m\n",
      "Cell \u001b[1;32mIn[160], line 16\u001b[0m, in \u001b[0;36mdll_to_sll\u001b[1;34m(dll_head)\u001b[0m\n\u001b[0;32m     13\u001b[0m \u001b[38;5;28;01mif\u001b[39;00m \u001b[38;5;129;01mnot\u001b[39;00m dll_head:\n\u001b[0;32m     14\u001b[0m     \u001b[38;5;28;01mreturn\u001b[39;00m \u001b[38;5;28;01mNone\u001b[39;00m\n\u001b[1;32m---> 16\u001b[0m dummy \u001b[38;5;241m=\u001b[39m \u001b[43mNode\u001b[49m\u001b[43m(\u001b[49m\u001b[43m)\u001b[49m\n\u001b[0;32m     17\u001b[0m dummy_head \u001b[38;5;241m=\u001b[39m dummy\n\u001b[0;32m     18\u001b[0m dll_head \u001b[38;5;241m=\u001b[39m dll_head\n",
      "\u001b[1;31mTypeError\u001b[0m: Node.__init__() missing 1 required positional argument: 'value'"
     ]
    }
   ],
   "source": [
    "class SLLNode:\n",
    "\tdef __init__(self, value, next = None):\n",
    "\t\tself.value = value\n",
    "\t\tself.next = next\n",
    "\n",
    "class DLLNode:\n",
    "\tdef __init__(self, value, next = None, prev = None):\n",
    "\t\tself.value = value\n",
    "\t\tself.next = next\n",
    "\t\tself.prev = prev\n",
    "\n",
    "def dll_to_sll(dll_head):\n",
    "    if not dll_head:\n",
    "        return None\n",
    "    \n",
    "    dummy = SLLNode()\n",
    "    dummy_head = dummy\n",
    "    \n",
    "    while dll_head:\n",
    "        dummy_head.next = SLLNode(dll_head.value)\n",
    "        dummy_head = dummy_head.next\n",
    "        dll_head = dll_head.next\n",
    "    return dummy.next\n",
    "        \n",
    "    \n",
    "\n",
    "ice = Node('Ice')\n",
    "water = Node('Water')\n",
    "steam = Node('Steam')\n",
    "\n",
    "# DLL: Ice <-> Water <-> Steam\n",
    "dll_head = ice\n",
    "sll_head = dll_to_sll(dll_head)\n",
    "\n",
    "# SLL: Ice -> Water -> Steam"
   ]
  },
  {
   "cell_type": "code",
   "execution_count": null,
   "metadata": {},
   "outputs": [],
   "source": []
  }
 ],
 "metadata": {
  "kernelspec": {
   "display_name": "tf2",
   "language": "python",
   "name": "python3"
  },
  "language_info": {
   "codemirror_mode": {
    "name": "ipython",
    "version": 3
   },
   "file_extension": ".py",
   "mimetype": "text/x-python",
   "name": "python",
   "nbconvert_exporter": "python",
   "pygments_lexer": "ipython3",
   "version": "3.10.14"
  }
 },
 "nbformat": 4,
 "nbformat_minor": 2
}
