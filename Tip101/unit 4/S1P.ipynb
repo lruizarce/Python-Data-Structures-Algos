{
 "cells": [
  {
   "cell_type": "code",
   "execution_count": 25,
   "metadata": {},
   "outputs": [
    {
     "name": "stdout",
     "output_type": "stream",
     "text": [
      "True\n",
      "False\n",
      "True\n"
     ]
    }
   ],
   "source": [
    "def is_prime(n):\n",
    "    if n <= 1:\n",
    "        return False\n",
    "    \n",
    "    for i in range(2,n):\n",
    "        if n%i ==0:\n",
    "            return False\n",
    "    return True\n",
    "\n",
    "\n",
    "print(is_prime(5))\n",
    "print(is_prime(12))\n",
    "print(is_prime(43))"
   ]
  },
  {
   "cell_type": "code",
   "execution_count": 18,
   "metadata": {},
   "outputs": [
    {
     "name": "stdout",
     "output_type": "stream",
     "text": [
      "[5, 4, 3, 2, 1]\n"
     ]
    }
   ],
   "source": [
    "def reverse_list(lst):\n",
    "    if len(lst) ==1:\n",
    "        return lst\n",
    "    l = 0\n",
    "    r = len(lst)-1\n",
    "    while l < r:\n",
    "        lst[l], lst[r] = lst[r], lst[l]\n",
    "        l +=1\n",
    "        r -=1\n",
    "    return lst\n",
    "\n",
    "print(reverse_list([1, 2, 3, 4, 5]))"
   ]
  },
  {
   "cell_type": "code",
   "execution_count": 19,
   "metadata": {},
   "outputs": [],
   "source": [
    "def reverse_list(lst):\n",
    "    # Create a new reversed list\n",
    "    reversed_lst = lst[::-1]\n",
    "    # Copy the elements back into the original list\n",
    "    for i in range(len(lst)):\n",
    "        lst[i] = reversed_lst[i]"
   ]
  },
  {
   "cell_type": "code",
   "execution_count": 9,
   "metadata": {},
   "outputs": [
    {
     "name": "stdout",
     "output_type": "stream",
     "text": [
      "[4, 2, 1, 3]\n",
      "[0]\n"
     ]
    }
   ],
   "source": [
    "def sort_array_by_parity(nums):\n",
    "    if len(nums) == 0 or len(nums) ==1:\n",
    "        return nums\n",
    "    \n",
    "    start = 0\n",
    "    end = len(nums)-1\n",
    "    while start < end:\n",
    "        if nums[start] % 2 != 0 and nums[end] % 2 ==0:\n",
    "            nums[start], nums[end] = nums[end], nums[start]\n",
    "            end -=1\n",
    "            start +=1\n",
    "\n",
    "    return nums\n",
    "    \n",
    "            \n",
    "            \n",
    "\n",
    "\n",
    "nums = [3, 1, 2, 4]\n",
    "nums2 = [0]\n",
    "print(sort_array_by_parity(nums))\n",
    "print(sort_array_by_parity(nums2))"
   ]
  },
  {
   "cell_type": "code",
   "execution_count": 20,
   "metadata": {},
   "outputs": [
    {
     "name": "stdout",
     "output_type": "stream",
     "text": [
      "ada\n",
      "racecar\n",
      "None\n"
     ]
    }
   ],
   "source": [
    "def valid_palindrome(str):\n",
    "    if len(str) ==1:\n",
    "        return True\n",
    "    \n",
    "    l = 0\n",
    "    r = len(str) - 1\n",
    "    while l < r:\n",
    "        if str[l] != str[r]:\n",
    "            return None\n",
    "        else:\n",
    "            l += 1\n",
    "            r -= 1\n",
    "    return True\n",
    "\n",
    "\n",
    "def first_palindrome(words):\n",
    "    for word in words:\n",
    "        if valid_palindrome(word) is True:\n",
    "            return word\n",
    "\n",
    "    \n",
    "\n",
    "\n",
    "words = [\"abc\", \"car\", \"ada\", \"racecar\", \"cool\"]\n",
    "palindrome1 = first_palindrome(words)\n",
    "print(palindrome1)\n",
    "\n",
    "words2 = [\"abc\", \"racecar\", \"cool\"]\n",
    "palindrome2 = first_palindrome(words2)\n",
    "print(palindrome2)\n",
    "\n",
    "words3 = [\"abc\", \"def\", \"ghi\"]\n",
    "palindrome3 = first_palindrome(words3)\n",
    "print(palindrome3)"
   ]
  },
  {
   "cell_type": "code",
   "execution_count": 24,
   "metadata": {},
   "outputs": [
    {
     "name": "stdout",
     "output_type": "stream",
     "text": [
      "5\n"
     ]
    }
   ],
   "source": [
    "def remove_duplicates(nums):\n",
    "    if not nums:\n",
    "        return 0\n",
    "    count = 1\n",
    "    for i in range(1, len(nums)):\n",
    "        if nums[i] != nums[i-1]:\n",
    "            count +=1\n",
    "    return count\n",
    "            \n",
    "\n",
    "nums = [1, 1, 2, 3, 4, 4, 4, 5]\n",
    "\n",
    "print(remove_duplicates(nums))"
   ]
  },
  {
   "cell_type": "code",
   "execution_count": 38,
   "metadata": {},
   "outputs": [
    {
     "name": "stdout",
     "output_type": "stream",
     "text": [
      "True\n",
      "True\n",
      "False\n"
     ]
    }
   ],
   "source": [
    "import math\n",
    "def is_perfect_number(n):\n",
    "    if n <= 1:\n",
    "        return False\n",
    "    sum_divisors = 1  # Start with 1 because 1 is a divisor of every number\n",
    "    sqrt_n = int(math.sqrt(n))\n",
    "    for i in range(2, sqrt_n + 1):\n",
    "        if n % i == 0:\n",
    "            sum_divisors += i\n",
    "            if i != n // i:\n",
    "                sum_divisors += n // i\n",
    "    return sum_divisors == n\n",
    "\n",
    "print(is_perfect_number(6))\n",
    "print(is_perfect_number(28))\n",
    "print(is_perfect_number(9))"
   ]
  },
  {
   "cell_type": "code",
   "execution_count": 39,
   "metadata": {},
   "outputs": [
    {
     "name": "stdout",
     "output_type": "stream",
     "text": [
      "[1, 3, 12, 0, 0]\n"
     ]
    }
   ],
   "source": [
    "def move_zeroes(nums):\n",
    "    l = 0\n",
    "    for r in range(len(nums)):\n",
    "        if nums[r] !=0:\n",
    "            nums[l], nums[r] = nums[r], nums[l]\n",
    "            l+=1\n",
    "    return nums\n",
    "\n",
    "print(move_zeroes([0,1,0,3,12]))\n",
    "\n"
   ]
  }
 ],
 "metadata": {
  "kernelspec": {
   "display_name": "tf2",
   "language": "python",
   "name": "python3"
  },
  "language_info": {
   "codemirror_mode": {
    "name": "ipython",
    "version": 3
   },
   "file_extension": ".py",
   "mimetype": "text/x-python",
   "name": "python",
   "nbconvert_exporter": "python",
   "pygments_lexer": "ipython3",
   "version": "3.10.14"
  }
 },
 "nbformat": 4,
 "nbformat_minor": 2
}
