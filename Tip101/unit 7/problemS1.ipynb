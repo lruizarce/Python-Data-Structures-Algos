{
 "cells": [
  {
   "cell_type": "markdown",
   "metadata": {},
   "source": [
    "# Session 1 P1"
   ]
  },
  {
   "cell_type": "markdown",
   "metadata": {},
   "source": [
    "## Problem 1: Hello Hello\n",
    "A recursive function is a function that calls itself within the body of the function.\n",
    "\n",
    "Step 1: Copy the recursive function repeat_hello() into Replit and run it.\n",
    "\n",
    "Step 2: Then create another function repeat_hello_iterative() that produces the same output without using recursion.\n",
    "\n",
    "Compare your iterative (non-recursive) solution to the recursive solution provided. What is similar? What is different?"
   ]
  },
  {
   "cell_type": "code",
   "execution_count": 1,
   "metadata": {},
   "outputs": [
    {
     "name": "stdout",
     "output_type": "stream",
     "text": [
      "Hello\n",
      "Hello\n",
      "Hello\n",
      "Hello\n",
      "Hello\n",
      "Hello\n",
      "Hello\n",
      "Hello\n",
      "Hello\n",
      "Hello\n"
     ]
    }
   ],
   "source": [
    "def repeat_hello(n):\n",
    "    if n > 0:\n",
    "        print(\"Hello\")\n",
    "        repeat_hello(n - 1)\n",
    "\n",
    "\n",
    "repeat_hello(5)\n",
    "\n",
    "def repeat_hello_iterative(n):\n",
    "    for i in range(n):\n",
    "        print(\"Hello\")\n",
    "        \n",
    "repeat_hello_iterative(5)"
   ]
  },
  {
   "cell_type": "markdown",
   "metadata": {},
   "source": [
    "## Problem 2: Factorial Cases\n",
    "\n",
    "Given the base case and recursive case, write a function factorial() that returns the factorial of a non-negative integer n. The factorial of a number is the product of all numbers between 1 and n.\n",
    "\n",
    "Base Case: The smallest number we can find a factorial of is 0. By definition, the factorial of 0 is 1.\n",
    "\n",
    "Recursive Case: We can restate the problem to say that the factorial of n is n * the factorial of n-1.\n"
   ]
  },
  {
   "cell_type": "code",
   "execution_count": 7,
   "metadata": {},
   "outputs": [
    {
     "data": {
      "text/plain": [
       "720"
      ]
     },
     "execution_count": 7,
     "metadata": {},
     "output_type": "execute_result"
    }
   ],
   "source": [
    "def factorial(n):\n",
    "    if n < 0:\n",
    "        return None\n",
    "        \n",
    "    if n == 0:\n",
    "        return 1\n",
    "    \n",
    "    return n * factorial(n-1)\n",
    "\n",
    "factorial(6)"
   ]
  },
  {
   "cell_type": "markdown",
   "metadata": {},
   "source": [
    "## Problem 3: Recursive Sum\n",
    "Without using the built-in sum() function, write a function sum_list() that calculates the sum of all values in a list recursively.\n",
    "\n",
    "What is the time complexity of this function? What is the space complexity?"
   ]
  },
  {
   "cell_type": "code",
   "execution_count": 8,
   "metadata": {},
   "outputs": [
    {
     "data": {
      "text/plain": [
       "15"
      ]
     },
     "execution_count": 8,
     "metadata": {},
     "output_type": "execute_result"
    }
   ],
   "source": [
    "def sum_list(lst):\n",
    "    if len(lst) == 0:\n",
    "        return 0\n",
    "    else:\n",
    "        return lst[0] + sum_list(lst[1:])\n",
    "        \n",
    "\n",
    "lst= [1, 2,3,4,5]\n",
    "sum_list(lst)"
   ]
  },
  {
   "cell_type": "markdown",
   "metadata": {},
   "source": [
    "## Problem 4: Recursive Power of 2\n",
    "Given an integer n, return True if n is a power of two. Otherwise, return `False``.\n",
    "\n",
    "An integer n is a power of two if there exists an integer x such that n == 2ˣ.\n",
    "\n",
    "Solve the problem recursively. What is the time complexity of this function? What is the space complexity?"
   ]
  },
  {
   "cell_type": "code",
   "execution_count": null,
   "metadata": {},
   "outputs": [],
   "source": [
    "def is_power_of_two(n):\n",
    "    if n == 0:\n",
    "        return 1\n",
    "    else:\n",
    "        return 2 * is_power_of_two(n)"
   ]
  },
  {
   "cell_type": "markdown",
   "metadata": {},
   "source": [
    "## Problem 5: Binary Search I\n",
    "Binary search is a searching algorithm that allows us to efficiently find the index of a given value within a sorted list. Given the pseudo code for binary search below, implement an iterative (non-recursive) implementation of binary search. There is also a recursive alternative that we’ll cover in the session 2 problem set!\n",
    "\n",
    "Evaluate the time and space complexity of your implementation."
   ]
  },
  {
   "cell_type": "code",
   "execution_count": 9,
   "metadata": {},
   "outputs": [
    {
     "data": {
      "text/plain": [
       "5"
      ]
     },
     "execution_count": 9,
     "metadata": {},
     "output_type": "execute_result"
    }
   ],
   "source": [
    "def binary_search(lst, target):\n",
    "    left, right = 0, len(lst) -1\n",
    "    while left < right:\n",
    "        mid = (left + right) // 2\n",
    "        if lst[mid] == target:\n",
    "            return mid\n",
    "        elif lst[mid] > target:\n",
    "            right = mid -1\n",
    "        else:\n",
    "            left = mid + 1\n",
    "    return -1\n",
    "\n",
    "lst = [1, 3, 5, 7, 9, 11, 13, 15]\n",
    "target = 11\n",
    "binary_search(lst, target)"
   ]
  },
  {
   "cell_type": "markdown",
   "metadata": {},
   "source": [
    "## Problem 6: Backwards Binary Search\n",
    "Generally binary search returns the index of the first occurrence of the target in the list. Write an updated version of binary search find_last() that, given a list that may contain duplicates, returns the index of the last occurrence of target.\n",
    "\n",
    "Evaluate the time and space complexity of your function."
   ]
  },
  {
   "cell_type": "code",
   "execution_count": 11,
   "metadata": {},
   "outputs": [
    {
     "data": {
      "text/plain": [
       "6"
      ]
     },
     "execution_count": 11,
     "metadata": {},
     "output_type": "execute_result"
    }
   ],
   "source": [
    "def find_last(lst, target):\n",
    "    left, right  = 0, len(lst) -1\n",
    "    min_idx = -1\n",
    "    while left < right:\n",
    "        mid = (left + right) // 2\n",
    "        if lst[mid] == target:\n",
    "            min_idx = mid\n",
    "            left = mid + 1\n",
    "        elif lst[mid] < target:\n",
    "            left = mid + 1\n",
    "        else:\n",
    "            right = mid -1\n",
    "    return min_idx\n",
    "\n",
    "\n",
    "lst = [1, 3, 5, 7, 9, 11, 11, 13, 15]\n",
    "target = 11\n",
    "find_last(lst, target)"
   ]
  },
  {
   "cell_type": "markdown",
   "metadata": {},
   "source": [
    "## Problem 7: Find Floor\n",
    "Given a sorted list of integers and a value x, return the index of the floor of x. The floor of x is the largest element in the array smaller than or equal to x. If there is no floor of x, return -1.\n",
    "\n",
    "Evaluate the time and space complexity of your function."
   ]
  },
  {
   "cell_type": "code",
   "execution_count": null,
   "metadata": {},
   "outputs": [],
   "source": [
    "def find_floor(lst, x):\n",
    "    left, right = 0, len(lst) -1\n",
    "    floor_idx = -1\n",
    "    while left<=right:\n",
    "        mid = (left + right) // 2\n",
    "        if lst[mid] == x:\n",
    "            return mid\n",
    "        elif lst[mid] < x:\n",
    "            floor_idx = mid\n",
    "            left = mid + 1\n",
    "        else:\n",
    "            right = mid -1\n",
    "    return floor_idx\n",
    "\n",
    "lst = [1, 2, 4, 6, 8, 10]\n",
    "x = 5\n",
    "result = find_floor(lst, x)\n",
    "print(f\"Floor index of {x} is {result}\")"
   ]
  },
  {
   "cell_type": "markdown",
   "metadata": {},
   "source": [
    "# Session 1 P2"
   ]
  },
  {
   "cell_type": "markdown",
   "metadata": {},
   "source": [
    "## Problem 1: Counting Down\n",
    "A recursive function is a function that calls itself within the body of the function.\n",
    "\n",
    "Step 1: Copy this code into Replit and run it.\n",
    "\n",
    "Step 2: Then create another function countdown_iterative() that produces the same output without using recursion.\n",
    "\n",
    "Compare your iterative (non-recursive) solution to the recursive solution provided. What is similar? What is different?"
   ]
  },
  {
   "cell_type": "code",
   "execution_count": 35,
   "metadata": {},
   "outputs": [
    {
     "name": "stdout",
     "output_type": "stream",
     "text": [
      "5\n",
      "4\n",
      "3\n",
      "2\n",
      "1\n"
     ]
    }
   ],
   "source": [
    "# def countdown(n):\n",
    "# \tif n > 0:\n",
    "# \t\tprint(n)\n",
    "# \t\tcountdown(n - 1)\n",
    "\t\t\n",
    "# countdown(5)\n",
    "\n",
    "def count_down_iterative(n):\n",
    "    for i in range(5, 0, -1):\n",
    "        print(i)\n",
    "        \n",
    "count_down_iterative(5)"
   ]
  },
  {
   "cell_type": "markdown",
   "metadata": {},
   "source": [
    "## Problem 2: Fibonacci Cases\n",
    "Given the base case and recursive case, write a function fibonacci() that returns the nth number in the fibonacci sequence. The Fibonacci sequence is a mathematical sequence of numbers where each number is the sum of the two preceding numbers.\n",
    "\n",
    "Base Cases: Because Fibonacci numbers are defined by adding the two previous numbers in the sequence, the first two Fibonacci numbers are pre-defined. By definition, the 0th Fibonacci number is 0, and the 1st Fibonacci number is 1.\n",
    "\n",
    "Recursive Case: The nth Fibonacci number is the n-1th Fibonacci number + the n-2th Fibonacci number."
   ]
  },
  {
   "cell_type": "code",
   "execution_count": 17,
   "metadata": {},
   "outputs": [
    {
     "data": {
      "text/plain": [
       "8"
      ]
     },
     "execution_count": 17,
     "metadata": {},
     "output_type": "execute_result"
    }
   ],
   "source": [
    "def fibonacci(n):\n",
    "    if n == 0:\n",
    "        return 0\n",
    "    if n == 1:\n",
    "        return 1\n",
    "    return fibonacci(n-1) + fibonacci(n-2)\n",
    "\n",
    "fibonacci(6)"
   ]
  },
  {
   "cell_type": "markdown",
   "metadata": {},
   "source": [
    "## Problem 3: Recursive Product\n",
    "Write a function list_product() that calculates the product of all values in a list recursively.\n",
    "\n",
    "What is the time complexity of this function? What is the space complexity?"
   ]
  },
  {
   "cell_type": "code",
   "execution_count": 21,
   "metadata": {},
   "outputs": [
    {
     "data": {
      "text/plain": [
       "120"
      ]
     },
     "execution_count": 21,
     "metadata": {},
     "output_type": "execute_result"
    }
   ],
   "source": [
    "def list_product(lst):\n",
    "    if len(lst) == 0:\n",
    "        return 1\n",
    "    return lst[0] * list_product(lst[1:])\n",
    "\n",
    "lst = [1, 2, 3, 4, 5]\n",
    "list_product(lst)"
   ]
  },
  {
   "cell_type": "markdown",
   "metadata": {},
   "source": [
    "## Problem 4: Recursive Power of 4\n",
    "Given an integer n, return True if n is a power of four. Otherwise, return False.\n",
    "\n",
    "An integer n is a power of four if there exists an integer x such that n == 4ˣ.\n",
    "\n",
    "Solve the problem recursively. What is the time complexity of this function? What is the space complexity?"
   ]
  },
  {
   "cell_type": "code",
   "execution_count": 22,
   "metadata": {},
   "outputs": [],
   "source": [
    "def is_power_of_four(n):\n",
    "    if n == 1:\n",
    "        return True\n",
    "    if n < 1 or n % 4 != 0:\n",
    "        return False\n",
    "    return is_power_of_four(n // 4)"
   ]
  },
  {
   "cell_type": "markdown",
   "metadata": {},
   "source": [
    "## Problem 5: Binary Search II\n",
    "Binary search is a searching algorithm that allows us to efficiently find the index of a given value within a sorted list. Given the recursive solution for binary search below, implement an iterative (non-recursive) implementation of binary search.\n",
    "\n",
    "Evaluate the time and space complexity of your implementation."
   ]
  },
  {
   "cell_type": "code",
   "execution_count": 36,
   "metadata": {},
   "outputs": [
    {
     "data": {
      "text/plain": [
       "5"
      ]
     },
     "execution_count": 36,
     "metadata": {},
     "output_type": "execute_result"
    }
   ],
   "source": [
    "def binary_search_recursive(lst, target):\n",
    "    left, right = 0, len(lst) -1\n",
    "    while left < right:\n",
    "        mid = (left + right) // 2\n",
    "        if lst[mid] == target:\n",
    "            return mid\n",
    "        elif lst[mid] > target:\n",
    "            right = mid -1\n",
    "        else:\n",
    "            left = mid + 1\n",
    "    \n",
    "    \n",
    "lst = [1, 3, 5, 7, 9, 11, 13, 15]\n",
    "target = 11\n",
    "binary_search_recursive(lst, target)\n"
   ]
  },
  {
   "cell_type": "markdown",
   "metadata": {},
   "source": [
    "## Problem 6: Find Ceiling\n",
    "Given a sorted list of integers and a value x, return the index of the ceiling of x. The ceiling of x is the smallest element in the array larger than or equal to x. If there is no ceiling of x, return -1.\n",
    "\n",
    "Evaluate the time and space complexity of your function."
   ]
  },
  {
   "cell_type": "code",
   "execution_count": 40,
   "metadata": {},
   "outputs": [
    {
     "name": "stdout",
     "output_type": "stream",
     "text": [
      "2\n"
     ]
    }
   ],
   "source": [
    "def find_ceiling(lst, x):\n",
    "    low, high = 0, len(lst) -1\n",
    "    ceiling = -1\n",
    "    while low <= high:\n",
    "        mid = (low + high) // 2\n",
    "        if lst[mid] < x:\n",
    "            low = mid + 1\n",
    "        else:\n",
    "            ceiling = mid\n",
    "            high = mid - 1\n",
    "    return ceiling\n",
    "            \n",
    "\n",
    "lst = [1, 2, 8, 10, 11, 12, 19]\n",
    "x = 5\n",
    "print(find_ceiling(lst, x))"
   ]
  },
  {
   "cell_type": "markdown",
   "metadata": {},
   "source": [
    "## Problem 7: Ternary Search\n",
    "Ternary search is a search algorithm that, similar to binary search, works on a sorted array. However, instead of dividing the search interval into two halves (as in binary search), ternary search divides it into three parts, using two midpoints. This reduces the problem size to approximately one-third in each step, rather than one-half.\n",
    "\n",
    "Given the pseudocode for ternary_search() below, implement the function. Evaluate the time and space complexity of your solution"
   ]
  },
  {
   "cell_type": "code",
   "execution_count": 55,
   "metadata": {},
   "outputs": [
    {
     "data": {
      "text/plain": [
       "2"
      ]
     },
     "execution_count": 55,
     "metadata": {},
     "output_type": "execute_result"
    }
   ],
   "source": [
    "def ternary_search(lst, target):\n",
    "  # Divide the array into three parts using two mid points (mid1 and mid2).\n",
    "    l, r = 0, len(lst) -1\n",
    "    if r >= 1:  \n",
    "        mid1 = l + ((r-l) // 3)\n",
    "        mid2 = r - ((r-l)// 3)\n",
    "        if lst[mid1] == x:\n",
    "            return mid1\n",
    "        if lst[mid2] == x:\n",
    "            return mid2\n",
    "        if lst[mid1] > x:\n",
    "            r = mid1 -1\n",
    "        elif lst[mid2] < x:\n",
    "            l = mid2 + 1\n",
    "        else:\n",
    "            l = mid1 + 1\n",
    "            r = mid2 -1\n",
    "    return -1\n",
    "  \n",
    "  \n",
    "lst = [1, 3, 5, 7, 9, 11, 13, 15]\n",
    "target = 11\n",
    "ternary_search(lst, target)"
   ]
  },
  {
   "cell_type": "markdown",
   "metadata": {},
   "source": [
    "# Session 1 P3"
   ]
  },
  {
   "cell_type": "markdown",
   "metadata": {},
   "source": [
    "## Problem 1: In The Stars\n",
    "A recursive function is a function that calls itself within the body of the function.\n",
    "\n",
    "Step 1: Copy the recursive function insert_stars() into Replit and run it.\n",
    "\n",
    "Step 2: Then create another function insert_stars_iterative() that produces the same output without using recursion or the built-in join() method.\n",
    "\n",
    "Compare your iterative (non-recursive) solution to the recursive solution provided. What is similar? What is different?"
   ]
  },
  {
   "cell_type": "code",
   "execution_count": null,
   "metadata": {},
   "outputs": [],
   "source": [
    "def insert_stars(s):\n",
    "    # If the string is empty or has only one character, return it as is\n",
    "    if len(s) <= 1:\n",
    "        return s\n",
    "    # Otherwise, insert '*' between the first character and the rest, then recurse\n",
    "    else:\n",
    "        return s[0] + \"*\" + insert_stars(s[1:])\n",
    "\n",
    "\n",
    "insert_stars(\"abc\")"
   ]
  },
  {
   "cell_type": "markdown",
   "metadata": {},
   "source": [
    "## Problem 2: String Length Cases\n",
    "Given the base case and recursive case, write a recursive function string_length() that returns the length of a string s without using the built-in len() function.\n",
    "\n",
    "Base Case: An empty string should have size 0.\n",
    "\n",
    "Recursive Case: We can restate the problem to say that the string length is 1 + the length of s[1:]."
   ]
  },
  {
   "cell_type": "code",
   "execution_count": 57,
   "metadata": {},
   "outputs": [
    {
     "data": {
      "text/plain": [
       "3"
      ]
     },
     "execution_count": 57,
     "metadata": {},
     "output_type": "execute_result"
    }
   ],
   "source": [
    "def string_length(s):\n",
    "    if not s:\n",
    "        return 0\n",
    "    return 1 + string_length(s[1:])\n",
    "\n",
    "string_length('abc')"
   ]
  },
  {
   "cell_type": "markdown",
   "metadata": {},
   "source": [
    "## Problem 3: Recursive Digits Sum\n",
    "Given a non-negative integer n, write a function sum_digits() that calculates and returns the sum of its digits recursively.\n",
    "\n",
    "Evaluate the time and space complexity of your solution."
   ]
  },
  {
   "cell_type": "code",
   "execution_count": 60,
   "metadata": {},
   "outputs": [
    {
     "data": {
      "text/plain": [
       "6"
      ]
     },
     "execution_count": 60,
     "metadata": {},
     "output_type": "execute_result"
    }
   ],
   "source": [
    "def sum_of_digits(n):\n",
    "    if n == 0:\n",
    "        return 0\n",
    "    else:\n",
    "        # 3 % 10 return 3\n",
    "        # what n // 10 does is removes the last digit in the list\n",
    "        # FIRST CALL:\n",
    "        # (123 % 10) = 3  + sum_of_digit(123 // 10) = 12\n",
    "        # 3 + sum_of_digits(12)\n",
    "        # SECOND CALL\n",
    "        # ((3) + 12 % 10 = 2 ) + sum_of_digits(12//10) = 1\n",
    "        # (5) + sum_of_digits(1)\n",
    "        # THRID CALL:\n",
    "        #  (5+(1 % 10= 1)) + sum_of_digits(1 //10) = 0\n",
    "        # 6 + sum_of_digits(0)\n",
    "        \n",
    "        return (n % 10) + sum_of_digits(n // 10)\n",
    "    \n",
    "sum_of_digits(123)"
   ]
  },
  {
   "cell_type": "markdown",
   "metadata": {},
   "source": [
    "## Problem 4: Recursive Count 7s\n",
    "Given a non-negative integer n, write a recursive function count_sevens() that returns the count of the occurrences of 7 as a digit.\n",
    "\n",
    "Evaluate the time and space complexity of your solution."
   ]
  },
  {
   "cell_type": "code",
   "execution_count": null,
   "metadata": {},
   "outputs": [],
   "source": [
    "def count_sevens(n):\n",
    "    if n == 0:\n",
    "        return 0\n",
    "    # Checks if the value is 7\n",
    "    elif n % 10 == 7:\n",
    "        # 1 + count_sevens( on the remaining numbers)\n",
    "        return 1 + count_sevens(n // 10)\n",
    "    else:\n",
    "        # checks the next value \n",
    "        return count_sevens(n//10)\n",
    "\n",
    "count_sevens(727)"
   ]
  },
  {
   "cell_type": "markdown",
   "metadata": {},
   "source": [
    "## Problem 5: Binary Search III\n",
    "Binary search is a searching algorithm that allows us to efficiently find the index of a given value within a sorted list. Given the pseudo code for binary search below, implement an iterative (non-recursive) implementation of binary search that returns True if the given target is in the list and False otherwise. There is also a recursive alternative that we’ll cover in the session 2 problem set!\n",
    "\n",
    "Evaluate the time and space complexity of your implementation."
   ]
  },
  {
   "cell_type": "code",
   "execution_count": 62,
   "metadata": {},
   "outputs": [
    {
     "data": {
      "text/plain": [
       "True"
      ]
     },
     "execution_count": 62,
     "metadata": {},
     "output_type": "execute_result"
    }
   ],
   "source": [
    "def binary_search(lst, target):\n",
    "\t# Initialize a left pointer to the 0th index in the list\n",
    "\t# Initialize a right pointer to the last index in the list\n",
    "    l, r = 0, len(lst)-1\n",
    "\t\n",
    "    while l < r:\n",
    "        mid = (l+r) // 2\n",
    "        if lst[mid] == target:\n",
    "            return True\n",
    "        elif lst[mid] < target:\n",
    "            l = mid + 1\n",
    "        else:\n",
    "            r = mid -1\n",
    "    return False\n",
    "\n",
    "\n",
    "lst = [1, 3, 5, 7, 9, 11, 13, 15]\n",
    "target = 11\n",
    "binary_search(lst, target)"
   ]
  },
  {
   "cell_type": "markdown",
   "metadata": {},
   "source": [
    "## Problem 6: Find Missing\n",
    "Given a sorted list of integers nums containing n distinct numbers in the range [0, n], return the only number in the range that is missing from the list.\n",
    "\n",
    "Your solution must have O(log n) time complexity."
   ]
  },
  {
   "cell_type": "code",
   "execution_count": 64,
   "metadata": {},
   "outputs": [
    {
     "name": "stdout",
     "output_type": "stream",
     "text": [
      "2\n"
     ]
    }
   ],
   "source": [
    "def find_missing(nums):\n",
    "    l, r = 0, len(nums)-1\n",
    "    while l < r:\n",
    "        mid = (l+r) // 2\n",
    "        # if the value at the middle index is greater than\n",
    "        # the middle index, it means the missing number is to the left\n",
    "        # of `mid` (including `mid`), so we adjust `r` to `mid`\n",
    "        if nums[mid] > mid:\n",
    "            r = mid\n",
    "        else:\n",
    "            l = mid + 1\n",
    "    return l\n",
    "        \n",
    "\n",
    "nums = [0,1,3]\n",
    "find_missing(nums)"
   ]
  },
  {
   "cell_type": "markdown",
   "metadata": {},
   "source": [
    "## Problem 7: Square Root\n",
    "Given a positive number, return the square root of it. If the number is not a perfect square, return the floor of its square root."
   ]
  },
  {
   "cell_type": "code",
   "execution_count": 65,
   "metadata": {},
   "outputs": [
    {
     "data": {
      "text/plain": [
       "2"
      ]
     },
     "execution_count": 65,
     "metadata": {},
     "output_type": "execute_result"
    }
   ],
   "source": [
    "def sqrt(x):\n",
    "    if x < 2:\n",
    "        return x\n",
    "    # l = 1, r = 8 // 2 = 4\n",
    "    l, r = 1, x//2\n",
    "    while l <= r:\n",
    "        #     (1 + 9) // 2 = 5\n",
    "        mid = (l+r) // 2\n",
    "        # 5*5 = 25\n",
    "        mid_squared = mid*mid\n",
    "        # 25 = 8\n",
    "        if mid_squared == x:\n",
    "            return mid\n",
    "        # 25 < 8\n",
    "        elif mid_squared < x:\n",
    "            # move left pointer \n",
    "            l = mid + 1\n",
    "        else:\n",
    "            # \n",
    "            r = mid -1\n",
    "    return r\n",
    "sqrt(8)"
   ]
  },
  {
   "cell_type": "markdown",
   "metadata": {},
   "source": [
    "# Session 2 P1"
   ]
  },
  {
   "cell_type": "markdown",
   "metadata": {},
   "source": [
    "## Problem 1: Neatly Nested\n",
    "Given a string, return True if it is a nesting of zero or more pairs of parentheses. Return False otherwise. A valid pair of parentheses is defined as (). The input string will only contain the characters ( or ). Your solution must be recursive.\n",
    "\n",
    "Evaluate the time and space complexity of your solution."
   ]
  },
  {
   "cell_type": "code",
   "execution_count": 66,
   "metadata": {},
   "outputs": [],
   "source": [
    "def is_nested(paren_s):\n",
    "    if paren_s ==\"\":\n",
    "        return True\n",
    "    if len(paren_s) >=2 and paren_s[0] =='(' and paren_s[-1] ==')':\n",
    "        return is_nested(paren_s[1:-1])\n",
    "    return False"
   ]
  },
  {
   "cell_type": "markdown",
   "metadata": {},
   "source": [
    "## Problem 2: How Many 1s\n",
    "Given a sorted list of integers containing only 0s and 1s, count the total number of 1’s in the array in O(log n) time."
   ]
  },
  {
   "cell_type": "code",
   "execution_count": 67,
   "metadata": {},
   "outputs": [
    {
     "data": {
      "text/plain": [
       "3"
      ]
     },
     "execution_count": 67,
     "metadata": {},
     "output_type": "execute_result"
    }
   ],
   "source": [
    "def count_ones(lst):\n",
    "    l, r = 0, len(lst) -1\n",
    "    # After the while loop our l pointer will be at the start of the 1's\n",
    "    \n",
    "    while l <= r:\n",
    "        mid = (l+r) // 2\n",
    "        if lst[mid] < 1:\n",
    "            l = mid + 1\n",
    "        else:\n",
    "            r = mid -1\n",
    "    \n",
    "    \n",
    "    \n",
    "    # Checks that our l pointer within the range of the list AND\n",
    "    # checks if the value at pointer l = 1\n",
    "    # Since we know that the list is sorted we subtract from the total length\n",
    "    # of the list\n",
    "    if l < len(lst) and lst[l] == 1:\n",
    "        return len(lst) - l\n",
    "    \n",
    "    \n",
    "    return 0\n",
    "            \n",
    "\n",
    "\n",
    "## REVIEW"
   ]
  },
  {
   "cell_type": "markdown",
   "metadata": {},
   "source": [
    "## Problem 3: Binary Search IV\n",
    "Thus far, we’ve mostly been using an iterative implementation of the binary search algorithm. Recursive implementations of binary search are also very common. Implement binary_search() recursively."
   ]
  },
  {
   "cell_type": "code",
   "execution_count": 69,
   "metadata": {},
   "outputs": [],
   "source": [
    "def binary_search(nums,left, right, target):\n",
    "    if left > right:\n",
    "        return -1\n",
    "    mid = (left + right) // 2\n",
    "    if nums[mid] == target:\n",
    "        return mid\n",
    "    elif nums[mid] < target:\n",
    "        return binary_search(nums, left, mid -1, target)\n",
    "    else:\n",
    "        return binary_search(nums, mid + 1, right, target)\n",
    "def binary_search_recursive(nums, target):\n",
    "    return binary_search(nums, 0, len(nums)-1, target)"
   ]
  },
  {
   "cell_type": "markdown",
   "metadata": {},
   "source": [
    "## Problem 4: Count Rotations\n",
    "You are given a circularly sorted list of integers. A circularly sorted list of integers is a sorted list whose elements have then been rotated some number of times such that the last element of the array becomes the first element of the array. Write a function count_rotations() that returns the total number of times the array is rotated. Assume there are no duplicates in the array."
   ]
  },
  {
   "cell_type": "code",
   "execution_count": 70,
   "metadata": {},
   "outputs": [
    {
     "ename": "SyntaxError",
     "evalue": "expected ':' (1371542733.py, line 17)",
     "output_type": "error",
     "traceback": [
      "\u001b[1;36m  Cell \u001b[1;32mIn[70], line 17\u001b[1;36m\u001b[0m\n\u001b[1;33m    else;\u001b[0m\n\u001b[1;37m        ^\u001b[0m\n\u001b[1;31mSyntaxError\u001b[0m\u001b[1;31m:\u001b[0m expected ':'\n"
     ]
    }
   ],
   "source": [
    "def count_rotations(nums):\n",
    "    l, h = 0, len(nums) -1\n",
    "    while l <= h:\n",
    "        if nums[l] <= nums[h]:\n",
    "            return l\n",
    "        # first iteration mid = 3\n",
    "        mid = (l+h) // 2\n",
    "        # next_idx = (3+1) % 7 = 4\n",
    "        next_idx = (mid + 1) % len(nums)\n",
    "        # prev_idx = (3-1 + 7) % 7 = 2 \n",
    "        prev_idx = (mid -1 + len(nums)) % len(nums)\n",
    "        \n",
    "        if nums[mid] > nums[prev_idx] and nums[mid] < nums[next_idx]:\n",
    "            return mid\n",
    "        elif nums[mid] > nums[next_idx]:\n",
    "            l = mid + 1\n",
    "        else:\n",
    "            r = mid -1\n",
    "    return 0\n",
    "        \n",
    "\n",
    "nums = [11, 12, 15, 18, 2, 5, 6, 8]\n",
    "count_rotations(nums)"
   ]
  },
  {
   "cell_type": "code",
   "execution_count": null,
   "metadata": {},
   "outputs": [],
   "source": []
  }
 ],
 "metadata": {
  "kernelspec": {
   "display_name": "tf2",
   "language": "python",
   "name": "python3"
  },
  "language_info": {
   "codemirror_mode": {
    "name": "ipython",
    "version": 3
   },
   "file_extension": ".py",
   "mimetype": "text/x-python",
   "name": "python",
   "nbconvert_exporter": "python",
   "pygments_lexer": "ipython3",
   "version": "3.10.14"
  }
 },
 "nbformat": 4,
 "nbformat_minor": 2
}
