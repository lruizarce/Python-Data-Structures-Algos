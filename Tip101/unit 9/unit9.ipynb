{
 "cells": [
  {
   "cell_type": "markdown",
   "metadata": {},
   "source": [
    "# Session 1 PS 1"
   ]
  },
  {
   "cell_type": "markdown",
   "metadata": {},
   "source": [
    "# Session 2 PS1"
   ]
  },
  {
   "cell_type": "markdown",
   "metadata": {},
   "source": [
    "## Problem 1: Is Symmetric Tree\n",
    "Given the root of a binary tree, return True if the tree’s left and right subtrees are mirrors of each other (i.e., tree is symmetric around its center). Return False otherwise.\n",
    "\n",
    "Evaluate the time complexity of your function."
   ]
  },
  {
   "cell_type": "code",
   "execution_count": 25,
   "metadata": {},
   "outputs": [
    {
     "name": "stdout",
     "output_type": "stream",
     "text": [
      "True\n"
     ]
    }
   ],
   "source": [
    "class TreeNode:\n",
    "    def __init__(self, val=0, left=None, right=None):\n",
    "        self.val = val\n",
    "        self.left = left\n",
    "        self.right = right\n",
    "\n",
    "def sym_helper(left, right):\n",
    "    if left is None and right is None:\n",
    "        return True\n",
    "    if left is None or right is None:\n",
    "        return False\n",
    "    if left.val != right.val:\n",
    "        return False\n",
    "    return sym_helper(left.left, right.right) and sym_helper(left.left, right.right)\n",
    "\n",
    "def is_symmetric(root):\n",
    "    if root is None:\n",
    "        return True\n",
    "    return sym_helper(root.left, root.right)\n",
    "\n",
    "# Example usage:\n",
    "root = TreeNode(1)\n",
    "root.left = TreeNode(2)\n",
    "root.right = TreeNode(2)\n",
    "root.left.left = TreeNode(3)\n",
    "root.left.right = TreeNode(4)\n",
    "root.right.left = TreeNode(4)\n",
    "root.right.right = TreeNode(3)\n",
    "\n",
    "print(is_symmetric(root))  # This should print True\n",
    "\n",
    "\n",
    "# Example Tree #1:\n",
    "\n",
    "#        1\n",
    "#      /   \\\n",
    "#     /     \\\n",
    "#    2       2\n",
    "#   / \\     / \\\n",
    "#  3   4   4   3\n",
    "#            |\n",
    "\n",
    "\n",
    "# Input: root = 1\n",
    "# Expected Output: True\n",
    "\n",
    "\n",
    "# Example Tree #2:\n",
    "\n",
    "#         1\n",
    "#       /   \\\n",
    "#      /     \\\n",
    "#     2       2\n",
    "#      \\       \\\n",
    "#       3       3\n",
    "\n",
    "\n",
    "# Input: root = 1\n",
    "# Expected Output: False"
   ]
  },
  {
   "cell_type": "markdown",
   "metadata": {},
   "source": [
    "## Problem 2: Root-to-Leaf Paths\n",
    "Given the root of a binary tree, return a list of all root-to-leaf paths in any order.\n",
    "\n",
    "A leaf is a node with no children.\n",
    "\n",
    "Evaluate the time complexity of your function."
   ]
  },
  {
   "cell_type": "code",
   "execution_count": 45,
   "metadata": {},
   "outputs": [
    {
     "name": "stdout",
     "output_type": "stream",
     "text": [
      "['1->2->5', '1->3']\n"
     ]
    }
   ],
   "source": [
    "class TreeNode:\n",
    "    def __init__(self, val=0, left=None, right=None):\n",
    "        self.val = val\n",
    "        self.left = left\n",
    "        self.right = right\n",
    "        \n",
    "        \n",
    "def bts_helper(node, path, paths):\n",
    "    if not node:\n",
    "        return \n",
    "    if path:\n",
    "        path += \"->\" + str(node.val)\n",
    "    else:\n",
    "        path = str(node.val)\n",
    "        \n",
    "    if not node.left and not node.right:\n",
    "        paths.append(path)\n",
    "    else:\n",
    "        bts_helper(node.left, path, paths)\n",
    "        bts_helper(node.right, path, paths)\n",
    "\n",
    "def binary_tree_paths(root):\n",
    "    paths = []\n",
    "    bts_helper(root, \"\", paths)\n",
    "    return paths\n",
    "\n",
    "\n",
    "# Example usage:\n",
    "root = TreeNode(1)\n",
    "root.left = TreeNode(2)\n",
    "root.right = TreeNode(3)\n",
    "root.left.right = TreeNode(5)\n",
    "\n",
    "print(binary_tree_paths(root))  # Output: ['1->2->5', '1->3']\n",
    "\n",
    "# This should print ['1->2->5', '1->3']\n",
    "\n",
    "\n",
    "# Example Input Tree #1:\n",
    "\n",
    "#   1\n",
    "#  / \\\n",
    "# 2   3\n",
    "#  \\\n",
    "#   5\n",
    "\n",
    "# Example Input: root = 1\n",
    "# Expected Output: [\"1->2->5\", \"1->3\"]\n",
    "# [\"1->3\", \"1->2->5\"] is also valid\n",
    "\n",
    "# Example Input Tree #2:\n",
    "\n",
    "#   1\n",
    "\n",
    "# Example Input: root = 1\n",
    "# Expected Output: [\"1\"]"
   ]
  },
  {
   "cell_type": "markdown",
   "metadata": {},
   "source": [
    "## Problem 3: Minimum Difference in BST\n",
    "Given the root of a binary search tree, return the minimum difference between the values of any two different nodes in the tree.\n",
    "\n",
    "Evaluate the time complexity of your function."
   ]
  },
  {
   "cell_type": "code",
   "execution_count": 2,
   "metadata": {},
   "outputs": [
    {
     "name": "stdout",
     "output_type": "stream",
     "text": [
      "1\n",
      "1\n"
     ]
    }
   ],
   "source": [
    "class TreeNode:\n",
    "    def __init__(self, val=0, left=None, right=None):\n",
    "        self.val = val\n",
    "        self.left = left\n",
    "        self.right = right\n",
    "def helper(root, nodes):\n",
    "    if root is None:\n",
    "        return None\n",
    "    helper(root.left, nodes)\n",
    "    nodes.append(root.val)\n",
    "    helper(root.right, nodes)\n",
    "    \n",
    "def min_diff_in_bst(root):\n",
    "    nodes = []\n",
    "    helper(root, nodes)\n",
    "    minVal = float('inf')\n",
    "    for i in range(1, len(nodes)):\n",
    "        minVal = min(minVal, nodes[i] - nodes[i-1])\n",
    "    return minVal\n",
    "    \n",
    "\n",
    "# Example usage\n",
    "root = TreeNode(4)\n",
    "root.left = TreeNode(2)\n",
    "root.right = TreeNode(6)\n",
    "root.left.left = TreeNode(1)\n",
    "root.left.right = TreeNode(3)\n",
    "print(min_diff_in_bst(root))  # Output: 1\n",
    "\n",
    "root2 = TreeNode(1)\n",
    "root2.left = TreeNode(0)\n",
    "root2.right = TreeNode(48)\n",
    "root2.right.left = TreeNode(12)\n",
    "root2.right.right = TreeNode(49)\n",
    "print(min_diff_in_bst(root2))  # Output: 1"
   ]
  },
  {
   "cell_type": "markdown",
   "metadata": {
    "vscode": {
     "languageId": "html"
    }
   },
   "source": [
    "Example Input Tree #1:\n",
    "\n",
    "    4\n",
    "   / \\\n",
    "  2   6\n",
    " / \\  \n",
    "1   3\n",
    "\n",
    "Example Input: root = 4\n",
    "Expected Output: 1 \n",
    "Explanation: The smallest difference between any two nodes is 1 (2 - 1 = 1, 3 - 2 = 1)\n",
    "\n",
    "Example Input Tree  #2: \n",
    "\n",
    "   1\n",
    "  / \\\n",
    " 0  48\n",
    "    / \\  \n",
    "   12 49\n",
    "\n",
    "Example Input: root = 1\n",
    "Expected Output: 1 \n",
    "Explanation: The smallest difference between any two nodes is 1 (1 - 0 = 1)"
   ]
  },
  {
   "cell_type": "markdown",
   "metadata": {},
   "source": [
    "## Problem 4: Increasing Order Search Tree\n",
    "Given the root of a binary search tree, rearrange the tree in in-order so that the leftmost node of the tree is now the root of tree and every node has no left child and only one right child.\n",
    "\n",
    "Return the root of the modified tree\n",
    "\n",
    "Evaluate the time complexity of your function."
   ]
  },
  {
   "cell_type": "code",
   "execution_count": 7,
   "metadata": {},
   "outputs": [
    {
     "name": "stdout",
     "output_type": "stream",
     "text": [
      "1\n"
     ]
    }
   ],
   "source": [
    "class TreeNode:\n",
    "    def __init__(self, val=0, left=None, right=None):\n",
    "        self.val = val\n",
    "        self.left = left\n",
    "        self.right = right\n",
    "\n",
    "def helper(root, nodes):\n",
    "    if root is None:\n",
    "        return None\n",
    "    helper(root.left, nodes)\n",
    "    nodes.append(root.val)\n",
    "    helper(root.right, nodes)\n",
    "        \n",
    "def increasing_bst(root):\n",
    "    nodes = []\n",
    "    helper(root, nodes)\n",
    "    new_root = TreeNode(nodes[0])\n",
    "    for i in range(1, len(nodes)):\n",
    "        new_root.right = TreeNode(nodes[i])\n",
    "    return new_root.val\n",
    "    \n",
    "        \n",
    "        \n",
    "\n",
    "\n",
    "root = TreeNode(5)\n",
    "root.left = TreeNode(1)\n",
    "root.right = TreeNode(7)\n",
    "print(increasing_bst(root))"
   ]
  },
  {
   "cell_type": "markdown",
   "metadata": {},
   "source": [
    "Example Input Tree #1:\n",
    "\n",
    "    5\n",
    "   / \\\n",
    "  1   7\n",
    "\n",
    "\n",
    "Example Input: root = 5\n",
    "Expected Output: root = 1\n",
    "\n",
    "Expected Output Tree #1:\n",
    "\n",
    "1 \n",
    " \\\n",
    "  5\n",
    "   \\\n",
    "    7\n",
    "\n",
    "\n",
    "Example Input Tree #2:\n",
    "\n",
    "       5\n",
    "      / \\\n",
    "     /   \\\n",
    "    3     6\n",
    "   / \\     \\  \n",
    "  2   4     8\n",
    " /         / \\\n",
    "1         7   9\n",
    "\n",
    "Input: root = 5\n",
    "Expected Output: root = 1\n",
    "Expected Output Tree #2:\n",
    "\n",
    "1\n",
    " \\\n",
    "  2\n",
    "   \\\n",
    "    3\n",
    "     \\\n",
    "      4\n",
    "       \\\n",
    "        5 \n",
    "         \\\n",
    "          6\n",
    "           \\\n",
    "            7\n",
    "             \\\n",
    "              8\n",
    "               \\ \n",
    "                9"
   ]
  },
  {
   "cell_type": "markdown",
   "metadata": {},
   "source": [
    "## Problem 5: Equal Tree Split\n",
    "Given the root of a binary tree, return True if removing an edge between two nodes can split the tree into two trees with an equal number of nodes. Return False otherwise.\n",
    "\n",
    "Evaluate the time complexity of the function."
   ]
  },
  {
   "cell_type": "code",
   "execution_count": 9,
   "metadata": {},
   "outputs": [
    {
     "name": "stdout",
     "output_type": "stream",
     "text": [
      "True\n"
     ]
    }
   ],
   "source": [
    "class TreeNode:\n",
    "    def __init__(self, val, left=None, right=None):\n",
    "        self.val = val\n",
    "        self.left = left\n",
    "        self.right = right\n",
    "\n",
    "# This function is used to count the number of nodes in the tree\n",
    "def count_nodes(root):\n",
    "    if not root:\n",
    "        return 0\n",
    "    return 1 + count_nodes(root.left) + count_nodes(root.right)\n",
    "\n",
    "\n",
    "def can_split_helper(root, total_nodes):\n",
    "    if not root:\n",
    "        return 0\n",
    "\n",
    "    left_count = can_split_helper(root.left, total_nodes)\n",
    "    right_count = can_split_helper(root.right, total_nodes)\n",
    "\n",
    "    # If any subtree has half of the total nodes, we can split the tree\n",
    "    if left_count == total_nodes // 2 or right_count == total_nodes // 2:\n",
    "        can_split_helper.found = True\n",
    "\n",
    "    return 1 + left_count + right_count\n",
    "\n",
    "\n",
    "def can_split(root):\n",
    "    total_nodes = count_nodes(root)\n",
    "    if total_nodes % 2 != 0:\n",
    "        return False\n",
    "\n",
    "    can_split_helper.found = False\n",
    "    can_split_helper(root, total_nodes)\n",
    "    return can_split_helper.found\n",
    "\n",
    "\n",
    "root = TreeNode(1)\n",
    "root.left = TreeNode(2)\n",
    "root.left.left = TreeNode(4)\n",
    "root.left.right = TreeNode(5)\n",
    "root.right = TreeNode(3)\n",
    "root.right.right = TreeNode(7)\n",
    "print(can_split(root))\n"
   ]
  },
  {
   "cell_type": "markdown",
   "metadata": {},
   "source": [
    "Example Input Tree #1:\n",
    "\n",
    "       1\n",
    "      / \\\n",
    "     /   \\\n",
    "    2     3\n",
    "   / \\     \\  \n",
    "  4   5     7\n",
    "\n",
    "Example Input: root = 1\n",
    "Expected Output: True\n",
    "Explanation: Deleting the edge between node 1 and its left child, node 2 gives the following\n",
    "two trees, each of size 3\n",
    "\n",
    "  Tree 1    Tree 2        \n",
    "              1\n",
    "               \\\n",
    "    2           3\n",
    "   / \\           \\  \n",
    "  4   5           7\n",
    "\n",
    "\n",
    "\n",
    "Example Input Tree #2:\n",
    "\n",
    "       1\n",
    "      /  \\\n",
    "     /    \\\n",
    "    2      3\n",
    "   / \\    / \\  \n",
    "  4   5  6   7\n",
    "\n",
    "Example Input: root = 1\n",
    "Expected Output: False\n",
    "Explanation: It is not possible to split the tree into two trees of equal size by deleting \n",
    "an edge"
   ]
  },
  {
   "cell_type": "markdown",
   "metadata": {},
   "source": [
    "# Session 2 PS 1"
   ]
  },
  {
   "cell_type": "markdown",
   "metadata": {},
   "source": [
    "## Problem 1: Level Order Traversal of Binary Tree\n",
    "Given the following pseudocode and the root of a binary tree, return a list of the level order traversal of it’s nodes’ values (i.e., from left to right, level by level).\n",
    "\n",
    "Evaluate the time complexity of your solution. Define your variables and give a rationale as to why you believe your solution has the stated time complexity."
   ]
  },
  {
   "cell_type": "code",
   "execution_count": 10,
   "metadata": {},
   "outputs": [
    {
     "name": "stdout",
     "output_type": "stream",
     "text": [
      "[4, 2, 6, 1, 3]\n"
     ]
    }
   ],
   "source": [
    "from collections import deque\n",
    "class TreeNode:\n",
    "    def __init__(self, value=0, left=None, right=None):\n",
    "        self.val = value\n",
    "        self.left = left\n",
    "        self.right = right\n",
    "\n",
    "def level_order(root):\n",
    "    # If the tree is empty:\n",
    "    # return an empty list\n",
    "    if not root:\n",
    "        return \n",
    "\n",
    "    # Create an empty queue using deque\n",
    "    # Create an empty list to store the explored nodes\n",
    "    q = deque()\n",
    "    seen = []\n",
    "\n",
    "    # Add the root to the queue\n",
    "    q.append(root)\n",
    "    # While the queue is not empty:\n",
    "    while q:\n",
    "    # Pop the next node off the queue (pop from the left side!)\n",
    "        node = q.popleft()\n",
    "    # Add the popped node to the list of explored nodes\n",
    "        seen.append(node.val)\n",
    "\n",
    "    # Add each of the popped node's children to the end of the queue\n",
    "        if node.left is not None:\n",
    "            q.append(node.left)\n",
    "        if node.right is not None:\n",
    "            q.append(node.right)\n",
    "    # Return the list of visited nodes\n",
    "    return seen\n",
    "\n",
    "root = TreeNode(4)\n",
    "root.left = TreeNode(2)\n",
    "root.left.left = TreeNode(1)\n",
    "root.left.right = TreeNode(3)\n",
    "root.right = TreeNode(6)\n",
    "print(level_order(root))"
   ]
  },
  {
   "cell_type": "markdown",
   "metadata": {},
   "source": [
    "## Problem 2: Find Minimum Depth of Binary Tree\n",
    "Given the root of a binary tree, return its minimum depth. The minimum depth is the number of nodes along the shortest path from the root down to the nearest leaf node.\n",
    "\n",
    "Evaluate the time complexity of your solution. Define your variables and give a rationale as to why you believe your solution has the stated time complexity."
   ]
  },
  {
   "cell_type": "code",
   "execution_count": 18,
   "metadata": {},
   "outputs": [
    {
     "name": "stdout",
     "output_type": "stream",
     "text": [
      "2\n"
     ]
    }
   ],
   "source": [
    "from collections import deque\n",
    "\n",
    "\n",
    "class TreeNode:\n",
    "    def __init__(self, val=0, left=None, right=None):\n",
    "        self.val = val\n",
    "        self.left = left\n",
    "        self.right = right\n",
    "\n",
    "\n",
    "def min_depth(root):\n",
    "    if not root:\n",
    "        return 0\n",
    "\n",
    "    queue = deque()  # The queue stores tuples of (node, depth)\n",
    "    queue.append((root, 1))\n",
    "\n",
    "    while queue:\n",
    "        node, depth = queue.popleft()\n",
    "\n",
    "        # Check if the current node is a leaf node\n",
    "        if not node.left and not node.right:\n",
    "            return depth\n",
    "\n",
    "        # Add the left child to the queue if it exists\n",
    "        if node.left:\n",
    "            queue.append((node.left, depth + 1))\n",
    "\n",
    "        # Add the right child to the queue if it exists\n",
    "        if node.right:\n",
    "            queue.append((node.right, depth + 1))\n",
    "\n",
    "    return 0  # This line will never be reached if the input tree is valid\n",
    "\n",
    "\n",
    "root = TreeNode(3)\n",
    "root.left = TreeNode(9)\n",
    "root.right = TreeNode(20)\n",
    "root.right.left = TreeNode(15)\n",
    "root.right.right = TreeNode(7)\n",
    "print(min_depth(root))"
   ]
  },
  {
   "cell_type": "markdown",
   "metadata": {},
   "source": [
    "Example Input Tree #1:\n",
    "\n",
    "   3\n",
    "  / \\\n",
    " 9  20\n",
    "    / \\  \n",
    "   15  7\n",
    "\n",
    "Example Input: root = 3\n",
    "Expected Output: 2\n",
    "Shortest path from root node to a leaf node is 3 -> 9. Number of nodes in path is 2.\n",
    "\n",
    "Example Input Tree #2:\n",
    "\n",
    "   2\n",
    "    \\\n",
    "     3\n",
    "      \\\n",
    "       4\n",
    "        \\\n",
    "         5\n",
    "          \\\n",
    "           6        \n",
    "\n",
    "Example Input: root = 2\n",
    "Expected Output: 5\n",
    "Shortest path from root node to a leaf node is 2 -> 3 -> 4 -> 5 -> 6.\n",
    "Number of nodes in path is 5."
   ]
  },
  {
   "cell_type": "markdown",
   "metadata": {},
   "source": [
    "## Problem 3: Odd-Even Level Sum Difference in Binary Tree\n",
    "Given the root of a binary tree, return the difference between the sum of all node values in odd levels and sum of all node values in even levels.\n",
    "\n",
    "Evaluate the time complexity of your solution. Define your variables and give a rationale as to why you believe your solution has the stated time complexity."
   ]
  },
  {
   "cell_type": "code",
   "execution_count": 20,
   "metadata": {},
   "outputs": [
    {
     "name": "stdout",
     "output_type": "stream",
     "text": [
      "-5\n"
     ]
    }
   ],
   "source": [
    "class TreeNode:\n",
    "    def __init__(self, value=0, left=None, right=None):\n",
    "        self.val = value\n",
    "        self.left = left\n",
    "        self.right = right\n",
    "\n",
    "\n",
    "def level_difference(root):\n",
    "    if root is None:\n",
    "        return 0\n",
    "    \n",
    "    even = 0\n",
    "    odd = 0\n",
    "    level = 1\n",
    "    # Add the root of the bst to a queue\n",
    "    # Will preform breath first search of the tree\n",
    "    q = deque([root])\n",
    "    # while the queue is not empty\n",
    "    while q:\n",
    "        # representation of the number of nodes at the current level\n",
    "        level_size = len(q)\n",
    "        # Iterate through the number of nodes at this level\n",
    "        for _ in range(level_size):\n",
    "            # Starting from the front pop the first \n",
    "            node = q.popleft()\n",
    "            print(node.val)\n",
    "            # Checks if we are on an odd level\n",
    "            if level % 2 == 1:\n",
    "                odd += node.val\n",
    "            # checks even level\n",
    "            else:\n",
    "                even += node.val\n",
    "            # adds the remaning nodes to the queue\n",
    "            # We do this to explore all possible nodes\n",
    "            if node.left:\n",
    "                q.append(node.left)\n",
    "            if node.right:\n",
    "                q.append(node.right)\n",
    "        # increase depth\n",
    "        level +=1\n",
    "        \n",
    "        \n",
    "    return odd - even\n",
    "\n",
    "root = TreeNode(6)\n",
    "root.left = TreeNode(3)\n",
    "root.left.left = TreeNode(5)\n",
    "root.right = TreeNode(8)\n",
    "root.right.right = TreeNode(2)\n",
    "root.right.right.right = TreeNode(3)\n",
    "root.right.left = TreeNode(4)\n",
    "root.right.left.left = TreeNode(1)\n",
    "root.right.left.right = TreeNode(7)\n",
    "print(level_difference(root))\n"
   ]
  },
  {
   "cell_type": "markdown",
   "metadata": {},
   "source": [
    "## Problem 4: Level Order Traversal of Binary Tree with Nested Lists\n",
    "Given the root of a binary tree, write a function level_order() that returns the level order traversal of its nodes’ values (i.e., from left to right, level by level). level_order() should return a list of lists, where each inner list contains the node values of a single level in the tree.\n",
    "\n",
    "Evaluate the time complexity of your solution. Define your variables and give a rationale as to why you believe your solution has the stated time complexity."
   ]
  },
  {
   "cell_type": "code",
   "execution_count": 23,
   "metadata": {},
   "outputs": [
    {
     "name": "stdout",
     "output_type": "stream",
     "text": [
      "[[3], [9, 20], [15, 7]]\n"
     ]
    }
   ],
   "source": [
    "class TreeNode:\n",
    "    def __init__(self, value=0, left=None, right=None):\n",
    "        self.val = value\n",
    "        self.left = left\n",
    "        self.right = right\n",
    "\n",
    "\n",
    "def level_order(root):\n",
    "    if root is None:\n",
    "        return []\n",
    "    q = deque([root])\n",
    "    explored = []\n",
    "    while q:\n",
    "        numNodesLvl = len(q)\n",
    "        level_nodes = []\n",
    "        for _ in range(numNodesLvl):\n",
    "            node = q.popleft()\n",
    "            level_nodes.append(node.val)\n",
    "            if node.left:\n",
    "                q.append(node.left)\n",
    "            if node.right:\n",
    "                q.append(node.right)\n",
    "        explored.append(level_nodes)\n",
    "    return explored\n",
    "\n",
    "\n",
    "root = TreeNode(3)\n",
    "root.left = TreeNode(9)\n",
    "root.right = TreeNode(20)\n",
    "root.right.left = TreeNode(15)\n",
    "root.right.right = TreeNode(7)\n",
    "print(level_order(root))"
   ]
  },
  {
   "cell_type": "markdown",
   "metadata": {},
   "source": [
    "Example Input Tree\n",
    "     3\n",
    "    / \\\n",
    "   9  20\n",
    "      / \\\n",
    "     15  7\n",
    "\n",
    "Input: root = 3\n",
    "Expected Output: [ [3], [9, 20], [15, 7]]"
   ]
  },
  {
   "cell_type": "markdown",
   "metadata": {},
   "source": [
    "\n",
    "## Problem 5: Sum of Binary Tree Node Tilts\n",
    "Given the root of a binary tree, return the sum of every tree node’s tilt. The tilt of a tree node is the absolute difference between the sum of all left subtree node values and all right subtree node values. If a node does not have a left child, then the sum of the left subtree node values is treated as 0. The rule is similar if the node does not have a right child.\n",
    "\n",
    "Evaluate the time complexity of your solution. Define your variables and give a rationale as to why you believe your solution has the stated time complexity."
   ]
  },
  {
   "cell_type": "code",
   "execution_count": 28,
   "metadata": {},
   "outputs": [
    {
     "name": "stdout",
     "output_type": "stream",
     "text": [
      "1\n"
     ]
    }
   ],
   "source": [
    "class TreeNode:\n",
    "    def __init__(self, value=0, left=None, right=None):\n",
    "        self.val = value\n",
    "        self.left = left\n",
    "        self.right = right\n",
    "        \n",
    "def helper(root, total):\n",
    "    if root is None:\n",
    "        return 0\n",
    "    # Recursively calculate the sum of the left tree and right ree\n",
    "    leftSum = helper(root.left, total)\n",
    "    rightSum = helper(root.right, total)\n",
    "    \n",
    "    # calculate the sum of the current root\n",
    "    currVal = abs(leftSum-rightSum)\n",
    "    # add the current nodes sum to the total\n",
    "    total[0] += currVal\n",
    "    # return the sum of values of the subtree rooted at the current node\n",
    "    return root.val + leftSum + rightSum\n",
    "        \n",
    "def find_tilt(root):\n",
    "    if root is None:\n",
    "        return 0\n",
    "    val = [0]\n",
    "    helper(root, val)\n",
    "    return val[0]\n",
    "\n",
    "root = TreeNode(1)\n",
    "root.right = TreeNode(3)\n",
    "root.left= TreeNode(2)\n",
    "print(find_tilt(root))\n"
   ]
  },
  {
   "cell_type": "markdown",
   "metadata": {},
   "source": [
    "Example Input Tree #1:\n",
    "\n",
    "     1\n",
    "    / \\\n",
    "   2   3\n",
    "\n",
    "Input: root = 1\n",
    "Expected Output: 1\n",
    "Explanation\n",
    "Tilt of node 2: |0 - 0| = 0 (no children)\n",
    "Tilt of node 3 : |0-0| = 0 (no children)\n",
    "Tilt of node 1 : |2-3| = 1 (left subtree is just left child, so sum is 2; right subtree is just right child, so sum is 3)\n",
    "Sum of every tilt : 0 + 0 + 1 = 1\n",
    "\n",
    "\n",
    "\n",
    "Example Input Tree #2:\n",
    "\n",
    "      4\n",
    "     / \\\n",
    "    2   9\n",
    "   / \\   \\ \n",
    "  3   5   7\n",
    "\n",
    "Example Input: root = 4\n",
    "Expected Output: 15\n",
    "Tilt of node 3 : |0-0| = 0 (no children)\n",
    "Tilt of node 5 : |0-0| = 0 (no children)\n",
    "Tilt of node 7 : |0-0| = 0 (no children)\n",
    "Tilt of node 2 : |3-5| = 2 (left subtree is just left child, so sum is 3; right subtree is just right child, so sum is 5)\n",
    "Tilt of node 9 : |0-7| = 7 (no left child, so sum is 0; right subtree is just right child, so sum is 7)\n",
    "Tilt of node 4 : |(3+5+2)-(9+7)| = |10-16| = 6 (left subtree values are 3, 5, and 2, which sums to 10; right subtree values are 9 and 7, which sums to 16)\n",
    "Sum of every tilt : 0 + 0 + 0 + 2 + 7 + 6 = 15"
   ]
  },
  {
   "cell_type": "markdown",
   "metadata": {},
   "source": [
    "# Session 2 PS 2"
   ]
  },
  {
   "cell_type": "markdown",
   "metadata": {},
   "source": [
    "## Problem 1: Print Level Order Traversal of Binary Tree\n",
    "Given the following pseudocode and the root of a binary tree, print the level order traversal of it’s nodes’ values (i.e., from left to right, level by level).\n",
    "\n",
    "Evaluate the time complexity of your solution. Define your variables and give a rationale as to why you believe your solution has the stated time complexity."
   ]
  },
  {
   "cell_type": "code",
   "execution_count": 34,
   "metadata": {},
   "outputs": [
    {
     "name": "stdout",
     "output_type": "stream",
     "text": [
      "4\n",
      "2\n",
      "6\n",
      "1\n",
      "3\n",
      "None\n"
     ]
    }
   ],
   "source": [
    "from collections import deque  # This is a popular library used for queues\n",
    "\n",
    "class TreeNode:\n",
    "    def __init__(self, value=0, left=None, right=None):\n",
    "        self.val = value\n",
    "        self.left = left\n",
    "        self.right = right\n",
    "\n",
    "\n",
    "def print_by_level(root):\n",
    "    # If the tree is empty:\n",
    "    # return\n",
    "    if root is None:\n",
    "        return\n",
    "\n",
    "    # Create an empty queue using deque\n",
    "    q = deque()\n",
    "    # Add the root to the queue\n",
    "    q.append(root)\n",
    "    # While the queue is not empty:\n",
    "    while q:\n",
    "    # Pop the next node off the queue (pop from the left side!)\n",
    "        node = q.popleft()\n",
    "    # Print the popped node\n",
    "        print(node.val)\n",
    "\n",
    "    # Add each of the popped node's children to the end of the queue\n",
    "        if node.left:\n",
    "            q.append(node.left)\n",
    "        if node.right:\n",
    "            q.append(node.right)\n",
    "            \n",
    "            \n",
    "root = TreeNode(4)\n",
    "root.left = TreeNode(2)\n",
    "root.right = TreeNode(6)\n",
    "root.left.left = TreeNode(1)\n",
    "root.left.left.right = TreeNode(3)\n",
    "print(print_by_level(root))"
   ]
  },
  {
   "cell_type": "markdown",
   "metadata": {},
   "source": [
    "## Problem 2: Sum of Node Values by Level in Binary Tree\n",
    "Given the root of a binary tree, return a list of the sums of node values in each level in the binary tree.\n",
    "\n",
    "Evaluate the time complexity of your solution. Define your variables and give a rationale as to why you believe your solution has the stated time complexity."
   ]
  },
  {
   "cell_type": "code",
   "execution_count": 37,
   "metadata": {},
   "outputs": [
    {
     "name": "stdout",
     "output_type": "stream",
     "text": [
      "[4, 8, 4]\n"
     ]
    }
   ],
   "source": [
    "class TreeNode:\n",
    "    def __init__(self, value=0, left=None, right=None):\n",
    "        self.val = value\n",
    "        self.left = left\n",
    "        self.right = right\n",
    "\n",
    "\n",
    "def level_sum(root):\n",
    "    if root is None:\n",
    "        return 0\n",
    "    total = []\n",
    "    q = deque([root])\n",
    "    while q:\n",
    "        level = len(q)\n",
    "        currTotal = 0\n",
    "        for _ in range(level):\n",
    "            node = q.popleft()\n",
    "            currTotal += node.val\n",
    "            if node.left:\n",
    "                q.append(node.left)\n",
    "            if node.right:\n",
    "                q.append(node.right)\n",
    "        total.append(currTotal)\n",
    "    return total\n",
    "\n",
    "\n",
    "root = TreeNode(4)\n",
    "root.left = TreeNode(2)\n",
    "root.right = TreeNode(6)\n",
    "root.left.left = TreeNode(1)\n",
    "root.left.right= TreeNode(3)\n",
    "print(level_sum(root))"
   ]
  },
  {
   "cell_type": "markdown",
   "metadata": {},
   "source": [
    "Example Input Tree\n",
    "\n",
    "      4\n",
    "     / \\\n",
    "    2   6\n",
    "   / \\  \n",
    "  1   3\n",
    " \n",
    "\n",
    "Example Input: root = 4\n",
    "Expected Output: [4, 8, 4]\n",
    "Explanation: \n",
    "Level 1: 4\n",
    "Level 2: 2 + 6 = 8\n",
    "Level 3: 1 + 3 = 4"
   ]
  },
  {
   "cell_type": "markdown",
   "metadata": {},
   "source": [
    "## Problem 3: Maximum Nodes at Any Level in Binary Tree\n",
    "Given the root of a binary tree, return the maximum number of nodes in any level of the binary tree.\n",
    "\n",
    "Evaluate the time complexity of your solution. Define your variables and give a rationale as to why you believe your solution has the stated time complexity."
   ]
  },
  {
   "cell_type": "code",
   "execution_count": 44,
   "metadata": {},
   "outputs": [
    {
     "name": "stdout",
     "output_type": "stream",
     "text": [
      "2\n",
      "4\n"
     ]
    }
   ],
   "source": [
    "class TreeNode:\n",
    "    def __init__(self, value=0, left=None, right=None):\n",
    "        self.val = value\n",
    "        self.left = left\n",
    "        self.right = right\n",
    "\n",
    "def level_max(root):\n",
    "    # if the root is empty we return 0\n",
    "    if root is None:\n",
    "        return 0\n",
    "    # used to track the highest number of nodes per leve\n",
    "    totalMax = float('-inf')\n",
    "    # create a queue \n",
    "    q = deque([root])\n",
    "    \n",
    "    while q:\n",
    "        levelSize = len(q)\n",
    "        currMax = 0\n",
    "        for _ in range(levelSize):\n",
    "            node = q.popleft()\n",
    "            currMax +=1\n",
    "            if node.left:\n",
    "                q.append(node.left)\n",
    "            if node.right:\n",
    "                q.append(node.right)\n",
    "        totalMax = max(totalMax, currMax)\n",
    "    return totalMax\n",
    "\n",
    "\n",
    "root = TreeNode(4)\n",
    "root.left = TreeNode(2)\n",
    "root.right = TreeNode(6)\n",
    "root.left.left = TreeNode(1)\n",
    "root.left.right= TreeNode(3)\n",
    "print(level_max(root))\n",
    "\n",
    "\n",
    "root2 = TreeNode(1)\n",
    "root2.left = TreeNode(2)\n",
    "root2.right= TreeNode(3)\n",
    "root2.left.left = TreeNode(4)\n",
    "root2.left.right= TreeNode(5)\n",
    "root2.right.right = TreeNode(7)\n",
    "root2.right.left= TreeNode(6)\n",
    "print(level_max(root2))"
   ]
  },
  {
   "cell_type": "markdown",
   "metadata": {},
   "source": [
    "Example Input Tree #1:\n",
    "\n",
    "      4\n",
    "     / \\\n",
    "    2   6\n",
    "   / \\  \n",
    "  1   3\n",
    "\n",
    "Example Input: root = 4\n",
    "Expected Output: 2\n",
    "Explanation: Levels 2 & 3 have 2 nodes each. \n",
    "\n",
    "Example Input Tree #2:\n",
    "\n",
    "       1\n",
    "      / \\\n",
    "     /   \\\n",
    "    2     3\n",
    "   / \\   / \\ \n",
    "  4   5 6   7\n",
    "\n",
    "Example Input: root = 1\n",
    "Expected Output: 4\n",
    "Explanation: Level 3 has 4 nodes, the most of any level"
   ]
  },
  {
   "cell_type": "markdown",
   "metadata": {},
   "source": [
    "## Problem 4: Vertical Order Traversal of Binary Tree\n",
    "Given the root of a binary tree, return the vertical order traversal of its nodes’ values. (i.e., from top to bottom, column by column). If two nodes are in the same row and column, the order should be from left to right.\n",
    "\n",
    "Evaluate the time complexity of your solution. Define your variables and give a rationale as to why you believe your solution has the stated time complexity."
   ]
  },
  {
   "cell_type": "code",
   "execution_count": 48,
   "metadata": {},
   "outputs": [
    {
     "name": "stdout",
     "output_type": "stream",
     "text": [
      "[[9], [3, 15], [20], [7]]\n",
      "[[4], [9], [3, 0, 1], [8], [7]]\n"
     ]
    }
   ],
   "source": [
    "from collections import deque\n",
    "\n",
    "\n",
    "class TreeNode:\n",
    "    def __init__(self, val=0, left=None, right=None):\n",
    "        self.val = val\n",
    "        self.left = left\n",
    "        self.right = right\n",
    "\n",
    "\n",
    "def vertical_order(root):\n",
    "    if not root:\n",
    "        return []\n",
    "\n",
    "    # Dictionary to hold the nodes at each column index\n",
    "    column_table = {}\n",
    "    # Queue to hold the nodes and their respective column indices\n",
    "    queue = deque()\n",
    "    queue.append((root, 0))\n",
    "\n",
    "    while queue:\n",
    "        node, column = queue.popleft()\n",
    "\n",
    "        if node is not None:\n",
    "            if column not in column_table:\n",
    "                column_table[column] = []\n",
    "            column_table[column].append(node.val)\n",
    "\n",
    "            # Enqueue left child with column - 1\n",
    "            queue.append((node.left, column - 1))\n",
    "            # Enqueue right child with column + 1\n",
    "            queue.append((node.right, column + 1))\n",
    "\n",
    "    # Sort the dictionary by column index and extract the values\n",
    "    sorted_columns = sorted(column_table.keys())\n",
    "    result = []\n",
    "    for col in sorted_columns:\n",
    "        result.append(column_table[col])\n",
    "\n",
    "    return result\n",
    "\n",
    "\n",
    "# Input: root = [3,9,20,null,null,15,7]\n",
    "# Output: [[9],[3,15],[20],[7]]\n",
    "\n",
    "root = TreeNode(3)\n",
    "root.left = TreeNode(9)\n",
    "root.right = TreeNode(20)\n",
    "root.right.left = TreeNode(15)\n",
    "root.right.right = TreeNode(7)\n",
    "print(vertical_order(root))\n",
    "\n",
    "# Input: root = [3,9,8,4,0,1,7]\n",
    "# Output: [[4],[9],[3,0,1],[8],[7]]\n",
    "\n",
    "root2 = TreeNode(3)\n",
    "root2.left = TreeNode(9)\n",
    "root2.right = TreeNode(8)\n",
    "root2.left.left = TreeNode(4)\n",
    "root2.left.right = TreeNode(0)\n",
    "root2.right.right = TreeNode(7)\n",
    "root2.right.left = TreeNode(1)\n",
    "print(vertical_order(root2))\n",
    "\n",
    "# Input: root = [3,9,8,4,0,1,7,null,null,null,2,5]\n",
    "# Output: [[4],[9,5],[3,0,1],[8,2],[7]]"
   ]
  },
  {
   "cell_type": "code",
   "execution_count": null,
   "metadata": {},
   "outputs": [],
   "source": []
  }
 ],
 "metadata": {
  "kernelspec": {
   "display_name": "tf2",
   "language": "python",
   "name": "python3"
  },
  "language_info": {
   "codemirror_mode": {
    "name": "ipython",
    "version": 3
   },
   "file_extension": ".py",
   "mimetype": "text/x-python",
   "name": "python",
   "nbconvert_exporter": "python",
   "pygments_lexer": "ipython3",
   "version": "3.10.14"
  }
 },
 "nbformat": 4,
 "nbformat_minor": 2
}
