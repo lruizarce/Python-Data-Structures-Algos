{
 "cells": [
  {
   "cell_type": "markdown",
   "metadata": {},
   "source": [
    "# Session 1 PV1"
   ]
  },
  {
   "cell_type": "code",
   "execution_count": 6,
   "metadata": {},
   "outputs": [
    {
     "name": "stdout",
     "output_type": "stream",
     "text": [
      "6\n"
     ]
    }
   ],
   "source": [
    "class TreeNode:\n",
    "    def __init__(self, val, left=None, right=None):\n",
    "        self.val = val\n",
    "        self.left = left\n",
    "        self.right = right\n",
    "        \n",
    "root = TreeNode(10, 4, 6)\n"
   ]
  },
  {
   "cell_type": "markdown",
   "metadata": {},
   "source": [
    "## Problem 2: 3-Node Sum I\n",
    "Given the root of a binary tree that has exactly 3 nodes: the root, its left child, and its right child, return True if the value of the root is equal to the sum of the values of its two children. Return False otherwise.\n",
    "\n",
    "Evaluate the time complexity of your function."
   ]
  },
  {
   "cell_type": "code",
   "execution_count": 11,
   "metadata": {},
   "outputs": [
    {
     "data": {
      "text/plain": [
       "True"
      ]
     },
     "execution_count": 11,
     "metadata": {},
     "output_type": "execute_result"
    }
   ],
   "source": [
    "class TreeNode:\n",
    "    def __init__(self, val, left=None, right=None):\n",
    "        self.val = val\n",
    "        self.left = left\n",
    "        self.right = right\n",
    "\n",
    "\n",
    "def check_tree(root):\n",
    "    return root.val == root.left.val + root.right.val\n",
    "\n",
    "root = TreeNode(10)\n",
    "child1 = TreeNode(4)\n",
    "child2 = TreeNode(6)\n",
    "root.left = child1\n",
    "root.right = child2\n",
    "check_tree(root)\n",
    "            \n",
    "        "
   ]
  },
  {
   "cell_type": "markdown",
   "metadata": {},
   "source": [
    "## Problem 3: 3-Node Sum II\n",
    "Given the root of a binary tree that has at most 3 nodes: the root, its left child, and its right child, return True if the value of the root is equal to the sum of the values of its two children. Return False otherwise.\n",
    "\n",
    "Evaluate the time complexity of your function."
   ]
  },
  {
   "cell_type": "code",
   "execution_count": 13,
   "metadata": {},
   "outputs": [
    {
     "data": {
      "text/plain": [
       "True"
      ]
     },
     "execution_count": 13,
     "metadata": {},
     "output_type": "execute_result"
    }
   ],
   "source": [
    "class TreeNode:\n",
    "    def __init__(self, val, left=None, right=None):\n",
    "        self.val = val\n",
    "        self.left = left\n",
    "        self.right = right\n",
    "\n",
    "\n",
    "def check_tree(root):\n",
    "    return root.val == root.left.val + root.right.val\n",
    "\n",
    "\n",
    "root = TreeNode(10)\n",
    "child1 = TreeNode(4)\n",
    "child2 = TreeNode(6)\n",
    "root.left = child1\n",
    "root.right = child2\n",
    "check_tree(root)"
   ]
  },
  {
   "cell_type": "markdown",
   "metadata": {},
   "source": [
    "## Problem 4: Find Leftmost Node I\n",
    "Given the root of a binary tree, write a function that finds the value of the left most node in the tree.\n",
    "\n",
    "Evaluate the time complexity of your function."
   ]
  },
  {
   "cell_type": "code",
   "execution_count": 20,
   "metadata": {},
   "outputs": [
    {
     "name": "stdout",
     "output_type": "stream",
     "text": [
      "1\n"
     ]
    }
   ],
   "source": [
    "class TreeNode:\n",
    "    def __init__(self, val, left=None, right=None):\n",
    "        self.val = val\n",
    "        self.left = left\n",
    "        self.right = right\n",
    "\n",
    "def left_most(root):\n",
    "    if root is None:\n",
    "        return None\n",
    "    if root.left is None:\n",
    "        return root.val\n",
    "    return left_most(root.left)\n",
    "\n",
    "root = TreeNode(1)\n",
    "root.right = TreeNode(2)\n",
    "root.right.left = 3\n",
    "\n",
    "# lc1 = TreeNode(2)\n",
    "# lc2 = TreeNode(4)\n",
    "# rc1 = TreeNode(3)\n",
    "# rc2 = TreeNode(5)\n",
    "# root.left = lc1\n",
    "# root.left.left = lc2\n",
    "# root.left.right = lc2\n",
    "# root.right = rc2\n",
    "print(left_most(root))\n"
   ]
  },
  {
   "cell_type": "markdown",
   "metadata": {},
   "source": [
    "## Problem 5: Find Leftmost Node II\n",
    "If you implemented the previous left_most() function iteratively, implement it recursively. If you implemented it recursively, implement it recursively.\n",
    "\n",
    "Evaluate the time complexity of the function."
   ]
  },
  {
   "cell_type": "code",
   "execution_count": 25,
   "metadata": {},
   "outputs": [
    {
     "name": "stdout",
     "output_type": "stream",
     "text": [
      "4\n"
     ]
    }
   ],
   "source": [
    "class TreeNode:\n",
    "    def __init__(self, val, left=None, right=None):\n",
    "        self.val = val\n",
    "        self.left = left\n",
    "        self.right = right\n",
    "\n",
    "\n",
    "def left_most(root):\n",
    "    if not root:\n",
    "        return None\n",
    "    \n",
    "    if root:\n",
    "        while root.left:\n",
    "            root = root.left\n",
    "    return root.val\n",
    "\n",
    "root = TreeNode(1)\n",
    "lc1 = TreeNode(2)\n",
    "lc2 = TreeNode(4)\n",
    "rc1 = TreeNode(3)\n",
    "rc2 = TreeNode(5)\n",
    "root.left = lc1\n",
    "root.left.left = lc2\n",
    "root.left.right = lc2\n",
    "root.right = rc2\n",
    "print(left_most(root))"
   ]
  },
  {
   "cell_type": "markdown",
   "metadata": {},
   "source": [
    "## Problem 6: In-order Traversal\n",
    "Given the root of a binary tree, return a list representing the inorder traversal of its nodes' values. In an inorder traversal we traverse the left subtree, then the current node, then the right subtree."
   ]
  },
  {
   "cell_type": "code",
   "execution_count": 44,
   "metadata": {},
   "outputs": [
    {
     "name": "stdout",
     "output_type": "stream",
     "text": [
      "[3, 2, 4, 1, 5]\n"
     ]
    }
   ],
   "source": [
    "class TreeNode:\n",
    "    def __init__(self, val, left=None, right=None):\n",
    "        self.val = val\n",
    "        self.left = left\n",
    "        self.right = right\n",
    "\n",
    "        \"\"\"\n",
    "            Logic: Check the left side of the tree using recursion, if we have exhausted the left side we return values\n",
    "        \"\"\"\n",
    "def inorder_helper(current_node, values):\n",
    "    if current_node is None:\n",
    "        return values\n",
    "    inorder_helper(current_node.left, values)\n",
    "    values.append(current_node.val)\n",
    "    inorder_helper(current_node.right, values)\n",
    "    return values\n",
    "\n",
    "def inorder_traversal(root):\n",
    "    values = []\n",
    "    return inorder_helper(root, values)\n",
    "\n",
    "\n",
    "five = TreeNode(5)\n",
    "four = TreeNode(4)\n",
    "three = TreeNode(3)\n",
    "two = TreeNode(2)\n",
    "one = TreeNode(1)\n",
    "one.left = two\n",
    "one.right = five\n",
    "one.left.left = three\n",
    "one.left.right = four\n",
    "print(inorder_traversal(one))"
   ]
  },
  {
   "cell_type": "markdown",
   "metadata": {},
   "source": [
    "## Problem 7: Binary Tree Size\n",
    "Given the root of a binary tree, write a function size() that returns the number of nodes in the binary tree.\n",
    "\n",
    "Evaluate the time complexity of your function."
   ]
  },
  {
   "cell_type": "code",
   "execution_count": 46,
   "metadata": {},
   "outputs": [
    {
     "name": "stdout",
     "output_type": "stream",
     "text": [
      "5\n"
     ]
    }
   ],
   "source": [
    "class TreeNode:\n",
    "    def __init__(self, val, left=None, right=None):\n",
    "        self.val = val\n",
    "        self.left = left\n",
    "        self.right = right\n",
    "\n",
    "\n",
    "def size(root):\n",
    "    if root is None:\n",
    "        return 0\n",
    "    return 1 + size(root.left) + size(root.right)\n",
    "\n",
    "\n",
    "five = TreeNode(5)\n",
    "four = TreeNode(4)\n",
    "three = TreeNode(3)\n",
    "two = TreeNode(2)\n",
    "one = TreeNode(1)\n",
    "one.left = two\n",
    "one.right = five\n",
    "one.left.left = three\n",
    "one.left.right = four\n",
    "\n",
    "print(size(one))"
   ]
  },
  {
   "cell_type": "markdown",
   "metadata": {},
   "source": [
    "## Problem 8: Binary Tree Find\n",
    "Given a value and the root of a tree, write a function find() that returns True if there is a node with the given value in the tree. Assume the tree is balanced.\n",
    "\n",
    "Evaluate the time complexity of your solution."
   ]
  },
  {
   "cell_type": "code",
   "execution_count": 50,
   "metadata": {},
   "outputs": [
    {
     "name": "stdout",
     "output_type": "stream",
     "text": [
      "True\n"
     ]
    }
   ],
   "source": [
    "class TreeNode:\n",
    "    def __init__(self, val, left=None, right=None):\n",
    "        self.val = val\n",
    "        self.left = left\n",
    "        self.right = right\n",
    "\n",
    "\n",
    "def find(root, value):\n",
    "    if root is None:\n",
    "        return False\n",
    "\n",
    "    if root.val == value:\n",
    "        return True\n",
    "    return find(root.left, value) or find(root.right, value)\n",
    "\n",
    "\n",
    "five = TreeNode(5)\n",
    "four = TreeNode(4)\n",
    "three = TreeNode(3)\n",
    "two = TreeNode(2)\n",
    "one = TreeNode(1)\n",
    "one.left = two\n",
    "one.right = five\n",
    "one.left.left = three\n",
    "one.left.right = four\n",
    "\n",
    "print(find(one, 2))"
   ]
  },
  {
   "cell_type": "markdown",
   "metadata": {},
   "source": [
    "## Problem 9: Binary Search Tree Find\n",
    "Given a value and the root of a binary search tree, write a function find_bst() that returns True if there is a node with the given value in the tree. Assume the tree is balanced.\n"
   ]
  },
  {
   "cell_type": "code",
   "execution_count": 125,
   "metadata": {},
   "outputs": [
    {
     "name": "stdout",
     "output_type": "stream",
     "text": [
      "True\n",
      "False\n"
     ]
    }
   ],
   "source": [
    "class TreeNode:\n",
    "    def __init__(self, value=0, left=None, right=None):\n",
    "        self.value = value\n",
    "        self.left = left\n",
    "        self.right = right\n",
    "\n",
    "\n",
    "def find_bst(root, target):\n",
    "    if root is None:\n",
    "        return False\n",
    "    \n",
    "    if root.value == target:\n",
    "        return True\n",
    "    \n",
    "    if root.value < target:\n",
    "        return find_bst(root.right, target)\n",
    "    return find_bst(root.left, target)\n",
    "\n",
    "\n",
    "# Example usage:\n",
    "# Creating a sample BST\n",
    "#       5\n",
    "#     /   \\\n",
    "#    3     8\n",
    "#   / \\   / \\\n",
    "#  2   4 7   9\n",
    "\n",
    "root = TreeNode(5)\n",
    "root.left = TreeNode(3)\n",
    "root.right = TreeNode(8)\n",
    "root.left.left = TreeNode(2)\n",
    "root.left.right = TreeNode(4)\n",
    "root.right.left = TreeNode(7)\n",
    "root.right.right = TreeNode(9)\n",
    "\n",
    "# Search for a value in the BST\n",
    "print(find_bst(root, 4))  # Output: True\n",
    "print(find_bst(root, 6))  # Output: False"
   ]
  },
  {
   "cell_type": "markdown",
   "metadata": {},
   "source": [
    "## Problem 10: BST Descending Leaves\n",
    "Given the root of a binary search tree, write a function descending_leaves() that returns a list of the values of all leaves in the BST in descending order. Assume the tree is balanced."
   ]
  },
  {
   "cell_type": "code",
   "execution_count": 126,
   "metadata": {},
   "outputs": [
    {
     "data": {
      "text/plain": [
       "[5, 4, 3]"
      ]
     },
     "execution_count": 126,
     "metadata": {},
     "output_type": "execute_result"
    }
   ],
   "source": [
    "class TreeNode:\n",
    "    def __init__(self, val, left=None, right=None):\n",
    "        self.val = val\n",
    "        self.left = left\n",
    "        self.right = right\n",
    "\n",
    "\n",
    "def helper(root, leaves):\n",
    "    if root is None:\n",
    "        return \n",
    "    \n",
    "    # we first check the right side because we need to append the\n",
    "    # largest nums first. DESC order\n",
    "    helper(root.right, leaves)\n",
    "    # checks if node is a leaf node\n",
    "    if root.left is None and root.right is None:\n",
    "        leaves.append(root.val)\n",
    "        \n",
    "    helper(root.left, leaves)\n",
    "    \n",
    "def descending_leaves(root):\n",
    "    if root is None:\n",
    "        return None\n",
    "    \n",
    "    leaves = []\n",
    "    helper(root, leaves)\n",
    "    return leaves\n",
    "\n",
    "five = TreeNode(5)\n",
    "four = TreeNode(4)\n",
    "three = TreeNode(3)\n",
    "two = TreeNode(2)\n",
    "one = TreeNode(1)\n",
    "one.left = two\n",
    "one.right = five\n",
    "one.left.left = three\n",
    "one.left.right = four\n",
    "descending_leaves(one)"
   ]
  },
  {
   "cell_type": "markdown",
   "metadata": {},
   "source": [
    "# Session 1 PV 2"
   ]
  },
  {
   "cell_type": "markdown",
   "metadata": {},
   "source": [
    "## Problem 1: Build A Binary Tree II\n",
    "Given the following TreeNode class, create the binary tree that has a root with value 5. The root should have a left child with value 10, and a right child with value 20."
   ]
  },
  {
   "cell_type": "code",
   "execution_count": null,
   "metadata": {},
   "outputs": [],
   "source": [
    "class TreeNode:\n",
    "    def __init__(self, value, left=None, right=None):\n",
    "        self.val = value\n",
    "        self.left = left\n",
    "        self.right = right\n",
    "        \n",
    "root = TreeNode(5)\n",
    "root.left = 10\n",
    "root.right = 20"
   ]
  },
  {
   "cell_type": "markdown",
   "metadata": {},
   "source": [
    "## Problem 2: 3-Node Product I\n",
    "Given the root of a binary tree that has exactly 3 nodes: the root, its left child, and its right child, return True if the value of the root is equal to the product of the values of its two children. Return False otherwise.\n",
    "\n",
    "Evaluate the time complexity of your function."
   ]
  },
  {
   "cell_type": "code",
   "execution_count": 78,
   "metadata": {},
   "outputs": [
    {
     "name": "stdout",
     "output_type": "stream",
     "text": [
      "True\n",
      "False\n"
     ]
    }
   ],
   "source": [
    "# Example Input Tree: \n",
    "#   10\n",
    "#  /  \\\n",
    "# 2    5\n",
    "# Input: root = 10\n",
    "# Expected Output: True\n",
    "\n",
    "# Example Input Tree: \n",
    "#   5\n",
    "#  / \\\n",
    "# 3   1\n",
    "# Input: root = 5\n",
    "# Expected Output: False\n",
    "\n",
    "class TreeNode:\n",
    "    def __init__(self, value, left=None, right=None):\n",
    "        self.val = value\n",
    "        self.left = left\n",
    "        self.right = right\n",
    "        \n",
    "def check_tree(root):\n",
    "    if not root:\n",
    "        return None\n",
    "    return root.val == root.left * root.right\n",
    "\n",
    "\n",
    "root1 = TreeNode(10)\n",
    "root1.left = 2\n",
    "root1.right = 5\n",
    "print(check_tree(root1))\n",
    "root2 = TreeNode(5)\n",
    "root2.left = 3\n",
    "root2.right = 1\n",
    "print(check_tree(root2))"
   ]
  },
  {
   "cell_type": "markdown",
   "metadata": {},
   "source": [
    "## Problem 3: 3-Node Product II\n",
    "Given the root of a binary tree that has at most 3 nodes: the root, its left child, and its right child, return True if the value of the root is equal to the product of the values of its two children. Return False otherwise. If the root has only one child, return False.\n",
    "\n",
    "Evaluate the time complexity of your function."
   ]
  },
  {
   "cell_type": "code",
   "execution_count": 91,
   "metadata": {},
   "outputs": [
    {
     "name": "stdout",
     "output_type": "stream",
     "text": [
      "False\n",
      "True\n",
      "False\n",
      "False\n",
      "False\n",
      "False\n"
     ]
    }
   ],
   "source": [
    "class TreeNode:\n",
    "    def __init__(self, value, left=None, right=None):\n",
    "        self.val = value\n",
    "        self.left = left\n",
    "        self.right = right\n",
    "\n",
    "\n",
    "def check_tree(root):\n",
    "    if not root:\n",
    "        return False\n",
    "    if root.left and root.right:\n",
    "        return root.val == root.left.val * root.right.val\n",
    "\n",
    "    return False\n",
    "# Example 1\n",
    "# Tree:\n",
    "#   10\n",
    "#  /\n",
    "# 10\n",
    "root1 = TreeNode(10)\n",
    "root1.left = TreeNode(10)\n",
    "print(check_tree(root1))  # Output: True\n",
    "\n",
    "# Example 2\n",
    "# Tree:\n",
    "#   5\n",
    "#  / \\\n",
    "# 3   1\n",
    "root2 = TreeNode(3)\n",
    "root2.left = TreeNode(3)\n",
    "root2.right = TreeNode(1)\n",
    "print(check_tree(root2))  # Output: True\n",
    "\n",
    "# Example 3\n",
    "# Tree:\n",
    "#   5\n",
    "#    \\\n",
    "#     2\n",
    "root3 = TreeNode(5)\n",
    "root3.right = TreeNode(2)\n",
    "print(check_tree(root3))  # Output: True (Node with value 5 is present)\n",
    "print(check_tree(root3))  # Output: True (Node with value 2 is present)\n",
    "print(check_tree(root3))  # Output: False (Node with value 10 is not present)\n",
    "\n",
    "# Example 4\n",
    "# Empty Tree\n",
    "root4 = None\n",
    "print(check_tree(root4))  # Output: False"
   ]
  },
  {
   "cell_type": "markdown",
   "metadata": {},
   "source": [
    "## Problem 4: Find Rightmost Node I\n",
    "Given the root of a binary tree, write a function that finds the value of the right most node in the tree.\n",
    "\n",
    "Evaluate the time complexity of your function."
   ]
  },
  {
   "cell_type": "code",
   "execution_count": 103,
   "metadata": {},
   "outputs": [
    {
     "name": "stdout",
     "output_type": "stream",
     "text": [
      "None\n",
      "5\n",
      "2\n",
      "None\n"
     ]
    }
   ],
   "source": [
    "class TreeNode:\n",
    "    def __init__(self, value, left=None, right=None):\n",
    "        self.val = value\n",
    "        self.left = left\n",
    "        self.right = right\n",
    "\n",
    "\n",
    "def right_most(root):\n",
    "    if root is None:\n",
    "        return None\n",
    "    if root.right is None:\n",
    "        return root.val\n",
    "    return right_most(root.right)\n",
    "\n",
    "\n",
    "# Example Input Tree:\n",
    "\"\"\"\n",
    "      1\n",
    "     / \\\n",
    "    /   \\\n",
    "   2     5\n",
    "  / \\    \n",
    " 4   3    \n",
    "\"\"\"\n",
    "# Input: root = 1\n",
    "# Expected Output: 5\n",
    "root1 = TreeNode(1)\n",
    "root1.left = TreeNode(2)\n",
    "root1.right = TreeNode(5)\n",
    "root1.left.left = TreeNode(4)\n",
    "root1.left.right = TreeNode(3)\n",
    "print(right_most(root1))\n",
    "\n",
    "# Example Input Tree:\n",
    "\"\"\"\n",
    "     1\n",
    "      \\\n",
    "       2\n",
    "      / \n",
    "     3    \n",
    "\"\"\"\n",
    "# Input: root = 1\n",
    "# Expected Output: 2\n",
    "root2 = TreeNode(1)\n",
    "root2.right = TreeNode(2)\n",
    "root2.right.left = TreeNode(3)\n",
    "print(right_most(root2))\n",
    "\n",
    "# Input: root = None\n",
    "# Output: None\n",
    "\n",
    "root3 = TreeNode(None)\n",
    "print(right_most(root3))"
   ]
  },
  {
   "cell_type": "markdown",
   "metadata": {},
   "source": [
    "## Problem 5: Find Rightmost Node II\n",
    "If you implemented the previous right_most() function iteratively, implement it recursively. If you implemented it recursively, implement it recursively.\n",
    "\n",
    "Evaluate the time complexity of the function."
   ]
  },
  {
   "cell_type": "code",
   "execution_count": 104,
   "metadata": {},
   "outputs": [
    {
     "name": "stdout",
     "output_type": "stream",
     "text": [
      "5\n",
      "2\n",
      "None\n"
     ]
    }
   ],
   "source": [
    "class TreeNode:\n",
    "    def __init__(self, value, left=None, right=None):\n",
    "        self.val = value\n",
    "        self.left = left\n",
    "        self.right = right\n",
    "\n",
    "\n",
    "def right_most(root):\n",
    "    if root is None:\n",
    "        return None\n",
    "    while root.right:\n",
    "        root = root.right\n",
    "    return root.val\n",
    "\n",
    "\n",
    "# Example Input Tree:\n",
    "\"\"\"\n",
    "      1\n",
    "     / \\\n",
    "    /   \\\n",
    "   2     5\n",
    "  / \\    \n",
    " 4   3    \n",
    "\"\"\"\n",
    "# Input: root = 1\n",
    "# Expected Output: 5\n",
    "root1 = TreeNode(1)\n",
    "root1.left = TreeNode(2)\n",
    "root1.right = TreeNode(5)\n",
    "root1.left.left = TreeNode(4)\n",
    "root1.left.right = TreeNode(3)\n",
    "print(right_most(root1))\n",
    "\n",
    "# Example Input Tree:\n",
    "\"\"\"\n",
    "     1\n",
    "      \\\n",
    "       2\n",
    "      / \n",
    "     3    \n",
    "\"\"\"\n",
    "# Input: root = 1\n",
    "# Expected Output: 2\n",
    "root2 = TreeNode(1)\n",
    "root2.right = TreeNode(2)\n",
    "root2.right.left = TreeNode(3)\n",
    "print(right_most(root2))\n",
    "\n",
    "# Input: root = None\n",
    "# Output: None\n",
    "\n",
    "root3 = TreeNode(None)\n",
    "print(right_most(root3))"
   ]
  },
  {
   "cell_type": "markdown",
   "metadata": {},
   "source": [
    "## Problem 6: Post-order Traversal\n",
    "Given the root of a binary tree, return a list representing the postorder traversal of its nodes' values. In an postorder traversal we traverse the left subtree, then the right subtree, then the current node.\n",
    "\n",
    "Evaluate the time complexity of your function."
   ]
  },
  {
   "cell_type": "code",
   "execution_count": 123,
   "metadata": {},
   "outputs": [
    {
     "name": "stdout",
     "output_type": "stream",
     "text": [
      "[4, 5, 2, 6, 3, 1]\n"
     ]
    }
   ],
   "source": [
    "class TreeNode:\n",
    "    def __init__(self, value, left=None, right=None):\n",
    "        self.val = value\n",
    "        self.left = left\n",
    "        self.right = right\n",
    "\n",
    "\n",
    "def postorder_helper(curr_node, res):\n",
    "    if curr_node is None:\n",
    "        return curr_node\n",
    "    postorder_helper(curr_node.left, res)\n",
    "    postorder_helper(curr_node.right, res)\n",
    "    res.append(curr_node.val)\n",
    "    return res\n",
    "    \n",
    "    \n",
    "def postorder_traversal(root):\n",
    "    if not root:\n",
    "        return None\n",
    "    res = []\n",
    "    postorder_helper(root, res)\n",
    "    return res\n",
    "\n",
    "\n",
    "# Example Input Tree:\n",
    "\"\"\"For example:\n",
    "      1\n",
    "     / \\\n",
    "    /   \\ \n",
    "   2     3\n",
    "  / \\     \\ \n",
    " 4   5     6\n",
    "\"\"\"\n",
    "# Input: root = 1\n",
    "# Expected Output: [4, 5, 2, 6, 3, 1]\n",
    "rt = TreeNode(1)\n",
    "two = TreeNode(2)\n",
    "rt.left = two\n",
    "two.left = TreeNode(4)\n",
    "two.right = TreeNode(5)\n",
    "rt.right = TreeNode(3)\n",
    "rt.right.right = TreeNode(6)\n",
    "print(postorder_traversal(rt))\n",
    "\n"
   ]
  },
  {
   "cell_type": "markdown",
   "metadata": {},
   "source": [
    "## Problem 8: Binary Tree Is Leaf\n",
    "Given a value and the root of a binary search tree, write a function is_leaf_bst() that returns True if a node with the given value is a leaf node and False otherwise. Assume the tree is balanced.\n",
    "\n",
    "Evaluate the time complexity of your solution."
   ]
  },
  {
   "cell_type": "code",
   "execution_count": 135,
   "metadata": {},
   "outputs": [
    {
     "name": "stdout",
     "output_type": "stream",
     "text": [
      "False\n"
     ]
    },
    {
     "data": {
      "text/plain": [
       "'\\n      1\\n     /     /      2     5\\n  /     \\n 4       \\n'"
      ]
     },
     "execution_count": 135,
     "metadata": {},
     "output_type": "execute_result"
    }
   ],
   "source": [
    "\n",
    "\n",
    "class TreeNode:\n",
    "    def __init__(self, value, left=None, right=None):\n",
    "        self.val = value\n",
    "        self.left = left\n",
    "        self.right = right\n",
    "\n",
    "\n",
    "def is_leaf(root, value):\n",
    "    if root is None:\n",
    "        return False\n",
    "    if root.val == value:\n",
    "        return root.left is None and root.right is None\n",
    "    return is_leaf(root.left, value) or is_leaf(root.right, value)\n",
    "\n",
    "\n",
    "\n",
    "# Example Input Tree:\n",
    "\"\"\"\n",
    "      1\n",
    "     / \\\n",
    "    /   \\\n",
    "   2     5\n",
    "  / \\    \n",
    " 4   3    \n",
    "\"\"\"\n",
    "# Input: root = 1, value = 5\n",
    "# Expected Output: True\n",
    "root1 = TreeNode(1)\n",
    "root1.left = TreeNode(2)\n",
    "root1.left.left = TreeNode(4)\n",
    "root1.right = TreeNode(5)\n",
    "print(is_leaf(root1, 3))\n",
    "# Example Input Tree:\n",
    "\"\"\"\n",
    "      1\n",
    "     / \\\n",
    "    /   \\\n",
    "   2     5\n",
    "  /     \n",
    " 4       \n",
    "\"\"\"\n",
    "# Input: root = 1, value = 2\n",
    "# Expected Output: False"
   ]
  },
  {
   "cell_type": "markdown",
   "metadata": {},
   "source": [
    "## Problem 9: BST Is Leaf\n",
    "Given a value and the root of a binary search tree, write a function is_leaf_bst() that returns True if a node with the given value is a leaf node and False otherwise. Assume the tree is balanced.\n",
    "\n",
    "Evaluate the time complexity of your solution."
   ]
  },
  {
   "cell_type": "code",
   "execution_count": 138,
   "metadata": {},
   "outputs": [
    {
     "name": "stdout",
     "output_type": "stream",
     "text": [
      "False\n"
     ]
    }
   ],
   "source": [
    "class TreeNode:\n",
    "    def __init__(self, value, left=None, right=None):\n",
    "        self.val = value\n",
    "        self.left = left\n",
    "        self.right = right\n",
    "\n",
    "\n",
    "def is_leaf_bst(root, value):\n",
    "    if root is None:\n",
    "        return False\n",
    "    if root.val == value:\n",
    "        return root.left is None and root.right is None\n",
    "    return is_leaf(root.left, value) or is_leaf(root.right, value)\n",
    "\n",
    "\n",
    "# Example Input Tree:\n",
    "# \"\"\"\n",
    "#       4\n",
    "#      / \\\n",
    "#     /   \\\n",
    "#    2     5\n",
    "#   / \\\n",
    "#  1   3\n",
    "\"\"\"\n",
    "# Input: root = 4, value = 5\n",
    "# Expected Output: True\n",
    "\n",
    "# Example Input Tree:\n",
    "# \"\"\"\n",
    "#       4\n",
    "#      / \\\n",
    "#     /   \\\n",
    "#    2     5\n",
    "#   / \\\n",
    "#  1   3\n",
    "# \"\"\"\n",
    "# Input: root = 4, value = 10\n",
    "# Expected Output: False\n",
    "root1 = TreeNode(1)\n",
    "root1.left = TreeNode(2)\n",
    "root1.left.left = TreeNode(4)\n",
    "root1.right = TreeNode(5)\n",
    "print(is_leaf(root1, 3))"
   ]
  },
  {
   "cell_type": "markdown",
   "metadata": {},
   "source": [
    "## Problem 10: BST Is Full\n",
    "Given the root of a binary search tree, write a function is_full_tree() that returns True if the tree is full and False otherwise. A binary tree is full if every node has either zero or two children.\n",
    "\n"
   ]
  },
  {
   "cell_type": "code",
   "execution_count": 139,
   "metadata": {},
   "outputs": [],
   "source": [
    "class TreeNode:\n",
    "    def __init__(self, value, left=None, right=None):\n",
    "        self.val = val\n",
    "        self.left = left\n",
    "        self.right = right\n",
    "\n",
    "\n",
    "def is_full_tree(root):\n",
    "    if root is None:\n",
    "        return True\n",
    "    # check children count\n",
    "    # if both left and right are None, it's a leaf node, thus a full subtree\n",
    "    # if both left and right are not None, we need to check recursively\n",
    "    # that both subtrees are full\n",
    "    if root.left is None and root.right is None:\n",
    "        return True\n",
    "    if root.left is not None and root.right is not None:\n",
    "        return is_full_tree(root.left) and is_full_tree(root.right)\n",
    "\n",
    "    return False\n",
    "# # Example Input Tree:\n",
    "# \"\"\"\n",
    "#       4\n",
    "#      / \\\n",
    "#     /   \\\n",
    "#    2     5\n",
    "#   / \\    \n",
    "#  1   3    \n",
    "# \"\"\"\n",
    "# # Input: root = 4\n",
    "# # Expected Output: True\n",
    "\n",
    "# # Example Input Tree:\n",
    "# \"\"\" 10\n",
    "# \t /  \\ \n",
    "# \t2    1\n",
    "#    \\\n",
    "#     3\n",
    "# \"\"\"\n",
    "# # Input: root = 4\n",
    "# # Expected Output: [10]"
   ]
  },
  {
   "cell_type": "code",
   "execution_count": null,
   "metadata": {},
   "outputs": [],
   "source": []
  },
  {
   "cell_type": "markdown",
   "metadata": {},
   "source": [
    "# Session 1 PV 3"
   ]
  },
  {
   "cell_type": "markdown",
   "metadata": {},
   "source": [
    "## Problem 2: 3-Node Booleans\n",
    "You are given the root of a binary tree that has exactly 3 nodes: the root, its left child, and its right child. The left and right child have a boolean value of either True or False.\n",
    "\n",
    "The root has a string value of either AND or OR. Apply the boolean operation of the root to its two children. Return True if the result of the expression is truth and False otherwise.\n",
    "\n",
    "Evaluate the time complexity of your function."
   ]
  },
  {
   "cell_type": "code",
   "execution_count": 150,
   "metadata": {},
   "outputs": [
    {
     "name": "stdout",
     "output_type": "stream",
     "text": [
      "True\n",
      "False\n"
     ]
    }
   ],
   "source": [
    "# Example Input Tree:\n",
    "#    'OR'\n",
    "#    /   \\\n",
    "#   /     \\\n",
    "# True   False\n",
    "# Input: root = 'OR'\n",
    "# Expected Output: True\n",
    "\n",
    "# Example Input Tree:\n",
    "#    'AND'\n",
    "#    /   \\\n",
    "#   /     \\\n",
    "# True   False\n",
    "# Input: root = 'AND'\n",
    "# Expected Output: False\n",
    "\n",
    "class TreeNode:\n",
    "    def __init__(self, value, left=None, right=None):\n",
    "        self.val = value\n",
    "        self.left = left\n",
    "        self.right = right\n",
    "\n",
    "def tree_expression(root):\n",
    "    if root is None:\n",
    "        return None\n",
    "    if root.val.lower() == \"or\":\n",
    "        return root.left.val or root.right.val\n",
    "    elif root.val.lower() == \"and\":\n",
    "        return root.left.val and root.right.val\n",
    "    else:\n",
    "        return False\n",
    "\n",
    "\n",
    "root = TreeNode(\"OR\")\n",
    "root.left = TreeNode(True)\n",
    "root.right = TreeNode(False)\n",
    "print(tree_expression(root))\n",
    "root2 = TreeNode(\"AND\")\n",
    "root2.left = TreeNode(True)\n",
    "root2.right = TreeNode(False)\n",
    "print(tree_expression(root2))"
   ]
  },
  {
   "cell_type": "markdown",
   "metadata": {},
   "source": [
    "## Problem 3: 3-Node Equality\n",
    "You are given the root of a binary tree that has at most 3 nodes: the root, its left child, and its right child.\n",
    "\n",
    "Return True if the root’s children have equal value and False otherwise.\n",
    "\n",
    "Evaluate the time complexity of your function."
   ]
  },
  {
   "cell_type": "code",
   "execution_count": 161,
   "metadata": {},
   "outputs": [
    {
     "name": "stdout",
     "output_type": "stream",
     "text": [
      "True\n",
      "False\n"
     ]
    }
   ],
   "source": [
    "# Example Input Tree:\n",
    "#      1\n",
    "#     / \\\n",
    "#    2   2\n",
    "# Input: root = 1\n",
    "# Expected Output: True\n",
    "\n",
    "# Example Input Tree:\n",
    "#      1\n",
    "#     /\n",
    "#    2\n",
    "# Input: root = 1\n",
    "# Expected Output: False\n",
    "\n",
    "\n",
    "class TreeNode:\n",
    "    def __init__(self, value, left=None, right=None):\n",
    "        self.val = value\n",
    "        self.left = left\n",
    "        self.right = right\n",
    "\n",
    "\n",
    "def equality(root):\n",
    "    if root is None or root.left is None or root.right is None:\n",
    "        return False\n",
    "    return root.left.val == root.right.val\n",
    "\n",
    "\n",
    "root1 = TreeNode(1, TreeNode(2), TreeNode(2))\n",
    "print(equality(root1))\n",
    "\n",
    "root2 = TreeNode(1, TreeNode(2))\n",
    "print(equality(root2))"
   ]
  },
  {
   "cell_type": "markdown",
   "metadata": {},
   "source": [
    "## Problem 4: Find Leftmost Path I\n",
    "Given the root of a binary tree, write a function that finds that returns a list of the left most path of the tree.\n",
    "\n",
    "Evaluate the time complexity of your function."
   ]
  },
  {
   "cell_type": "code",
   "execution_count": 173,
   "metadata": {},
   "outputs": [
    {
     "name": "stdout",
     "output_type": "stream",
     "text": [
      "[1, 2, 4]\n",
      "[1]\n"
     ]
    }
   ],
   "source": [
    "# Example Input Tree:\n",
    "\"\"\"\n",
    "      1\n",
    "     / \\\n",
    "    /   \\\n",
    "   2     5\n",
    "  / \\    \n",
    " 4   3    \n",
    "\"\"\"\n",
    "# Input: root = 1\n",
    "# Expected Output: [1, 2, 4]\n",
    "\n",
    "# Example Input Tree:\n",
    "\"\"\"\n",
    "     1\n",
    "      \\\n",
    "       2\n",
    "      / \n",
    "     3    \n",
    "\"\"\"\n",
    "# Input: root = 1\n",
    "# Expected Output: [1]\n",
    "\n",
    "# Input: root = None\n",
    "# Output: []\n",
    "\n",
    "\n",
    "class TreeNode:\n",
    "    def __init__(self, value, left=None, right=None):\n",
    "        self.val = value\n",
    "        self.left = left\n",
    "        self.right = right\n",
    "\n",
    "\n",
    "def left_path(root):\n",
    "    if root is None:\n",
    "        return []\n",
    "    \n",
    "    return [root.val] + left_path(root.left)\n",
    "    return res\n",
    "    \n",
    "    \n",
    "    \n",
    "root1 = TreeNode(1)\n",
    "root1.left = TreeNode(2)\n",
    "root1.right = TreeNode(5)\n",
    "root1.left.left = TreeNode(4)\n",
    "root1.left.right = TreeNode(3)\n",
    "print(left_path(root1))\n",
    "root2 = TreeNode(1)\n",
    "root2.right = TreeNode(2)\n",
    "root2.right.right = TreeNode(3)\n",
    "print(left_path(root2))"
   ]
  },
  {
   "cell_type": "markdown",
   "metadata": {},
   "source": [
    "## Problem 5: Find Leftmost Path II\n",
    "If you implemented the previous left_most() function iteratively, implement it recursively. If you implemented it recursively, implement it recursively.\n",
    "\n",
    "Evaluate the time complexity of your implementation"
   ]
  },
  {
   "cell_type": "code",
   "execution_count": 174,
   "metadata": {},
   "outputs": [
    {
     "name": "stdout",
     "output_type": "stream",
     "text": [
      "[1, 2, 4]\n",
      "[1]\n"
     ]
    }
   ],
   "source": [
    "class TreeNode:\n",
    "    def __init__(self, value, left=None, right=None):\n",
    "        self.val = value\n",
    "        self.left = left\n",
    "        self.right = right\n",
    "\n",
    "\n",
    "def left_path(root):\n",
    "    res = []\n",
    "    if root is None:\n",
    "        return res\n",
    "\n",
    "    while root:\n",
    "        res.append(root.val)\n",
    "        root = root.left\n",
    "    return res\n",
    "\n",
    "\n",
    "root1 = TreeNode(1)\n",
    "root1.left = TreeNode(2)\n",
    "root1.right = TreeNode(5)\n",
    "root1.left.left = TreeNode(4)\n",
    "root1.left.right = TreeNode(3)\n",
    "print(left_path(root1))\n",
    "root2 = TreeNode(1)\n",
    "root2.right = TreeNode(2)\n",
    "root2.right.right = TreeNode(3)\n",
    "print(left_path(root2))"
   ]
  },
  {
   "cell_type": "markdown",
   "metadata": {},
   "source": [
    "## Problem 6: Pre-order Traversal\n",
    "Given the root of a binary tree, return a list representing the preorder traversal of its nodes' values. In an preorder traversal we traverse the current node, then the left subtree, then the right subtree."
   ]
  },
  {
   "cell_type": "code",
   "execution_count": 181,
   "metadata": {},
   "outputs": [
    {
     "name": "stdout",
     "output_type": "stream",
     "text": [
      "[1, 2, 4, 3, 5]\n",
      "[None]\n",
      "[1]\n"
     ]
    }
   ],
   "source": [
    "# Example Input Tree:\n",
    "\"\"\"For example:\n",
    "     1\n",
    "     / \\\n",
    "    /   \\\n",
    "   2     5\n",
    "  / \\    \n",
    " 4   3 \n",
    "\"\"\"\n",
    "# Input: root = 1\n",
    "# Expected Output: [1,3,2]\n",
    "\n",
    "# Input: root = None\n",
    "# Output: []\n",
    "\n",
    "# Example Input Tree\n",
    "\"\"\" 1 \"\"\"\n",
    "# Input: root = 1\n",
    "# Output: [1]\n",
    "\n",
    "\n",
    "class TreeNode:\n",
    "    def __init__(self, value, left=None, right=None):\n",
    "        self.val = value\n",
    "        self.left = left\n",
    "        self.right = right\n",
    "\n",
    "def preorder_helper(root, res):\n",
    "    if root is None:\n",
    "        return \n",
    "    res.append(root.val)\n",
    "    preorder_helper(root.left, res)\n",
    "    preorder_helper(root.right, res)\n",
    "    \n",
    "\n",
    "def preorder_traversal(root):\n",
    "    res = []\n",
    "    preorder_helper(root, res)\n",
    "    return res\n",
    "    \n",
    "root1 = TreeNode(1)\n",
    "root1.left = TreeNode(2)\n",
    "root1.right = TreeNode(5)\n",
    "root1.left.left = TreeNode(4)\n",
    "root1.left.right = TreeNode(3)\n",
    "print(preorder_traversal(root1))\n",
    "\n",
    "root2 = TreeNode(None)\n",
    "print(preorder_traversal(root2))\n",
    "\n",
    "root3 = TreeNode(1)\n",
    "print(preorder_traversal(root3))"
   ]
  },
  {
   "cell_type": "markdown",
   "metadata": {},
   "source": [
    "## Problem 7: Binary Tree All Lesser\n",
    "Given the root of a binary tree and a value val, write a function is_lesser() that returns True if all the nodes in the tree have a value less than val and False otherwise. If the tree is empty, return False.\n",
    "\n",
    "Evaluate the time complexity of your function."
   ]
  },
  {
   "cell_type": "code",
   "execution_count": 191,
   "metadata": {},
   "outputs": [
    {
     "name": "stdout",
     "output_type": "stream",
     "text": [
      "False\n",
      "True\n"
     ]
    }
   ],
   "source": [
    "# Example Input Tree:\n",
    "\"\"\"\n",
    "      4\n",
    "     / \\\n",
    "    /   \\\n",
    "   2     5\n",
    "  / \\    \n",
    " 1   3    \n",
    "\"\"\"\n",
    "# Input: root = 4, val = 5\n",
    "# Expected Output: False\n",
    "\n",
    "# Example Input Tree:\n",
    "\"\"\"\n",
    "      4\n",
    "     / \\\n",
    "    /   \\\n",
    "   2     5\n",
    "  / \\    \n",
    " 1   3    \n",
    "\"\"\"\n",
    "# Input: root = 4, val = 6\n",
    "# Expected Output: True\n",
    "\n",
    "\n",
    "class TreeNode:\n",
    "    def __init__(self, value, left=None, right=None):\n",
    "        self.val = value\n",
    "        self.left = left\n",
    "        self.right = right\n",
    "\n",
    "\n",
    "def is_lesser(root, value):\n",
    "    if root is None:\n",
    "        return True\n",
    "    if root.val >= value:\n",
    "        return False\n",
    "    return is_lesser(root.left, value) and is_lesser(root.right, value)\n",
    "    \n",
    "    \n",
    "\n",
    "\n",
    "root1 = TreeNode(4)\n",
    "root1.left = TreeNode(2)\n",
    "root1.right = TreeNode(5)\n",
    "root1.left.left = TreeNode(1)\n",
    "root1.left.right = TreeNode(3)\n",
    "print(is_lesser(root1, 5))\n",
    "\n",
    "root2 = TreeNode(4)\n",
    "root2.left = TreeNode(2)\n",
    "root2.right = TreeNode(5)\n",
    "root2.left.left = TreeNode(1)\n",
    "root2.left.right = TreeNode(3)\n",
    "print(is_lesser(root2, 6))"
   ]
  },
  {
   "cell_type": "markdown",
   "metadata": {},
   "source": [
    "## Problem 8: Binary Tree Any Greater\n",
    "Given a value and the root of a binary tree, write a function contains_greater() which returns True if any nodes greater than value exist in the tree. If no node greater than value exist, return False. Assume the tree is balanced.\n",
    "\n",
    "Evaluate the time complexity of your solution."
   ]
  },
  {
   "cell_type": "code",
   "execution_count": 195,
   "metadata": {},
   "outputs": [
    {
     "name": "stdout",
     "output_type": "stream",
     "text": [
      "False\n",
      "True\n"
     ]
    }
   ],
   "source": [
    "# Example Input Tree:\n",
    "\"\"\"\n",
    "      1\n",
    "     / \\\n",
    "    /   \\\n",
    "   5     2\n",
    "  / \\    \n",
    " 4   3    \n",
    "\"\"\"\n",
    "# Input: root = 1, value = 3\n",
    "# Expected Output: True\n",
    "\n",
    "# Example Input Tree:\n",
    "\"\"\"\n",
    "      1\n",
    "     / \\\n",
    "    /   \\\n",
    "   5     2\n",
    "  / \\    \n",
    " 4   3    \n",
    "\"\"\"\n",
    "# Input: root = 1, value = 10\n",
    "# Expected Output: False\n",
    "\n",
    "\n",
    "class TreeNode:\n",
    "    def __init__(self, value, left=None, right=None):\n",
    "        self.val = value\n",
    "        self.left = left\n",
    "        self.right = right\n",
    "\n",
    "\n",
    "def contains_greater(root, value):\n",
    "    if root is None:\n",
    "        return False\n",
    "    if root.val > value:\n",
    "        return True\n",
    "    return contains_greater(root.left, value) or contains_greater(root.right, value)\n",
    "\n",
    "\n",
    "root1 = TreeNode(1)\n",
    "root1.left = TreeNode(5)\n",
    "root1.right = TreeNode(2)\n",
    "root1.left.left = TreeNode(4)\n",
    "root1.left.right = TreeNode(3)\n",
    "print(is_lesser(root1, 3))\n",
    "\n",
    "root2 = TreeNode(1)\n",
    "root2.left = TreeNode(5)\n",
    "root2.right = TreeNode(2)\n",
    "root2.left.left = TreeNode(4)\n",
    "root2.left.right = TreeNode(3)\n",
    "print(is_lesser(root2, 10))"
   ]
  },
  {
   "cell_type": "markdown",
   "metadata": {},
   "source": [
    "## Problem 9: BST Any Greater\n",
    "Given a value and the root of a binary search tree, write a function contains_greater_bst() which returns True if any nodes greater than value exist in the tree. If no node greater than value exists, return False. Assume the tree is balanced.\n",
    "\n",
    "Evaluate the time complexity of your solution."
   ]
  },
  {
   "cell_type": "code",
   "execution_count": 200,
   "metadata": {},
   "outputs": [
    {
     "name": "stdout",
     "output_type": "stream",
     "text": [
      "True\n",
      "False\n"
     ]
    }
   ],
   "source": [
    "# Example Input Tree:\n",
    "\"\"\"\n",
    "      4\n",
    "     / \\\n",
    "    /   \\\n",
    "   2     5\n",
    "  / \\    \n",
    " 1   3    \n",
    "\"\"\"\n",
    "# Input: root = 4, value = 3\n",
    "# Expected Output:  True\n",
    "\n",
    "# Example Input Tree:\n",
    "\"\"\"\n",
    "      4\n",
    "     / \\\n",
    "    /   \\\n",
    "   2     5\n",
    "  / \\    \n",
    " 1   3    \n",
    "\"\"\"\n",
    "# Input: root = 4, value = 10\n",
    "# Expected Output: False\n",
    "\n",
    "\n",
    "class TreeNode:\n",
    "    def __init__(self, value, left=None, right=None):\n",
    "        self.val = value\n",
    "        self.left = left\n",
    "        self.right = right\n",
    "\n",
    "\n",
    "def contains_greater_bst(root, value):\n",
    "    if root is None:\n",
    "        return False\n",
    "    if root.val > value:\n",
    "        return True\n",
    "    return contains_greater_bst(root.right, value)\n",
    "\n",
    "\n",
    "root1 = TreeNode(4)\n",
    "root1.left = TreeNode(2)\n",
    "root1.right = TreeNode(5)\n",
    "root1.left.left = TreeNode(1)\n",
    "root1.left.right = TreeNode(3)\n",
    "print(contains_greater_bst(root1, 3))\n",
    "\n",
    "root2 = TreeNode(4)\n",
    "root2.left = TreeNode(2)\n",
    "root2.right = TreeNode(5)\n",
    "root2.left.left = TreeNode(1)\n",
    "root2.left.right = TreeNode(3)\n",
    "print(contains_greater_bst(root2, 10))"
   ]
  },
  {
   "cell_type": "markdown",
   "metadata": {},
   "source": [
    "## Problem 10: BST Leaves Sum to Root\n",
    "Given the root of a binary tree, write a function leaf_sum() that returns True if the sum of the values of all the leaves equal the sum of the value of the root. Return False otherwise.\n",
    "\n",
    "Evaluate the time complexity of your function"
   ]
  },
  {
   "cell_type": "code",
   "execution_count": 205,
   "metadata": {},
   "outputs": [
    {
     "name": "stdout",
     "output_type": "stream",
     "text": [
      "0\n",
      "10\n"
     ]
    }
   ],
   "source": [
    "# Example Input Tree:\n",
    "\"\"\"\n",
    "      4\n",
    "     / \n",
    "    /   \n",
    "   2     \n",
    "  / \\    \n",
    " 1   3    \n",
    "\"\"\"\n",
    "# Input: root = 4\n",
    "# Expected Output: True\n",
    "\n",
    "# Example Input Tree:\n",
    "\"\"\" 10  \n",
    "\"\"\"\n",
    "# Input: root = 10\n",
    "# Expected Output: False\n",
    "\n",
    "\n",
    "class TreeNode:\n",
    "    def __init__(self, value, left=None, right=None):\n",
    "        self.val = value\n",
    "        self.left = left\n",
    "        self.right = right\n",
    "\n",
    "\n",
    "def sum_leaves(root):\n",
    "    if root is None:\n",
    "        return 0\n",
    "    \n",
    "    if root.left is None and root.right  is None:\n",
    "        return root.val\n",
    "    \n",
    "    return sum_leaves(root.left) + sum_leaves(root.right)\n",
    "\n",
    "    if root is None:\n",
    "        return False\n",
    "\n",
    "\n",
    "root1 = TreeNode(4)\n",
    "root1.left = TreeNode(2)\n",
    "root1.left.left = TreeNode(1)\n",
    "root1.left.right = TreeNode(3)\n",
    "print(sum_leaves(root1))\n",
    "root2 = TreeNode(10)\n",
    "print(sum_leaves(root2))"
   ]
  },
  {
   "cell_type": "code",
   "execution_count": null,
   "metadata": {},
   "outputs": [],
   "source": []
  },
  {
   "cell_type": "markdown",
   "metadata": {},
   "source": [
    "# Session 2 PV 1"
   ]
  },
  {
   "cell_type": "markdown",
   "metadata": {},
   "source": [
    "## roblem 1: Is Uni-valued\n",
    "A binary tree is uni-valued if every node in the tree has the same value. Given the root of a binary tree, return True if the given tree is uni-valued and False otherwise.\n",
    "\n",
    "Evaluate the time complexity of your solution."
   ]
  },
  {
   "cell_type": "code",
   "execution_count": 213,
   "metadata": {},
   "outputs": [
    {
     "name": "stdout",
     "output_type": "stream",
     "text": [
      "True\n",
      "False\n"
     ]
    }
   ],
   "source": [
    "class TreeNode():\n",
    "     def __init__(self, value, left=None, right=None):\n",
    "         self.val = value\n",
    "         self.left = left\n",
    "         self.right = right\n",
    "\n",
    "def helper(root, value):\n",
    "    if root is None:\n",
    "        return True\n",
    "    if root.val != value:\n",
    "        return False\n",
    "    \n",
    "    return helper(root.left, value) and helper(root.right, value)\n",
    "def is_univalued(root):\n",
    "    if not root:\n",
    "        return True\n",
    "    return helper(root, root.val)\n",
    "\n",
    "root1 = TreeNode(1)\n",
    "root1.left = TreeNode(1)\n",
    "root1.left.left = TreeNode(1)\n",
    "root1.right = TreeNode(1)\n",
    "root1.right.right = TreeNode(1)\n",
    "print(is_univalued(root1))\n",
    "\n",
    "root2 = TreeNode(1)\n",
    "root2.left = TreeNode(1)\n",
    "root2.left.left = TreeNode(1)\n",
    "root2.right = TreeNode(2)\n",
    "root2.right.right = TreeNode(1)\n",
    "print(is_univalued(root2))"
   ]
  },
  {
   "cell_type": "markdown",
   "metadata": {},
   "source": [
    "Example Input Tree #1\n",
    "\n",
    "      1\n",
    "     / \\\n",
    "    /   \\\n",
    "   1     1\n",
    "  / \\     \\\n",
    " 1   1     1\n",
    "\n",
    "Input: root = 1\n",
    "Expected Output: True\n",
    "\n",
    "Example Input Tree #2\n",
    "\n",
    "      1\n",
    "     / \\\n",
    "    /   \\\n",
    "   1     2\n",
    "  / \\     \\\n",
    " 1   1     1\n",
    "\n",
    "Input: root = 1\n",
    "Expected Output: False"
   ]
  },
  {
   "cell_type": "markdown",
   "metadata": {},
   "source": [
    "## Problem 2: Binary Tree Height\n",
    "Given the root of a binary tree, write a function height() that returns the height of a binary tree.\n",
    "\n",
    "Evaluate the time complexity of your function."
   ]
  },
  {
   "cell_type": "code",
   "execution_count": 220,
   "metadata": {},
   "outputs": [
    {
     "name": "stdout",
     "output_type": "stream",
     "text": [
      "3\n"
     ]
    }
   ],
   "source": [
    "class TreeNode():\n",
    "     def __init__(self, value, left=None, right=None):\n",
    "         self.val = value\n",
    "         self.left = left\n",
    "         self.right = right\n",
    "   \n",
    "def height(root):\n",
    "    \n",
    "    if not root:\n",
    "        return 0\n",
    "    left_height = height(root.left)\n",
    "    right_height = height(root.right)\n",
    "    \n",
    "    return max(left_height, right_height) + 1\n",
    " \n",
    "\n",
    "root1 = TreeNode(4)\n",
    "root1.right = TreeNode(5)\n",
    "root1.left = TreeNode(2)\n",
    "root1.left.left = TreeNode(1)\n",
    "root1.left.right = TreeNode(3)\n",
    "print(height(root1))"
   ]
  },
  {
   "cell_type": "markdown",
   "metadata": {},
   "source": [
    "Example Input Tree #1\n",
    "\n",
    "      4\n",
    "     / \\\n",
    "    /   \\\n",
    "   2     5\n",
    "  / \\    \n",
    " 1   3    \n",
    "\n",
    "Input: root = 4\n",
    "Expected Output: 3\n",
    "\n",
    "Example Input Tree #2 \n",
    "\n",
    "      4 \n",
    "\n",
    "Input: root = 4\n",
    "Expected Output: 1"
   ]
  },
  {
   "cell_type": "markdown",
   "metadata": {},
   "source": [
    "## Problem 3: BST Insert\n",
    "Given the root of a binary search tree, insert a new node with a given key and value into the tree. Return the root of the modified tree. The tree is sorted by key. If a node with the given key already exists, update the the existing key’s value. You do not need to maintain a balanced tree.\n",
    "\n",
    "Evaluate the time complexity of your function."
   ]
  },
  {
   "cell_type": "code",
   "execution_count": 233,
   "metadata": {},
   "outputs": [
    {
     "name": "stdout",
     "output_type": "stream",
     "text": [
      "10\n"
     ]
    }
   ],
   "source": [
    "class TreeNode():\n",
    "     def __init__(self, key, value, left=None, right=None):\n",
    "          self.key = key\n",
    "          self.val = value\n",
    "          self.left = left\n",
    "          self.right = right\n",
    "   \n",
    "def insert(root, key, value):\n",
    "     # if the root is None insert the new key, value pair\n",
    "     if not root:\n",
    "          return TreeNode(key, value)\n",
    "     # if key is larger than the node value you traverse the right side\n",
    "     if root.val < key:\n",
    "          root.right = insert(root.right, key, value)\n",
    "     # if the key is smaller than the node value you traverse the left side\n",
    "     elif root.val > key:\n",
    "          root.left = insert(root.left, key, value)\n",
    "          # if they node.val matches the key you set the node.val key\n",
    "     else:\n",
    "          root.val = value\n",
    "     return root.val\n",
    "     \n",
    "root = TreeNode(10, 10, \"A\")\n",
    "root.left = TreeNode(8, 8, \"B\")\n",
    "root.right = TreeNode(1, 1, \"E\")\n",
    "root.left.left = TreeNode(2, 2, \"C\")\n",
    "root.left.right = TreeNode(6, 6, \"D\")\n",
    "print(insert(root, 9, 'Naruto'))\n",
    "\n",
    "\n"
   ]
  },
  {
   "cell_type": "markdown",
   "metadata": {},
   "source": [
    "Example Input Tree #1: (tree depicted using keys)\n",
    "\n",
    "      10\n",
    "     /  \\\n",
    "    /    \\\n",
    "   8      15\n",
    "  / \\    \n",
    " 1   6    \n",
    "\n",
    "Input: root = 10, key = 9, value = 'Naruto' \n",
    "Expected Output: root = 10\n",
    "Expected Output Tree:\n",
    "\n",
    "      10\n",
    "     /  \\\n",
    "    /    \\\n",
    "   8      15\n",
    "  / \\    \n",
    " 1   6\n",
    "      \\\n",
    "       9    \n",
    "\n",
    "\n",
    "Example Input Tree #2: Empty Tree (None)\n",
    "\n",
    "Input: root = None, key = 4, value = \"Sailor Moon\"\n",
    "Expected Output: root = 4\n",
    "Expected Output Tree:\n",
    "\n",
    "      4"
   ]
  },
  {
   "cell_type": "markdown",
   "metadata": {},
   "source": [
    "## Problem 4: BST Remove I\n",
    "Use the provided pseudocode to solve the problem below. Given a key and the root of a binary search tree, remove the node with the given key. Return the root of the modified tree.\n",
    "\n",
    "The tree is sorted by key. If multiple nodes with the given key exist, remove the first node you find. If you need to remove a node with two children, use the in-order successor of that node, which is the smallest value in its right subtree. You do not need to maintain a balanced tree.\n",
    "\n",
    "Evaluate the time complexity of your function."
   ]
  },
  {
   "cell_type": "markdown",
   "metadata": {},
   "source": [
    "Notes:\n",
    "    - In-Order Traversal: left -> root -> right\n",
    "    - Pre-Order Traversal: root -> left -> right\n",
    "    - Post-Order Traversal: left -> right - root\n",
    "\n",
    "    - In-Order Predecessor: The largest node in the left substree\n",
    "    - In-Order Successor: The smallest node in the right subtree"
   ]
  },
  {
   "cell_type": "code",
   "execution_count": 258,
   "metadata": {},
   "outputs": [],
   "source": [
    "class TreeNode():\n",
    "    def __init__(self, key, value, left=None, right=None):\n",
    "        self.key = key\n",
    "        self.val = value\n",
    "        self.left = left\n",
    "        self.right = right\n",
    "\n",
    "\n",
    "def remove_bst(root, key):\n",
    "    \"\"\"\n",
    "    Remove a node with a given key from the BST and return the new root.\n",
    "    \"\"\"\n",
    "    if not root:\n",
    "        return None\n",
    "\n",
    "    # Find the node to delete\n",
    "    if key < root.val:\n",
    "        root.left = remove_bst(root.left, key)\n",
    "    elif key > root.val:\n",
    "        root.right = remove_bst(root.right, key)\n",
    "    else:\n",
    "        # Node with only one child or no child\n",
    "        if not root.left:\n",
    "            return root.right\n",
    "        elif not root.right:\n",
    "            return root.left\n",
    "\n",
    "        # Node with two children, get the in-order successor (smallest in the right subtree)\n",
    "        temp_val = find_min(root.right)\n",
    "        root.val = temp_val\n",
    "        root.right = remove_bst(root.right, temp_val)\n",
    "\n",
    "    return root.val\n",
    "\n",
    "\n",
    "def find_min(node):\n",
    "    \"\"\"\n",
    "    Find the smallest value in the BST.\n",
    "    \"\"\"\n",
    "    current = node\n",
    "    while current.left is not None:\n",
    "        current = current.left\n",
    "    return current.val"
   ]
  },
  {
   "cell_type": "code",
   "execution_count": 259,
   "metadata": {},
   "outputs": [
    {
     "name": "stdout",
     "output_type": "stream",
     "text": [
      "15\n",
      "10\n",
      "10\n"
     ]
    }
   ],
   "source": [
    "# Example 1\n",
    "root1 = TreeNode(10, 10)\n",
    "root1.left = TreeNode(5,5)\n",
    "root1.right = TreeNode(15,15)\n",
    "root1.left.left = TreeNode(1,1)\n",
    "root1.left.right = TreeNode(8,8)\n",
    "root.right.left = TreeNode(13,13)\n",
    "root.right.right = TreeNode(16,16)\n",
    "print(remove_bst(root1, 10))\n",
    "# Example 2\n",
    "root2 = TreeNode(10, 10)\n",
    "root2.left = TreeNode(5,5)\n",
    "root2.left.left = TreeNode(1,1)\n",
    "root2.left.right = TreeNode(8,8)\n",
    "root2.left.right.right = TreeNode(9,9)\n",
    "root2.right = TreeNode(15,15)\n",
    "root2.right.left = TreeNode(13,13)\n",
    "root2.right.right = TreeNode(16,16)\n",
    "print(remove_bst(root2, 8))\n",
    "# Example 3\n",
    "root3 = TreeNode(10,10)\n",
    "root3.left = TreeNode(5,5)\n",
    "root3.left.left = TreeNode(1,1)\n",
    "root3.left.right = TreeNode(8,8)\n",
    "root3.left.right.right = TreeNode(9,9)\n",
    "root3.right = TreeNode(15,15)\n",
    "root.right.left = TreeNode(13,13)\n",
    "root3.right.right = TreeNode(16,16)\n",
    "print(remove_bst(root3, 9))"
   ]
  },
  {
   "cell_type": "markdown",
   "metadata": {},
   "source": [
    "Example Input Tree #1: (tree depicted using keys) \n",
    "\n",
    "      10\n",
    "     /  \\\n",
    "    /    \\\n",
    "   5      15\n",
    "  / \\     / \\\n",
    " 1   8   13  16\n",
    "\n",
    "\n",
    "Input: root = 10, key = 10\n",
    "Expected Output: 13\n",
    "Expected Output Tree:\n",
    "\n",
    "      13\n",
    "     /  \\\n",
    "    /    \\\n",
    "   5      15\n",
    "  / \\       \\\n",
    " 1   8      16\n",
    "\n",
    "\n",
    "Example Input Tree #2: (tree depicted using keys)\n",
    "\n",
    "      10\n",
    "     /  \\\n",
    "    /    \\\n",
    "   5      15\n",
    "  / \\     / \\\n",
    " 1   8   13  16\n",
    "      \\\n",
    "       9 \n",
    "\n",
    "Input: root = 10, key = 8\n",
    "Expected Output: 10 (Should return a node object)\n",
    "Expected Output Tree\n",
    "\n",
    "      10\n",
    "     /  \\\n",
    "    /    \\\n",
    "   5      15\n",
    "  / \\     / \\\n",
    " 1   9  13  16\n",
    "\n",
    "\n",
    "Example Input Tree #3: (tree depicted using keys)\n",
    "\n",
    "      10\n",
    "     /  \\\n",
    "    /    \\\n",
    "   5      15\n",
    "  / \\     / \\\n",
    " 1   8   13  16\n",
    "      \\\n",
    "       9 \n",
    "\n",
    "Input: root = 10, key = 9\n",
    "Expected Output: 10 (Should return a node object)\n",
    "Expected Output Tree\n",
    "\n",
    "      10\n",
    "     /  \\\n",
    "    /    \\\n",
    "   5      15\n",
    "  / \\     / \\\n",
    " 1   8  13  16"
   ]
  },
  {
   "cell_type": "markdown",
   "metadata": {},
   "source": [
    "## Problem 5: BST In-order Successor\n",
    "In the remove_bst() problem, we summarized the in-order successor of a given node as the smallest node in the given node’s right subtree. This is true if the given node has a right subtree.\n",
    "\n",
    "More generally, the in-order successor is the node with the smallest key(in the right subtree) greater than the key of the given node. Given the root of a binary search tree, and a TreeNode current, write a function that returns the in-order successor of the current node. Assume the tree is balanced.\n",
    "\n",
    "Evaluate the time complexity of your solution."
   ]
  },
  {
   "cell_type": "markdown",
   "metadata": {},
   "source": [
    "Notes:\n",
    "    - In-Order Traversal: left -> root -> right\n",
    "    - Pre-Order Traversal: root -> left -> right\n",
    "    - Post-Order Traversal: left -> right - root\n",
    "\n",
    "    - In-Order Predecessor: The largest node in the left substree\n",
    "    - In-Order Successor: The smallest node in the right subtree"
   ]
  },
  {
   "cell_type": "code",
   "execution_count": 272,
   "metadata": {},
   "outputs": [
    {
     "name": "stdout",
     "output_type": "stream",
     "text": [
      "6\n",
      "8\n"
     ]
    }
   ],
   "source": [
    "class TreeNode():\n",
    "    def __init__(self, key, value, left=None, right=None):\n",
    "        self.key = key\n",
    "        self.val = value\n",
    "        self.left = left\n",
    "        self.right = right\n",
    "\n",
    "def find_min(node):\n",
    "      while node.left:\n",
    "            node = node.left\n",
    "      return node\n",
    "\n",
    "def inorder_successor(root, current):\n",
    "      successor = None\n",
    "      if current.right:\n",
    "            return find_min(current.right)\n",
    "      while root:\n",
    "            if current.val < root.val:\n",
    "                  successor = root\n",
    "                  root = root.left\n",
    "            elif current.val > root.val:\n",
    "                  root = root.right\n",
    "            else:\n",
    "                  break\n",
    "      \n",
    "      return successor\n",
    "\n",
    "\n",
    "# Creating the example tree\n",
    "root1 = TreeNode(10, 10)\n",
    "root1.left = TreeNode(5, 5)\n",
    "root1.left.left = TreeNode(1, 1)\n",
    "root1.left.right = TreeNode(8, 8)\n",
    "root1.left.right.left = TreeNode(6, 6)\n",
    "root1.left.right.right = TreeNode(9, 9)\n",
    "\n",
    "# Find and print the in-order successor of the node with value 5\n",
    "node_to_find_5 = root1.left  # This is the node with value 5\n",
    "successor_5 = inorder_successor(root1, node_to_find_5)\n",
    "print(successor_5.val if successor_5 else \"No successor\")\n",
    "\n",
    "# Find and print the in-order successor of the node with value 6\n",
    "node_to_find_6 = root1.left.right.left  # This is the node with value 6\n",
    "successor_6 = inorder_successor(root1, node_to_find_6)\n",
    "print(successor_6.val if successor_6 else \"No successor\")"
   ]
  },
  {
   "cell_type": "markdown",
   "metadata": {},
   "source": [
    "Example Input Tree #1: (tree depicted using keys)\n",
    "\n",
    "          10\n",
    "         /  \\\n",
    "        /    \\\n",
    "       5      15\n",
    "      / \\    \n",
    "     1   8\n",
    "        / \\\n",
    "       6   9\n",
    "\n",
    "Input: root = 10, current = 5\n",
    "Expected Output: 6 (Should return a node object)\n",
    "\n",
    "Example Input Tree #2: (tree depicted using keys)\n",
    "\n",
    "          10\n",
    "         /  \\\n",
    "        /    \\\n",
    "       5      15\n",
    "      / \\    \n",
    "     1   8\n",
    "        / \\\n",
    "       6   9 \n",
    "\n",
    "Input: root = 10, current = 6\n",
    "Expected Output: 8 (Should return a node object)"
   ]
  },
  {
   "cell_type": "markdown",
   "metadata": {},
   "source": [
    "# Session 2 PV 2"
   ]
  },
  {
   "cell_type": "markdown",
   "metadata": {},
   "source": [
    "## Problem 1: Is Even-valued\n",
    "Given the root of a binary tree, return True if every node in the tree has an even value and False otherwise."
   ]
  },
  {
   "cell_type": "code",
   "execution_count": 288,
   "metadata": {},
   "outputs": [
    {
     "name": "stdout",
     "output_type": "stream",
     "text": [
      "True\n",
      "False\n"
     ]
    }
   ],
   "source": [
    "class TreeNode():\n",
    "     def __init__(self, value, left=None, right=None):\n",
    "         self.val = value\n",
    "         self.left = left\n",
    "         self.right = right\n",
    "\n",
    "def helper(root):\n",
    "    if not root:\n",
    "        return True\n",
    "    if root.val % 2 != 0:\n",
    "        return False\n",
    "    return helper(root.left) and helper(root.right)\n",
    "\n",
    "def is_even(root):\n",
    "    return helper(root)\n",
    "    \n",
    "\n",
    "\n",
    "root1 = TreeNode(2)\n",
    "root1.left = TreeNode(4)\n",
    "root1.left.left = TreeNode(6)\n",
    "root1.left.right = TreeNode(8)\n",
    "root1.right = TreeNode(10)\n",
    "root1.right.right = TreeNode(12)\n",
    "print(is_even(root1))\n",
    "\n",
    "# Example Input Tree #2\n",
    "root2 = TreeNode(2)\n",
    "root2.left = TreeNode(4)\n",
    "root2.right = TreeNode(2)\n",
    "root2.left.left = TreeNode(1)\n",
    "root2.left.right = TreeNode(6)\n",
    "root2.right.right = TreeNode(8)\n",
    "print(is_even(root2))"
   ]
  },
  {
   "cell_type": "markdown",
   "metadata": {},
   "source": [
    "## Problem 2: Binary Tree Max\n",
    "Given the root of a binary tree, write a function tree_max() that returns the node with the greatest value inside of a binary tree. If the tree is empty return None."
   ]
  },
  {
   "cell_type": "code",
   "execution_count": 300,
   "metadata": {},
   "outputs": [
    {
     "name": "stdout",
     "output_type": "stream",
     "text": [
      "5\n"
     ]
    }
   ],
   "source": [
    "class TreeNode:\n",
    "    def __init__(self, value, left=None, right=None):\n",
    "        self.val = value\n",
    "        self.left = left\n",
    "        self.right = right\n",
    "\n",
    "\n",
    "def tree_max(node):\n",
    "    \"\"\"\n",
    "    Returns the node with the greatest value in the binary tree rooted at `node`.\n",
    "    If the tree is empty, return None.\n",
    "    \"\"\"\n",
    "    if node is None:\n",
    "        return float(\"-inf\")  # Treat empty node as minimum possible value\n",
    "\n",
    "    # Recursively find the max in the left and right subtree\n",
    "    left_max = tree_max(node.left)\n",
    "    right_max = tree_max(node.right)\n",
    "\n",
    "    # Return the maximum value found\n",
    "    return max(node.val, left_max, right_max)\n",
    "\n",
    "\n",
    "root1 = TreeNode(4)\n",
    "root1.left = TreeNode(2)\n",
    "root1.left.left = TreeNode(1)\n",
    "root1.left.right = TreeNode(3)\n",
    "root1.right = TreeNode(5)\n",
    "print(tree_max(root1))"
   ]
  },
  {
   "cell_type": "markdown",
   "metadata": {},
   "source": [
    "## Problem 3: BST Insert II\n",
    "Given the root of a binary search tree, insert a new node with a given value into the tree. Return the root of the modified tree. If a node with the given value already exists, place the new node in the right subtree. You do not need to maintain a balanced tree.\n",
    "\n",
    "Evaluate the time complexity of your function."
   ]
  },
  {
   "cell_type": "code",
   "execution_count": 312,
   "metadata": {},
   "outputs": [
    {
     "name": "stdout",
     "output_type": "stream",
     "text": [
      "10\n",
      "10\n",
      "<__main__.TreeNode object at 0x000001E17D063D60>\n"
     ]
    }
   ],
   "source": [
    "class TreeNode:\n",
    "    def __init__(self, value, left=None, right=None):\n",
    "        self.val = value\n",
    "        self.left = left\n",
    "        self.right = right\n",
    "\n",
    "    \n",
    "def insert_with_duplicates(root, value):\n",
    "    if root is None:\n",
    "        return TreeNode(value)\n",
    "        \n",
    "    if value < root.val:\n",
    "        root.left = insert_with_duplicates(root.left, value)\n",
    "    else:\n",
    "        root.right = insert_with_duplicates(root.right, value)\n",
    "        \n",
    "    return root.val\n",
    "        \n",
    "    \n",
    "    \n",
    "    \n",
    "    \n",
    "# Example Input Tree #1\n",
    "root1 = TreeNode(10)\n",
    "root1.left = TreeNode(8)\n",
    "root1.right = TreeNode(15)\n",
    "root1.left.left = TreeNode(1)\n",
    "root1.left.right = TreeNode(6)\n",
    "print(insert_with_duplicates(root1, 9))\n",
    "\n",
    "# Example Input Tree #2\n",
    "root2 = TreeNode(10)\n",
    "root2.left = TreeNode(8)\n",
    "root2.right = TreeNode(15)\n",
    "root2.left.left = TreeNode(1)\n",
    "root2.left.right = TreeNode(6)\n",
    "print(insert_with_duplicates(root2, 8))\n",
    "\n",
    "# Example Input Tree #3\n",
    "root3 = None\n",
    "print(insert_with_duplicates(root3, None))"
   ]
  },
  {
   "cell_type": "markdown",
   "metadata": {},
   "source": [
    "## Problem 4: BST Remove II\n",
    "Use the provided pseudocode to solve the problem below. Given a key and the root of a binary search tree, remove the node with the given key. Return the root of the modified tree.\n",
    "\n",
    "The tree is sorted by key. If multiple nodes with the given key exist, remove the first node you find. If you need to remove a node with two children, use the in-order predecessor of that node, which is the largest node in its left subtree. You do not need to maintain a balanced tree.\n",
    "\n",
    "Evaluate the time complexity of your function."
   ]
  },
  {
   "cell_type": "code",
   "execution_count": null,
   "metadata": {},
   "outputs": [],
   "source": [
    "class TreeNode():\n",
    "     def __init__(self, key, value, left=None, right=None):\n",
    "\t\t     self.key = key\n",
    "         self.val = value\n",
    "         self.left = left\n",
    "         self.right = right\n",
    "         \n",
    "def remove_bst(root, key):\n",
    "\t# Locate the node to be removed\n",
    "\t# If the node is a leaf node:\n",
    "\t\t# Remove the node by redirecting the appropriate child reference of its parent to None\n",
    "\t# If the node has one parent:\n",
    "\t\t# Replace the node with its child, updating its parent's nodes child reference appropriately\n",
    "\t# If the node has two children:\n",
    "\t\t# Find the node's inorder predecessor (largest node in left subtree)\n",
    "\t\t# Swap the value of the node and its inorder successor\n",
    "\t\t# Recursively remove the predecessor (which now has the current node's value)\n",
    "\t# Return the root of the updated tree\n",
    "\tpass"
   ]
  }
 ],
 "metadata": {
  "kernelspec": {
   "display_name": "tf2",
   "language": "python",
   "name": "python3"
  },
  "language_info": {
   "codemirror_mode": {
    "name": "ipython",
    "version": 3
   },
   "file_extension": ".py",
   "mimetype": "text/x-python",
   "name": "python",
   "nbconvert_exporter": "python",
   "pygments_lexer": "ipython3",
   "version": "3.10.14"
  }
 },
 "nbformat": 4,
 "nbformat_minor": 2
}
