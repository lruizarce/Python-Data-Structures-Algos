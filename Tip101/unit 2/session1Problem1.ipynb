{
 "cells": [
  {
   "cell_type": "markdown",
   "metadata": {},
   "source": [
    "### Problem 1: Subsequence\n",
    "Write a function is_subsequence() that takes in a list of integers lst and a list of integers sequence as parameters. Given these two lists, determine whether the sequence list is a subsequence of the lst list. A subsequence of a list is a set of numbers that aren't necessarily adjacent but are in the same relative order as they appear in the list. Return True if sequence is a subsequence, and False otherwise."
   ]
  },
  {
   "cell_type": "code",
   "execution_count": 9,
   "metadata": {},
   "outputs": [
    {
     "name": "stdout",
     "output_type": "stream",
     "text": [
      "False\n"
     ]
    }
   ],
   "source": [
    "def is_subsequence(lst, sequence):\n",
    "    if len(sequence) ==0:\n",
    "        return True\n",
    "    idx = 0\n",
    "    for elt in lst:\n",
    "        if elt == sequence[idx]:\n",
    "            idx +=1\n",
    "            if idx ==len(sequence):\n",
    "                return True\n",
    "    return False\n",
    "            \n",
    "\n",
    "lst = [5, 1, 22, 25, 6, -1, 8, 10]\n",
    "sequence = [1, 11, -1, 10]\n",
    "print(is_subsequence(lst, sequence))"
   ]
  },
  {
   "cell_type": "code",
   "execution_count": 3,
   "metadata": {},
   "outputs": [
    {
     "data": {
      "text/plain": [
       "(('peanut', 'butter'),\n",
       " ('dragon', 'fly'),\n",
       " ('star', 'fish'),\n",
       " ('pop', 'corn'),\n",
       " ('space', 'ship'))"
      ]
     },
     "execution_count": 3,
     "metadata": {},
     "output_type": "execute_result"
    }
   ],
   "source": [
    "def create_dictionary(keys, values):\n",
    "    newD = {}\n",
    "    \n",
    "    for i in range(len(keys)):\n",
    "        if i not in newD:\n",
    "            newD[keys[i]] = values[i]\n",
    "            \n",
    "    return newD\n",
    "    \n",
    "\n",
    "keys = [\"peanut\", \"dragon\", \"star\", \"pop\", \"space\"]\n",
    "values = [\"butter\", \"fly\", \"fish\", \"corn\", \"ship\"]\n",
    "create_dictionary(keys, values)"
   ]
  },
  {
   "cell_type": "code",
   "execution_count": 5,
   "metadata": {},
   "outputs": [
    {
     "name": "stdout",
     "output_type": "stream",
     "text": [
      "Key:patrick\n",
      "Value:star\n",
      "That pair does not exist!\n",
      "Key:spongebob\n",
      "Value:squarepants\n"
     ]
    }
   ],
   "source": [
    "def print_pair(dictionary, target):\n",
    "    if target in dictionary:\n",
    "        print(\"Key:\" + target)\n",
    "        print(\"Value:\" + dictionary[target])\n",
    "    else:\n",
    "        print(\"That pair does not exist!\")\n",
    "\n",
    "dictionary = {\"spongebob\": \"squarepants\", \"patrick\": \"star\", \"squidward\": \"tentacles\"}\n",
    "print_pair(dictionary, \"patrick\")\n",
    "print_pair(dictionary, \"plankton\")\n",
    "print_pair(dictionary, \"spongebob\")"
   ]
  },
  {
   "cell_type": "code",
   "execution_count": 13,
   "metadata": {},
   "outputs": [
    {
     "name": "stdout",
     "output_type": "stream",
     "text": [
      "Values\n",
      "Keys\n"
     ]
    }
   ],
   "source": [
    "def keys_v_values(dictionary):\n",
    "    sKeys = sum(dictionary.keys())\n",
    "    svals = sum(dictionary.values())\n",
    "    \n",
    "    if sKeys > svals:\n",
    "        return \"Keys\"\n",
    "    elif svals > sKeys:\n",
    "        return \"Values\"\n",
    "    else:\n",
    "        return \"Balance\"\n",
    "    \n",
    "    \n",
    "\n",
    "dictionary1 = {1: 10, 2: 20, 3: 30, 4: 40, 5: 50, 6: 60}\n",
    "greater_sum = keys_v_values(dictionary1)\n",
    "print(greater_sum)\n",
    "\n",
    "dictionary2 = {100: 10, 200: 20, 300: 30, 400: 40, 500: 50, 600: 60}\n",
    "greater_sum = keys_v_values(dictionary2)\n",
    "print(greater_sum)"
   ]
  },
  {
   "cell_type": "code",
   "execution_count": 17,
   "metadata": {},
   "outputs": [
    {
     "data": {
      "text/plain": [
       "{'apples': 40, 'bananas': 15, 'oranges': 30, 'pears': 5}"
      ]
     },
     "execution_count": 17,
     "metadata": {},
     "output_type": "execute_result"
    }
   ],
   "source": [
    "def restock_inventory(current_inventory, restock_list):\n",
    "    if restock_list == \"\":\n",
    "        return current_inventory\n",
    "    \n",
    "    for k, v in restock_list.items():\n",
    "        if k in current_inventory:\n",
    "            current_inventory[k] += v\n",
    "        else:\n",
    "            current_inventory[k] = v\n",
    "    return current_inventory\n",
    "current_inventory = {\"apples\": 30, \"bananas\": 15, \"oranges\": 10}\n",
    "\n",
    "restock_list = {\"oranges\": 20, \"apples\": 10, \"pears\": 5}\n",
    "restock_inventory(current_inventory, restock_list)"
   ]
  },
  {
   "cell_type": "code",
   "execution_count": 24,
   "metadata": {},
   "outputs": [
    {
     "name": "stdout",
     "output_type": "stream",
     "text": [
      "3.3333333333333335\n"
     ]
    }
   ],
   "source": [
    "def calculate_gpa(report_card):\n",
    "    rubric = {\n",
    "        \"A\": 4,\n",
    "        \"B\": 3,\n",
    "        \"C\": 2,\n",
    "        \"D\": 1,\n",
    "        \"F\": 0,\n",
    "    }\n",
    "    gpa = 0.0\n",
    "    if len(report_card) == 0:\n",
    "        return gpa\n",
    "    \n",
    "    for i in report_card.values():\n",
    "        if i in rubric:\n",
    "            gpa += rubric[i]\n",
    "    return gpa/len(report_card)\n",
    "\n",
    "report_card = {\n",
    "    \"Math\": \"A\",\n",
    "    \"Science\": \"C\",\n",
    "    \"History\": \"A\",\n",
    "    \"Art\": \"B\",\n",
    "    \"English\": \"B\",\n",
    "    \"Spanish\": \"A\",\n",
    "}\n",
    "print(calculate_gpa(report_card))"
   ]
  },
  {
   "cell_type": "code",
   "execution_count": 31,
   "metadata": {},
   "outputs": [
    {
     "data": {
      "text/plain": [
       "{'title': 'A Fortune For Your Disaster',\n",
       " 'author': 'Hanif Abdurraqib',\n",
       " 'rating': 4.47}"
      ]
     },
     "execution_count": 31,
     "metadata": {},
     "output_type": "execute_result"
    }
   ],
   "source": [
    "def highest_rated(books):\n",
    "    \n",
    "    if not books:\n",
    "        return None\n",
    "    \n",
    "    bestRatedBook = books[0]\n",
    "    for book in books[1:]:\n",
    "        if book['rating'] > bestRatedBook['rating']:\n",
    "            bestRatedBook = book\n",
    "    return bestRatedBook\n",
    "\n",
    "\n",
    "books = [\n",
    "    {\n",
    "        \"title\": \"Tomorrow, and Tomorrow, and Tomorrow\",\n",
    "        \"author\": \"Gabrielle Zevin\",\n",
    "        \"rating\": 4.18,\n",
    "    },\n",
    "    {\n",
    "        \"title\": \"A Fortune For Your Disaster\",\n",
    "        \"author\": \"Hanif Abdurraqib\",\n",
    "        \"rating\": 4.47,\n",
    "    },\n",
    "    {\n",
    "        \"title\": \"The Seven Husbands of Evenlyn Hugo\",\n",
    "        \"author\": \"Taylor Jenkins Reid\",\n",
    "        \"rating\": 4.40,\n",
    "    },\n",
    "]\n",
    "highest_rated(books)"
   ]
  },
  {
   "cell_type": "code",
   "execution_count": 34,
   "metadata": {},
   "outputs": [
    {
     "data": {
      "text/plain": [
       "{0: 'apple', 1: 'banana', 2: 'cherry'}"
      ]
     },
     "execution_count": 34,
     "metadata": {},
     "output_type": "execute_result"
    }
   ],
   "source": [
    "def index_to_value_map(lst):\n",
    "    hashMap = {}\n",
    "    for i in range(len(lst)):\n",
    "            hashMap[i] = lst[i]\n",
    "    return hashMap\n",
    "    \n",
    "lst = [\"apple\", \"banana\", \"cherry\"]\n",
    "\n",
    "index_to_value_map(lst)"
   ]
  },
  {
   "cell_type": "code",
   "execution_count": 39,
   "metadata": {},
   "outputs": [
    {
     "name": "stdout",
     "output_type": "stream",
     "text": [
      "True\n",
      "True\n",
      "True\n",
      "False\n"
     ]
    }
   ],
   "source": [
    "def is_monotonic(nums):\n",
    "    increasing, decreasing = True, True\n",
    "    \n",
    "    for i in range(len(nums)-1):\n",
    "        if not (nums[i] <=nums[i+1]):\n",
    "            increasing = False\n",
    "        if not(nums[i] >= nums[i+1]):\n",
    "            decreasing = False\n",
    "    return increasing or decreasing\n",
    "\n",
    "                \n",
    "        \n",
    "nums1 = [1,2,2,3,10]\n",
    "print(is_monotonic(nums1))\n",
    "\n",
    "nums2 = [12,9,8,3,1]\n",
    "print(is_monotonic(nums2))\n",
    "\n",
    "nums3 = [1,1,1]\n",
    "print(is_monotonic(nums3))\n",
    "\n",
    "nums4 = [1,9,8,3,5]\n",
    "print(is_monotonic(nums4))"
   ]
  },
  {
   "cell_type": "code",
   "execution_count": 47,
   "metadata": {},
   "outputs": [
    {
     "data": {
      "text/plain": [
       "{'Ada Lovelace': 1,\n",
       " 'Tu Youyou': 2,\n",
       " 'Mae Jemison': 3,\n",
       " 'Rajeshwari Chatterjee': 4,\n",
       " 'Alan Turing': 5}"
      ]
     },
     "execution_count": 47,
     "metadata": {},
     "output_type": "execute_result"
    }
   ],
   "source": [
    "def student_directory(student_names):\n",
    "    if not student_names:\n",
    "        return None\n",
    "    stdInfo = {}\n",
    "\n",
    "    for i in range(len(student_names)):\n",
    "        stdInfo[student_names[i]] = i + 1\n",
    "\n",
    "    return stdInfo\n",
    "\n",
    "student_names = [\n",
    "    \"Ada Lovelace\",\n",
    "    \"Tu Youyou\",\n",
    "    \"Mae Jemison\",\n",
    "    \"Rajeshwari Chatterjee\",\n",
    "    \"Alan Turing\",\n",
    "]\n",
    "\n",
    "student_directory(student_names)"
   ]
  },
  {
   "cell_type": "code",
   "execution_count": 53,
   "metadata": {},
   "outputs": [
    {
     "name": "stdout",
     "output_type": "stream",
     "text": [
      "Tom\n",
      "engineer\n",
      "Key does not exist!\n"
     ]
    }
   ],
   "source": [
    "def get_description(info, keys):\n",
    "    for key in keys:\n",
    "        if key not in info.keys():\n",
    "            print(\"Key does not exist!\")\n",
    "        else:\n",
    "            print(info[key])\n",
    "\n",
    "\n",
    "info = {\"name\": \"Tom\", \"age\": \"30\", \"occupation\": \"engineer\"}\n",
    "keys = [\"name\", \"occupation\", \"salary\"]\n",
    "get_description(info, keys)"
   ]
  },
  {
   "cell_type": "code",
   "execution_count": 54,
   "metadata": {},
   "outputs": [
    {
     "name": "stdout",
     "output_type": "stream",
     "text": [
      "14\n"
     ]
    }
   ],
   "source": [
    "def sum_even_values(dictionary):\n",
    "    vSum = 0\n",
    "    for v in dictionary.values():\n",
    "        if v % 2 == 0:\n",
    "            vSum +=v\n",
    "    return vSum\n",
    "\n",
    "dictionary = {\n",
    "    \"a\": 4,\n",
    "    \"b\": 1,\n",
    "    \"c\": 2,\n",
    "    \"d\": 8,\n",
    "}\n",
    "print(sum_even_values(dictionary))"
   ]
  },
  {
   "cell_type": "code",
   "execution_count": 61,
   "metadata": {},
   "outputs": [
    {
     "data": {
      "text/plain": [
       "{'apple': 1.0, 'banana': 0.75, 'cherry': 1.25}"
      ]
     },
     "execution_count": 61,
     "metadata": {},
     "output_type": "execute_result"
    }
   ],
   "source": [
    "def merge_catalogs(catalog1, catalog2):\n",
    "    \n",
    "    for k,v in catalog2.items():\n",
    "        catalog1[k] = v\n",
    "    return catalog1\n",
    "        \n",
    "\n",
    "catalog1 = {\"apple\": 1.0, \"banana\": 0.5}\n",
    "catalog2 = {\"banana\": 0.75, \"cherry\": 1.25}\n",
    "merge_catalogs(catalog1, catalog2)"
   ]
  },
  {
   "cell_type": "code",
   "execution_count": 63,
   "metadata": {},
   "outputs": [
    {
     "data": {
      "text/plain": [
       "['Product2', 'Product4']"
      ]
     },
     "execution_count": 63,
     "metadata": {},
     "output_type": "execute_result"
    }
   ],
   "source": [
    "def get_items_to_restock(products, restock_threshold):\n",
    "    restk = []\n",
    "    for k,v in products.items():\n",
    "        if v < restock_threshold:\n",
    "            restk.append(k)\n",
    "    return restk\n",
    "            \n",
    "\n",
    "products = {\"Product1\": 10, \"Product2\": 2, \"Product3\": 5, \"Product4\": 3}\n",
    "restock_threshold = 5\n",
    "get_items_to_restock(products, restock_threshold)"
   ]
  },
  {
   "cell_type": "code",
   "execution_count": 86,
   "metadata": {},
   "outputs": [
    {
     "name": "stdout",
     "output_type": "stream",
     "text": [
      "Science Fiction\n"
     ]
    }
   ],
   "source": [
    "def most_popular_genre(movies):\n",
    "    \"\"\"\n",
    "    Returns the genre with the highest average rating from a list of dictionaries representing movies.\n",
    "    Each dictionary contains the movie's title, genre, and rating.\n",
    "    \"\"\"\n",
    "    \n",
    "\n",
    "movies = [\n",
    "    {\"title\": \"Inception\", \"genre\": \"Science Fiction\", \"rating\": 8.8},\n",
    "    {\"title\": \"The Matrix\", \"genre\": \"Science Fiction\", \"rating\": 8.7},\n",
    "    {\"title\": \"Pride and Prejudice\", \"genre\": \"Romance\", \"rating\": 7.8},\n",
    "    {\"title\": \"Sense and Sensibility\", \"genre\": \"Romance\", \"rating\": 7.7},\n",
    "]\n",
    "\n",
    "print(most_popular_genre(movies))"
   ]
  },
  {
   "cell_type": "code",
   "execution_count": 103,
   "metadata": {},
   "outputs": [
    {
     "data": {
      "text/plain": [
       "{1: 2, 3: 3}"
      ]
     },
     "execution_count": 103,
     "metadata": {},
     "output_type": "execute_result"
    }
   ],
   "source": [
    "def frequency_greater_than_n(nums, n):\n",
    "    # Write your code here\n",
    "    newD = {}\n",
    "    for i in range(len(nums)):\n",
    "        if nums[i] not in newD:\n",
    "            newD[nums[i]] = 1\n",
    "        else:\n",
    "            newD[nums[i]] += 1\n",
    "    eli = {}\n",
    "    for k, v in newD.items():\n",
    "        if v > n:\n",
    "            eli[k] = v\n",
    "    return eli        \n",
    "\n",
    "nums = [1, 1, 2, 3, 3, 3, 4]\n",
    "n = 1\n",
    "frequency_greater_than_n(nums, n)"
   ]
  },
  {
   "cell_type": "code",
   "execution_count": 99,
   "metadata": {},
   "outputs": [
    {
     "data": {
      "text/plain": [
       "{1: 2, 2: 3, 3: 4}"
      ]
     },
     "execution_count": 99,
     "metadata": {},
     "output_type": "execute_result"
    }
   ],
   "source": []
  },
  {
   "cell_type": "code",
   "execution_count": 106,
   "metadata": {},
   "outputs": [
    {
     "name": "stdout",
     "output_type": "stream",
     "text": [
      "['b', 'c']\n"
     ]
    }
   ],
   "source": [
    "my_list =['a', 'b', 'c', 'd']\n",
    "\n",
    "\n",
    "print(my_list[1:3])"
   ]
  },
  {
   "cell_type": "code",
   "execution_count": null,
   "metadata": {},
   "outputs": [],
   "source": [
    "class Solution:\n",
    "    def removeDuplicates(self, nums: List[int]) -> int:\n",
    "        j = 1\n",
    "        for i in range(1, len(nums)):\n",
    "            if nums[i] != nums[i - 1]:\n",
    "                nums[j] = nums[i]\n",
    "                j += 1\n",
    "        return j"
   ]
  }
 ],
 "metadata": {
  "kernelspec": {
   "display_name": "tf2",
   "language": "python",
   "name": "python3"
  },
  "language_info": {
   "codemirror_mode": {
    "name": "ipython",
    "version": 3
   },
   "file_extension": ".py",
   "mimetype": "text/x-python",
   "name": "python",
   "nbconvert_exporter": "python",
   "pygments_lexer": "ipython3",
   "version": "3.10.14"
  }
 },
 "nbformat": 4,
 "nbformat_minor": 2
}
