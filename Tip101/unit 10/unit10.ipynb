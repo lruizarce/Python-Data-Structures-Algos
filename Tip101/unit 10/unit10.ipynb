{
 "cells": [
  {
   "cell_type": "markdown",
   "metadata": {},
   "source": [
    "# Session 1 PS 1"
   ]
  },
  {
   "cell_type": "markdown",
   "metadata": {},
   "source": [
    "## Problem 1: Valid Parentheses\n",
    "Given a string s containing just the characters '(', ')', '{', '}', '[' and ']', return True if the input string is valid and False otherwise.\n",
    "\n",
    "An input string is valid if:\n",
    "\n",
    "Open brackets must be closed by the same type of brackets.\n",
    "Open brackets must be closed in the correct order.\n",
    "Every close bracket has a corresponding open bracket of the same type."
   ]
  },
  {
   "cell_type": "code",
   "execution_count": null,
   "metadata": {},
   "outputs": [],
   "source": [
    "def is_valid(s):\n",
    "    pass\n",
    "\n",
    "# Example #1:\n",
    "# Input: s = \"()\"\n",
    "# Expected Output: True\n",
    "\n",
    "# Example #2:\n",
    "# s = \"()[]{}\"\n",
    "# Expected Output: True\n",
    "\n",
    "# Example #3: \n",
    "# s = \"(())\"\n",
    "# Expected Output: True\n",
    "\n",
    "# Exampel #4:\n",
    "# s = \"(]\"\n",
    "# Expected Output: False\n",
    "\n"
   ]
  },
  {
   "cell_type": "markdown",
   "metadata": {},
   "source": [
    "## Problem 2: Best Time to Buy & Sell Stock\n",
    "You are given a list of integers prices where prices[i] is the price of a given stock on the ith day.\n",
    "\n",
    "You want to maximize your profit by choosing a single day to buy one stock and choosing a different day in the future to sell that stock.\n",
    "\n",
    "Return the maximum profit you can achieve from this transaction. If you cannot achieve any profit, return 0."
   ]
  },
  {
   "cell_type": "code",
   "execution_count": null,
   "metadata": {},
   "outputs": [],
   "source": [
    "def max_profit(prices):\n",
    "\tpass"
   ]
  },
  {
   "cell_type": "markdown",
   "metadata": {},
   "source": [
    "Example #1:\n",
    "Input: prices = [7,1,5,3,6,4]\n",
    "Expected Output: 5\n",
    "Explanation: Buy on day 2 (price = 1) and sell on day 5 (price = 6), profit = 6-1 = 5.\n",
    "Note that buying on day 2 and selling on day 1 is not allowed because you must buy before you sell.\n",
    "\n",
    "Example #2:\n",
    "Input: prices = [7,6,4,3,1]\n",
    "Expected Output: 0\n",
    "Explanation: In this case, no transactions are done and the max profit = 0."
   ]
  },
  {
   "cell_type": "markdown",
   "metadata": {},
   "source": [
    "## Problem 3: Shuffle Merge\n",
    "Given the heads of two singly linked lists of integers, merge their nodes to make one list, taking nodes alternately between the two lists. If either list runs out of elements before the other, all nodes from the list with remaining nodes should be appended onto the end of the merged list. Return the head of the merged list."
   ]
  },
  {
   "cell_type": "code",
   "execution_count": null,
   "metadata": {},
   "outputs": [],
   "source": [
    "def shuffle_merge(head_a, head_b):\n",
    "\tpass\n"
   ]
  },
  {
   "cell_type": "code",
   "execution_count": 3,
   "metadata": {},
   "outputs": [],
   "source": [
    "# Input Lists: List 1: 1 —> 2 —> 3, List 2: 4 —> 5 —> 6\n",
    "# Input: head_a = 1, head_b = 4\n",
    "# Expected Return value: 1\n",
    "# Expected Result List: 1 —> 4 —> 2 —> 5 —> 3 —> 6\n",
    "\n",
    "# Input Lists: List 1: 1 —> 2 —> 3, List 2: 4\n",
    "# Expected Return value: 1\n",
    "# Expected Result List: 1 —> 4 —> 2 —> 3"
   ]
  },
  {
   "cell_type": "markdown",
   "metadata": {},
   "source": [
    "## Problem 4: Group Anagrams\n",
    "Given an array of strings strs, group the anagrams together. You can return the answer in any order.\n",
    "\n",
    "An Anagram is a word or phrase formed by rearranging the letters of a different word or phrase, typically using all the original letters exactly once."
   ]
  },
  {
   "cell_type": "code",
   "execution_count": null,
   "metadata": {},
   "outputs": [],
   "source": [
    "def group_anagrams(strs):\n",
    "    pass"
   ]
  },
  {
   "cell_type": "markdown",
   "metadata": {},
   "source": [
    "Example #1:\n",
    "Input: strs = [\"eat\",\"tea\",\"tan\",\"ate\",\"nat\",\"bat\"]\n",
    "Expeced Output: [[\"bat\"],[\"nat\",\"tan\"],[\"ate\",\"eat\",\"tea\"]]\n",
    "\n",
    "Example #2:\n",
    "Input: strs = [\"\"]\n",
    "Expected Output: [[\"\"]]\n",
    "\n",
    "Example #3:\n",
    "Input: strs = [\"a\"]\n",
    "Expected Output: [[\"a\"]]"
   ]
  },
  {
   "cell_type": "markdown",
   "metadata": {},
   "source": [
    "## Problem 5: Sum Root to Leaf Numbers\n",
    "You are given the root of a binary tree containing digits from 0 to 9 only.\n",
    "\n",
    "Each root-to-leaf path in the tree represents a number.\n",
    "\n",
    "For example, the root-to-leaf path 1 -> 2 -> 3 represents the number 123.\n",
    "Return the total sum of all root-to-leaf numbers.\n",
    "\n",
    "A leaf node is a node with no children."
   ]
  },
  {
   "cell_type": "code",
   "execution_count": 4,
   "metadata": {},
   "outputs": [],
   "source": [
    "class TreeNode(object):\n",
    "    def __init__(self, val=0, left=None, right=None):\n",
    "        self.val = val\n",
    "        self.left = left\n",
    "        self.right = right\n",
    "\n",
    "\n",
    "def sum_numbers(root):\n",
    "    pass"
   ]
  },
  {
   "cell_type": "code",
   "execution_count": 5,
   "metadata": {},
   "outputs": [],
   "source": [
    "#  <!-- Example Input Tree #1:\n",
    "\n",
    "#       1\n",
    "#      / \\\n",
    "#     2   3\n",
    "\n",
    "# Example Input: root = 1\n",
    "# Expected Output: 25\n",
    "# Explanation: \n",
    "# The root-to-leaf path 1->2 represents the number 12.\n",
    "# The root-to-leaf path 1->3 represents the number 13.\n",
    "# Therefore, sum = 12 + 13 = 25.\n",
    "\n",
    "# Example Input Tree #2:\n",
    "\n",
    "#       4\n",
    "#      / \\\n",
    "#     9   0\n",
    "#    / \\\n",
    "#   5   1\n",
    "\n",
    "# Input: root = 4\n",
    "# Expected Output: 1026\n",
    "# Explanation:\n",
    "# The root-to-leaf path 4->9->5 represents the number 495.\n",
    "# The root-to-leaf path 4->9->1 represents the number 491.\n",
    "# The root-to-leaf path 4->0 represents the number 40.\n",
    "# Therefore, sum = 495 + 491 + 40 = 1026. -->\n"
   ]
  },
  {
   "cell_type": "code",
   "execution_count": null,
   "metadata": {},
   "outputs": [],
   "source": []
  }
 ],
 "metadata": {
  "kernelspec": {
   "display_name": "tf2",
   "language": "python",
   "name": "python3"
  },
  "language_info": {
   "codemirror_mode": {
    "name": "ipython",
    "version": 3
   },
   "file_extension": ".py",
   "mimetype": "text/x-python",
   "name": "python",
   "nbconvert_exporter": "python",
   "pygments_lexer": "ipython3",
   "version": "3.10.14"
  }
 },
 "nbformat": 4,
 "nbformat_minor": 2
}
