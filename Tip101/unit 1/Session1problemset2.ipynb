{
 "cells": [
  {
   "cell_type": "markdown",
   "metadata": {},
   "source": [
    "### Problem 1: Hello User!"
   ]
  },
  {
   "cell_type": "code",
   "execution_count": 3,
   "metadata": {},
   "outputs": [
    {
     "name": "stdout",
     "output_type": "stream",
     "text": [
      "Hello Luis\n"
     ]
    }
   ],
   "source": [
    "def greet_user(name):\n",
    "    print(\"Hello \" + name)\n",
    "    \n",
    "greet_user(\"Luis\")"
   ]
  },
  {
   "cell_type": "markdown",
   "metadata": {},
   "source": [
    "### Problem 2: Calculate Difference"
   ]
  },
  {
   "cell_type": "code",
   "execution_count": 6,
   "metadata": {},
   "outputs": [
    {
     "data": {
      "text/plain": [
       "5"
      ]
     },
     "execution_count": 6,
     "metadata": {},
     "output_type": "execute_result"
    }
   ],
   "source": [
    "def difference(a, b):\n",
    "    return b-a\n",
    "difference(3,8)"
   ]
  },
  {
   "cell_type": "markdown",
   "metadata": {},
   "source": [
    "### Problem 3: List Concatenation"
   ]
  },
  {
   "cell_type": "code",
   "execution_count": 13,
   "metadata": {},
   "outputs": [
    {
     "data": {
      "text/plain": [
       "[1, 2, 3, 4, 1, 2, 3, 4]"
      ]
     },
     "execution_count": 13,
     "metadata": {},
     "output_type": "execute_result"
    }
   ],
   "source": [
    "def concatenate_list(nums):\n",
    "    ans = []\n",
    "    for i in nums:\n",
    "        ans.append(i)\n",
    "    return ans + nums\n",
    "\n",
    "concatenate_list([1,2,3,4])"
   ]
  },
  {
   "cell_type": "markdown",
   "metadata": {},
   "source": [
    "### Problem 4: Sleep Assessment"
   ]
  },
  {
   "cell_type": "code",
   "execution_count": 18,
   "metadata": {},
   "outputs": [
    {
     "name": "stdout",
     "output_type": "stream",
     "text": [
      "You got a good night's rest!\n",
      "Oof, go back to bed!\n",
      "You're a sleep prodigy!\n",
      "You got a good night's rest!\n"
     ]
    }
   ],
   "source": [
    "def sleep_assessment(hours):\n",
    "    if hours > 10:\n",
    "        print(\"You're a sleep prodigy!\")\n",
    "    elif hours < 8:\n",
    "        print(\"Oof, go back to bed!\")\n",
    "    elif hours >= 8 and hours <= 10:\n",
    "        print(\"You got a good night's rest!\")\n",
    "\n",
    "sleep_assessment(10)\n",
    "sleep_assessment(4)\n",
    "sleep_assessment(12)\n",
    "sleep_assessment(9)"
   ]
  },
  {
   "cell_type": "markdown",
   "metadata": {},
   "source": [
    "### Problem 5: Calculate Tip"
   ]
  },
  {
   "cell_type": "code",
   "execution_count": 22,
   "metadata": {},
   "outputs": [
    {
     "name": "stdout",
     "output_type": "stream",
     "text": [
      "6.6795\n",
      "4.453\n",
      "8.906\n"
     ]
    }
   ],
   "source": [
    "def calculate_tip(bill, service_quality):\n",
    "    if service_quality == \"average\":\n",
    "        return bill * .15\n",
    "    elif service_quality == \"poor\":\n",
    "        return bill * .10\n",
    "    else:\n",
    "        return bill * .20\n",
    "\n",
    "tip1 = calculate_tip(44.53, \"average\")\n",
    "print(tip1)\n",
    "tip2 = calculate_tip(44.53, \"poor\")\n",
    "print(tip2)\n",
    "tip3 = calculate_tip(44.53, \"excellent\")\n",
    "print(tip3)"
   ]
  },
  {
   "cell_type": "markdown",
   "metadata": {},
   "source": [
    "### Problem 6: Rock, Paper, Scissors\n",
    "\n",
    "\n",
    "rules:\n",
    "- Rock wins against scissors.\n",
    "- Scissors wins against paper.\n",
    "- Paper wins against rock."
   ]
  },
  {
   "cell_type": "code",
   "execution_count": 29,
   "metadata": {},
   "outputs": [],
   "source": [
    "def rock_paper_scissors(player1, player2):\n",
    "    if player1 == player2:\n",
    "        print(\"It's a tie!\")\n",
    "    elif player1 == \"scissor\":\n",
    "        if player2 == \"rock\":\n",
    "            print(\"Player 2 wins!\")\n",
    "        else:\n",
    "            print(\"Player 1 wins\")\n",
    "    elif player1 == \"paper\":\n",
    "        if player2 == \"rock\":\n",
    "            print(\"Player 1 wins!\")\n",
    "        else:\n",
    "            print(\"Player 2 wins\")\n",
    "    elif player1 == \"rock\":\n",
    "        if player2 == \"scissor\":\n",
    "            print(\"Player 1 wins!\")\n",
    "        else:\n",
    "            print(\"Player 2 wins!\")\n",
    "        \n",
    "    \n"
   ]
  },
  {
   "cell_type": "code",
   "execution_count": 37,
   "metadata": {},
   "outputs": [
    {
     "name": "stdout",
     "output_type": "stream",
     "text": [
      "It's a tie!\n",
      "Player 2 wins!\n",
      "Player 1 wins!\n"
     ]
    }
   ],
   "source": [
    "rock_paper_scissors(\"rock\", \"rock\")\n",
    "rock_paper_scissors(\"scissors\", \"rock\")\n",
    "rock_paper_scissors(\"scissors\", \"paper\")\n",
    "rock_paper_scissors(\"rock\", \"paper\")\n",
    "rock_paper_scissors(\"paper\", \"rock\")"
   ]
  },
  {
   "cell_type": "markdown",
   "metadata": {},
   "source": [
    "### Problem 7: Unscramble and Divide"
   ]
  },
  {
   "cell_type": "code",
   "execution_count": 39,
   "metadata": {},
   "outputs": [
    {
     "data": {
      "text/plain": [
       "[1.0, 2.0, 3.0, 4.0]"
      ]
     },
     "execution_count": 39,
     "metadata": {},
     "output_type": "execute_result"
    }
   ],
   "source": [
    "def halve_lst(lst):\n",
    "    result = []\n",
    "    for numbers in lst:\n",
    "        halved = numbers/2\n",
    "        result.append(halved)\n",
    "    return result\n",
    "halve_lst([2,4,6,8])"
   ]
  },
  {
   "cell_type": "markdown",
   "metadata": {},
   "source": [
    "### Problem 8: Above the Threshold"
   ]
  },
  {
   "cell_type": "code",
   "execution_count": 41,
   "metadata": {},
   "outputs": [
    {
     "name": "stdout",
     "output_type": "stream",
     "text": [
      "[13, 11, 14]\n"
     ]
    }
   ],
   "source": [
    "def above_threshold(lst, threshold):\n",
    "    new_lst = []\n",
    "    for num in lst:\n",
    "        if num > threshold:\n",
    "            new_lst.append(num)\n",
    "    return new_lst\n",
    "\n",
    "lst = [8, 2, 13, 11, 4, 10, 14]\n",
    "new_lst = above_threshold(lst, 10)\n",
    "print(new_lst)"
   ]
  },
  {
   "cell_type": "markdown",
   "metadata": {},
   "source": [
    "### Problem 9: Countdown"
   ]
  },
  {
   "cell_type": "code",
   "execution_count": 44,
   "metadata": {},
   "outputs": [
    {
     "name": "stdout",
     "output_type": "stream",
     "text": [
      "5\n",
      "4\n",
      "3\n",
      "2\n",
      "1\n"
     ]
    }
   ],
   "source": [
    "def countdown(m,n):\n",
    "    for num in range(m,n-1, -1):\n",
    "        print(num)\n",
    "\n",
    "countdown(5,1)"
   ]
  },
  {
   "cell_type": "markdown",
   "metadata": {},
   "source": [
    "### Problem 10: Calculate Power"
   ]
  },
  {
   "cell_type": "code",
   "execution_count": 45,
   "metadata": {},
   "outputs": [
    {
     "name": "stdout",
     "output_type": "stream",
     "text": [
      "32\n",
      "27\n"
     ]
    }
   ],
   "source": [
    "def power(base, exponent):\n",
    "    return base**exponent\n",
    "\n",
    "pow1 = power(2, 5)\n",
    "print(pow1)\n",
    "pow2 = power(3, 3)\n",
    "print(pow2)"
   ]
  },
  {
   "cell_type": "markdown",
   "metadata": {},
   "source": [
    "### Problem 11: Length of List"
   ]
  },
  {
   "cell_type": "code",
   "execution_count": 54,
   "metadata": {},
   "outputs": [
    {
     "data": {
      "text/plain": [
       "5"
      ]
     },
     "execution_count": 54,
     "metadata": {},
     "output_type": "execute_result"
    }
   ],
   "source": [
    "def list_length(lst):\n",
    "    counter = 0\n",
    "    for _ in lst:\n",
    "        counter +=1\n",
    "    return counter\n",
    "\n",
    "\n",
    "list_length([2, 4, 6, 8, 10])\n"
   ]
  },
  {
   "cell_type": "markdown",
   "metadata": {},
   "source": [
    "### Problem 12: Calculate Factorial"
   ]
  },
  {
   "cell_type": "code",
   "execution_count": 57,
   "metadata": {},
   "outputs": [
    {
     "data": {
      "text/plain": [
       "6"
      ]
     },
     "execution_count": 57,
     "metadata": {},
     "output_type": "execute_result"
    }
   ],
   "source": [
    "def factorial(n):\n",
    "    if n ==1:\n",
    "        return n\n",
    "    else:\n",
    "        return n*factorial(n-1)\n",
    "factorial(3)"
   ]
  },
  {
   "cell_type": "markdown",
   "metadata": {},
   "source": [
    "### Problem 13: Calculate the Squares"
   ]
  },
  {
   "cell_type": "code",
   "execution_count": 64,
   "metadata": {},
   "outputs": [
    {
     "data": {
      "text/plain": [
       "[1, 4, 9, 16]"
      ]
     },
     "execution_count": 64,
     "metadata": {},
     "output_type": "execute_result"
    }
   ],
   "source": [
    "def squares(nums):\n",
    "    return [i**2 for i in nums]\n",
    "\n",
    "squares([1, 2, 3, 4])"
   ]
  },
  {
   "cell_type": "markdown",
   "metadata": {},
   "source": [
    "### Problem 14: Multiply List"
   ]
  },
  {
   "cell_type": "code",
   "execution_count": 69,
   "metadata": {},
   "outputs": [
    {
     "name": "stdout",
     "output_type": "stream",
     "text": [
      "[3, 6, 9]\n"
     ]
    }
   ],
   "source": [
    "def multiply_list(lst, multiplier):\n",
    "    return [i * multiplier for i in lst]\n",
    "\n",
    "lst = [1, 2, 3]\n",
    "new_lst = multiply_list(lst, 3)\n",
    "print(new_lst)"
   ]
  },
  {
   "cell_type": "markdown",
   "metadata": {},
   "source": [
    "### Problem 15: Count Evens"
   ]
  },
  {
   "cell_type": "code",
   "execution_count": 71,
   "metadata": {},
   "outputs": [
    {
     "name": "stdout",
     "output_type": "stream",
     "text": [
      "[]\n",
      "[2, 4, 6, 8]\n"
     ]
    }
   ],
   "source": [
    "def count_evens(lst):\n",
    "    even_lst = []\n",
    "    for num in lst:\n",
    "        if num % 2 ==0:\n",
    "            even_lst.append(num)\n",
    "    return even_lst\n",
    "\n",
    "lst1 = [1, 5, 7, 9]\n",
    "count1 = count_evens(lst1)\n",
    "print(count1)\n",
    "\n",
    "lst2 = [2, 4, 6, 8]\n",
    "count2 = count_evens(lst2)\n",
    "print(count2)"
   ]
  },
  {
   "cell_type": "code",
   "execution_count": null,
   "metadata": {},
   "outputs": [],
   "source": []
  }
 ],
 "metadata": {
  "kernelspec": {
   "display_name": "tf2",
   "language": "python",
   "name": "python3"
  },
  "language_info": {
   "codemirror_mode": {
    "name": "ipython",
    "version": 3
   },
   "file_extension": ".py",
   "mimetype": "text/x-python",
   "name": "python",
   "nbconvert_exporter": "python",
   "pygments_lexer": "ipython3",
   "version": "3.10.14"
  }
 },
 "nbformat": 4,
 "nbformat_minor": 2
}
