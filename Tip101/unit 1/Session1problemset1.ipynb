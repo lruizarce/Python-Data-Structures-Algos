{
 "cells": [
  {
   "cell_type": "markdown",
   "metadata": {},
   "source": [
    "### Problem 1: Hello World!"
   ]
  },
  {
   "cell_type": "code",
   "execution_count": 4,
   "metadata": {},
   "outputs": [
    {
     "name": "stdout",
     "output_type": "stream",
     "text": [
      "Hello World\n"
     ]
    }
   ],
   "source": [
    "def hello_world():\n",
    "    print(\"Hello World\")\n",
    "    \n",
    "hello_world()"
   ]
  },
  {
   "cell_type": "markdown",
   "metadata": {},
   "source": [
    "### Problem 2: Today's Mood"
   ]
  },
  {
   "cell_type": "code",
   "execution_count": 11,
   "metadata": {},
   "outputs": [
    {
     "name": "stdout",
     "output_type": "stream",
     "text": [
      "Today's mood:😍\n"
     ]
    }
   ],
   "source": [
    "def todays_mood():\n",
    "    mood = \"😍\"\n",
    "    print(\"Today's mood:\" + mood)\n",
    "todays_mood()"
   ]
  },
  {
   "cell_type": "markdown",
   "metadata": {},
   "source": [
    "### Problem 3: Lunch Menu"
   ]
  },
  {
   "cell_type": "code",
   "execution_count": 14,
   "metadata": {},
   "outputs": [
    {
     "name": "stdout",
     "output_type": "stream",
     "text": [
      "Lunch today is: 🍜\n"
     ]
    }
   ],
   "source": [
    "def print_menu(menu):\n",
    "    print(\"Lunch today is: \" + menu)\n",
    "#dish = \"🍜\"\n",
    "print_menu(\"🍜\")"
   ]
  },
  {
   "cell_type": "markdown",
   "metadata": {},
   "source": [
    "### Problem 4: Sum of Two Integers"
   ]
  },
  {
   "cell_type": "code",
   "execution_count": 20,
   "metadata": {},
   "outputs": [
    {
     "name": "stdout",
     "output_type": "stream",
     "text": [
      "80\n"
     ]
    }
   ],
   "source": [
    "def sum(a,b):\n",
    "    return a + b\n",
    "res = sum(13, 27)\n",
    "print(res * 2)"
   ]
  },
  {
   "cell_type": "markdown",
   "metadata": {},
   "source": [
    "### Problem 5: Product of Two Integers"
   ]
  },
  {
   "cell_type": "code",
   "execution_count": 21,
   "metadata": {},
   "outputs": [
    {
     "data": {
      "text/plain": [
       "154"
      ]
     },
     "execution_count": 21,
     "metadata": {},
     "output_type": "execute_result"
    }
   ],
   "source": [
    "def product(a,b):\n",
    "    return a * b\n",
    "\n",
    "product(22, 7)\n",
    "    "
   ]
  },
  {
   "cell_type": "markdown",
   "metadata": {},
   "source": [
    "### Problem 6: Classify Age"
   ]
  },
  {
   "cell_type": "code",
   "execution_count": 27,
   "metadata": {},
   "outputs": [
    {
     "name": "stdout",
     "output_type": "stream",
     "text": [
      "child\n",
      "adult\n"
     ]
    }
   ],
   "source": [
    "def classify_age(age):\n",
    "    if age < 18:\n",
    "        print(\"child\")\n",
    "    else:\n",
    "        print(\"adult\")\n",
    "\n",
    "classify_age(8)\n",
    "classify_age(50)"
   ]
  },
  {
   "cell_type": "markdown",
   "metadata": {},
   "source": [
    "### Problem 7: What time is it?"
   ]
  },
  {
   "cell_type": "code",
   "execution_count": 29,
   "metadata": {},
   "outputs": [
    {
     "name": "stdout",
     "output_type": "stream",
     "text": [
      "taco time 🌮\n",
      "peanut butter jelly time 🥪\n",
      "nap time 😴\n"
     ]
    }
   ],
   "source": [
    "def what_time_is_it(hour):\n",
    "    if hour == 2:\n",
    "        print(\"taco time 🌮\")\n",
    "    elif hour == 12:\n",
    "        print(\"peanut butter jelly time 🥪\")\n",
    "    else:\n",
    "        print(\"nap time 😴\")\n",
    "        \n",
    "what_time_is_it(2)\n",
    "what_time_is_it(12)\n",
    "what_time_is_it(5)"
   ]
  },
  {
   "cell_type": "markdown",
   "metadata": {},
   "source": [
    "### Problem 8: Blackjack"
   ]
  },
  {
   "cell_type": "code",
   "execution_count": 32,
   "metadata": {},
   "outputs": [
    {
     "name": "stdout",
     "output_type": "stream",
     "text": [
      "Bust\n",
      "Nice hand!\n",
      "Blackjack!\n",
      "Hit me!\n"
     ]
    }
   ],
   "source": [
    "def blackjack(score):\n",
    "    if score >= 17 and score < 21:\n",
    "        print(\"Nice hand!\")\n",
    "    elif score == 21:\n",
    "        print(\"Blackjack!\")\n",
    "    elif score > 21:\n",
    "        print(\"Bust\")\n",
    "    elif score < 17:\n",
    "        print(\"Hit me!\")\n",
    "\n",
    "blackjack(24)\n",
    "blackjack(19)\n",
    "blackjack(21)\n",
    "blackjack(10)"
   ]
  },
  {
   "cell_type": "markdown",
   "metadata": {},
   "source": [
    "### Problem 9: First Item"
   ]
  },
  {
   "cell_type": "code",
   "execution_count": 33,
   "metadata": {},
   "outputs": [
    {
     "data": {
      "text/plain": [
       "3"
      ]
     },
     "execution_count": 33,
     "metadata": {},
     "output_type": "execute_result"
    }
   ],
   "source": [
    "def get_first(lst):\n",
    "    return lst[0]\n",
    "get_first([3, 1, 6, 7, 5])"
   ]
  },
  {
   "cell_type": "markdown",
   "metadata": {},
   "source": [
    "### Problem 10: Last Item"
   ]
  },
  {
   "cell_type": "code",
   "execution_count": 36,
   "metadata": {},
   "outputs": [
    {
     "data": {
      "text/plain": [
       "5"
      ]
     },
     "execution_count": 36,
     "metadata": {},
     "output_type": "execute_result"
    }
   ],
   "source": [
    "def get_last(lst):\n",
    "    return lst[-1]\n",
    "\n",
    "\n",
    "get_last([3, 1, 6, 7, 5])"
   ]
  },
  {
   "cell_type": "markdown",
   "metadata": {},
   "source": [
    "### Problem 11: Counter"
   ]
  },
  {
   "cell_type": "code",
   "execution_count": 40,
   "metadata": {},
   "outputs": [
    {
     "name": "stdout",
     "output_type": "stream",
     "text": [
      "1\n",
      "2\n",
      "3\n",
      "4\n",
      "5\n",
      "6\n",
      "7\n"
     ]
    }
   ],
   "source": [
    "def counter(stop):\n",
    "    for i in range(1, stop+1):\n",
    "        print(i)\n",
    "counter(7)"
   ]
  },
  {
   "cell_type": "markdown",
   "metadata": {},
   "source": [
    "### Problem 12: Sum of 1 to 10"
   ]
  },
  {
   "cell_type": "code",
   "execution_count": 53,
   "metadata": {},
   "outputs": [
    {
     "data": {
      "text/plain": [
       "55"
      ]
     },
     "execution_count": 53,
     "metadata": {},
     "output_type": "execute_result"
    }
   ],
   "source": [
    "def sum_ten():\n",
    "    total = 0\n",
    "    for i in range(1, 11):\n",
    "        total += i\n",
    "    return total\n",
    "sum_ten()"
   ]
  },
  {
   "cell_type": "markdown",
   "metadata": {},
   "source": [
    "### Problem 13: Total Sum"
   ]
  },
  {
   "cell_type": "code",
   "execution_count": 54,
   "metadata": {},
   "outputs": [
    {
     "data": {
      "text/plain": [
       "21"
      ]
     },
     "execution_count": 54,
     "metadata": {},
     "output_type": "execute_result"
    }
   ],
   "source": [
    "def sum_positive_range(stop):\n",
    "    total = 0\n",
    "    for i in range(1, stop +1):\n",
    "        total +=i\n",
    "    return total\n",
    "\n",
    "sum_positive_range(6)\n",
    "    "
   ]
  },
  {
   "cell_type": "markdown",
   "metadata": {},
   "source": [
    "### Problem 14: Total Sum in Range"
   ]
  },
  {
   "cell_type": "code",
   "execution_count": 55,
   "metadata": {},
   "outputs": [
    {
     "data": {
      "text/plain": [
       "42"
      ]
     },
     "execution_count": 55,
     "metadata": {},
     "output_type": "execute_result"
    }
   ],
   "source": [
    "def sum_range(start, stop):\n",
    "    total = 0\n",
    "    for i in range(start, stop + 1):\n",
    "        total +=i\n",
    "    return total\n",
    "sum_range(3,9)"
   ]
  },
  {
   "cell_type": "markdown",
   "metadata": {},
   "source": [
    "### Problem 15: Negative Numbers"
   ]
  },
  {
   "cell_type": "code",
   "execution_count": 65,
   "metadata": {},
   "outputs": [
    {
     "name": "stdout",
     "output_type": "stream",
     "text": [
      "-2\n",
      "-5\n",
      "None\n",
      "None\n"
     ]
    }
   ],
   "source": [
    "def print_negatives(lst):\n",
    "    for i in lst:\n",
    "        if i < 0:\n",
    "            print(i)\n",
    "    else:\n",
    "        print(\"None\")\n",
    "\n",
    "print_negatives([3, -2, 2, 1, -5])\n",
    "print_negatives([1, 2, 3, 4, 5])"
   ]
  },
  {
   "cell_type": "code",
   "execution_count": null,
   "metadata": {},
   "outputs": [],
   "source": []
  }
 ],
 "metadata": {
  "kernelspec": {
   "display_name": "tf2",
   "language": "python",
   "name": "python3"
  },
  "language_info": {
   "codemirror_mode": {
    "name": "ipython",
    "version": 3
   },
   "file_extension": ".py",
   "mimetype": "text/x-python",
   "name": "python",
   "nbconvert_exporter": "python",
   "pygments_lexer": "ipython3",
   "version": "3.10.14"
  }
 },
 "nbformat": 4,
 "nbformat_minor": 2
}
