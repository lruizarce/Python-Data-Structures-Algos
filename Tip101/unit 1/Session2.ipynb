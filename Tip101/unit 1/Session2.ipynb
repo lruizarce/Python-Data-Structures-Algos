{
 "cells": [
  {
   "cell_type": "markdown",
   "metadata": {},
   "source": [
    "### Problem 1: Print List"
   ]
  },
  {
   "cell_type": "code",
   "execution_count": 1,
   "metadata": {},
   "outputs": [
    {
     "name": "stdout",
     "output_type": "stream",
     "text": [
      "squirtle\n",
      "gengar\n",
      "charizard\n",
      "pikachu\n"
     ]
    }
   ],
   "source": [
    "def print_list(lst):\n",
    "    for i in lst:\n",
    "        print(i)\n",
    "\n",
    "print_list([\"squirtle\", \"gengar\", \"charizard\", \"pikachu\"])"
   ]
  },
  {
   "cell_type": "markdown",
   "metadata": {},
   "source": [
    "### Problem 2: Print Doubled List"
   ]
  },
  {
   "cell_type": "code",
   "execution_count": 3,
   "metadata": {},
   "outputs": [
    {
     "name": "stdout",
     "output_type": "stream",
     "text": [
      "2\n",
      "4\n",
      "6\n"
     ]
    }
   ],
   "source": [
    "def doubled(lst):\n",
    "    for i in lst:\n",
    "        print(i*2)\n",
    "\n",
    "doubled([1,2,3])"
   ]
  },
  {
   "cell_type": "markdown",
   "metadata": {},
   "source": [
    "### Problem 3: Return Doubled List"
   ]
  },
  {
   "cell_type": "code",
   "execution_count": 4,
   "metadata": {},
   "outputs": [
    {
     "data": {
      "text/plain": [
       "[2, 4, 6]"
      ]
     },
     "execution_count": 4,
     "metadata": {},
     "output_type": "execute_result"
    }
   ],
   "source": [
    "def doubled(lst):\n",
    "    return [i * 2 for i in lst]\n",
    "\n",
    "\n",
    "doubled([1, 2, 3])"
   ]
  },
  {
   "cell_type": "markdown",
   "metadata": {},
   "source": [
    "### Problem 4: Flip Signs"
   ]
  },
  {
   "cell_type": "code",
   "execution_count": 5,
   "metadata": {},
   "outputs": [
    {
     "name": "stdout",
     "output_type": "stream",
     "text": [
      "[-1, 2, 3, -4]\n"
     ]
    }
   ],
   "source": [
    "def flip_sign(lst):\n",
    "    return [i*-1 for i in lst]\n",
    "\n",
    "lst = [1, -2, -3, 4]\n",
    "flipped_lst = flip_sign(lst)\n",
    "print(flipped_lst)"
   ]
  },
  {
   "cell_type": "markdown",
   "metadata": {},
   "source": [
    "### Problem 5: Max Difference"
   ]
  },
  {
   "cell_type": "code",
   "execution_count": 8,
   "metadata": {},
   "outputs": [
    {
     "name": "stdout",
     "output_type": "stream",
     "text": [
      "20\n"
     ]
    }
   ],
   "source": [
    "def max_difference(lst):\n",
    "   return max(lst)-min(lst)\n",
    "\n",
    "\n",
    "lst = [5, 22, 8, 10, 2]\n",
    "max_diff = max_difference(lst)\n",
    "print(max_diff)"
   ]
  },
  {
   "cell_type": "markdown",
   "metadata": {},
   "source": [
    "### Problem 6: Below Threshold"
   ]
  },
  {
   "cell_type": "code",
   "execution_count": 10,
   "metadata": {},
   "outputs": [
    {
     "name": "stdout",
     "output_type": "stream",
     "text": [
      "3\n"
     ]
    }
   ],
   "source": [
    "def count_less_than(lst, threshold):\n",
    "    count = 0\n",
    "    for num in lst:\n",
    "        if num < threshold:\n",
    "            count +=1\n",
    "    return count\n",
    "\n",
    "numbers = [12, 8, 2, 4, 4, 10]\n",
    "counter = count_less_than(numbers, 5)\n",
    "print(counter)"
   ]
  },
  {
   "cell_type": "markdown",
   "metadata": {},
   "source": [
    "### Problem 7: Evens List"
   ]
  },
  {
   "cell_type": "code",
   "execution_count": 11,
   "metadata": {},
   "outputs": [
    {
     "name": "stdout",
     "output_type": "stream",
     "text": [
      "2\n",
      "4\n",
      "None\n"
     ]
    }
   ],
   "source": [
    "def get_evens(lst):\n",
    "    for num in lst:\n",
    "        if num %2==0:\n",
    "            print(num)\n",
    "\n",
    "lst = [1, 2, 3, 4]\n",
    "evens_lst = get_evens(lst)\n",
    "print(evens_lst)"
   ]
  },
  {
   "cell_type": "markdown",
   "metadata": {},
   "source": [
    "### Problem 8: Multiples of Five"
   ]
  },
  {
   "cell_type": "code",
   "execution_count": 16,
   "metadata": {},
   "outputs": [
    {
     "name": "stdout",
     "output_type": "stream",
     "text": [
      "0\n",
      "5\n",
      "10\n",
      "15\n",
      "20\n",
      "25\n",
      "30\n",
      "35\n",
      "40\n",
      "45\n",
      "50\n",
      "55\n",
      "60\n",
      "65\n",
      "70\n",
      "75\n",
      "80\n",
      "85\n",
      "90\n",
      "95\n",
      "100\n"
     ]
    }
   ],
   "source": [
    "def multiples_of_five():\n",
    "    for i in range(0,101,5):\n",
    "        print(i)\n",
    "multiples_of_five()"
   ]
  },
  {
   "cell_type": "markdown",
   "metadata": {},
   "source": [
    "### Problem 9: Divisors"
   ]
  },
  {
   "cell_type": "code",
   "execution_count": 34,
   "metadata": {},
   "outputs": [
    {
     "name": "stdout",
     "output_type": "stream",
     "text": [
      "[1, 2, 3, 6]\n"
     ]
    }
   ],
   "source": [
    "def find_divisors(n):\n",
    "    new_lst = []\n",
    "    for i in range(1, n+1):\n",
    "        if n % i == 0:\n",
    "            new_lst.append(i)\n",
    "    return new_lst\n",
    "\n",
    "lst = find_divisors(6)\n",
    "print(lst)"
   ]
  },
  {
   "cell_type": "markdown",
   "metadata": {},
   "source": [
    "### Problem 10: FizzBuzz"
   ]
  },
  {
   "cell_type": "code",
   "execution_count": 35,
   "metadata": {},
   "outputs": [
    {
     "name": "stdout",
     "output_type": "stream",
     "text": [
      "1\n",
      "2\n",
      "Fizz\n",
      "4\n",
      "Buzz\n",
      "Fizz\n",
      "7\n",
      "8\n",
      "Fizz\n",
      "Buzz\n",
      "11\n",
      "Fizz\n",
      "13\n"
     ]
    }
   ],
   "source": [
    "def fizzbuzz(n):\n",
    "    for i in range(1, n+1):\n",
    "        if i % 3 == 0:\n",
    "            print(\"Fizz\")\n",
    "        elif i % 5 == 0:\n",
    "            print(\"Buzz\")\n",
    "        else:\n",
    "            print(i)\n",
    "\n",
    "fizzbuzz(13)"
   ]
  },
  {
   "cell_type": "markdown",
   "metadata": {},
   "source": [
    "### Problem 11: Print the Index"
   ]
  },
  {
   "cell_type": "code",
   "execution_count": 39,
   "metadata": {},
   "outputs": [
    {
     "name": "stdout",
     "output_type": "stream",
     "text": [
      "0\n",
      "1\n",
      "2\n",
      "3\n",
      "4\n"
     ]
    }
   ],
   "source": [
    "def print_indices(lst):\n",
    "    for i in range(len(lst)):\n",
    "        print(i)\n",
    "        \n",
    "lst = [5, 1, 3, 8, 2]\n",
    "print_indices(lst)"
   ]
  },
  {
   "cell_type": "markdown",
   "metadata": {},
   "source": [
    "### Problem 12: Linear Search"
   ]
  },
  {
   "cell_type": "code",
   "execution_count": 51,
   "metadata": {},
   "outputs": [
    {
     "name": "stdout",
     "output_type": "stream",
     "text": [
      "2\n"
     ]
    }
   ],
   "source": [
    "def linear_search(lst, target):\n",
    "    for i in range(len(lst)):\n",
    "        if lst[i] == target:\n",
    "            return i\n",
    "    return -1\n",
    "    \n",
    "    \n",
    "lst = [1,4,5,2,8]\n",
    "position = linear_search(lst,5)\n",
    "print(position)\n"
   ]
  },
  {
   "cell_type": "markdown",
   "metadata": {},
   "source": [
    "# Problem Set Version 2"
   ]
  },
  {
   "cell_type": "markdown",
   "metadata": {},
   "source": [
    "### Problem 1: Convert Temperature\n"
   ]
  },
  {
   "cell_type": "code",
   "execution_count": 26,
   "metadata": {},
   "outputs": [
    {
     "name": "stdout",
     "output_type": "stream",
     "text": [
      "[296.15, 73.4]\n"
     ]
    }
   ],
   "source": [
    "def convertTemp(celsius):\n",
    "    if not isinstance(celsius, (int, float)):\n",
    "        raise Exception(\"Sorry, only numbers\")\n",
    "    if celsius < 0:\n",
    "        raise Exception(\"Sorry, only non-negative numbers\")\n",
    "\n",
    "    kelvin = celsius + 273.15\n",
    "    fahrenheit = celsius * 1.80 + 32\n",
    "    return [kelvin, fahrenheit]\n",
    "\n",
    "temperatures = convertTemp(23.00)\n",
    "print(temperatures)"
   ]
  },
  {
   "cell_type": "markdown",
   "metadata": {},
   "source": [
    "### Problem 2: Average Score"
   ]
  },
  {
   "cell_type": "code",
   "execution_count": 29,
   "metadata": {},
   "outputs": [
    {
     "name": "stdout",
     "output_type": "stream",
     "text": [
      "86.4\n"
     ]
    }
   ],
   "source": [
    "def average(scores):\n",
    "    n = len(scores)\n",
    "    total = sum(scores)\n",
    "    return total/n\n",
    "\n",
    "scores = [84, 73, 92, 95, 88]\n",
    "avg_score = average(scores)\n",
    "print(avg_score)"
   ]
  },
  {
   "cell_type": "markdown",
   "metadata": {},
   "source": [
    "### Problem 3: Increment by 1"
   ]
  },
  {
   "cell_type": "code",
   "execution_count": 30,
   "metadata": {},
   "outputs": [
    {
     "name": "stdout",
     "output_type": "stream",
     "text": [
      "[4, 6, 9, 3]\n"
     ]
    }
   ],
   "source": [
    "def increment_values(lst):\n",
    "    return [i+1 for i in lst]\n",
    "    \n",
    "lst = [3,5,8,2]\n",
    "new_lst = increment_values(lst)\n",
    "print(new_lst)"
   ]
  },
  {
   "cell_type": "markdown",
   "metadata": {},
   "source": [
    "### Problem 4: Check for Number"
   ]
  },
  {
   "cell_type": "code",
   "execution_count": 41,
   "metadata": {},
   "outputs": [
    {
     "name": "stdout",
     "output_type": "stream",
     "text": [
      "True\n",
      "False\n"
     ]
    }
   ],
   "source": [
    "def check_num(lst, num):\n",
    "    for i in lst:\n",
    "        if i == num:\n",
    "            return True\n",
    "    return False\n",
    "\n",
    "lst = [5,2,3,9,10]\n",
    "flag1 = check_num(lst,9)\n",
    "flag2 = check_num(lst,4)\n",
    "print(flag1)\n",
    "print(flag2)"
   ]
  },
  {
   "cell_type": "markdown",
   "metadata": {},
   "source": [
    "### Problem 5: Missing Number"
   ]
  },
  {
   "cell_type": "code",
   "execution_count": 42,
   "metadata": {},
   "outputs": [
    {
     "name": "stdout",
     "output_type": "stream",
     "text": [
      "5\n",
      "None\n"
     ]
    }
   ],
   "source": [
    "def find_missing(nums):\n",
    "    sorted_lst = sorted(nums)\n",
    "    for i in sorted_lst:\n",
    "        if i in range(len(nums)):\n",
    "            \n",
    "\n",
    "nums = [2, 4, 1, 0, 5]\n",
    "missing_num = find_missing(nums)\n",
    "print(missing_num)"
   ]
  },
  {
   "cell_type": "code",
   "execution_count": null,
   "metadata": {},
   "outputs": [],
   "source": []
  }
 ],
 "metadata": {
  "kernelspec": {
   "display_name": "tf2",
   "language": "python",
   "name": "python3"
  },
  "language_info": {
   "codemirror_mode": {
    "name": "ipython",
    "version": 3
   },
   "file_extension": ".py",
   "mimetype": "text/x-python",
   "name": "python",
   "nbconvert_exporter": "python",
   "pygments_lexer": "ipython3",
   "version": "3.10.14"
  }
 },
 "nbformat": 4,
 "nbformat_minor": 2
}
