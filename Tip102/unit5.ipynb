{
 "cells": [
  {
   "cell_type": "markdown",
   "metadata": {},
   "source": [
    "# <h1 style=\"color: blue;\">Session 1: Advance Problem Set Version 1</h1>"
   ]
  },
  {
   "cell_type": "markdown",
   "metadata": {},
   "source": [
    "## Problem 1: Villager Class\n",
    "A class constructor is a special method or function that is used to create and initialize a new object from a class. Define the class constructor `__init__()` for a new class Villager that represents characters in the game Animal Crossing. The constructor accepts three required arguments: strings name, species, and catchphrase. The constructor defines four properties for a Villager:\n",
    "\n",
    "- name, a string initialized to the argument name\n",
    "- species, a string initialized to the argument species\n",
    "- catchphrase, a string initialized to the argument catchphrase\n",
    "- furniture, a list initialized to an empty list"
   ]
  },
  {
   "cell_type": "code",
   "execution_count": 1,
   "metadata": {},
   "outputs": [],
   "source": [
    "class Villager:\n",
    "    def __init__(self, name, species, catchphrase):\n",
    "        self.name = name\n",
    "        self.species = species\n",
    "        self.catchphrase = catchphrase\n",
    "        self.furniture = []\n",
    "        \n"
   ]
  },
  {
   "cell_type": "code",
   "execution_count": 2,
   "metadata": {},
   "outputs": [
    {
     "name": "stdout",
     "output_type": "stream",
     "text": [
      "Apollo\n",
      "Eagle\n",
      "pah\n",
      "[]\n"
     ]
    }
   ],
   "source": [
    "apollo = Villager(\"Apollo\", \"Eagle\", \"pah\")\n",
    "print(apollo.name)\n",
    "print(apollo.species)\n",
    "print(apollo.catchphrase)\n",
    "print(apollo.furniture)"
   ]
  },
  {
   "cell_type": "markdown",
   "metadata": {},
   "source": [
    "## Problem 2: Add Furniture\n",
    "Players and villagers in Animal Crossing can add furniture to their inventory to decorate their house.\n",
    "\n",
    "Update the Villager class with a new method add_item() that takes in one parameter, item_name.\n",
    "\n",
    "The method should validate the item_name.\n",
    "\n",
    "If the item is valid, add item_name to the villager’s furniture attribute.\n",
    "The method does not need to return any values.\n",
    "item_name is valid if it has one of the following values: \"acoustic guitar\", \"ironwood kitchenette\", \"rattan armchair\", \"kotatsu\", or \"cacao tree\"."
   ]
  },
  {
   "cell_type": "code",
   "execution_count": 23,
   "metadata": {},
   "outputs": [],
   "source": [
    "class Villager:\n",
    "    def __init__(self, name, species, catchphrase):\n",
    "        self.name = name\n",
    "        self.species = species\n",
    "        self.catchphrase = catchphrase\n",
    "        self.furniture = []\n",
    "        \n",
    "    def add_item(self, item_name):\n",
    "        valid_item = [\"acoustic guitar\", \"ironwood kitchenette\", \"rattan armchair\", \"kotatsu\",\"cacao tree\"]\n",
    "        if item_name in valid_item:\n",
    "            self.furniture.append(item_name)"
   ]
  },
  {
   "cell_type": "code",
   "execution_count": 24,
   "metadata": {},
   "outputs": [
    {
     "name": "stdout",
     "output_type": "stream",
     "text": [
      "[]\n",
      "['acoustic guitar']\n",
      "['acoustic guitar', 'cacao tree']\n",
      "['acoustic guitar', 'cacao tree']\n"
     ]
    }
   ],
   "source": [
    "alice = Villager(\"Alice\", \"Koala\", \"guvnor\")\n",
    "print(alice.furniture)\n",
    "\n",
    "alice.add_item(\"acoustic guitar\")\n",
    "print(alice.furniture)\n",
    "\n",
    "alice.add_item(\"cacao tree\")\n",
    "print(alice.furniture)\n",
    "\n",
    "alice.add_item(\"nintendo switch\")\n",
    "print(alice.furniture)"
   ]
  },
  {
   "cell_type": "markdown",
   "metadata": {},
   "source": [
    "## Problem 3: Group by Personality\n",
    "The Villager class has been updated below to include the new string attribute personality representing the character's personality type.\n",
    "\n",
    "Outside of the Villager class, write a function of_personality_type(). Given a list of Villager instances townies and a string personality_type as parameters, return a list containing the names of all villagers in townies with personality personality_type. Return the names in any order."
   ]
  },
  {
   "cell_type": "code",
   "execution_count": 30,
   "metadata": {},
   "outputs": [],
   "source": [
    "class Villager:\n",
    "    def __init__(self, name, species, personality, catchphrase):\n",
    "        self.name = name\n",
    "        self.species = species\n",
    "        self.personality = personality\n",
    "        self.catchphrase = catchphrase\n",
    "        self.furniture = []\n",
    "\n",
    "    def add_item(self, item_name):\n",
    "        self.furniture.append(item_name)\n",
    "        \n",
    "def of_personality_type(townies, personality_type):\n",
    "        res = []\n",
    "        \n",
    "        for villager in townies:\n",
    "            if villager.personality == personality_type:\n",
    "                res.append(villager.name)\n",
    "        return res"
   ]
  },
  {
   "cell_type": "code",
   "execution_count": 31,
   "metadata": {},
   "outputs": [
    {
     "name": "stdout",
     "output_type": "stream",
     "text": [
      "['Bob', 'Stitches']\n",
      "[]\n"
     ]
    }
   ],
   "source": [
    "isabelle = Villager(\"Isabelle\", \"Dog\", \"Normal\", \"what's up?\")\n",
    "bob = Villager(\"Bob\", \"Cat\", \"Lazy\", \"pthhhpth\")\n",
    "stitches = Villager(\"Stitches\", \"Cub\", \"Lazy\", \"stuffin'\")\n",
    "\n",
    "print(of_personality_type([isabelle, bob, stitches], \"Lazy\"))\n",
    "print(of_personality_type([isabelle, bob, stitches], \"Cranky\"))"
   ]
  },
  {
   "cell_type": "markdown",
   "metadata": {},
   "source": [
    "## Problem 4: Telephone\n",
    "The Villager constructor has been updated to include an additional attribute neighbor. A villager's neighbor is another Villager instance and represents their closest neighbor. By default, a Villager's neighbor is set to None.\n",
    "\n",
    "Given two Villager instances start_villager and target_villager, write a function message_received() that returns True if you can pass a message from the start_villager to the target_villager through a series of neighbors and False otherwise."
   ]
  },
  {
   "cell_type": "code",
   "execution_count": 54,
   "metadata": {},
   "outputs": [],
   "source": [
    "class Villager:\n",
    "    def __init__(self, name, species, personality, catchphrase, neighbor=None):\n",
    "        self.name = name\n",
    "        self.species = species\n",
    "        self.personality = personality\n",
    "        self.catchphrase = catchphrase\n",
    "        self.furniture = []\n",
    "        self.neighbor = neighbor\n",
    "\n",
    "    # ... methods from previous problems\n",
    "    def add_item(self, item_name):\n",
    "        self.furniture.append(item_name)\n",
    "\n",
    "\n",
    "def message_received(start_villager, target_villager):\n",
    "    currVill = start_villager\n",
    "    while currVill:\n",
    "        if currVill == target_villager:\n",
    "            return True\n",
    "        currVill = currVill.neighbor\n",
    "    return False\n"
   ]
  },
  {
   "cell_type": "code",
   "execution_count": 55,
   "metadata": {},
   "outputs": [
    {
     "name": "stdout",
     "output_type": "stream",
     "text": [
      "True\n",
      "False\n"
     ]
    }
   ],
   "source": [
    "isabelle = Villager(\"Isabelle\", \"Dog\", \"Normal\", \"what's up?\")\n",
    "tom_nook = Villager(\"Tom Nook\", \"Raccoon\", \"Cranky\", \"yes, yes\")\n",
    "kk_slider = Villager(\"K.K. Slider\", \"Dog\", \"Lazy\", \"dig it\")\n",
    "isabelle.neighbor = tom_nook\n",
    "tom_nook.neighbor = kk_slider\n",
    "\n",
    "print(message_received(isabelle, kk_slider))\n",
    "print(message_received(kk_slider, isabelle))"
   ]
  },
  {
   "cell_type": "markdown",
   "metadata": {},
   "source": [
    "## Problem 5: Linked Up\n",
    "A linked list is a new data type that, similar to a normal list or array, allows us to store pieces of data sequentially. The difference between a linked list and a normal list lies in how each element is stored in a computer’s memory.\n",
    "\n",
    "In a normal list, individual elements of the list are stored in adjacent memory locations according to the order they appear in the list. If we know where the first element of the list is stored, it’s really easy to find any other element in the list.\n",
    "\n",
    "In a linked list, the individual elements called nodes are not stored in sequential memory locations. Each node may be stored in an unrelated memory location. To connect nodes together into a sequential list, each node stores a reference or pointer to the next node in the list.\n",
    "\n",
    "Connect the provided node instances below to create the linked list kk_slider -> harriet -> saharah -> isabelle.\n",
    "\n",
    "A function print_linked_list() which accepts the head, or first element, of a linked list and prints the values of the list has also been provided for testing purposes."
   ]
  },
  {
   "cell_type": "code",
   "execution_count": 57,
   "metadata": {},
   "outputs": [
    {
     "name": "stdout",
     "output_type": "stream",
     "text": [
      "K.K. Slider -> Harriet -> Saharah -> Isabelle\n"
     ]
    }
   ],
   "source": [
    "class Node:\n",
    "    def __init__(self, value, next=None):\n",
    "        self.value = value\n",
    "        self.next = next\n",
    "\n",
    "\n",
    "# For testing\n",
    "def print_linked_list(head):\n",
    "    current = head\n",
    "    while current:\n",
    "        print(current.value, end=\" -> \" if current.next else \"\\n\")\n",
    "        current = current.next\n",
    "\n",
    "\n",
    "kk_slider = Node(\"K.K. Slider\")\n",
    "harriet = Node(\"Harriet\")\n",
    "saharah = Node(\"Saharah\")\n",
    "isabelle = Node(\"Isabelle\")\n",
    "kk_slider.next = harriet\n",
    "harriet.next = saharah\n",
    "saharah.next = isabelle\n",
    "\n",
    "print_linked_list(kk_slider)"
   ]
  },
  {
   "cell_type": "markdown",
   "metadata": {},
   "source": [
    "## Problem 6: Got One!\n",
    "Imagine that behind the scenes, Animal Crossing uses a linked list to represent the order fish will appear to a player who is fishing in the river. The head of the list represents the next fish that a player will catch if they keep fishing.\n",
    "\n",
    "Write a function catch_fish() that accepts the head of a list. The function should:\n",
    "\n",
    "Print the name of the fish in the head node using the format \"I caught a <fish name>!\".\n",
    "Remove the first node in the list.\n",
    "The function should return the new head of the list. If the list is empty, print \"Aw! Better luck next time!\" and return None.\n",
    "\n",
    "A function print_linked_list() which accepts the head, or first element, of a linked list and prints the list data has also been provided for testing purposes."
   ]
  },
  {
   "cell_type": "code",
   "execution_count": 66,
   "metadata": {},
   "outputs": [],
   "source": [
    "class Node:\n",
    "    def __init__(self, fish_name, next=None):\n",
    "        self.fish_name = fish_name\n",
    "        self.next = next\n",
    "\n",
    "\n",
    "# For testing\n",
    "def print_linked_list(head):\n",
    "    current = head\n",
    "    while current:\n",
    "        print(current.fish_name, end=\" -> \" if current.next else \"\\n\")\n",
    "        current = current.next\n",
    "\n",
    "\n",
    "def catch_fish(head):\n",
    "    dummy = Node(None, next=head)\n",
    "    curr = dummy\n",
    "    if curr.next is None:\n",
    "        print('Aw! Better luck next time!')"
   ]
  },
  {
   "cell_type": "code",
   "execution_count": 67,
   "metadata": {},
   "outputs": [
    {
     "name": "stdout",
     "output_type": "stream",
     "text": [
      "Carp -> Dace -> Cherry Salmon\n",
      "I caught a Carp\n",
      "Dace -> Cherry Salmon\n",
      "Aw! Better luck next time!\n",
      "None\n"
     ]
    }
   ],
   "source": [
    "fish_list = Node(\"Carp\", Node(\"Dace\", Node(\"Cherry Salmon\")))\n",
    "empty_list = None\n",
    "\n",
    "print_linked_list(fish_list)\n",
    "print_linked_list(catch_fish(fish_list))\n",
    "print(catch_fish(empty_list))"
   ]
  },
  {
   "cell_type": "markdown",
   "metadata": {},
   "source": [
    "## Problem 7: Fishing Probability\n",
    "Imagine that Animal Crossing is still using a linked list to represent the order fish will appear to a player who is fishing in the river! The head of the list represents the next fish that a player will catch if they keep fishing.\n",
    "\n",
    "Write a function fish_chances() that accepts the head of a list and a string fish_name. Return the probability rounded down to the nearest hundredth that the player will catch a fish of type fish_name.\n",
    "\n",
    "A function print_linked_list() which accepts the head, or first element, of a linked list and prints the list data has also been provided for testing purposes."
   ]
  },
  {
   "cell_type": "code",
   "execution_count": 94,
   "metadata": {},
   "outputs": [],
   "source": [
    "class Node:\n",
    "    def __init__(self, fish_name, next=None):\n",
    "        self.fish_name = fish_name\n",
    "        self.next = next\n",
    "\n",
    "\n",
    "# For testing\n",
    "def print_linked_list(head):\n",
    "    current = head\n",
    "    while current:\n",
    "        print(current.fish_name, end=\" -> \" if current.next else \"\\n\")\n",
    "        current = current.next\n",
    "\n",
    "\n",
    "def fish_chances(head, fish_name):\n",
    "    curr = head\n",
    "    totalFish = 0\n",
    "    targetFish = 0\n",
    "    while curr:\n",
    "        totalFish +=1\n",
    "        if curr.fish_name == fish_name:\n",
    "            targetFish +=1\n",
    "        curr = curr.next\n",
    "    return round((targetFish/totalFish), 2)"
   ]
  },
  {
   "cell_type": "code",
   "execution_count": 91,
   "metadata": {},
   "outputs": [
    {
     "name": "stdout",
     "output_type": "stream",
     "text": [
      "0.33\n",
      "0.0\n"
     ]
    }
   ],
   "source": [
    "fish_list = Node(\"Carp\", Node(\"Dace\", Node(\"Cherry Salmon\")))\n",
    "print(fish_chances(fish_list, \"Dace\"))\n",
    "print(fish_chances(fish_list, \"Rainbow Trout\"))"
   ]
  },
  {
   "cell_type": "markdown",
   "metadata": {},
   "source": [
    "## Problem 8: Restocking the Lake\n",
    "Imagine that Animal Crossing is still using a linked list to represent the order fish will appear to a player who is fishing! The head of the list represents the next fish that a player will catch if they keep fishing.\n",
    "\n",
    "Write a function restock() that accepts the head of a linked list and a string new_fish, and adds a Node with the fish_name new_fish to the end of the list. Return the head of the modified list.\n",
    "\n",
    "A function print_linked_list() which accepts the head, or first element, of a linked list and prints the list data has also been provided for testing purposes."
   ]
  },
  {
   "cell_type": "code",
   "execution_count": 135,
   "metadata": {},
   "outputs": [],
   "source": [
    "class Node:\n",
    "    def __init__(self, fish_name, next=None):\n",
    "        self.fish_name = fish_name\n",
    "        self.next = next\n",
    "\n",
    "\n",
    "# For testing\n",
    "def print_linked_list(head):\n",
    "    current = head\n",
    "    while current:\n",
    "        print(current.fish_name, end=\" -> \" if current.next else \"\\n\")\n",
    "        current = current.next\n",
    "\n",
    "\n",
    "def restock(head, new_fish):\n",
    "    new_fish = Node(new_fish)\n",
    "    if not head:\n",
    "        return new_fish\n",
    "    curr = head\n",
    "    while curr.next:\n",
    "        curr = curr.next\n",
    "        \n",
    "    curr.next = new_fish\n",
    "    print_linked_list(head)"
   ]
  },
  {
   "cell_type": "code",
   "execution_count": 136,
   "metadata": {},
   "outputs": [
    {
     "name": "stdout",
     "output_type": "stream",
     "text": [
      "Carp -> Dace -> Cherry Salmon -> Rainbow Trout\n"
     ]
    }
   ],
   "source": [
    "fish_list = Node(\"Carp\", Node(\"Dace\", Node(\"Cherry Salmon\")))\n",
    "print_linked_list(restock(fish_list, \"Rainbow Trout\"))"
   ]
  },
  {
   "cell_type": "markdown",
   "metadata": {},
   "source": [
    "# <h1 style=\"color: pink;\">Session 1: Advance Problem Set Version 2</h1>"
   ]
  },
  {
   "cell_type": "markdown",
   "metadata": {},
   "source": [
    "## Problem 1: Player Class II\n",
    "A class constructor is a special method or function that is used to create and initialize a new object from a class. Define the class constructor __init__() for a new class Player that represents Mario Kart players. The constructor accepts two required arguments: strings character and kart. The constructor should define three properties for a Player:\n",
    "\n",
    "- character, a string initialized to the argument character\n",
    "- kart, a string initialized to the argument kart\n",
    "- items, a list initialized to an empty list"
   ]
  },
  {
   "cell_type": "code",
   "execution_count": 139,
   "metadata": {},
   "outputs": [],
   "source": [
    "class Player:\n",
    "    def __init__(self, character, kart):\n",
    "        self.character = character\n",
    "        self.kart = kart\n",
    "        self.items = []"
   ]
  },
  {
   "cell_type": "code",
   "execution_count": 140,
   "metadata": {},
   "outputs": [
    {
     "name": "stdout",
     "output_type": "stream",
     "text": [
      "Yoshi\n",
      "Super Blooper\n",
      "[]\n"
     ]
    }
   ],
   "source": [
    "player_one = Player(\"Yoshi\", \"Super Blooper\")\n",
    "print(player_one.character)\n",
    "print(player_one.kart)\n",
    "print(player_one.items)"
   ]
  },
  {
   "cell_type": "markdown",
   "metadata": {},
   "source": [
    "## Problem 2: Add Special Item\n",
    "Players can pick up special items as they race.\n",
    "\n",
    "Update the Player class with a new method add_item() that takes in one parameter, item_name.\n",
    "\n",
    "The method should validate the item_name.\n",
    "\n",
    "- If the item is valid, add item_name to the player’s items attribute.\n",
    "- The method does not need to return any values.\n",
    "\n",
    "- item_name is valid if it has one of the following values: \"banana\", \"green shell\", \"red shell\", \"bob-omb\", \"super star\", \"lightning\", \"bullet bill\"."
   ]
  },
  {
   "cell_type": "code",
   "execution_count": 143,
   "metadata": {},
   "outputs": [],
   "source": [
    "class Player:\n",
    "    def __init__(self, character, kart):\n",
    "        self.character = character\n",
    "        self.kart = kart\n",
    "        self.items = []\n",
    "\n",
    "    def add_item(self, item_name):\n",
    "        valid_values = [\n",
    "            \"banana\",\n",
    "            \"green shell\",\n",
    "            \"red shell\",\n",
    "            \"bob-omb\",\n",
    "            \"super star\",\n",
    "            \"lightning\",\n",
    "            \"bullet bill\",\n",
    "        ]\n",
    "        for item in valid_values:\n",
    "            if item == item_name:\n",
    "                self.items.append(item_name)\n",
    "        "
   ]
  },
  {
   "cell_type": "code",
   "execution_count": 144,
   "metadata": {},
   "outputs": [
    {
     "name": "stdout",
     "output_type": "stream",
     "text": [
      "[]\n",
      "['red shell']\n",
      "['red shell', 'super star']\n",
      "['red shell', 'super star']\n"
     ]
    }
   ],
   "source": [
    "player_one = Player(\"Yoshi\", \"Dolphin Dasher\")\n",
    "print(player_one.items)\n",
    "\n",
    "player_one.add_item(\"red shell\")\n",
    "print(player_one.items)\n",
    "\n",
    "player_one.add_item(\"super star\")\n",
    "print(player_one.items)\n",
    "\n",
    "player_one.add_item(\"super smash\")\n",
    "print(player_one.items)"
   ]
  },
  {
   "cell_type": "markdown",
   "metadata": {},
   "source": [
    "## Problem 3: Race Results\n",
    "Given a list race_results of Player objects where the first player in the list came first in the race, the second player in the list came second, etc., write a function print_results() that prints the players in place."
   ]
  },
  {
   "cell_type": "code",
   "execution_count": 155,
   "metadata": {},
   "outputs": [],
   "source": [
    "class Player:\n",
    "    def __init__(self, character, kart):\n",
    "        self.character = character\n",
    "        self.kart = kart\n",
    "        self.items = []\n",
    "\n",
    "    # ... methods from previous problems\n",
    "\n",
    "\n",
    "def print_results(race_results):\n",
    "    for place, player in enumerate(race_results):\n",
    "        print(f'{place + 1 }. {player.character}')"
   ]
  },
  {
   "cell_type": "code",
   "execution_count": 156,
   "metadata": {},
   "outputs": [
    {
     "name": "stdout",
     "output_type": "stream",
     "text": [
      "1. Peach\n",
      "2. Mario\n",
      "3. Luigi\n"
     ]
    }
   ],
   "source": [
    "peach = Player(\"Peach\", \"Daytripper\")\n",
    "mario = Player(\"Mario\", \"Standard Kart M\")\n",
    "luigi = Player(\"Luigi\", \"Super Blooper\")\n",
    "race_one = [peach, mario, luigi]\n",
    "\n",
    "print_results(race_one)"
   ]
  },
  {
   "cell_type": "markdown",
   "metadata": {},
   "source": [
    "## Problem 4: Get Rank\n",
    "The Player class has been updated below with a new attribute ahead to represent the player currently directly ahead of them in the race.\n",
    "\n",
    "Write a function get_place() that accepts a Player object my_player and returns their current place number in the race."
   ]
  },
  {
   "cell_type": "code",
   "execution_count": 167,
   "metadata": {},
   "outputs": [],
   "source": [
    "class Player:\n",
    "    def __init__(self, character, kart, opponent=None):\n",
    "        self.character = character\n",
    "        self.kart = kart\n",
    "        self.items = []\n",
    "        self.ahead = opponent\n",
    "\n",
    "\n",
    "def get_place(my_player):\n",
    "    place = 1\n",
    "    while my_player:\n",
    "        if my_player.ahead:\n",
    "            place +=1\n",
    "        my_player = my_player.ahead\n",
    "        \n",
    "    return place"
   ]
  },
  {
   "cell_type": "code",
   "execution_count": 168,
   "metadata": {},
   "outputs": [
    {
     "name": "stdout",
     "output_type": "stream",
     "text": [
      "3\n",
      "1\n",
      "2\n"
     ]
    }
   ],
   "source": [
    "peach = Player(\"Peach\", \"Daytripper\")\n",
    "mario = Player(\"Mario\", \"Standard Kart M\", peach)\n",
    "luigi = Player(\"Luigi\", \"Super Blooper\", mario)\n",
    "\n",
    "player1_rank = get_place(luigi)\n",
    "player2_rank = get_place(peach)\n",
    "player3_rank = get_place(mario)\n",
    "\n",
    "print(player1_rank)\n",
    "print(player2_rank)\n",
    "print(player3_rank)"
   ]
  },
  {
   "cell_type": "markdown",
   "metadata": {},
   "source": [
    "## Problem 5: Daisy Chain\n",
    "A linked list is a new data type that, similar to a normal list or array, allows us to store pieces of data sequentially. The difference between a linked list and a normal list lies in how each element is stored in a computer’s memory.\n",
    "\n",
    "In a normal list, individual elements of the list are stored in adjacent memory locations according to the order they appear in the list. If we know where the first element of the list is stored, it’s really easy to find any other element in the list.\n",
    "\n",
    "In a linked list, the individual elements called nodes are not stored in sequential memory locations. Each node may be stored in an unrelated memory location. To connect nodes together into a sequential list, each node stores a reference or pointer to the next node in the list.\n",
    "\n",
    "Connect the provided node instances below to create the linked list `daisy -> peach -> luigi -> mario`.\n",
    "\n",
    "A function print_linked_list() which accepts the head, or first element, of a linked list has also been provided for testing purposes."
   ]
  },
  {
   "cell_type": "code",
   "execution_count": 170,
   "metadata": {},
   "outputs": [],
   "source": [
    "class Node:\n",
    "    def __init__(self, value, next=None):\n",
    "        self.value = value\n",
    "        self.next = next\n",
    "\n",
    "\n",
    "# For testing\n",
    "def print_linked_list(head):\n",
    "    current = head\n",
    "    while current:\n",
    "        print(current.value, end=\" -> \" if current.next else \"\\n\")\n",
    "        current = current.next\n",
    "\n",
    "\n",
    "daisy = Node(\"Daisy\")\n",
    "peach = Node(\"Peach\")\n",
    "luigi = Node(\"Luigi\")\n",
    "daisy.next = peach\n",
    "peach.next = luigi"
   ]
  },
  {
   "cell_type": "code",
   "execution_count": 171,
   "metadata": {},
   "outputs": [
    {
     "name": "stdout",
     "output_type": "stream",
     "text": [
      "Daisy -> Peach -> Luigi\n"
     ]
    }
   ],
   "source": [
    "print_linked_list(daisy)"
   ]
  },
  {
   "cell_type": "markdown",
   "metadata": {},
   "source": [
    "## Problem 6: Count Racers\n",
    "Imagine a linked list used to track the order in which Mario Kart players finished in a race. The head of the list represents the first place finisher, and the tail or last node in the list represents the last place finisher.\n",
    "\n",
    "Write a function count_racers() that accepts the head of the list and returns the number of players who participated in the race."
   ]
  },
  {
   "cell_type": "code",
   "execution_count": 179,
   "metadata": {},
   "outputs": [],
   "source": [
    "class Node:\n",
    "    def __init__(self, player, next=None):\n",
    "        self.player_name = player\n",
    "        self.next = next\n",
    "\n",
    "\n",
    "# For testing\n",
    "def print_linked_list(head):\n",
    "    current = head\n",
    "    while current:\n",
    "        print(current.player_name, end=\" -> \" if current.next else \"\\n\")\n",
    "        current = current.next\n",
    "\n",
    "\n",
    "def count_racers(head):\n",
    "    if not head:\n",
    "        return 0\n",
    "    player = 0\n",
    "    curr  = head\n",
    "    while curr:\n",
    "        player +=1\n",
    "        curr = curr.next\n",
    "    return player"
   ]
  },
  {
   "cell_type": "code",
   "execution_count": 180,
   "metadata": {},
   "outputs": [
    {
     "name": "stdout",
     "output_type": "stream",
     "text": [
      "4\n",
      "1\n",
      "0\n"
     ]
    }
   ],
   "source": [
    "racers1 = Node(\"Mario\", Node(\"Peach\", Node(\"Luigi\", Node(\"Daisy\"))))\n",
    "racers2 = Node(\"Mario\")\n",
    "\n",
    "print(count_racers(racers1))\n",
    "print(count_racers(racers2))\n",
    "print(count_racers(None))"
   ]
  },
  {
   "cell_type": "markdown",
   "metadata": {},
   "source": [
    "## Problem 7: Last Place\n",
    "Imagine a linked list used to track the order in which Mario Kart players finished in a race. The head of the list represents the first place finisher, and the tail or last node in the list represents the last place finisher.\n",
    "\n",
    "Given the head of the list, write a function last_place() that returns the player_name of the player that finished last in the race. If the list is empty, return None."
   ]
  },
  {
   "cell_type": "code",
   "execution_count": 186,
   "metadata": {},
   "outputs": [],
   "source": [
    "class Node:\n",
    "    def __init__(self, player, next=None):\n",
    "        self.player_name = player\n",
    "        self.next = next\n",
    "\n",
    "\n",
    "# For testing\n",
    "def print_linked_list(head):\n",
    "    current = head\n",
    "    while current:\n",
    "        print(current.player_name, end=\" -> \" if current.next else \"\\n\")\n",
    "        current = current.next\n",
    "\n",
    "\n",
    "def last_place(head):\n",
    "    if not head:\n",
    "        return None\n",
    "    \n",
    "    curr = head\n",
    "    while curr.next:\n",
    "        curr = curr.next\n",
    "    return curr.player_name"
   ]
  },
  {
   "cell_type": "code",
   "execution_count": 187,
   "metadata": {},
   "outputs": [
    {
     "name": "stdout",
     "output_type": "stream",
     "text": [
      "Daisy\n",
      "Mario\n",
      "None\n"
     ]
    }
   ],
   "source": [
    "racers1 = Node(\"Mario\", Node(\"Peach\", Node(\"Luigi\", Node(\"Daisy\"))))\n",
    "racers2 = Node(\"Mario\")\n",
    "\n",
    "print(last_place(racers1))\n",
    "print(last_place(racers2))\n",
    "print(last_place(None))"
   ]
  },
  {
   "cell_type": "markdown",
   "metadata": {},
   "source": [
    "## Problem 8: Update Rankings\n",
    "A 1-indexed linked list is used to track the overall standings of players in a Mario Kart tournament. Write a function increment_rank() that accepts the head of the list and an index target. The function should swap the order of the nodes at index target and index target - 1. If target is the first node in the list, return the original list. Otherwise, return the head of the modified list."
   ]
  },
  {
   "cell_type": "code",
   "execution_count": 196,
   "metadata": {},
   "outputs": [],
   "source": [
    "class Node:\n",
    "    def __init__(self, player, next=None):\n",
    "        self.player_name = player\n",
    "        self.next = next\n",
    "\n",
    "\n",
    "# For testing\n",
    "def print_linked_list(head):\n",
    "    current = head\n",
    "    while current:\n",
    "        print(current.player_name, end=\" -> \" if current.next else \"\\n\")\n",
    "        current = current.next\n",
    "\n",
    "\n",
    "def increment_rank(head, target):\n",
    "    if target <= 1 or not head or not head.next:\n",
    "        return head\n",
    "    \n",
    "    dummy = Node(None)\n",
    "    dummy.next = head\n",
    "    prev = dummy\n",
    "    curr = head\n",
    "    \n",
    "    for _ in range(target - 1):\n",
    "        if not curr.next:\n",
    "            return head\n",
    "        prev = curr\n",
    "        curr = curr.next\n",
    "    \n",
    "    prev.next = curr.next\n",
    "    curr.next = curr.next.next\n",
    "    prev.next.next = curr\n",
    "    \n",
    "    return dummy.next\n"
   ]
  },
  {
   "cell_type": "code",
   "execution_count": 197,
   "metadata": {},
   "outputs": [
    {
     "name": "stdout",
     "output_type": "stream",
     "text": [
      "Mario -> Peach -> Daisy -> Luigi\n",
      "Mario -> Luigi\n"
     ]
    }
   ],
   "source": [
    "\n",
    "racers1 = Node(\"Mario\", Node(\"Peach\", Node(\"Luigi\", Node(\"Daisy\"))))\n",
    "racers2 = Node(\"Mario\", Node(\"Luigi\"))\n",
    "\n",
    "print_linked_list(increment_rank(racers1, 3))\n",
    "print_linked_list(increment_rank(racers2, 1)) \n",
    "print_linked_list(increment_rank(None, 1)) "
   ]
  },
  {
   "cell_type": "markdown",
   "metadata": {},
   "source": [
    "# <h1 style=\"color: green;\">Session 2: Advance Problem Set Version 1</h1>"
   ]
  },
  {
   "cell_type": "markdown",
   "metadata": {},
   "source": [
    "## Problem 1: Greatest Node\n",
    "Write a function find_max() that takes in the head of a linked list and returns the maximum value in the linked list. You can assume the linked list will contain only numeric values.\n",
    "\n",
    "Evaluate the time and space complexity of your solution. Define your variables and provide a rationale for why you believe your solution has the stated time and space complexity."
   ]
  },
  {
   "cell_type": "code",
   "execution_count": 1,
   "metadata": {},
   "outputs": [],
   "source": [
    "class Node:\n",
    "    def __init__(self, value, next=None):\n",
    "        self.value = value\n",
    "        self.next = next\n",
    "\n",
    "\n",
    "# For testing\n",
    "def print_linked_list(head):\n",
    "    current = head\n",
    "    while current:\n",
    "        print(current.value, end=\" -> \" if current.next else \"\\n\")\n",
    "        current = current.next\n",
    "\n",
    "\n",
    "def find_max(head):\n",
    "    curr = head\n",
    "    maxVal = float('-inf')\n",
    "    while curr:\n",
    "        if curr.value > maxVal:\n",
    "            maxVal = curr.value\n",
    "        curr = curr.next\n",
    "    return maxVal"
   ]
  },
  {
   "cell_type": "code",
   "execution_count": 2,
   "metadata": {},
   "outputs": [
    {
     "name": "stdout",
     "output_type": "stream",
     "text": [
      "8\n",
      "8\n"
     ]
    }
   ],
   "source": [
    "head1 = Node(5, Node(6, Node(7, Node(8))))\n",
    "\n",
    "# Linked List: 5 -> 6 -> 7 -> 8\n",
    "print(find_max(head1))\n",
    "\n",
    "head2 = Node(5, Node(8, Node(6, Node(7))))\n",
    "\n",
    "# Linked List: 5 -> 8 -> 6 -> 7\n",
    "print(find_max(head2))"
   ]
  },
  {
   "cell_type": "markdown",
   "metadata": {},
   "source": [
    "## Problem 2: Remove Tail\n",
    "The following code incorrectly implements the function remove_tail(). When correctly implemented, remove_tail() accepts the head of a singly linked list and removes the last node (the tail) in the list. The function should return the head of the modified list.\n",
    "\n",
    "Step 1: Copy this code into Replit.\n",
    "\n",
    "Step 2: Create your own test cases to run the code against. Use print statements, print_linked_list(), and the stack trace to identify and fix any bugs so that the function correctly removes the last node from the list."
   ]
  },
  {
   "cell_type": "code",
   "execution_count": 15,
   "metadata": {},
   "outputs": [],
   "source": [
    "class Node:\n",
    "    def __init__(self, value=None, next=None):\n",
    "        self.value = value\n",
    "        self.next = next\n",
    "\n",
    "\n",
    "# For testing\n",
    "def print_linked_list(head):\n",
    "    current = head\n",
    "    while current:\n",
    "        print(current.value, end=\" -> \" if current.next else \"\\n\")\n",
    "        current = current.next\n",
    "\n",
    "\n",
    "def remove_tail(head):\n",
    "    if head is None:\n",
    "        return None\n",
    "    \n",
    "    if head.next is None:\n",
    "        return head\n",
    "\n",
    "    current = head\n",
    "    while current.next.next:\n",
    "        current = current.next\n",
    "\n",
    "    current.next = None\n",
    "    return head"
   ]
  },
  {
   "cell_type": "code",
   "execution_count": 16,
   "metadata": {},
   "outputs": [
    {
     "name": "stdout",
     "output_type": "stream",
     "text": [
      "Isabelle -> Alfonso\n"
     ]
    }
   ],
   "source": [
    "head = Node(\"Isabelle\", Node(\"Alfonso\", Node(\"Cyd\")))\n",
    "\n",
    "# Linked List: Isabelle -> Alfonso -> Cyd\n",
    "print_linked_list(remove_tail(head))"
   ]
  },
  {
   "cell_type": "markdown",
   "metadata": {},
   "source": [
    "## Problem 3: Delete Duplicates in a Linked List\n",
    "Given the head of a sorted linked list, delete all elements that occur more than once in the list (not just the duplicates). The resulting list should maintain sorted order. Return the head of the linked list.\n",
    "\n",
    "Evaluate the time and space complexity of your solution. Define your variables and provide a rationale for why you believe your solution has the stated time and space complexity."
   ]
  },
  {
   "cell_type": "code",
   "execution_count": 21,
   "metadata": {},
   "outputs": [],
   "source": [
    "class Node:\n",
    "    def __init__(self, value, next=None):\n",
    "        self.value = value\n",
    "        self.next = next\n",
    "\n",
    "\n",
    "# For testing\n",
    "def print_linked_list(head):\n",
    "    current = head\n",
    "    while current:\n",
    "        print(current.value, end=\" -> \" if current.next else \"\\n\")\n",
    "        current = current.next\n",
    "\n",
    "\n",
    "def delete_dupes(head):\n",
    "    if not head: return None\n",
    "    \n",
    "    curr = head\n",
    "    while curr.next:\n",
    "        if curr.value == curr.next.value:\n",
    "            new_next = curr.next.next\n",
    "            curr.next = new_next\n",
    "        curr = curr.next\n",
    "    return head"
   ]
  },
  {
   "cell_type": "code",
   "execution_count": 22,
   "metadata": {},
   "outputs": [
    {
     "name": "stdout",
     "output_type": "stream",
     "text": [
      "1 -> 2 -> 3 -> 4 -> 5\n"
     ]
    }
   ],
   "source": [
    "head = Node(1, Node(2, Node(3, Node(3, Node(4, Node(5))))))\n",
    "\n",
    "# Linked List: 1 -> 2 -> 3 -> 3 -> 4 -> 5\n",
    "print_linked_list(delete_dupes(head))\n",
    "# 1 -> 2 -> 4 -> 5"
   ]
  },
  {
   "cell_type": "markdown",
   "metadata": {},
   "source": [
    "## Problem 4: Does it Cycle?\n",
    "A variation of the two-pointer technique introduced earlier in the course is to have a slow and a fast pointer that increment at different rates. Given the head of a linked list, use the slow-fast pointer technique to write a function has_cycle() that returns True if the list has a cycle in it and False otherwise. A linked list has a cycle if at some point in the list, the node’s next pointer points back to a previous node in the list.\n",
    "\n",
    "Evaluate the time and space complexity of your solution. Define your variables and provide a rationale for why you believe your solution has the stated time and space complexity."
   ]
  },
  {
   "cell_type": "code",
   "execution_count": 29,
   "metadata": {},
   "outputs": [],
   "source": [
    "class Node:\n",
    "    def __init__(self, value, next=None):\n",
    "        self.value = value\n",
    "        self.next = next\n",
    "\n",
    "\n",
    "def has_cycle(head):\n",
    "    slow = head\n",
    "    fast = head\n",
    "    while fast.next.next:\n",
    "        if slow.value == fast.value:\n",
    "            return True\n",
    "        slow = slow.next\n",
    "        fast = fast.next.next\n",
    "    return False"
   ]
  },
  {
   "cell_type": "code",
   "execution_count": 30,
   "metadata": {},
   "outputs": [
    {
     "name": "stdout",
     "output_type": "stream",
     "text": [
      "True\n"
     ]
    }
   ],
   "source": [
    "peach = Node(\"Peach\", Node(\"Luigi\", Node(\"Mario\", Node(\"Toad\"))))\n",
    "\n",
    "print(has_cycle(peach))"
   ]
  },
  {
   "cell_type": "markdown",
   "metadata": {},
   "source": [
    "## Problem 5: Remove Nth Node From End of List\n",
    "Given the head of a linked list and an integer n, write a function remove_nth_from_end() that removes the nth node from the end of the list. The function should return the head of the modified list.\n",
    "\n",
    "Evaluate the time and space complexity of your solution. Define your variables and provide a rationale for why you believe your solution has the stated time and space complexity."
   ]
  },
  {
   "cell_type": "code",
   "execution_count": 50,
   "metadata": {},
   "outputs": [],
   "source": [
    "class Node:\n",
    "    def __init__(self, value, next=None):\n",
    "        self.value = value\n",
    "        self.next = next\n",
    "\n",
    "# For testing\n",
    "def print_linked_list(head):\n",
    "    current = head\n",
    "    while current:\n",
    "        print(current.value, end=\" -> \" if current.next else \"\\n\")\n",
    "        current = current.next\n",
    "\n",
    "def remove_nth_from_end(head, n):\n",
    "    # Create a dummy node that points to the head of the list\n",
    "    dummy = Node(None, next=head)\n",
    "    fast, slow = dummy, dummy\n",
    "    \n",
    "    for _ in range(n):\n",
    "        if fast.next:\n",
    "            fast = fast.next\n",
    "            \n",
    "    while fast and fast.next:\n",
    "        fast = fast.next\n",
    "        slow = slow.next\n",
    "        \n",
    "    slow.next = slow.next.next if slow.next else None\n",
    "    print_linked_list(dummy.next)"
   ]
  },
  {
   "cell_type": "code",
   "execution_count": 51,
   "metadata": {},
   "outputs": [
    {
     "name": "stdout",
     "output_type": "stream",
     "text": [
      "apple -> cherry -> orange -> pear\n"
     ]
    }
   ],
   "source": [
    "head1 = Node(\"apple\", Node(\"cherry\", Node(\"orange\", Node(\"peach\", Node(\"pear\")))))\n",
    "head2 = Node(\"Rainbow Trout\", Node(\"Ray\"))\n",
    "head3 = Node(\"Rainbow Stag\")\n",
    "\n",
    "\n",
    "print_linked_list(remove_nth_from_end(head1, 2))\n",
    "# print_linked_list(remove_nth_from_end(head2, 1))\n",
    "# print_linked_list(remove_nth_from_end(head3, 1))\n",
    "# apple -> cherry -> orange -> pear\n",
    "# Rainbow Trout\n",
    "\n",
    "# Example 3 Explanation: The last example returns an empty list."
   ]
  },
  {
   "cell_type": "markdown",
   "metadata": {},
   "source": [
    "## Problem 6: Careful Reverse\n",
    "Given the head of a singly linked list and an integer k, reverse the first k elements of the linked list. Return the new head of the linked list. If k is larger than the length of the list, reverse the entire list.\n",
    "\n",
    "Evaluate the time and space complexity of your solution. Define your variables and provide a rationale for why you believe your solution has the stated time and space complexity."
   ]
  },
  {
   "cell_type": "code",
   "execution_count": 112,
   "metadata": {},
   "outputs": [],
   "source": [
    "class Node:\n",
    "    def __init__(self, value, next=None):\n",
    "        self.value = value\n",
    "        self.next = next\n",
    "\n",
    "\n",
    "# For testing\n",
    "def print_linked_list(head):\n",
    "    current = head\n",
    "    while current:\n",
    "        print(current.value, end=\" -> \" if current.next else \"\\n\")\n",
    "        current = current.next\n",
    "\n",
    "\n",
    "def reverse_first_k(head, k):\n",
    "    if head is None or k == 1:\n",
    "        return head\n",
    "\n",
    "    # Step 1: Reverse the first k nodes while keeping track of length\n",
    "    prev = None\n",
    "    current = head\n",
    "    next_node = None\n",
    "    count = 0\n",
    "\n",
    "    # Reverse while counting the length\n",
    "    while current and count < k:\n",
    "        next_node = current.next\n",
    "        current.next = prev\n",
    "        prev = current\n",
    "        current = next_node\n",
    "        count += 1\n",
    "\n",
    "    # If the list has fewer than k nodes, prev becomes the new head after full reversal\n",
    "    if count < k:\n",
    "        head.next = None\n",
    "        return prev\n",
    "\n",
    "    # Step 2: Connect the reversed part to the rest of the list\n",
    "    head.next = current\n",
    "\n",
    "    # Step 3: Return the new head of the list\n",
    "    return prev"
   ]
  },
  {
   "cell_type": "code",
   "execution_count": 113,
   "metadata": {},
   "outputs": [
    {
     "name": "stdout",
     "output_type": "stream",
     "text": [
      "orange -> cherry -> apple -> peach -> pear\n"
     ]
    }
   ],
   "source": [
    "head = Node(\"apple\", Node(\"cherry\", Node(\"orange\", Node(\"peach\", Node(\"pear\")))))\n",
    "\n",
    "print_linked_list(reverse_first_k(head, 3))\n",
    "# orange -> cherry -> apple -> peach -> pear"
   ]
  },
  {
   "cell_type": "markdown",
   "metadata": {},
   "source": [
    "# <h1 style=\"color: orange;\">Session 2: Advance Problem Set Version 2</h1>"
   ]
  },
  {
   "cell_type": "markdown",
   "metadata": {},
   "source": [
    "## Problem 1: Array to Linked List\n",
    "Write a function arr_to_ll() that accepts an array of Player instances arr and converts arr into a linked list. The function should return the head of the linked list. If arr is empty, return None.\n",
    "\n",
    "A function print_linked_list() is provided, which accepts the head, or first element, of a linked list and prints the character attribute of each Player in the linked list for testing purposes.\n",
    "\n",
    "Evaluate the time and space complexity of your solution. Define your variables and provide a rationale for why you believe your solution has the stated time and space complexity."
   ]
  },
  {
   "cell_type": "code",
   "execution_count": 182,
   "metadata": {},
   "outputs": [],
   "source": [
    "class Player:\n",
    "    def __init__(self, character, kart):\n",
    "        self.character = character\n",
    "        self.kart = kart\n",
    "        self.items = []\n",
    "\n",
    "class Node:\n",
    "    def __init__(self, value, next=None):\n",
    "        self.value = value\n",
    "        self.next = next\n",
    "\n",
    "# For testing\n",
    "def print_linked_list(head):\n",
    "    current = head\n",
    "    while current:\n",
    "        print(current.value.character, end=\" -> \" if current.next else \"\\n\")\n",
    "        current = current.next\n",
    "\n",
    "def arr_to_ll(arr):\n",
    "    \n",
    "    if not arr:\n",
    "        return None\n",
    "\n",
    "    head = Node(arr[0])\n",
    "    curr = head\n",
    "    for char in arr[1:]:\n",
    "        curr.next = Node(char)\n",
    "        curr = curr.next\n",
    "        \n",
    "    return head\n",
    "\n"
   ]
  },
  {
   "cell_type": "code",
   "execution_count": 183,
   "metadata": {},
   "outputs": [
    {
     "name": "stdout",
     "output_type": "stream",
     "text": [
      "Mario -> Luigi -> Peach\n",
      "Peach\n"
     ]
    }
   ],
   "source": [
    "mario = Player(\"Mario\", \"Mushmellow\")\n",
    "luigi = Player(\"Luigi\", \"Standard LG\")\n",
    "peach = Player(\"Peach\", \"Bumble V\")\n",
    "\n",
    "print_linked_list(arr_to_ll([mario, luigi, peach]))\n",
    "print_linked_list(arr_to_ll([peach]))"
   ]
  },
  {
   "cell_type": "markdown",
   "metadata": {},
   "source": [
    "##  2: Get it Out of Here!\n",
    "The following code incorrectly implements the function remove_by_value(). When implemented correctly, remove_by_value() accepts the head of a singly linked list and a value val, and removes the first node in the linked list with the value val. It should return the head of the modified list.\n",
    "\n",
    "Step 1: Copy this code into Replit.\n",
    "\n",
    "Step 2: Create your own test cases to run the code against, and use print statements, print_linked_list(), and the stack trace to identify and fix any bug(s) so that the function correctly removes a node by value from the list."
   ]
  },
  {
   "cell_type": "code",
   "execution_count": 186,
   "metadata": {},
   "outputs": [],
   "source": [
    "class Node:\n",
    "    def __init__(self, value=None, next=None):\n",
    "        self.value = value\n",
    "        self.next = next\n",
    "\n",
    "\n",
    "# For testing\n",
    "def print_linked_list(head):\n",
    "    current = head\n",
    "    while current:\n",
    "        print(current.value, end=\" -> \" if current.next else \"\\n\")\n",
    "        current = current.next\n",
    "\n",
    "\n",
    "# Function with a bug!\n",
    "def remove_by_value(head, val):\n",
    "    if not head:\n",
    "        return None\n",
    "    if head.value == val:\n",
    "        return head.next\n",
    "\n",
    "    current = head\n",
    "    while current.next:\n",
    "        if current.next.value == val:\n",
    "            current.next = current.next.next\n",
    "            return head\n",
    "        current = current.next\n",
    "\n",
    "    return head"
   ]
  },
  {
   "cell_type": "code",
   "execution_count": 187,
   "metadata": {},
   "outputs": [
    {
     "name": "stdout",
     "output_type": "stream",
     "text": [
      "Daisy -> Mario -> Baby Peach\n"
     ]
    }
   ],
   "source": [
    "head = Node(\"Daisy\", Node(\"Mario\", Node(\"Waluigi\", Node(\"Baby Peach\"))))\n",
    "\n",
    "print_linked_list(remove_by_value(head, \"Waluigi\"))"
   ]
  },
  {
   "cell_type": "markdown",
   "metadata": {},
   "source": [
    "## Problem 3: Partition List Around Value\n",
    "Given the head of a linked list with integer values and a value val, write a function partition() that partitions the linked list around val such that all nodes with values less than val come before nodes with values greater than or equal to val.\n",
    "\n",
    "Evaluate the time and space complexity of your solution. Define your variables and provide a rationale for why you believe your solution has the stated time and space complexity."
   ]
  },
  {
   "cell_type": "code",
   "execution_count": 193,
   "metadata": {},
   "outputs": [],
   "source": [
    "class Node:\n",
    "    def __init__(self, value, next=None):\n",
    "        self.value = value\n",
    "        self.next = next\n",
    "\n",
    "\n",
    "# For testing\n",
    "def print_linked_list(head):\n",
    "    current = head\n",
    "    while current:\n",
    "        print(current.value, end=\" -> \" if current.next else \"\\n\")\n",
    "        current = current.next\n",
    "\n",
    "\n",
    "def partition(head, val):\n",
    "    less = Node(None)\n",
    "    greater = Node(None)\n",
    "    curr = head\n",
    "    while curr:\n",
    "        if val > curr.value:\n",
    "            less.next = head\n",
    "            less = less.next\n",
    "        else:\n",
    "            greater.next = head\n",
    "            greater = greater.next\n",
    "        curr = curr.next\n",
    "        \n",
    "    \n",
    "    \n",
    "    "
   ]
  },
  {
   "cell_type": "code",
   "execution_count": 194,
   "metadata": {},
   "outputs": [],
   "source": [
    "head = Node(1, Node(4, Node(3, Node(2, Node(5, Node(2))))))\n",
    "\n",
    "print_linked_list(partition(head, 3))"
   ]
  },
  {
   "cell_type": "markdown",
   "metadata": {},
   "source": [
    "<!-- 1 -> 2 -> 2 -> 4 -> 3 -> 5\n",
    "Explanation: There are multiple possible solutions.\n",
    "E.g. 2 -> 2 -> 1 -> 5 -> 4 -> 3 -->"
   ]
  }
 ],
 "metadata": {
  "kernelspec": {
   "display_name": "tf2",
   "language": "python",
   "name": "python3"
  },
  "language_info": {
   "codemirror_mode": {
    "name": "ipython",
    "version": 3
   },
   "file_extension": ".py",
   "mimetype": "text/x-python",
   "name": "python",
   "nbconvert_exporter": "python",
   "pygments_lexer": "ipython3",
   "version": "3.10.14"
  }
 },
 "nbformat": 4,
 "nbformat_minor": 2
}
