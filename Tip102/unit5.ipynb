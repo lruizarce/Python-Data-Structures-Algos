{
 "cells": [
  {
   "cell_type": "markdown",
   "metadata": {},
   "source": [
    "# <h1 style=\"color: blue;\">Session 1: Advance Problem Set Version 1</h1>"
   ]
  },
  {
   "cell_type": "markdown",
   "metadata": {},
   "source": [
    "## Problem 1: Villager Class\n",
    "A class constructor is a special method or function that is used to create and initialize a new object from a class. Define the class constructor `__init__()` for a new class Villager that represents characters in the game Animal Crossing. The constructor accepts three required arguments: strings name, species, and catchphrase. The constructor defines four properties for a Villager:\n",
    "\n",
    "- name, a string initialized to the argument name\n",
    "- species, a string initialized to the argument species\n",
    "- catchphrase, a string initialized to the argument catchphrase\n",
    "- furniture, a list initialized to an empty list"
   ]
  },
  {
   "cell_type": "code",
   "execution_count": 1,
   "metadata": {},
   "outputs": [],
   "source": [
    "class Villager:\n",
    "    def __init__(self, name, species, catchphrase):\n",
    "        self.name = name\n",
    "        self.species = species\n",
    "        self.catchphrase = catchphrase\n",
    "        self.furniture = []\n",
    "        \n"
   ]
  },
  {
   "cell_type": "code",
   "execution_count": 2,
   "metadata": {},
   "outputs": [
    {
     "name": "stdout",
     "output_type": "stream",
     "text": [
      "Apollo\n",
      "Eagle\n",
      "pah\n",
      "[]\n"
     ]
    }
   ],
   "source": [
    "apollo = Villager(\"Apollo\", \"Eagle\", \"pah\")\n",
    "print(apollo.name)\n",
    "print(apollo.species)\n",
    "print(apollo.catchphrase)\n",
    "print(apollo.furniture)"
   ]
  },
  {
   "cell_type": "markdown",
   "metadata": {},
   "source": [
    "## Problem 2: Add Furniture\n",
    "Players and villagers in Animal Crossing can add furniture to their inventory to decorate their house.\n",
    "\n",
    "Update the Villager class with a new method add_item() that takes in one parameter, item_name.\n",
    "\n",
    "The method should validate the item_name.\n",
    "\n",
    "If the item is valid, add item_name to the villager’s furniture attribute.\n",
    "The method does not need to return any values.\n",
    "item_name is valid if it has one of the following values: \"acoustic guitar\", \"ironwood kitchenette\", \"rattan armchair\", \"kotatsu\", or \"cacao tree\"."
   ]
  },
  {
   "cell_type": "code",
   "execution_count": 23,
   "metadata": {},
   "outputs": [],
   "source": [
    "class Villager:\n",
    "    def __init__(self, name, species, catchphrase):\n",
    "        self.name = name\n",
    "        self.species = species\n",
    "        self.catchphrase = catchphrase\n",
    "        self.furniture = []\n",
    "        \n",
    "    def add_item(self, item_name):\n",
    "        valid_item = [\"acoustic guitar\", \"ironwood kitchenette\", \"rattan armchair\", \"kotatsu\",\"cacao tree\"]\n",
    "        if item_name in valid_item:\n",
    "            self.furniture.append(item_name)"
   ]
  },
  {
   "cell_type": "code",
   "execution_count": 24,
   "metadata": {},
   "outputs": [
    {
     "name": "stdout",
     "output_type": "stream",
     "text": [
      "[]\n",
      "['acoustic guitar']\n",
      "['acoustic guitar', 'cacao tree']\n",
      "['acoustic guitar', 'cacao tree']\n"
     ]
    }
   ],
   "source": [
    "alice = Villager(\"Alice\", \"Koala\", \"guvnor\")\n",
    "print(alice.furniture)\n",
    "\n",
    "alice.add_item(\"acoustic guitar\")\n",
    "print(alice.furniture)\n",
    "\n",
    "alice.add_item(\"cacao tree\")\n",
    "print(alice.furniture)\n",
    "\n",
    "alice.add_item(\"nintendo switch\")\n",
    "print(alice.furniture)"
   ]
  },
  {
   "cell_type": "markdown",
   "metadata": {},
   "source": [
    "## Problem 3: Group by Personality\n",
    "The Villager class has been updated below to include the new string attribute personality representing the character's personality type.\n",
    "\n",
    "Outside of the Villager class, write a function of_personality_type(). Given a list of Villager instances townies and a string personality_type as parameters, return a list containing the names of all villagers in townies with personality personality_type. Return the names in any order."
   ]
  },
  {
   "cell_type": "code",
   "execution_count": 30,
   "metadata": {},
   "outputs": [],
   "source": [
    "class Villager:\n",
    "    def __init__(self, name, species, personality, catchphrase):\n",
    "        self.name = name\n",
    "        self.species = species\n",
    "        self.personality = personality\n",
    "        self.catchphrase = catchphrase\n",
    "        self.furniture = []\n",
    "\n",
    "    def add_item(self, item_name):\n",
    "        self.furniture.append(item_name)\n",
    "        \n",
    "def of_personality_type(townies, personality_type):\n",
    "        res = []\n",
    "        \n",
    "        for villager in townies:\n",
    "            if villager.personality == personality_type:\n",
    "                res.append(villager.name)\n",
    "        return res"
   ]
  },
  {
   "cell_type": "code",
   "execution_count": 31,
   "metadata": {},
   "outputs": [
    {
     "name": "stdout",
     "output_type": "stream",
     "text": [
      "['Bob', 'Stitches']\n",
      "[]\n"
     ]
    }
   ],
   "source": [
    "isabelle = Villager(\"Isabelle\", \"Dog\", \"Normal\", \"what's up?\")\n",
    "bob = Villager(\"Bob\", \"Cat\", \"Lazy\", \"pthhhpth\")\n",
    "stitches = Villager(\"Stitches\", \"Cub\", \"Lazy\", \"stuffin'\")\n",
    "\n",
    "print(of_personality_type([isabelle, bob, stitches], \"Lazy\"))\n",
    "print(of_personality_type([isabelle, bob, stitches], \"Cranky\"))"
   ]
  },
  {
   "cell_type": "markdown",
   "metadata": {},
   "source": [
    "## Problem 4: Telephone\n",
    "The Villager constructor has been updated to include an additional attribute neighbor. A villager's neighbor is another Villager instance and represents their closest neighbor. By default, a Villager's neighbor is set to None.\n",
    "\n",
    "Given two Villager instances start_villager and target_villager, write a function message_received() that returns True if you can pass a message from the start_villager to the target_villager through a series of neighbors and False otherwise."
   ]
  },
  {
   "cell_type": "code",
   "execution_count": 54,
   "metadata": {},
   "outputs": [],
   "source": [
    "class Villager:\n",
    "    def __init__(self, name, species, personality, catchphrase, neighbor=None):\n",
    "        self.name = name\n",
    "        self.species = species\n",
    "        self.personality = personality\n",
    "        self.catchphrase = catchphrase\n",
    "        self.furniture = []\n",
    "        self.neighbor = neighbor\n",
    "\n",
    "    # ... methods from previous problems\n",
    "    def add_item(self, item_name):\n",
    "        self.furniture.append(item_name)\n",
    "\n",
    "\n",
    "def message_received(start_villager, target_villager):\n",
    "    currVill = start_villager\n",
    "    while currVill:\n",
    "        if currVill == target_villager:\n",
    "            return True\n",
    "        currVill = currVill.neighbor\n",
    "    return False\n"
   ]
  },
  {
   "cell_type": "code",
   "execution_count": 55,
   "metadata": {},
   "outputs": [
    {
     "name": "stdout",
     "output_type": "stream",
     "text": [
      "True\n",
      "False\n"
     ]
    }
   ],
   "source": [
    "isabelle = Villager(\"Isabelle\", \"Dog\", \"Normal\", \"what's up?\")\n",
    "tom_nook = Villager(\"Tom Nook\", \"Raccoon\", \"Cranky\", \"yes, yes\")\n",
    "kk_slider = Villager(\"K.K. Slider\", \"Dog\", \"Lazy\", \"dig it\")\n",
    "isabelle.neighbor = tom_nook\n",
    "tom_nook.neighbor = kk_slider\n",
    "\n",
    "print(message_received(isabelle, kk_slider))\n",
    "print(message_received(kk_slider, isabelle))"
   ]
  },
  {
   "cell_type": "markdown",
   "metadata": {},
   "source": [
    "## Problem 5: Linked Up\n",
    "A linked list is a new data type that, similar to a normal list or array, allows us to store pieces of data sequentially. The difference between a linked list and a normal list lies in how each element is stored in a computer’s memory.\n",
    "\n",
    "In a normal list, individual elements of the list are stored in adjacent memory locations according to the order they appear in the list. If we know where the first element of the list is stored, it’s really easy to find any other element in the list.\n",
    "\n",
    "In a linked list, the individual elements called nodes are not stored in sequential memory locations. Each node may be stored in an unrelated memory location. To connect nodes together into a sequential list, each node stores a reference or pointer to the next node in the list.\n",
    "\n",
    "Connect the provided node instances below to create the linked list kk_slider -> harriet -> saharah -> isabelle.\n",
    "\n",
    "A function print_linked_list() which accepts the head, or first element, of a linked list and prints the values of the list has also been provided for testing purposes."
   ]
  },
  {
   "cell_type": "code",
   "execution_count": 57,
   "metadata": {},
   "outputs": [
    {
     "name": "stdout",
     "output_type": "stream",
     "text": [
      "K.K. Slider -> Harriet -> Saharah -> Isabelle\n"
     ]
    }
   ],
   "source": [
    "class Node:\n",
    "    def __init__(self, value, next=None):\n",
    "        self.value = value\n",
    "        self.next = next\n",
    "\n",
    "\n",
    "# For testing\n",
    "def print_linked_list(head):\n",
    "    current = head\n",
    "    while current:\n",
    "        print(current.value, end=\" -> \" if current.next else \"\\n\")\n",
    "        current = current.next\n",
    "\n",
    "\n",
    "kk_slider = Node(\"K.K. Slider\")\n",
    "harriet = Node(\"Harriet\")\n",
    "saharah = Node(\"Saharah\")\n",
    "isabelle = Node(\"Isabelle\")\n",
    "kk_slider.next = harriet\n",
    "harriet.next = saharah\n",
    "saharah.next = isabelle\n",
    "\n",
    "print_linked_list(kk_slider)"
   ]
  },
  {
   "cell_type": "markdown",
   "metadata": {},
   "source": [
    "## Problem 6: Got One!\n",
    "Imagine that behind the scenes, Animal Crossing uses a linked list to represent the order fish will appear to a player who is fishing in the river. The head of the list represents the next fish that a player will catch if they keep fishing.\n",
    "\n",
    "Write a function catch_fish() that accepts the head of a list. The function should:\n",
    "\n",
    "Print the name of the fish in the head node using the format \"I caught a <fish name>!\".\n",
    "Remove the first node in the list.\n",
    "The function should return the new head of the list. If the list is empty, print \"Aw! Better luck next time!\" and return None.\n",
    "\n",
    "A function print_linked_list() which accepts the head, or first element, of a linked list and prints the list data has also been provided for testing purposes."
   ]
  },
  {
   "cell_type": "code",
   "execution_count": 66,
   "metadata": {},
   "outputs": [],
   "source": [
    "class Node:\n",
    "    def __init__(self, fish_name, next=None):\n",
    "        self.fish_name = fish_name\n",
    "        self.next = next\n",
    "\n",
    "\n",
    "# For testing\n",
    "def print_linked_list(head):\n",
    "    current = head\n",
    "    while current:\n",
    "        print(current.fish_name, end=\" -> \" if current.next else \"\\n\")\n",
    "        current = current.next\n",
    "\n",
    "\n",
    "def catch_fish(head):\n",
    "    curr = head\n",
    "    if curr:\n",
    "        print(f'I caught a {curr.fish_name}')\n",
    "        curr = curr.next\n",
    "        print_linked_list(curr)\n",
    "    else:\n",
    "        print('Aw! Better luck next time!')\n"
   ]
  },
  {
   "cell_type": "code",
   "execution_count": 67,
   "metadata": {},
   "outputs": [
    {
     "name": "stdout",
     "output_type": "stream",
     "text": [
      "Carp -> Dace -> Cherry Salmon\n",
      "I caught a Carp\n",
      "Dace -> Cherry Salmon\n",
      "Aw! Better luck next time!\n",
      "None\n"
     ]
    }
   ],
   "source": [
    "fish_list = Node(\"Carp\", Node(\"Dace\", Node(\"Cherry Salmon\")))\n",
    "empty_list = None\n",
    "\n",
    "print_linked_list(fish_list)\n",
    "print_linked_list(catch_fish(fish_list))\n",
    "print(catch_fish(empty_list))"
   ]
  },
  {
   "cell_type": "markdown",
   "metadata": {},
   "source": [
    "## Problem 7: Fishing Probability\n",
    "Imagine that Animal Crossing is still using a linked list to represent the order fish will appear to a player who is fishing in the river! The head of the list represents the next fish that a player will catch if they keep fishing.\n",
    "\n",
    "Write a function fish_chances() that accepts the head of a list and a string fish_name. Return the probability rounded down to the nearest hundredth that the player will catch a fish of type fish_name.\n",
    "\n",
    "A function print_linked_list() which accepts the head, or first element, of a linked list and prints the list data has also been provided for testing purposes."
   ]
  },
  {
   "cell_type": "code",
   "execution_count": 94,
   "metadata": {},
   "outputs": [],
   "source": [
    "class Node:\n",
    "    def __init__(self, fish_name, next=None):\n",
    "        self.fish_name = fish_name\n",
    "        self.next = next\n",
    "\n",
    "\n",
    "# For testing\n",
    "def print_linked_list(head):\n",
    "    current = head\n",
    "    while current:\n",
    "        print(current.fish_name, end=\" -> \" if current.next else \"\\n\")\n",
    "        current = current.next\n",
    "\n",
    "\n",
    "def fish_chances(head, fish_name):\n",
    "    curr = head\n",
    "    totalFish = 0\n",
    "    targetFish = 0\n",
    "    while curr:\n",
    "        totalFish +=1\n",
    "        if curr.fish_name == fish_name:\n",
    "            targetFish +=1\n",
    "        curr = curr.next\n",
    "    return round((targetFish/totalFish), 2)"
   ]
  },
  {
   "cell_type": "code",
   "execution_count": 91,
   "metadata": {},
   "outputs": [
    {
     "name": "stdout",
     "output_type": "stream",
     "text": [
      "0.33\n",
      "0.0\n"
     ]
    }
   ],
   "source": [
    "fish_list = Node(\"Carp\", Node(\"Dace\", Node(\"Cherry Salmon\")))\n",
    "print(fish_chances(fish_list, \"Dace\"))\n",
    "print(fish_chances(fish_list, \"Rainbow Trout\"))"
   ]
  },
  {
   "cell_type": "markdown",
   "metadata": {},
   "source": [
    "## Problem 8: Restocking the Lake\n",
    "Imagine that Animal Crossing is still using a linked list to represent the order fish will appear to a player who is fishing! The head of the list represents the next fish that a player will catch if they keep fishing.\n",
    "\n",
    "Write a function restock() that accepts the head of a linked list and a string new_fish, and adds a Node with the fish_name new_fish to the end of the list. Return the head of the modified list.\n",
    "\n",
    "A function print_linked_list() which accepts the head, or first element, of a linked list and prints the list data has also been provided for testing purposes."
   ]
  },
  {
   "cell_type": "code",
   "execution_count": 135,
   "metadata": {},
   "outputs": [],
   "source": [
    "class Node:\n",
    "    def __init__(self, fish_name, next=None):\n",
    "        self.fish_name = fish_name\n",
    "        self.next = next\n",
    "\n",
    "\n",
    "# For testing\n",
    "def print_linked_list(head):\n",
    "    current = head\n",
    "    while current:\n",
    "        print(current.fish_name, end=\" -> \" if current.next else \"\\n\")\n",
    "        current = current.next\n",
    "\n",
    "\n",
    "def restock(head, new_fish):\n",
    "    new_fish = Node(new_fish)\n",
    "    if not head:\n",
    "        return new_fish\n",
    "    curr = head\n",
    "    while curr.next:\n",
    "        curr = curr.next\n",
    "        \n",
    "    curr.next = new_fish\n",
    "    print_linked_list(head)"
   ]
  },
  {
   "cell_type": "code",
   "execution_count": 136,
   "metadata": {},
   "outputs": [
    {
     "name": "stdout",
     "output_type": "stream",
     "text": [
      "Carp -> Dace -> Cherry Salmon -> Rainbow Trout\n"
     ]
    }
   ],
   "source": [
    "fish_list = Node(\"Carp\", Node(\"Dace\", Node(\"Cherry Salmon\")))\n",
    "print_linked_list(restock(fish_list, \"Rainbow Trout\"))"
   ]
  },
  {
   "cell_type": "markdown",
   "metadata": {},
   "source": [
    "# <h1 style=\"color: pink;\">Session 1: Advance Problem Set Version 2</h1>"
   ]
  },
  {
   "cell_type": "markdown",
   "metadata": {},
   "source": [
    "## Problem 1: Player Class II\n",
    "A class constructor is a special method or function that is used to create and initialize a new object from a class. Define the class constructor __init__() for a new class Player that represents Mario Kart players. The constructor accepts two required arguments: strings character and kart. The constructor should define three properties for a Player:\n",
    "\n",
    "- character, a string initialized to the argument character\n",
    "- kart, a string initialized to the argument kart\n",
    "- items, a list initialized to an empty list"
   ]
  },
  {
   "cell_type": "code",
   "execution_count": 139,
   "metadata": {},
   "outputs": [],
   "source": [
    "class Player:\n",
    "    def __init__(self, character, kart):\n",
    "        self.character = character\n",
    "        self.kart = kart\n",
    "        self.items = []"
   ]
  },
  {
   "cell_type": "code",
   "execution_count": 140,
   "metadata": {},
   "outputs": [
    {
     "name": "stdout",
     "output_type": "stream",
     "text": [
      "Yoshi\n",
      "Super Blooper\n",
      "[]\n"
     ]
    }
   ],
   "source": [
    "player_one = Player(\"Yoshi\", \"Super Blooper\")\n",
    "print(player_one.character)\n",
    "print(player_one.kart)\n",
    "print(player_one.items)"
   ]
  },
  {
   "cell_type": "markdown",
   "metadata": {},
   "source": [
    "## Problem 2: Add Special Item\n",
    "Players can pick up special items as they race.\n",
    "\n",
    "Update the Player class with a new method add_item() that takes in one parameter, item_name.\n",
    "\n",
    "The method should validate the item_name.\n",
    "\n",
    "- If the item is valid, add item_name to the player’s items attribute.\n",
    "- The method does not need to return any values.\n",
    "\n",
    "- item_name is valid if it has one of the following values: \"banana\", \"green shell\", \"red shell\", \"bob-omb\", \"super star\", \"lightning\", \"bullet bill\"."
   ]
  },
  {
   "cell_type": "code",
   "execution_count": 143,
   "metadata": {},
   "outputs": [],
   "source": [
    "class Player:\n",
    "    def __init__(self, character, kart):\n",
    "        self.character = character\n",
    "        self.kart = kart\n",
    "        self.items = []\n",
    "\n",
    "    def add_item(self, item_name):\n",
    "        valid_values = [\n",
    "            \"banana\",\n",
    "            \"green shell\",\n",
    "            \"red shell\",\n",
    "            \"bob-omb\",\n",
    "            \"super star\",\n",
    "            \"lightning\",\n",
    "            \"bullet bill\",\n",
    "        ]\n",
    "        for item in valid_values:\n",
    "            if item == item_name:\n",
    "                self.items.append(item_name)\n",
    "        "
   ]
  },
  {
   "cell_type": "code",
   "execution_count": 144,
   "metadata": {},
   "outputs": [
    {
     "name": "stdout",
     "output_type": "stream",
     "text": [
      "[]\n",
      "['red shell']\n",
      "['red shell', 'super star']\n",
      "['red shell', 'super star']\n"
     ]
    }
   ],
   "source": [
    "player_one = Player(\"Yoshi\", \"Dolphin Dasher\")\n",
    "print(player_one.items)\n",
    "\n",
    "player_one.add_item(\"red shell\")\n",
    "print(player_one.items)\n",
    "\n",
    "player_one.add_item(\"super star\")\n",
    "print(player_one.items)\n",
    "\n",
    "player_one.add_item(\"super smash\")\n",
    "print(player_one.items)"
   ]
  },
  {
   "cell_type": "markdown",
   "metadata": {},
   "source": [
    "## Problem 3: Race Results\n",
    "Given a list race_results of Player objects where the first player in the list came first in the race, the second player in the list came second, etc., write a function print_results() that prints the players in place."
   ]
  },
  {
   "cell_type": "code",
   "execution_count": 155,
   "metadata": {},
   "outputs": [],
   "source": [
    "class Player:\n",
    "    def __init__(self, character, kart):\n",
    "        self.character = character\n",
    "        self.kart = kart\n",
    "        self.items = []\n",
    "\n",
    "    # ... methods from previous problems\n",
    "\n",
    "\n",
    "def print_results(race_results):\n",
    "    for place, player in enumerate(race_results):\n",
    "        print(f'{place + 1 }. {player.character}')"
   ]
  },
  {
   "cell_type": "code",
   "execution_count": 156,
   "metadata": {},
   "outputs": [
    {
     "name": "stdout",
     "output_type": "stream",
     "text": [
      "1. Peach\n",
      "2. Mario\n",
      "3. Luigi\n"
     ]
    }
   ],
   "source": [
    "peach = Player(\"Peach\", \"Daytripper\")\n",
    "mario = Player(\"Mario\", \"Standard Kart M\")\n",
    "luigi = Player(\"Luigi\", \"Super Blooper\")\n",
    "race_one = [peach, mario, luigi]\n",
    "\n",
    "print_results(race_one)"
   ]
  },
  {
   "cell_type": "markdown",
   "metadata": {},
   "source": [
    "## Problem 4: Get Rank\n",
    "The Player class has been updated below with a new attribute ahead to represent the player currently directly ahead of them in the race.\n",
    "\n",
    "Write a function get_place() that accepts a Player object my_player and returns their current place number in the race."
   ]
  },
  {
   "cell_type": "code",
   "execution_count": 167,
   "metadata": {},
   "outputs": [],
   "source": [
    "class Player:\n",
    "    def __init__(self, character, kart, opponent=None):\n",
    "        self.character = character\n",
    "        self.kart = kart\n",
    "        self.items = []\n",
    "        self.ahead = opponent\n",
    "\n",
    "\n",
    "def get_place(my_player):\n",
    "    place = 1\n",
    "    while my_player:\n",
    "        if my_player.ahead:\n",
    "            place +=1\n",
    "        my_player = my_player.ahead\n",
    "        \n",
    "    return place"
   ]
  },
  {
   "cell_type": "code",
   "execution_count": 168,
   "metadata": {},
   "outputs": [
    {
     "name": "stdout",
     "output_type": "stream",
     "text": [
      "3\n",
      "1\n",
      "2\n"
     ]
    }
   ],
   "source": [
    "peach = Player(\"Peach\", \"Daytripper\")\n",
    "mario = Player(\"Mario\", \"Standard Kart M\", peach)\n",
    "luigi = Player(\"Luigi\", \"Super Blooper\", mario)\n",
    "\n",
    "player1_rank = get_place(luigi)\n",
    "player2_rank = get_place(peach)\n",
    "player3_rank = get_place(mario)\n",
    "\n",
    "print(player1_rank)\n",
    "print(player2_rank)\n",
    "print(player3_rank)"
   ]
  },
  {
   "cell_type": "markdown",
   "metadata": {},
   "source": [
    "## Problem 5: Daisy Chain\n",
    "A linked list is a new data type that, similar to a normal list or array, allows us to store pieces of data sequentially. The difference between a linked list and a normal list lies in how each element is stored in a computer’s memory.\n",
    "\n",
    "In a normal list, individual elements of the list are stored in adjacent memory locations according to the order they appear in the list. If we know where the first element of the list is stored, it’s really easy to find any other element in the list.\n",
    "\n",
    "In a linked list, the individual elements called nodes are not stored in sequential memory locations. Each node may be stored in an unrelated memory location. To connect nodes together into a sequential list, each node stores a reference or pointer to the next node in the list.\n",
    "\n",
    "Connect the provided node instances below to create the linked list `daisy -> peach -> luigi -> mario`.\n",
    "\n",
    "A function print_linked_list() which accepts the head, or first element, of a linked list has also been provided for testing purposes."
   ]
  },
  {
   "cell_type": "code",
   "execution_count": 170,
   "metadata": {},
   "outputs": [],
   "source": [
    "class Node:\n",
    "    def __init__(self, value, next=None):\n",
    "        self.value = value\n",
    "        self.next = next\n",
    "\n",
    "\n",
    "# For testing\n",
    "def print_linked_list(head):\n",
    "    current = head\n",
    "    while current:\n",
    "        print(current.value, end=\" -> \" if current.next else \"\\n\")\n",
    "        current = current.next\n",
    "\n",
    "\n",
    "daisy = Node(\"Daisy\")\n",
    "peach = Node(\"Peach\")\n",
    "luigi = Node(\"Luigi\")\n",
    "daisy.next = peach\n",
    "peach.next = luigi"
   ]
  },
  {
   "cell_type": "code",
   "execution_count": 171,
   "metadata": {},
   "outputs": [
    {
     "name": "stdout",
     "output_type": "stream",
     "text": [
      "Daisy -> Peach -> Luigi\n"
     ]
    }
   ],
   "source": [
    "print_linked_list(daisy)"
   ]
  },
  {
   "cell_type": "markdown",
   "metadata": {},
   "source": [
    "## Problem 6: Count Racers\n",
    "Imagine a linked list used to track the order in which Mario Kart players finished in a race. The head of the list represents the first place finisher, and the tail or last node in the list represents the last place finisher.\n",
    "\n",
    "Write a function count_racers() that accepts the head of the list and returns the number of players who participated in the race."
   ]
  },
  {
   "cell_type": "code",
   "execution_count": 179,
   "metadata": {},
   "outputs": [],
   "source": [
    "class Node:\n",
    "    def __init__(self, player, next=None):\n",
    "        self.player_name = player\n",
    "        self.next = next\n",
    "\n",
    "\n",
    "# For testing\n",
    "def print_linked_list(head):\n",
    "    current = head\n",
    "    while current:\n",
    "        print(current.player_name, end=\" -> \" if current.next else \"\\n\")\n",
    "        current = current.next\n",
    "\n",
    "\n",
    "def count_racers(head):\n",
    "    if not head:\n",
    "        return 0\n",
    "    player = 0\n",
    "    curr  = head\n",
    "    while curr:\n",
    "        player +=1\n",
    "        curr = curr.next\n",
    "    return player"
   ]
  },
  {
   "cell_type": "code",
   "execution_count": 180,
   "metadata": {},
   "outputs": [
    {
     "name": "stdout",
     "output_type": "stream",
     "text": [
      "4\n",
      "1\n",
      "0\n"
     ]
    }
   ],
   "source": [
    "racers1 = Node(\"Mario\", Node(\"Peach\", Node(\"Luigi\", Node(\"Daisy\"))))\n",
    "racers2 = Node(\"Mario\")\n",
    "\n",
    "print(count_racers(racers1))\n",
    "print(count_racers(racers2))\n",
    "print(count_racers(None))"
   ]
  },
  {
   "cell_type": "markdown",
   "metadata": {},
   "source": [
    "## Problem 7: Last Place\n",
    "Imagine a linked list used to track the order in which Mario Kart players finished in a race. The head of the list represents the first place finisher, and the tail or last node in the list represents the last place finisher.\n",
    "\n",
    "Given the head of the list, write a function last_place() that returns the player_name of the player that finished last in the race. If the list is empty, return None."
   ]
  },
  {
   "cell_type": "code",
   "execution_count": 186,
   "metadata": {},
   "outputs": [],
   "source": [
    "class Node:\n",
    "    def __init__(self, player, next=None):\n",
    "        self.player_name = player\n",
    "        self.next = next\n",
    "\n",
    "\n",
    "# For testing\n",
    "def print_linked_list(head):\n",
    "    current = head\n",
    "    while current:\n",
    "        print(current.player_name, end=\" -> \" if current.next else \"\\n\")\n",
    "        current = current.next\n",
    "\n",
    "\n",
    "def last_place(head):\n",
    "    if not head:\n",
    "        return None\n",
    "    \n",
    "    curr = head\n",
    "    while curr.next:\n",
    "        curr = curr.next\n",
    "    return curr.player_name"
   ]
  },
  {
   "cell_type": "code",
   "execution_count": 187,
   "metadata": {},
   "outputs": [
    {
     "name": "stdout",
     "output_type": "stream",
     "text": [
      "Daisy\n",
      "Mario\n",
      "None\n"
     ]
    }
   ],
   "source": [
    "racers1 = Node(\"Mario\", Node(\"Peach\", Node(\"Luigi\", Node(\"Daisy\"))))\n",
    "racers2 = Node(\"Mario\")\n",
    "\n",
    "print(last_place(racers1))\n",
    "print(last_place(racers2))\n",
    "print(last_place(None))"
   ]
  },
  {
   "cell_type": "markdown",
   "metadata": {},
   "source": [
    "## Problem 8: Update Rankings\n",
    "A 1-indexed linked list is used to track the overall standings of players in a Mario Kart tournament. Write a function increment_rank() that accepts the head of the list and an index target. The function should swap the order of the nodes at index target and index target - 1. If target is the first node in the list, return the original list. Otherwise, return the head of the modified list."
   ]
  },
  {
   "cell_type": "code",
   "execution_count": 196,
   "metadata": {},
   "outputs": [],
   "source": [
    "class Node:\n",
    "    def __init__(self, player, next=None):\n",
    "        self.player_name = player\n",
    "        self.next = next\n",
    "\n",
    "\n",
    "# For testing\n",
    "def print_linked_list(head):\n",
    "    current = head\n",
    "    while current:\n",
    "        print(current.player_name, end=\" -> \" if current.next else \"\\n\")\n",
    "        current = current.next\n",
    "\n",
    "\n",
    "def increment_rank(head, target):\n",
    "    if target <= 1 or not head or not head.next:\n",
    "        return head\n",
    "    \n",
    "    dummy = Node(None)\n",
    "    dummy.next = head\n",
    "    prev = dummy\n",
    "    curr = head\n",
    "    \n",
    "    for _ in range(target - 1):\n",
    "        if not curr.next:\n",
    "            return head\n",
    "        prev = curr\n",
    "        curr = curr.next\n",
    "    \n",
    "    prev.next = curr.next\n",
    "    curr.next = curr.next.next\n",
    "    prev.next.next = curr\n",
    "    \n",
    "    return dummy.next\n"
   ]
  },
  {
   "cell_type": "code",
   "execution_count": 197,
   "metadata": {},
   "outputs": [
    {
     "name": "stdout",
     "output_type": "stream",
     "text": [
      "Mario -> Peach -> Daisy -> Luigi\n",
      "Mario -> Luigi\n"
     ]
    }
   ],
   "source": [
    "\n",
    "racers1 = Node(\"Mario\", Node(\"Peach\", Node(\"Luigi\", Node(\"Daisy\"))))\n",
    "racers2 = Node(\"Mario\", Node(\"Luigi\"))\n",
    "\n",
    "print_linked_list(increment_rank(racers1, 3))\n",
    "print_linked_list(increment_rank(racers2, 1)) \n",
    "print_linked_list(increment_rank(None, 1)) "
   ]
  },
  {
   "cell_type": "markdown",
   "metadata": {},
   "source": [
    "# <h1 style=\"color: green;\">Session 2: Advance Problem Set Version 1</h1>"
   ]
  },
  {
   "cell_type": "markdown",
   "metadata": {},
   "source": [
    "# <h1 style=\"color: orange;\">Session 2: Advance Problem Set Version 2</h1>"
   ]
  },
  {
   "cell_type": "markdown",
   "metadata": {},
   "source": []
  }
 ],
 "metadata": {
  "kernelspec": {
   "display_name": "tf2",
   "language": "python",
   "name": "python3"
  },
  "language_info": {
   "codemirror_mode": {
    "name": "ipython",
    "version": 3
   },
   "file_extension": ".py",
   "mimetype": "text/x-python",
   "name": "python",
   "nbconvert_exporter": "python",
   "pygments_lexer": "ipython3",
   "version": "3.10.14"
  }
 },
 "nbformat": 4,
 "nbformat_minor": 2
}
