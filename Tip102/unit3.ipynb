{
 "cells": [
  {
   "cell_type": "markdown",
   "metadata": {},
   "source": [
    "# <h1 style=\"color: green;\">Session 1: Standard Problem Set Version 1</h1>"
   ]
  },
  {
   "cell_type": "markdown",
   "metadata": {},
   "source": [
    "## Problem 1: Post Format Validator\n",
    "You are managing a social media platform and need to ensure that posts are properly formatted. Each post must have balanced and correctly nested tags, such as () for mentions, [] for hashtags, and {} for links. You are given a string representing a post's content, and your task is to determine if the tags in the post are correctly formatted.\n",
    "\n",
    "A post is considered valid if:\n",
    "\n",
    "1. Every opening tag has a corresponding closing tag of the same type.\n",
    "2. Tags are closed in the correct order."
   ]
  },
  {
   "cell_type": "code",
   "execution_count": 68,
   "metadata": {},
   "outputs": [],
   "source": [
    "\n",
    "def is_valid_post_format(posts):\n",
    "    stack = []\n",
    "    tags = {')':'(', ']':'[', '}':'{'}\n",
    "    \n",
    "    for tag in posts:\n",
    "        if tag in tags.values():\n",
    "            stack.append(tag)\n",
    "        elif stack == [] or tags[tag] != stack.pop():\n",
    "            return False\n",
    "    return stack == []"
   ]
  },
  {
   "cell_type": "code",
   "execution_count": 69,
   "metadata": {},
   "outputs": [
    {
     "name": "stdout",
     "output_type": "stream",
     "text": [
      "True\n",
      "True\n",
      "False\n"
     ]
    }
   ],
   "source": [
    "print(is_valid_post_format(\"()\"))\n",
    "print(is_valid_post_format(\"()[]{}\"))\n",
    "print(is_valid_post_format(\"(]\"))\n",
    "\n",
    "# True\n",
    "# True\n",
    "# False"
   ]
  },
  {
   "cell_type": "markdown",
   "metadata": {},
   "source": [
    "## Problem 2: Reverse User Comments Queue\n",
    "On your platform, comments on posts are displayed in the order they are received. However, for a special feature, you need to reverse the order of comments before displaying them. Given a queue of comments represented as a list of strings, reverse the order using a stack."
   ]
  },
  {
   "cell_type": "code",
   "execution_count": 72,
   "metadata": {},
   "outputs": [],
   "source": [
    "def reverse_comments_queue(comments):\n",
    "    reversed_stack = []\n",
    "    for _ in range(len(comments)):\n",
    "        reversed_stack.append(comments.pop())\n",
    "    return reversed_stack\n",
    "    \n",
    "    "
   ]
  },
  {
   "cell_type": "code",
   "execution_count": 73,
   "metadata": {},
   "outputs": [
    {
     "name": "stdout",
     "output_type": "stream",
     "text": [
      "['Thanks for sharing.', 'Love it!', 'Great post!']\n",
      "['Well written.', 'Interesting read.', 'First!']\n"
     ]
    }
   ],
   "source": [
    "print(reverse_comments_queue([\"Great post!\", \"Love it!\", \"Thanks for sharing.\"]))\n",
    "\n",
    "print(reverse_comments_queue([\"First!\", \"Interesting read.\", \"Well written.\"]))"
   ]
  },
  {
   "cell_type": "markdown",
   "metadata": {},
   "source": [
    "## Problem 3: Check Symmetry in Post Titles\n",
    "As part of a new feature on your social media platform, you want to highlight post titles that are symmetrical, meaning they read the same forwards and backwards when ignoring spaces, punctuation, and case. Given a post title as a string, use a new algorithmic technique the `two-pointer method` to determine if the title is symmetrical."
   ]
  },
  {
   "cell_type": "code",
   "execution_count": 102,
   "metadata": {},
   "outputs": [],
   "source": [
    "def is_symmetrical_title(title):\n",
    "    title = title.lower().replace(' ', '')\n",
    "    l, r = 0, len(title)-1\n",
    "    while l < r:\n",
    "        if title[l] != title[r]:\n",
    "            return False\n",
    "        l +=1\n",
    "        r -=1\n",
    "    return True"
   ]
  },
  {
   "cell_type": "code",
   "execution_count": 103,
   "metadata": {},
   "outputs": [
    {
     "name": "stdout",
     "output_type": "stream",
     "text": [
      "True\n",
      "False\n"
     ]
    }
   ],
   "source": [
    "print(is_symmetrical_title(\"A Santa at NASA\"))\n",
    "print(is_symmetrical_title(\"Social Media\"))"
   ]
  },
  {
   "cell_type": "markdown",
   "metadata": {},
   "source": [
    "## Problem 4: Engagement Boost\n",
    "You track your daily engagement rates as a list of integers, sorted in non-decreasing order. To analyze the impact of certain strategies, you decide to square each engagement rate and then sort the results in non-decreasing order.\n",
    "\n",
    "Given an integer array `engagements` sorted in non-decreasing order, return an array of the squares of each number sorted in non-decreasing order.\n",
    "\n",
    "Your Task:\n",
    "\n",
    "- Read through the existing solution and add comments so that everyone in your pod understands how it works.\n",
    "- Modify the solution below to use the two-pointer technique."
   ]
  },
  {
   "cell_type": "code",
   "execution_count": 62,
   "metadata": {},
   "outputs": [],
   "source": [
    "def engagement_boost(engagements):\n",
    "    # clarity \n",
    "    n = len(engagements)\n",
    "    # create a result list of length n\n",
    "    result = [0] * n\n",
    "    # pointers\n",
    "    left, right = 0, n - 1\n",
    "    # keep track of indexes\n",
    "    position = n - 1\n",
    "    # traverse the engagements\n",
    "    while left <= right:\n",
    "        # calculate the square for both left & right values\n",
    "        left_square = engagements[left] * engagements[left]\n",
    "        right_square = engagements[right] * engagements[right]\n",
    "        # compare the left and right squared values\n",
    "        if left_square > right_square:\n",
    "            # add the greater value at the index of position\n",
    "            result[position] = left_square\n",
    "            left += 1\n",
    "        else:\n",
    "            result[position] = right_square\n",
    "            right -= 1\n",
    "        # we decrement position\n",
    "        position -= 1\n",
    "\n",
    "    return result"
   ]
  },
  {
   "cell_type": "code",
   "execution_count": 63,
   "metadata": {},
   "outputs": [
    {
     "name": "stdout",
     "output_type": "stream",
     "text": [
      "[0, 1, 9, 16, 100]\n",
      "[4, 9, 9, 49, 121]\n"
     ]
    }
   ],
   "source": [
    "print(engagement_boost([-4, -1, 0, 3, 10]))\n",
    "print(engagement_boost([-7, -3, 2, 3, 11]))\n",
    "\n",
    "# [0, 1, 9, 16, 100]\n",
    "# [4, 9, 9, 49, 121]"
   ]
  },
  {
   "cell_type": "markdown",
   "metadata": {},
   "source": [
    "## Problem 5: Content Cleaner\n",
    "You want to make sure your posts are clean and professional. Given a string post of lowercase and uppercase English letters, you want to remove any pairs of adjacent characters where one is the lowercase version of a letter and the other is the uppercase version of the same letter. Keep removing such pairs until the post is clean.\n",
    "\n",
    "A clean post does not have two adjacent characters post[i] and post[i + 1] where:\n",
    "\n",
    "- post[i] is a lowercase letter and post[i + 1] is the same letter in uppercase or vice-versa.\n",
    "Return the clean post.\n",
    "\n",
    "Note that an empty string is also considered clean."
   ]
  },
  {
   "cell_type": "code",
   "execution_count": 106,
   "metadata": {},
   "outputs": [],
   "source": [
    "def clean_post(post):\n",
    "    stack = []\n",
    "    \n",
    "    for char in post:\n",
    "        if stack and (char == stack[-1].swapcase()):\n",
    "            stack.pop()\n",
    "        else:\n",
    "            stack.append(char)\n",
    "    return ''.join(stack)    \n",
    "        "
   ]
  },
  {
   "cell_type": "code",
   "execution_count": 107,
   "metadata": {},
   "outputs": [
    {
     "name": "stdout",
     "output_type": "stream",
     "text": [
      "post\n",
      "\n",
      "s\n"
     ]
    }
   ],
   "source": [
    "print(clean_post(\"poOost\"))\n",
    "print(clean_post(\"abBAcC\"))\n",
    "print(clean_post(\"s\"))"
   ]
  },
  {
   "cell_type": "markdown",
   "metadata": {},
   "source": [
    "## Problem 6: Post Editor\n",
    "You want to add a creative twist to your posts by reversing the order of characters in each word within your `post` while still preserving whitespace and the initial word order. Given a string post, use a queue to reverse the order of characters in each word within the sentence."
   ]
  },
  {
   "cell_type": "code",
   "execution_count": 120,
   "metadata": {},
   "outputs": [],
   "source": [
    "def reverse(word):\n",
    "    return word[::-1]\n",
    "\n",
    "def edit_post(post):\n",
    "    res = []\n",
    "    for word in post.split():\n",
    "        reversed_word = reverse(word)\n",
    "        res.append(reversed_word)\n",
    "    return ' '.join(res)\n",
    "        \n",
    "# return \" \".join(word[::-1] for word in post.split())"
   ]
  },
  {
   "cell_type": "code",
   "execution_count": 121,
   "metadata": {},
   "outputs": [
    {
     "name": "stdout",
     "output_type": "stream",
     "text": [
      "tsooB ruoy tnemegagne htiw eseht spit\n",
      "kcehC tuo ym tsetal golv\n"
     ]
    }
   ],
   "source": [
    "print(edit_post(\"Boost your engagement with these tips\"))\n",
    "print(edit_post(\"Check out my latest vlog\"))\n",
    "\n",
    "# tsooB ruoy tnemegegna htiw esehT spit\n",
    "# kcehC tuo ym tseval golv"
   ]
  },
  {
   "cell_type": "markdown",
   "metadata": {},
   "source": [
    "## Problem 7: Post Compare\n",
    "You often draft your posts and edit them before publishing. Given two draft strings `draft1` and `draft2`, return `true` if they are equal when both are typed into empty text editors. `#` means a backspace character.\n",
    "\n",
    "Note that after backspacing an empty text, the text will remain empty."
   ]
  },
  {
   "cell_type": "code",
   "execution_count": 132,
   "metadata": {},
   "outputs": [],
   "source": [
    "def post_compare(draft1, draft2):\n",
    "    draft1 = draft1.replace('#', '')\n",
    "    draft2 = draft2.replace('#', '')\n",
    "    return len(draft1) == len(draft2)\n",
    "    "
   ]
  },
  {
   "cell_type": "code",
   "execution_count": 133,
   "metadata": {},
   "outputs": [
    {
     "name": "stdout",
     "output_type": "stream",
     "text": [
      "True\n",
      "True\n",
      "False\n"
     ]
    }
   ],
   "source": [
    "print(post_compare(\"ab#c\", \"ad#c\"))\n",
    "print(post_compare(\"ab##\", \"c#d#\"))\n",
    "print(post_compare(\"a#c\", \"b\"))\n",
    "# True\n",
    "# True\n",
    "# False"
   ]
  },
  {
   "cell_type": "markdown",
   "metadata": {},
   "source": [
    "# <h1 style=\"color: blue;\">Session 1: Advanced Problem Set Version 1</h1>"
   ]
  },
  {
   "cell_type": "markdown",
   "metadata": {},
   "source": [
    "## <h2 style= \"color: blue;\"> Problem 1: Arrange Guest Arrival Order </h2>\n",
    "You are organizing a prestigious event, and you must arrange the order in which guests arrive based on their status. The sequence is dictated by a 0-indexed string arrival_pattern of length n, consisting of the characters 'I' meaning the next guest should have a higher status than the previous one, and 'D' meaning the next guest should have a lower status than the previous one.\n",
    "\n",
    "You need to create a 0-indexed string guest_order of length n + 1 that satisfies the following conditions:\n",
    "\n",
    "guest_order consists of the digits '1' to '9', where each digit represents the guest's status and is used at most once.\n",
    "If arrival_pattern[i] == 'I', then guest_order[i] < guest_order[i + 1].\n",
    "If arrival_pattern[i] == 'D', then guest_order[i] > guest_order[i + 1].\n",
    "Return the lexicographically smallest possible string guest_order that meets the conditions."
   ]
  },
  {
   "cell_type": "code",
   "execution_count": 2,
   "metadata": {},
   "outputs": [],
   "source": [
    "def arrange_guest_arrival_order(arrival_pattern):\n",
    "    stack = []  # Initialize an empty stack to hold the guest statuses temporarily\n",
    "    guest = []  # Initialize an empty list to hold the final guest order\n",
    "    \n",
    "    # Iterate through the arrival pattern plus one additional iteration for the last guest\n",
    "    for i in range(len(arrival_pattern) + 1):\n",
    "        stack.append(str(i + 1))  # Push the next guest status onto the stack\n",
    "        \n",
    "        # If we reach the end of the pattern or encounter an 'I', pop all elements from the stack\n",
    "        if i == len(arrival_pattern) or arrival_pattern[i] == 'I':\n",
    "            while stack:\n",
    "                guest.append(stack.pop())  # Pop from the stack and append to the guest list\n",
    "    \n",
    "    return ''.join(guest)  # Join the list into a string and return it\n"
   ]
  },
  {
   "cell_type": "code",
   "execution_count": 3,
   "metadata": {},
   "outputs": [
    {
     "name": "stdout",
     "output_type": "stream",
     "text": [
      "123549876\n",
      "4321\n"
     ]
    }
   ],
   "source": [
    "print(arrange_guest_arrival_order(\"IIIDIDDD\"))\n",
    "print(arrange_guest_arrival_order(\"DDD\"))\n",
    "\n",
    "# 123549876\n",
    "# 4321"
   ]
  },
  {
   "cell_type": "markdown",
   "metadata": {},
   "source": [
    "### Solution General Idea\n",
    "\n",
    "First understand why we use a stack\n",
    "- The reason we use a stack is because of the LIFO which stand for `Last In, First Out` this property is important we want to pop the last value whenever we see an `I`.\n",
    "- The stack provides a clean and efficient way to reverse the guest order whenever we encounter decreasing patterns"
   ]
  },
  {
   "cell_type": "markdown",
   "metadata": {},
   "source": [
    "## Problem 2: Reveal Attendee List in Order\n",
    "You are organizing an event where attendees have unique registration numbers. These numbers are provided in the list attendees. You need to arrange the attendees in a way that, when their registration numbers are revealed one by one, the numbers appear in increasing order.\n",
    "\n",
    "The process of revealing the attendee list follows these steps repeatedly until all registration numbers are revealed:\n",
    "\n",
    "1. Take the top registration number from the list, reveal it, and remove it from the list.\n",
    "2. If there are still registration numbers in the list, take the next top registration number and move it to the bottom of the list.\n",
    "3. If there are still unrevealed registration numbers, go back to step 1. Otherwise, stop.\n",
    "\n",
    "Return an ordering of the registration numbers that would reveal the attendees in increasing order.\n",
    "\n",
    "\n",
    "`Tips`\n",
    "1. Enqueue: Adding an element to the end of the queue\n",
    "2. Dequeue: Removing the element from the front of the queue.\n",
    "3. popleft: Delete an arugment from the left end of the deque"
   ]
  },
  {
   "cell_type": "code",
   "execution_count": 4,
   "metadata": {},
   "outputs": [],
   "source": [
    "from collections import deque\n",
    "\n",
    "def reveal_attendee_list_in_order(attendees):\n",
    "    # Number of attendees\n",
    "    n = len(attendees)\n",
    "    \n",
    "    # Create a deque with indices from 0 to n-1\n",
    "    index_q = deque(range(n))\n",
    "    # [5]\n",
    "    \n",
    "    # Initialize the result list with zeros\n",
    "    res = [0] * n\n",
    "    # [2,13,3,11,5,17,7]\n",
    "    \n",
    "    # Sort the attendees list\n",
    "    #[2,3,5,7,11,13,17] 17\n",
    "    for attn in sorted(attendees):\n",
    "        # Place the smallest available attendee at the position indicated by the deque\n",
    "        res[index_q.popleft()] = attn\n",
    "        \n",
    "        # If there are still indices left in the deque, move the next index to the end\n",
    "        if index_q:\n",
    "            index_q.append(index_q.popleft())\n",
    "    \n",
    "    return res   "
   ]
  },
  {
   "cell_type": "code",
   "execution_count": 5,
   "metadata": {},
   "outputs": [
    {
     "name": "stdout",
     "output_type": "stream",
     "text": [
      "[2, 13, 3, 11, 5, 17, 7]\n",
      "[1, 1000]\n"
     ]
    }
   ],
   "source": [
    "print(reveal_attendee_list_in_order([17, 13, 11, 2, 3, 5, 7]))\n",
    "print(reveal_attendee_list_in_order([1, 1000]))\n",
    "# [2, 13, 3, 11, 5, 17, 7]\n",
    "# [1, 1000]"
   ]
  },
  {
   "cell_type": "code",
   "execution_count": null,
   "metadata": {},
   "outputs": [],
   "source": []
  },
  {
   "cell_type": "markdown",
   "metadata": {},
   "source": [
    "# <h1 style=\"color: pink;\">Session 2: Advanced Problem Set Version 2</h1>"
   ]
  },
  {
   "cell_type": "markdown",
   "metadata": {},
   "source": [
    "## Problem 1: Blueprint Approval Process\n",
    "You are in charge of overseeing the blueprint approval process for various architectural designs. Each blueprint has a specific complexity level, represented by an integer. Due to the complex nature of the designs, the approval process follows a strict order:\n",
    "\n",
    "1. Blueprints with lower complexity should be reviewed first.\n",
    "2. If a blueprint with higher complexity is submitted, it must wait until all simpler blueprints have been approved.\n",
    "\n",
    "Your task is to simulate the blueprint approval process using a queue. You will receive a list of blueprints, each represented by their complexity level in the order they are submitted. Process the blueprints such that the simpler designs (lower numbers) are approved before more complex ones.\n",
    "\n",
    "Return the order in which the blueprints are approved."
   ]
  },
  {
   "cell_type": "code",
   "execution_count": 46,
   "metadata": {},
   "outputs": [],
   "source": [
    "from collections import deque\n",
    "def blueprint_approval(blueprints):\n",
    "    blueprints.sort()\n",
    "    blueprints = deque(blueprints)\n",
    "    res = []\n",
    "    while blueprints:\n",
    "        res.append(blueprints.popleft())\n",
    "    return res"
   ]
  },
  {
   "cell_type": "code",
   "execution_count": 47,
   "metadata": {},
   "outputs": [
    {
     "name": "stdout",
     "output_type": "stream",
     "text": [
      "[1, 2, 3, 4, 5]\n",
      "[2, 4, 5, 6, 7]\n"
     ]
    }
   ],
   "source": [
    "print(blueprint_approval([3, 5, 2, 1, 4]))\n",
    "\n",
    "print(blueprint_approval([7, 4, 6, 2, 5]))\n",
    "# [1, 2, 3, 4, 5]\n",
    "# [2, 4, 5, 6, 7]"
   ]
  },
  {
   "cell_type": "markdown",
   "metadata": {},
   "source": [
    "## Problem 2: Build the Tallest Skyscraper\n",
    "You are given an array `floors` representing the heights of different building floors. Your task is to design a skyscraper using these floors, where each floor must be placed on top of a floor with equal or greater height. However, you can only start a new skyscraper when necessary, meaning when no more floors can be added to the current skyscraper according to the rules.\n",
    "\n",
    "Return the number of skyscrapers you can build using the given floors."
   ]
  },
  {
   "cell_type": "code",
   "execution_count": 48,
   "metadata": {},
   "outputs": [],
   "source": [
    "def build_skyscrapers(floors):\n",
    "    skyscraper = 1\n",
    "    stack = [floors[0]]\n",
    "    for i in range(1, len(floors)):\n",
    "        if floors[i] < stack[-1]:\n",
    "            while stack:\n",
    "                stack.pop()\n",
    "            stack.append(floors[i])\n",
    "            skyscraper +=1\n",
    "        else:\n",
    "            stack.append(floors[i])\n",
    "            \n",
    "    return skyscraper\n",
    "    \n",
    "    "
   ]
  },
  {
   "cell_type": "code",
   "execution_count": 56,
   "metadata": {},
   "outputs": [
    {
     "name": "stdout",
     "output_type": "stream",
     "text": [
      "4\n",
      "4\n",
      "6\n"
     ]
    }
   ],
   "source": [
    "print(build_skyscrapers([10, 5, 8, 3, 7, 2, 9]))\n",
    "\n",
    "print(build_skyscrapers([7, 3, 7, 3, 5, 1, 6]))\n",
    "print(build_skyscrapers([8, 6, 4, 7, 5, 3, 2]))\n",
    "# 4\n",
    "# 4\n",
    "# 6"
   ]
  },
  {
   "cell_type": "markdown",
   "metadata": {},
   "source": [
    "## Problem 3: Dream Corridor Design\n",
    "You are an architect designing a corridor for a futuristic dream space. The corridor is represented by a list of integer values where each value represents the width of a segment of the corridor. Your goal is to find two segments such that the corridor formed between them (including the two segments) has the maximum possible area. The area is defined as the minimum width of the two segments multiplied by the distance between them.\n",
    "\n",
    "You need to return the maximum possible area that can be achieved."
   ]
  },
  {
   "cell_type": "code",
   "execution_count": 50,
   "metadata": {},
   "outputs": [],
   "source": [
    "def max_corridor_area(segments):\n",
    "  totalMax = 0\n",
    "  l, r = 0, len(segments) -1\n",
    "  while l < r:\n",
    "    dist = r -l\n",
    "    currMax = min(segments[l], segments[r]) * dist\n",
    "    totalMax = max(currMax, totalMax)\n",
    "    if segments[l] > segments[r]:\n",
    "      r -=1\n",
    "    else:\n",
    "      l +=1\n",
    "  return totalMax"
   ]
  },
  {
   "cell_type": "code",
   "execution_count": 51,
   "metadata": {},
   "outputs": [
    {
     "name": "stdout",
     "output_type": "stream",
     "text": [
      "49\n",
      "1\n"
     ]
    }
   ],
   "source": [
    "print(max_corridor_area([1, 8, 6, 2, 5, 4, 8, 3, 7])) # 49\n",
    "print(max_corridor_area([1, 1])) # 1"
   ]
  },
  {
   "cell_type": "markdown",
   "metadata": {},
   "source": [
    "## Problem 4: Dream Building Layout\n",
    "You are an architect tasked with designing a dream building layout. The building layout is represented by a string `s` of even length `n`. The string consists of exactly `n / 2` left walls `'['` and `n / 2` right walls `']'`.\n",
    "\n",
    "A layout is considered balanced if and only if:\n",
    "\n",
    "- It is an empty space, or\n",
    "- It can be divided into two separate balanced layouts, or\n",
    "- It can be surrounded by left and right walls that balance each other out.\n",
    "\n",
    "You may swap the positions of any two walls any number of times.\n",
    "\n",
    "Return the minimum number of swaps needed to make the building layout balanced."
   ]
  },
  {
   "cell_type": "code",
   "execution_count": 52,
   "metadata": {},
   "outputs": [
    {
     "name": "stdout",
     "output_type": "stream",
     "text": [
      "1\n",
      "2\n",
      "0\n"
     ]
    }
   ],
   "source": [
    "def min_swaps(s):\n",
    "    imbalance = 0\n",
    "    max_imbalance = 0\n",
    "\n",
    "    for char in s:\n",
    "        if char == \"[\":\n",
    "            imbalance -= 1\n",
    "        else:\n",
    "            imbalance += 1\n",
    "\n",
    "        max_imbalance = max(max_imbalance, imbalance)\n",
    "\n",
    "    return (max_imbalance + 1) // 2\n",
    "\n",
    "\n",
    "# Example usage\n",
    "print(min_swaps(\"][][\"))  # Output: 1\n",
    "print(min_swaps(\"]]][[[\"))  # Output: 2\n",
    "print(min_swaps(\"[]\"))  # Output: 0"
   ]
  },
  {
   "cell_type": "code",
   "execution_count": 53,
   "metadata": {},
   "outputs": [
    {
     "name": "stdout",
     "output_type": "stream",
     "text": [
      "1\n",
      "2\n",
      "0\n"
     ]
    }
   ],
   "source": [
    "print(min_swaps(\"][][\"))\n",
    "print(min_swaps(\"]]][[[\"))\n",
    "print(min_swaps(\"[]\"))\n",
    "# 1\n",
    "# 2\n",
    "# 0"
   ]
  },
  {
   "cell_type": "markdown",
   "metadata": {},
   "source": [
    "## Problem 5: Designing a Balanced Room\n",
    "You are designing a room layout represented by a string s consisting of walls `'('`, `')'`, and decorations in the form of lowercase English letters.\n",
    "\n",
    "Your task is to remove the minimum number of walls `'('` or `')'` in any positions so that the resulting room layout is balanced and return any valid layout.\n",
    "\n",
    "Formally, a room layout is considered balanced if and only if:\n",
    "\n",
    "- It is an empty room (an empty string), contains only decorations (lowercase letters), or\n",
    "- It can be represented as AB (A concatenated with B), where A and B are valid layouts, or\n",
    "- It can be represented as (A), where A is a valid layout."
   ]
  },
  {
   "cell_type": "code",
   "execution_count": 36,
   "metadata": {},
   "outputs": [],
   "source": [
    "def make_balanced_room(s):\n",
    "    stack = []\n",
    "    s = list(s)\n",
    "    # Traverse the s and keep track of the index\n",
    "    for idx, char in enumerate(s):\n",
    "        # if we see an open parenthesis we add it to the stack\n",
    "        if char == '(':\n",
    "            stack.append(idx)\n",
    "        # if we see closing parenthesis we check if there is\n",
    "        # a corresponding open parenthesis\n",
    "        elif char == ')':\n",
    "            # we pop an open parenthesis\n",
    "            if stack:\n",
    "                stack.pop()\n",
    "            # if there is no open parenthesis to balance out the \n",
    "            # closing parenthesis we erase using at that idx\n",
    "            else:\n",
    "            # \n",
    "                s[idx] = ''\n",
    "    # Now we check for unbalance open parethesis remaining in the\n",
    "    # stack. We delete at the idx of the string\n",
    "    while stack:\n",
    "        s[stack.pop()] = ''\n",
    "        \n",
    "    return ''.join(s)"
   ]
  },
  {
   "cell_type": "code",
   "execution_count": 37,
   "metadata": {},
   "outputs": [
    {
     "name": "stdout",
     "output_type": "stream",
     "text": [
      "art(t(d)e)sign\n",
      "de(s)ign\n",
      "\n"
     ]
    }
   ],
   "source": [
    "print(make_balanced_room(\"art(t(d)e)s)ign)\"))\n",
    "print(make_balanced_room(\"d)e(s)ign(\"))\n",
    "print(make_balanced_room(\"))((\"))\n",
    "# art(t(d)e)s)ign\n",
    "# de(s)ign"
   ]
  },
  {
   "cell_type": "markdown",
   "metadata": {},
   "source": [
    "## Problem 6: Time to Complete Each Dream Design\n",
    "As an architect, you are working on a series of imaginative designs for various dreamscapes. Each design takes a certain amount of time to complete, depending on the complexity of the elements involved. You want to know how many days it will take for each design to be ready for the next one to begin, assuming each subsequent design is more complex and thus takes more time to finish.\n",
    "\n",
    "You are given an array `design_times` where each element represents the time in days needed to complete a particular design. For each design, determine the number of days you will have to wait until a more complex design (one that takes more days) is ready to begin. If no such design exists for a particular design, return 0 for that position.\n",
    "\n",
    "Return an array `answer` such that `answer[i]` is the number of days you have to wait after the i-th design to start working on a more complex design. If there is no future design that is more complex, keep `answer[i] == 0` instead."
   ]
  },
  {
   "cell_type": "code",
   "execution_count": 54,
   "metadata": {},
   "outputs": [],
   "source": [
    "def time_to_complete_dream_designs(design_times):\n",
    "    n = len(design_times)\n",
    "    answer = [0] * n\n",
    "    stack = []\n",
    "\n",
    "    for i in range(n):\n",
    "        while stack and design_times[i] > design_times[stack[-1]]:\n",
    "            prev_index = stack.pop()\n",
    "            answer[prev_index] = i - prev_index\n",
    "        stack.append(i)\n",
    "\n",
    "    return answer\n"
   ]
  },
  {
   "cell_type": "code",
   "execution_count": 55,
   "metadata": {},
   "outputs": [
    {
     "name": "stdout",
     "output_type": "stream",
     "text": [
      "[1, 1, 3, 2, 1, 1, 0, 0]\n",
      "[1, 2, 1, 0]\n",
      "[0, 0, 0, 0]\n"
     ]
    }
   ],
   "source": [
    "print(time_to_complete_dream_designs([3, 4, 5, 2, 1, 6, 7, 3]))\n",
    "\n",
    "# [1, 1, 3, 2, 1, 1, 0, 0]\n",
    "print(time_to_complete_dream_designs([2, 3, 1, 4]))\n",
    "# [1, 2, 1, 0]\n",
    "print(time_to_complete_dream_designs([5, 5, 5, 5]))\n",
    "# [0, 0, 0, 0]"
   ]
  },
  {
   "cell_type": "code",
   "execution_count": null,
   "metadata": {},
   "outputs": [],
   "source": []
  }
 ],
 "metadata": {
  "kernelspec": {
   "display_name": "tf2",
   "language": "python",
   "name": "python3"
  },
  "language_info": {
   "codemirror_mode": {
    "name": "ipython",
    "version": 3
   },
   "file_extension": ".py",
   "mimetype": "text/x-python",
   "name": "python",
   "nbconvert_exporter": "python",
   "pygments_lexer": "ipython3",
   "version": "3.10.14"
  }
 },
 "nbformat": 4,
 "nbformat_minor": 2
}
