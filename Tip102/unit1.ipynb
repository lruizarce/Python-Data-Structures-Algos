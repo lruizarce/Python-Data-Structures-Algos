{
 "cells": [
  {
   "cell_type": "markdown",
   "metadata": {},
   "source": [
    "# Session 1: Advance Problem Set Version 1"
   ]
  },
  {
   "cell_type": "markdown",
   "metadata": {},
   "source": [
    "## Problem 1: Hunny Hunt\n",
    "Write a function linear_search() to help Winnie the Pooh locate his lost items. The function accepts a list items and a target value as parameters. The function should return the first index of target in items, and -1 if target is not in the lst. Do not use any built-in functions."
   ]
  },
  {
   "cell_type": "code",
   "execution_count": 22,
   "metadata": {},
   "outputs": [],
   "source": [
    "def linear_search(lst, target):\n",
    "    for i, item in enumerate(lst):\n",
    "        if item == target:\n",
    "            return i\n",
    "    return -1"
   ]
  },
  {
   "cell_type": "code",
   "execution_count": 23,
   "metadata": {},
   "outputs": [
    {
     "name": "stdout",
     "output_type": "stream",
     "text": [
      "3\n",
      "-1\n"
     ]
    }
   ],
   "source": [
    "items = [\"haycorn\", \"haycorn\", \"haycorn\", \"hunny\", \"haycorn\"]\n",
    "target = \"hunny\"\n",
    "print(linear_search(items, target))\n",
    "\n",
    "items = [\"bed\", \"blue jacket\", \"red shirt\", \"hunny\"]\n",
    "target = \"red balloon\"\n",
    "print(linear_search(items, target))"
   ]
  },
  {
   "cell_type": "markdown",
   "metadata": {},
   "source": [
    "## Problem 2: Bouncy, Flouncy, Trouncy, Pouncy\n",
    "Tigger has developed a new programming language Tiger with only four operations and one variable tigger.\n",
    "\n",
    "- bouncy and flouncy both increment the value of the variable tigger by 1.\n",
    "- trouncy and pouncy both decrement the value of the variable tigger by 1.\n",
    "\n",
    "Initially, the value of tigger is 1 because he's the only tigger around! Given a list of strings operations containing a list of operations, return the final value of tigger after performing all the operations."
   ]
  },
  {
   "cell_type": "code",
   "execution_count": 20,
   "metadata": {},
   "outputs": [],
   "source": [
    "def final_value_after_operations(operations):\n",
    "    values = {'bouncy': 1, 'flouncy': 1, 'trouncy': -1, 'pouncy': -1}\n",
    "    tigger = 1\n",
    "    for i in operations:\n",
    "        if i in values:\n",
    "            tigger += values[i]\n",
    "    return tigger"
   ]
  },
  {
   "cell_type": "code",
   "execution_count": 21,
   "metadata": {},
   "outputs": [
    {
     "name": "stdout",
     "output_type": "stream",
     "text": [
      "2\n"
     ]
    },
    {
     "data": {
      "text/plain": [
       "4"
      ]
     },
     "execution_count": 21,
     "metadata": {},
     "output_type": "execute_result"
    }
   ],
   "source": [
    "operations = [\"trouncy\", \"flouncy\", \"flouncy\"]\n",
    "print(final_value_after_operations(operations))\n",
    "\n",
    "operations = [\"bouncy\", \"bouncy\", \"flouncy\"]\n",
    "final_value_after_operations(operations)"
   ]
  },
  {
   "cell_type": "markdown",
   "metadata": {},
   "source": [
    "## Problem 3: T-I-Double Guh-Er II\n",
    "T-I-Double Guh-Er: That spells Tigger! Write a function tiggerfy() that accepts a string word and returns a new string that removes any substrings t, i, gg, and er from word. The function should be case insensitive."
   ]
  },
  {
   "cell_type": "code",
   "execution_count": 24,
   "metadata": {},
   "outputs": [],
   "source": [
    "import re\n",
    "\n",
    "def tiggerfy(word):\n",
    "    # Convert the word to lowercase to handle case insensitivity\n",
    "    word_lower = word.lower()\n",
    "\n",
    "    # Use regular expression to replace the specified substrings with an empty string\n",
    "    word_lower = re.sub(r't|i|gg|er', '', word_lower)\n",
    "\n",
    "    # Return the modified word\n",
    "    return word_lower\n"
   ]
  },
  {
   "cell_type": "code",
   "execution_count": 25,
   "metadata": {},
   "outputs": [
    {
     "name": "stdout",
     "output_type": "stream",
     "text": [
      "r\n",
      "eplan\n",
      "chor\n"
     ]
    }
   ],
   "source": [
    "word = \"Trigger\"\n",
    "print(tiggerfy(word))\n",
    "\n",
    "word = \"eggplant\"\n",
    "print(tiggerfy(word))\n",
    "\n",
    "word = \"Choir\"\n",
    "print(tiggerfy(word))"
   ]
  },
  {
   "cell_type": "markdown",
   "metadata": {},
   "source": [
    "## Problem 4: Non-decreasing Array\n",
    "Given an array nums with n integers, write a function non_decreasing() that checks if nums could become non-decreasing by modifying at most one element.\n",
    "\n",
    "We define an array is non-decreasing if nums[i] <= nums[i + 1] holds for every i (0-based) such that (0 <= i <= n - 2)."
   ]
  },
  {
   "cell_type": "code",
   "execution_count": 20,
   "metadata": {},
   "outputs": [],
   "source": [
    "def non_decreasing(nums):\n",
    "    n = len(nums)\n",
    "    count = 0  # Count of violations\n",
    "\n",
    "    for i in range(n - 1):\n",
    "        if nums[i] > nums[i + 1]:\n",
    "            count += 1\n",
    "            if count > 1:\n",
    "                return False\n",
    "\n",
    "            \"\"\"At i = 1, there’s a violation because nums[1] = 4 is greater than nums[2] = 2.\n",
    "            The condition nums[i - 1] <= nums[i + 1] translates to nums[0] <= nums[2] (i.e., 3 <= 2), which is false.\n",
    "            Since the condition is false, modifying nums[i] (changing 4 to 2) would create a new violation between 3 and 2. So instead, the function modifies nums[i + 1] (changing 2 to 4), making the array [3, 4, 4, 5]. \"\"\"\n",
    "            if i == 0 or nums[i - 1] <= nums[i + 1]:\n",
    "                nums[i] = nums[i + 1]  # Modify nums[i]\n",
    "            else:\n",
    "                nums[i + 1] = nums[i]  # Modify nums[i + 1]\n",
    "\n",
    "    return True"
   ]
  },
  {
   "cell_type": "code",
   "execution_count": 21,
   "metadata": {},
   "outputs": [
    {
     "name": "stdout",
     "output_type": "stream",
     "text": [
      "True\n",
      "False\n"
     ]
    }
   ],
   "source": [
    "nums = [3, 4, 2, 5]\n",
    "print(non_decreasing(nums))\n",
    "\n",
    "nums = [4, 2, 1]\n",
    "print(non_decreasing(nums))"
   ]
  },
  {
   "cell_type": "markdown",
   "metadata": {},
   "source": [
    "## Problem 5: Missing Clues\n",
    "Christopher Robin set up a scavenger hunt for Pooh, but it's a blustery day and several hidden clues have blown away. Write a function find_missing_clues() to help Christopher Robin figure out which clues he needs to remake. The function accepts two integers lower and upper and a unique integer array clues. All elements in clues are within the inclusive range [lower, upper].\n",
    "\n",
    "A clue x is considered missing if x is in the range [lower, upper] and x is not in clues.\n",
    "\n",
    "Return the shortest sorted list of ranges that exactly covers all the missing numbers. That is, no element of clues is included in any of the ranges, and each missing number is covered by one of the ranges."
   ]
  },
  {
   "cell_type": "code",
   "execution_count": 37,
   "metadata": {},
   "outputs": [],
   "source": [
    "def find_missing_clues(clues, lower, upper):\n",
    "    # This is for the edge case where the clues is empty but we still have a valid lower & upper limit\n",
    "    if not clues:\n",
    "        return [(lower, upper)] if lower <= upper else []\n",
    "    \n",
    "    missing_intervals = []\n",
    "    # This checks if the clues are not sorted\n",
    "    if len(clues) > 1 and any(clues[i] > clues[i + 1] for i in range(len(clues) - 1)):\n",
    "        clues.sort()\n",
    "        \n",
    "    # checks if there is a gap between the smallest value in the clues and the lower limit\n",
    "    if lower < clues[0]:\n",
    "        missing_intervals.append((lower, clues[0]-1))\n",
    "    \n",
    "    # check for gaps in between consecutive clues\n",
    "    for i in range(1, len(clues)):\n",
    "        if clues[i-1] + 1 < clues[i]:\n",
    "            missing_intervals.append((clues[i-1] + 1, clues[i]-1))\n",
    "            \n",
    "    if clues[-1] < upper:\n",
    "        missing_intervals.append((clues[-1], upper))\n",
    "        \n",
    "    return missing_intervals \n",
    "    \n",
    "    "
   ]
  },
  {
   "cell_type": "code",
   "execution_count": 39,
   "metadata": {},
   "outputs": [
    {
     "name": "stdout",
     "output_type": "stream",
     "text": [
      "[(2, 2), (4, 49), (51, 74), (75, 99)]\n",
      "[]\n"
     ]
    }
   ],
   "source": [
    "clues = [0, 1, 3, 50, 75]\n",
    "lower = 0\n",
    "upper = 99\n",
    "print(find_missing_clues(clues, lower, upper))\n",
    "\n",
    "clues = [-1]\n",
    "lower = -1\n",
    "upper = -1\n",
    "print(find_missing_clues(clues, lower, upper))"
   ]
  },
  {
   "cell_type": "markdown",
   "metadata": {},
   "source": [
    "## Problem 6: Vegetable Harvest\n",
    "Rabbit is collecting carrots from his garden to make a feast for Pooh and friends. Write a function harvest() that accepts a 2D n x m matrix vegetable_patch and returns the number of of carrots that are ready to harvest in the vegetable patch. A carrot is ready to harvest if `vegetable_patch[i][j]` has value 'c'.\n",
    "\n",
    "Assume n = len(vegetable_patch) and m = len(vegetable_patch[0]). 0 <= i < n and 0 <= j < m."
   ]
  },
  {
   "cell_type": "code",
   "execution_count": 64,
   "metadata": {},
   "outputs": [],
   "source": [
    "def harvest(vegetable_patch):\n",
    "    carrots = 0\n",
    "    for row in vegetable_patch:\n",
    "        for elt in row:\n",
    "            if elt == 'c':\n",
    "                carrots +=1\n",
    "\n",
    "                \n",
    "    return carrots"
   ]
  },
  {
   "cell_type": "code",
   "execution_count": 62,
   "metadata": {},
   "outputs": [],
   "source": [
    "def harvest(vegetable_patch):\n",
    "    return sum(row.count('c') for row in vegetable_patch)"
   ]
  },
  {
   "cell_type": "code",
   "execution_count": 65,
   "metadata": {},
   "outputs": [
    {
     "data": {
      "text/plain": [
       "6"
      ]
     },
     "execution_count": 65,
     "metadata": {},
     "output_type": "execute_result"
    }
   ],
   "source": [
    "vegetable_patch = [[\"x\", \"c\", \"x\"], [\"x\", \"x\", \"x\"], [\"x\", \"c\", \"c\"], [\"c\", \"c\", \"c\"]]\n",
    "harvest(vegetable_patch)"
   ]
  },
  {
   "cell_type": "markdown",
   "metadata": {},
   "source": [
    "## Problem 7: Eeyore's House\n",
    "Eeyore has collected two piles of sticks to rebuild his house and needs to choose pairs of sticks whose lengths are the right proportion. Write a function good_pairs() that accepts two integer arrays pile1 and pile2 where each integer represents the length of a stick. The function also accepts a positive integer k. The function should return the number of good pairs.\n",
    "\n",
    "A pair (i, j) is called good if pile1[i] is divisible by pile2[j] * k. Assume 0 <= i <= len(pile1) - 1 and 0 <= j <= len(pile2) - 1."
   ]
  },
  {
   "cell_type": "code",
   "execution_count": 84,
   "metadata": {},
   "outputs": [],
   "source": [
    "def good_pairs(pile1, pile2, k):\n",
    "    count = 0\n",
    "    p1 = len(pile1)\n",
    "    p2 = len(pile2)\n",
    "    for i in range(p1):\n",
    "        for j in range(p2):\n",
    "            divisor = pile2[j] * k\n",
    "            if pile1[i]  %divisor == 0:\n",
    "                count +=1\n",
    "    return count"
   ]
  },
  {
   "cell_type": "code",
   "execution_count": 83,
   "metadata": {},
   "outputs": [
    {
     "name": "stdout",
     "output_type": "stream",
     "text": [
      "5\n",
      "2\n"
     ]
    }
   ],
   "source": [
    "pile1 = [1, 3, 4]\n",
    "pile2 = [1, 3, 4]\n",
    "k = 1\n",
    "print(good_pairs(pile1, pile2, k))\n",
    "\n",
    "pile1 = [1, 2, 4, 12]\n",
    "pile2 = [2, 4]\n",
    "k = 3\n",
    "print(good_pairs(pile1, pile2, k))"
   ]
  },
  {
   "cell_type": "markdown",
   "metadata": {},
   "source": [
    "## Problem 8: Local Maximums\n",
    "Write a function `local_maximums()` that accepts an `n x n` integer matrix `grid` and returns an integer matrix `local_maxes` of size `(n - 2) x (n - 2)` such that:\n",
    "\n",
    "`local_maxes[i][j]` is equal to the largest value of the `3 x 3` matrix in `grid` centered around row `i + 1` and column `j + 1`.\n",
    "In other words, we want to find the largest value in every contiguous `3 x 3` matrix in `grid`."
   ]
  },
  {
   "cell_type": "code",
   "execution_count": 1,
   "metadata": {},
   "outputs": [],
   "source": [
    "def local_maximums(grid):\n",
    "    \"\"\"\n",
    "    Finds the local maximums in a 2D grid by comparing each cell and its eight surrounding neighbors.\n",
    "\n",
    "    Parameters:\n",
    "    grid (list of list of int): A 2D list (n x n matrix) representing the grid of values.\n",
    "\n",
    "    Returns:\n",
    "    list of list of int: A new 2D list (n-2 x n-2 matrix) containing the local maximum for each 3x3 neighborhood.\n",
    "    \"\"\"\n",
    "    n = len(grid)  # Number of rows/columns in the grid\n",
    "    local_maxes = []  # Initialize an empty list to store the local maximums\n",
    "\n",
    "    # Traverse the grid, excluding the borders (1 to n-1)\n",
    "    for i in range(1, n - 1):\n",
    "        row = []  # List to store the local maximums for row i\n",
    "        for j in range(1, n - 1):\n",
    "            # Calculate the local maximum for the 3x3 block centered at grid[i][j]\n",
    "            max_value = max(\n",
    "                grid[i - 1][j - 1],\n",
    "                grid[i - 1][j],\n",
    "                grid[i - 1][j + 1],  # Top row of the 3x3 block\n",
    "                grid[i][j - 1],\n",
    "                grid[i][j],\n",
    "                grid[i][j + 1],  # Middle row (including the center element)\n",
    "                grid[i + 1][j - 1],\n",
    "                grid[i + 1][j],\n",
    "                grid[i + 1][j + 1],  # Bottom row of the 3x3 block\n",
    "            )\n",
    "            row.append(max_value)  # Add the local maximum to the row\n",
    "        local_maxes.append(row)  # Add the row of local maximums to the result\n",
    "\n",
    "    return local_maxes  # Return the final list of local maximums"
   ]
  },
  {
   "attachments": {
    "image.png": {
     "image/png": "[encoded data removed]"
    }
   },
   "cell_type": "markdown",
   "metadata": {},
   "source": [
    "![image.png](attachment:image.png)"
   ]
  },
  {
   "cell_type": "code",
   "execution_count": null,
   "metadata": {},
   "outputs": [],
   "source": [
    "grid = [[9, 9, 8, 1], [5, 6, 2, 6], [8, 2, 6, 4], [6, 2, 2, 2]]\n",
    "local_maximums(grid)\n",
    "\n",
    "grid = [\n",
    "    [1, 1, 1, 1, 1],\n",
    "    [1, 1, 1, 1, 1],\n",
    "    [1, 1, 2, 1, 1],\n",
    "    [1, 1, 1, 1, 1],\n",
    "    [1, 1, 1, 1, 1],\n",
    "]\n",
    "local_maximums(grid)"
   ]
  },
  {
   "cell_type": "markdown",
   "metadata": {},
   "source": [
    "# Session 1: Advance Problem Set Version 2"
   ]
  },
  {
   "cell_type": "markdown",
   "metadata": {},
   "source": [
    "## Problem 1: Words Containing Character\n",
    "Write a function words_with_char() that accepts a list of strings words and a character x. Return a list of indices representing the words that contain the character x. The returned list may be in any order."
   ]
  },
  {
   "cell_type": "code",
   "execution_count": 64,
   "metadata": {},
   "outputs": [],
   "source": [
    "def words_with_char(words, x):\n",
    "    pass"
   ]
  },
  {
   "cell_type": "code",
   "execution_count": 65,
   "metadata": {},
   "outputs": [
    {
     "name": "stdout",
     "output_type": "stream",
     "text": [
      "None\n",
      "None\n",
      "None\n"
     ]
    }
   ],
   "source": [
    "words = [\"batman\", \"superman\"]\n",
    "x = \"a\"\n",
    "print(words_with_char(words, x))\n",
    "\n",
    "words = [\"black panther\", \"hulk\", \"black widow\", \"thor\"]\n",
    "x = \"a\"\n",
    "print(words_with_char(words, x))\n",
    "\n",
    "words = [\"star-lord\", \"gamora\", \"groot\", \"rocket\"]\n",
    "x = \"z\"\n",
    "print(words_with_char(words, x))"
   ]
  },
  {
   "cell_type": "markdown",
   "metadata": {},
   "source": [
    "# Session 2: Advance Problem Set Version 1"
   ]
  },
  {
   "cell_type": "markdown",
   "metadata": {},
   "source": [
    "Problem 1: Transpose Matrix\n",
    "Write a function transpose() that accepts a 2D integer array matrix and returns the transpose of matrix. The transpose of a matrix is the matrix flipped over its main diagonal, swapping the rows and columns."
   ]
  },
  {
   "cell_type": "code",
   "execution_count": 3,
   "metadata": {},
   "outputs": [],
   "source": [
    "def transpose(matrix):\n",
    "    rows = len(matrix)\n",
    "    cols = len(matrix[0])\n",
    "    transposed_matrix = [[0] * rows for _ in range(cols)]\n",
    "    for row in range(rows):\n",
    "        for col in range(cols):\n",
    "            transposed_matrix[col][row] = matrix[row][col]\n",
    "    return transposed_matrix\n"
   ]
  },
  {
   "cell_type": "code",
   "execution_count": 4,
   "metadata": {},
   "outputs": [
    {
     "data": {
      "text/plain": [
       "[[1, 4], [2, 5], [3, 6]]"
      ]
     },
     "execution_count": 4,
     "metadata": {},
     "output_type": "execute_result"
    }
   ],
   "source": [
    "matrix = [[1, 2, 3], [4, 5, 6], [7, 8, 9]]\n",
    "transpose(matrix)\n",
    "\n",
    "matrix = [[1, 2, 3], [4, 5, 6]]\n",
    "transpose(matrix)"
   ]
  },
  {
   "cell_type": "markdown",
   "metadata": {},
   "source": [
    "## Problem 2: Two-Pointer Reverse List\n",
    "Write a function reverse_list() that takes in a list lst and returns elements of the list in reverse order. The list should be reversed in-place without using list slicing (e.g. lst[::-1]).\n",
    "\n",
    "Instead, use the two-pointer approach, which is a common technique in which we initialize two variables (also called a pointer in this context) to track different indices or places in a list or string, then moves the pointers to point at new indices based on certain conditions. In the most common variation of the two-pointer approach, we initialize one variable to point at the beginning of a list and a second variable/pointer to point at the end of list. We then shift the pointers to move inwards through the list towards each other, until our problem is solved or the pointers reach the opposite ends of the list."
   ]
  },
  {
   "cell_type": "code",
   "execution_count": 5,
   "metadata": {},
   "outputs": [],
   "source": [
    "def reverse_list(lst):\n",
    "    if not lst:\n",
    "        return []\n",
    "    \n",
    "    l, r = 0, len(lst) - 1\n",
    "    while l < r:\n",
    "        lst[l], lst[r] = lst[r], lst[l]\n",
    "        l +=1\n",
    "        r -=1\n",
    "    return lst"
   ]
  },
  {
   "cell_type": "code",
   "execution_count": 6,
   "metadata": {},
   "outputs": [
    {
     "data": {
      "text/plain": [
       "['eeyore', 'roo', 'piglet', 'christopher robin', 'pooh']"
      ]
     },
     "execution_count": 6,
     "metadata": {},
     "output_type": "execute_result"
    }
   ],
   "source": [
    "lst = [\"pooh\", \"christopher robin\", \"piglet\", \"roo\", \"eeyore\"]\n",
    "reverse_list(lst)\n"
   ]
  },
  {
   "cell_type": "markdown",
   "metadata": {},
   "source": [
    "## Problem 3: Remove Duplicates\n",
    "Write a function remove_dupes() that accepts a sorted array items, and removes the duplicates in-place such that each element appears only once. Return the length of the modified array. You may not create another array; your implementation must modify the original input array items."
   ]
  },
  {
   "cell_type": "code",
   "execution_count": 16,
   "metadata": {},
   "outputs": [],
   "source": [
    "def remove_dupes(items):\n",
    "    if not items:\n",
    "        return 0\n",
    "\n",
    "    uniqueElt = 0 \n",
    "\n",
    "    for j in range(1, len(items)):\n",
    "        if items[j] != items[uniqueElt]:\n",
    "            uniqueElt += 1\n",
    "            items[uniqueElt] = items[j]\n",
    "\n",
    "    return uniqueElt + 1"
   ]
  },
  {
   "cell_type": "code",
   "execution_count": 17,
   "metadata": {},
   "outputs": [
    {
     "name": "stdout",
     "output_type": "stream",
     "text": [
      "4\n",
      "4\n"
     ]
    }
   ],
   "source": [
    "items = [\"extract of malt\", \"haycorns\", \"honey\", \"thistle\", \"thistle\"]\n",
    "print(remove_dupes(items))\n",
    "\n",
    "items = [\"extract of malt\", \"haycorns\", \"honey\", \"thistle\"]\n",
    "print(remove_dupes(items))"
   ]
  },
  {
   "cell_type": "markdown",
   "metadata": {},
   "source": [
    "## Problem 4: Sort Array by Parity\n",
    "Given an integer array nums, write a function sort_by_parity() that moves all the even integers at the beginning of the array followed by all the odd integers.\n",
    "\n",
    "Return any array that satisfies this condition."
   ]
  },
  {
   "cell_type": "code",
   "execution_count": 25,
   "metadata": {},
   "outputs": [],
   "source": [
    "def sort_by_parity(nums):\n",
    "    if not nums:\n",
    "        return []\n",
    "    \n",
    "    l, r = 0, len(nums)-1\n",
    "    while l < r:\n",
    "        if nums[l] % 2 == 0:\n",
    "            l += 1\n",
    "        elif nums[r] % 2 == 1:\n",
    "            r -= 1\n",
    "        else:\n",
    "            nums[l], nums[r] = nums[r], nums[l]\n",
    "            l += 1\n",
    "            r -= 1\n",
    "            \n",
    "    return nums"
   ]
  },
  {
   "cell_type": "code",
   "execution_count": 26,
   "metadata": {},
   "outputs": [
    {
     "name": "stdout",
     "output_type": "stream",
     "text": [
      "[4, 2, 1, 3]\n",
      "[0]\n"
     ]
    }
   ],
   "source": [
    "nums = [3, 1, 2, 4]\n",
    "print(sort_by_parity(nums))\n",
    "\n",
    "nums = [0]\n",
    "print(sort_by_parity(nums))"
   ]
  },
  {
   "cell_type": "markdown",
   "metadata": {},
   "source": [
    "## Problem 5: Container with Most Honey\n",
    "Christopher Robin is helping Pooh construct the biggest hunny jar possible. Help him write a function that accepts an integer array `height` of length `n`. There are `n` vertical lines drawn such that the two endpoints of the ith line are `(i, 0)` and `(i, height[i])`.\n",
    "\n",
    "Find two lines that together with the x-axis form a container, such that the container contains the most honey.\n",
    "\n",
    "Return the maximum amount of honey a container can store.\n",
    "\n",
    "Notice that you may not slant the container."
   ]
  },
  {
   "cell_type": "code",
   "execution_count": 29,
   "metadata": {},
   "outputs": [],
   "source": [
    "def most_honey(height):\n",
    "    left = 0\n",
    "    right = len(height) - 1\n",
    "    max_area = 0\n",
    "\n",
    "    while left < right:\n",
    "        # Calculate the area between left and right\n",
    "        area = (right - left) * min(height[left], height[right])\n",
    "        # Update the maximum area if we found a bigger one\n",
    "        max_area = max(max_area, area)\n",
    "\n",
    "        # Move the pointer pointing to the shorter line\n",
    "        if height[left] < height[right]:\n",
    "            left += 1\n",
    "        else:\n",
    "            right -= 1\n",
    "\n",
    "    return max_area"
   ]
  },
  {
   "cell_type": "code",
   "execution_count": 31,
   "metadata": {},
   "outputs": [
    {
     "name": "stdout",
     "output_type": "stream",
     "text": [
      "49\n"
     ]
    },
    {
     "data": {
      "text/plain": [
       "1"
      ]
     },
     "execution_count": 31,
     "metadata": {},
     "output_type": "execute_result"
    }
   ],
   "source": [
    "height = [1, 8, 6, 2, 5, 4, 8, 3, 7]\n",
    "print(most_honey(height))\n",
    "\n",
    "height = [1, 1]\n",
    "most_honey(height)"
   ]
  },
  {
   "cell_type": "markdown",
   "metadata": {},
   "source": [
    "## Problem 6: Merge Intervals\n",
    "Write a function merge_intervals() that accepts an array of intervals where intervals[i] = [starti, endi], merge all overlapping intervals, and return an array of the non-overlapping intervals that cover all the intervals in the input."
   ]
  },
  {
   "cell_type": "code",
   "execution_count": 63,
   "metadata": {},
   "outputs": [],
   "source": [
    "def merge_intervals(intervals):\n",
    "    if not intervals:\n",
    "        return []\n",
    "\n",
    "    # Sort intervals by the starting point\n",
    "    intervals.sort(key=lambda x: x[0])\n",
    "\n",
    "    # Initialize the result with the first interval\n",
    "    res = [list(intervals[0])]  # Convert to list so we can modify it\n",
    "\n",
    "    for i in range(1, len(intervals)):\n",
    "        # If there is an overlap between the current interval and the last one in res\n",
    "        if intervals[i][0] <= res[-1][1]:\n",
    "            # Merge the intervals by extending the end of the last interval in res\n",
    "            res[-1][1] = max(res[-1][1], intervals[i][1])\n",
    "        else:\n",
    "            # No overlap, add the current interval to the result\n",
    "            res.append(\n",
    "                list(intervals[i])\n",
    "            )  # Convert to list so it can be modified if needed\n",
    "\n",
    "    return res"
   ]
  },
  {
   "cell_type": "code",
   "execution_count": 65,
   "metadata": {},
   "outputs": [
    {
     "name": "stdout",
     "output_type": "stream",
     "text": [
      "[[1, 6], [8, 10], [15, 18]]\n"
     ]
    },
    {
     "data": {
      "text/plain": [
       "[[1, 5]]"
      ]
     },
     "execution_count": 65,
     "metadata": {},
     "output_type": "execute_result"
    }
   ],
   "source": [
    "intervals = [[1, 3], [2, 6], [8, 10], [15, 18]]\n",
    "print(merge_intervals(intervals))\n",
    "\n",
    "intervals = [[1, 4], [4, 5]]\n",
    "merge_intervals(intervals)"
   ]
  },
  {
   "cell_type": "markdown",
   "metadata": {},
   "source": [
    "# Session 2: Advance Problem Set Version 2"
   ]
  },
  {
   "cell_type": "markdown",
   "metadata": {},
   "source": [
    "## Problem 1: Matrix Addition\n",
    "Write a function add_matrices() that accepts to n x m matrices matrix1 and matrix2. The function should return an n x m matrix sum_matrix that is the sum of the given matrices such that each value in sum_matrix is the sum of values of corresponding elements in matrix1 and matrix2."
   ]
  },
  {
   "cell_type": "code",
   "execution_count": 8,
   "metadata": {},
   "outputs": [],
   "source": [
    "def add_matrices(matrix1, matrix2):\n",
    "    if not matrix1:\n",
    "        return matrix2\n",
    "    elif not matrix2:\n",
    "        return matrix1\n",
    "    \n",
    "    if len(matrix1) != len(matrix2[0]):\n",
    "        return []\n",
    "    \n",
    "    rows = len(matrix1)\n",
    "    cols = len(matrix1[0])\n",
    "    for i in range(rows):\n",
    "        for j in range(cols):\n",
    "            matrix1[i][j] += matrix2[i][j]\n",
    "    return matrix1"
   ]
  },
  {
   "cell_type": "code",
   "execution_count": 9,
   "metadata": {},
   "outputs": [
    {
     "name": "stdout",
     "output_type": "stream",
     "text": [
      "3 3\n"
     ]
    }
   ],
   "source": [
    "matrix1 = [[1, 2, 3], [4, 5, 6], [7, 8, 9]]\n",
    "\n",
    "matrix2 = [[9, 8, 7], [6, 5, 4], [3, 2, 1]]\n",
    "\n",
    "add_matrices(matrix1, matrix2)"
   ]
  },
  {
   "cell_type": "markdown",
   "metadata": {},
   "source": [
    "## Problem 2: Two-Pointer Palindrome\n",
    "Write a function `is_palindrome()` that takes in a string s as a parameter and returns True if the string is a palindrome and False otherwise. You may assume the string contains only lowercase alphabetic characters.\n",
    "\n",
    "The function must use the two-pointer approach, which is a common technique in which we initialize two variables (also called a pointer in this context) to track different indices or places in a list or string, then moves the pointers to point at new indices based on certain conditions. In the most common variation of the two-pointer approach, we initialize one variable to point at the beginning of a list and a second variable/pointer to point at the end of list. We then shift the pointers to move inwards through the list towards each other, until our problem is solved or the pointers reach the opposite ends of the list."
   ]
  },
  {
   "cell_type": "code",
   "execution_count": 10,
   "metadata": {},
   "outputs": [],
   "source": [
    "def is_palindrome(s):\n",
    "    l, r = 0, len(s)-1\n",
    "    while l < r:\n",
    "        if s[l] != s[r]:\n",
    "            return False\n",
    "        l +=1\n",
    "        r -=1\n",
    "    return True"
   ]
  },
  {
   "cell_type": "code",
   "execution_count": 12,
   "metadata": {},
   "outputs": [
    {
     "name": "stdout",
     "output_type": "stream",
     "text": [
      "True\n",
      "False\n"
     ]
    }
   ],
   "source": [
    "s = \"madam\"\n",
    "print(is_palindrome(s))\n",
    "\n",
    "s = \"madamweb\"\n",
    "print(is_palindrome(s))"
   ]
  },
  {
   "cell_type": "markdown",
   "metadata": {},
   "source": [
    "## Problem 3: Squash Spaces\n",
    "Write a function `squash_spaces()` that takes in a string s as a parameter and returns a new string with each substring with consecutive spaces reduced to a single space. Assume s can contain leading or trailing spaces, but in the result should be trimmed. Do not use any of the built-in trim methods."
   ]
  },
  {
   "cell_type": "code",
   "execution_count": 35,
   "metadata": {},
   "outputs": [],
   "source": [
    "def squash_spaces(s):\n",
    "    new_str = ''\n",
    "    for char in s.split():\n",
    "        new_str += ' ' + char\n",
    "    return new_str"
   ]
  },
  {
   "cell_type": "code",
   "execution_count": 36,
   "metadata": {},
   "outputs": [
    {
     "name": "stdout",
     "output_type": "stream",
     "text": [
      " Up, up, and away!\n",
      " With great power comes great responsibility.\n"
     ]
    }
   ],
   "source": [
    "s = \"   Up,     up,   and  away! \"\n",
    "print(squash_spaces(s))\n",
    "\n",
    "s = \"With great power comes great responsibility.\"\n",
    "print(squash_spaces(s))"
   ]
  },
  {
   "cell_type": "markdown",
   "metadata": {},
   "source": [
    "## Problem 4: Two-Pointer Two Sum\n",
    "Use the two pointer approach to implement a function two_sum() that takes in a sorted list of integers nums and an integer target as parameters and returns the indices of the two numbers that add up to target. You may assume that each input would have exactly one solution, and you may not use the same element twice. You can return the indices in any order."
   ]
  },
  {
   "cell_type": "code",
   "execution_count": 39,
   "metadata": {},
   "outputs": [],
   "source": [
    "def two_sum(nums, target):\n",
    "    l, r = 0, len(nums) -1\n",
    "    while l<r:\n",
    "        currTotal = nums[l] + nums[r]\n",
    "        if currTotal == target:\n",
    "            return [l, r]\n",
    "        elif currTotal > target:\n",
    "            r -=1\n",
    "        else:\n",
    "            l +=1\n",
    "    \n"
   ]
  },
  {
   "cell_type": "code",
   "execution_count": 41,
   "metadata": {},
   "outputs": [
    {
     "name": "stdout",
     "output_type": "stream",
     "text": [
      "[0, 1]\n",
      "[1, 2]\n"
     ]
    }
   ],
   "source": [
    "nums = [2, 7, 11, 15]\n",
    "target = 9\n",
    "print(two_sum(nums, target))\n",
    "\n",
    "nums = [2, 7, 11, 15]\n",
    "target = 18\n",
    "print(two_sum(nums, target))"
   ]
  },
  {
   "cell_type": "markdown",
   "metadata": {},
   "source": [
    "## Problem 5: Three Sum\n",
    "Given an integer array nums, return all the triplets `[nums[i], nums[j], nums[k]] such that i != j, i != k, and j != k, and nums[i] + nums[j] + nums[k] == 0`.\n",
    "\n",
    "Notice that the solution set must not contain duplicate triplets."
   ]
  },
  {
   "cell_type": "code",
   "execution_count": null,
   "metadata": {},
   "outputs": [],
   "source": [
    "def three_sum(nums):\n",
    "    "
   ]
  },
  {
   "cell_type": "code",
   "execution_count": null,
   "metadata": {},
   "outputs": [],
   "source": [
    "nums = [-1, 0, 1, 2, -1, -4]\n",
    "three_sum(nums)\n",
    "\n",
    "nums = [0, 1, 1]\n",
    "three_sum(nums)\n",
    "\n",
    "nums = [0, 0, 0]\n",
    "three_sum(nums)"
   ]
  }
 ],
 "metadata": {
  "kernelspec": {
   "display_name": "tf2",
   "language": "python",
   "name": "python3"
  },
  "language_info": {
   "codemirror_mode": {
    "name": "ipython",
    "version": 3
   },
   "file_extension": ".py",
   "mimetype": "text/x-python",
   "name": "python",
   "nbconvert_exporter": "python",
   "pygments_lexer": "ipython3",
   "version": "3.10.14"
  }
 },
 "nbformat": 4,
 "nbformat_minor": 2
}
