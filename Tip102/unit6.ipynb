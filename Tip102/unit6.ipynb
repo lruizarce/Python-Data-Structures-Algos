{
 "cells": [
  {
   "cell_type": "markdown",
   "metadata": {
    "vscode": {
     "languageId": "plaintext"
    }
   },
   "source": [
    "## Problem 1: Selective DNA Deletion\n",
    "As a biologist, you are working on editing a long strand of DNA represented as a linked list of nucleotides. Each nucleotide in the sequence is represented as a node in the linked list, where each node contains a character ('A', 'T', 'C', 'G') representing the nucleotide.\n",
    "\n",
    "Given the head of the linked list dna_strand and two integers m and n, write a function edit_dna_sequence() that simulates the selective deletion of nucleotides in a DNA sequence. You will: - Start at the beginning of the DNA strand. - Retain the first m nucleotides from the current position. - Remove the next n nucleotides from the sequence. - Repeat the process until the end of the DNA strand is reached.\n",
    "\n",
    "Return the head of the modified DNA sequence after removing the mentioned nucleotides.\n",
    "\n",
    "Evaluate the time and space complexity of your solution. Define your variables and provide a rationale for why you believe your solution has the stated time and space complexity."
   ]
  },
  {
   "cell_type": "code",
   "execution_count": 74,
   "metadata": {},
   "outputs": [],
   "source": [
    "class Node:\n",
    "    def __init__(self, value, next=None):\n",
    "        self.value = value\n",
    "        self.next = next\n",
    "\n",
    "\n",
    "# For testing\n",
    "def print_linked_list(head):\n",
    "    current = head\n",
    "    while current:\n",
    "        print(current.value, end=\" -> \" if current.next else \"\\n\")\n",
    "        current = current.next\n",
    "\n",
    "\n",
    "def edit_dna_sequence(dna_strand, m, n):\n",
    "    curr = dna_strand\n",
    "    while curr:\n",
    "        for _ in range(m-1):\n",
    "            if curr is None:\n",
    "                return dna_strand\n",
    "            curr = curr.next\n",
    "            \n",
    "            if curr is None:\n",
    "                return dna_strand\n",
    "            \n",
    "            temp = curr.next\n",
    "            \n",
    "            for _ in range(n):\n",
    "                if temp is None:\n",
    "                    break\n",
    "                temp = temp.next\n",
    "                \n",
    "            curr.next = temp\n",
    "            curr = temp\n",
    "    return dna_strand"
   ]
  },
  {
   "cell_type": "code",
   "execution_count": 75,
   "metadata": {},
   "outputs": [
    {
     "name": "stdout",
     "output_type": "stream",
     "text": [
      "1 -> 2 -> 6 -> 7 -> 11 -> 12\n"
     ]
    }
   ],
   "source": [
    "dna_strand = Node(\n",
    "    1,\n",
    "    Node(\n",
    "        2,\n",
    "        Node(\n",
    "            3,\n",
    "            Node(\n",
    "                4,\n",
    "                Node(\n",
    "                    5,\n",
    "                    Node(\n",
    "                        6,\n",
    "                        Node(\n",
    "                            7, Node(8, Node(9, Node(10, Node(11, Node(12, Node(13))))))\n",
    "                        ),\n",
    "                    ),\n",
    "                ),\n",
    "            ),\n",
    "        ),\n",
    "    ),\n",
    ")\n",
    "\n",
    "print_linked_list(edit_dna_sequence(dna_strand, 2, 3))"
   ]
  },
  {
   "cell_type": "markdown",
   "metadata": {
    "vscode": {
     "languageId": "latex"
    }
   },
   "source": [
    "<!-- 1 -> 2 -> 6 -> 7 -> 11 -> 12\n",
    "Explanation: Keep the first (m = 2) nodes starting from the head of the linked List  \n",
    "(1 -> 2) show in black nodes.\n",
    "Delete the next (n = 3) nodes (3 -> 4 -> 5) show in red nodes.\n",
    "Continue with the same procedure until reaching the tail of the Linked List. -->"
   ]
  },
  {
   "cell_type": "markdown",
   "metadata": {},
   "source": [
    "## Problem 2: Protein Folding Loop Detection\n",
    "As a biochemist, you're studying the folding patterns of proteins, which are represented as a sequence of amino acids linked together. These proteins sometimes fold back on themselves, creating loops that can impact their function.\n",
    "\n",
    "Given the head of a linked list protein where each node in the linked list represents an amino acid in the protein, return an array with the values of any cycle in the list. A linked list has a cycle if at some point in the list, the node’s next pointer points back to a previous node in the list.\n",
    "\n",
    "The values may be returned in any order.\n",
    "\n",
    "Evaluate the time and space complexity of your solution. Define your variables and provide a rationale for why you believe your solution has the stated time and space complexity."
   ]
  },
  {
   "cell_type": "code",
   "execution_count": 81,
   "metadata": {},
   "outputs": [],
   "source": [
    "def cycle_length(protein):\n",
    "    if not protein:\n",
    "        return None\n",
    "    \n",
    "    slow, fast = protein, protein\n",
    "    while fast and fast.next:\n",
    "        slow = slow.next\n",
    "        fast = fast.next.next\n",
    "        if slow == fast:\n",
    "            break\n",
    "    else:\n",
    "        return []\n",
    "        \n",
    "    slow = protein\n",
    "    while slow != fast:\n",
    "        slow = slow.next\n",
    "        fast = fast.next\n",
    "        \n",
    "    startCycle = slow\n",
    "    res = []\n",
    "    while True:\n",
    "        res.append(slow.value)\n",
    "        if slow.next == startCycle:\n",
    "            break\n",
    "        slow = slow.next\n",
    "        \n",
    "    return res"
   ]
  },
  {
   "cell_type": "code",
   "execution_count": 82,
   "metadata": {},
   "outputs": [
    {
     "name": "stdout",
     "output_type": "stream",
     "text": [
      "['Gly', 'Leu', 'Val']\n"
     ]
    }
   ],
   "source": [
    "protein_head = Node(\"Ala\", Node(\"Gly\", Node(\"Leu\", Node(\"Val\"))))\n",
    "protein_head.next.next.next.next = protein_head.next\n",
    "\n",
    "print(cycle_length(protein_head))"
   ]
  },
  {
   "cell_type": "markdown",
   "metadata": {},
   "source": [
    "## Problem 3: Segmenting Protein Chains for Analysis\n",
    "As a biochemist, you are analyzing a long protein chain represented by a singly linked list, where each node is an amino acid. For a specific experiment, you need to split this protein chain into k consecutive segments for separate analysis. Each segment should be as equal in length as possible, with no two segments differing in size by more than one amino acid.\n",
    "\n",
    "The segments should appear in the same order as the original protein chain, and segments earlier in the list should have a size greater than or equal to those occurring later. If the protein chain cannot be evenly divided, some segments may be an empty list.\n",
    "\n",
    "Write a function split_protein_chain() that takes the head of the linked list protein and an integer k, and returns an array of k segments.\n",
    "\n",
    "Evaluate the time and space complexity of your solution. Define your variables and provide a rationale for why you believe your solution has the stated time and space complexity."
   ]
  },
  {
   "cell_type": "code",
   "execution_count": 83,
   "metadata": {},
   "outputs": [],
   "source": [
    "class Node:\n",
    "    def __init__(self, value, next=None):\n",
    "        self.value = value\n",
    "        self.next = next\n",
    "\n",
    "# Function to split the protein chain into k segments\n",
    "def split_protein_chain(protein, k):\n",
    "    # Step 1: Calculate the total length of the list\n",
    "    total_length = 0\n",
    "    current = protein\n",
    "    while current:\n",
    "        total_length += 1\n",
    "        current = current.next\n",
    "\n",
    "    # Step 2: Determine the size of each segment\n",
    "    base_size = total_length // k\n",
    "    larger_segments = total_length % k  # Segments that will be one node larger\n",
    "\n",
    "    parts = []\n",
    "    current = protein\n",
    "\n",
    "    for i in range(k):\n",
    "        head = current\n",
    "        segment_size = base_size + (1 if i < larger_segments else 0)\n",
    "\n",
    "        for j in range(segment_size - 1):\n",
    "            if current:\n",
    "                current = current.next\n",
    "        \n",
    "        if current:\n",
    "            next_segment = current.next\n",
    "            current.next = None\n",
    "            current = next_segment\n",
    "\n",
    "        parts.append(head)\n",
    "    \n",
    "    return parts"
   ]
  },
  {
   "cell_type": "code",
   "execution_count": 84,
   "metadata": {},
   "outputs": [
    {
     "name": "stdout",
     "output_type": "stream",
     "text": [
      "Ala -> Gly -> Leu\n",
      "Val -> Pro -> Ser\n",
      "Thr -> Cys\n",
      "Ala\n",
      "Gly\n",
      "Leu\n",
      "Val\n"
     ]
    }
   ],
   "source": [
    "protein1 = Node(\n",
    "    \"Ala\",\n",
    "    Node(\n",
    "        \"Gly\",\n",
    "        Node(\"Leu\", Node(\"Val\", Node(\"Pro\", Node(\"Ser\", Node(\"Thr\", Node(\"Cys\")))))),\n",
    "    ),\n",
    ")\n",
    "protein2 = Node(\"Ala\", Node(\"Gly\", Node(\"Leu\", Node(\"Val\"))))\n",
    "\n",
    "parts = split_protein_chain(protein1, 3)\n",
    "for part in parts:\n",
    "    print_linked_list(part)\n",
    "\n",
    "parts = split_protein_chain(protein2, 5)\n",
    "for part in parts:\n",
    "    print_linked_list(part)"
   ]
  },
  {
   "cell_type": "markdown",
   "metadata": {},
   "source": [
    "Ala -> Gly -> Leu\n",
    "Val -> Pro -> Ser\n",
    "Thr -> Cys\n",
    "Example 1 Explanation: The input list has been split into consecutive parts with size difference at most 1,\n",
    "and earlier parts are a larger size than later parts.\n",
    "\n",
    "Ala\n",
    "Gly\n",
    "Leu\n",
    "Val\n",
    "Empty List\n",
    "Example 2 Explanation: The input list has been split into consecutive parts with size difference at most 1.\n",
    "Because k is one greater than the length of the input list, the last segment is an empty list."
   ]
  },
  {
   "cell_type": "markdown",
   "metadata": {},
   "source": [
    "## Problem 4: Maximum Protein Pair Stability\n",
    "You are analyzing the stability of protein chains, which are represented by a singly linked list where each node contains an integer stability value. The chain has an even number of nodes, and for each node i (0-indexed), its \"twin\" is defined as node (n-1-i), where n is the length of the linked list.\n",
    "\n",
    "Write a function max_protein_pair_stability() that accepts the head of a linked list, and determines the maximum \"twin stability sum,\" which is the sum of the stability values of a node and its twin.\n",
    "\n",
    "Evaluate the time and space complexity of your solution. Define your variables and provide a rationale for why you believe your solution has the stated time and space complexity."
   ]
  },
  {
   "cell_type": "code",
   "execution_count": 6,
   "metadata": {},
   "outputs": [],
   "source": [
    "class Node:\n",
    "    def __init__(self, value, next=None):\n",
    "        self.value = value\n",
    "        self.next = next\n",
    "\n",
    "\n",
    "# For testing\n",
    "def print_linked_list(head):\n",
    "    current = head\n",
    "    while current:\n",
    "        print(current.value, end=\" -> \" if current.next else \"\\n\")\n",
    "        current = current.next\n",
    "\n",
    "\n",
    "def max_protein_pair_stability(head):\n",
    "    if not head:\n",
    "        return 0\n",
    "    \n",
    "    temp = head\n",
    "    values = []\n",
    "    while temp:\n",
    "        values.append(temp.value)\n",
    "        temp = temp.next\n",
    "    n = len(values)\n",
    "    maxVal = float('-inf')\n",
    "    for i in range(len(values) // 2):\n",
    "        currMax = values[i] + values[n-1-i]\n",
    "        maxVal = max(currMax, maxVal)\n",
    "    return maxVal\n",
    "            "
   ]
  },
  {
   "cell_type": "code",
   "execution_count": 7,
   "metadata": {},
   "outputs": [
    {
     "name": "stdout",
     "output_type": "stream",
     "text": [
      "6\n",
      "7\n"
     ]
    }
   ],
   "source": [
    "head1 = Node(5, Node(4, Node(2, Node(1))))\n",
    "head2 = Node(4, Node(2, Node(2, Node(3))))\n",
    "\n",
    "print(max_protein_pair_stability(head1))\n",
    "print(max_protein_pair_stability(head2))"
   ]
  },
  {
   "cell_type": "markdown",
   "metadata": {},
   "source": [
    "6\n",
    "Example 1 Explanation:\n",
    "Nodes 0 and 1 are the twins of nodes 3 and 2, respectively. All have twin sum = 6.\n",
    "There are no other nodes with twins in the linked list.\n",
    "Thus, the maximum twin sum of the linked list is 6. \n",
    "\n",
    "7\n",
    "Explanation:\n",
    "The nodes with twins present in this linked list are:\n",
    "- Node 0 is the twin of node 3 having a twin sum of 4 + 3 = 7.\n",
    "- Node 1 is the twin of node 2 having a twin sum of 2 + 2 = 4.\n",
    "Thus, the maximum twin sum of the linked list is max(7, 4) = 7."
   ]
  },
  {
   "cell_type": "markdown",
   "metadata": {},
   "source": [
    "## Problem 5: Grouping Experiments\n",
    "You have a list of experiment results for two types of experiments conducted in alternating order represented by a singly linked list. Each node in the list corresponds to an experiment result, and the position of the result in the 1-indexed sequence determines whether it is odd or even.\n",
    "\n",
    "Given the head of the linked list, exp_results, reorganize the experiment results so that all results in odd positions are grouped together first, followed by all results in even positions. The relative order of the results within the odd group and the even group must remain the same as the original sequence. The first result in the list is considered to be odd, the second result is even, and so on. Return the head of the reorganized list.\n",
    "\n",
    "Your solution must have O(1) space complexity and O(n) time complexity."
   ]
  },
  {
   "cell_type": "code",
   "execution_count": null,
   "metadata": {},
   "outputs": [],
   "source": [
    "class Node:\n",
    "    def __init__(self, value, next=None):\n",
    "        self.value = value\n",
    "        self.next = next\n",
    "\n",
    "\n",
    "# For testing\n",
    "def print_linked_list(head):\n",
    "    current = head\n",
    "    while current:\n",
    "        print(current.value, end=\" -> \" if current.next else \"\\n\")\n",
    "        current = current.next\n",
    "\n",
    "\n",
    "def odd_even_experiments(exp_results):\n",
    "    if not exp_results:\n",
    "        return []\n",
    "    \n",
    "    dummy = Node(None, next=exp_results)\n",
    "    curr = dummy.next\n",
    "    while curr:\n",
    "        if curr.value % 2 ==0:\n",
    "            curr = curr.next\n",
    "        else:\n",
    "            temp = curr\n",
    "            \n",
    "            "
   ]
  },
  {
   "cell_type": "code",
   "execution_count": null,
   "metadata": {},
   "outputs": [],
   "source": [
    "experiment_results1 = Node(1, Node(2, Node(3, Node(4, Node(5)))))\n",
    "experiment_results2 = Node(2, Node(1, Node(3, Node(5, Node(6, Node(4, Node(7)))))))\n",
    "\n",
    "print_linked_lists(odd_even_experiments(experiment_results1))\n",
    "print_linked_lists(odd_even_experiments(experiment_results2))\n",
    "\n",
    "# 1 -> 3 -> 5 -> 2 -> 4\n",
    "# 2 -> 3 -> 6 -> 7 -> 1 -> 5 -> 4"
   ]
  },
  {
   "cell_type": "markdown",
   "metadata": {},
   "source": [
    "## Problem 1: Linked List Game\n",
    "As the judge of the game show, you are given the head of a linked list of even length containing integers.\n",
    "\n",
    "Each odd-indexed node contains an odd integer and each even-indexed node contains an even integer.\n",
    "\n",
    "We call each even-indexed node and its next node a pair, e.g., the nodes with indices 0 and 1 are a pair, the nodes with indices 2 and 3 are a pair, and so on.\n",
    "\n",
    "For every pair, we compare the values of the nodes in the pair:\n",
    "\n",
    "If the odd-indexed node is higher, the \"Odd\" team gets a point.\n",
    "If the even-indexed node is higher, the \"Even\" team gets a point.\n",
    "Write a function game_result() that returns the name of the team with the higher points, if the points are equal, return \"Tie\".\n",
    "\n",
    "Evaluate the time and space complexity of your solution. Define your variables and provide a rationale for why you believe your solution has the stated time and space complexity."
   ]
  },
  {
   "cell_type": "code",
   "execution_count": 37,
   "metadata": {},
   "outputs": [],
   "source": [
    "class Node:\n",
    "    def __init__(self, value, next=None):\n",
    "        self.value = value\n",
    "        self.next = next\n",
    "\n",
    "\n",
    "# For testing\n",
    "def print_linked_list(head):\n",
    "    current = head\n",
    "    while current:\n",
    "        print(current.value, end=\" -> \" if current.next else \"\\n\")\n",
    "        current = current.next\n",
    "\n",
    "\n",
    "def game_result(head):\n",
    "    curr = head\n",
    "    values = []\n",
    "    while curr:\n",
    "        values.append(curr.value)\n",
    "        curr = curr.next\n",
    "        \n",
    "    odd = 0\n",
    "    even = 0\n",
    "    n = len(values)\n",
    "    for i in range(0, n, 2):\n",
    "        if values[i] > values[i+1]:\n",
    "            even +=1\n",
    "        else:\n",
    "            odd +=1\n",
    "            \n",
    "            \n",
    "            \n",
    "    if odd > even:\n",
    "        return 'odd'\n",
    "    elif even > odd:\n",
    "        return 'even'\n",
    "    else:\n",
    "        return 'tie'"
   ]
  },
  {
   "cell_type": "code",
   "execution_count": 39,
   "metadata": {},
   "outputs": [
    {
     "name": "stdout",
     "output_type": "stream",
     "text": [
      "even\n",
      "odd\n",
      "tie\n"
     ]
    }
   ],
   "source": [
    "game1 = Node(2, Node(1))\n",
    "game2 = Node(2, Node(5, Node(4, Node(7, Node(20, Node(5))))))\n",
    "game3 = Node(4, Node(5, Node(2, Node(1))))\n",
    "\n",
    "print(game_result(game1))\n",
    "print(game_result(game2))\n",
    "print(game_result(game3))"
   ]
  },
  {
   "cell_type": "markdown",
   "metadata": {},
   "source": [
    "Even\n",
    "Example 1 Explanation: There is only one pair in this linked list and that is (2,1).\n",
    "Since 2 > 1, the Even team gets the point.\n",
    "Hence, the answer is \"Even\".\n",
    "\n",
    "Odd\n",
    "Example 2 Explanation: There are 3 pairs in this linked list. \n",
    "Let's investigate each pair individually:\n",
    "(2,5) -> Since 2 < 5, The Odd team gets the point.\n",
    "(4,7) -> Since 4 < 7, The Odd team gets the point.\n",
    "(20,5) -> Since 20 > 5, The Even team gets the point.\n",
    "The Odd team earned 2 points while the Even team got 1 point and the Odd team has the higher points.\n",
    "Hence, the answer is \"Odd\".\n",
    "\n",
    "Tie\n",
    "Example 3 Explanation: There are 2 pairs in this linked list. \n",
    "Let's investigate each pair individually:\n",
    "(4,5) -> Since 4 < 5, the Odd team gets the point.\n",
    "(2,1) -> Since 2 > 1, the Even team gets the point.\n",
    "Both teams earned 1 point.\n",
    "Hence, the answer is \"Tie\"."
   ]
  },
  {
   "cell_type": "markdown",
   "metadata": {},
   "source": [
    "## Problem 2: Cycle Start\n",
    "On your marks, get set, go! Contestants in the game show are racing along a path that contains a loop, but there's a hidden mini challenge: they aren't told where along the path the loop begins. Given the head of a linked list, path_start where each node represents a point in the path, return the value of the node at the start of the loop. If no loop exists in the path, return None.\n",
    "\n",
    "A linked list has a cycle or loop if at some point in the list, the node’s next pointer points back to a previous node in the list.\n"
   ]
  },
  {
   "cell_type": "code",
   "execution_count": 49,
   "metadata": {},
   "outputs": [],
   "source": [
    "class Node:\n",
    "    def __init__(self, value, next=None):\n",
    "        self.value = value\n",
    "        self.next = next\n",
    "\n",
    "\n",
    "def cycle_start(path_start):\n",
    "    slow = fast = path_start\n",
    "    while fast and fast.next:\n",
    "        if fast == slow:\n",
    "            break\n",
    "        slow = slow.next\n",
    "        fast = fast.next.next\n",
    "    else:\n",
    "        return None\n",
    "    \n",
    "    slow = path_start\n",
    "    while slow != fast:\n",
    "        slow = slow.next\n",
    "        fast = fast.next\n",
    "        \n",
    "    return slow.next.value\n",
    "            "
   ]
  },
  {
   "cell_type": "code",
   "execution_count": 50,
   "metadata": {},
   "outputs": [
    {
     "name": "stdout",
     "output_type": "stream",
     "text": [
      "Point 1\n"
     ]
    }
   ],
   "source": [
    "path_start = Node(\"Start\", Node(\"Point 1\", Node(\"Point 2\", Node(\"Point 3\"))))\n",
    "path_start.next.next.next.next = path_start.next\n",
    "\n",
    "print(cycle_start(path_start))"
   ]
  },
  {
   "cell_type": "markdown",
   "metadata": {},
   "source": [
    "## Problem 3: Fastest Wins!\n",
    "Contestants, today's challenge is to sort a linked list of items the fastest! The catch - you have to follow a certain technique or you're disqualified from the round. You’ll start with an unsorted lineup, and with each step, you’ll move one item at a time into its proper position until the entire lineup is perfectly ordered.\n",
    "\n",
    "Given the head of a linked list, sort the items using the following procedure:\n",
    "\n",
    "Start with the first item: The sorted section initially contains just the first item. The rest of the items await their turn in the unsorted section.\n",
    "Pick and Place: For each step, pick the next item from the unsorted section, find its correct spot in the sorted section, and place it there.\n",
    "Repeat: Continue until all items are in the sorted section.\n",
    "Return the head of the sorted linked list.\n",
    "\n",
    "As a preview, here is a graphical example of the required technique (also known as the insertion sort algorithm). The partially sorted list (black) initially contains only the first element in the list. One element (red) is removed from the input data and inserted in-place into the sorted list with each iteration.\n",
    "\n",
    "Sorting unordered list of integers using insertion sort technique\n",
    "\n",
    "When you have finished your sorting, receive bonus points for evaluating the time and space complexity of your solution. To get full points, you must define your variables and provide a rationale for why you believe your solution has the stated time and space complexity."
   ]
  },
  {
   "cell_type": "code",
   "execution_count": null,
   "metadata": {},
   "outputs": [],
   "source": [
    "class Node:\n",
    "    def __init__(self, value, next=None):\n",
    "        self.value = value\n",
    "        self.next = next\n",
    "\n",
    "\n",
    "# For testing\n",
    "def print_linked_list(head):\n",
    "    current = head\n",
    "    while current:\n",
    "        print(current.value, end=\" -> \" if current.next else \"\\n\")\n",
    "        current = current.next\n",
    "\n",
    "\n",
    "def sort_list(head):\n",
    "    pass"
   ]
  },
  {
   "cell_type": "code",
   "execution_count": null,
   "metadata": {},
   "outputs": [],
   "source": [
    "head1 = Node(4, Node(2, Node(1, Node(3))))\n",
    "head2 = Node(-1, Node(5, Node(3, Node(4, Node(0)))))\n",
    "\n",
    "print_linked_list(sort_list(head1))\n",
    "print_linked_list(sort_list(head2))"
   ]
  },
  {
   "cell_type": "markdown",
   "metadata": {},
   "source": []
  },
  {
   "cell_type": "markdown",
   "metadata": {},
   "source": [
    "## Problem 1: Next in Queue\n",
    "Each user on a music app should have a queue of songs to play next. Implement the class Queue using a singly linked list. Recall that a queue is a First-In-First-Out (FIfO) data structure where elements are added to the end (the tail) and removed from the front (the head).\n",
    "\n",
    "Your queue must have the following methods:\n",
    "\n",
    "- __init()__: Initializes an empty queue (provided)\n",
    "- is_empty(): Returns True if the queue is empty, and False otherwise.\n",
    "- enqueue(): Accepts a tuple of two strings (song, artist) and adds the element with the specified tuple to the end of the queue.\n",
    "- dequeue(): Removes and returns the element at the front of the queue. If the queue is empty, returns None.\n",
    "- peek(): Returns the value of the element at the front of the queue without removing it. If the queue is empty, returns None."
   ]
  },
  {
   "cell_type": "code",
   "execution_count": 180,
   "metadata": {},
   "outputs": [],
   "source": [
    "class Node:\n",
    "\tdef __init__(self, value, next=None):\n",
    "\t\tself.value = value\n",
    "\t\tself.next = next\n",
    "\n",
    "# For testing\n",
    "def print_queue(head):\n",
    "    current = head.front\n",
    "    while current:\n",
    "        print(current.value, end=\" -> \" if current.next else \"\")\n",
    "        current = current.next\n",
    "    print()\n",
    "\n",
    "class Queue:\n",
    "    def __init__(self):\n",
    "        self.front = None\n",
    "        self.rear = None\n",
    "    \n",
    "    def is_empty(self):\n",
    "        return self.front == None\n",
    "\n",
    "    def enqueue(self, tuple):\n",
    "        new_node = Node((tuple[0], tuple[1]))\n",
    "        if self.rear:\n",
    "            self.rear.next = new_node\n",
    "        self.rear = new_node\n",
    "        if self.front is None:\n",
    "            self.front = new_node\n",
    "    \n",
    "    def dequeue(self):\n",
    "        if self.front is self.is_empty():\n",
    "            return None\n",
    "        if self.front:\n",
    "            temp = self.front\n",
    "            self.front = self.front.next\n",
    "        return temp.value\n",
    "        \n",
    "    def peek(self):\n",
    "        if self.front:\n",
    "            return self.front.value\n",
    "        return None"
   ]
  },
  {
   "cell_type": "code",
   "execution_count": 181,
   "metadata": {},
   "outputs": [
    {
     "name": "stdout",
     "output_type": "stream",
     "text": [
      "('Love Song', 'Sara Bareilles') -> ('Ballad of Big Nothing', 'Elliot Smith') -> ('Hug from a Dinosaur', 'Torres')\n",
      "Peek:  ('Love Song', 'Sara Bareilles')\n",
      "Dequeue:  ('Love Song', 'Sara Bareilles')\n",
      "Dequeue:  ('Ballad of Big Nothing', 'Elliot Smith')\n",
      "Is Empty:  False\n",
      "Dequeue:  ('Hug from a Dinosaur', 'Torres')\n",
      "Is Empty: True\n"
     ]
    }
   ],
   "source": [
    "# Create a new Queue\n",
    "q = Queue()\n",
    "\n",
    "# Add elements to the queue\n",
    "q.enqueue(('Love Song', 'Sara Bareilles'))\n",
    "q.enqueue(('Ballad of Big Nothing', 'Elliot Smith'))\n",
    "q.enqueue(('Hug from a Dinosaur', 'Torres'))\n",
    "print_queue(q)\n",
    "\n",
    "# View the front element\n",
    "print(\"Peek: \", q.peek()) \n",
    "\n",
    "# Remove elements from the queue\n",
    "print(\"Dequeue: \", q.dequeue()) \n",
    "print(\"Dequeue: \", q.dequeue()) \n",
    "\n",
    "# Check if the queue is empty\n",
    "print(\"Is Empty: \", q.is_empty()) \n",
    "\n",
    "# Remove the last element\n",
    "print(\"Dequeue: \", q.dequeue()) \n",
    "\n",
    "# Check if the queue is empty\n",
    "print(\"Is Empty:\", q.is_empty()) "
   ]
  },
  {
   "cell_type": "markdown",
   "metadata": {},
   "source": [
    "- ('Love Song', 'Sara Bareilles') -> ('Ballad of Big Nothing', 'Elliot Smith') \n",
    "-> ('Hug from a Dinosaur', 'Torres')\n",
    "- Peek:  ('Love Song', 'Sara Bareilles')\n",
    "- Dequeue:  ('Love Song', 'Sara Bareilles')\n",
    "- Dequeue:  ('Ballad of Big Nothing', 'Elliot Smith')\n",
    "- Is Empty:  False\n",
    "- Dequeue:  ('Hug from a Dinosaur', 'Torres')\n",
    "- Is Empty: True"
   ]
  },
  {
   "cell_type": "markdown",
   "metadata": {},
   "source": [
    "## Problem 2: Merge Playlists\n",
    "You are given the head of two linked lists, playlist1 and playlist2 with lengths n and m respectively. Remove playlist1's nodes from the ath to the bth node and put playlist2 in its place. Assume the lists are 0-indexed.\n",
    "\n",
    "The blue edges and nodes in the figure below indicate the result:\n",
    "\n",
    "Merged playlists\n",
    "\n",
    "Evaluate the time and space complexity of your solution. Define your variables and provide a rationale for why you believe your solution has the stated time and space complexity."
   ]
  },
  {
   "cell_type": "code",
   "execution_count": 3,
   "metadata": {},
   "outputs": [],
   "source": [
    "class Node:\n",
    "\tdef __init__(self, value, next=None):\n",
    "\t\tself.value = value\n",
    "\t\tself.next = next\n",
    "\n",
    "# For testing\n",
    "def print_linked_list(head):\n",
    "    current = head\n",
    "    while current:\n",
    "        print(current.value, end=\" -> \" if current.next else \"\")\n",
    "        current = current.next\n",
    "    print()\n",
    "\n",
    "def merge_playlists(playlist1: Node, playlist2: Node, a: int, b: int) -> Node:\n",
    "    if not playlist1 or not playlist2:\n",
    "        return None\n",
    "    pointA = playlist1\n",
    "    for _ in range(a-1):\n",
    "        pointA = pointA.next\n",
    "        \n",
    "    # point A -> Juice\n",
    "    \n",
    "    pointB = pointA\n",
    "    for _ in range(b-a + 2):\n",
    "        pointB = pointB.next\n",
    "    \n",
    "    pointA.next = playlist2\n",
    "    \n",
    "    curr = playlist2\n",
    "    while curr.next:\n",
    "        curr = curr.next\n",
    "    \n",
    "    curr.next = pointB\n",
    "    \n",
    "    return playlist1\n",
    "    \n",
    "        "
   ]
  },
  {
   "cell_type": "code",
   "execution_count": 4,
   "metadata": {},
   "outputs": [
    {
     "name": "stdout",
     "output_type": "stream",
     "text": [
      "('Flea', 'St. Vincent') -> ('Juice', 'Lizzo') -> ('Dreams', 'Solange') -> ('First', 'Gallant') -> ('Empty', 'Kevin Abstract')\n"
     ]
    }
   ],
   "source": [
    "playlist1 = Node(('Flea', 'St. Vincent'),\n",
    "                Node(('Juice', 'Lizzo'), \n",
    "                    Node(('Tenderness', 'Jay Som'),\n",
    "                        Node(('Ego Death', 'The Internet'),\n",
    "                            Node(('Empty', 'Kevin Abstract'))))))\n",
    "\n",
    "playlist2 = Node(('Dreams', 'Solange'), Node(('First', 'Gallant')))\n",
    "\n",
    "print_linked_list(merge_playlists(playlist1, playlist2, 2, 3))\n",
    "# ('Flea', 'St.Vincent') -> ('Juice', 'Lizzo') -> ('Dreams', 'Solange') -> ('First', 'Gallant')\n",
    "# -> ('Empty', 'Kevin Abstract')"
   ]
  },
  {
   "cell_type": "markdown",
   "metadata": {},
   "source": [
    "## Problem 3: Shuffle Playlist\n",
    "You are given the head of a singly linked list playlist. The list can be represented as:\n",
    "\n",
    "L0 → L1 → … → Ln - 1 → Ln\n",
    "\n",
    "Shuffle the playlist to have the following form:\n",
    "\n",
    "L0 → Ln → L1 → Ln - 1 → L2 → Ln - 2 → …\n",
    "\n",
    "You may not modify the values in the list's nodes. Only the order of the nodes themselves may be changed. Return the head of the shuffled list.\n",
    "\n",
    "Evaluate the time and space complexity of your solution. Define your variables and provide a rationale for why you believe your solution has the stated time and space complexity."
   ]
  },
  {
   "cell_type": "code",
   "execution_count": 13,
   "metadata": {},
   "outputs": [],
   "source": [
    "class Node:\n",
    "\tdef __init__(self, value, next=None):\n",
    "\t\tself.value = value\n",
    "\t\tself.next = next\n",
    "\n",
    "# For testing\n",
    "def print_linked_list(head):\n",
    "    current = head\n",
    "    while current:\n",
    "        print(current.value, end=\" -> \" if current.next else \"\")\n",
    "        current = current.next\n",
    "    print()\n",
    "\n",
    "def shuffle_playlist(playlist):\n",
    "\n",
    "    slow = playlist\n",
    "    fast = playlist\n",
    "    \n",
    "    while fast and fast.next:\n",
    "        slow = slow.next\n",
    "        fast = fast.next.next\n",
    "        \n",
    "    prev = None\n",
    "    curr = slow.next\n",
    "    slow.next = None\n",
    "    \n",
    "    while curr:\n",
    "        new_node = curr.next\n",
    "        curr.next  = prev\n",
    "        prev = curr\n",
    "        curr = new_node\n",
    "    \n",
    "    \n",
    "    first = playlist\n",
    "    second = prev\n",
    "    while second:\n",
    "        next_first, next_second = first.next, second.next\n",
    "        first.next = second\n",
    "        second.next = next_first\n",
    "        first = next_first\n",
    "        second = next_second\n",
    "        \n",
    "    return playlist\n",
    "    "
   ]
  },
  {
   "cell_type": "code",
   "execution_count": 14,
   "metadata": {},
   "outputs": [
    {
     "name": "stdout",
     "output_type": "stream",
     "text": [
      "1 -> 4 -> 2 -> 3\n",
      "('Respect', 'Aretha Franklin') -> ('Bohemian Rhapsody', 'Queen') -> ('Superstition', 'Stevie Wonder') -> ('Like a Prayer', 'Madonna') -> ('Wonderwall', 'Oasis')\n"
     ]
    }
   ],
   "source": [
    "playlist1 = Node(1, Node(2, Node(3, Node(4))))\n",
    "\n",
    "playlist2 = Node(('Respect', 'Aretha Franklin'),\n",
    "                Node(('Superstition', 'Stevie Wonder'),\n",
    "                    Node(('Wonderwall', 'Oasis'),\n",
    "                        Node(('Like a Prayer', 'Madonna'),\n",
    "                            Node(('Bohemian Rhapsody', 'Queen'))))))\n",
    "\n",
    "print_linked_list(shuffle_playlist(playlist1))\n",
    "print_linked_list(shuffle_playlist(playlist2))\n",
    "# 1 -> 4 -> 2 -> 3\n",
    "# ('Respect', 'Aretha Franklin') -> ('Bohemian Rhapsody', 'Queen') -> ('Superstition', 'Stevie Wonder') ->\n",
    "# ('Like a Prayer', 'Madonna') -> ('Wonderwall', 'Oasis')"
   ]
  },
  {
   "cell_type": "markdown",
   "metadata": {},
   "source": [
    "\n",
    "## Problem 4: Shared Music Taste\n",
    "Given the heads of two singly linked lists playlist_a and playlist_b, return the node at which the two lists intersect. If the two lists have no intersection at all, return None.\n",
    "\n",
    "There are no cycles anywhere in either linked list. The linked lists must retain their original structure after the function returns.\n",
    "\n",
    "Evaluate the time and space complexity of your solution. Define your variables and provide a rationale for why you believe your solution has the stated time and space complexity."
   ]
  },
  {
   "cell_type": "code",
   "execution_count": 15,
   "metadata": {},
   "outputs": [],
   "source": [
    "class Node:\n",
    "    def __init__(self, value, next=None):\n",
    "        self.value = value\n",
    "        self.next = next\n",
    "\n",
    "# For testing\n",
    "def print_linked_list(head):\n",
    "    current = head\n",
    "    while current:\n",
    "        print(current.value, end=\" -> \" if current.next else \"\")\n",
    "        current = current.next\n",
    "    print()\n",
    "\n",
    "\n",
    "def playlist_overlap(playlist_a: Node, playlist_b: Node)-> Node:\n",
    "    if not playlist_a or not playlist_b:\n",
    "        return None\n",
    "    def get_len(head: Node) -> int:\n",
    "        count = 0\n",
    "        while head:\n",
    "            count +=1\n",
    "            head = head.next\n",
    "        return count\n",
    "    \n",
    "    lenA = get_len(playlist_a)\n",
    "    lenB = get_len(playlist_b)\n",
    "    \n",
    "    while lenA > lenB:\n",
    "        lenA -= 1\n",
    "        playlist_a = playlist_a.next\n",
    "    else:\n",
    "        lenB -=1\n",
    "        playlist_b = playlist_b.next\n",
    "        \n",
    "    while playlist_a and playlist_b:\n",
    "        if playlist_a == playlist_b:\n",
    "            return playlist_a\n",
    "        playlist_a = playlist_a.next\n",
    "        playlist_b = playlist_b.next\n",
    "    return None\n",
    "    \n",
    "\n",
    "    "
   ]
  },
  {
   "cell_type": "code",
   "execution_count": 16,
   "metadata": {},
   "outputs": [
    {
     "name": "stdout",
     "output_type": "stream",
     "text": [
      "Song M\n"
     ]
    }
   ],
   "source": [
    "playlist_a = Node('Song A', Node('Song B'))\n",
    "playlist_b = Node('Song X', Node('Song Y', Node('Song Z')))\n",
    "shared_segment = Node('Song M', Node('Song N', Node('Song O')))\n",
    "\n",
    "playlist_a.next.next = shared_segment\n",
    "playlist_b.next.next.next = shared_segment\n",
    "\n",
    "print((playlist_overlap(playlist_a, playlist_b)).value)\n",
    "# Song M"
   ]
  },
  {
   "cell_type": "markdown",
   "metadata": {},
   "source": [
    "## Problem 5: Double Listening Count\n",
    "A new artist is blowing up and the number of people listening to their music has doubled in the last month. Given the head of a non-empty linked list monthly_listeners representing a non-negative integer without leading zeroes, return the head of the linked list after doubling its integer value.\n",
    "\n",
    "Evaluate the time and space complexity of your solution. Define your variables and provide a rationale for why you believe your solution has the stated time and space complexity."
   ]
  },
  {
   "cell_type": "code",
   "execution_count": 25,
   "metadata": {},
   "outputs": [],
   "source": [
    "class Node:\n",
    "\tdef __init__(self, value, next=None):\n",
    "\t\tself.value = value\n",
    "\t\tself.next = next\n",
    "\n",
    "# For testing\n",
    "def print_linked_list(head: Node) -> None:\n",
    "    current = head\n",
    "    while current:\n",
    "        print(current.value, end=\" -> \" if current.next else \"\")\n",
    "        current = current.next\n",
    "    print()\n",
    "\n",
    "def double_listeners(monthly_listeners: Node) -> Node:\n",
    "    if not monthly_listeners:\n",
    "        return None\n",
    "    \n",
    "    curr = monthly_listeners\n",
    "    num = 0\n",
    "    while curr:\n",
    "        num = num * 10 + curr.value\n",
    "        curr = curr.next\n",
    "    num *= 2\n",
    "    dummy = Node(0)\n",
    "    new_head = dummy\n",
    "    for digit in str(num):\n",
    "        new_head.next = Node(int(digit))\n",
    "        new_head = new_head.next\n",
    "        \n",
    "    return dummy.next"
   ]
  },
  {
   "cell_type": "code",
   "execution_count": 26,
   "metadata": {},
   "outputs": [
    {
     "name": "stdout",
     "output_type": "stream",
     "text": [
      "3 -> 7 -> 8\n",
      "1 -> 9 -> 9 -> 8\n"
     ]
    }
   ],
   "source": [
    "monthly_listeners1 = Node(1, Node(8, Node(9))) # 189\n",
    "monthly_listeners2 = Node(9, Node(9, Node(9))) # 999\n",
    "\n",
    "print_linked_list(double_listeners(monthly_listeners1))\n",
    "print_linked_list(double_listeners(monthly_listeners2))\n",
    "# 3 -> 7 -> 8\n",
    "# Example 1 Explanation: 189 * 2 = 378\n",
    "\n",
    "# 1 -> 9 -> 9 -> 8\n",
    "# Example 2 Explanation: 999 * 2 = 1998"
   ]
  },
  {
   "cell_type": "markdown",
   "metadata": {},
   "source": [
    "## Problem 1: Stack 'Em Up!\n",
    "The library has a stack of returned books waiting to be shelved. Help the library to manage the stack by implement the class Stack using a singly linked list. Recall that a queue is a Lat-In-First-Out (LIFO) data structure where elements are added to the front (the head) and removed from the front (the head).\n",
    "\n",
    "Your queue must have the following methods:\n",
    "\n",
    "- __init()__: Initializes an empty stack (provided)\n",
    "- push(): Accepts a tuple of two strings (title, author) and adds the element with the specified tuple to the front/top of the stack.\n",
    "- pop(): Removes and returns the element at the front/top of the stack. If the stack is empty, returns None.\n",
    "- peek(): Returns the value of the element at the front/top of the stack without removing it. If the queue is empty, returns None.\n",
    "- is_empty(): Returns True if the stack is empty, and False otherwise."
   ]
  },
  {
   "cell_type": "code",
   "execution_count": 65,
   "metadata": {},
   "outputs": [],
   "source": [
    "class Node:\n",
    "\tdef __init__(self, value, next=None):\n",
    "\t\tself.value = value\n",
    "\t\tself.next = next\n",
    "\n",
    "# For testing\n",
    "def print_stack(head):\n",
    "    current = head.front\n",
    "    while current:\n",
    "        print(current.value, end=\" -> \" if current.next else \"\")\n",
    "        current = current.next\n",
    "    print()\n",
    "\n",
    "class Stack:\n",
    "    def __init__(self):\n",
    "        self.front = None\n",
    "\n",
    "    def is_empty(self):\n",
    "        return self.front is None\n",
    "\n",
    "    def push(self, value):\n",
    "        new_node = Node(value)\n",
    "        new_node.next = self.front\n",
    "        self.front = new_node\n",
    "\n",
    "    def pop(self):\n",
    "        if self.is_empty():\n",
    "            return None\n",
    "        popped_node = self.front\n",
    "        self.front = self.front.next\n",
    "        return popped_node.value\n",
    "\n",
    "    def peek(self):\n",
    "        if self.is_empty():\n",
    "            return None\n",
    "        return self.front.value"
   ]
  },
  {
   "cell_type": "code",
   "execution_count": 66,
   "metadata": {},
   "outputs": [
    {
     "name": "stdout",
     "output_type": "stream",
     "text": [
      "('Dune', 'Frank Herbert') -> ('Gone Girl', 'Gillian Flynn') -> ('Educated', 'Tara Westover')\n",
      "Peek:  ('Dune', 'Frank Herbert')\n",
      "Pop:  ('Dune', 'Frank Herbert')\n",
      "Pop:  ('Gone Girl', 'Gillian Flynn')\n",
      "Is Empty:  False\n"
     ]
    }
   ],
   "source": [
    "# Create a new Stack\n",
    "stack = Stack()\n",
    "\n",
    "# Add elements to the stack\n",
    "stack.push(('Educated', 'Tara Westover'))\n",
    "stack.push(('Gone Girl', 'Gillian Flynn'))\n",
    "stack.push(('Dune', 'Frank Herbert'))\n",
    "print_stack(stack)\n",
    "\n",
    "# View the front element\n",
    "print(\"Peek: \", stack.peek()) \n",
    "\n",
    "# Remove elements from the stack\n",
    "print(\"Pop: \", stack.pop()) \n",
    "print(\"Pop: \", stack.pop()) \n",
    "\n",
    "# Check if the stack is empty\n",
    "print(\"Is Empty: \", stack.is_empty()) \n",
    "\n",
    "# # Remove the last element\n",
    "# print(\"Pop: \", stack.pop()) \n",
    "\n",
    "# # Check if the queue is empty\n",
    "# print(\"Is Empty:\", stack.is_empty()) \n",
    "\n",
    "# ('Dune', 'Frank Herbert') -> ('Gone Girl', 'Gillian Flynn') -> ('Educated', 'Tara Westover')\n",
    "# Peek:  ('Dune', 'Frank Herbert')\n",
    "# Pop:  ('Dune', 'Frank Herbert')\n",
    "# Pop:  ('Gone Girl', 'Gillian Flynn')\n",
    "# Is Empty:  False\n",
    "# Pop:  ('Educated', 'Tara Westover')\n",
    "# Is Empty: True"
   ]
  },
  {
   "cell_type": "markdown",
   "metadata": {},
   "source": [
    "## Problem 2: Suprise Me\n",
    "Given the head of a singly linked list of books in a library catalogue, suggest a random book to a customer by returning a random node's value from the linked list. Each node must have the same probability of being chosen.\n",
    "\n",
    "Evaluate the time and space complexity of your solution. Define your variables and provide a rationale for why you believe your solution has the stated time and space complexity."
   ]
  },
  {
   "cell_type": "code",
   "execution_count": 79,
   "metadata": {},
   "outputs": [],
   "source": [
    "import random\n",
    "\n",
    "class Node:\n",
    "    def __init__(self, value, next=None):\n",
    "        self.value = value\n",
    "        self.next = next\n",
    "\n",
    "# For testing\n",
    "def print_linked_list(head):\n",
    "    current = head\n",
    "    while current:\n",
    "        print(current.value, end=\" -> \" if current.next else \"\")\n",
    "        current = current.next\n",
    "    print()\n",
    "\n",
    "def get_random(playlist):\n",
    "    current = playlist\n",
    "    books = []\n",
    "    while current:\n",
    "        books.append(current.value)\n",
    "        current = current.next\n",
    "    return random.choice(books)\n"
   ]
  },
  {
   "cell_type": "markdown",
   "metadata": {},
   "source": [
    "catalogue = Node(('Homegoing', 'Yaa Gyasi'),\n",
    "                Node(('Pachinko', 'Min Jin Lee'),\n",
    "                         Node(('The Night Watchman', 'Louise Erdrich'))))\n",
    "\n",
    "print(get_random(catalogue))\n"
   ]
  },
  {
   "cell_type": "markdown",
   "metadata": {},
   "source": [
    "## Problem 3: Properly Reshelve\n",
    "A well-intentioned reader has improperly put back a book on the shelf. Given the head of a linked list shelf where each node represents a book on the shelf, and a value k return the head of the linked list after swapping the values of the kth node from the beginning and the kth node from the end. Assume the list is 1-indexed. Assume 1 <= k < n where n is the length of shelf."
   ]
  },
  {
   "cell_type": "code",
   "execution_count": 176,
   "metadata": {},
   "outputs": [],
   "source": [
    "class Node:\n",
    "    def __init__(self, value, next=None):\n",
    "        self.value = value\n",
    "        self.next = next\n",
    "\n",
    "# For testing\n",
    "def print_linked_list(head):\n",
    "    current = head\n",
    "    while current:\n",
    "        print(current.value, end=\" -> \" if current.next else \"\\n\")\n",
    "        current = current.next\n",
    "\n",
    "def swap_books(shelf, k):\n",
    "    length = 0\n",
    "    curr = shelf\n",
    "    while curr:\n",
    "        length +=1\n",
    "        curr = curr.next\n",
    "    \n",
    "    startSwap = shelf\n",
    "    for _ in range(k-1):\n",
    "        startSwap = startSwap.next\n",
    "\n",
    "    \n",
    "    endSwap = shelf\n",
    "    for _ in range(length-k):\n",
    "        endSwap = endSwap.next\n",
    "\n",
    "    startSwap, endSwap = endSwap, startSwap\n",
    "    \n",
    "    return shelf"
   ]
  },
  {
   "cell_type": "code",
   "execution_count": 177,
   "metadata": {},
   "outputs": [
    {
     "name": "stdout",
     "output_type": "stream",
     "text": [
      "Book 2\n",
      "Book 4\n",
      "Book 1 -> Book 2 -> Book 3 -> Book 4 -> Book 5\n"
     ]
    }
   ],
   "source": [
    "shelf = Node('Book 1', Node('Book 2', Node('Book 3', Node('Book 4', Node('Book 5')))))\n",
    "\n",
    "print_linked_list(swap_books(shelf, 2)) "
   ]
  },
  {
   "cell_type": "markdown",
   "metadata": {},
   "source": [
    "## Problem 4: Book Display\n",
    "You want to display popular new books the library has just received in a fun way to visitors.\n",
    "\n",
    "Given two integers m and n which represent dimensions of a matrix and the head of a linked list new_reads where each node represents a book, generate a m x n matrix that contains the values of each book in new_reads presented in sprial order (clockwise), starting from the top-left of the matrix. If there are remaining empty spaces, fill them with None.\n",
    "\n",
    "Return the generated matrix."
   ]
  },
  {
   "cell_type": "code",
   "execution_count": 207,
   "metadata": {},
   "outputs": [],
   "source": [
    "import numpy\n",
    "class Node:\n",
    "    def __init__(self, value, next=None):\n",
    "        self.value = value\n",
    "        self.next = next\n",
    "\n",
    "# For testing\n",
    "def print_linked_list(head):\n",
    "    current = head\n",
    "    while current:\n",
    "        print(current.value, end=\" -> \" if current.next else \"\")\n",
    "        current = current.next\n",
    "    print()\n",
    "\n",
    "def spiralize_books(m, n, new_reads):\n",
    "    matrix = [[None for _ in range(n)] for _ in range(m)]\n",
    "    \n",
    "    top = 0\n",
    "    bot = m-1\n",
    "    left = 0\n",
    "    right = n-1\n",
    "    \n",
    "    curr = new_reads\n",
    "    while curr and left <= right and top <= bot:\n",
    "        \n",
    "        # fill top row\n",
    "        for i in range(left, right+1):\n",
    "            matrix[top][i] = curr.value\n",
    "            curr = curr.next\n",
    "        top +=1\n",
    "        \n",
    "        # fill right column\n",
    "        for i in range(top, bot-1):\n",
    "            if curr:\n",
    "                matrix[right][i] = curr.value\n",
    "                curr = curr.next\n",
    "        right -=1\n",
    "        \n",
    "        # fill bottom row\n",
    "        for i in range(right, left-1, -1):\n",
    "            if curr:\n",
    "                matrix[bot][i] = curr.value\n",
    "                curr = curr.next    \n",
    "        bot -=1\n",
    "        \n",
    "        # fill left column\n",
    "        for i in range(bot, top-1, -1):\n",
    "            if curr:\n",
    "                matrix[i][left] = curr.value\n",
    "                curr = curr.next\n",
    "        left +=1\n",
    "            \n",
    "    return matrix"
   ]
  },
  {
   "cell_type": "code",
   "execution_count": 208,
   "metadata": {},
   "outputs": [
    {
     "name": "stdout",
     "output_type": "stream",
     "text": [
      "[['Book 1', 'Book 2', 'Book 3', 'Book 4', 'Book 5'], ['Book 10', 'Book 11', 'Book 12', 'Book 13', None], ['Book 9', 'Book 8', 'Book 7', 'Book 6', None]]\n"
     ]
    }
   ],
   "source": [
    "new_reads1 = Node('Book 1', Node('Book 2', Node('Book 3', Node('Book 4', Node('Book 5', Node('Book 6', \n",
    "Node('Book 7', Node('Book 8', Node('Book 9', Node('Book 10', Node('Book 11', Node('Book 12', Node('Book 13')))))))))))))\n",
    "new_reads2 = Node('Book 1', Node('Book 2', Node('Book 3')))\n",
    "\n",
    "print(spiralize_books(3, 5, new_reads1))\n",
    "# print(spiralize_books(1, 4, new_reads2))"
   ]
  },
  {
   "cell_type": "markdown",
   "metadata": {},
   "source": [
    "## Problem 5: Book Similarity\n",
    "The library sequences books by topic so that it's easy to find related books. Given the head of a linked list all_books where each node contains a unique integer values representing a different book in the library, and an integer array subset that contains a subset of the values in all_books, return the number of similar book components in subset. Two books are similar if they appear consecutively in the linked list."
   ]
  },
  {
   "cell_type": "code",
   "execution_count": null,
   "metadata": {},
   "outputs": [],
   "source": [
    "class Node:\n",
    "    def __init__(self, value, next=None):\n",
    "        self.value = value\n",
    "        self.next = next\n",
    "\n",
    "# For testing\n",
    "def print_linked_list(head):\n",
    "    current = head\n",
    "    while current:\n",
    "        print(current.value, end=\" -> \" if current.next else \"\")\n",
    "        current = current.next\n",
    "    print()\n",
    "\n",
    "def similar_book_count(all_books, subset):\n",
    "    # converts the subset to a set for faster look up time\n",
    "    subset_set = set(subset)\n",
    "    # pointer\n",
    "    current = all_books\n",
    "    # tracker\n",
    "    similar_count = 0\n",
    "    # bool flag \n",
    "    in_component = False\n",
    "    \n",
    "    while current:\n",
    "        if current.value in subset_set:\n",
    "            if not in_component:\n",
    "                similar_count += 1\n",
    "                in_component = True\n",
    "        else:\n",
    "            in_component = False\n",
    "        \n",
    "        current = current.next\n",
    "    \n",
    "    return similar_count\n",
    "            \n",
    "        "
   ]
  },
  {
   "cell_type": "code",
   "execution_count": null,
   "metadata": {},
   "outputs": [],
   "source": [
    "all_books1 = Node(0, Node(1, Node(2, Node(3))))\n",
    "subset1 = [0, 1, 3]\n",
    "\n",
    "all_books2 = Node(0, Node(1, Node(2, Node(3, Node(4)))))\n",
    "subset2 = [0, 3, 1, 4]"
   ]
  }
 ],
 "metadata": {
  "kernelspec": {
   "display_name": "tf2",
   "language": "python",
   "name": "python3"
  },
  "language_info": {
   "codemirror_mode": {
    "name": "ipython",
    "version": 3
   },
   "file_extension": ".py",
   "mimetype": "text/x-python",
   "name": "python",
   "nbconvert_exporter": "python",
   "pygments_lexer": "ipython3",
   "version": "3.10.14"
  }
 },
 "nbformat": 4,
 "nbformat_minor": 2
}
