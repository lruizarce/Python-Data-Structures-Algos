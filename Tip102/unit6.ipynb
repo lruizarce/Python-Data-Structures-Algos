{
 "cells": [
  {
   "cell_type": "markdown",
   "metadata": {
    "vscode": {
     "languageId": "plaintext"
    }
   },
   "source": [
    "## Problem 1: Selective DNA Deletion\n",
    "As a biologist, you are working on editing a long strand of DNA represented as a linked list of nucleotides. Each nucleotide in the sequence is represented as a node in the linked list, where each node contains a character ('A', 'T', 'C', 'G') representing the nucleotide.\n",
    "\n",
    "Given the head of the linked list dna_strand and two integers m and n, write a function edit_dna_sequence() that simulates the selective deletion of nucleotides in a DNA sequence. You will: - Start at the beginning of the DNA strand. - Retain the first m nucleotides from the current position. - Remove the next n nucleotides from the sequence. - Repeat the process until the end of the DNA strand is reached.\n",
    "\n",
    "Return the head of the modified DNA sequence after removing the mentioned nucleotides.\n",
    "\n",
    "Evaluate the time and space complexity of your solution. Define your variables and provide a rationale for why you believe your solution has the stated time and space complexity."
   ]
  },
  {
   "cell_type": "code",
   "execution_count": 12,
   "metadata": {},
   "outputs": [],
   "source": [
    "class Node:\n",
    "    def __init__(self, value, next=None):\n",
    "        self.value = value\n",
    "        self.next = next\n",
    "\n",
    "\n",
    "# For testing\n",
    "def print_linked_list(head):\n",
    "    current = head\n",
    "    while current:\n",
    "        print(current.value, end=\" -> \" if current.next else \"\\n\")\n",
    "        current = current.next\n",
    "\n",
    "\n",
    "def edit_dna_sequence(dna_strand, m, n):\n",
    "    curr = dna_strand\n",
    "    \n",
    "    while curr:\n",
    "        for _ in range(m-1):\n",
    "            if curr is None:\n",
    "                return dna_strand\n",
    "            curr = curr.next\n",
    "            \n",
    "        if curr is None:\n",
    "            return dna_strand\n",
    "        temp = curr.next\n",
    "        for _ in range(n):\n",
    "            if temp is None:\n",
    "                break\n",
    "            temp = temp.next\n",
    "        curr.next = temp\n",
    "        curr = temp\n",
    "        \n",
    "    return dna_strand\n",
    "        "
   ]
  },
  {
   "cell_type": "code",
   "execution_count": 13,
   "metadata": {},
   "outputs": [
    {
     "name": "stdout",
     "output_type": "stream",
     "text": [
      "1 -> 2 -> 6 -> 7 -> 11 -> 12\n"
     ]
    }
   ],
   "source": [
    "dna_strand = Node(\n",
    "    1,\n",
    "    Node(\n",
    "        2,\n",
    "        Node(\n",
    "            3,\n",
    "            Node(\n",
    "                4,\n",
    "                Node(\n",
    "                    5,\n",
    "                    Node(\n",
    "                        6,\n",
    "                        Node(\n",
    "                            7, Node(8, Node(9, Node(10, Node(11, Node(12, Node(13))))))\n",
    "                        ),\n",
    "                    ),\n",
    "                ),\n",
    "            ),\n",
    "        ),\n",
    "    ),\n",
    ")\n",
    "\n",
    "print_linked_list(edit_dna_sequence(dna_strand, 2, 3))"
   ]
  },
  {
   "cell_type": "markdown",
   "metadata": {
    "vscode": {
     "languageId": "latex"
    }
   },
   "source": [
    "<!-- 1 -> 2 -> 6 -> 7 -> 11 -> 12\n",
    "Explanation: Keep the first (m = 2) nodes starting from the head of the linked List  \n",
    "(1 -> 2) show in black nodes.\n",
    "Delete the next (n = 3) nodes (3 -> 4 -> 5) show in red nodes.\n",
    "Continue with the same procedure until reaching the tail of the Linked List. -->"
   ]
  },
  {
   "cell_type": "markdown",
   "metadata": {},
   "source": [
    "## Problem 2: Protein Folding Loop Detection\n",
    "As a biochemist, you're studying the folding patterns of proteins, which are represented as a sequence of amino acids linked together. These proteins sometimes fold back on themselves, creating loops that can impact their function.\n",
    "\n",
    "Given the head of a linked list protein where each node in the linked list represents an amino acid in the protein, return an array with the values of any cycle in the list. A linked list has a cycle if at some point in the list, the node’s next pointer points back to a previous node in the list.\n",
    "\n",
    "The values may be returned in any order.\n",
    "\n",
    "Evaluate the time and space complexity of your solution. Define your variables and provide a rationale for why you believe your solution has the stated time and space complexity."
   ]
  },
  {
   "cell_type": "code",
   "execution_count": 26,
   "metadata": {},
   "outputs": [],
   "source": [
    "class Node:\n",
    "    def __init__(self, value, next=None):\n",
    "        self.value = value\n",
    "        self.next = next\n",
    "\n",
    "\n",
    "def cycle_length(protein):\n",
    "    if not protein:\n",
    "        return []\n",
    "    \n",
    "    slow, fast = protein, protein\n",
    "    \n",
    "    while fast and fast.next:\n",
    "        slow = slow.next\n",
    "        fast = fast.next.next\n",
    "        if slow == fast:\n",
    "            break\n",
    "        else:\n",
    "            []\n",
    "            \n",
    "    slow = protein\n",
    "    while slow != fast:\n",
    "        slow = slow.next\n",
    "        fast = fast.next\n",
    "        \n",
    "    start = slow\n",
    "    res = []\n",
    "    while True:\n",
    "        res.append(slow.value)\n",
    "        slow = slow.next\n",
    "        if slow == start:\n",
    "            break\n",
    "        \n",
    "    return res"
   ]
  },
  {
   "cell_type": "code",
   "execution_count": 27,
   "metadata": {},
   "outputs": [
    {
     "name": "stdout",
     "output_type": "stream",
     "text": [
      "['Gly', 'Leu', 'Val']\n"
     ]
    }
   ],
   "source": [
    "protein_head = Node(\"Ala\", Node(\"Gly\", Node(\"Leu\", Node(\"Val\"))))\n",
    "protein_head.next.next.next.next = protein_head.next\n",
    "\n",
    "print(cycle_length(protein_head))"
   ]
  },
  {
   "cell_type": "code",
   "execution_count": null,
   "metadata": {},
   "outputs": [],
   "source": []
  }
 ],
 "metadata": {
  "kernelspec": {
   "display_name": "tf2",
   "language": "python",
   "name": "python3"
  },
  "language_info": {
   "codemirror_mode": {
    "name": "ipython",
    "version": 3
   },
   "file_extension": ".py",
   "mimetype": "text/x-python",
   "name": "python",
   "nbconvert_exporter": "python",
   "pygments_lexer": "ipython3",
   "version": "3.10.14"
  }
 },
 "nbformat": 4,
 "nbformat_minor": 2
}
