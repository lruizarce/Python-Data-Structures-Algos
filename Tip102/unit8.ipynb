{
 "cells": [
  {
   "cell_type": "code",
   "execution_count": 1,
   "metadata": {},
   "outputs": [],
   "source": [
    "from collections import deque \n",
    "\n",
    "# Tree Node class\n",
    "class TreeNode:\n",
    "    def __init__(self, value, left=None, right=None):\n",
    "        self.val = value\n",
    "        self.left = left\n",
    "        self.right = right\n",
    "\n",
    "def print_tree(root):\n",
    "    if not root:\n",
    "        return \"Empty\"\n",
    "    result = []\n",
    "    queue = deque([root])\n",
    "    while queue:\n",
    "        node = queue.popleft()\n",
    "        if node:\n",
    "            result.append(node.val)\n",
    "            queue.append(node.left)\n",
    "            queue.append(node.right)\n",
    "        else:\n",
    "            result.append(None)\n",
    "    while result and result[-1] is None:\n",
    "        result.pop()\n",
    "    print(result)"
   ]
  },
  {
   "cell_type": "markdown",
   "metadata": {},
   "source": [
    "# <h1 style=\"color: purple;\">Session 1: Standard Problem Set Version 1</h1>"
   ]
  },
  {
   "cell_type": "markdown",
   "metadata": {},
   "source": [
    "## Problem 1: Grafting Apples\n",
    "You are grafting different varieties of apple onto the same root tree can produce many different varieties of apples! Given the following TreeNode class, create the binary tree depicted below. The text representing each node should should be used as the value.\n",
    "\n",
    "The root, or topmost node in the tree TreeNode(\"Trunk\") has been provided for you."
   ]
  },
  {
   "cell_type": "code",
   "execution_count": 3,
   "metadata": {},
   "outputs": [],
   "source": [
    "class TreeNode:\n",
    "    def __init__(self, value, left=None, right=None):\n",
    "        self.val = value\n",
    "        self.left = left\n",
    "        self.right = right\n",
    "\n",
    "root = TreeNode(\"Trunk\")\n",
    "root.left = TreeNode(\"Mcintosh\", TreeNode(\"Fuji\"), TreeNode(\"Opal\"))\n",
    "root.right = TreeNode(\"Granny Smith\", TreeNode(\"Crab\"), TreeNode(\"Gala\"))"
   ]
  },
  {
   "cell_type": "code",
   "execution_count": 4,
   "metadata": {},
   "outputs": [
    {
     "name": "stdout",
     "output_type": "stream",
     "text": [
      "['Trunk', 'Mcintosh', 'Granny Smith', 'Fuji', 'Opal', 'Crab', 'Gala']\n"
     ]
    }
   ],
   "source": [
    "print_tree(root)"
   ]
  },
  {
   "cell_type": "markdown",
   "metadata": {},
   "source": [
    "## Problem 2: Calculating Yield\n",
    "You have a fruit tree represented as a binary tree with exactly three nodes: the root and its two children. Given the root of the tree, evaluate the amount of fruit your tree will yield this year. The tree has the following form:\n",
    "\n",
    "Leaf nodes have an integer value.\n",
    "The root has a string value of either \"+\", \"-\", \"*\", or \"-\".\n",
    "The yield of a the tree is calculated by applying the mathematical operation to the two children.\n",
    "\n",
    "Return the result of evaluating the root node.\n",
    "\n",
    "Evaluate the time complexity of your function. Define your variables and provide a rationale for why you believe your solution has the stated time complexity."
   ]
  },
  {
   "cell_type": "code",
   "execution_count": 18,
   "metadata": {},
   "outputs": [],
   "source": [
    "class TreeNode:\n",
    "    def __init__(self, value, left=None, right=None):\n",
    "        self.val = value\n",
    "        self.left = left\n",
    "        self.right = right\n",
    "\n",
    "def calculate_yield(root):\n",
    "    if not root:\n",
    "        return 0\n",
    "    \n",
    "    if root.val == \"+\":\n",
    "        return root.left.val + root.right.val\n",
    "    elif root == \"-\":\n",
    "        return root.left.val - root.right.val\n",
    "    elif root == \"*\":\n",
    "        return root.left.val * root.right.val\n",
    "    elif root == \"/\":\n",
    "        return root.left.val / root.right.val"
   ]
  },
  {
   "cell_type": "code",
   "execution_count": 19,
   "metadata": {},
   "outputs": [
    {
     "name": "stdout",
     "output_type": "stream",
     "text": [
      "12\n"
     ]
    }
   ],
   "source": [
    "\"\"\"\n",
    "    +\n",
    "  /   \\\n",
    " 7     5\n",
    "\"\"\"\n",
    "apple_tree = TreeNode(\"+\", TreeNode(7), TreeNode(5))\n",
    "\n",
    "print(calculate_yield(apple_tree))"
   ]
  },
  {
   "cell_type": "markdown",
   "metadata": {},
   "source": [
    "## Problem 3: Ivy Cutting\n",
    "You have a trailing ivy plant represented by a binary tree. You want to take a cutting to start a new plant using the rightmost vine in the plant. Given the root of the plant, return a list with the value of each node in the path from the root node to the rightmost leaf node.\n",
    "\n",
    "Evaluate the time complexity of your function. Define your variables and provide a rationale for why you believe your solution has the stated time complexity. Assume the input tree is balanced when calculating time complexity."
   ]
  },
  {
   "cell_type": "code",
   "execution_count": 24,
   "metadata": {},
   "outputs": [],
   "source": [
    "class TreeNode:\n",
    "    def __init__(self, value, left=None, right=None):\n",
    "        self.val = value\n",
    "        self.left = left\n",
    "        self.right = right\n",
    "\n",
    "def right_vine(root):\n",
    "  if not root:\n",
    "    return []\n",
    "  \n",
    "  return [root.val] + right_vine(root.right)"
   ]
  },
  {
   "cell_type": "code",
   "execution_count": 25,
   "metadata": {},
   "outputs": [
    {
     "name": "stdout",
     "output_type": "stream",
     "text": [
      "['Root', 'Node2', 'Leaf3']\n",
      "['Root']\n"
     ]
    }
   ],
   "source": [
    "\"\"\"\n",
    "        Root\n",
    "      /      \\\n",
    "    Node1    Node2\n",
    "  /         /    \\\n",
    "Leaf1    Leaf2  Leaf3\n",
    "\"\"\"\n",
    "ivy1 = TreeNode(\"Root\", \n",
    "                TreeNode(\"Node1\", TreeNode(\"Leaf1\")),\n",
    "                TreeNode(\"Node2\", TreeNode(\"Leaf2\"), TreeNode(\"Leaf3\")))\n",
    "\n",
    "\"\"\"\n",
    "      Root\n",
    "      /  \n",
    "    Node1\n",
    "    /\n",
    "  Leaf1  \n",
    "\"\"\"\n",
    "ivy2 = TreeNode(\"Root\", TreeNode(\"Node1\", TreeNode(\"Leaf1\")))\n",
    "\n",
    "print(right_vine(ivy1))\n",
    "print(right_vine(ivy2))"
   ]
  },
  {
   "cell_type": "markdown",
   "metadata": {},
   "source": [
    "## <h1 style=\"color: red;\">Note</h1>\n",
    "    - Balance BST\n",
    "        - Search, Insertion, and Deletion: 𝑂(log⁡𝑛)\n",
    "    - Unbalance BST\n",
    "        - Search, Insertion, and Deletion: 𝑂(𝑛)"
   ]
  },
  {
   "cell_type": "markdown",
   "metadata": {},
   "source": [
    "## Problem 4: Ivy Cutting II\n",
    "If you implemented right_vine() iteratively in the previous problem, implement it recursively. If you implemented it recursively, implement it iteratively.\n",
    "\n",
    "Evaluate the time complexity of your function. Define your variables and provide a rationale for why you believe your solution has the stated time complexity. Assume the input tree is balanced when calculating time complexity."
   ]
  },
  {
   "cell_type": "code",
   "execution_count": 28,
   "metadata": {},
   "outputs": [],
   "source": [
    "class TreeNode:\n",
    "    def __init__(self, value, left=None, right=None):\n",
    "        self.val = value\n",
    "        self.left = left\n",
    "        self.right = right\n",
    "\n",
    "def right_vine(root):\n",
    "    if not root:\n",
    "        return []\n",
    "    res = []\n",
    "    \n",
    "    while root:\n",
    "        res.append(root.val)\n",
    "        root = root.right\n",
    "    return res"
   ]
  },
  {
   "cell_type": "code",
   "execution_count": 29,
   "metadata": {},
   "outputs": [
    {
     "name": "stdout",
     "output_type": "stream",
     "text": [
      "['Root', 'Node2', 'Leaf3']\n",
      "['Root']\n"
     ]
    }
   ],
   "source": [
    "\"\"\"\n",
    "        Root\n",
    "      /      \\\n",
    "    Node1    Node2\n",
    "  /         /    \\\n",
    "Leaf1    Leaf2  Leaf3\n",
    "\"\"\"\n",
    "ivy1 = TreeNode(\"Root\", \n",
    "                TreeNode(\"Node1\", TreeNode(\"Leaf1\")),\n",
    "                TreeNode(\"Node2\", TreeNode(\"Leaf2\"), TreeNode(\"Leaf3\")))\n",
    "\n",
    "\"\"\"\n",
    "      Root\n",
    "      /  \n",
    "    Node1\n",
    "    /\n",
    "  Leaf1  \n",
    "\"\"\"\n",
    "ivy2 = TreeNode(\"Root\", TreeNode(\"Node1\", TreeNode(\"Leaf1\")))\n",
    "\n",
    "print(right_vine(ivy1))\n",
    "print(right_vine(ivy2))"
   ]
  },
  {
   "cell_type": "markdown",
   "metadata": {},
   "source": [
    "## Problem 5: Count the Tree Leaves\n",
    "You've grown an oak tree from a tiny little acorn and it's finally sprouting leaves! Given the root of a binary tree representing your oak tree, count the number of leaf nodes in the tree. A leaf node is a node that does not have any children.\n",
    "\n",
    "Evaluate the time complexity of your function. Define your variables and provide a rationale for why you believe your solution has the stated time complexity. Assume the input tree is balanced when calculating time complexity."
   ]
  },
  {
   "cell_type": "code",
   "execution_count": 30,
   "metadata": {},
   "outputs": [],
   "source": [
    "class TreeNode:\n",
    "    def __init__(self, value, left=None, right=None):\n",
    "        self.val = value\n",
    "        self.left = left\n",
    "        self.right = right\n",
    "\n",
    "def count_leaves(root):\n",
    "    if not root:\n",
    "        return 0\n",
    "    \n",
    "    if not root.right and not root.left:\n",
    "        return 1\n",
    "    \n",
    "    left_sum = count_leaves(root.left)\n",
    "    right_sum = count_leaves(root.right)\n",
    "    return left_sum + right_sum"
   ]
  },
  {
   "cell_type": "code",
   "execution_count": 31,
   "metadata": {},
   "outputs": [
    {
     "name": "stdout",
     "output_type": "stream",
     "text": [
      "3\n",
      "1\n"
     ]
    }
   ],
   "source": [
    "\"\"\"\n",
    "        Root\n",
    "      /      \\\n",
    "    Node1    Node2\n",
    "  /         /    \\\n",
    "Leaf1    Leaf2  Leaf3\n",
    "\"\"\"\n",
    "\n",
    "oak1 = TreeNode(\"Root\", \n",
    "                TreeNode(\"Node1\", TreeNode(\"Leaf1\")),\n",
    "                TreeNode(\"Node2\", TreeNode(\"Leaf2\"), TreeNode(\"Leaf3\")))\n",
    "\n",
    "\"\"\"\n",
    "      Root\n",
    "      /  \n",
    "    Node1\n",
    "    /\n",
    "  Leaf1  \n",
    "\"\"\"\n",
    "oak2 = TreeNode(\"Root\", TreeNode(\"Node1\", TreeNode(\"Leaf1\")))\n",
    "\n",
    "\n",
    "print(count_leaves(oak1))\n",
    "print(count_leaves(oak2))"
   ]
  },
  {
   "cell_type": "markdown",
   "metadata": {},
   "source": [
    "## Problem 6: Pruning Plans\n",
    "You have a large overgrown Magnolia tree that's in desperate need of some pruning. Before you can prune the tree, you need to do a full survey of the tree to evaluate which sections need to be pruned.\n",
    "\n",
    "Given the root of a binary tree representing the magnolia, return a list of the values of each node using a postorder traversal. In a postorder traversal, you explore the left subtree first, then the right subtree, and finally the root. Postorder traversals are often used when deleting nodes from a tree.\n",
    "\n",
    "Evaluate the time complexity of your function. Define your variables and provide a rationale for why you believe your solution has the stated time complexity. Assume the input tree is balanced when calculating time complexity."
   ]
  },
  {
   "cell_type": "code",
   "execution_count": 32,
   "metadata": {},
   "outputs": [],
   "source": [
    "class TreeNode:\n",
    "    def __init__(self, value, left=None, right=None):\n",
    "        self.val = value\n",
    "        self.left = left\n",
    "        self.right = right\n",
    "\n",
    "def survey_tree(root):\n",
    "    if not root:\n",
    "        return []\n",
    "    \n",
    "    left = survey_tree(root.left)\n",
    "    right = survey_tree(root.right)\n",
    "    \n",
    "    return left + right + [root.val]"
   ]
  },
  {
   "cell_type": "code",
   "execution_count": 33,
   "metadata": {},
   "outputs": [
    {
     "name": "stdout",
     "output_type": "stream",
     "text": [
      "['Leaf1', 'Node1', 'Leaf2', 'Leaf3', 'Node2', 'Root']\n"
     ]
    }
   ],
   "source": [
    "\"\"\"\n",
    "        Root\n",
    "      /      \\\n",
    "    Node1    Node2\n",
    "  /         /    \\\n",
    "Leaf1    Leaf2  Leaf3\n",
    "\"\"\"\n",
    "\n",
    "magnolia = TreeNode(\"Root\", \n",
    "                TreeNode(\"Node1\", TreeNode(\"Leaf1\")),\n",
    "                TreeNode(\"Node2\", TreeNode(\"Leaf2\"), TreeNode(\"Leaf3\")))\n",
    "\n",
    "print(survey_tree(magnolia)) # [\"Leaf1\", \"Node1\", \"Leaf2\", \"Leaf3\", \"Node2\", \"Root\"]"
   ]
  },
  {
   "cell_type": "markdown",
   "metadata": {},
   "source": [
    "## Problem 7: Foraging Berries\n",
    "You've found a wild blueberry bush and want to do some foraging. However, you want to be conscious of the local ecosystem and leave some behind for local wildlife and regeneration. To do so, you plan to only harvest from branches where the number of berries is greater than threshold.\n",
    "\n",
    "Given the root of a binary tree representing a berry bush where each node represents the number of berries on a branch of the bush, write a function harvest_berries(), that finds the number of berries you can harvest by returning the sum of all nodes with value greater than threshold.\n",
    "\n",
    "Evaluate the time complexity of your function. Define your variables and provide a rationale for why you believe your solution has the stated time complexity. Assume the input tree is balanced when calculating time complexity."
   ]
  },
  {
   "cell_type": "code",
   "execution_count": 40,
   "metadata": {},
   "outputs": [],
   "source": [
    "class TreeNode:\n",
    "    def __init__(self, value, left=None, right=None):\n",
    "        self.val = value\n",
    "        self.left = left\n",
    "        self.right = right\n",
    "\n",
    "def harvest_berries(root, threshold):\n",
    "    if not root:\n",
    "        return 0\n",
    "    \n",
    "    left = harvest_berries(root.left, threshold)\n",
    "    right = harvest_berries(root.right, threshold)\n",
    "    \n",
    "    if root.val > threshold:\n",
    "        return root.val + left + right\n",
    "    else:\n",
    "        return left + right"
   ]
  },
  {
   "cell_type": "code",
   "execution_count": 41,
   "metadata": {},
   "outputs": [
    {
     "name": "stdout",
     "output_type": "stream",
     "text": [
      "38\n",
      "0\n"
     ]
    }
   ],
   "source": [
    "\"\"\"\n",
    "       4\n",
    "     /   \\\n",
    "   10     6\n",
    "  /  \\     \\\n",
    " 5    8    20\n",
    "\"\"\"\n",
    "bush = TreeNode(4, TreeNode(10, TreeNode(5), TreeNode(8)), TreeNode(6, None, TreeNode(20)))\n",
    "\n",
    "print(harvest_berries(bush, 6))\n",
    "print(harvest_berries(bush, 30))"
   ]
  },
  {
   "cell_type": "markdown",
   "metadata": {},
   "source": [
    "38\n",
    "Example 1 Explanation: \n",
    "- Nodes greater than 6: 8, 10, 20\n",
    "- 8 + 10 + 20 = 38\n",
    "\n",
    "0\n",
    "Example 2 Explanation: No nodes greater than 30"
   ]
  },
  {
   "cell_type": "markdown",
   "metadata": {},
   "source": [
    "## Problem 8: Flower Fields\n",
    "You're looking for the perfect bloom to add to your bouquet of flowers. Given the root of a binary tree representing flower options, and a target flower flower, return True if the bloom you are looking for each exists in the tree and False otherwise.\n",
    "\n",
    "Evaluate the time complexity of your function. Define your variables and provide a rationale for why you believe your solution has the stated time complexity. Assume the input tree is balanced when calculating time complexity."
   ]
  },
  {
   "cell_type": "code",
   "execution_count": 45,
   "metadata": {},
   "outputs": [],
   "source": [
    "class TreeNode:\n",
    "    def __init__(self, value, left=None, right=None):\n",
    "        self.val = value\n",
    "        self.left = left\n",
    "        self.right = right\n",
    "\n",
    "def find_flower(root, flower):\n",
    "    if not root or not flower:\n",
    "        return False\n",
    "    \n",
    "    if root.val == flower:\n",
    "        return True\n",
    "    else:\n",
    "        return find_flower(root.right, flower) or find_flower(root.left, flower)\n",
    "    "
   ]
  },
  {
   "cell_type": "code",
   "execution_count": 46,
   "metadata": {},
   "outputs": [
    {
     "name": "stdout",
     "output_type": "stream",
     "text": [
      "True\n",
      "False\n"
     ]
    }
   ],
   "source": [
    "\"\"\"\n",
    "         Rose\n",
    "        /    \\\n",
    "       /      \\\n",
    "     Lily     Daisy\n",
    "    /    \\        \\\n",
    "Orchid  Lilac    Dahlia\n",
    "\"\"\"\n",
    "\n",
    "flower_field = TreeNode(\"Rose\", \n",
    "                        TreeNode(\"Lily\", TreeNode(\"Orchid\"), TreeNode(\"Lilac\")),\n",
    "                                TreeNode(\"Daisy\", None, TreeNode(\"Dahlia\")))\n",
    "\n",
    "print(find_flower(flower_field, \"Lilac\"))\n",
    "print(find_flower(flower_field, \"Hibiscus\"))"
   ]
  },
  {
   "cell_type": "markdown",
   "metadata": {},
   "source": [
    "# <h1 style=\"color: green;\">Session 1: Standard Problem Set Version 2</h1>"
   ]
  },
  {
   "cell_type": "markdown",
   "metadata": {},
   "source": [
    "## Problem 1: Building an Underwater Kingdom\n",
    "Given the following TreeNode class, create the binary tree depicted below. The text representing each node should should be used as the value.\n",
    "\n",
    "The root, or topmost node in the tree TreeNode(\"Poseidon\") has been provided for you."
   ]
  },
  {
   "cell_type": "code",
   "execution_count": 48,
   "metadata": {},
   "outputs": [],
   "source": [
    "class TreeNode:\n",
    "    def __init__(self, value, left=None, right=None):\n",
    "        self.val = value\n",
    "        self.left = left\n",
    "        self.right = right\n",
    "\n",
    "root = TreeNode(\"Poseidon\", TreeNode(\"Atlantis\", TreeNode(\"Coral\"), TreeNode(\"Pearl\")), TreeNode(\"Oceania\", TreeNode(\"Kelp\"), TreeNode(\"Reef\")))\n"
   ]
  },
  {
   "cell_type": "code",
   "execution_count": 49,
   "metadata": {},
   "outputs": [
    {
     "name": "stdout",
     "output_type": "stream",
     "text": [
      "['Poseidon', 'Atlantis', 'Oceania', 'Coral', 'Pearl', 'Kelp', 'Reef']\n"
     ]
    }
   ],
   "source": [
    "print_tree(root)"
   ]
  },
  {
   "cell_type": "markdown",
   "metadata": {},
   "source": [
    "## Problem 2: Are Twins?\n",
    "Given the root of a binary tree that has at most three nodes: the root, its left child, and its right child.\n",
    "\n",
    "Return True if the root's children are twins (have equal value) and False otherwise. If the root has no children, return False.\n",
    "\n",
    "Evaluate the time complexity of your function. Define your variables and provide a rationale for why you believe your solution has the stated time complexity."
   ]
  },
  {
   "cell_type": "code",
   "execution_count": 55,
   "metadata": {},
   "outputs": [],
   "source": [
    "class TreeNode:\n",
    "    def __init__(self, value, left=None, right=None):\n",
    "        self.val = value\n",
    "        self.left = left\n",
    "        self.right = right\n",
    "\n",
    "def is_symmetric(root):\n",
    "    if not root:\n",
    "        return True\n",
    "    return check_mirror(root.left, root.right)\n",
    "\n",
    "def check_mirror(left, right):\n",
    "    if not left and not right:\n",
    "        return True\n",
    "    if not left or not right:\n",
    "        return False\n",
    "    if left.val != right.val:\n",
    "        return False\n",
    "    return check_mirror(left.left, right.right) and check_mirror(left.right, right.left)\n",
    "\n"
   ]
  },
  {
   "cell_type": "code",
   "execution_count": 56,
   "metadata": {},
   "outputs": [
    {
     "name": "stdout",
     "output_type": "stream",
     "text": [
      "True\n",
      "False\n",
      "False\n"
     ]
    }
   ],
   "source": [
    "\"\"\"\n",
    "      Mermother\n",
    "       /    \\\n",
    "    Coral   Coral\n",
    "\"\"\"\n",
    "root1 = TreeNode(\"Mermother\", TreeNode(\"Coral\"), TreeNode(\"Coral\"))\n",
    "\n",
    "\"\"\"\n",
    "      Merpapa\n",
    "       /    \\\n",
    "   Calypso  Coral\n",
    "\"\"\"\n",
    "root2 = TreeNode(\"Merpapa\", TreeNode(\"Calypso\"), TreeNode(\"Coral\"))\n",
    "\n",
    "\"\"\"\n",
    "      Merenby\n",
    "           \\    \n",
    "         Calypso  \n",
    "\"\"\"\n",
    "root3 = TreeNode(\"Merenby\", None, TreeNode(\"Calypso\"))\n",
    "\n",
    "print(mertwins(root1)) # T\n",
    "print(mertwins(root2)) # F\n",
    "print(mertwins(root3)) # F"
   ]
  },
  {
   "cell_type": "markdown",
   "metadata": {},
   "source": [
    "## Problem 3: Poseidon's Decision\n",
    "Poseidon has received advice on an important matter from his council of advisors. Help him evaluate the advice from his council to make a final decision. You are given the advice as the root of a binary tree representing a boolean expression that has at most three nodes. The root may have exactly 0 or 2 children.\n",
    "\n",
    "Leaf nodes have a boolean value of either True or False.\n",
    "Non-leaf nodes have a string value of either AND or OR.\n",
    "The evaluation of a node is as follows:\n",
    "\n",
    "If the node is a leaf node, the evaluation is the value of the node, i.e. True or False.\n",
    "Otherwise evaluate the node's two children and apply the boolean operation of its value with the children's evaluations.\n",
    "Return the boolean result of evaluating the root node.\n",
    "\n",
    "Evaluate the time complexity of your function. Define your variables and provide a rationale for why you believe your solution has the stated time complexity."
   ]
  },
  {
   "cell_type": "code",
   "execution_count": 58,
   "metadata": {},
   "outputs": [],
   "source": [
    "class TreeNode:\n",
    "    def __init__(self, value, left=None, right=None):\n",
    "        self.val = value\n",
    "        self.left = left\n",
    "        self.right = right\n",
    "\n",
    "def get_decision(root):\n",
    "    if not root:\n",
    "        return False\n",
    "    \n",
    "    if isinstance(root.val, bool):\n",
    "        return root.val\n",
    "    \n",
    "    left_decision = get_decision(root.left)\n",
    "    right_decision = get_decision(root.right)\n",
    "    \n",
    "    if root.val == \"AND\":\n",
    "        return left_decision and right_decision\n",
    "    elif root.val == \"OR\":\n",
    "        return left_decision or right_decision\n",
    "    else:\n",
    "        return False"
   ]
  },
  {
   "cell_type": "code",
   "execution_count": 59,
   "metadata": {},
   "outputs": [
    {
     "name": "stdout",
     "output_type": "stream",
     "text": [
      "True\n",
      "False\n"
     ]
    }
   ],
   "source": [
    "\"\"\"\n",
    "        OR\n",
    "      /    \\\n",
    "    True  False\n",
    "\"\"\"\n",
    "expression1 = TreeNode(\"OR\", TreeNode(True), TreeNode(False))\n",
    "\n",
    "\"\"\"\n",
    "       False\n",
    "\"\"\"\n",
    "expression2 = TreeNode(False)\n",
    "\n",
    "print(get_decision(expression1)) # T\n",
    "print(get_decision(expression2)) # F"
   ]
  },
  {
   "cell_type": "markdown",
   "metadata": {},
   "source": [
    "## Problem 4: Escaping the Sea Caves\n",
    "You are given the root of a binary tree representing possible route through a system of sea caves. You recall that so long as you take the leftmost branch at every fork in the route, you'll find your way back home. Write a function leftmost_path() that returns an array with the value of each node in the leftmost path.\n",
    "\n",
    "Evaluate the time complexity of your function. Define your variables and provide a rationale for why you believe your solution has the stated time complexity. Assume the input tree is balanced when calculating time complexity."
   ]
  },
  {
   "cell_type": "code",
   "execution_count": 68,
   "metadata": {},
   "outputs": [],
   "source": [
    "class TreeNode:\n",
    "    def __init__(self, value, left=None, right=None):\n",
    "        self.val = value\n",
    "        self.left = left\n",
    "        self.right = right\n",
    "\n",
    "def leftmost_path(root):\n",
    "    if not root:\n",
    "        return []\n",
    "    \n",
    "    return [root.val] + leftmost_path(root.left)"
   ]
  },
  {
   "cell_type": "code",
   "execution_count": 69,
   "metadata": {},
   "outputs": [
    {
     "name": "stdout",
     "output_type": "stream",
     "text": [
      "['CaveA', 'CaveB', 'CaveD']\n",
      "['CaveA']\n"
     ]
    }
   ],
   "source": [
    "\"\"\"\n",
    "        CaveA\n",
    "       /      \\\n",
    "    CaveB    CaveC\n",
    "    /   \\        \\\n",
    "CaveD CaveE     CaveF  \n",
    "\"\"\"\n",
    "system_a = TreeNode(\"CaveA\", \n",
    "                  TreeNode(\"CaveB\", TreeNode(\"CaveD\"), TreeNode(\"CaveE\")), \n",
    "                          TreeNode(\"CaveC\", None, TreeNode(\"CaveF\")))\n",
    "\n",
    "\"\"\"\n",
    "  CaveA\n",
    "      \\\n",
    "      CaveB\n",
    "        \\\n",
    "        CaveC  \n",
    "\"\"\"\n",
    "system_b = TreeNode(\"CaveA\", None, TreeNode(\"CaveB\", None, TreeNode(\"CaveC\")))\n",
    "\n",
    "print(leftmost_path(system_a))\n",
    "print(leftmost_path(system_b))\n",
    "\n",
    "# ['CaveA', 'CaveB', 'CaveD']\n",
    "# ['CaveA']"
   ]
  },
  {
   "cell_type": "markdown",
   "metadata": {},
   "source": [
    "## Problem 5: Escaping the Sea Caves II\n",
    "If you implemented leftmost_path() iteratively in the previous problem, implement it recursively. If you implemented it recursively, implement it iteratively.\n",
    "\n",
    "Evaluate the time complexity of your function. Define your variables and provide a rationale for why you believe your solution has the stated time complexity. Assume the input tree is balanced when calculating time complexity."
   ]
  },
  {
   "cell_type": "code",
   "execution_count": 71,
   "metadata": {},
   "outputs": [],
   "source": [
    "class TreeNode:\n",
    "    def __init__(self, value, left=None, right=None):\n",
    "        self.val = value\n",
    "        self.left = left\n",
    "        self.right = right\n",
    "\n",
    "def leftmost_path(root):\n",
    "    if not root:\n",
    "        return []\n",
    "    \n",
    "    res = []\n",
    "    while root:\n",
    "        res.append(root.val)\n",
    "        root = root.left\n",
    "        \n",
    "    return res"
   ]
  },
  {
   "cell_type": "code",
   "execution_count": 72,
   "metadata": {},
   "outputs": [
    {
     "name": "stdout",
     "output_type": "stream",
     "text": [
      "['CaveA', 'CaveB', 'CaveD']\n",
      "['CaveA']\n"
     ]
    }
   ],
   "source": [
    "\"\"\"\n",
    "        CaveA\n",
    "       /      \\\n",
    "    CaveB    CaveC\n",
    "    /   \\        \\\n",
    "CaveD CaveE     CaveF  \n",
    "\"\"\"\n",
    "system_a = TreeNode(\"CaveA\", \n",
    "                  TreeNode(\"CaveB\", TreeNode(\"CaveD\"), TreeNode(\"CaveE\")), \n",
    "                          TreeNode(\"CaveC\", None, TreeNode(\"CaveF\")))\n",
    "\n",
    "\"\"\"\n",
    "  CaveA\n",
    "      \\\n",
    "      CaveB\n",
    "        \\\n",
    "        CaveC  \n",
    "\"\"\"\n",
    "system_b = TreeNode(\"CaveA\", None, TreeNode(\"CaveB\", None, TreeNode(\"CaveC\")))\n",
    "\n",
    "print(leftmost_path(system_a))\n",
    "print(leftmost_path(system_b))"
   ]
  },
  {
   "cell_type": "markdown",
   "metadata": {},
   "source": [
    "## Problem 6: Documenting Reefs\n",
    "You are exploring a vast coral reef system. The reef is represented as a binary tree, where each node corresponds to a specific coral formation. You want to document the reef as you encounter it, starting from the root or main entrance of the reef.\n",
    "\n",
    "Write a function explore_reef() that performs a preorder traversal of the reef and returns a list of the names of the coral formations in the order you visited them. In a preorder exploration, you explore the current node first, then the left subtree, and finally the right subtree.\n",
    "\n",
    "Evaluate the time complexity of your function. Define your variables and provide a rationale for why you believe your solution has the stated time complexity. Assume the input tree is balanced when calculating time complexity."
   ]
  },
  {
   "cell_type": "code",
   "execution_count": 73,
   "metadata": {},
   "outputs": [],
   "source": [
    "class TreeNode:\n",
    "    def __init__(self, value, left=None, right=None):\n",
    "        self.val = value\n",
    "        self.left = left\n",
    "        self.right = right\n",
    "\n",
    "def explore_reef(root):\n",
    "    if not root:\n",
    "        return []\n",
    "    left = explore_reef(root.left)\n",
    "    right = explore_reef(root.right)\n",
    "    return [root.val] + left + right"
   ]
  },
  {
   "cell_type": "code",
   "execution_count": 74,
   "metadata": {},
   "outputs": [
    {
     "name": "stdout",
     "output_type": "stream",
     "text": [
      "['CoralA', 'CoralB', 'CoralD', 'CoralE', 'CoralC']\n"
     ]
    }
   ],
   "source": [
    "\"\"\"\n",
    "         CoralA\n",
    "        /     \\\n",
    "     CoralB  CoralC\n",
    "     /   \\      \n",
    " CoralD CoralE  \n",
    "\"\"\"\n",
    "\n",
    "reef = TreeNode(\"CoralA\", \n",
    "                TreeNode(\"CoralB\", TreeNode(\"CoralD\"), TreeNode(\"CoralE\")), \n",
    "                          TreeNode(\"CoralC\"))\n",
    "\n",
    "print(explore_reef(reef))"
   ]
  },
  {
   "cell_type": "markdown",
   "metadata": {},
   "source": [
    "## Problem 7: Coral Count\n",
    "Due to climate change, you have noticed that coral has been dying in the reef near Atlantis. You want to ensure there is still a healthy level of coral in the reef. Given the root of a binary tree where each node represents a coral in the reef, write a function count_coral() that returns the number of corals in the reef.\n",
    "\n",
    "Evaluate the time complexity of your function. Define your variables and provide a rationale for why you believe your solution has the stated time complexity. Assume the input tree is balanced when calculating time complexity."
   ]
  },
  {
   "cell_type": "code",
   "execution_count": 75,
   "metadata": {},
   "outputs": [],
   "source": [
    "class TreeNode:\n",
    "    def __init__(self, value, left=None, right=None):\n",
    "        self.val = value\n",
    "        self.left = left\n",
    "        self.right = right\n",
    "\n",
    "def count_coral(root):\n",
    "    if not root:\n",
    "        return 0\n",
    "    \n",
    "    left = count_coral(root.left)\n",
    "    right = count_coral(root.right)\n",
    "    return 1 + left + right"
   ]
  },
  {
   "cell_type": "code",
   "execution_count": 76,
   "metadata": {},
   "outputs": [
    {
     "name": "stdout",
     "output_type": "stream",
     "text": [
      "7\n",
      "5\n"
     ]
    }
   ],
   "source": [
    "\"\"\"\n",
    "          Staghorn\n",
    "         /        \\\n",
    "        /          \\\n",
    "    Sea Fan      Sea Whip\n",
    "    /     \\       /   \n",
    " Bubble  Table  Star\n",
    "  /\n",
    "Fire\n",
    "\"\"\"\n",
    "reef1 = TreeNode(\"Staghorn\", \n",
    "                TreeNode(\"Sea Fan\", TreeNode(\"Bubble\", TreeNode(\"Fire\")), TreeNode(\"Table\")),\n",
    "                        TreeNode(\"Sea Whip\", TreeNode(\"Star\")))\n",
    "\n",
    "\"\"\"\n",
    "     Fire\n",
    "    /    \\\n",
    "   /      \\ \n",
    "Black    Star\n",
    "        /  \n",
    "     Lettuce \n",
    "           \\\n",
    "        Sea Whip\n",
    "\"\"\"\n",
    "reef2 = TreeNode(\"Fire\", \n",
    "                TreeNode(\"Black\"), \n",
    "                        TreeNode(\"Star\", \n",
    "                                  TreeNode(\"Lettuce\", None, TreeNode(\"Sea Whip\"))))\n",
    "\n",
    "print(count_coral(reef1)) # 7\n",
    "print(count_coral(reef2)) # 5"
   ]
  },
  {
   "cell_type": "markdown",
   "metadata": {},
   "source": [
    "## Problem 8: Ocean Layers\n",
    "Given the root of a binary tree that represents different sections of the ocean, write a function count_ocean_layers() that returns the depth of the ocean. The depth or height of the tree can be defined as the number of nodes on the longest path from the root node to a leaf node.\n",
    "\n",
    "Evaluate the time complexity of your function. Define your variables and provide a rationale for why you believe your solution has the stated time complexity. Assume the input tree is balanced when calculating time complexity."
   ]
  },
  {
   "cell_type": "code",
   "execution_count": 77,
   "metadata": {},
   "outputs": [],
   "source": [
    "class TreeNode:\n",
    "    def __init__(self, value, left=None, right=None):\n",
    "        self.val = value\n",
    "        self.left = left\n",
    "        self.right = right\n",
    "\n",
    "def ocean_depth(root):\n",
    "    if not root:\n",
    "        return 0\n",
    "    \n",
    "    left = ocean_depth(root.left)\n",
    "    right = ocean_depth(root.right)\n",
    "    \n",
    "    if left + 1 > right + 1:\n",
    "        return left + 1\n",
    "    else:\n",
    "        return right + 1"
   ]
  },
  {
   "cell_type": "code",
   "execution_count": 78,
   "metadata": {},
   "outputs": [
    {
     "name": "stdout",
     "output_type": "stream",
     "text": [
      "4\n",
      "4\n"
     ]
    }
   ],
   "source": [
    "\"\"\"\n",
    "                Sunlight\n",
    "               /        \\\n",
    "              /          \\\n",
    "          Twilight      Squid\n",
    "         /       \\           \\   \n",
    "      Abyss  Anglerfish    Giant Squid\n",
    "      /\n",
    "  Trenches\n",
    "\"\"\"\n",
    "ocean = TreeNode(\"Sunlight\", \n",
    "                TreeNode(\"Twilight\", \n",
    "                        TreeNode(\"Abyss\", \n",
    "                                TreeNode(\"Trenches\")), TreeNode(\"Anglerfish\")),\n",
    "                                        TreeNode(\"Squid\", TreeNode(\"Giant Squid\")))\n",
    "\n",
    "\"\"\"\n",
    "    Spray Zone\n",
    "    /         \\\n",
    "   /           \\ \n",
    "Beach       High Tide\n",
    "            /  \n",
    "      Middle Tide\n",
    "              \\\n",
    "            Low Tide\n",
    "\"\"\"\n",
    "tidal_zones = TreeNode(\"Spray Zone\", \n",
    "                      TreeNode(\"Beach\"), \n",
    "                              TreeNode(\"High Tide\", \n",
    "                                      TreeNode(\"Middle Tide\", None, TreeNode(\"Low Tide\"))))\n",
    "\n",
    "print(ocean_depth(ocean)) # 4\n",
    "print(ocean_depth(tidal_zones)) # 4"
   ]
  },
  {
   "cell_type": "code",
   "execution_count": null,
   "metadata": {},
   "outputs": [],
   "source": []
  }
 ],
 "metadata": {
  "kernelspec": {
   "display_name": "tf2",
   "language": "python",
   "name": "python3"
  },
  "language_info": {
   "codemirror_mode": {
    "name": "ipython",
    "version": 3
   },
   "file_extension": ".py",
   "mimetype": "text/x-python",
   "name": "python",
   "nbconvert_exporter": "python",
   "pygments_lexer": "ipython3",
   "version": "3.10.14"
  }
 },
 "nbformat": 4,
 "nbformat_minor": 2
}
