{
 "cells": [
  {
   "cell_type": "markdown",
   "metadata": {},
   "source": [
    "# <h1 style=\"color: purple;\">Session 1: Standard Problem Set Version 1</h1>"
   ]
  },
  {
   "cell_type": "markdown",
   "metadata": {},
   "source": [
    "## Problem 1: Grafting Apples\n",
    "You are grafting different varieties of apple onto the same root tree can produce many different varieties of apples! Given the following TreeNode class, create the binary tree depicted below. The text representing each node should should be used as the value.\n",
    "\n",
    "The root, or topmost node in the tree TreeNode(\"Trunk\") has been provided for you."
   ]
  },
  {
   "cell_type": "code",
   "execution_count": 7,
   "metadata": {},
   "outputs": [],
   "source": [
    "from collections import deque\n",
    "class TreeNode:\n",
    "    def __init__(self, value, left=None, right=None):\n",
    "        self.val = value\n",
    "        self.left = left\n",
    "        self.right = right\n",
    "\n",
    "def print_tree(root):\n",
    "    if not root:\n",
    "        return \"Empty\"\n",
    "    result = []\n",
    "    queue = deque([root])\n",
    "    while queue:\n",
    "        node = queue.popleft()\n",
    "        if node:\n",
    "            result.append(node.val)\n",
    "            queue.append(node.left)\n",
    "            queue.append(node.right)\n",
    "        else:\n",
    "            result.append(None)\n",
    "    while result and result[-1] is None:\n",
    "        result.pop()\n",
    "    print(result)\n",
    "\n",
    "root = TreeNode(\"Trunk\")\n",
    "root.left = TreeNode(\"Mcintosh\")\n",
    "root.left.left = TreeNode(\"Fuji\")\n",
    "root.left.right = TreeNode(\"Opal\")\n",
    "root.right = TreeNode(\"Granny Smith\")\n",
    "root.right.left = TreeNode(\"Crab\")\n",
    "root.right.right = TreeNode(\"Gala\")"
   ]
  },
  {
   "cell_type": "code",
   "execution_count": 8,
   "metadata": {},
   "outputs": [
    {
     "name": "stdout",
     "output_type": "stream",
     "text": [
      "['Trunk', 'Mcintosh', 'Granny Smith', 'Fuji', 'Opal', 'Crab', 'Gala']\n"
     ]
    }
   ],
   "source": [
    "print_tree(root)"
   ]
  },
  {
   "cell_type": "markdown",
   "metadata": {},
   "source": [
    "## Problem 2: Calculating Yield\n",
    "You have a fruit tree represented as a binary tree with exactly three nodes: the root and its two children. Given the root of the tree, evaluate the amount of fruit your tree will yield this year. The tree has the following form:\n",
    "\n",
    "Leaf nodes have an integer value.\n",
    "The root has a string value of either \"+\", \"-\", \"*\", or \"-\".\n",
    "The yield of a the tree is calculated by applying the mathematical operation to the two children.\n",
    "\n",
    "Return the result of evaluating the root node.\n",
    "\n",
    "Evaluate the time complexity of your function. Define your variables and provide a rationale for why you believe your solution has the stated time complexity."
   ]
  },
  {
   "cell_type": "code",
   "execution_count": 11,
   "metadata": {},
   "outputs": [],
   "source": [
    "class TreeNode:\n",
    "    def __init__(self, value, left=None, right=None):\n",
    "        self.val = value\n",
    "        self.left = left\n",
    "        self.right = right\n",
    "\n",
    "def calculate_yield(root):\n",
    "    if root.val == \"+\":\n",
    "        return root.left.val + root.right.val\n",
    "    elif root.val == \"-\":\n",
    "        return root.left.val - root.right.val\n",
    "    elif root.val == \"*\":\n",
    "        return root.left.val * root.right.val\n",
    "    elif root.val == \"/\":\n",
    "        return root.left.val / root.right.val\n",
    "    else:\n",
    "        return \"Mathematical operation not supported\""
   ]
  },
  {
   "cell_type": "code",
   "execution_count": 12,
   "metadata": {},
   "outputs": [
    {
     "name": "stdout",
     "output_type": "stream",
     "text": [
      "12\n"
     ]
    }
   ],
   "source": [
    "apple_tree = TreeNode(\"+\", TreeNode(7), TreeNode(5))\n",
    "\n",
    "print(calculate_yield(apple_tree))"
   ]
  },
  {
   "cell_type": "markdown",
   "metadata": {},
   "source": [
    "## Problem 3: Ivy Cutting\n",
    "You have a trailing ivy plant represented by a binary tree. You want to take a cutting to start a new plant using the rightmost vine in the plant. Given the root of the plant, return a list with the value of each node in the path from the root node to the rightmost leaf node.\n",
    "\n",
    "Evaluate the time complexity of your function. Define your variables and provide a rationale for why you believe your solution has the stated time complexity. Assume the input tree is balanced when calculating time complexity."
   ]
  },
  {
   "cell_type": "code",
   "execution_count": 43,
   "metadata": {},
   "outputs": [],
   "source": [
    "def right_vine(root):\n",
    "    if not root:\n",
    "        return []\n",
    "    res = []\n",
    "    while root:\n",
    "        res.append(root.val)\n",
    "        root = root.right\n",
    "    return res"
   ]
  },
  {
   "cell_type": "code",
   "execution_count": 44,
   "metadata": {},
   "outputs": [
    {
     "name": "stdout",
     "output_type": "stream",
     "text": [
      "['Root', 'Node2']\n",
      "['Root']\n"
     ]
    }
   ],
   "source": [
    "\"\"\"\n",
    "        Root\n",
    "      /      \\\n",
    "    Node1    Node2\n",
    "  /         /    \\\n",
    "Leaf1    Leaf2  Leaf3\n",
    "\"\"\"\n",
    "ivy1 = TreeNode(\"Root\", \n",
    "                TreeNode(\"Node1\", TreeNode(\"Leaf1\")),\n",
    "                TreeNode(\"Node2\", TreeNode(\"Leaf2\", TreeNode(\"Leaf3\"))))\n",
    "\n",
    "\"\"\"\n",
    "      Root\n",
    "      /  \n",
    "    Node1\n",
    "    /\n",
    "  Leaf1  \n",
    "\"\"\"\n",
    "ivy2 = TreeNode(\"Root\", TreeNode(\"Node1\", TreeNode(\"Leaf1\")))\n",
    "\n",
    "print(right_vine(ivy1))\n",
    "print(right_vine(ivy2))"
   ]
  },
  {
   "cell_type": "markdown",
   "metadata": {},
   "source": [
    "## \n",
    "Problem 4: Ivy Cutting II\n",
    "If you implemented right_vine() iteratively in the previous problem, implement it recursively. If you implemented it recursively, implement it iteratively.\n",
    "\n",
    "Evaluate the time complexity of your function. Define your variables and provide a rationale for why you believe your solution has the stated time complexity. Assume the input tree is balanced when calculating time complexity."
   ]
  },
  {
   "cell_type": "code",
   "execution_count": 49,
   "metadata": {},
   "outputs": [],
   "source": [
    "class TreeNode:\n",
    "    def __init__(self, value, left=None, right=None):\n",
    "        self.val = value\n",
    "        self.left = left\n",
    "        self.right = right\n",
    "\n",
    "def right_vine(root):\n",
    "    if not root:\n",
    "        return []\n",
    "    return [root.val] + right_vine(root.right)\n",
    "    "
   ]
  },
  {
   "cell_type": "markdown",
   "metadata": {},
   "source": [
    "['Root', 'Node2', 'Leaf3']\n",
    "['Root']"
   ]
  },
  {
   "cell_type": "code",
   "execution_count": 50,
   "metadata": {},
   "outputs": [
    {
     "name": "stdout",
     "output_type": "stream",
     "text": [
      "['Root', 'Node2']\n",
      "['Root']\n"
     ]
    }
   ],
   "source": [
    "\"\"\"\n",
    "        Root\n",
    "      /      \\\n",
    "    Node1    Node2\n",
    "  /         /    \\\n",
    "Leaf1    Leaf2  Leaf3\n",
    "\"\"\"\n",
    "ivy1 = TreeNode(\"Root\", \n",
    "                TreeNode(\"Node1\", TreeNode(\"Leaf1\")),\n",
    "                TreeNode(\"Node2\", TreeNode(\"Leaf2\", TreeNode(\"Leaf3\"))))\n",
    "\n",
    "\"\"\"\n",
    "      Root\n",
    "      /  \n",
    "    Node1\n",
    "    /\n",
    "  Leaf1  \n",
    "\"\"\"\n",
    "ivy2 = TreeNode(\"Root\", TreeNode(\"Node1\", TreeNode(\"Leaf1\")))\n",
    "\n",
    "print(right_vine(ivy1))\n",
    "print(right_vine(ivy2))"
   ]
  },
  {
   "cell_type": "markdown",
   "metadata": {},
   "source": [
    "## Problem 5: Count the Tree Leaves\n",
    "You've grown an oak tree from a tiny little acorn and it's finally sprouting leaves! Given the root of a binary tree representing your oak tree, count the number of leaf nodes in the tree. A leaf node is a node that does not have any children.\n",
    "\n",
    "Evaluate the time complexity of your function. Define your variables and provide a rationale for why you believe your solution has the stated time complexity. Assume the input tree is balanced when calculating time complexity."
   ]
  },
  {
   "cell_type": "code",
   "execution_count": 56,
   "metadata": {},
   "outputs": [],
   "source": [
    "class TreeNode:\n",
    "    def __init__(self, value, left=None, right=None):\n",
    "        self.val = value\n",
    "        self.left = left\n",
    "        self.right = right\n",
    "\n",
    "def count_leaves(root):\n",
    "    if not root:\n",
    "        return 0\n",
    "    \n",
    "    if not root.right and not root.left:\n",
    "        return 1\n",
    "    \n",
    "    sum_left = count_leaves(root.left)\n",
    "    sum_right = count_leaves(root.right)\n",
    "    \n",
    "    return sum_left + sum_right"
   ]
  },
  {
   "cell_type": "code",
   "execution_count": 57,
   "metadata": {},
   "outputs": [
    {
     "name": "stdout",
     "output_type": "stream",
     "text": [
      "3\n",
      "1\n"
     ]
    }
   ],
   "source": [
    "\"\"\"\n",
    "        Root\n",
    "      /      \\\n",
    "    Node1    Node2\n",
    "  /         /    \\\n",
    "Leaf1    Leaf2  Leaf3\n",
    "\"\"\"\n",
    "\n",
    "oak1 = TreeNode(\"Root\", \n",
    "                TreeNode(\"Node1\", TreeNode(\"Leaf1\")),\n",
    "                TreeNode(\"Node2\", TreeNode(\"Leaf2\"), TreeNode(\"Leaf3\")))\n",
    "\n",
    "\"\"\"\n",
    "      Root\n",
    "      /  \n",
    "    Node1\n",
    "    /\n",
    "  Leaf1  \n",
    "\"\"\"\n",
    "oak2 = TreeNode(\"Root\", TreeNode(\"Node1\", TreeNode(\"Leaf1\")))\n",
    "\n",
    "\n",
    "print(count_leaves(oak1)) # 3\n",
    "print(count_leaves(oak2)) # 1"
   ]
  },
  {
   "cell_type": "markdown",
   "metadata": {},
   "source": [
    "## Problem 6: Pruning Plans\n",
    "You have a large overgrown Magnolia tree that's in desperate need of some pruning. Before you can prune the tree, you need to do a full survey of the tree to evaluate which sections need to be pruned.\n",
    "\n",
    "Given the root of a binary tree representing the magnolia, return a list of the values of each node using a postorder traversal. In a postorder traversal, you explore the left subtree first, then the right subtree, and finally the root. Postorder traversals are often used when deleting nodes from a tree.\n",
    "\n",
    "Evaluate the time complexity of your function. Define your variables and provide a rationale for why you believe your solution has the stated time complexity. Assume the input tree is balanced when calculating time complexity."
   ]
  },
  {
   "cell_type": "code",
   "execution_count": 60,
   "metadata": {},
   "outputs": [],
   "source": [
    "class TreeNode:\n",
    "    def __init__(self, value, left=None, right=None):\n",
    "        self.val = value\n",
    "        self.left = left\n",
    "        self.right = right\n",
    "\n",
    "def survey_tree(root):\n",
    "    if not root:\n",
    "        return []\n",
    "    \n",
    "    left = survey_tree(root.left)\n",
    "    right = survey_tree(root.right)\n",
    "    \n",
    "    return left + right + [root.val]"
   ]
  },
  {
   "cell_type": "code",
   "execution_count": 61,
   "metadata": {},
   "outputs": [
    {
     "name": "stdout",
     "output_type": "stream",
     "text": [
      "['Leaf1', 'Node1', 'Leaf2', 'Leaf3', 'Node2', 'Root']\n"
     ]
    }
   ],
   "source": [
    "\"\"\"\n",
    "        Root\n",
    "      /      \\\n",
    "    Node1    Node2\n",
    "  /         /    \\\n",
    "Leaf1    Leaf2  Leaf3\n",
    "\"\"\"\n",
    "\n",
    "magnolia = TreeNode(\"Root\", \n",
    "                TreeNode(\"Node1\", TreeNode(\"Leaf1\")),\n",
    "                TreeNode(\"Node2\", TreeNode(\"Leaf2\"), TreeNode(\"Leaf3\")))\n",
    "\n",
    "print(survey_tree(magnolia))"
   ]
  },
  {
   "cell_type": "markdown",
   "metadata": {},
   "source": [
    "## Problem 7: Foraging Berries\n",
    "You've found a wild blueberry bush and want to do some foraging. However, you want to be conscious of the local ecosystem and leave some behind for local wildlife and regeneration. To do so, you plan to only harvest from branches where the number of berries is greater than threshold.\n",
    "\n",
    "Given the root of a binary tree representing a berry bush where each node represents the number of berries on a branch of the bush, write a function harvest_berries(), that finds the number of berries you can harvest by returning the sum of all nodes with value greater than threshold.\n",
    "\n",
    "Evaluate the time complexity of your function. Define your variables and provide a rationale for why you believe your solution has the stated time complexity. Assume the input tree is balanced when calculating time complexity."
   ]
  },
  {
   "cell_type": "code",
   "execution_count": 27,
   "metadata": {},
   "outputs": [],
   "source": [
    "class TreeNode:\n",
    "    def __init__(self, value, left=None, right=None):\n",
    "        self.val = value\n",
    "        self.left = left\n",
    "        self.right = right\n",
    "\n",
    "def harvest_berries(root, threshold):\n",
    "    if not root:\n",
    "        return 0\n",
    "    \n",
    "    left_sum = harvest_berries(root.left, threshold)\n",
    "    right_sum = harvest_berries(root.right, threshold)\n",
    "    \n",
    "    if root.val > threshold:\n",
    "        return root.val + left_sum + right_sum\n",
    "    else:\n",
    "        return left_sum + right_sum"
   ]
  },
  {
   "cell_type": "code",
   "execution_count": 28,
   "metadata": {},
   "outputs": [
    {
     "name": "stdout",
     "output_type": "stream",
     "text": [
      "38\n",
      "0\n"
     ]
    }
   ],
   "source": [
    "\"\"\"\n",
    "       4\n",
    "     /   \\\n",
    "   10     6\n",
    "  /  \\     \\\n",
    " 5    8    20\n",
    "\"\"\"\n",
    "bush = TreeNode(4, TreeNode(10, TreeNode(5), TreeNode(8)), TreeNode(6, None, TreeNode(20)))\n",
    "\n",
    "print(harvest_berries(bush, 6))\n",
    "print(harvest_berries(bush, 30))"
   ]
  },
  {
   "cell_type": "markdown",
   "metadata": {},
   "source": [
    "38\n",
    "Example 1 Explanation: \n",
    "- Nodes greater than 6: 8, 10, 20\n",
    "- 8 + 10 + 20 = 38\n",
    "\n",
    "0\n",
    "Example 2 Explanation: No nodes greater than 30"
   ]
  },
  {
   "cell_type": "markdown",
   "metadata": {},
   "source": [
    "# <h1 style=\"color: brown;\">Session 1: Standard Problem Set Version 2</h1>"
   ]
  },
  {
   "cell_type": "markdown",
   "metadata": {},
   "source": [
    "## Problem 3: Flower Finding II\n",
    "Consider the following function non_bst_find_flower() which accepts the root of a binary tree inventory and a flower name, and returns True if a flower (node) with name exists in the binary tree. Unlike the previous problem, this tree is not a binary search tree.\n",
    "\n",
    "Compare your solution to find_flower() in Problem 2 to the following solution. Discuss with your group: How is the code different? Why?\n",
    "What is the time complexity of non_bst_find_flower()? How does it compare to the time complexity of find_flower() in Problem 2?\n",
    "How would the time complexity of find_flower() from Problem 2 change if the tree inventory was not balanced?"
   ]
  },
  {
   "cell_type": "markdown",
   "metadata": {},
   "source": [
    "## Problem 4: Adding a New Plant to the Collection\n",
    "You have just purchased a new houseplant and are excited to add it to your collection! Your collection is meticulously organized using a Binary Search Tree (BST) where each node in the tree represents a houseplant in your collection, and houseplants are organized alphabetically by name (val).\n",
    "\n",
    "Given the root of your BST collection and a new houseplant name, insert a new node with value name into your collection. Return the root of your updated collection. If another plant with name already exists in the tree, add the new node in the existing node's right subtree.\n",
    "\n",
    "Evaluate the time complexity of your function. Define your variables and provide a rationale for why you believe your solution has the stated time complexity. Assume the input tree is balanced when calculating time complexity."
   ]
  },
  {
   "cell_type": "code",
   "execution_count": 66,
   "metadata": {},
   "outputs": [],
   "source": [
    "from collections import deque \n",
    "\n",
    "# Tree Node class\n",
    "class TreeNode:\n",
    "  def __init__(self, value, key=None, left=None, right=None):\n",
    "      self.key = key\n",
    "      self.val = value\n",
    "      self.left = left\n",
    "      self.right = right\n",
    "\n",
    "def build_tree(values):\n",
    "  if not values:\n",
    "      return None\n",
    "\n",
    "  def get_key_value(item):\n",
    "      if isinstance(item, tuple):\n",
    "          return item[0], item[1]\n",
    "      else:\n",
    "          return None, item\n",
    "\n",
    "  key, value = get_key_value(values[0])\n",
    "  root = TreeNode(value, key)\n",
    "  queue = deque([root])\n",
    "  index = 1\n",
    "\n",
    "  while queue:\n",
    "      node = queue.popleft()\n",
    "      if index < len(values) and values[index] is not None:\n",
    "          left_key, left_value = get_key_value(values[index])\n",
    "          node.left = TreeNode(left_value, left_key)\n",
    "          queue.append(node.left)\n",
    "      index += 1\n",
    "      if index < len(values) and values[index] is not None:\n",
    "          right_key, right_value = get_key_value(values[index])\n",
    "          node.right = TreeNode(right_value, right_key)\n",
    "          queue.append(node.right)\n",
    "      index += 1\n",
    "\n",
    "  return root\n",
    "\n",
    "\n",
    "from collections import deque \n",
    "\n",
    "# Tree Node class\n",
    "class TreeNode:\n",
    "    def __init__(self, value, left=None, right=None):\n",
    "        self.val = value\n",
    "        self.left = left\n",
    "        self.right = right\n",
    "\n",
    "def print_tree(root):\n",
    "    if not root:\n",
    "        return \"Empty\"\n",
    "    result = []\n",
    "    queue = deque([root])\n",
    "    while queue:\n",
    "        node = queue.popleft()\n",
    "        if node:\n",
    "            result.append(node.val)\n",
    "            queue.append(node.left)\n",
    "            queue.append(node.right)\n",
    "        else:\n",
    "            result.append(None)\n",
    "    while result and result[-1] is None:\n",
    "        result.pop()\n",
    "    print(result)"
   ]
  },
  {
   "cell_type": "code",
   "execution_count": 81,
   "metadata": {},
   "outputs": [],
   "source": [
    "class TreeNode:\n",
    "    def __init__(self, value, left=None, right=None):\n",
    "        self.val = value\n",
    "        self.left = left\n",
    "        self.right = right\n",
    "\n",
    "def add_plant(collection, name):\n",
    "    if not collection:\n",
    "        return TreeNode(name)\n",
    "\n",
    "    current = collection\n",
    "    while current:\n",
    "        if name < current.val:\n",
    "            current = current.left\n",
    "            if not current.left:\n",
    "                current.left = TreeNode(name)\n",
    "        elif name > current.right.val:\n",
    "            current = current.right\n",
    "            if not current.right:\n",
    "                current.right = TreeNode(name)\n",
    "    return collection"
   ]
  },
  {
   "cell_type": "code",
   "execution_count": 82,
   "metadata": {},
   "outputs": [
    {
     "ename": "AttributeError",
     "evalue": "'NoneType' object has no attribute 'val'",
     "output_type": "error",
     "traceback": [
      "\u001b[1;31m---------------------------------------------------------------------------\u001b[0m",
      "\u001b[1;31mAttributeError\u001b[0m                            Traceback (most recent call last)",
      "Cell \u001b[1;32mIn[82], line 12\u001b[0m\n\u001b[0;32m      9\u001b[0m collection \u001b[38;5;241m=\u001b[39m build_tree(values)\n\u001b[0;32m     11\u001b[0m \u001b[38;5;66;03m# Using print_tree() function at the top of page\u001b[39;00m\n\u001b[1;32m---> 12\u001b[0m print_tree(\u001b[43madd_plant\u001b[49m\u001b[43m(\u001b[49m\u001b[43mcollection\u001b[49m\u001b[43m,\u001b[49m\u001b[43m \u001b[49m\u001b[38;5;124;43m\"\u001b[39;49m\u001b[38;5;124;43mAloe\u001b[39;49m\u001b[38;5;124;43m\"\u001b[39;49m\u001b[43m)\u001b[49m)\n",
      "Cell \u001b[1;32mIn[81], line 17\u001b[0m, in \u001b[0;36madd_plant\u001b[1;34m(collection, name)\u001b[0m\n\u001b[0;32m     15\u001b[0m     \u001b[38;5;28;01mif\u001b[39;00m \u001b[38;5;129;01mnot\u001b[39;00m current\u001b[38;5;241m.\u001b[39mleft:\n\u001b[0;32m     16\u001b[0m         current\u001b[38;5;241m.\u001b[39mleft \u001b[38;5;241m=\u001b[39m TreeNode(name)\n\u001b[1;32m---> 17\u001b[0m \u001b[38;5;28;01melif\u001b[39;00m name \u001b[38;5;241m>\u001b[39m \u001b[43mcurrent\u001b[49m\u001b[38;5;241;43m.\u001b[39;49m\u001b[43mright\u001b[49m\u001b[38;5;241;43m.\u001b[39;49m\u001b[43mval\u001b[49m:\n\u001b[0;32m     18\u001b[0m     current \u001b[38;5;241m=\u001b[39m current\u001b[38;5;241m.\u001b[39mright\n\u001b[0;32m     19\u001b[0m     \u001b[38;5;28;01mif\u001b[39;00m \u001b[38;5;129;01mnot\u001b[39;00m current\u001b[38;5;241m.\u001b[39mright:\n",
      "\u001b[1;31mAttributeError\u001b[0m: 'NoneType' object has no attribute 'val'"
     ]
    }
   ],
   "source": [
    "\"\"\"\n",
    "            Money Tree\n",
    "        /              \\\n",
    "Fiddle Leaf Fig    Snake Plant\n",
    "\"\"\"\n",
    "\n",
    "# Using build_tree() function at the top of page\n",
    "values = [\"Money Tree\", \"Fiddle Leaf Fig\", \"Snake Plant\"]\n",
    "collection = build_tree(values)\n",
    "\n",
    "# Using print_tree() function at the top of page\n",
    "print_tree(add_plant(collection, \"Aloe\"))"
   ]
  },
  {
   "cell_type": "markdown",
   "metadata": {},
   "source": [
    "['Money Tree', 'Fiddle Leaf Fig', 'Snake Plant', 'Aloe']\n",
    "\n",
    "Explanation: \n",
    "Tree should have the following structure:\n",
    "           Money Tree\n",
    "        /              \\\n",
    " Fiddle Leaf Fig   Snake Plant\n",
    "   /\n",
    " Aloe"
   ]
  }
 ],
 "metadata": {
  "kernelspec": {
   "display_name": "tf2",
   "language": "python",
   "name": "python3"
  },
  "language_info": {
   "codemirror_mode": {
    "name": "ipython",
    "version": 3
   },
   "file_extension": ".py",
   "mimetype": "text/x-python",
   "name": "python",
   "nbconvert_exporter": "python",
   "pygments_lexer": "ipython3",
   "version": "3.10.14"
  }
 },
 "nbformat": 4,
 "nbformat_minor": 2
}
