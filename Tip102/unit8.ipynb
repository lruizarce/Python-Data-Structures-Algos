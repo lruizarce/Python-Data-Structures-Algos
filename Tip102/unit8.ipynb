{
 "cells": [
  {
   "cell_type": "code",
   "execution_count": 40,
   "metadata": {},
   "outputs": [],
   "source": [
    "from collections import deque \n",
    "\n",
    "# Tree Node class\n",
    "class TreeNode:\n",
    "    def __init__(self, value, left=None, right=None):\n",
    "        self.val = value\n",
    "        self.left = left\n",
    "        self.right = right\n",
    "\n",
    "def print_tree(root):\n",
    "    if not root:\n",
    "        return \"Empty\"\n",
    "    result = []\n",
    "    queue = deque([root])\n",
    "    while queue:\n",
    "        node = queue.popleft()\n",
    "        if node:\n",
    "            result.append(node.val)\n",
    "            queue.append(node.left)\n",
    "            queue.append(node.right)\n",
    "        else:\n",
    "            result.append(None)\n",
    "    while result and result[-1] is None:\n",
    "        result.pop()\n",
    "    print(result)"
   ]
  },
  {
   "cell_type": "code",
   "execution_count": 41,
   "metadata": {},
   "outputs": [],
   "source": [
    "from collections import deque \n",
    "\n",
    "# Tree Node class\n",
    "class TreeNode:\n",
    "  def __init__(self, value, key=None, left=None, right=None):\n",
    "      self.key = key\n",
    "      self.val = value\n",
    "      self.left = left\n",
    "      self.right = right\n",
    "\n",
    "def build_tree(values):\n",
    "  if not values:\n",
    "      return None\n",
    "\n",
    "  def get_key_value(item):\n",
    "      if isinstance(item, tuple):\n",
    "          return item[0], item[1]\n",
    "      else:\n",
    "          return None, item\n",
    "\n",
    "  key, value = get_key_value(values[0])\n",
    "  root = TreeNode(value, key)\n",
    "  queue = deque([root])\n",
    "  index = 1\n",
    "\n",
    "  while queue:\n",
    "      node = queue.popleft()\n",
    "      if index < len(values) and values[index] is not None:\n",
    "          left_key, left_value = get_key_value(values[index])\n",
    "          node.left = TreeNode(left_value, left_key)\n",
    "          queue.append(node.left)\n",
    "      index += 1\n",
    "      if index < len(values) and values[index] is not None:\n",
    "          right_key, right_value = get_key_value(values[index])\n",
    "          node.right = TreeNode(right_value, right_key)\n",
    "          queue.append(node.right)\n",
    "      index += 1\n",
    "\n",
    "  return root"
   ]
  },
  {
   "cell_type": "markdown",
   "metadata": {},
   "source": [
    "# <h1 style=\"color: purple;\">Session 1: Standard Problem Set Version 1</h1>"
   ]
  },
  {
   "cell_type": "markdown",
   "metadata": {},
   "source": [
    "## Problem 1: Grafting Apples\n",
    "You are grafting different varieties of apple onto the same root tree can produce many different varieties of apples! Given the following TreeNode class, create the binary tree depicted below. The text representing each node should should be used as the value.\n",
    "\n",
    "The root, or topmost node in the tree TreeNode(\"Trunk\") has been provided for you."
   ]
  },
  {
   "cell_type": "code",
   "execution_count": 3,
   "metadata": {},
   "outputs": [],
   "source": [
    "class TreeNode:\n",
    "    def __init__(self, value, left=None, right=None):\n",
    "        self.val = value\n",
    "        self.left = left\n",
    "        self.right = right\n",
    "\n",
    "root = TreeNode(\"Trunk\")\n",
    "root.left = TreeNode(\"Mcintosh\", TreeNode(\"Fuji\"), TreeNode(\"Opal\"))\n",
    "root.right = TreeNode(\"Granny Smith\", TreeNode(\"Crab\"), TreeNode(\"Gala\"))"
   ]
  },
  {
   "cell_type": "code",
   "execution_count": 4,
   "metadata": {},
   "outputs": [
    {
     "name": "stdout",
     "output_type": "stream",
     "text": [
      "['Trunk', 'Mcintosh', 'Granny Smith', 'Fuji', 'Opal', 'Crab', 'Gala']\n"
     ]
    }
   ],
   "source": [
    "print_tree(root)"
   ]
  },
  {
   "cell_type": "markdown",
   "metadata": {},
   "source": [
    "## Problem 2: Calculating Yield\n",
    "You have a fruit tree represented as a binary tree with exactly three nodes: the root and its two children. Given the root of the tree, evaluate the amount of fruit your tree will yield this year. The tree has the following form:\n",
    "\n",
    "Leaf nodes have an integer value.\n",
    "The root has a string value of either \"+\", \"-\", \"*\", or \"-\".\n",
    "The yield of a the tree is calculated by applying the mathematical operation to the two children.\n",
    "\n",
    "Return the result of evaluating the root node.\n",
    "\n",
    "Evaluate the time complexity of your function. Define your variables and provide a rationale for why you believe your solution has the stated time complexity."
   ]
  },
  {
   "cell_type": "code",
   "execution_count": 18,
   "metadata": {},
   "outputs": [],
   "source": [
    "class TreeNode:\n",
    "    def __init__(self, value, left=None, right=None):\n",
    "        self.val = value\n",
    "        self.left = left\n",
    "        self.right = right\n",
    "\n",
    "def calculate_yield(root):\n",
    "    if not root:\n",
    "        return 0\n",
    "    \n",
    "    if root.val == \"+\":\n",
    "        return root.left.val + root.right.val\n",
    "    elif root == \"-\":\n",
    "        return root.left.val - root.right.val\n",
    "    elif root == \"*\":\n",
    "        return root.left.val * root.right.val\n",
    "    elif root == \"/\":\n",
    "        return root.left.val / root.right.val"
   ]
  },
  {
   "cell_type": "code",
   "execution_count": 19,
   "metadata": {},
   "outputs": [
    {
     "name": "stdout",
     "output_type": "stream",
     "text": [
      "12\n"
     ]
    }
   ],
   "source": [
    "\"\"\"\n",
    "    +\n",
    "  /   \\\n",
    " 7     5\n",
    "\"\"\"\n",
    "apple_tree = TreeNode(\"+\", TreeNode(7), TreeNode(5))\n",
    "\n",
    "print(calculate_yield(apple_tree))"
   ]
  },
  {
   "cell_type": "markdown",
   "metadata": {},
   "source": [
    "## Problem 3: Ivy Cutting\n",
    "You have a trailing ivy plant represented by a binary tree. You want to take a cutting to start a new plant using the rightmost vine in the plant. Given the root of the plant, return a list with the value of each node in the path from the root node to the rightmost leaf node.\n",
    "\n",
    "Evaluate the time complexity of your function. Define your variables and provide a rationale for why you believe your solution has the stated time complexity. Assume the input tree is balanced when calculating time complexity."
   ]
  },
  {
   "cell_type": "code",
   "execution_count": 24,
   "metadata": {},
   "outputs": [],
   "source": [
    "class TreeNode:\n",
    "    def __init__(self, value, left=None, right=None):\n",
    "        self.val = value\n",
    "        self.left = left\n",
    "        self.right = right\n",
    "\n",
    "def right_vine(root):\n",
    "  if not root:\n",
    "    return []\n",
    "  \n",
    "  return [root.val] + right_vine(root.right)"
   ]
  },
  {
   "cell_type": "code",
   "execution_count": 25,
   "metadata": {},
   "outputs": [
    {
     "name": "stdout",
     "output_type": "stream",
     "text": [
      "['Root', 'Node2', 'Leaf3']\n",
      "['Root']\n"
     ]
    }
   ],
   "source": [
    "\"\"\"\n",
    "        Root\n",
    "      /      \\\n",
    "    Node1    Node2\n",
    "  /         /    \\\n",
    "Leaf1    Leaf2  Leaf3\n",
    "\"\"\"\n",
    "ivy1 = TreeNode(\"Root\", \n",
    "                TreeNode(\"Node1\", TreeNode(\"Leaf1\")),\n",
    "                TreeNode(\"Node2\", TreeNode(\"Leaf2\"), TreeNode(\"Leaf3\")))\n",
    "\n",
    "\"\"\"\n",
    "      Root\n",
    "      /  \n",
    "    Node1\n",
    "    /\n",
    "  Leaf1  \n",
    "\"\"\"\n",
    "ivy2 = TreeNode(\"Root\", TreeNode(\"Node1\", TreeNode(\"Leaf1\")))\n",
    "\n",
    "print(right_vine(ivy1))\n",
    "print(right_vine(ivy2))"
   ]
  },
  {
   "cell_type": "markdown",
   "metadata": {},
   "source": [
    "## <h1 style=\"color: red;\">Note</h1>\n",
    "    - Balance BST\n",
    "        - Search, Insertion, and Deletion: 𝑂(log⁡𝑛)\n",
    "    - Unbalance BST\n",
    "        - Search, Insertion, and Deletion: 𝑂(𝑛)"
   ]
  },
  {
   "cell_type": "markdown",
   "metadata": {},
   "source": [
    "## Problem 4: Ivy Cutting II\n",
    "If you implemented right_vine() iteratively in the previous problem, implement it recursively. If you implemented it recursively, implement it iteratively.\n",
    "\n",
    "Evaluate the time complexity of your function. Define your variables and provide a rationale for why you believe your solution has the stated time complexity. Assume the input tree is balanced when calculating time complexity."
   ]
  },
  {
   "cell_type": "code",
   "execution_count": 28,
   "metadata": {},
   "outputs": [],
   "source": [
    "class TreeNode:\n",
    "    def __init__(self, value, left=None, right=None):\n",
    "        self.val = value\n",
    "        self.left = left\n",
    "        self.right = right\n",
    "\n",
    "def right_vine(root):\n",
    "    if not root:\n",
    "        return []\n",
    "    res = []\n",
    "    \n",
    "    while root:\n",
    "        res.append(root.val)\n",
    "        root = root.right\n",
    "    return res"
   ]
  },
  {
   "cell_type": "code",
   "execution_count": 29,
   "metadata": {},
   "outputs": [
    {
     "name": "stdout",
     "output_type": "stream",
     "text": [
      "['Root', 'Node2', 'Leaf3']\n",
      "['Root']\n"
     ]
    }
   ],
   "source": [
    "\"\"\"\n",
    "        Root\n",
    "      /      \\\n",
    "    Node1    Node2\n",
    "  /         /    \\\n",
    "Leaf1    Leaf2  Leaf3\n",
    "\"\"\"\n",
    "ivy1 = TreeNode(\"Root\", \n",
    "                TreeNode(\"Node1\", TreeNode(\"Leaf1\")),\n",
    "                TreeNode(\"Node2\", TreeNode(\"Leaf2\"), TreeNode(\"Leaf3\")))\n",
    "\n",
    "\"\"\"\n",
    "      Root\n",
    "      /  \n",
    "    Node1\n",
    "    /\n",
    "  Leaf1  \n",
    "\"\"\"\n",
    "ivy2 = TreeNode(\"Root\", TreeNode(\"Node1\", TreeNode(\"Leaf1\")))\n",
    "\n",
    "print(right_vine(ivy1))\n",
    "print(right_vine(ivy2))"
   ]
  },
  {
   "cell_type": "markdown",
   "metadata": {},
   "source": [
    "## Problem 5: Count the Tree Leaves\n",
    "You've grown an oak tree from a tiny little acorn and it's finally sprouting leaves! Given the root of a binary tree representing your oak tree, count the number of leaf nodes in the tree. A leaf node is a node that does not have any children.\n",
    "\n",
    "Evaluate the time complexity of your function. Define your variables and provide a rationale for why you believe your solution has the stated time complexity. Assume the input tree is balanced when calculating time complexity."
   ]
  },
  {
   "cell_type": "code",
   "execution_count": 30,
   "metadata": {},
   "outputs": [],
   "source": [
    "class TreeNode:\n",
    "    def __init__(self, value, left=None, right=None):\n",
    "        self.val = value\n",
    "        self.left = left\n",
    "        self.right = right\n",
    "\n",
    "def count_leaves(root):\n",
    "    if not root:\n",
    "        return 0\n",
    "    \n",
    "    if not root.right and not root.left:\n",
    "        return 1\n",
    "    \n",
    "    left_sum = count_leaves(root.left)\n",
    "    right_sum = count_leaves(root.right)\n",
    "    return left_sum + right_sum"
   ]
  },
  {
   "cell_type": "code",
   "execution_count": 31,
   "metadata": {},
   "outputs": [
    {
     "name": "stdout",
     "output_type": "stream",
     "text": [
      "3\n",
      "1\n"
     ]
    }
   ],
   "source": [
    "\"\"\"\n",
    "        Root\n",
    "      /      \\\n",
    "    Node1    Node2\n",
    "  /         /    \\\n",
    "Leaf1    Leaf2  Leaf3\n",
    "\"\"\"\n",
    "\n",
    "oak1 = TreeNode(\"Root\", \n",
    "                TreeNode(\"Node1\", TreeNode(\"Leaf1\")),\n",
    "                TreeNode(\"Node2\", TreeNode(\"Leaf2\"), TreeNode(\"Leaf3\")))\n",
    "\n",
    "\"\"\"\n",
    "      Root\n",
    "      /  \n",
    "    Node1\n",
    "    /\n",
    "  Leaf1  \n",
    "\"\"\"\n",
    "oak2 = TreeNode(\"Root\", TreeNode(\"Node1\", TreeNode(\"Leaf1\")))\n",
    "\n",
    "\n",
    "print(count_leaves(oak1))\n",
    "print(count_leaves(oak2))"
   ]
  },
  {
   "cell_type": "markdown",
   "metadata": {},
   "source": [
    "## Problem 6: Pruning Plans\n",
    "You have a large overgrown Magnolia tree that's in desperate need of some pruning. Before you can prune the tree, you need to do a full survey of the tree to evaluate which sections need to be pruned.\n",
    "\n",
    "Given the root of a binary tree representing the magnolia, return a list of the values of each node using a postorder traversal. In a postorder traversal, you explore the left subtree first, then the right subtree, and finally the root. Postorder traversals are often used when deleting nodes from a tree.\n",
    "\n",
    "Evaluate the time complexity of your function. Define your variables and provide a rationale for why you believe your solution has the stated time complexity. Assume the input tree is balanced when calculating time complexity."
   ]
  },
  {
   "cell_type": "code",
   "execution_count": 32,
   "metadata": {},
   "outputs": [],
   "source": [
    "class TreeNode:\n",
    "    def __init__(self, value, left=None, right=None):\n",
    "        self.val = value\n",
    "        self.left = left\n",
    "        self.right = right\n",
    "\n",
    "def survey_tree(root):\n",
    "    if not root:\n",
    "        return []\n",
    "    \n",
    "    left = survey_tree(root.left)\n",
    "    right = survey_tree(root.right)\n",
    "    \n",
    "    return left + right + [root.val]"
   ]
  },
  {
   "cell_type": "code",
   "execution_count": 33,
   "metadata": {},
   "outputs": [
    {
     "name": "stdout",
     "output_type": "stream",
     "text": [
      "['Leaf1', 'Node1', 'Leaf2', 'Leaf3', 'Node2', 'Root']\n"
     ]
    }
   ],
   "source": [
    "\"\"\"\n",
    "        Root\n",
    "      /      \\\n",
    "    Node1    Node2\n",
    "  /         /    \\\n",
    "Leaf1    Leaf2  Leaf3\n",
    "\"\"\"\n",
    "\n",
    "magnolia = TreeNode(\"Root\", \n",
    "                TreeNode(\"Node1\", TreeNode(\"Leaf1\")),\n",
    "                TreeNode(\"Node2\", TreeNode(\"Leaf2\"), TreeNode(\"Leaf3\")))\n",
    "\n",
    "print(survey_tree(magnolia)) # [\"Leaf1\", \"Node1\", \"Leaf2\", \"Leaf3\", \"Node2\", \"Root\"]"
   ]
  },
  {
   "cell_type": "markdown",
   "metadata": {},
   "source": [
    "## Problem 7: Foraging Berries\n",
    "You've found a wild blueberry bush and want to do some foraging. However, you want to be conscious of the local ecosystem and leave some behind for local wildlife and regeneration. To do so, you plan to only harvest from branches where the number of berries is greater than threshold.\n",
    "\n",
    "Given the root of a binary tree representing a berry bush where each node represents the number of berries on a branch of the bush, write a function harvest_berries(), that finds the number of berries you can harvest by returning the sum of all nodes with value greater than threshold.\n",
    "\n",
    "Evaluate the time complexity of your function. Define your variables and provide a rationale for why you believe your solution has the stated time complexity. Assume the input tree is balanced when calculating time complexity."
   ]
  },
  {
   "cell_type": "code",
   "execution_count": 40,
   "metadata": {},
   "outputs": [],
   "source": [
    "class TreeNode:\n",
    "    def __init__(self, value, left=None, right=None):\n",
    "        self.val = value\n",
    "        self.left = left\n",
    "        self.right = right\n",
    "\n",
    "def harvest_berries(root, threshold):\n",
    "    if not root:\n",
    "        return 0\n",
    "    \n",
    "    left = harvest_berries(root.left, threshold)\n",
    "    right = harvest_berries(root.right, threshold)\n",
    "    \n",
    "    if root.val > threshold:\n",
    "        return root.val + left + right\n",
    "    else:\n",
    "        return left + right"
   ]
  },
  {
   "cell_type": "code",
   "execution_count": 41,
   "metadata": {},
   "outputs": [
    {
     "name": "stdout",
     "output_type": "stream",
     "text": [
      "38\n",
      "0\n"
     ]
    }
   ],
   "source": [
    "\"\"\"\n",
    "       4\n",
    "     /   \\\n",
    "   10     6\n",
    "  /  \\     \\\n",
    " 5    8    20\n",
    "\"\"\"\n",
    "bush = TreeNode(4, TreeNode(10, TreeNode(5), TreeNode(8)), TreeNode(6, None, TreeNode(20)))\n",
    "\n",
    "print(harvest_berries(bush, 6))\n",
    "print(harvest_berries(bush, 30))"
   ]
  },
  {
   "cell_type": "markdown",
   "metadata": {},
   "source": [
    "38\n",
    "Example 1 Explanation: \n",
    "- Nodes greater than 6: 8, 10, 20\n",
    "- 8 + 10 + 20 = 38\n",
    "\n",
    "0\n",
    "Example 2 Explanation: No nodes greater than 30"
   ]
  },
  {
   "cell_type": "markdown",
   "metadata": {},
   "source": [
    "## Problem 8: Flower Fields\n",
    "You're looking for the perfect bloom to add to your bouquet of flowers. Given the root of a binary tree representing flower options, and a target flower flower, return True if the bloom you are looking for each exists in the tree and False otherwise.\n",
    "\n",
    "Evaluate the time complexity of your function. Define your variables and provide a rationale for why you believe your solution has the stated time complexity. Assume the input tree is balanced when calculating time complexity."
   ]
  },
  {
   "cell_type": "code",
   "execution_count": 45,
   "metadata": {},
   "outputs": [],
   "source": [
    "class TreeNode:\n",
    "    def __init__(self, value, left=None, right=None):\n",
    "        self.val = value\n",
    "        self.left = left\n",
    "        self.right = right\n",
    "\n",
    "def find_flower(root, flower):\n",
    "    if not root or not flower:\n",
    "        return False\n",
    "    \n",
    "    if root.val == flower:\n",
    "        return True\n",
    "    else:\n",
    "        return find_flower(root.right, flower) or find_flower(root.left, flower)\n",
    "    "
   ]
  },
  {
   "cell_type": "code",
   "execution_count": 46,
   "metadata": {},
   "outputs": [
    {
     "name": "stdout",
     "output_type": "stream",
     "text": [
      "True\n",
      "False\n"
     ]
    }
   ],
   "source": [
    "\"\"\"\n",
    "         Rose\n",
    "        /    \\\n",
    "       /      \\\n",
    "     Lily     Daisy\n",
    "    /    \\        \\\n",
    "Orchid  Lilac    Dahlia\n",
    "\"\"\"\n",
    "\n",
    "flower_field = TreeNode(\"Rose\", \n",
    "                        TreeNode(\"Lily\", TreeNode(\"Orchid\"), TreeNode(\"Lilac\")),\n",
    "                                TreeNode(\"Daisy\", None, TreeNode(\"Dahlia\")))\n",
    "\n",
    "print(find_flower(flower_field, \"Lilac\"))\n",
    "print(find_flower(flower_field, \"Hibiscus\"))"
   ]
  },
  {
   "cell_type": "markdown",
   "metadata": {},
   "source": [
    "# <h1 style=\"color: green;\">Session 1: Standard Problem Set Version 2</h1>"
   ]
  },
  {
   "cell_type": "markdown",
   "metadata": {},
   "source": [
    "## Problem 1: Building an Underwater Kingdom\n",
    "Given the following TreeNode class, create the binary tree depicted below. The text representing each node should should be used as the value.\n",
    "\n",
    "The root, or topmost node in the tree TreeNode(\"Poseidon\") has been provided for you."
   ]
  },
  {
   "cell_type": "code",
   "execution_count": 48,
   "metadata": {},
   "outputs": [],
   "source": [
    "class TreeNode:\n",
    "    def __init__(self, value, left=None, right=None):\n",
    "        self.val = value\n",
    "        self.left = left\n",
    "        self.right = right\n",
    "\n",
    "root = TreeNode(\"Poseidon\", TreeNode(\"Atlantis\", TreeNode(\"Coral\"), TreeNode(\"Pearl\")), TreeNode(\"Oceania\", TreeNode(\"Kelp\"), TreeNode(\"Reef\")))\n"
   ]
  },
  {
   "cell_type": "code",
   "execution_count": 49,
   "metadata": {},
   "outputs": [
    {
     "name": "stdout",
     "output_type": "stream",
     "text": [
      "['Poseidon', 'Atlantis', 'Oceania', 'Coral', 'Pearl', 'Kelp', 'Reef']\n"
     ]
    }
   ],
   "source": [
    "print_tree(root)"
   ]
  },
  {
   "cell_type": "markdown",
   "metadata": {},
   "source": [
    "## Problem 2: Are Twins?\n",
    "Given the root of a binary tree that has at most three nodes: the root, its left child, and its right child.\n",
    "\n",
    "Return True if the root's children are twins (have equal value) and False otherwise. If the root has no children, return False.\n",
    "\n",
    "Evaluate the time complexity of your function. Define your variables and provide a rationale for why you believe your solution has the stated time complexity."
   ]
  },
  {
   "cell_type": "code",
   "execution_count": 55,
   "metadata": {},
   "outputs": [],
   "source": [
    "class TreeNode:\n",
    "    def __init__(self, value, left=None, right=None):\n",
    "        self.val = value\n",
    "        self.left = left\n",
    "        self.right = right\n",
    "\n",
    "def is_symmetric(root):\n",
    "    if not root:\n",
    "        return True\n",
    "    return check_mirror(root.left, root.right)\n",
    "\n",
    "def check_mirror(left, right):\n",
    "    if not left and not right:\n",
    "        return True\n",
    "    if not left or not right:\n",
    "        return False\n",
    "    if left.val != right.val:\n",
    "        return False\n",
    "    return check_mirror(left.left, right.right) and check_mirror(left.right, right.left)\n",
    "\n"
   ]
  },
  {
   "cell_type": "code",
   "execution_count": 56,
   "metadata": {},
   "outputs": [
    {
     "name": "stdout",
     "output_type": "stream",
     "text": [
      "True\n",
      "False\n",
      "False\n"
     ]
    }
   ],
   "source": [
    "\"\"\"\n",
    "      Mermother\n",
    "       /    \\\n",
    "    Coral   Coral\n",
    "\"\"\"\n",
    "root1 = TreeNode(\"Mermother\", TreeNode(\"Coral\"), TreeNode(\"Coral\"))\n",
    "\n",
    "\"\"\"\n",
    "      Merpapa\n",
    "       /    \\\n",
    "   Calypso  Coral\n",
    "\"\"\"\n",
    "root2 = TreeNode(\"Merpapa\", TreeNode(\"Calypso\"), TreeNode(\"Coral\"))\n",
    "\n",
    "\"\"\"\n",
    "      Merenby\n",
    "           \\    \n",
    "         Calypso  \n",
    "\"\"\"\n",
    "root3 = TreeNode(\"Merenby\", None, TreeNode(\"Calypso\"))\n",
    "\n",
    "print(mertwins(root1)) # T\n",
    "print(mertwins(root2)) # F\n",
    "print(mertwins(root3)) # F"
   ]
  },
  {
   "cell_type": "markdown",
   "metadata": {},
   "source": [
    "## Problem 3: Poseidon's Decision\n",
    "Poseidon has received advice on an important matter from his council of advisors. Help him evaluate the advice from his council to make a final decision. You are given the advice as the root of a binary tree representing a boolean expression that has at most three nodes. The root may have exactly 0 or 2 children.\n",
    "\n",
    "Leaf nodes have a boolean value of either True or False.\n",
    "Non-leaf nodes have a string value of either AND or OR.\n",
    "The evaluation of a node is as follows:\n",
    "\n",
    "If the node is a leaf node, the evaluation is the value of the node, i.e. True or False.\n",
    "Otherwise evaluate the node's two children and apply the boolean operation of its value with the children's evaluations.\n",
    "Return the boolean result of evaluating the root node.\n",
    "\n",
    "Evaluate the time complexity of your function. Define your variables and provide a rationale for why you believe your solution has the stated time complexity."
   ]
  },
  {
   "cell_type": "code",
   "execution_count": 58,
   "metadata": {},
   "outputs": [],
   "source": [
    "class TreeNode:\n",
    "    def __init__(self, value, left=None, right=None):\n",
    "        self.val = value\n",
    "        self.left = left\n",
    "        self.right = right\n",
    "\n",
    "def get_decision(root):\n",
    "    if not root:\n",
    "        return False\n",
    "    \n",
    "    if isinstance(root.val, bool):\n",
    "        return root.val\n",
    "    \n",
    "    left_decision = get_decision(root.left)\n",
    "    right_decision = get_decision(root.right)\n",
    "    \n",
    "    if root.val == \"AND\":\n",
    "        return left_decision and right_decision\n",
    "    elif root.val == \"OR\":\n",
    "        return left_decision or right_decision\n",
    "    else:\n",
    "        return False"
   ]
  },
  {
   "cell_type": "code",
   "execution_count": 59,
   "metadata": {},
   "outputs": [
    {
     "name": "stdout",
     "output_type": "stream",
     "text": [
      "True\n",
      "False\n"
     ]
    }
   ],
   "source": [
    "\"\"\"\n",
    "        OR\n",
    "      /    \\\n",
    "    True  False\n",
    "\"\"\"\n",
    "expression1 = TreeNode(\"OR\", TreeNode(True), TreeNode(False))\n",
    "\n",
    "\"\"\"\n",
    "       False\n",
    "\"\"\"\n",
    "expression2 = TreeNode(False)\n",
    "\n",
    "print(get_decision(expression1)) # T\n",
    "print(get_decision(expression2)) # F"
   ]
  },
  {
   "cell_type": "markdown",
   "metadata": {},
   "source": [
    "## Problem 4: Escaping the Sea Caves\n",
    "You are given the root of a binary tree representing possible route through a system of sea caves. You recall that so long as you take the leftmost branch at every fork in the route, you'll find your way back home. Write a function leftmost_path() that returns an array with the value of each node in the leftmost path.\n",
    "\n",
    "Evaluate the time complexity of your function. Define your variables and provide a rationale for why you believe your solution has the stated time complexity. Assume the input tree is balanced when calculating time complexity."
   ]
  },
  {
   "cell_type": "code",
   "execution_count": 68,
   "metadata": {},
   "outputs": [],
   "source": [
    "class TreeNode:\n",
    "    def __init__(self, value, left=None, right=None):\n",
    "        self.val = value\n",
    "        self.left = left\n",
    "        self.right = right\n",
    "\n",
    "def leftmost_path(root):\n",
    "    if not root:\n",
    "        return []\n",
    "    \n",
    "    return [root.val] + leftmost_path(root.left)"
   ]
  },
  {
   "cell_type": "code",
   "execution_count": 69,
   "metadata": {},
   "outputs": [
    {
     "name": "stdout",
     "output_type": "stream",
     "text": [
      "['CaveA', 'CaveB', 'CaveD']\n",
      "['CaveA']\n"
     ]
    }
   ],
   "source": [
    "\"\"\"\n",
    "        CaveA\n",
    "       /      \\\n",
    "    CaveB    CaveC\n",
    "    /   \\        \\\n",
    "CaveD CaveE     CaveF  \n",
    "\"\"\"\n",
    "system_a = TreeNode(\"CaveA\", \n",
    "                  TreeNode(\"CaveB\", TreeNode(\"CaveD\"), TreeNode(\"CaveE\")), \n",
    "                          TreeNode(\"CaveC\", None, TreeNode(\"CaveF\")))\n",
    "\n",
    "\"\"\"\n",
    "  CaveA\n",
    "      \\\n",
    "      CaveB\n",
    "        \\\n",
    "        CaveC  \n",
    "\"\"\"\n",
    "system_b = TreeNode(\"CaveA\", None, TreeNode(\"CaveB\", None, TreeNode(\"CaveC\")))\n",
    "\n",
    "print(leftmost_path(system_a))\n",
    "print(leftmost_path(system_b))\n",
    "\n",
    "# ['CaveA', 'CaveB', 'CaveD']\n",
    "# ['CaveA']"
   ]
  },
  {
   "cell_type": "markdown",
   "metadata": {},
   "source": [
    "## Problem 5: Escaping the Sea Caves II\n",
    "If you implemented leftmost_path() iteratively in the previous problem, implement it recursively. If you implemented it recursively, implement it iteratively.\n",
    "\n",
    "Evaluate the time complexity of your function. Define your variables and provide a rationale for why you believe your solution has the stated time complexity. Assume the input tree is balanced when calculating time complexity."
   ]
  },
  {
   "cell_type": "code",
   "execution_count": 71,
   "metadata": {},
   "outputs": [],
   "source": [
    "class TreeNode:\n",
    "    def __init__(self, value, left=None, right=None):\n",
    "        self.val = value\n",
    "        self.left = left\n",
    "        self.right = right\n",
    "\n",
    "def leftmost_path(root):\n",
    "    if not root:\n",
    "        return []\n",
    "    \n",
    "    res = []\n",
    "    while root:\n",
    "        res.append(root.val)\n",
    "        root = root.left\n",
    "        \n",
    "    return res"
   ]
  },
  {
   "cell_type": "code",
   "execution_count": 72,
   "metadata": {},
   "outputs": [
    {
     "name": "stdout",
     "output_type": "stream",
     "text": [
      "['CaveA', 'CaveB', 'CaveD']\n",
      "['CaveA']\n"
     ]
    }
   ],
   "source": [
    "\"\"\"\n",
    "        CaveA\n",
    "       /      \\\n",
    "    CaveB    CaveC\n",
    "    /   \\        \\\n",
    "CaveD CaveE     CaveF  \n",
    "\"\"\"\n",
    "system_a = TreeNode(\"CaveA\", \n",
    "                  TreeNode(\"CaveB\", TreeNode(\"CaveD\"), TreeNode(\"CaveE\")), \n",
    "                          TreeNode(\"CaveC\", None, TreeNode(\"CaveF\")))\n",
    "\n",
    "\"\"\"\n",
    "  CaveA\n",
    "      \\\n",
    "      CaveB\n",
    "        \\\n",
    "        CaveC  \n",
    "\"\"\"\n",
    "system_b = TreeNode(\"CaveA\", None, TreeNode(\"CaveB\", None, TreeNode(\"CaveC\")))\n",
    "\n",
    "print(leftmost_path(system_a))\n",
    "print(leftmost_path(system_b))"
   ]
  },
  {
   "cell_type": "markdown",
   "metadata": {},
   "source": [
    "## Problem 6: Documenting Reefs\n",
    "You are exploring a vast coral reef system. The reef is represented as a binary tree, where each node corresponds to a specific coral formation. You want to document the reef as you encounter it, starting from the root or main entrance of the reef.\n",
    "\n",
    "Write a function explore_reef() that performs a preorder traversal of the reef and returns a list of the names of the coral formations in the order you visited them. In a preorder exploration, you explore the current node first, then the left subtree, and finally the right subtree.\n",
    "\n",
    "Evaluate the time complexity of your function. Define your variables and provide a rationale for why you believe your solution has the stated time complexity. Assume the input tree is balanced when calculating time complexity."
   ]
  },
  {
   "cell_type": "code",
   "execution_count": 73,
   "metadata": {},
   "outputs": [],
   "source": [
    "class TreeNode:\n",
    "    def __init__(self, value, left=None, right=None):\n",
    "        self.val = value\n",
    "        self.left = left\n",
    "        self.right = right\n",
    "\n",
    "def explore_reef(root):\n",
    "    if not root:\n",
    "        return []\n",
    "    left = explore_reef(root.left)\n",
    "    right = explore_reef(root.right)\n",
    "    return [root.val] + left + right"
   ]
  },
  {
   "cell_type": "code",
   "execution_count": 74,
   "metadata": {},
   "outputs": [
    {
     "name": "stdout",
     "output_type": "stream",
     "text": [
      "['CoralA', 'CoralB', 'CoralD', 'CoralE', 'CoralC']\n"
     ]
    }
   ],
   "source": [
    "\"\"\"\n",
    "         CoralA\n",
    "        /     \\\n",
    "     CoralB  CoralC\n",
    "     /   \\      \n",
    " CoralD CoralE  \n",
    "\"\"\"\n",
    "\n",
    "reef = TreeNode(\"CoralA\", \n",
    "                TreeNode(\"CoralB\", TreeNode(\"CoralD\"), TreeNode(\"CoralE\")), \n",
    "                          TreeNode(\"CoralC\"))\n",
    "\n",
    "print(explore_reef(reef))"
   ]
  },
  {
   "cell_type": "markdown",
   "metadata": {},
   "source": [
    "## Problem 7: Coral Count\n",
    "Due to climate change, you have noticed that coral has been dying in the reef near Atlantis. You want to ensure there is still a healthy level of coral in the reef. Given the root of a binary tree where each node represents a coral in the reef, write a function count_coral() that returns the number of corals in the reef.\n",
    "\n",
    "Evaluate the time complexity of your function. Define your variables and provide a rationale for why you believe your solution has the stated time complexity. Assume the input tree is balanced when calculating time complexity."
   ]
  },
  {
   "cell_type": "code",
   "execution_count": 75,
   "metadata": {},
   "outputs": [],
   "source": [
    "class TreeNode:\n",
    "    def __init__(self, value, left=None, right=None):\n",
    "        self.val = value\n",
    "        self.left = left\n",
    "        self.right = right\n",
    "\n",
    "def count_coral(root):\n",
    "    if not root:\n",
    "        return 0\n",
    "    \n",
    "    left = count_coral(root.left)\n",
    "    right = count_coral(root.right)\n",
    "    return 1 + left + right"
   ]
  },
  {
   "cell_type": "code",
   "execution_count": 76,
   "metadata": {},
   "outputs": [
    {
     "name": "stdout",
     "output_type": "stream",
     "text": [
      "7\n",
      "5\n"
     ]
    }
   ],
   "source": [
    "\"\"\"\n",
    "          Staghorn\n",
    "         /        \\\n",
    "        /          \\\n",
    "    Sea Fan      Sea Whip\n",
    "    /     \\       /   \n",
    " Bubble  Table  Star\n",
    "  /\n",
    "Fire\n",
    "\"\"\"\n",
    "reef1 = TreeNode(\"Staghorn\", \n",
    "                TreeNode(\"Sea Fan\", TreeNode(\"Bubble\", TreeNode(\"Fire\")), TreeNode(\"Table\")),\n",
    "                        TreeNode(\"Sea Whip\", TreeNode(\"Star\")))\n",
    "\n",
    "\"\"\"\n",
    "     Fire\n",
    "    /    \\\n",
    "   /      \\ \n",
    "Black    Star\n",
    "        /  \n",
    "     Lettuce \n",
    "           \\\n",
    "        Sea Whip\n",
    "\"\"\"\n",
    "reef2 = TreeNode(\"Fire\", \n",
    "                TreeNode(\"Black\"), \n",
    "                        TreeNode(\"Star\", \n",
    "                                  TreeNode(\"Lettuce\", None, TreeNode(\"Sea Whip\"))))\n",
    "\n",
    "print(count_coral(reef1)) # 7\n",
    "print(count_coral(reef2)) # 5"
   ]
  },
  {
   "cell_type": "markdown",
   "metadata": {},
   "source": [
    "## Problem 8: Ocean Layers\n",
    "Given the root of a binary tree that represents different sections of the ocean, write a function count_ocean_layers() that returns the depth of the ocean. The depth or height of the tree can be defined as the number of nodes on the longest path from the root node to a leaf node.\n",
    "\n",
    "Evaluate the time complexity of your function. Define your variables and provide a rationale for why you believe your solution has the stated time complexity. Assume the input tree is balanced when calculating time complexity."
   ]
  },
  {
   "cell_type": "code",
   "execution_count": 77,
   "metadata": {},
   "outputs": [],
   "source": [
    "class TreeNode:\n",
    "    def __init__(self, value, left=None, right=None):\n",
    "        self.val = value\n",
    "        self.left = left\n",
    "        self.right = right\n",
    "\n",
    "def ocean_depth(root):\n",
    "    if not root:\n",
    "        return 0\n",
    "    \n",
    "    left = ocean_depth(root.left)\n",
    "    right = ocean_depth(root.right)\n",
    "    \n",
    "    if left + 1 > right + 1:\n",
    "        return left + 1\n",
    "    else:\n",
    "        return right + 1"
   ]
  },
  {
   "cell_type": "code",
   "execution_count": 78,
   "metadata": {},
   "outputs": [
    {
     "name": "stdout",
     "output_type": "stream",
     "text": [
      "4\n",
      "4\n"
     ]
    }
   ],
   "source": [
    "\"\"\"\n",
    "                Sunlight\n",
    "               /        \\\n",
    "              /          \\\n",
    "          Twilight      Squid\n",
    "         /       \\           \\   \n",
    "      Abyss  Anglerfish    Giant Squid\n",
    "      /\n",
    "  Trenches\n",
    "\"\"\"\n",
    "ocean = TreeNode(\"Sunlight\", \n",
    "                TreeNode(\"Twilight\", \n",
    "                        TreeNode(\"Abyss\", \n",
    "                                TreeNode(\"Trenches\")), TreeNode(\"Anglerfish\")),\n",
    "                                        TreeNode(\"Squid\", TreeNode(\"Giant Squid\")))\n",
    "\n",
    "\"\"\"\n",
    "    Spray Zone\n",
    "    /         \\\n",
    "   /           \\ \n",
    "Beach       High Tide\n",
    "            /  \n",
    "      Middle Tide\n",
    "              \\\n",
    "            Low Tide\n",
    "\"\"\"\n",
    "tidal_zones = TreeNode(\"Spray Zone\", \n",
    "                      TreeNode(\"Beach\"), \n",
    "                              TreeNode(\"High Tide\", \n",
    "                                      TreeNode(\"Middle Tide\", None, TreeNode(\"Low Tide\"))))\n",
    "\n",
    "print(ocean_depth(ocean)) # 4\n",
    "print(ocean_depth(tidal_zones)) # 4"
   ]
  },
  {
   "cell_type": "code",
   "execution_count": null,
   "metadata": {},
   "outputs": [],
   "source": []
  },
  {
   "cell_type": "markdown",
   "metadata": {},
   "source": [
    "# <h1 style='color: yellow;'>Session 2: Standard Problem Set Version 1</h1>"
   ]
  },
  {
   "cell_type": "markdown",
   "metadata": {},
   "source": [
    "## Problem 1: Monstera Madness\n",
    "Given the root of a binary tree where each node represents the number of splits in a leaf of a Monstera plant, return the number of Monstera leaves that have an odd number of splits.\n",
    "\n",
    "Evaluate the time complexity of your function. Define your variables and provide a rationale for why you believe your solution has the stated time complexity."
   ]
  },
  {
   "cell_type": "code",
   "execution_count": 88,
   "metadata": {},
   "outputs": [],
   "source": [
    "class TreeNode():\n",
    "     def __init__(self, value, left=None, right=None):\n",
    "         self.val = value\n",
    "         self.left = left\n",
    "         self.right = right\n",
    "         \n",
    "def count_odd_splits(root):\n",
    "    if not root:\n",
    "        return 0\n",
    "    left = count_odd_splits(root.left)\n",
    "    right = count_odd_splits(root.right)\n",
    "    \n",
    "    if root.val % 2 != 0:\n",
    "        return 1 + left + right\n",
    "    else:\n",
    "        return left + right\n",
    "    \n",
    "    \n",
    "    \n"
   ]
  },
  {
   "cell_type": "code",
   "execution_count": 89,
   "metadata": {},
   "outputs": [
    {
     "name": "stdout",
     "output_type": "stream",
     "text": [
      "3\n",
      "0\n"
     ]
    }
   ],
   "source": [
    "\"\"\"\n",
    "      2\n",
    "     / \\\n",
    "    /   \\\n",
    "   3     5\n",
    "  / \\     \\\n",
    " 6   7     12\n",
    "\"\"\"\n",
    "\n",
    "# Using build_tree() function included at top of page\n",
    "values = [2, 3, 5, 6, 7, None, 12]\n",
    "monstera = build_tree(values) # type: ignore\n",
    "\n",
    "print(count_odd_splits(monstera))\n",
    "print(count_odd_splits(None))"
   ]
  },
  {
   "cell_type": "markdown",
   "metadata": {},
   "source": [
    "## Problem 2: Flower Finding\n",
    "You are looking to buy a new flower plant for your garden. The nursery you visit stores its inventory in a binary search tree (BST) where each node represents a plant in the store. The plants are organized according to their names (vals) in alphabetical order in the BST.\n",
    "\n",
    "Given the root of the binary search tree inventory and a target flower name, write a function find_flower() that returns True if the flower is present in the garden and False otherwise.\n",
    "\n",
    "Evaluate the time complexity of your function. Define your variables and provide a rationale for why you believe your solution has the stated time complexity. Assume the input tree is balanced when calculating time complexity."
   ]
  },
  {
   "cell_type": "code",
   "execution_count": 101,
   "metadata": {},
   "outputs": [],
   "source": [
    "class TreeNode():\n",
    "     def __init__(self, value, left=None, right=None):\n",
    "         self.val = value\n",
    "         self.left = left\n",
    "         self.right = right\n",
    "\n",
    "\n",
    "\n",
    "def find_flower(inventory, name):\n",
    "    if not inventory:\n",
    "        return False\n",
    "    \n",
    "    if name == inventory.val:\n",
    "        return True\n",
    "    elif name < inventory.val:\n",
    "        return find_flower(inventory.left, name)\n",
    "    elif name > inventory.val:\n",
    "        return find_flower(inventory.right, name)\n",
    "\n",
    "    "
   ]
  },
  {
   "cell_type": "code",
   "execution_count": 102,
   "metadata": {},
   "outputs": [
    {
     "name": "stdout",
     "output_type": "stream",
     "text": [
      "True\n",
      "False\n"
     ]
    }
   ],
   "source": [
    "\"\"\"\n",
    "          Rose\n",
    "         /    \\\n",
    "      Lilac  Tulip\n",
    "      /  \\       \\\n",
    "   Daisy Lily   Violet\n",
    "\"\"\"\n",
    "\n",
    "# using build_tree() function at top of page\n",
    "values = [\"Rose\", \"Lilac\", \"Tulip\", \"Daisy\", \"Lily\", None, \"Violet\"]\n",
    "garden = build_tree(values)\n",
    "\n",
    "print(find_flower(garden, \"Lilac\"))  \n",
    "print(find_flower(garden, \"Sunflower\")) "
   ]
  },
  {
   "cell_type": "markdown",
   "metadata": {},
   "source": [
    "## Problem 3: Flower Finding II\n",
    "Consider the following function non_bst_find_flower() which accepts the root of a binary tree inventory and a flower name, and returns True if a flower (node) with name exists in the binary tree. Unlike the previous problem, this tree is not a binary search tree.\n",
    "\n",
    "Compare your solution to find_flower() in Problem 2 to the following solution. Discuss with your group: How is the code different? Why?\n",
    "What is the time complexity of non_bst_find_flower()? How does it compare to the time complexity of find_flower() in Problem 2?\n",
    "How would the time complexity of find_flower() from Problem 2 change if the tree inventory was not balanced?"
   ]
  },
  {
   "cell_type": "code",
   "execution_count": null,
   "metadata": {},
   "outputs": [],
   "source": [
    "class TreeNode:\n",
    "    def __init__(self, value, left=None, right=None):\n",
    "        self.val = value\n",
    "        self.left = left\n",
    "        self.right = right\n",
    "\n",
    "def non_bst_find_flower(root, name):\n",
    "    if root is None:\n",
    "        return False\n",
    "    \n",
    "    if root.val == name:\n",
    "        return True\n",
    "\n",
    "    return non_bst_find_flower(root.left, name) or non_bst_find_flower(root.right, name)"
   ]
  },
  {
   "cell_type": "markdown",
   "metadata": {},
   "source": [
    "1. Compare your solution to find_flower() in Problem 2 to the following solution. Discuss with your group: How is the code different? Why?\n",
    "    - The code in problem 2 is more effecient than problem 3 because we check if the the name of the flower we are looking for is less than the root.val. So, we do not traverse the bst an unnecessary amount of time. \n",
    "2. What is the time complexity of non_bst_find_flower()? How does it compare to the time complexity of find_flower() in Problem 2?\n",
    "    - The time complexity of the non_bst function is O(log n) because if we look at the example it is a balance tree. Both of the solutions are O(log n)\n",
    "3. How would the time complexity of find_flower() from Problem 2 change if the tree inventory was not balanced?\n",
    "    - The complexity of the problem would change from O(log n ) to O(n) where n represents the height of the BST."
   ]
  },
  {
   "cell_type": "markdown",
   "metadata": {},
   "source": [
    "## Problem 4: Adding a New Plant to the Collection\n",
    "You have just purchased a new houseplant and are excited to add it to your collection! Your collection is meticulously organized using a Binary Search Tree (BST) where each node in the tree represents a houseplant in your collection, and houseplants are organized alphabetically by name (val).\n",
    "\n",
    "Given the root of your BST collection and a new houseplant name, insert a new node with value name into your collection. Return the root of your updated collection. If another plant with name already exists in the tree, add the new node in the existing node's right subtree.\n",
    "\n",
    "Evaluate the time complexity of your function. Define your variables and provide a rationale for why you believe your solution has the stated time complexity. Assume the input tree is balanced when calculating time complexity."
   ]
  },
  {
   "cell_type": "code",
   "execution_count": 105,
   "metadata": {},
   "outputs": [],
   "source": [
    "class TreeNode:\n",
    "    def __init__(self, value, left=None, right=None):\n",
    "        self.val = value\n",
    "        self.left = left\n",
    "        self.right = right\n",
    "\n",
    "    \n",
    "def add_plant(collection, name):\n",
    "    if not collection:\n",
    "        return TreeNode(name)\n",
    "    \n",
    "    if name < collection.val:\n",
    "        collection.left = add_plant(collection.left, name)\n",
    "    else:\n",
    "        collection.right = add_plant(collection.right, name)\n",
    "    return collection"
   ]
  },
  {
   "cell_type": "code",
   "execution_count": 106,
   "metadata": {},
   "outputs": [
    {
     "name": "stdout",
     "output_type": "stream",
     "text": [
      "['Money Tree', 'Fiddle Leaf Fig', 'Snake Plant', 'Aloe']\n"
     ]
    }
   ],
   "source": [
    "\"\"\"\n",
    "            Money Tree\n",
    "        /              \\\n",
    "Fiddle Leaf Fig    Snake Plant\n",
    "\"\"\"\n",
    "\n",
    "# Using build_tree() function at the top of page\n",
    "values = [\"Money Tree\", \"Fiddle Leaf Fig\", \"Snake Plant\"]\n",
    "collection = build_tree(values)\n",
    "\n",
    "# Using print_tree() function at the top of page\n",
    "print_tree(add_plant(collection, \"Aloe\"))"
   ]
  },
  {
   "cell_type": "markdown",
   "metadata": {},
   "source": [
    "## Problem 5: Sorting Plants by Rarity\n",
    "You are going to a plant swap where you can exchange cuttings of your plants for new plants from other plant enthusiasts. You want to bring a mix of cuttings from both common and rare plants in your collection. You track your plant collection in a BST where each node has a key and a val. The val contains the plant name, and the key is an integer representing the plant's rarity. Plants are organized in the BST by their key.\n",
    "\n",
    "To help choose which plants to bring, write a function sort_plants() which takes in the BST root collection and returns an array of plant nodes as tuples in the form (key, val) sorted from least to most rare. Sorted order can be achieved by performing an inorder traversal of the BST."
   ]
  },
  {
   "cell_type": "code",
   "execution_count": null,
   "metadata": {},
   "outputs": [],
   "source": [
    "class TreeNode:\n",
    "    def __init__(self, key, value, left=None, right=None):\n",
    "        self.key = key      # Plant price\n",
    "        self.val = value      # Plant name\n",
    "        self.left = left\n",
    "        self.right = right\n",
    "\n",
    "\n",
    "def sort_plants(collection):\n",
    "    res = []\n",
    "    \n",
    "    def inorder(node):\n",
    "        if node:\n",
    "            inorder(node.left)\n",
    "            res.append((node.key, node.val))\n",
    "            inorder(node.right)\n",
    "        \n",
    "    inorder(collection)\n",
    "    return res\n",
    "                  "
   ]
  },
  {
   "cell_type": "code",
   "execution_count": 114,
   "metadata": {},
   "outputs": [
    {
     "name": "stdout",
     "output_type": "stream",
     "text": [
      "[('Pothos', 1), ('Spider Plant', 2), ('Monstera', 3), ('Hoya Motoskei', 4), ('Witchcraft Orchid', 5)]\n"
     ]
    }
   ],
   "source": [
    "\"\"\"\n",
    "         (3, \"Monstera\")\n",
    "        /               \\\n",
    "   (1, \"Pothos\")     (5, \"Witchcraft Orchid\")\n",
    "        \\                 /\n",
    "  (2, \"Spider Plant\")   (4, \"Hoya Motoskei\")\n",
    "\"\"\"\n",
    "\n",
    "# Using build_tree() function at the top of page\n",
    "values = [(3, \"Monstera\"), (1, \"Pothos\"), (5, \"Witchcraft Orchid\"), None, (2, \"Spider Plant\"), (4, \"Hoya Motoskei\")]\n",
    "collection = build_tree(values)\n",
    "\n",
    "print(sort_plants(collection))\n",
    "# [(1, 'Pothos'), (2, 'Spider Plant'), (3, 'Monstera'), (4, 'Hoya Motoskei'), (5, 'Witchcraft Orchid')]"
   ]
  },
  {
   "cell_type": "markdown",
   "metadata": {},
   "source": [
    "## Problem 6: Finding a New Plant Within Budget\n",
    "You are looking for a new plant and have a max budget. The plant store that you are shopping at stores their inventory in a BST where each node has a key representing the price of the plant and value cntains the plant's name. Plants are ordered by their prices. You want to find a plant that is close to but lower than your budget.\n",
    "\n",
    "Given the root of the BST inventory and an integer budget, write a function pick_plant() that returns the plant with the highest price below budget. If no plant with a price strictly below budget exists, the function should return None."
   ]
  },
  {
   "cell_type": "code",
   "execution_count": 119,
   "metadata": {},
   "outputs": [],
   "source": [
    "class TreeNode:\n",
    "    def __init__(self, key, val, left=None, right=None):\n",
    "        self.key = key      # Plant price\n",
    "        self.val = val      # Plant name\n",
    "        self.left = left\n",
    "        self.right = right\n",
    "\n",
    "def pick_plant(root, budget):\n",
    "    \"\"\"\n",
    "    Find the plant with highest price not exceeding budget.\n",
    "    \n",
    "    Args:\n",
    "        root: TreeNode - Root of binary search tree\n",
    "        budget: float - Maximum price allowed\n",
    "    \n",
    "    Returns:\n",
    "        str or None - Plant name if found, None if no valid plant\n",
    "    \"\"\"\n",
    "    if not root:\n",
    "        return None\n",
    "        \n",
    "    closest = None\n",
    "    curr = root\n",
    "    \n",
    "    while curr:\n",
    "        if curr.val <= budget:  # Changed from key to val\n",
    "            closest = curr\n",
    "            curr = curr.right   # Using right instead of rightChild\n",
    "        else:\n",
    "            curr = curr.left    # Using left instead of leftChild\n",
    "    \n",
    "    return closest.val if closest else None"
   ]
  },
  {
   "cell_type": "code",
   "execution_count": 120,
   "metadata": {},
   "outputs": [
    {
     "name": "stdout",
     "output_type": "stream",
     "text": [
      "50\n",
      "25\n",
      "15\n"
     ]
    }
   ],
   "source": [
    "\"\"\"\n",
    "               (50, \"Fiddle Leaf Fig\")\n",
    "             /                       \\\n",
    "    (25, \"Monstera\")           (70, \"Snake Plant\")\n",
    "       /        \\                   /         \\\n",
    "(15, \"Aloe\")  (40, \"Pothos\")  (60, \"Fern\")  (80, \"ZZ Plant\")\n",
    "\"\"\"\n",
    "\n",
    "# Using build_tree() function at the top of page\n",
    "values = [(50, \"Fiddle Leaf Fig\"), (25, \"Monstera\"), (70, \"Snake Plant\"), (15, \"Aloe\"), \n",
    "            (40, \"Pothos\"), (60, \"Fern\"), (80, \"ZZ Plant\")]\n",
    "inventory = build_tree(values)\n",
    "\n",
    "print(pick_plant(inventory, 50)) \n",
    "print(pick_plant(inventory, 25)) \n",
    "print(pick_plant(inventory, 15)) \n",
    "# Pothos\n",
    "# Aloe\n",
    "# None"
   ]
  },
  {
   "cell_type": "markdown",
   "metadata": {},
   "source": [
    "## Problem 7: Remove Plant\n",
    "A plant in your houseplant collection has become infested with aphids, and unfortunately you need to throw it out. Given the root of a BST collection where each node represents a plant in your collection, and a plant name, remove the plant node with value name from the collection. Return the root of the modified collection. Plants are organized alphabetically in the tree by value.\n",
    "\n",
    "If the node with name has two children in the tree, replace it with its inorder predecessor (rightmost node in its left subtree). You do not need to maintain a balanced tree.\n",
    "\n",
    "Pseudocode has been provided for you.\n",
    "\n",
    "Evaluate the time complexity of your function. Define your variables and provide a rationale for why you believe your solution has the stated time complexity. Assume the input tree is balanced when calculating time complexity."
   ]
  },
  {
   "cell_type": "code",
   "execution_count": 121,
   "metadata": {
    "vscode": {
     "languageId": "ruby"
    }
   },
   "outputs": [],
   "source": [
    "class TreeNode:\n",
    "    def __init__(self, value, left=None, right=None):\n",
    "        self.val = value\n",
    "        self.left = left\n",
    "        self.right = right\n",
    "\n",
    "def remove_plant(collection, name):\n",
    "    if collection is None:\n",
    "        return collection\n",
    "    \n",
    "    # Step 1: Find the node to be removed\n",
    "    if name < collection.val:\n",
    "        collection.left = remove_plant(collection.left, name)\n",
    "    elif name > collection.val:\n",
    "        collection.right = remove_plant(collection.right, name)\n",
    "    else:\n",
    "        # Node with the same name found\n",
    "        # Step 2: Node has no children (leaf node)\n",
    "        if collection.left is None and collection.right is None:\n",
    "            return None\n",
    "        \n",
    "        # Step 3: Node has one child\n",
    "        if collection.left is None:\n",
    "            return collection.right\n",
    "        elif collection.right is None:\n",
    "            return collection.left\n",
    "        \n",
    "        # Step 4: Node has two children\n",
    "        # Find the inorder predecessor (rightmost node in the left subtree)\n",
    "        predecessor = max_value_node(collection.left)\n",
    "        # Replace the node's value with the predecessor's value\n",
    "        collection.val = predecessor.val\n",
    "        # Remove the inorder predecessor\n",
    "        collection.left = remove_plant(collection.left, predecessor.val)\n",
    "    \n",
    "    return collection\n",
    "\n",
    "def max_value_node(node):\n",
    "    current = node\n",
    "    while current.right:\n",
    "        current = current.right\n",
    "    return current"
   ]
  },
  {
   "cell_type": "code",
   "execution_count": 122,
   "metadata": {
    "vscode": {
     "languageId": "ruby"
    }
   },
   "outputs": [
    {
     "name": "stdout",
     "output_type": "stream",
     "text": [
      "['Money Tree', 'Hoya', 'Orchid', None, 'Ivy', None, 'ZZ Plant']\n"
     ]
    }
   ],
   "source": [
    "\"\"\"\n",
    "              Money Tree\n",
    "             /         \\\n",
    "           Hoya        Pilea\n",
    "              \\        /   \\\n",
    "             Ivy    Orchid  ZZ Plant\n",
    "\"\"\"\n",
    "\n",
    "# Using build_tree() function at the top of page\n",
    "values = [\"Money Tree\", \"Hoya\", \"Pilea\", None, \"Ivy\", \"Orchid\", \"ZZ Plant\"]\n",
    "collection = build_tree(values)\n",
    "\n",
    "# Using print_tree() function at the top of page\n",
    "print_tree(remove_plant(collection, \"Pilea\"))"
   ]
  },
  {
   "cell_type": "code",
   "execution_count": null,
   "metadata": {
    "vscode": {
     "languageId": "ruby"
    }
   },
   "outputs": [],
   "source": [
    "# ['Money Tree', 'Hoya', 'Orchid', None, 'Ivy', None, 'ZZ Plant']\n",
    "\n",
    "# Explanation:\n",
    "# The resulting tree structure:\n",
    "#              Money Tree\n",
    "#             /         \\\n",
    "#           Hoya       Orchid\n",
    "#               \\          \\\n",
    "#               Ivy      ZZ Plant"
   ]
  }
 ],
 "metadata": {
  "kernelspec": {
   "display_name": "tf2",
   "language": "python",
   "name": "python3"
  },
  "language_info": {
   "codemirror_mode": {
    "name": "ipython",
    "version": 3
   },
   "file_extension": ".py",
   "mimetype": "text/x-python",
   "name": "python",
   "nbconvert_exporter": "python",
   "pygments_lexer": "ipython3",
   "version": "3.10.14"
  }
 },
 "nbformat": 4,
 "nbformat_minor": 2
}
