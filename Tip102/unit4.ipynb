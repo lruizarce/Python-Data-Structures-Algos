{
 "cells": [
  {
   "cell_type": "markdown",
   "metadata": {},
   "source": [
    "# <h1 style=\"color: green;\">Session 1: Standard Problem Set Version 1</h1>"
   ]
  },
  {
   "cell_type": "markdown",
   "metadata": {},
   "source": [
    "## Problem 1: NFT Name Extractor\n",
    "You're curating a large collection of NFTs for a digital art gallery, and your first task is to extract the names of these NFTs from a given list of dictionaries. Each dictionary in the list represents an NFT, and contains information such as the name, creator, and current value.\n",
    "\n",
    "Write the `extract_nft_names()` function, which takes in this list and returns a list of all NFT names.\n",
    "\n",
    "Evaluate the time and space complexity of your solution. Define your variables and provide a rationale for why you believe your solution has the stated time and space complexity."
   ]
  },
  {
   "cell_type": "code",
   "execution_count": 1,
   "metadata": {},
   "outputs": [
    {
     "name": "stdout",
     "output_type": "stream",
     "text": [
      "['Abstract Horizon', 'Pixel Dreams', 'Future City']\n",
      "['Crypto Kitty', 'Galactic Voyage']\n",
      "['Golden Hour']\n"
     ]
    }
   ],
   "source": [
    "def extract_nft_names(nft_collection):\n",
    "    nft_names = []\n",
    "    for nft in nft_collection:\n",
    "        nft_names.append(nft[\"name\"])\n",
    "    return nft_names\n",
    "\n",
    "\n",
    "# Example usage:\n",
    "nft_collection = [\n",
    "    {\"name\": \"Abstract Horizon\", \"creator\": \"ArtByAlex\", \"value\": 5.4},\n",
    "    {\"name\": \"Pixel Dreams\", \"creator\": \"DreamyPixel\", \"value\": 7.2},\n",
    "    {\"name\": \"Future City\", \"creator\": \"UrbanArt\", \"value\": 3.8},\n",
    "]\n",
    "\n",
    "nft_collection_2 = [\n",
    "    {\"name\": \"Crypto Kitty\", \"creator\": \"CryptoPets\", \"value\": 10.5},\n",
    "    {\"name\": \"Galactic Voyage\", \"creator\": \"SpaceArt\", \"value\": 6.7},\n",
    "]\n",
    "\n",
    "nft_collection_3 = [{\"name\": \"Golden Hour\", \"creator\": \"SunsetArtist\", \"value\": 8.9}]\n",
    "\n",
    "print(extract_nft_names(nft_collection))\n",
    "print(extract_nft_names(nft_collection_2))\n",
    "print(extract_nft_names(nft_collection_3))"
   ]
  },
  {
   "cell_type": "markdown",
   "metadata": {},
   "source": [
    "### Time & Space Complexity\n",
    "\n",
    "The time and space complexity relative to the input size is linear because we are traversing the dictionary once and creating a linear size list."
   ]
  },
  {
   "cell_type": "markdown",
   "metadata": {},
   "source": [
    "## Problem 2: NFT Collection Review\n",
    "You're responsible for ensuring the quality of the NFT collection before it is displayed in the virtual gallery. One of your tasks is to review and debug the code that extracts the names of NFTs from the collection. A junior developer wrote the initial version of this function, but it contains some bugs that prevent it from working correctly.\n",
    "\n",
    "Task:\n",
    "\n",
    "1. Review the provided code and identify the bug(s).\n",
    "\n",
    "2. Explain what the bug is and how it affects the output.\n",
    "\n",
    "3. Refactor the code to fix the bug(s) and provide the correct implementation."
   ]
  },
  {
   "cell_type": "code",
   "execution_count": 6,
   "metadata": {},
   "outputs": [],
   "source": [
    "def extract_nft_names(nft_collection):\n",
    "    nft_names = []\n",
    "    for nft in nft_collection:\n",
    "        nft_names.append(nft['name'])\n",
    "    return nft_names"
   ]
  },
  {
   "cell_type": "code",
   "execution_count": 7,
   "metadata": {},
   "outputs": [
    {
     "name": "stdout",
     "output_type": "stream",
     "text": [
      "['Abstract Horizon', 'Pixel Dreams']\n",
      "['Golden Hour']\n",
      "[]\n"
     ]
    }
   ],
   "source": [
    "nft_collection = [\n",
    "    {\"name\": \"Abstract Horizon\", \"creator\": \"ArtByAlex\", \"value\": 5.4},\n",
    "    {\"name\": \"Pixel Dreams\", \"creator\": \"DreamyPixel\", \"value\": 7.2},\n",
    "]\n",
    "\n",
    "nft_collection_2 = [{\"name\": \"Golden Hour\", \"creator\": \"SunsetArtist\", \"value\": 8.9}]\n",
    "\n",
    "nft_collection_3 = []\n",
    "\n",
    "print(extract_nft_names(nft_collection))\n",
    "print(extract_nft_names(nft_collection_2))\n",
    "print(extract_nft_names(nft_collection_3))"
   ]
  },
  {
   "cell_type": "markdown",
   "metadata": {},
   "source": [
    "### Solution\n",
    "The `+=` operator is typically used for concatenating list and not for adding a string to a list. Our code concatenates each character in the `name` key to the list. Which is not the correct approach, to add the names of the nfts we need to use the append method. "
   ]
  },
  {
   "cell_type": "markdown",
   "metadata": {},
   "source": [
    "## Problem 3: Identify Popular Creators\n",
    "You have been tasked with identifying the most popular NFT creators in your collection. A creator is considered \"popular\" if they have created more than one NFT in the collection.\n",
    "\n",
    "Write the identify_popular_creators() function, which takes a list of NFTs and returns a list of the names of popular creators.\n",
    "\n",
    "Evaluate the time and space complexity of your solution. Define your variables and provide a rationale for why you believe your solution has the stated time and space complexity."
   ]
  },
  {
   "cell_type": "code",
   "execution_count": 44,
   "metadata": {},
   "outputs": [],
   "source": [
    "def average_nft_value(nft_collection):\n",
    "    res = {}\n",
    "    for i in nft_collection:\n",
    "        if i['creator'] not in res:\n",
    "            res[i['creator']] = 1 \n",
    "        else:\n",
    "            res[i['creator']] +=1\n",
    "\n",
    "    creator = []\n",
    "    for c, val in res.items():\n",
    "        if val > 1:\n",
    "            creator.append(c)\n",
    "    return creator\n",
    "    \n",
    "    "
   ]
  },
  {
   "cell_type": "code",
   "execution_count": 45,
   "metadata": {},
   "outputs": [
    {
     "name": "stdout",
     "output_type": "stream",
     "text": [
      "['ArtByAlex']\n",
      "['SunsetArtist']\n",
      "[]\n"
     ]
    }
   ],
   "source": [
    "nft_collection = [\n",
    "    {\"name\": \"Abstract Horizon\", \"creator\": \"ArtByAlex\", \"value\": 5.4},\n",
    "    {\"name\": \"Pixel Dreams\", \"creator\": \"DreamyPixel\", \"value\": 7.2},\n",
    "    {\"name\": \"Urban Jungle\", \"creator\": \"ArtByAlex\", \"value\": 4.5},\n",
    "]\n",
    "print(average_nft_value(nft_collection))\n",
    "\n",
    "nft_collection_2 = [\n",
    "    {\"name\": \"Golden Hour\", \"creator\": \"SunsetArtist\", \"value\": 8.9},\n",
    "    {\"name\": \"Sunset Serenade\", \"creator\": \"SunsetArtist\", \"value\": 9.4},\n",
    "]\n",
    "print(average_nft_value(nft_collection_2))\n",
    "\n",
    "nft_collection_3 = []\n",
    "print(average_nft_value(nft_collection_3))"
   ]
  },
  {
   "cell_type": "markdown",
   "metadata": {},
   "source": [
    "## Problem 4: NFT Collection Statistics\n",
    "You want to provide an overview of the NFT collection to potential buyers. One key statistic is the average value of the NFTs in the collection. However, if the collection is empty, the average value should be reported as 0.\n",
    "\n",
    "Write the average_nft_value function, which calculates and returns the average value of the NFTs in the collection.\n",
    "\n",
    "Evaluate the time and space complexity of your solution. Define your variables and provide a rationale for why you believe your solution has the stated time and space complexity."
   ]
  },
  {
   "cell_type": "code",
   "execution_count": 52,
   "metadata": {},
   "outputs": [],
   "source": [
    "def average_nft_value(nft_collection):\n",
    "    if len(nft_collection) == 0:\n",
    "        return 0\n",
    "    total = 0\n",
    "    for i in nft_collection:\n",
    "        total += i.get('value', 0)\n",
    "    "
   ]
  },
  {
   "cell_type": "code",
   "execution_count": 53,
   "metadata": {},
   "outputs": [
    {
     "name": "stdout",
     "output_type": "stream",
     "text": [
      "None\n",
      "None\n",
      "0\n"
     ]
    }
   ],
   "source": [
    "nft_collection = [\n",
    "    {\"name\": \"Abstract Horizon\", \"creator\": \"ArtByAlex\", \"value\": 5.4},\n",
    "    {\"name\": \"Pixel Dreams\", \"creator\": \"DreamyPixel\", \"value\": 7.2},\n",
    "    {\"name\": \"Urban Jungle\", \"creator\": \"ArtByAlex\", \"value\": 4.5},\n",
    "]\n",
    "print(average_nft_value(nft_collection))\n",
    "\n",
    "nft_collection_2 = [\n",
    "    {\"name\": \"Golden Hour\", \"creator\": \"SunsetArtist\", \"value\": 8.9},\n",
    "    {\"name\": \"Sunset Serenade\", \"creator\": \"SunsetArtist\", \"value\": 9.4},\n",
    "]\n",
    "print(average_nft_value(nft_collection_2))\n",
    "\n",
    "nft_collection_3 = []\n",
    "print(average_nft_value(nft_collection_3))"
   ]
  },
  {
   "cell_type": "markdown",
   "metadata": {},
   "source": [
    "### Time & Space Complexity\n",
    "The time complexity is O(n) because we are traversing the dictionary. The space complexity is O(1) because compared to the input size our total variable will be constant."
   ]
  },
  {
   "cell_type": "markdown",
   "metadata": {},
   "source": [
    "## Problem 5: NFT Tag Search\n",
    "Some NFTs are grouped into collections, and each collection might contain multiple NFTs. Additionally, each NFT can have a list of tags describing its style or theme (e.g., \"abstract\", \"landscape\", \"modern\"). You need to search through these nested collections to find all NFTs that contain a specific tag.\n",
    "\n",
    "Write the search_nft_by_tag() function, which takes in a nested list of NFT collections and a tag to search for. The function should return a list of NFT names that have the specified tag.\n",
    "\n",
    "Evaluate the time and space complexity of your solution. Define your variables and provide a rationale for why you believe your solution has the stated time and space complexity."
   ]
  },
  {
   "cell_type": "code",
   "execution_count": 100,
   "metadata": {},
   "outputs": [],
   "source": [
    "def search_nft_by_tag(nft_collections, tag):\n",
    "    res = []\n",
    "    for i in nft_collections:\n",
    "        for j in i:\n",
    "            if tag in j['tags']:\n",
    "                res.append(j['name'])\n",
    "    return res"
   ]
  },
  {
   "cell_type": "code",
   "execution_count": 103,
   "metadata": {},
   "outputs": [
    {
     "name": "stdout",
     "output_type": "stream",
     "text": [
      "['Urban Jungle', 'City Lights']\n",
      "['Golden Hour', 'Sunset Serenade']\n",
      "[]\n"
     ]
    }
   ],
   "source": [
    "nft_collections = [\n",
    "    [\n",
    "        {\"name\": \"Abstract Horizon\", \"tags\": [\"abstract\", \"modern\"]},\n",
    "        {\"name\": \"Pixel Dreams\", \"tags\": [\"pixel\", \"retro\"]},\n",
    "    ],\n",
    "    [\n",
    "        {\"name\": \"Urban Jungle\", \"tags\": [\"urban\", \"landscape\"]},\n",
    "        {\"name\": \"City Lights\", \"tags\": [\"modern\", \"landscape\"]},\n",
    "    ],\n",
    "]\n",
    "\n",
    "nft_collections_2 = [\n",
    "    [\n",
    "        {\"name\": \"Golden Hour\", \"tags\": [\"sunset\", \"landscape\"]},\n",
    "        {\"name\": \"Sunset Serenade\", \"tags\": [\"sunset\", \"serene\"]},\n",
    "    ],\n",
    "    [{\"name\": \"Pixel Odyssey\", \"tags\": [\"pixel\", \"adventure\"]}],\n",
    "]\n",
    "\n",
    "\n",
    "nft_collections_3 = [\n",
    "    [{\"name\": \"The Last Piece\", \"tags\": [\"finale\", \"abstract\"]}],\n",
    "    [\n",
    "        {\"name\": \"Ocean Waves\", \"tags\": [\"seascape\", \"calm\"]},\n",
    "        {\"name\": \"Mountain Peak\", \"tags\": [\"landscape\", \"adventure\"]},\n",
    "    ],\n",
    "]\n",
    "\n",
    "print(search_nft_by_tag(nft_collections, \"landscape\"))\n",
    "print(search_nft_by_tag(nft_collections_2, \"sunset\"))\n",
    "print(search_nft_by_tag(nft_collections_3, \"modern\"))"
   ]
  },
  {
   "cell_type": "code",
   "execution_count": null,
   "metadata": {},
   "outputs": [],
   "source": [
    "[\"Urban Jungle\", \"City Lights\"]\n",
    "[\"Golden Hour\", \"Sunset Serenade\"]\n",
    "[]"
   ]
  },
  {
   "cell_type": "markdown",
   "metadata": {},
   "source": [
    "## Problem 6: NFT Queue Processing\n",
    "NFTs are added to a processing queue before they are displayed. The queue processes NFTs in a First-In, First-Out (FIFO) manner. Each NFT has a processing time, and you need to determine the order in which NFTs should be processed based on their initial position in the queue.\n",
    "\n",
    "Write the process_nft_queue() function, which takes a list of NFTs. The function should return a list of NFT names in the order they were processed.\n",
    "\n",
    "Evaluate the time and space complexity of your solution. Define your variables and provide a rationale for why you believe your solution has the stated time and space complexity."
   ]
  },
  {
   "cell_type": "code",
   "execution_count": 112,
   "metadata": {},
   "outputs": [],
   "source": [
    "from collections import deque\n",
    "def process_nft_queue(nft_queue):\n",
    "    nft_queue = deque(nft_queue)\n",
    "    res = []\n",
    "    while nft_queue:\n",
    "        nft = nft_queue.popleft()\n",
    "        res.append(nft['name'])\n",
    "    return res"
   ]
  },
  {
   "cell_type": "code",
   "execution_count": 113,
   "metadata": {},
   "outputs": [
    {
     "name": "stdout",
     "output_type": "stream",
     "text": [
      "['Abstract Horizon', 'Pixel Dreams', 'Urban Jungle']\n",
      "['Golden Hour', 'Sunset Serenade', 'Ocean Waves']\n",
      "['Crypto Kitty', 'Galactic Voyage']\n"
     ]
    }
   ],
   "source": [
    "nft_queue = [\n",
    "    {\"name\": \"Abstract Horizon\", \"processing_time\": 2},\n",
    "    {\"name\": \"Pixel Dreams\", \"processing_time\": 3},\n",
    "    {\"name\": \"Urban Jungle\", \"processing_time\": 1},\n",
    "]\n",
    "print(process_nft_queue(nft_queue))\n",
    "\n",
    "nft_queue_2 = [\n",
    "    {\"name\": \"Golden Hour\", \"processing_time\": 4},\n",
    "    {\"name\": \"Sunset Serenade\", \"processing_time\": 2},\n",
    "    {\"name\": \"Ocean Waves\", \"processing_time\": 3},\n",
    "]\n",
    "print(process_nft_queue(nft_queue_2))\n",
    "\n",
    "nft_queue_3 = [\n",
    "    {\"name\": \"Crypto Kitty\", \"processing_time\": 5},\n",
    "    {\"name\": \"Galactic Voyage\", \"processing_time\": 6},\n",
    "]\n",
    "print(process_nft_queue(nft_queue_3))\n",
    "\n",
    "# [\"Abstract Horizon\", \"Pixel Dreams\", \"Urban Jungle\"]\n",
    "# [\"Golden Hour\", \"Sunset Serenade\", \"Ocean Waves\"]\n",
    "# [\"Crypto Kitty\", \"Galactic Voyage\"]"
   ]
  },
  {
   "cell_type": "markdown",
   "metadata": {},
   "source": [
    "## Problem 7: Validate NFT Addition\n",
    "You want to ensure that NFTs are added in a balanced way. For example, every `\"add\"` action must be properly closed by a corresponding `\"remove\"` action.\n",
    "\n",
    "Write the `validate_nft_actions()` function, which takes a list of actions (either `\"add\"` or `\"remove\"`) and returns `True` if the actions are balanced, and `False` otherwise.\n",
    "\n",
    "A sequence of actions is considered balanced if every `\"add\"` has a corresponding `\"remove\"` and no `\"remove\"` occurs before an `\"add\"`.\n",
    "\n",
    "Evaluate the time and space complexity of your solution. Define your variables and provide a rationale for why you believe your solution has the stated time and space complexity."
   ]
  },
  {
   "cell_type": "code",
   "execution_count": 21,
   "metadata": {},
   "outputs": [],
   "source": [
    "def validate_nft_actions(actions):\n",
    "    stack = []\n",
    "    for i in actions:\n",
    "        if i == 'add':\n",
    "            stack.append(i)\n",
    "        elif i == 'remove':\n",
    "            if not stack or stack.pop() != 'add':\n",
    "                return False\n",
    "    return stack == []"
   ]
  },
  {
   "cell_type": "code",
   "execution_count": 22,
   "metadata": {},
   "outputs": [
    {
     "name": "stdout",
     "output_type": "stream",
     "text": [
      "True\n",
      "True\n",
      "False\n"
     ]
    }
   ],
   "source": [
    "actions = [\"add\", \"add\", \"remove\", \"remove\"]\n",
    "actions_2 = [\"add\", \"remove\", \"add\", \"remove\"]\n",
    "actions_3 = [\"add\", \"remove\", \"remove\", \"add\"]\n",
    "\n",
    "print(validate_nft_actions(actions)) # True\n",
    "print(validate_nft_actions(actions_2)) # True\n",
    "\n",
    "print(validate_nft_actions(actions_3)) # False\n"
   ]
  },
  {
   "cell_type": "markdown",
   "metadata": {},
   "source": [
    "## Problem 8: Find Closest NFT Values\n",
    "Buyers often look for NFTs that are closest in value to their budget. Given a sorted list of NFT values and a budget, you need to find the two NFT values that are closest to the given budget: one that is just below or equal to the budget and one that is just above or equal to the budget. If an exact match exists, it should be included as one of the values.\n",
    "\n",
    "Write the find_closest_nft_values() function, which takes a sorted list of NFT values and a budget, and returns the pair of the two closest NFT values.\n",
    "\n",
    "Evaluate the time and space complexity of your solution. Define your variables and provide a rationale for why you believe your solution has the stated time and space complexity."
   ]
  },
  {
   "cell_type": "code",
   "execution_count": 45,
   "metadata": {},
   "outputs": [],
   "source": [
    "def find_closest_nft_values(nft_values, budget):\n",
    "    below = None\n",
    "    above = None\n",
    "    for value in nft_values:\n",
    "        if value <= budget:\n",
    "            below = value\n",
    "        if value >= budget and above is None:\n",
    "            above = value\n",
    "            break\n",
    "    return (below, above)\n"
   ]
  },
  {
   "cell_type": "code",
   "execution_count": 46,
   "metadata": {},
   "outputs": [
    {
     "name": "stdout",
     "output_type": "stream",
     "text": [
      "(7.2, 9.0)\n",
      "(6.3, 7.8)\n",
      "(2.5, 4.0)\n"
     ]
    }
   ],
   "source": [
    "nft_values = [3.5, 5.4, 7.2, 9.0, 10.5]\n",
    "nft_values_2 = [2.0, 4.5, 6.3, 7.8, 12.1]\n",
    "nft_values_3 = [1.0, 2.5, 4.0, 6.0, 9.0]\n",
    "\n",
    "print(find_closest_nft_values(nft_values, 8.0))  # (7.2, 9.0)\n",
    "print(find_closest_nft_values(nft_values_2, 6.5))  # (6.3, 7.8)\n",
    "print(find_closest_nft_values(nft_values_3, 3.0))  # (2.5, 4.0)"
   ]
  },
  {
   "cell_type": "markdown",
   "metadata": {},
   "source": [
    "# <h1 style=\"color: blue;\">Session 1: Standard Problem Set Version 2</h1>"
   ]
  },
  {
   "cell_type": "markdown",
   "metadata": {},
   "source": [
    "## Problem 1: Meme Length Filter\n",
    "You need to filter out memes that are too long from your dataset. Memes that exceed a certain length are less likely to go viral.\n",
    "\n",
    "Write the `filter_meme_lengths()` function, which filters out memes whose lengths exceed a given limit. The function should return a list of meme texts that are within the acceptable length.\n",
    "\n",
    "Evaluate the time and space complexity of your solution. Define your variables and provide a rationale for why you believe your solution has the stated time and space complexity."
   ]
  },
  {
   "cell_type": "code",
   "execution_count": 49,
   "metadata": {},
   "outputs": [],
   "source": [
    "def filter_meme_lengths(memes, max_length):\n",
    "    res = []\n",
    "    for i in memes:\n",
    "        if len(i) <= max_length:\n",
    "            res.append(i)\n",
    "    return res"
   ]
  },
  {
   "cell_type": "code",
   "execution_count": 50,
   "metadata": {},
   "outputs": [
    {
     "name": "stdout",
     "output_type": "stream",
     "text": [
      "['This is hilarious!', 'Short and sweet']\n",
      "['Just right', 'Perfect length']\n",
      "['Short', 'Tiny meme']\n"
     ]
    }
   ],
   "source": [
    "memes = [\n",
    "    \"This is hilarious!\",\n",
    "    \"A very long meme that goes on and on and on...\",\n",
    "    \"Short and sweet\",\n",
    "    \"Too long! Way too long!\",\n",
    "]\n",
    "memes_2 = [\n",
    "    \"Just right\",\n",
    "    \"This one's too long though, sadly\",\n",
    "    \"Perfect length\",\n",
    "    \"A bit too wordy for a meme\",\n",
    "]\n",
    "memes_3 = [\n",
    "    \"Short\",\n",
    "    \"Tiny meme\",\n",
    "    \"Small but impactful\",\n",
    "    \"Extremely lengthy meme that no one will read\",\n",
    "]\n",
    "\n",
    "print(filter_meme_lengths(memes, 20))\n",
    "print(filter_meme_lengths(memes_2, 15))\n",
    "print(filter_meme_lengths(memes_3, 10))\n",
    "\n",
    "# [\"This is hilarious!\", \"Short and sweet\"]\n",
    "# [\"Just right\", \"Perfect length\"]\n",
    "# [\"Short\", \"Tiny meme\"]"
   ]
  },
  {
   "cell_type": "markdown",
   "metadata": {},
   "source": [
    "## Problem 2: Top Meme Creators\n",
    "You want to identify the top meme creators based on the number of memes they have created.\n",
    "\n",
    "Write the count_meme_creators() function, which takes a list of meme dictionaries and returns the creators' names and the number of memes they have created.\n",
    "\n",
    "Evaluate the time and space complexity of your solution. Define your variables and provide a rationale for why you believe your solution has the stated time and space complexity."
   ]
  },
  {
   "cell_type": "code",
   "execution_count": 56,
   "metadata": {},
   "outputs": [],
   "source": [
    "def count_meme_creators(memes):\n",
    "    count = {}\n",
    "    for meme in memes:\n",
    "        if meme['creator'] in count:\n",
    "            count[meme['creator']] +=1\n",
    "        else:\n",
    "            count[meme['creator']] = 1\n",
    "    return count"
   ]
  },
  {
   "cell_type": "code",
   "execution_count": 57,
   "metadata": {},
   "outputs": [
    {
     "name": "stdout",
     "output_type": "stream",
     "text": [
      "{'Alex': 2, 'Jordan': 2, 'Chris': 1}\n",
      "{'Sam': 3, 'Taylor': 1}\n",
      "{'Blake': 2}\n"
     ]
    }
   ],
   "source": [
    "memes = [\n",
    "    {\"creator\": \"Alex\", \"text\": \"Meme 1\"},\n",
    "    {\"creator\": \"Jordan\", \"text\": \"Meme 2\"},\n",
    "    {\"creator\": \"Alex\", \"text\": \"Meme 3\"},\n",
    "    {\"creator\": \"Chris\", \"text\": \"Meme 4\"},\n",
    "    {\"creator\": \"Jordan\", \"text\": \"Meme 5\"},\n",
    "]\n",
    "\n",
    "memes_2 = [\n",
    "    {\"creator\": \"Sam\", \"text\": \"Meme 1\"},\n",
    "    {\"creator\": \"Sam\", \"text\": \"Meme 2\"},\n",
    "    {\"creator\": \"Sam\", \"text\": \"Meme 3\"},\n",
    "    {\"creator\": \"Taylor\", \"text\": \"Meme 4\"},\n",
    "]\n",
    "\n",
    "memes_3 = [\n",
    "    {\"creator\": \"Blake\", \"text\": \"Meme 1\"},\n",
    "    {\"creator\": \"Blake\", \"text\": \"Meme 2\"},\n",
    "]\n",
    "\n",
    "print(count_meme_creators(memes))\n",
    "print(count_meme_creators(memes_2))\n",
    "print(count_meme_creators(memes_3))\n",
    "\n",
    "# {\"Alex\": 2, \"Jordan\": 2, \"Chris\": 1}\n",
    "# {\"Sam\": 3, \"Taylor\": 1}\n",
    "# {\"Blake\": 2}"
   ]
  },
  {
   "cell_type": "markdown",
   "metadata": {},
   "source": [
    "## Problem 3: Meme Trend Identification\n",
    "You're tasked with identifying trending memes. A meme is considered \"trending\" if it appears in the dataset multiple times.\n",
    "\n",
    "Write the `find_trending_memes()` function, which takes a list of meme texts and returns a list of trending memes, where a trending meme is defined as a meme that appears more than once in the list.\n",
    "\n",
    "Evaluate the time and space complexity of your solution. Define your variables and provide a rationale for why you believe your solution has the stated time and space complexity."
   ]
  },
  {
   "cell_type": "code",
   "execution_count": 58,
   "metadata": {},
   "outputs": [],
   "source": [
    "from collections import Counter\n",
    "def find_trending_memes(memes):\n",
    "    res = Counter(memes)\n",
    "    popular = []\n",
    "    for key, val in res.items():\n",
    "        if val > 1:\n",
    "            popular.append(key)\n",
    "    return popular"
   ]
  },
  {
   "cell_type": "code",
   "execution_count": 59,
   "metadata": {},
   "outputs": [
    {
     "name": "stdout",
     "output_type": "stream",
     "text": [
      "['Dogecoin to the moon!', 'One does not simply walk into Mordor']\n",
      "['Surprised Pikachu']\n",
      "[]\n"
     ]
    }
   ],
   "source": [
    "memes = [\n",
    "    \"Dogecoin to the moon!\",\n",
    "    \"One does not simply walk into Mordor\",\n",
    "    \"Dogecoin to the moon!\",\n",
    "    \"Distracted boyfriend\",\n",
    "    \"One does not simply walk into Mordor\",\n",
    "]\n",
    "memes_2 = [\n",
    "    \"Surprised Pikachu\",\n",
    "    \"Expanding brain\",\n",
    "    \"This is fine\",\n",
    "    \"Surprised Pikachu\",\n",
    "    \"Surprised Pikachu\",\n",
    "]\n",
    "memes_3 = [\"Y U No?\", \"First world problems\", \"Philosoraptor\", \"Bad Luck Brian\"]\n",
    "\n",
    "print(find_trending_memes(memes))\n",
    "print(find_trending_memes(memes_2))\n",
    "print(find_trending_memes(memes_3))"
   ]
  },
  {
   "cell_type": "markdown",
   "metadata": {},
   "source": [
    "# <h1 style=\"color: pink;\">Session 1: Advance Problem Set Version 1</h1>"
   ]
  },
  {
   "cell_type": "markdown",
   "metadata": {},
   "source": [
    "## Problem 1: Brand Filter\n",
    "You're tasked with filtering out brands that are not sustainable from a list of fashion brands. A sustainable brand is defined as one that meets a specific criterion, such as using eco-friendly materials, ethical labor practices, or being carbon-neutral.\n",
    "\n",
    "Write the filter_sustainable_brands() function, which takes a list of brands and a criterion, then returns a list of brands that meet the criterion.\n",
    "\n",
    "Evaluate the time and space complexity of your solution. Define your variables and provide a rationale for why you believe your solution has the stated time and space complexity."
   ]
  },
  {
   "cell_type": "markdown",
   "metadata": {},
   "source": [
    "# <h1 style=\"color: Orange;\">Session 1: Advance Problem Set Version 2</h1>"
   ]
  },
  {
   "cell_type": "code",
   "execution_count": 68,
   "metadata": {},
   "outputs": [],
   "source": [
    "def filter_sustainable_brands(brands, criterion):\n",
    "    res = []\n",
    "    for brand in brands:\n",
    "        if criterion in brand[\"criteria\"]:\n",
    "            res.append(brand[\"name\"])\n",
    "    return res"
   ]
  },
  {
   "cell_type": "code",
   "execution_count": 69,
   "metadata": {},
   "outputs": [
    {
     "name": "stdout",
     "output_type": "stream",
     "text": [
      "['EcoWear', 'GreenThreads']\n",
      "[]\n",
      "['GreenLife']\n"
     ]
    }
   ],
   "source": [
    "brands = [\n",
    "    {\"name\": \"EcoWear\", \"criteria\": [\"eco-friendly\", \"ethical labor\"]},\n",
    "    {\"name\": \"FastFashion\", \"criteria\": [\"cheap materials\", \"fast production\"]},\n",
    "    {\"name\": \"GreenThreads\", \"criteria\": [\"eco-friendly\", \"carbon-neutral\"]},\n",
    "    {\"name\": \"TrendyStyle\", \"criteria\": [\"trendy designs\"]},\n",
    "]\n",
    "\n",
    "brands_2 = [\n",
    "    {\"name\": \"Earthly\", \"criteria\": [\"ethical labor\", \"fair wages\"]},\n",
    "    {\"name\": \"FastStyle\", \"criteria\": [\"mass production\"]},\n",
    "    {\"name\": \"NatureWear\", \"criteria\": [\"eco-friendly\"]},\n",
    "    {\"name\": \"GreenFit\", \"criteria\": [\"recycled materials\", \"eco-friendly\"]},\n",
    "]\n",
    "\n",
    "brands_3 = [\n",
    "    {\"name\": \"OrganicThreads\", \"criteria\": [\"organic cotton\", \"fair trade\"]},\n",
    "    {\"name\": \"GreenLife\", \"criteria\": [\"recycled materials\", \"carbon-neutral\"]},\n",
    "    {\"name\": \"FastCloth\", \"criteria\": [\"cheap production\"]},\n",
    "]\n",
    "\n",
    "print(filter_sustainable_brands(brands, \"eco-friendly\"))\n",
    "print(filter_sustainable_brands(brands_3, \"ethical labor\"))\n",
    "print(filter_sustainable_brands(brands_3, \"carbon-neutral\"))\n",
    "# [\"EcoWear\", \"GreenThreads\"]\n",
    "# [\"Earthly\"]\n",
    "# [\"GreenLife\"]"
   ]
  },
  {
   "cell_type": "markdown",
   "metadata": {},
   "source": [
    "## Problem 2: Eco-Friendly Materials\n",
    "Certain materials are recognized as eco-friendly due to their low environmental impact. You need to track which materials are used by various brands and count how many times each material appears across all brands. This will help identify the most commonly used eco-friendly materials.\n",
    "\n",
    "Write the `count_material_usage()` function, which takes a list of brands (each with a list of materials) and returns the material names and the number of times each material appears across all brands.\n",
    "\n",
    "Evaluate the time and space complexity of your solution. Define your variables and provide a rationale for why you believe your solution has the stated time and space complexity."
   ]
  },
  {
   "cell_type": "code",
   "execution_count": 112,
   "metadata": {},
   "outputs": [],
   "source": [
    "from collections import Counter\n",
    "\n",
    "def count_material_usage(brands):\n",
    "    material_counter = Counter()\n",
    "    for brand in brands:\n",
    "        material_counter.update(brand['materials'])\n",
    "    return dict(material_counter)\n"
   ]
  },
  {
   "cell_type": "code",
   "execution_count": 113,
   "metadata": {},
   "outputs": [
    {
     "name": "stdout",
     "output_type": "stream",
     "text": [
      "{'organic cotton': 2, 'recycled polyester': 2, 'bamboo': 2}\n",
      "{'hemp': 2, 'linen': 2, 'organic cotton': 1, 'recycled wool': 1}\n",
      "{'organic cotton': 1, 'recycled polyester': 2, 'hemp': 1, 'bamboo': 1}\n"
     ]
    }
   ],
   "source": [
    "brands = [\n",
    "    {\"name\": \"EcoWear\", \"materials\": [\"organic cotton\", \"recycled polyester\"]},\n",
    "    {\"name\": \"GreenThreads\", \"materials\": [\"organic cotton\", \"bamboo\"]},\n",
    "    {\"name\": \"SustainableStyle\", \"materials\": [\"bamboo\", \"recycled polyester\"]},\n",
    "]\n",
    "\n",
    "brands_2 = [\n",
    "    {\"name\": \"NatureWear\", \"materials\": [\"hemp\", \"linen\"]},\n",
    "    {\"name\": \"Earthly\", \"materials\": [\"organic cotton\", \"hemp\"]},\n",
    "    {\"name\": \"GreenFit\", \"materials\": [\"linen\", \"recycled wool\"]},\n",
    "]\n",
    "\n",
    "brands_3 = [\n",
    "    {\"name\": \"OrganicThreads\", \"materials\": [\"organic cotton\"]},\n",
    "    {\"name\": \"EcoFashion\", \"materials\": [\"recycled polyester\", \"hemp\"]},\n",
    "    {\"name\": \"GreenLife\", \"materials\": [\"recycled polyester\", \"bamboo\"]},\n",
    "]\n",
    "\n",
    "print(count_material_usage(brands))\n",
    "print(count_material_usage(brands_2))\n",
    "print(count_material_usage(brands_3))\n",
    "# {\"organic cotton\": 2, \"recycled polyester\": 2, \"bamboo\": 2}\n",
    "# {\"hemp\": 2, \"linen\": 2, \"organic cotton\": 1, \"recycled wool\": 1}\n",
    "# {\"organic cotton\": 1, \"recycled polyester\": 2, \"hemp\": 1, \"bamboo\": 1}"
   ]
  },
  {
   "cell_type": "markdown",
   "metadata": {},
   "source": [
    "## Problem 3: Fashion Trends\n",
    "In the fast-changing world of fashion, certain materials and practices become trending based on how frequently they are adopted by brands. You want to identify which materials and practices are trending. A material or practice is considered \"trending\" if it appears in the dataset more than once.\n",
    "\n",
    "Write the find_trending_materials() function, which takes a list of brands (each with a list of materials or practices) and returns a list of materials or practices that are trending (i.e., those that appear more than once across all brands).\n",
    "\n",
    "Evaluate the time and space complexity of your solution. Define your variables and provide a rationale for why you believe your solution has the stated time and space complexity."
   ]
  },
  {
   "cell_type": "code",
   "execution_count": 120,
   "metadata": {},
   "outputs": [],
   "source": [
    "def find_trending_materials(brands):\n",
    "    materials = Counter()\n",
    "    for brand in brands:\n",
    "        materials.update(brand['materials'])\n",
    "    \n",
    "    res = []\n",
    "    for mat, val in materials.items():\n",
    "        if val > 1:\n",
    "            res.append(mat)\n",
    "    return res"
   ]
  },
  {
   "cell_type": "code",
   "execution_count": 121,
   "metadata": {},
   "outputs": [
    {
     "name": "stdout",
     "output_type": "stream",
     "text": [
      "['organic cotton', 'recycled polyester', 'bamboo']\n",
      "['hemp', 'linen']\n",
      "['recycled polyester']\n"
     ]
    }
   ],
   "source": [
    "brands = [\n",
    "    {\"name\": \"EcoWear\", \"materials\": [\"organic cotton\", \"recycled polyester\"]},\n",
    "    {\"name\": \"GreenThreads\", \"materials\": [\"organic cotton\", \"bamboo\"]},\n",
    "    {\"name\": \"SustainableStyle\", \"materials\": [\"bamboo\", \"recycled polyester\"]},\n",
    "]\n",
    "\n",
    "brands_2 = [\n",
    "    {\"name\": \"NatureWear\", \"materials\": [\"hemp\", \"linen\"]},\n",
    "    {\"name\": \"Earthly\", \"materials\": [\"organic cotton\", \"hemp\"]},\n",
    "    {\"name\": \"GreenFit\", \"materials\": [\"linen\", \"recycled wool\"]},\n",
    "]\n",
    "\n",
    "brands_3 = [\n",
    "    {\"name\": \"OrganicThreads\", \"materials\": [\"organic cotton\"]},\n",
    "    {\"name\": \"EcoFashion\", \"materials\": [\"recycled polyester\", \"hemp\"]},\n",
    "    {\"name\": \"GreenLife\", \"materials\": [\"recycled polyester\", \"bamboo\"]},\n",
    "]\n",
    "\n",
    "print(find_trending_materials(brands))\n",
    "\n",
    "print(find_trending_materials(brands_2))\n",
    "print(find_trending_materials(brands_3))\n",
    "# [\"organic cotton\", \"recycled polyester\", \"bamboo\"]\n",
    "# [\"hemp\", \"linen\"]\n",
    "# [\"recycled polyester\"]"
   ]
  },
  {
   "cell_type": "markdown",
   "metadata": {},
   "source": [
    "## Problem 4: Fabric Pairing\n",
    "You want to find pairs of fabrics that, when combined, maximize eco-friendliness while staying within a budget. Each fabric has a cost associated with it, and your goal is to identify the pair of fabrics whose combined cost is the highest possible without exceeding the budget.\n",
    "\n",
    "Write the find_best_fabric_pair() function, which takes a list of fabrics (each with a name and cost) and a budget. The function should return the names of the two fabrics whose combined cost is the closest to the budget without exceeding it.\n",
    "\n",
    "Evaluate the time and space complexity of your solution. Define your variables and provide a rationale for why you believe your solution has the stated time and space complexity."
   ]
  },
  {
   "cell_type": "code",
   "execution_count": 135,
   "metadata": {},
   "outputs": [],
   "source": [
    "def find_best_fabric_pair(fabrics, budget):\n",
    "    fabrics.sort(key=lambda x: x[1])  # Sort fabrics by cost\n",
    "    left = 0\n",
    "    right = len(fabrics) - 1\n",
    "    best_pair = ()\n",
    "    closest_sum = 0\n",
    "\n",
    "    while left < right:\n",
    "        cost_sum = fabrics[left][1] + fabrics[right][1]\n",
    "\n",
    "        if cost_sum > closest_sum and cost_sum <= budget:\n",
    "            closest_sum = cost_sum\n",
    "            best_pair = (fabrics[left][0], fabrics[right][0])\n",
    "\n",
    "        if cost_sum > budget:\n",
    "            right -= 1\n",
    "        else:\n",
    "            left += 1\n",
    "\n",
    "    return best_pair"
   ]
  },
  {
   "cell_type": "code",
   "execution_count": 136,
   "metadata": {},
   "outputs": [
    {
     "name": "stdout",
     "output_type": "stream",
     "text": [
      "('Hemp', 'Organic Cotton')\n"
     ]
    }
   ],
   "source": [
    "fabrics = [\n",
    "    (\"Organic Cotton\", 30),\n",
    "    (\"Recycled Polyester\", 20),\n",
    "    (\"Bamboo\", 25),\n",
    "    (\"Hemp\", 15),\n",
    "]\n",
    "fabrics_2 = [\n",
    "    (\"Linen\", 50),\n",
    "    (\"Recycled Wool\", 40),\n",
    "    (\"Tencel\", 30),\n",
    "    (\"Organic Cotton\", 60),\n",
    "]\n",
    "fabrics_3 = [(\"Linen\", 40), (\"Hemp\", 35), (\"Recycled Polyester\", 25), (\"Bamboo\", 20)]\n",
    "\n",
    "print(find_best_fabric_pair(fabrics, 45))\n",
    "#print(find_best_fabric_pair(fabrics_2, 70))\n",
    "#print(find_best_fabric_pair(fabrics_3, 60))\n",
    "# (\"Hemp\", \"Organic Cotton\")\n",
    "# (\"Tencel\", \"Recycled Wool\")\n",
    "# (\"Bamboo\", \"Linen\")"
   ]
  },
  {
   "cell_type": "code",
   "execution_count": null,
   "metadata": {},
   "outputs": [],
   "source": []
  }
 ],
 "metadata": {
  "kernelspec": {
   "display_name": "tf2",
   "language": "python",
   "name": "python3"
  },
  "language_info": {
   "codemirror_mode": {
    "name": "ipython",
    "version": 3
   },
   "file_extension": ".py",
   "mimetype": "text/x-python",
   "name": "python",
   "nbconvert_exporter": "python",
   "pygments_lexer": "ipython3",
   "version": "3.10.14"
  }
 },
 "nbformat": 4,
 "nbformat_minor": 2
}
