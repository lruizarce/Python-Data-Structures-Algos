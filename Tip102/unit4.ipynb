{
 "cells": [
  {
   "cell_type": "markdown",
   "metadata": {},
   "source": [
    "# <h1 style=\"color: green;\">Session 1: Standard Problem Set Version 1</h1>"
   ]
  },
  {
   "cell_type": "markdown",
   "metadata": {},
   "source": [
    "## Problem 1: NFT Name Extractor\n",
    "You're curating a large collection of NFTs for a digital art gallery, and your first task is to extract the names of these NFTs from a given list of dictionaries. Each dictionary in the list represents an NFT, and contains information such as the name, creator, and current value.\n",
    "\n",
    "Write the `extract_nft_names()` function, which takes in this list and returns a list of all NFT names.\n",
    "\n",
    "Evaluate the time and space complexity of your solution. Define your variables and provide a rationale for why you believe your solution has the stated time and space complexity."
   ]
  },
  {
   "cell_type": "code",
   "execution_count": 1,
   "metadata": {},
   "outputs": [
    {
     "name": "stdout",
     "output_type": "stream",
     "text": [
      "['Abstract Horizon', 'Pixel Dreams', 'Future City']\n",
      "['Crypto Kitty', 'Galactic Voyage']\n",
      "['Golden Hour']\n"
     ]
    }
   ],
   "source": [
    "def extract_nft_names(nft_collection):\n",
    "    nft_names = []\n",
    "    for nft in nft_collection:\n",
    "        nft_names.append(nft[\"name\"])\n",
    "    return nft_names\n",
    "\n",
    "\n",
    "# Example usage:\n",
    "nft_collection = [\n",
    "    {\"name\": \"Abstract Horizon\", \"creator\": \"ArtByAlex\", \"value\": 5.4},\n",
    "    {\"name\": \"Pixel Dreams\", \"creator\": \"DreamyPixel\", \"value\": 7.2},\n",
    "    {\"name\": \"Future City\", \"creator\": \"UrbanArt\", \"value\": 3.8},\n",
    "]\n",
    "\n",
    "nft_collection_2 = [\n",
    "    {\"name\": \"Crypto Kitty\", \"creator\": \"CryptoPets\", \"value\": 10.5},\n",
    "    {\"name\": \"Galactic Voyage\", \"creator\": \"SpaceArt\", \"value\": 6.7},\n",
    "]\n",
    "\n",
    "nft_collection_3 = [{\"name\": \"Golden Hour\", \"creator\": \"SunsetArtist\", \"value\": 8.9}]\n",
    "\n",
    "print(extract_nft_names(nft_collection))\n",
    "print(extract_nft_names(nft_collection_2))\n",
    "print(extract_nft_names(nft_collection_3))"
   ]
  },
  {
   "cell_type": "markdown",
   "metadata": {},
   "source": [
    "### Time & Space Complexity\n",
    "\n",
    "The time and space complexity relative to the input size is linear because we are traversing the dictionary once and creating a linear size list."
   ]
  },
  {
   "cell_type": "markdown",
   "metadata": {},
   "source": [
    "## Problem 2: NFT Collection Review\n",
    "You're responsible for ensuring the quality of the NFT collection before it is displayed in the virtual gallery. One of your tasks is to review and debug the code that extracts the names of NFTs from the collection. A junior developer wrote the initial version of this function, but it contains some bugs that prevent it from working correctly.\n",
    "\n",
    "Task:\n",
    "\n",
    "1. Review the provided code and identify the bug(s).\n",
    "\n",
    "2. Explain what the bug is and how it affects the output.\n",
    "\n",
    "3. Refactor the code to fix the bug(s) and provide the correct implementation."
   ]
  },
  {
   "cell_type": "code",
   "execution_count": 6,
   "metadata": {},
   "outputs": [],
   "source": [
    "def extract_nft_names(nft_collection):\n",
    "    nft_names = []\n",
    "    for nft in nft_collection:\n",
    "        nft_names.append(nft['name'])\n",
    "    return nft_names"
   ]
  },
  {
   "cell_type": "code",
   "execution_count": 7,
   "metadata": {},
   "outputs": [
    {
     "name": "stdout",
     "output_type": "stream",
     "text": [
      "['Abstract Horizon', 'Pixel Dreams']\n",
      "['Golden Hour']\n",
      "[]\n"
     ]
    }
   ],
   "source": [
    "nft_collection = [\n",
    "    {\"name\": \"Abstract Horizon\", \"creator\": \"ArtByAlex\", \"value\": 5.4},\n",
    "    {\"name\": \"Pixel Dreams\", \"creator\": \"DreamyPixel\", \"value\": 7.2},\n",
    "]\n",
    "\n",
    "nft_collection_2 = [{\"name\": \"Golden Hour\", \"creator\": \"SunsetArtist\", \"value\": 8.9}]\n",
    "\n",
    "nft_collection_3 = []\n",
    "\n",
    "print(extract_nft_names(nft_collection))\n",
    "print(extract_nft_names(nft_collection_2))\n",
    "print(extract_nft_names(nft_collection_3))"
   ]
  },
  {
   "cell_type": "markdown",
   "metadata": {},
   "source": [
    "### Solution\n",
    "The `+=` operator is typically used for concatenating list and not for adding a string to a list. Our code concatenates each character in the `name` key to the list. Which is not the correct approach, to add the names of the nfts we need to use the append method. "
   ]
  },
  {
   "cell_type": "markdown",
   "metadata": {},
   "source": [
    "## Problem 3: Identify Popular Creators\n",
    "You have been tasked with identifying the most popular NFT creators in your collection. A creator is considered \"popular\" if they have created more than one NFT in the collection.\n",
    "\n",
    "Write the identify_popular_creators() function, which takes a list of NFTs and returns a list of the names of popular creators.\n",
    "\n",
    "Evaluate the time and space complexity of your solution. Define your variables and provide a rationale for why you believe your solution has the stated time and space complexity."
   ]
  },
  {
   "cell_type": "code",
   "execution_count": 44,
   "metadata": {},
   "outputs": [],
   "source": [
    "def average_nft_value(nft_collection):\n",
    "    res = {}\n",
    "    for i in nft_collection:\n",
    "        if i['creator'] not in res:\n",
    "            res[i['creator']] = 1 \n",
    "        else:\n",
    "            res[i['creator']] +=1\n",
    "\n",
    "    creator = []\n",
    "    for c, val in res.items():\n",
    "        if val > 1:\n",
    "            creator.append(c)\n",
    "    return creator\n",
    "    \n",
    "    "
   ]
  },
  {
   "cell_type": "code",
   "execution_count": 45,
   "metadata": {},
   "outputs": [
    {
     "name": "stdout",
     "output_type": "stream",
     "text": [
      "['ArtByAlex']\n",
      "['SunsetArtist']\n",
      "[]\n"
     ]
    }
   ],
   "source": [
    "nft_collection = [\n",
    "    {\"name\": \"Abstract Horizon\", \"creator\": \"ArtByAlex\", \"value\": 5.4},\n",
    "    {\"name\": \"Pixel Dreams\", \"creator\": \"DreamyPixel\", \"value\": 7.2},\n",
    "    {\"name\": \"Urban Jungle\", \"creator\": \"ArtByAlex\", \"value\": 4.5},\n",
    "]\n",
    "print(average_nft_value(nft_collection))\n",
    "\n",
    "nft_collection_2 = [\n",
    "    {\"name\": \"Golden Hour\", \"creator\": \"SunsetArtist\", \"value\": 8.9},\n",
    "    {\"name\": \"Sunset Serenade\", \"creator\": \"SunsetArtist\", \"value\": 9.4},\n",
    "]\n",
    "print(average_nft_value(nft_collection_2))\n",
    "\n",
    "nft_collection_3 = []\n",
    "print(average_nft_value(nft_collection_3))"
   ]
  },
  {
   "cell_type": "markdown",
   "metadata": {},
   "source": [
    "## Problem 4: NFT Collection Statistics\n",
    "You want to provide an overview of the NFT collection to potential buyers. One key statistic is the average value of the NFTs in the collection. However, if the collection is empty, the average value should be reported as 0.\n",
    "\n",
    "Write the average_nft_value function, which calculates and returns the average value of the NFTs in the collection.\n",
    "\n",
    "Evaluate the time and space complexity of your solution. Define your variables and provide a rationale for why you believe your solution has the stated time and space complexity."
   ]
  },
  {
   "cell_type": "code",
   "execution_count": 52,
   "metadata": {},
   "outputs": [],
   "source": [
    "def average_nft_value(nft_collection):\n",
    "    if len(nft_collection) == 0:\n",
    "        return 0\n",
    "    total = 0\n",
    "    for i in nft_collection:\n",
    "        total += i.get('value', 0)\n",
    "    "
   ]
  },
  {
   "cell_type": "code",
   "execution_count": 53,
   "metadata": {},
   "outputs": [
    {
     "name": "stdout",
     "output_type": "stream",
     "text": [
      "None\n",
      "None\n",
      "0\n"
     ]
    }
   ],
   "source": [
    "nft_collection = [\n",
    "    {\"name\": \"Abstract Horizon\", \"creator\": \"ArtByAlex\", \"value\": 5.4},\n",
    "    {\"name\": \"Pixel Dreams\", \"creator\": \"DreamyPixel\", \"value\": 7.2},\n",
    "    {\"name\": \"Urban Jungle\", \"creator\": \"ArtByAlex\", \"value\": 4.5},\n",
    "]\n",
    "print(average_nft_value(nft_collection))\n",
    "\n",
    "nft_collection_2 = [\n",
    "    {\"name\": \"Golden Hour\", \"creator\": \"SunsetArtist\", \"value\": 8.9},\n",
    "    {\"name\": \"Sunset Serenade\", \"creator\": \"SunsetArtist\", \"value\": 9.4},\n",
    "]\n",
    "print(average_nft_value(nft_collection_2))\n",
    "\n",
    "nft_collection_3 = []\n",
    "print(average_nft_value(nft_collection_3))"
   ]
  },
  {
   "cell_type": "markdown",
   "metadata": {},
   "source": [
    "### Time & Space Complexity\n",
    "The time complexity is O(n) because we are traversing the dictionary. The space complexity is O(1) because compared to the input size our total variable will be constant."
   ]
  },
  {
   "cell_type": "markdown",
   "metadata": {},
   "source": [
    "## Problem 5: NFT Tag Search\n",
    "Some NFTs are grouped into collections, and each collection might contain multiple NFTs. Additionally, each NFT can have a list of tags describing its style or theme (e.g., \"abstract\", \"landscape\", \"modern\"). You need to search through these nested collections to find all NFTs that contain a specific tag.\n",
    "\n",
    "Write the search_nft_by_tag() function, which takes in a nested list of NFT collections and a tag to search for. The function should return a list of NFT names that have the specified tag.\n",
    "\n",
    "Evaluate the time and space complexity of your solution. Define your variables and provide a rationale for why you believe your solution has the stated time and space complexity."
   ]
  },
  {
   "cell_type": "code",
   "execution_count": 100,
   "metadata": {},
   "outputs": [],
   "source": [
    "def search_nft_by_tag(nft_collections, tag):\n",
    "    res = []\n",
    "    for i in nft_collections:\n",
    "        for j in i:\n",
    "            if tag in j['tags']:\n",
    "                res.append(j['name'])\n",
    "    return res"
   ]
  },
  {
   "cell_type": "code",
   "execution_count": 103,
   "metadata": {},
   "outputs": [
    {
     "name": "stdout",
     "output_type": "stream",
     "text": [
      "['Urban Jungle', 'City Lights']\n",
      "['Golden Hour', 'Sunset Serenade']\n",
      "[]\n"
     ]
    }
   ],
   "source": [
    "nft_collections = [\n",
    "    [\n",
    "        {\"name\": \"Abstract Horizon\", \"tags\": [\"abstract\", \"modern\"]},\n",
    "        {\"name\": \"Pixel Dreams\", \"tags\": [\"pixel\", \"retro\"]},\n",
    "    ],\n",
    "    [\n",
    "        {\"name\": \"Urban Jungle\", \"tags\": [\"urban\", \"landscape\"]},\n",
    "        {\"name\": \"City Lights\", \"tags\": [\"modern\", \"landscape\"]},\n",
    "    ],\n",
    "]\n",
    "\n",
    "nft_collections_2 = [\n",
    "    [\n",
    "        {\"name\": \"Golden Hour\", \"tags\": [\"sunset\", \"landscape\"]},\n",
    "        {\"name\": \"Sunset Serenade\", \"tags\": [\"sunset\", \"serene\"]},\n",
    "    ],\n",
    "    [{\"name\": \"Pixel Odyssey\", \"tags\": [\"pixel\", \"adventure\"]}],\n",
    "]\n",
    "\n",
    "\n",
    "nft_collections_3 = [\n",
    "    [{\"name\": \"The Last Piece\", \"tags\": [\"finale\", \"abstract\"]}],\n",
    "    [\n",
    "        {\"name\": \"Ocean Waves\", \"tags\": [\"seascape\", \"calm\"]},\n",
    "        {\"name\": \"Mountain Peak\", \"tags\": [\"landscape\", \"adventure\"]},\n",
    "    ],\n",
    "]\n",
    "\n",
    "print(search_nft_by_tag(nft_collections, \"landscape\"))\n",
    "print(search_nft_by_tag(nft_collections_2, \"sunset\"))\n",
    "print(search_nft_by_tag(nft_collections_3, \"modern\"))"
   ]
  },
  {
   "cell_type": "code",
   "execution_count": null,
   "metadata": {},
   "outputs": [],
   "source": [
    "[\"Urban Jungle\", \"City Lights\"]\n",
    "[\"Golden Hour\", \"Sunset Serenade\"]\n",
    "[]"
   ]
  },
  {
   "cell_type": "markdown",
   "metadata": {},
   "source": [
    "## Problem 6: NFT Queue Processing\n",
    "NFTs are added to a processing queue before they are displayed. The queue processes NFTs in a First-In, First-Out (FIFO) manner. Each NFT has a processing time, and you need to determine the order in which NFTs should be processed based on their initial position in the queue.\n",
    "\n",
    "Write the process_nft_queue() function, which takes a list of NFTs. The function should return a list of NFT names in the order they were processed.\n",
    "\n",
    "Evaluate the time and space complexity of your solution. Define your variables and provide a rationale for why you believe your solution has the stated time and space complexity."
   ]
  },
  {
   "cell_type": "code",
   "execution_count": 112,
   "metadata": {},
   "outputs": [],
   "source": [
    "from collections import deque\n",
    "def process_nft_queue(nft_queue):\n",
    "    nft_queue = deque(nft_queue)\n",
    "    res = []\n",
    "    while nft_queue:\n",
    "        nft = nft_queue.popleft()\n",
    "        res.append(nft['name'])\n",
    "    return res"
   ]
  },
  {
   "cell_type": "code",
   "execution_count": 113,
   "metadata": {},
   "outputs": [
    {
     "name": "stdout",
     "output_type": "stream",
     "text": [
      "['Abstract Horizon', 'Pixel Dreams', 'Urban Jungle']\n",
      "['Golden Hour', 'Sunset Serenade', 'Ocean Waves']\n",
      "['Crypto Kitty', 'Galactic Voyage']\n"
     ]
    }
   ],
   "source": [
    "nft_queue = [\n",
    "    {\"name\": \"Abstract Horizon\", \"processing_time\": 2},\n",
    "    {\"name\": \"Pixel Dreams\", \"processing_time\": 3},\n",
    "    {\"name\": \"Urban Jungle\", \"processing_time\": 1},\n",
    "]\n",
    "print(process_nft_queue(nft_queue))\n",
    "\n",
    "nft_queue_2 = [\n",
    "    {\"name\": \"Golden Hour\", \"processing_time\": 4},\n",
    "    {\"name\": \"Sunset Serenade\", \"processing_time\": 2},\n",
    "    {\"name\": \"Ocean Waves\", \"processing_time\": 3},\n",
    "]\n",
    "print(process_nft_queue(nft_queue_2))\n",
    "\n",
    "nft_queue_3 = [\n",
    "    {\"name\": \"Crypto Kitty\", \"processing_time\": 5},\n",
    "    {\"name\": \"Galactic Voyage\", \"processing_time\": 6},\n",
    "]\n",
    "print(process_nft_queue(nft_queue_3))\n",
    "\n",
    "# [\"Abstract Horizon\", \"Pixel Dreams\", \"Urban Jungle\"]\n",
    "# [\"Golden Hour\", \"Sunset Serenade\", \"Ocean Waves\"]\n",
    "# [\"Crypto Kitty\", \"Galactic Voyage\"]"
   ]
  },
  {
   "cell_type": "markdown",
   "metadata": {},
   "source": [
    "## Problem 7: Validate NFT Addition\n",
    "You want to ensure that NFTs are added in a balanced way. For example, every `\"add\"` action must be properly closed by a corresponding `\"remove\"` action.\n",
    "\n",
    "Write the `validate_nft_actions()` function, which takes a list of actions (either `\"add\"` or `\"remove\"`) and returns `True` if the actions are balanced, and `False` otherwise.\n",
    "\n",
    "A sequence of actions is considered balanced if every `\"add\"` has a corresponding `\"remove\"` and no `\"remove\"` occurs before an `\"add\"`.\n",
    "\n",
    "Evaluate the time and space complexity of your solution. Define your variables and provide a rationale for why you believe your solution has the stated time and space complexity."
   ]
  },
  {
   "cell_type": "code",
   "execution_count": 21,
   "metadata": {},
   "outputs": [],
   "source": [
    "def validate_nft_actions(actions):\n",
    "    stack = []\n",
    "    for i in actions:\n",
    "        if i == 'add':\n",
    "            stack.append(i)\n",
    "        elif i == 'remove':\n",
    "            if not stack or stack.pop() != 'add':\n",
    "                return False\n",
    "    return stack == []"
   ]
  },
  {
   "cell_type": "code",
   "execution_count": 22,
   "metadata": {},
   "outputs": [
    {
     "name": "stdout",
     "output_type": "stream",
     "text": [
      "True\n",
      "True\n",
      "False\n"
     ]
    }
   ],
   "source": [
    "actions = [\"add\", \"add\", \"remove\", \"remove\"]\n",
    "actions_2 = [\"add\", \"remove\", \"add\", \"remove\"]\n",
    "actions_3 = [\"add\", \"remove\", \"remove\", \"add\"]\n",
    "\n",
    "print(validate_nft_actions(actions)) # True\n",
    "print(validate_nft_actions(actions_2)) # True\n",
    "\n",
    "print(validate_nft_actions(actions_3)) # False\n"
   ]
  },
  {
   "cell_type": "markdown",
   "metadata": {},
   "source": [
    "## Problem 8: Find Closest NFT Values\n",
    "Buyers often look for NFTs that are closest in value to their budget. Given a sorted list of NFT values and a budget, you need to find the two NFT values that are closest to the given budget: one that is just below or equal to the budget and one that is just above or equal to the budget. If an exact match exists, it should be included as one of the values.\n",
    "\n",
    "Write the find_closest_nft_values() function, which takes a sorted list of NFT values and a budget, and returns the pair of the two closest NFT values.\n",
    "\n",
    "Evaluate the time and space complexity of your solution. Define your variables and provide a rationale for why you believe your solution has the stated time and space complexity."
   ]
  },
  {
   "cell_type": "code",
   "execution_count": 45,
   "metadata": {},
   "outputs": [],
   "source": [
    "def find_closest_nft_values(nft_values, budget):\n",
    "    below = None\n",
    "    above = None\n",
    "    for value in nft_values:\n",
    "        if value <= budget:\n",
    "            below = value\n",
    "        if value >= budget and above is None:\n",
    "            above = value\n",
    "            break\n",
    "    return (below, above)\n"
   ]
  },
  {
   "cell_type": "code",
   "execution_count": 46,
   "metadata": {},
   "outputs": [
    {
     "name": "stdout",
     "output_type": "stream",
     "text": [
      "(7.2, 9.0)\n",
      "(6.3, 7.8)\n",
      "(2.5, 4.0)\n"
     ]
    }
   ],
   "source": [
    "nft_values = [3.5, 5.4, 7.2, 9.0, 10.5]\n",
    "nft_values_2 = [2.0, 4.5, 6.3, 7.8, 12.1]\n",
    "nft_values_3 = [1.0, 2.5, 4.0, 6.0, 9.0]\n",
    "\n",
    "print(find_closest_nft_values(nft_values, 8.0))  # (7.2, 9.0)\n",
    "print(find_closest_nft_values(nft_values_2, 6.5))  # (6.3, 7.8)\n",
    "print(find_closest_nft_values(nft_values_3, 3.0))  # (2.5, 4.0)"
   ]
  },
  {
   "cell_type": "markdown",
   "metadata": {},
   "source": [
    "# <h1 style=\"color: blue;\">Session 1: Standard Problem Set Version 2</h1>"
   ]
  },
  {
   "cell_type": "markdown",
   "metadata": {},
   "source": [
    "## Problem 1: Meme Length Filter\n",
    "You need to filter out memes that are too long from your dataset. Memes that exceed a certain length are less likely to go viral.\n",
    "\n",
    "Write the `filter_meme_lengths()` function, which filters out memes whose lengths exceed a given limit. The function should return a list of meme texts that are within the acceptable length.\n",
    "\n",
    "Evaluate the time and space complexity of your solution. Define your variables and provide a rationale for why you believe your solution has the stated time and space complexity."
   ]
  },
  {
   "cell_type": "code",
   "execution_count": 49,
   "metadata": {},
   "outputs": [],
   "source": [
    "def filter_meme_lengths(memes, max_length):\n",
    "    res = []\n",
    "    for i in memes:\n",
    "        if len(i) <= max_length:\n",
    "            res.append(i)\n",
    "    return res"
   ]
  },
  {
   "cell_type": "code",
   "execution_count": 50,
   "metadata": {},
   "outputs": [
    {
     "name": "stdout",
     "output_type": "stream",
     "text": [
      "['This is hilarious!', 'Short and sweet']\n",
      "['Just right', 'Perfect length']\n",
      "['Short', 'Tiny meme']\n"
     ]
    }
   ],
   "source": [
    "memes = [\n",
    "    \"This is hilarious!\",\n",
    "    \"A very long meme that goes on and on and on...\",\n",
    "    \"Short and sweet\",\n",
    "    \"Too long! Way too long!\",\n",
    "]\n",
    "memes_2 = [\n",
    "    \"Just right\",\n",
    "    \"This one's too long though, sadly\",\n",
    "    \"Perfect length\",\n",
    "    \"A bit too wordy for a meme\",\n",
    "]\n",
    "memes_3 = [\n",
    "    \"Short\",\n",
    "    \"Tiny meme\",\n",
    "    \"Small but impactful\",\n",
    "    \"Extremely lengthy meme that no one will read\",\n",
    "]\n",
    "\n",
    "print(filter_meme_lengths(memes, 20))\n",
    "print(filter_meme_lengths(memes_2, 15))\n",
    "print(filter_meme_lengths(memes_3, 10))\n",
    "\n",
    "# [\"This is hilarious!\", \"Short and sweet\"]\n",
    "# [\"Just right\", \"Perfect length\"]\n",
    "# [\"Short\", \"Tiny meme\"]"
   ]
  },
  {
   "cell_type": "markdown",
   "metadata": {},
   "source": [
    "## Problem 2: Top Meme Creators\n",
    "You want to identify the top meme creators based on the number of memes they have created.\n",
    "\n",
    "Write the count_meme_creators() function, which takes a list of meme dictionaries and returns the creators' names and the number of memes they have created.\n",
    "\n",
    "Evaluate the time and space complexity of your solution. Define your variables and provide a rationale for why you believe your solution has the stated time and space complexity."
   ]
  },
  {
   "cell_type": "code",
   "execution_count": 56,
   "metadata": {},
   "outputs": [],
   "source": [
    "def count_meme_creators(memes):\n",
    "    count = {}\n",
    "    for meme in memes:\n",
    "        if meme['creator'] in count:\n",
    "            count[meme['creator']] +=1\n",
    "        else:\n",
    "            count[meme['creator']] = 1\n",
    "    return count"
   ]
  },
  {
   "cell_type": "code",
   "execution_count": 57,
   "metadata": {},
   "outputs": [
    {
     "name": "stdout",
     "output_type": "stream",
     "text": [
      "{'Alex': 2, 'Jordan': 2, 'Chris': 1}\n",
      "{'Sam': 3, 'Taylor': 1}\n",
      "{'Blake': 2}\n"
     ]
    }
   ],
   "source": [
    "memes = [\n",
    "    {\"creator\": \"Alex\", \"text\": \"Meme 1\"},\n",
    "    {\"creator\": \"Jordan\", \"text\": \"Meme 2\"},\n",
    "    {\"creator\": \"Alex\", \"text\": \"Meme 3\"},\n",
    "    {\"creator\": \"Chris\", \"text\": \"Meme 4\"},\n",
    "    {\"creator\": \"Jordan\", \"text\": \"Meme 5\"},\n",
    "]\n",
    "\n",
    "memes_2 = [\n",
    "    {\"creator\": \"Sam\", \"text\": \"Meme 1\"},\n",
    "    {\"creator\": \"Sam\", \"text\": \"Meme 2\"},\n",
    "    {\"creator\": \"Sam\", \"text\": \"Meme 3\"},\n",
    "    {\"creator\": \"Taylor\", \"text\": \"Meme 4\"},\n",
    "]\n",
    "\n",
    "memes_3 = [\n",
    "    {\"creator\": \"Blake\", \"text\": \"Meme 1\"},\n",
    "    {\"creator\": \"Blake\", \"text\": \"Meme 2\"},\n",
    "]\n",
    "\n",
    "print(count_meme_creators(memes))\n",
    "print(count_meme_creators(memes_2))\n",
    "print(count_meme_creators(memes_3))\n",
    "\n",
    "# {\"Alex\": 2, \"Jordan\": 2, \"Chris\": 1}\n",
    "# {\"Sam\": 3, \"Taylor\": 1}\n",
    "# {\"Blake\": 2}"
   ]
  },
  {
   "cell_type": "markdown",
   "metadata": {},
   "source": [
    "## Problem 3: Meme Trend Identification\n",
    "You're tasked with identifying trending memes. A meme is considered \"trending\" if it appears in the dataset multiple times.\n",
    "\n",
    "Write the `find_trending_memes()` function, which takes a list of meme texts and returns a list of trending memes, where a trending meme is defined as a meme that appears more than once in the list.\n",
    "\n",
    "Evaluate the time and space complexity of your solution. Define your variables and provide a rationale for why you believe your solution has the stated time and space complexity."
   ]
  },
  {
   "cell_type": "code",
   "execution_count": 58,
   "metadata": {},
   "outputs": [],
   "source": [
    "from collections import Counter\n",
    "def find_trending_memes(memes):\n",
    "    res = Counter(memes)\n",
    "    popular = []\n",
    "    for key, val in res.items():\n",
    "        if val > 1:\n",
    "            popular.append(key)\n",
    "    return popular"
   ]
  },
  {
   "cell_type": "code",
   "execution_count": 59,
   "metadata": {},
   "outputs": [
    {
     "name": "stdout",
     "output_type": "stream",
     "text": [
      "['Dogecoin to the moon!', 'One does not simply walk into Mordor']\n",
      "['Surprised Pikachu']\n",
      "[]\n"
     ]
    }
   ],
   "source": [
    "memes = [\n",
    "    \"Dogecoin to the moon!\",\n",
    "    \"One does not simply walk into Mordor\",\n",
    "    \"Dogecoin to the moon!\",\n",
    "    \"Distracted boyfriend\",\n",
    "    \"One does not simply walk into Mordor\",\n",
    "]\n",
    "memes_2 = [\n",
    "    \"Surprised Pikachu\",\n",
    "    \"Expanding brain\",\n",
    "    \"This is fine\",\n",
    "    \"Surprised Pikachu\",\n",
    "    \"Surprised Pikachu\",\n",
    "]\n",
    "memes_3 = [\"Y U No?\", \"First world problems\", \"Philosoraptor\", \"Bad Luck Brian\"]\n",
    "\n",
    "print(find_trending_memes(memes))\n",
    "print(find_trending_memes(memes_2))\n",
    "print(find_trending_memes(memes_3))"
   ]
  },
  {
   "cell_type": "markdown",
   "metadata": {},
   "source": [
    "# <h1 style=\"color: pink;\">Session 1: Advance Problem Set Version 1</h1>"
   ]
  },
  {
   "cell_type": "markdown",
   "metadata": {},
   "source": [
    "## Problem 1: Brand Filter\n",
    "You're tasked with filtering out brands that are not sustainable from a list of fashion brands. A sustainable brand is defined as one that meets a specific criterion, such as using eco-friendly materials, ethical labor practices, or being carbon-neutral.\n",
    "\n",
    "Write the filter_sustainable_brands() function, which takes a list of brands and a criterion, then returns a list of brands that meet the criterion.\n",
    "\n",
    "Evaluate the time and space complexity of your solution. Define your variables and provide a rationale for why you believe your solution has the stated time and space complexity."
   ]
  },
  {
   "cell_type": "code",
   "execution_count": 68,
   "metadata": {},
   "outputs": [],
   "source": [
    "def filter_sustainable_brands(brands, criterion):\n",
    "    res = []\n",
    "    for brand in brands:\n",
    "        if criterion in brand[\"criteria\"]:\n",
    "            res.append(brand[\"name\"])\n",
    "    return res"
   ]
  },
  {
   "cell_type": "code",
   "execution_count": 69,
   "metadata": {},
   "outputs": [
    {
     "name": "stdout",
     "output_type": "stream",
     "text": [
      "['EcoWear', 'GreenThreads']\n",
      "[]\n",
      "['GreenLife']\n"
     ]
    }
   ],
   "source": [
    "brands = [\n",
    "    {\"name\": \"EcoWear\", \"criteria\": [\"eco-friendly\", \"ethical labor\"]},\n",
    "    {\"name\": \"FastFashion\", \"criteria\": [\"cheap materials\", \"fast production\"]},\n",
    "    {\"name\": \"GreenThreads\", \"criteria\": [\"eco-friendly\", \"carbon-neutral\"]},\n",
    "    {\"name\": \"TrendyStyle\", \"criteria\": [\"trendy designs\"]},\n",
    "]\n",
    "\n",
    "brands_2 = [\n",
    "    {\"name\": \"Earthly\", \"criteria\": [\"ethical labor\", \"fair wages\"]},\n",
    "    {\"name\": \"FastStyle\", \"criteria\": [\"mass production\"]},\n",
    "    {\"name\": \"NatureWear\", \"criteria\": [\"eco-friendly\"]},\n",
    "    {\"name\": \"GreenFit\", \"criteria\": [\"recycled materials\", \"eco-friendly\"]},\n",
    "]\n",
    "\n",
    "brands_3 = [\n",
    "    {\"name\": \"OrganicThreads\", \"criteria\": [\"organic cotton\", \"fair trade\"]},\n",
    "    {\"name\": \"GreenLife\", \"criteria\": [\"recycled materials\", \"carbon-neutral\"]},\n",
    "    {\"name\": \"FastCloth\", \"criteria\": [\"cheap production\"]},\n",
    "]\n",
    "\n",
    "print(filter_sustainable_brands(brands, \"eco-friendly\"))\n",
    "print(filter_sustainable_brands(brands_3, \"ethical labor\"))\n",
    "print(filter_sustainable_brands(brands_3, \"carbon-neutral\"))\n",
    "# [\"EcoWear\", \"GreenThreads\"]\n",
    "# [\"Earthly\"]\n",
    "# [\"GreenLife\"]"
   ]
  },
  {
   "cell_type": "markdown",
   "metadata": {},
   "source": [
    "## Problem 2: Eco-Friendly Materials\n",
    "Certain materials are recognized as eco-friendly due to their low environmental impact. You need to track which materials are used by various brands and count how many times each material appears across all brands. This will help identify the most commonly used eco-friendly materials.\n",
    "\n",
    "Write the `count_material_usage()` function, which takes a list of brands (each with a list of materials) and returns the material names and the number of times each material appears across all brands.\n",
    "\n",
    "Evaluate the time and space complexity of your solution. Define your variables and provide a rationale for why you believe your solution has the stated time and space complexity."
   ]
  },
  {
   "cell_type": "code",
   "execution_count": 112,
   "metadata": {},
   "outputs": [],
   "source": [
    "from collections import Counter\n",
    "\n",
    "def count_material_usage(brands):\n",
    "    material_counter = Counter()\n",
    "    for brand in brands:\n",
    "        material_counter.update(brand['materials'])\n",
    "    return dict(material_counter)\n"
   ]
  },
  {
   "cell_type": "code",
   "execution_count": 113,
   "metadata": {},
   "outputs": [
    {
     "name": "stdout",
     "output_type": "stream",
     "text": [
      "{'organic cotton': 2, 'recycled polyester': 2, 'bamboo': 2}\n",
      "{'hemp': 2, 'linen': 2, 'organic cotton': 1, 'recycled wool': 1}\n",
      "{'organic cotton': 1, 'recycled polyester': 2, 'hemp': 1, 'bamboo': 1}\n"
     ]
    }
   ],
   "source": [
    "brands = [\n",
    "    {\"name\": \"EcoWear\", \"materials\": [\"organic cotton\", \"recycled polyester\"]},\n",
    "    {\"name\": \"GreenThreads\", \"materials\": [\"organic cotton\", \"bamboo\"]},\n",
    "    {\"name\": \"SustainableStyle\", \"materials\": [\"bamboo\", \"recycled polyester\"]},\n",
    "]\n",
    "\n",
    "brands_2 = [\n",
    "    {\"name\": \"NatureWear\", \"materials\": [\"hemp\", \"linen\"]},\n",
    "    {\"name\": \"Earthly\", \"materials\": [\"organic cotton\", \"hemp\"]},\n",
    "    {\"name\": \"GreenFit\", \"materials\": [\"linen\", \"recycled wool\"]},\n",
    "]\n",
    "\n",
    "brands_3 = [\n",
    "    {\"name\": \"OrganicThreads\", \"materials\": [\"organic cotton\"]},\n",
    "    {\"name\": \"EcoFashion\", \"materials\": [\"recycled polyester\", \"hemp\"]},\n",
    "    {\"name\": \"GreenLife\", \"materials\": [\"recycled polyester\", \"bamboo\"]},\n",
    "]\n",
    "\n",
    "print(count_material_usage(brands))\n",
    "print(count_material_usage(brands_2))\n",
    "print(count_material_usage(brands_3))\n",
    "# {\"organic cotton\": 2, \"recycled polyester\": 2, \"bamboo\": 2}\n",
    "# {\"hemp\": 2, \"linen\": 2, \"organic cotton\": 1, \"recycled wool\": 1}\n",
    "# {\"organic cotton\": 1, \"recycled polyester\": 2, \"hemp\": 1, \"bamboo\": 1}"
   ]
  },
  {
   "cell_type": "markdown",
   "metadata": {},
   "source": [
    "## Problem 3: Fashion Trends\n",
    "In the fast-changing world of fashion, certain materials and practices become trending based on how frequently they are adopted by brands. You want to identify which materials and practices are trending. A material or practice is considered \"trending\" if it appears in the dataset more than once.\n",
    "\n",
    "Write the find_trending_materials() function, which takes a list of brands (each with a list of materials or practices) and returns a list of materials or practices that are trending (i.e., those that appear more than once across all brands).\n",
    "\n",
    "Evaluate the time and space complexity of your solution. Define your variables and provide a rationale for why you believe your solution has the stated time and space complexity."
   ]
  },
  {
   "cell_type": "code",
   "execution_count": 3,
   "metadata": {},
   "outputs": [],
   "source": [
    "from collections import Counter\n",
    "def find_trending_materials(brands):\n",
    "    # Initialize a Counter to keep track of material occurrences\n",
    "    materials = Counter()\n",
    "    \n",
    "    # Update the counter with materials from each brand\n",
    "    for brand in brands:\n",
    "        materials.update(brand['materials'])\n",
    "    \n",
    "    # Initialize a list to store trending materials\n",
    "    res = []\n",
    "    \n",
    "    # Iterate through the counted materials and add those that appear more than once to the result list\n",
    "    for mat, val in materials.items():\n",
    "        if val > 1:\n",
    "            res.append(mat)\n",
    "    \n",
    "    return res"
   ]
  },
  {
   "cell_type": "code",
   "execution_count": 4,
   "metadata": {},
   "outputs": [
    {
     "name": "stdout",
     "output_type": "stream",
     "text": [
      "Counter({'organic cotton': 2, 'recycled polyester': 2, 'bamboo': 2})\n",
      "['organic cotton', 'recycled polyester', 'bamboo']\n",
      "Counter({'hemp': 2, 'linen': 2, 'organic cotton': 1, 'recycled wool': 1})\n",
      "['hemp', 'linen']\n",
      "Counter({'recycled polyester': 2, 'organic cotton': 1, 'hemp': 1, 'bamboo': 1})\n",
      "['recycled polyester']\n"
     ]
    }
   ],
   "source": [
    "brands = [\n",
    "    {\"name\": \"EcoWear\", \"materials\": [\"organic cotton\", \"recycled polyester\"]},\n",
    "    {\"name\": \"GreenThreads\", \"materials\": [\"organic cotton\", \"bamboo\"]},\n",
    "    {\"name\": \"SustainableStyle\", \"materials\": [\"bamboo\", \"recycled polyester\"]},\n",
    "]\n",
    "\n",
    "brands_2 = [\n",
    "    {\"name\": \"NatureWear\", \"materials\": [\"hemp\", \"linen\"]},\n",
    "    {\"name\": \"Earthly\", \"materials\": [\"organic cotton\", \"hemp\"]},\n",
    "    {\"name\": \"GreenFit\", \"materials\": [\"linen\", \"recycled wool\"]},\n",
    "]\n",
    "\n",
    "brands_3 = [\n",
    "    {\"name\": \"OrganicThreads\", \"materials\": [\"organic cotton\"]},\n",
    "    {\"name\": \"EcoFashion\", \"materials\": [\"recycled polyester\", \"hemp\"]},\n",
    "    {\"name\": \"GreenLife\", \"materials\": [\"recycled polyester\", \"bamboo\"]},\n",
    "]\n",
    "\n",
    "print(find_trending_materials(brands))\n",
    "\n",
    "print(find_trending_materials(brands_2))\n",
    "print(find_trending_materials(brands_3))\n",
    "# [\"organic cotton\", \"recycled polyester\", \"bamboo\"]\n",
    "# [\"hemp\", \"linen\"]\n",
    "# [\"recycled polyester\"]"
   ]
  },
  {
   "cell_type": "markdown",
   "metadata": {},
   "source": [
    "## Problem 4: Fabric Pairing\n",
    "You want to find pairs of fabrics that, when combined, maximize eco-friendliness while staying within a budget. Each fabric has a cost associated with it, and your goal is to identify the pair of fabrics whose combined cost is the highest possible without exceeding the budget.\n",
    "\n",
    "Write the find_best_fabric_pair() function, which takes a list of fabrics (each with a name and cost) and a budget. The function should return the names of the two fabrics whose combined cost is the closest to the budget without exceeding it.\n",
    "\n",
    "Evaluate the time and space complexity of your solution. Define your variables and provide a rationale for why you believe your solution has the stated time and space complexity."
   ]
  },
  {
   "cell_type": "code",
   "execution_count": 6,
   "metadata": {},
   "outputs": [],
   "source": [
    "def find_best_fabric_pair(fabrics, budget):\n",
    "    # sorting by cost x:[x]\n",
    "    fabrics.sort(key=lambda x: x[1])\n",
    "    # two pointers\n",
    "    left = 0\n",
    "    right = len(fabrics) - 1\n",
    "    # keep track of the best pairs\n",
    "    best_pair = ()\n",
    "    # used to keep track of the sum closest to budget\n",
    "    closest_sum = 0\n",
    "\n",
    "    while left < right:\n",
    "        # current cost sum\n",
    "        curr_cost_sum = fabrics[left][1] + fabrics[right][1]\n",
    "        # we have 2 conditions\n",
    "        # 1st verify that our current sum is greater than our closest sum\n",
    "        # 2nd verfity that our current sum is still within budget\n",
    "        # once our current sum is within budget and greater than the closet sum\n",
    "        if curr_cost_sum > closest_sum and curr_cost_sum <= budget:\n",
    "            # override the closest sum with our current sum\n",
    "            closest_sum = curr_cost_sum\n",
    "            # add the tow fabrics as a pair\n",
    "            best_pair = (fabrics[left][0], fabrics[right][0])\n",
    "        # since our list is sorted in ascending our\n",
    "        # If our current cost is greater than we know we have to decrement our right pointer\n",
    "        if curr_cost_sum > budget:\n",
    "            right -= 1\n",
    "        else:\n",
    "            left += 1\n",
    "\n",
    "    return best_pair"
   ]
  },
  {
   "cell_type": "markdown",
   "metadata": {},
   "source": [
    "### General Solution \n",
    "1. Sort the fabrics\n",
    "2. Create 2 pointer, a pair variable & closest budget variable\n",
    "3. Traverse the tuples using the 2 points\n",
    "4. keep track of the current value for both fabrics\n",
    "5. Check if current value is > closest budget variable and still within the budget\n",
    "6. If true:\n",
    "    - Override the closest budget variable and make a note of the two pairs\n",
    "7. If false:\n",
    "    - move the pointers based if the current value is < or > the budget\n",
    "8. Return the pairs"
   ]
  },
  {
   "cell_type": "code",
   "execution_count": 13,
   "metadata": {},
   "outputs": [
    {
     "name": "stdout",
     "output_type": "stream",
     "text": [
      "The current sum is 45\n",
      "The current sum is 50\n",
      "The current sum is 45\n",
      "HempOrganic Cotton\n"
     ]
    }
   ],
   "source": [
    "fabrics = [\n",
    "    (\"Organic Cotton\", 30),\n",
    "    (\"Recycled Polyester\", 20),\n",
    "    (\"Bamboo\", 25),\n",
    "    (\"Hemp\", 15),\n",
    "]\n",
    "fabrics_2 = [\n",
    "    (\"Linen\", 50),\n",
    "    (\"Recycled Wool\", 40),\n",
    "    (\"Tencel\", 30),\n",
    "    (\"Organic Cotton\", 60),\n",
    "]\n",
    "fabrics_3 = [(\"Linen\", 40), (\"Hemp\", 35), (\"Recycled Polyester\", 25), (\"Bamboo\", 20)]\n",
    "\n",
    "print(find_best_fabric_pair(fabrics, 45))\n",
    "#print(find_best_fabric_pair(fabrics_2, 70))\n",
    "#print(find_best_fabric_pair(fabrics_3, 60))\n",
    "# (\"Hemp\", \"Organic Cotton\")\n",
    "# (\"Tencel\", \"Recycled Wool\")\n",
    "# (\"Bamboo\", \"Linen\")"
   ]
  },
  {
   "cell_type": "markdown",
   "metadata": {},
   "source": [
    "## Problem 5: Fabric Stacks\n",
    "You need to organize rolls of fabric in such a way that you can efficiently retrieve them based on their eco-friendliness rating. Fabrics are stacked one on top of the other, and you can only retrieve the top fabric in the stack.\n",
    "\n",
    "Write the `organize_fabrics()` function, which takes a list of fabrics (each with a name and an eco-friendliness rating) and returns a list of fabric names in the order they would be retrieved from the stack, starting with the least eco-friendly fabric.\n",
    "\n",
    "Evaluate the time and space complexity of your solution. Define your variables and provide a rationale for why you believe your solution has the stated time and space complexity."
   ]
  },
  {
   "cell_type": "code",
   "execution_count": 19,
   "metadata": {},
   "outputs": [],
   "source": [
    "from collections import deque\n",
    "def organize_fabrics(fabrics):\n",
    "    fabrics.sort(key=lambda x:x[1], reverse=True)\n",
    "    q = deque(fabrics)\n",
    "    res = []\n",
    "    while q:\n",
    "        elt = q.popleft()\n",
    "        res.append(elt[0])\n",
    "    return res"
   ]
  },
  {
   "cell_type": "code",
   "execution_count": 20,
   "metadata": {},
   "outputs": [
    {
     "name": "stdout",
     "output_type": "stream",
     "text": [
      "['Hemp', 'Organic Cotton', 'Bamboo', 'Recycled Polyester']\n",
      "['Recycled Wool', 'Tencel', 'Organic Cotton', 'Linen']\n",
      "['Hemp', 'Bamboo', 'Recycled Polyester', 'Linen']\n"
     ]
    }
   ],
   "source": [
    "fabrics = [(\"Organic Cotton\", 8), (\"Recycled Polyester\", 6), (\"Bamboo\", 7), (\"Hemp\", 9)]\n",
    "fabrics_2 = [(\"Linen\", 5), (\"Recycled Wool\", 9), (\"Tencel\", 7), (\"Organic Cotton\", 6)]\n",
    "fabrics_3 = [(\"Linen\", 4), (\"Hemp\", 8), (\"Recycled Polyester\", 5), (\"Bamboo\", 7)]\n",
    "\n",
    "print(organize_fabrics(fabrics))\n",
    "print(organize_fabrics(fabrics_2))\n",
    "print(organize_fabrics(fabrics_3))\n",
    "\n",
    "# [\"Hemp\", \"Organic Cotton\", \"Bamboo\", \"Recycled Polyester\"]\n",
    "# [\"Recycled Wool\", \"Tencel\", \"Organic Cotton\", \"Linen\"]\n",
    "# [\"Hemp\", \"Bamboo\", \"Recycled Polyester\", \"Linen\"]"
   ]
  },
  {
   "cell_type": "markdown",
   "metadata": {},
   "source": [
    "## Problem 6: Supply Chain\n",
    "In the sustainable fashion industry, managing the supply chain efficiently is crucial. Supplies arrive in a sequence, and you need to process them in the order they arrive. However, some supplies may be of higher priority due to their eco-friendliness or scarcity.\n",
    "\n",
    "Write the process_supplies() function, which takes a list of supplies (each with a name and a priority level) and returns a list of supply names in the order they would be processed, with higher priority supplies processed first.\n",
    "\n",
    "Evaluate the time and space complexity of your solution. Define your variables and provide a rationale for why you believe your solution has the stated time and space complexity."
   ]
  },
  {
   "cell_type": "code",
   "execution_count": 26,
   "metadata": {},
   "outputs": [],
   "source": [
    "def process_supplies(supplies):\n",
    "    supplies.sort(key=lambda x:x[1], reverse=True)\n",
    "    q = deque(supplies)\n",
    "    res = []\n",
    "    while q:\n",
    "        elt = q.popleft()\n",
    "        res.append(elt[0])\n",
    "    return res"
   ]
  },
  {
   "cell_type": "code",
   "execution_count": 27,
   "metadata": {},
   "outputs": [
    {
     "name": "stdout",
     "output_type": "stream",
     "text": [
      "['Bamboo', 'Organic Cotton', 'Recycled Polyester', 'Hemp']\n",
      "['Recycled Wool', 'Organic Cotton', 'Tencel', 'Linen']\n",
      "['Recycled Polyester', 'Linen', 'Hemp', 'Bamboo']\n"
     ]
    }
   ],
   "source": [
    "supplies = [\n",
    "    (\"Organic Cotton\", 3),\n",
    "    (\"Recycled Polyester\", 2),\n",
    "    (\"Bamboo\", 4),\n",
    "    (\"Hemp\", 1),\n",
    "]\n",
    "supplies_2 = [(\"Linen\", 2), (\"Recycled Wool\", 5), (\"Tencel\", 3), (\"Organic Cotton\", 4)]\n",
    "supplies_3 = [(\"Linen\", 3), (\"Hemp\", 2), (\"Recycled Polyester\", 5), (\"Bamboo\", 1)]\n",
    "\n",
    "print(process_supplies(supplies))\n",
    "print(process_supplies(supplies_2))\n",
    "print(process_supplies(supplies_3))\n",
    "# [\"Bamboo\", \"Organic Cotton\", \"Recycled Polyester\", \"Hemp\"]\n",
    "# [\"Recycled Wool\", \"Organic Cotton\", \"Tencel\", \"Linen\"]\n",
    "# [\"Recycled Polyester\", \"Linen\", \"Hemp\", \"Bamboo\"]"
   ]
  },
  {
   "cell_type": "markdown",
   "metadata": {},
   "source": [
    "## Problem 7: Calculate Fabric Waste\n",
    "In the sustainable fashion industry, minimizing waste is crucial. After cutting out patterns for clothing items, there are often leftover pieces of fabric that cannot be used. Your task is to calculate the total amount of fabric waste generated after producing a collection of clothing items. Each clothing item requires a certain amount of fabric, and the available fabric rolls come in fixed lengths.\n",
    "\n",
    "Write the calculate_fabric_waste() function, which takes a list of clothing items (each with a required fabric length) and a list of fabric rolls (each with a specific length). The function should return the total fabric waste after producing all the items.\n",
    "\n",
    "Evaluate the time and space complexity of your solution. Define your variables and provide a rationale for why you believe your solution has the stated time and space complexity."
   ]
  },
  {
   "cell_type": "code",
   "execution_count": 67,
   "metadata": {},
   "outputs": [],
   "source": [
    "def calculate_fabric_waste(items, fabric_rolls):\n",
    "    total = 0\n",
    "    for i in range(len(items)):\n",
    "        total += (fabric_rolls[i] - items[i][1])\n",
    "    return total"
   ]
  },
  {
   "cell_type": "code",
   "execution_count": 68,
   "metadata": {},
   "outputs": [
    {
     "name": "stdout",
     "output_type": "stream",
     "text": [
      "5\n",
      "3\n",
      "6\n"
     ]
    }
   ],
   "source": [
    "items = [(\"T-Shirt\", 2), (\"Pants\", 3), (\"Jacket\", 5)]\n",
    "fabric_rolls1 = [5, 5, 5]\n",
    "\n",
    "items_2 = [(\"Dress\", 4), (\"Skirt\", 3), (\"Blouse\", 2)]\n",
    "fabric_rolls2 = [4, 4, 4]\n",
    "\n",
    "items_3 = [(\"Jacket\", 6), (\"Shirt\", 2), (\"Shorts\", 3)]\n",
    "fabric_rolls3 = [7, 5, 5]\n",
    "\n",
    "print(calculate_fabric_waste(items, fabric_rolls1)) # 5\n",
    "print(calculate_fabric_waste(items_2, fabric_rolls2)) # 3\n",
    "print(calculate_fabric_waste(items_3, fabric_rolls3)) # 6"
   ]
  },
  {
   "cell_type": "code",
   "execution_count": null,
   "metadata": {},
   "outputs": [],
   "source": []
  },
  {
   "cell_type": "markdown",
   "metadata": {},
   "source": [
    "# <h1 style=\"color: Orange;\">Session 1: Advance Problem Set Version 2</h1>"
   ]
  },
  {
   "cell_type": "markdown",
   "metadata": {},
   "source": [
    "## Problem 1: Track Screen Time Usage\n",
    "In the digital age, managing screen time is crucial for maintaining a healthy balance between online and offline activities. You need to track how much time users spend on different apps throughout the day.\n",
    "\n",
    "Write the `track_screen_time()` function, which takes a list of logs, where each log contains an app name and the number of minutes spent on that app during a specific hour. The function should return the app names and the total time spent on each app.\n",
    "\n",
    "Evaluate the time and space complexity of your solution. Define your variables and provide a rationale for why you believe your solution has the stated time and space complexity."
   ]
  },
  {
   "cell_type": "code",
   "execution_count": 7,
   "metadata": {},
   "outputs": [],
   "source": [
    "def track_screen_time(logs):\n",
    "    time = {}\n",
    "    \n",
    "    for app in logs:\n",
    "        if app[0] in time:\n",
    "            time[app[0]] += app[1]\n",
    "        else:\n",
    "            time[app[0]] = app[1]\n",
    "    return time"
   ]
  },
  {
   "cell_type": "code",
   "execution_count": 10,
   "metadata": {},
   "outputs": [
    {
     "name": "stdout",
     "output_type": "stream",
     "text": [
      "{'Instagram': 55, 'YouTube': 30, 'Snapchat': 15}\n",
      "{'Twitter': 25, 'Reddit': 20, 'Instagram': 35}\n",
      "{'TikTok': 90, 'YouTube': 60, 'Snapchat': 25}\n"
     ]
    }
   ],
   "source": [
    "logs = [\n",
    "    (\"Instagram\", 30),\n",
    "    (\"YouTube\", 20),\n",
    "    (\"Instagram\", 25),\n",
    "    (\"Snapchat\", 15),\n",
    "    (\"YouTube\", 10),\n",
    "]\n",
    "logs_2 = [(\"Twitter\", 10), (\"Reddit\", 20), (\"Twitter\", 15), (\"Instagram\", 35)]\n",
    "logs_3 = [(\"TikTok\", 40), (\"TikTok\", 50), (\"YouTube\", 60), (\"Snapchat\", 25)]\n",
    "\n",
    "print(track_screen_time(logs))\n",
    "print(track_screen_time(logs_2))\n",
    "print(track_screen_time(logs_3))\n",
    "# {\"Instagram\": 55, \"YouTube\": 30, \"Snapchat\": 15}\n",
    "# {\"Twitter\": 25, \"Reddit\": 20, \"Instagram\": 35}\n",
    "# {\"TikTok\": 90, \"YouTube\": 60, \"Snapchat\": 25}"
   ]
  },
  {
   "cell_type": "markdown",
   "metadata": {},
   "source": [
    "## Problem 2: Identify Most Used Apps\n",
    "You want to help users identify which apps they spend the most time on throughout the day. Based on the screen time logs, your task is to find the app with the highest total screen time.\n",
    "\n",
    "Write the most_used_app() function, which takes a dictionary containing the app names and the total time spent on each app. The function should return the app with the highest screen time. If multiple apps have the same highest screen time, return any one of them.\n",
    "\n",
    "Evaluate the time and space complexity of your solution. Define your variables and provide a rationale for why you believe your solution has the stated time and space complexity."
   ]
  },
  {
   "cell_type": "code",
   "execution_count": 20,
   "metadata": {},
   "outputs": [],
   "source": [
    "def most_used_app(screen_time):\n",
    "    return max(screen_time, key=lambda x: screen_time[x])\n"
   ]
  },
  {
   "cell_type": "code",
   "execution_count": 21,
   "metadata": {},
   "outputs": [
    {
     "name": "stdout",
     "output_type": "stream",
     "text": [
      "Instagram\n",
      "Instagram\n",
      "TikTok\n"
     ]
    }
   ],
   "source": [
    "screen_time = {\"Instagram\": 55, \"YouTube\": 30, \"Snapchat\": 15}\n",
    "screen_time_2 = {\"Twitter\": 25, \"Reddit\": 20, \"Instagram\": 35}\n",
    "screen_time_3 = {\"TikTok\": 90, \"YouTube\": 90, \"Snapchat\": 25}\n",
    "\n",
    "print(most_used_app(screen_time))\n",
    "print(most_used_app(screen_time_2))\n",
    "print(most_used_app(screen_time_3))\n",
    "# Instagram\n",
    "# Instagram\n",
    "# TikTok"
   ]
  },
  {
   "cell_type": "markdown",
   "metadata": {},
   "source": [
    "## Problem 3: Weekly App Usage\n",
    "Users want to know how much time they are spending on each app over the course of a week. Your task is to summarize the total weekly usage for each app and then identify the app with the most varied usage pattern throughout the week. The varied usage pattern can be measured by the difference between the maximum and minimum daily usage for each app.\n",
    "\n",
    "Write the `most_varied_app()` function, which takes a dictionary containing the app names and daily usage over seven days. The function should return the app with the highest difference between the maximum and minimum usage over the week. If multiple apps have the same difference, return any one of them.\n",
    "\n",
    "Evaluate the time and space complexity of your solution. Define your variables and provide a rationale for why you believe your solution has the stated time and space complexity."
   ]
  },
  {
   "cell_type": "code",
   "execution_count": 36,
   "metadata": {},
   "outputs": [],
   "source": [
    "def most_varied_app(app_usage):\n",
    "    highestMax = 0\n",
    "    best = ''\n",
    "    for k, v in app_usage.items():\n",
    "        currMax = max(v)\n",
    "        currMin = min(v)\n",
    "        currDiff = currMax - currMin\n",
    "        if currDiff > highestMax:\n",
    "            highestMax = currDiff\n",
    "            best = k\n",
    "    return best"
   ]
  },
  {
   "cell_type": "code",
   "execution_count": 37,
   "metadata": {},
   "outputs": [
    {
     "name": "stdout",
     "output_type": "stream",
     "text": [
      "YouTube\n",
      "Reddit\n",
      "TikTok\n"
     ]
    }
   ],
   "source": [
    "app_logs = {\n",
    "    \"Instagram\": [60, 55, 65, 60, 70, 55, 60],\n",
    "    \"YouTube\": [100, 120, 110, 100, 115, 105, 120],\n",
    "    \"Snapchat\": [30, 35, 25, 30, 40, 35, 30],\n",
    "}\n",
    "\n",
    "app_usage_2 = {\n",
    "    \"Twitter\": [15, 15, 15, 15, 15, 15, 15],\n",
    "    \"Reddit\": [45, 50, 55, 50, 45, 50, 55],\n",
    "    \"Facebook\": [80, 85, 80, 85, 80, 85, 80],\n",
    "}\n",
    "\n",
    "app_usage_3 = {\n",
    "    \"TikTok\": [80, 100, 90, 85, 95, 105, 90],\n",
    "    \"Spotify\": [40, 45, 50, 45, 40, 45, 50],\n",
    "    \"WhatsApp\": [60, 60, 60, 60, 60, 60, 60],\n",
    "}\n",
    "\n",
    "print(most_varied_app(app_logs))\n",
    "print(most_varied_app(app_usage_2))\n",
    "print(most_varied_app(app_usage_3))\n",
    "# YouTube\n",
    "# Reddit\n",
    "# TikTok"
   ]
  },
  {
   "cell_type": "markdown",
   "metadata": {},
   "source": [
    "## Problem 4: Daily App Usage Peaks\n",
    "You want to help users identify the peak hours of their app usage during the day. Users log their app usage every hour, and your task is to determine the highest total screen time recorded during any three consecutive hours.\n",
    "\n",
    "Write the peak_usage_hours() function that takes a list of 24 integers, where each integer represents the number of minutes spent on apps during a specific hour (from hour 0 to hour 23). The function should return the start hour and the total screen time for the three-hour period with the highest total usage. If multiple periods have the same total, return the earliest one.\n",
    "\n",
    "Evaluate the time and space complexity of your solution. Define your variables and provide a rationale for why you believe your solution has the stated time and space complexity."
   ]
  },
  {
   "cell_type": "code",
   "execution_count": 40,
   "metadata": {},
   "outputs": [],
   "source": [
    "def peak_usage_hours(screen_time):\n",
    "    highestTotal = 0\n",
    "    hour = 0\n",
    "    for i in range(len(screen_time) + 2):\n",
    "        w = screen_time[i:i+3]\n",
    "        currTotal = sum(w)\n",
    "        if currTotal > highestTotal:\n",
    "            highestTotal = currTotal\n",
    "            hour = i\n",
    "    return (hour, highestTotal)"
   ]
  },
  {
   "cell_type": "code",
   "execution_count": 41,
   "metadata": {},
   "outputs": [
    {
     "name": "stdout",
     "output_type": "stream",
     "text": [
      "(21, 690)\n",
      "(21, 360)\n",
      "(0, 0)\n"
     ]
    }
   ],
   "source": [
    "screen_time = [\n",
    "    10,\n",
    "    20,\n",
    "    30,\n",
    "    40,\n",
    "    50,\n",
    "    60,\n",
    "    70,\n",
    "    80,\n",
    "    90,\n",
    "    100,\n",
    "    110,\n",
    "    120,\n",
    "    130,\n",
    "    140,\n",
    "    150,\n",
    "    160,\n",
    "    170,\n",
    "    180,\n",
    "    190,\n",
    "    200,\n",
    "    210,\n",
    "    220,\n",
    "    230,\n",
    "    240,\n",
    "]\n",
    "screen_time_2 = [\n",
    "    5,\n",
    "    15,\n",
    "    10,\n",
    "    20,\n",
    "    30,\n",
    "    25,\n",
    "    50,\n",
    "    40,\n",
    "    35,\n",
    "    45,\n",
    "    60,\n",
    "    55,\n",
    "    65,\n",
    "    75,\n",
    "    70,\n",
    "    85,\n",
    "    95,\n",
    "    90,\n",
    "    100,\n",
    "    110,\n",
    "    105,\n",
    "    115,\n",
    "    120,\n",
    "    125,\n",
    "]\n",
    "screen_time_3 = [0, 0, 0, 0, 0, 0, 0, 0, 0, 0, 0, 0, 0, 0, 0, 0, 0, 0, 0, 0, 0, 0, 0, 0]\n",
    "\n",
    "print(peak_usage_hours(screen_time))\n",
    "print(peak_usage_hours(screen_time_2))\n",
    "print(peak_usage_hours(screen_time_3))\n",
    "# (21, 690)\n",
    "# (21, 360)\n",
    "# (0, 0)"
   ]
  },
  {
   "cell_type": "markdown",
   "metadata": {},
   "source": [
    "\n",
    "## Problem 5: App Usage Pattern Recognition\n",
    "Users want to identify patterns in their app usage over the course of a day. Specifically, they are interested in finding out if they have periods of repetitive behavior, where they switch between the same set of apps in a recurring pattern. Your task is to detect the longest repeating pattern of app usage within a 24-hour period.\n",
    "\n",
    "Write the find_longest_repeating_pattern() function, which takes a list of app usage logs, where each element in the list represents the app used in a particular hour (from hour 0 to hour 23). The function should return the longest repeating pattern of apps and its length. If there are multiple patterns of the same length, return the first one found.\n",
    "\n",
    "Evaluate the time and space complexity of your solution. Define your variables and provide a rationale for why you believe your solution has the stated time and space complexity."
   ]
  },
  {
   "cell_type": "code",
   "execution_count": 77,
   "metadata": {},
   "outputs": [],
   "source": [
    "def find_longest_repeating_pattern(app_logs):\n",
    "    # Step 1: Calculate the number of application logs\n",
    "    n = len(app_logs)\n",
    "\n",
    "    # Step 2: Create a suffix array\n",
    "    # Sort indices based on the lexicographical order of the suffixes\n",
    "    suffix_array = sorted(range(n), key=lambda i: app_logs[i:])\n",
    "    #print(suffix_array)\n",
    "    \n",
    "    # Step 3: Initialize the LCP (Longest Common Prefix) array\n",
    "    # Create an array of size n filled with zeros to store LCP values\n",
    "    lcp_array = [0] * n\n",
    "\n",
    "    # Step 4: Initialize variables for LCP computation\n",
    "    k = 0  # Length of the current common prefix\n",
    "    rank = [0] * n  # Array to store the rank of each suffix\n",
    "\n",
    "    # Step 5: Populate the rank array\n",
    "    for i in range(n):\n",
    "        rank[suffix_array[i]] = i  # Set the rank for each suffix based on its sorted index\n",
    "    #print(rank)\n",
    "        \n",
    "    # Step 6: Compute the LCP array using the ranks\n",
    "    for i in range(n):\n",
    "        if rank[i] > 0:  # Only compute LCP for suffixes that are not the first in sorted order\n",
    "            j = suffix_array[rank[i] - 1]  # Get the index of the previous suffix in the sorted order\n",
    "            # Count the length of the common prefix between the current and previous suffix\n",
    "            while i + k < n and j + k < n and app_logs[i + k] == app_logs[j + k]:\n",
    "                k += 1  # Increment k while the characters match\n",
    "\n",
    "            lcp_array[rank[i]] = k  # Store the length of the common prefix in the LCP array\n",
    "\n",
    "            if k > 0:\n",
    "                k -= 1  # Decrease k for the next suffix comparison\n",
    "    print(lcp_array)\n",
    "\n",
    "    # Step 7: Find the maximum LCP value and its index\n",
    "    max_lcp = 0  # Variable to track the maximum LCP value\n",
    "    max_lcp_index = 0  # Variable to track the index of the maximum LCP value\n",
    "    for i in range(1, n):  # Start from the second element\n",
    "        if lcp_array[i] > max_lcp:  # If the current LCP is greater than the max found\n",
    "            max_lcp = lcp_array[i]  # Update the maximum LCP value\n",
    "            max_lcp_index = i  # Update the index of the maximum LCP\n",
    "\n",
    "    # Step 8: Extract the longest repeating pattern if it exists\n",
    "    if max_lcp > 0:  # Check if there is a repeating pattern\n",
    "        start = suffix_array[max_lcp_index]  # Get the starting index of the longest repeating pattern\n",
    "        pattern = app_logs[start : start + max_lcp]  # Extract the pattern from app_logs\n",
    "\n",
    "        # Step 9: Count the number of repetitions of the pattern\n",
    "        repeat_count = 1  # Initialize count, at least 1 occurrence found\n",
    "        for i in range(n - len(pattern)):  # Check all possible starting points in app_logs\n",
    "            if app_logs[i : i + len(pattern)] == pattern:  # If the slice matches the pattern\n",
    "                repeat_count += 1  # Increment the count\n",
    "\n",
    "        return pattern, repeat_count  # Return the longest pattern and its repetition count\n",
    "    else:\n",
    "        return [], 0  # If no repeating pattern is found, return an empty list and count of 0\n"
   ]
  },
  {
   "cell_type": "markdown",
   "metadata": {},
   "source": [
    "\n",
    "The time complexity of the `peak_usage_hours` function is O(n), where n is the length of the `screen_time` list. This is because the function iterates through the list once, performing a constant amount of work for each element.\n",
    "\n",
    "The space complexity of the function is O(1), as it uses a fixed amount of additional space regardless of the input size. The variables `highestTotal` and `hour` are used to store the maximum total screen time and the corresponding start hour, and these do not depend on the size of the input list.\n"
   ]
  },
  {
   "cell_type": "code",
   "execution_count": 78,
   "metadata": {},
   "outputs": [
    {
     "name": "stdout",
     "output_type": "stream",
     "text": [
      "[0, 0, 1, 3, 0, 0, 1, 1, 0, 0, 2]\n",
      "(['Instagram', 'YouTube', 'Snapchat'], 3)\n"
     ]
    }
   ],
   "source": [
    "app_logs = [\n",
    "    \"Instagram\",  # 0\n",
    "    \"YouTube\",  # 1\n",
    "    \"Snapchat\",  # 2\n",
    "    \"Instagram\" # 3\n",
    "    \"YouTube\",  # 4\n",
    "    \"Snapchat\",  # 5\n",
    "    \"Instagram\",  # 6\n",
    "    \"YouTube\",  # 7\n",
    "    \"Snapchat\",  # 8\n",
    "    \"Facebook\",  # 9\n",
    "    \"Twitter\",  # 10\n",
    "    \"Instagram\",  # 11\n",
    "]\n",
    "app_logs_2 = [\n",
    "    \"Facebook\",\n",
    "    \"Instagram\",\n",
    "    \"Facebook\",\n",
    "    \"Instagram\",\n",
    "    \"Facebook\",\n",
    "    \"Instagram\",\n",
    "    \"Snapchat\",\n",
    "    \"Snapchat\",\n",
    "    \"Snapchat\",\n",
    "    \"Instagram\",\n",
    "]\n",
    "app_logs_3 = [\n",
    "    \"WhatsApp\",\n",
    "    \"TikTok\",\n",
    "    \"Instagram\",\n",
    "    \"YouTube\",\n",
    "    \"Snapchat\",\n",
    "    \"Twitter\",\n",
    "    \"Facebook\",\n",
    "    \"WhatsApp\",\n",
    "    \"TikTok\",\n",
    "    \"Instagram\",\n",
    "    \"YouTube\",\n",
    "    \"Snapchat\",\n",
    "    \"Twitter\",\n",
    "    \"Facebook\",\n",
    "]\n",
    "\n",
    "print(find_longest_repeating_pattern(app_logs))\n",
    "# print(find_longest_repeating_pattern(app_logs_2))\n",
    "# print(find_longest_repeating_pattern(app_logs_3))\n",
    "# ([\"Instagram\", \"YouTube\", \"Snapchat\"], 3)\n",
    "# ([\"Facebook\", \"Instagram\"], 3)\n",
    "# ([\"WhatsApp\", \"TikTok\", \"Instagram\", \"YouTube\", \"Snapchat\", \"Twitter\", \"Facebook\"], 2)"
   ]
  },
  {
   "cell_type": "code",
   "execution_count": null,
   "metadata": {},
   "outputs": [],
   "source": []
  },
  {
   "cell_type": "code",
   "execution_count": null,
   "metadata": {},
   "outputs": [],
   "source": []
  }
 ],
 "metadata": {
  "kernelspec": {
   "display_name": "tf2",
   "language": "python",
   "name": "python3"
  },
  "language_info": {
   "codemirror_mode": {
    "name": "ipython",
    "version": 3
   },
   "file_extension": ".py",
   "mimetype": "text/x-python",
   "name": "python",
   "nbconvert_exporter": "python",
   "pygments_lexer": "ipython3",
   "version": "3.10.14"
  }
 },
 "nbformat": 4,
 "nbformat_minor": 2
}
