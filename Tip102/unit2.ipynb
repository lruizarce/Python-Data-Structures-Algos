{
 "cells": [
  {
   "cell_type": "markdown",
   "metadata": {},
   "source": [
    " # <h1 style=\"color: blue;\">Session 1: Standard Problem Set Version 1</h1>\n",
    "\n"
   ]
  },
  {
   "cell_type": "markdown",
   "metadata": {},
   "source": [
    "<h3 style=\"color: green;\">Problem 1: Festival Lineup</h3>\n",
    "\n",
    "Given two lists of strings `artists` and `set_times` of length `n`, write a function `lineup()` that maps each artist to their set time.\n",
    "\n",
    "An artist `artists[i]` has set time `set_times[i]`. Assume `i <= 0 < n` and `len(artists) == len(set_times)."
   ]
  },
  {
   "cell_type": "code",
   "execution_count": 48,
   "metadata": {},
   "outputs": [],
   "source": [
    "def lineup(artists, set_times):\n",
    "    lineups = dict(zip(artists, set_times))\n",
    "    return lineups\n",
    "                   "
   ]
  },
  {
   "cell_type": "code",
   "execution_count": null,
   "metadata": {},
   "outputs": [],
   "source": [
    "artists1 = [\"Kendrick Lamar\", \"Chappell Roan\", \"Mitski\", \"Rosalia\"]\n",
    "set_times1 = [\"9:30 PM\", \"5:00 PM\", \"2:00 PM\", \"7:30 PM\"]\n",
    "\n",
    "artists2 = []\n",
    "set_times2 = []\n",
    "\n",
    "print(lineup(artists1, set_times1))\n",
    "print(lineup(artists2, set_times2))"
   ]
  },
  {
   "cell_type": "markdown",
   "metadata": {},
   "source": [
    "<h3 style=\"color: green;\">Problem 2: Planning App</h3>\n",
    "\n",
    "You are designing an app for your festival to help attendees have the best experience possible! As part of the application, users will be able to easily search their favorite artist and find out the day, time, and stage the artist is playing at. Write a function `get_artist_info()` that accepts a string artist and a dictionary `festival_schedule` mapping artist's names to dictionaries containing the day, time, and stage they are playing on. Return the dictionary containing the information about the given `artist`.\n",
    "\n",
    "If the artist searched for does not exist in `festival_schedule`, return the dictionary` {\"message\": \"Artist not found\"}`."
   ]
  },
  {
   "cell_type": "code",
   "execution_count": 56,
   "metadata": {},
   "outputs": [],
   "source": [
    "def get_artist_info(artist, festival_schedule):\n",
    "    if artist in festival_schedule:\n",
    "        return festival_schedule[str(artist)]\n",
    "    return {'message': 'Artist not found'}\n",
    "        "
   ]
  },
  {
   "cell_type": "code",
   "execution_count": null,
   "metadata": {},
   "outputs": [],
   "source": [
    "festival_schedule = {\n",
    "    \"Blood Orange\": {\"day\": \"Friday\", \"time\": \"9:00 PM\", \"stage\": \"Main Stage\"},\n",
    "    \"Metallica\": {\"day\": \"Saturday\", \"time\": \"8:00 PM\", \"stage\": \"Main Stage\"},\n",
    "    \"Kali Uchis\": {\"day\": \"Sunday\", \"time\": \"7:00 PM\", \"stage\": \"Second Stage\"},\n",
    "    \"Lawrence\": {\"day\": \"Friday\", \"time\": \"6:00 PM\", \"stage\": \"Main Stage\"},\n",
    "}\n",
    "\n",
    "print(get_artist_info(\"Blood Orange\", festival_schedule))\n",
    "print(get_artist_info(\"Taylor Swift\", festival_schedule))"
   ]
  },
  {
   "cell_type": "markdown",
   "metadata": {},
   "source": [
    "<h3 style=\"color: green;\">Problem 3: Ticket Sales</h3>\n",
    "\n",
    "A dictionary ticket_sales is used to map ticket type to number of tickets sold. Return the total number of tickets of all types sold."
   ]
  },
  {
   "cell_type": "code",
   "execution_count": 61,
   "metadata": {},
   "outputs": [],
   "source": [
    "def total_sales(ticket_sales):\n",
    "    total = 0\n",
    "    for val in ticket_sales.values():\n",
    "        total += val\n",
    "    return total"
   ]
  },
  {
   "cell_type": "code",
   "execution_count": null,
   "metadata": {},
   "outputs": [],
   "source": [
    "ticket_sales = {\"Friday\": 200, \"Saturday\": 1000, \"Sunday\": 800, \"3-Day Pass\": 2500}\n",
    "\n",
    "print(total_sales(ticket_sales))"
   ]
  },
  {
   "cell_type": "markdown",
   "metadata": {},
   "source": [
    "## Problem 4: Scheduling Conflict\n",
    "Demand for your festival has exceeded expectations, so you're expanding the festival to span two different venues. Some artists will perform both venues, while others will perform at just one. To ensure that there are no scheduling conflicts, implement a function identify_conflicts() that accepts two dictionaries venue1_schedule and venue2_schedule each mapping the artists playing at the venue to their set times. Return a dictionary containing the key-value pairs that are the same in each schedule."
   ]
  },
  {
   "cell_type": "code",
   "execution_count": 70,
   "metadata": {},
   "outputs": [],
   "source": [
    "def identify_conflicts(venue1_schedule, venue2_schedule):\n",
    "    conflicts = {}\n",
    "    for artist, time in venue1_schedule.items():\n",
    "        if artist in venue2_schedule and venue2_schedule[artist] == time:\n",
    "            conflicts[artist] = time\n",
    "    return conflicts\n",
    "            \n",
    "        \n",
    "        "
   ]
  },
  {
   "cell_type": "code",
   "execution_count": null,
   "metadata": {},
   "outputs": [],
   "source": [
    "venue1_schedule = {\n",
    "    \"Stromae\": \"9:00 PM\",\n",
    "    \"Janelle Monáe\": \"8:00 PM\",\n",
    "    \"HARDY\": \"7:00 PM\",\n",
    "    \"Bruce Springsteen\": \"6:00 PM\",\n",
    "}\n",
    "\n",
    "venue2_schedule = {\n",
    "    \"Stromae\": \"9:00 PM\",\n",
    "    \"Janelle Monáe\": \"10:30 PM\",\n",
    "    \"HARDY\": \"7:00 PM\",\n",
    "    \"Wizkid\": \"6:00 PM\",\n",
    "}\n",
    "\n",
    "print(identify_conflicts(venue1_schedule, venue2_schedule))"
   ]
  },
  {
   "cell_type": "markdown",
   "metadata": {},
   "source": [
    "## Problem 5: Best Set\n",
    "As part of the festival, attendees cast votes for their favorite set. Given a dictionary votes that maps attendees id numbers to the artist they voted for, return the artist that had the most number of votes. If there is a tie, return any artist with the top number of votes."
   ]
  },
  {
   "cell_type": "code",
   "execution_count": 78,
   "metadata": {},
   "outputs": [],
   "source": [
    "def best_set(votes):\n",
    "    res = {}\n",
    "    for artist in votes.values():\n",
    "        if artist in res:\n",
    "            res[artist] += 1\n",
    "        else:\n",
    "            res[artist] = 1\n",
    "    return max(res, key=res.get)\n"
   ]
  },
  {
   "cell_type": "code",
   "execution_count": null,
   "metadata": {},
   "outputs": [],
   "source": [
    "votes1 = {\n",
    "    1234: \"SZA\",\n",
    "    1235: \"Yo-Yo Ma\",\n",
    "    1236: \"Ethel Cain\",\n",
    "    1237: \"Ethel Cain\",\n",
    "    1238: \"SZA\",\n",
    "    1239: \"SZA\",\n",
    "}\n",
    "\n",
    "votes2 = {\n",
    "    1234: \"SZA\",\n",
    "    1235: \"Yo-Yo Ma\",\n",
    "    1236: \"Ethel Cain\",\n",
    "    1237: \"Ethel Cain\",\n",
    "    1238: \"SZA\",\n",
    "}\n",
    "\n",
    "print(best_set(votes1))\n",
    "print(best_set(votes2))"
   ]
  },
  {
   "cell_type": "markdown",
   "metadata": {},
   "source": [
    "## Problem 6: Performances with Maximum Audience\n",
    "You are given an array `audiences` consisting of positive integers representing the audience size for different performances at a music festival.\n",
    "\n",
    "Return the combined audience size of all performances in audiences with the maximum audience size.\n",
    "\n",
    "The audience size of a performance is the number of people who attended that performance."
   ]
  },
  {
   "cell_type": "code",
   "execution_count": 89,
   "metadata": {},
   "outputs": [],
   "source": [
    "def max_audience_performances(audiences):\n",
    "    max_audience = max(audiences)\n",
    "    size_map = {}\n",
    "    \n",
    "    for i in audiences:\n",
    "        if i in size_map:\n",
    "            size_map[i] +=1\n",
    "        else:\n",
    "            size_map[i] =1\n",
    "    return size_map[max_audience] * max_audience\n",
    "\n",
    "            \n",
    "            \n"
   ]
  },
  {
   "cell_type": "code",
   "execution_count": null,
   "metadata": {},
   "outputs": [],
   "source": [
    "audiences1 = [100, 200, 200, 150, 100, 250]\n",
    "audiences2 = [120, 180, 220, 150, 220]\n",
    "\n",
    "print(max_audience_performances(audiences1))\n",
    "print(max_audience_performances(audiences2))"
   ]
  },
  {
   "cell_type": "markdown",
   "metadata": {},
   "source": [
    "## Problem 7: Performances with Maximum Audience II\n",
    "If you used a dictionary as part of your solution to max_audience_performances() in the previous problem, try reimplementing the function without using a dictionary. If you implemented max_audience_performances() without using a dictionary, try solving the problem with a dictionary.\n",
    "\n",
    "Once you've come up with your second solution, compare the two. Is one solution better than the other? Why or why not?"
   ]
  },
  {
   "cell_type": "code",
   "execution_count": 97,
   "metadata": {},
   "outputs": [],
   "source": [
    "def max_audience_performances(audiences):\n",
    "    maxAudience = max(audiences)\n",
    "    count = 0\n",
    "    for i in audiences:\n",
    "        if i == maxAudience:\n",
    "            count +=1\n",
    "    return maxAudience * count"
   ]
  },
  {
   "cell_type": "code",
   "execution_count": null,
   "metadata": {},
   "outputs": [],
   "source": [
    "audiences1 = [100, 200, 200, 150, 100, 250]\n",
    "audiences2 = [120, 180, 220, 150, 220]\n",
    "\n",
    "print(max_audience_performances(audiences1))\n",
    "print(max_audience_performances(audiences2))"
   ]
  },
  {
   "cell_type": "markdown",
   "metadata": {},
   "source": [
    "## Problem 8: Popular Song Pairs\n",
    "Given an array of integers popularity_scores representing the popularity scores of songs in a music festival playlist, return the number of popular song pairs.\n",
    "\n",
    "A pair (i, j) is called popular if the songs have the same popularity score and i < j.\n",
    "\n",
    "Hint: number of pairs = (n x n-1)/2"
   ]
  },
  {
   "cell_type": "code",
   "execution_count": 115,
   "metadata": {},
   "outputs": [],
   "source": [
    "def num_popular_pairs(popularity_scores):\n",
    "    res = {}\n",
    "    \n",
    "    for i in range(len(popularity_scores)):\n",
    "        if popularity_scores[i] in res:\n",
    "            res[popularity_scores[i]] += 1\n",
    "        else:\n",
    "            res[popularity_scores[i]] = 1\n",
    "   \n",
    "    same = 0  \n",
    "    for val in res.values():\n",
    "        if val >= 2:\n",
    "            same += (val * (val - 1)) // 2\n",
    "    return same\n"
   ]
  },
  {
   "cell_type": "code",
   "execution_count": null,
   "metadata": {},
   "outputs": [],
   "source": [
    "popularity_scores1 = [1, 2, 3, 1, 1, 3]\n",
    "popularity_scores2 = [1, 1, 1, 1]\n",
    "popularity_scores3 = [1, 2, 3]\n",
    "\n",
    "print(num_popular_pairs(popularity_scores1))\n",
    "print(num_popular_pairs(popularity_scores2))\n",
    "print(num_popular_pairs(popularity_scores3))"
   ]
  },
  {
   "cell_type": "markdown",
   "metadata": {},
   "source": [
    "## Problem 9: Stage Arrangement Difference Between Two Performances\n",
    "You are given two strings s and t representing the stage arrangements of performers in two different performances at a music festival, such that every performer occurs at most once in s and t, and t is a permutation of s.\n",
    "\n",
    "The stage arrangement difference between s and t is defined as the sum of the absolute difference between the index of the occurrence of each performer in s and the index of the occurrence of the same performer in t.\n",
    "\n",
    "Return the stage arrangement difference between s and t.\n",
    "\n",
    "A permutation is a rearrangement of a sequence. For example, [3, 1, 2] and [2, 1 , 3] are both permutations of the list [1, 2, 3].\n",
    "\n",
    "Hint: Absolute value function"
   ]
  },
  {
   "cell_type": "code",
   "execution_count": 138,
   "metadata": {},
   "outputs": [],
   "source": [
    "def find_stage_arrangement_difference(s, t):\n",
    "    \"\"\"\n",
    "    :type s: List[str]\n",
    "    :type t: List[str]\n",
    "    :rtype: int\n",
    "    \"\"\"\n",
    "    \n",
    "    p1 = {}\n",
    "    p2 = {}\n",
    "    for i in range(len(s)):\n",
    "        p1[s[i]] = i\n",
    "        p2[t[i]] = i\n",
    "    displacement = 0\n",
    "    for k, val in p1.items():\n",
    "        if k in p2:\n",
    "            displacement += abs(val-p2[k])\n",
    "    return displacement"
   ]
  },
  {
   "cell_type": "code",
   "execution_count": null,
   "metadata": {},
   "outputs": [],
   "source": [
    "s1 = [\"Alice\", \"Bob\", \"Charlie\"]\n",
    "t1 = [\"Bob\", \"Alice\", \"Charlie\"]\n",
    "s2 = [\"Alice\", \"Bob\", \"Charlie\", \"David\", \"Eve\"]\n",
    "t2 = [\"Eve\", \"David\", \"Bob\", \"Alice\", \"Charlie\"]\n",
    "\n",
    "print(find_stage_arrangement_difference(s1, t1))\n",
    "print(find_stage_arrangement_difference(s2, t2))"
   ]
  },
  {
   "cell_type": "markdown",
   "metadata": {},
   "source": [
    "## Problem 10: VIP Passes and Guests\n",
    "You're given strings vip_passes representing the types of guests that have VIP passes, and guests representing the guests you have at the music festival. Each character in guests is a type of guest you have. You want to know how many of the guests you have are also VIP pass holders.\n",
    "\n",
    "Letters are case sensitive, so \"a\" is considered a different type of guest from \"A\".\n",
    "\n",
    "Here is the pseudocode for the problem. Implement this in Python and explain your implementation step-by-step."
   ]
  },
  {
   "cell_type": "markdown",
   "metadata": {},
   "source": [
    "1. Create an empty set called vip_set.\n",
    "2. For each character in vip_passes, add it to vip_set.\n",
    "3. Initialize a counter variable to 0.\n",
    "4. For each character in guests:\n",
    "   * If the character is in vip_set, increment the count by 1.\n",
    "5. Return the count."
   ]
  },
  {
   "cell_type": "code",
   "execution_count": 146,
   "metadata": {},
   "outputs": [],
   "source": [
    "def num_VIP_guests(vip_passes, guests):\n",
    "    total = 0\n",
    "    for guest in guests:\n",
    "        if guest in vip_passes:\n",
    "            total +=1\n",
    "    return total"
   ]
  },
  {
   "cell_type": "code",
   "execution_count": null,
   "metadata": {},
   "outputs": [],
   "source": [
    "vip_passes1 = \"aA\"\n",
    "guests1 = \"aAAbbbb\"\n",
    "\n",
    "vip_passes2 = \"z\"\n",
    "guests2 = \"ZZ\"\n",
    "\n",
    "print(num_VIP_guests(vip_passes1, guests1))\n",
    "print(num_VIP_guests(vip_passes2, guests2))"
   ]
  },
  {
   "cell_type": "markdown",
   "metadata": {},
   "source": [
    "## Problem 11: Performer Schedule Pattern\n",
    "Given a string pattern and a string schedule, return True if schedule follows the same pattern. Return False otherwise.\n",
    "\n",
    "Here, \"follow\" means a full match, such that there is a one-to-one correspondence between a letter in pattern and a non-empty word in schedule.\n",
    "\n",
    "You are provided with a partially implemented and buggy version of the solution. Identify and fix the bugs in the code. Then, perform a thorough code review and suggest improvements."
   ]
  },
  {
   "cell_type": "code",
   "execution_count": 168,
   "metadata": {},
   "outputs": [],
   "source": [
    "def schedule_pattern(pattern, schedule):\n",
    "    # Split the schedule string into a list of genres\n",
    "    genres = schedule.split()\n",
    "    \n",
    "    # If the number of genres does not match the length of the pattern, return False\n",
    "    if len(genres) != len(pattern):\n",
    "        return False\n",
    "\n",
    "    # Initialize dictionaries to keep track of the mapping\n",
    "    reference = {}\n",
    "    reverse_reference = {}\n",
    "\n",
    "    # Iterate over the pattern and genres simultaneously\n",
    "    for p, g in zip(pattern, genres):\n",
    "        # Check if the current pattern character is already mapped to a different genre\n",
    "        if p in reference and reference[p] != g:\n",
    "            return False\n",
    "        # Check if the current genre is already mapped to a different pattern character\n",
    "        if g in reverse_reference and reverse_reference[g] != p:\n",
    "            return False\n",
    "        # Map the pattern character to the genre\n",
    "        reference[p] = g\n",
    "        # Map the genre to the pattern character\n",
    "        reverse_reference[g] = p\n",
    "\n",
    "    # If all checks pass, return True\n",
    "    return True\n"
   ]
  },
  {
   "cell_type": "code",
   "execution_count": null,
   "metadata": {},
   "outputs": [],
   "source": [
    "pattern1 = \"abba\"\n",
    "schedule1 = \"rock jazz jazz rock\"\n",
    "\n",
    "pattern2 = \"abba\"\n",
    "schedule2 = \"rock jazz jazz blues\"\n",
    "\n",
    "pattern3 = \"aaaa\"\n",
    "schedule3 = \"rock jazz jazz rock\"\n",
    "\n",
    "print(schedule_pattern(pattern1, schedule1))\n",
    "print(schedule_pattern(pattern2, schedule2))\n",
    "print(schedule_pattern(pattern3, schedule3))"
   ]
  },
  {
   "cell_type": "markdown",
   "metadata": {},
   "source": [
    "## Problem 12: Sort the Performers\n",
    "You are given an array of strings performer_names, and an array performance_times that consists of distinct positive integers representing the performance durations in minutes. Both arrays are of length n.\n",
    "\n",
    "For each index i, performer_names[i] and performance_times[i] denote the name and performance duration of the ith performer.\n",
    "\n",
    "Return performer_names sorted in descending order by the performance durations."
   ]
  },
  {
   "cell_type": "code",
   "execution_count": 171,
   "metadata": {},
   "outputs": [],
   "source": [
    "def sort_performers(performer_names, performance_times):\n",
    "    \"\"\"\n",
    "    :type performer_names: List[str]\n",
    "    :type performance_times: List[int]\n",
    "    :rtype: List[str]\n",
    "    \"\"\"\n",
    "    return [x for _, x in sorted(zip(performance_times, performer_names), reverse=True)]\n",
    "    \n",
    "    "
   ]
  },
  {
   "cell_type": "code",
   "execution_count": null,
   "metadata": {},
   "outputs": [],
   "source": [
    "performer_names1 = [\"Mary\", \"John\", \"Emma\"]\n",
    "performance_times1 = [180, 165, 170]\n",
    "\n",
    "performer_names2 = [\"Alice\", \"Bob\", \"Bob\"]\n",
    "performance_times2 = [155, 185, 150]\n",
    "\n",
    "print(sort_performers(performer_names1, performance_times1))\n",
    "print(sort_performers(performer_names2, performance_times2))"
   ]
  },
  {
   "cell_type": "markdown",
   "metadata": {},
   "source": [
    "# <h1 style=\"color: blue;\">Session 1: Standard Problem Set Version 2</h1>"
   ]
  },
  {
   "cell_type": "markdown",
   "metadata": {},
   "source": [
    "## Problem 1: Space Crew\n",
    "Given two lists of length n, crew and position, map the space station crew to their position on board the international space station.\n",
    "\n",
    "Each crew member crew[i] has job position[i] on board, where i <= 0 < n and len(crew) == len(position).\n",
    "\n",
    "Hint: Introduction to dictionaries"
   ]
  },
  {
   "cell_type": "code",
   "execution_count": 3,
   "metadata": {},
   "outputs": [],
   "source": [
    "def space_crew(crew, position):\n",
    "    return dict(zip(crew, position))"
   ]
  },
  {
   "cell_type": "code",
   "execution_count": null,
   "metadata": {},
   "outputs": [],
   "source": [
    "exp70_crew = [\n",
    "    \"Andreas Mogensen\",\n",
    "    \"Jasmin Moghbeli\",\n",
    "    \"Satoshi Furukawa\",\n",
    "    \"Loral O'Hara\",\n",
    "    \"Konstantin Borisov\",\n",
    "]\n",
    "exp70_positions = [\n",
    "    \"Commander\",\n",
    "    \"Flight Engineer\",\n",
    "    \"Flight Engineer\",\n",
    "    \" Flight Engineer\",\n",
    "    \"Flight Engineer\",\n",
    "]\n",
    "\n",
    "ax3_crew = [\n",
    "    \"Michael Lopez-Alegria\",\n",
    "    \"Walter Villadei\",\n",
    "    \"Alper Gezeravci\",\n",
    "    \"Marcus Wandt\",\n",
    "]\n",
    "ax3_positions = [\n",
    "    \"Commander\",\n",
    "    \"Mission Pilot\",\n",
    "    \"Mission Specialist\",\n",
    "    \"Mission Specialist\",\n",
    "]\n",
    "\n",
    "print(space_crew(exp70_crew, exp70_positions))\n",
    "print(space_crew(ax3_crew, ax3_positions))"
   ]
  },
  {
   "cell_type": "markdown",
   "metadata": {},
   "source": [
    "## Problem 2: Space Encyclopedia\n",
    "Given a dictionary planets that maps planet names to a dictionary containing the planet's number of moons and orbital period, write a function planet_lookup() that accepts a string planet_name and returns a string in the form Planet <planet_name> has an orbital period of <orbital period> Earth days and has <number of moons> moons. If planet_name is not a key in planets, return \"Sorry, I have no data on that planet.\"."
   ]
  },
  {
   "cell_type": "code",
   "execution_count": 61,
   "metadata": {},
   "outputs": [],
   "source": [
    "def planet_lookup(planetary_info, planet_name):\n",
    "    for p in planetary_info:\n",
    "        if p == planet_name:\n",
    "            return f\"Planet {planet_name} has an orbital period of {planetary_info[planet_name]['Orbital Period']} Earth days and has {planetary_info[planet_name]['Moons']} moons.\"\n",
    "    return \"Sorry, I have no data on that planet.\""
   ]
  },
  {
   "cell_type": "markdown",
   "metadata": {},
   "source": [
    "Planet <planet_name> has an orbital period of <orbital period> Earth days and has <number of moons> moons."
   ]
  },
  {
   "cell_type": "code",
   "execution_count": null,
   "metadata": {},
   "outputs": [],
   "source": [
    "planetary_info = {\n",
    "    \"Mercury\": {\n",
    "        \"Moons\": 0,\n",
    "        \"Orbital Period\": 88\n",
    "    }, \n",
    "    \"Earth\": {\n",
    "        \"Moons\": 1,\n",
    "        \"Orbital Period\": 365.25\n",
    "    },\n",
    "    \"Mars\": {\n",
    "        \"Moons\": 2,\n",
    "        \"Orbital Period\": 687\n",
    "    },\n",
    "    \"Jupiter\": {\n",
    "        \"Moons\": 79,\n",
    "        \"Orbital Period\": 10592\n",
    "    }\n",
    "}\n",
    "\n",
    "print(planet_lookup(planetary_info, \"Jupiter\"))\n",
    "print(planet_lookup(planetary_info, \"Pluto\"))\n"
   ]
  },
  {
   "cell_type": "markdown",
   "metadata": {},
   "source": [
    "## Problem 3: Breathing Room\n",
    "As part of your job as an astronaut, you need to perform routine safety checks. You are given a dictionary oxygen_levels which maps room names to current oxygen levels and two integers min_val and max_val specifying the acceptable range of oxygen levels. Return a list of room names whose values are outside the range defined by min_val and max_val (inclusive)."
   ]
  },
  {
   "cell_type": "code",
   "execution_count": 78,
   "metadata": {},
   "outputs": [],
   "source": [
    "def check_oxygen_levels(oxygen_levels, min_val, max_val):\n",
    "    res = []\n",
    "    for i in oxygen_levels:\n",
    "        if oxygen_levels[i] < min_val or oxygen_levels[i] > max_val:\n",
    "            res.append(i)\n",
    "    return res"
   ]
  },
  {
   "cell_type": "code",
   "execution_count": null,
   "metadata": {},
   "outputs": [],
   "source": [
    "oxygen_levels = {\n",
    "    \"Command Module\": 21,\n",
    "    \"Habitation Module\": 20,\n",
    "    \"Laboratory Module\": 19,\n",
    "    \"Airlock\": 22,\n",
    "    \"Storage Bay\": 18,\n",
    "}\n",
    "\n",
    "min_val = 19\n",
    "max_val = 22\n",
    "\n",
    "print(check_oxygen_levels(oxygen_levels, min_val, max_val))"
   ]
  },
  {
   "cell_type": "markdown",
   "metadata": {},
   "source": [
    "## Problem 4: Experiment Analysis\n",
    "Write a function data_difference() that accepts two dictionaries experiment1 and experiment2 and returns a new dictionary that contains only key-value pairs found exclusively in experiment1 but not in experiment2."
   ]
  },
  {
   "cell_type": "code",
   "execution_count": 101,
   "metadata": {},
   "outputs": [],
   "source": [
    "def data_difference(experiment1, experiment2):\n",
    "    result = {}\n",
    "    for key in experiment1:\n",
    "        if key not in experiment2:\n",
    "            result[key] = experiment1[key]\n",
    "        elif experiment1[key] != experiment2[key]:\n",
    "            result[key] = experiment1[key]\n",
    "    return result"
   ]
  },
  {
   "cell_type": "code",
   "execution_count": null,
   "metadata": {},
   "outputs": [],
   "source": [
    "exp1_data = {\"temperature\": 22, \"pressure\": 101.3, \"humidity\": 45}\n",
    "exp2_data = {\"temperature\": 18, \"pressure\": 101.3, \"radiation\": 0.5}\n",
    "\n",
    "print(data_difference(exp1_data, exp2_data))"
   ]
  },
  {
   "cell_type": "markdown",
   "metadata": {},
   "source": [
    "## Problem 6: Check if the Transmission is Complete\n",
    "Ground control has sent a transmission containing important information. A complete transmission is one where every letter of the English alphabet appears at least once.\n",
    "\n",
    "Given a string `transmission` containing only lowercase English letters, return `true` if the transmission is complete, or `false` otherwise."
   ]
  },
  {
   "cell_type": "code",
   "execution_count": 113,
   "metadata": {},
   "outputs": [],
   "source": [
    "def check_if_complete_transmission(transmission):\n",
    "    \"\"\"\n",
    "    :type transmission: str\n",
    "    :rtype: bool\n",
    "    \"\"\"\n",
    "    if len(transmission) < 26:\n",
    "        return False\n",
    "    return len(set(transmission)) >= 26\n",
    "    "
   ]
  },
  {
   "cell_type": "code",
   "execution_count": null,
   "metadata": {},
   "outputs": [],
   "source": [
    "transmission1 = \"thequickbrownfoxjumpsoverthelazydog\"\n",
    "transmission2 = \"spacetravel\"\n",
    "\n",
    "print(check_if_complete_transmission(transmission1))\n",
    "print(check_if_complete_transmission(transmission2))"
   ]
  },
  {
   "cell_type": "markdown",
   "metadata": {},
   "source": [
    "## Problem 7: Signal Pairs\n",
    "Ground control is analyzing signal patterns received from different probes. You are given a 0-indexed array signals consisting of distinct strings.\n",
    "\n",
    "The string signals[i] can be paired with the string signals[j] if the string signals[i] is equal to the reversed string of signals[j]. 0 <= i < j < signals.length. Return the maximum number of pairs that can be formed from the array signals.\n",
    "\n",
    "Note that each string can belong in at most one pair."
   ]
  },
  {
   "cell_type": "code",
   "execution_count": 129,
   "metadata": {},
   "outputs": [],
   "source": [
    "def max_number_of_string_pairs(signals):\n",
    "    # Initialize a set to keep track of seen strings\n",
    "    seen = set()\n",
    "    # Initialize a counter for the number of pairs\n",
    "    pairs = 0\n",
    "\n",
    "    # Iterate over each string in the signals list\n",
    "    for s in signals:\n",
    "        # Check if the reverse of the current string is already in the seen set\n",
    "        if s[::-1] in seen:\n",
    "            # If it is, increment the pairs counter\n",
    "            pairs += 1\n",
    "            # Remove the reverse string from the seen set as it has been paired\n",
    "            seen.remove(s[::-1])\n",
    "        else:\n",
    "            # If the reverse string is not in the seen set, add the current string to the set\n",
    "            seen.add(s)\n",
    "\n",
    "    # Return the total number of pairs found\n",
    "    return pairs"
   ]
  },
  {
   "cell_type": "code",
   "execution_count": null,
   "metadata": {},
   "outputs": [],
   "source": [
    "signals1 = [\"cd\", \"ac\", \"dc\", \"ca\", \"zz\"]\n",
    "signals2 = [\"ab\", \"ba\", \"cc\"]\n",
    "signals3 = [\"aa\", \"ab\"]\n",
    "\n",
    "print(max_number_of_string_pairs(signals1))\n",
    "print(max_number_of_string_pairs(signals2))\n",
    "print(max_number_of_string_pairs(signals3))"
   ]
  },
  {
   "cell_type": "markdown",
   "metadata": {},
   "source": [
    "## Problem 8: Find the Difference of Two Signal Arrays\n",
    "You are given two 0-indexed integer arrays signals1 and signals2, representing signal data from two different probes. Return a list answer of size 2 where:\n",
    "\n",
    "answer[0] is a list of all distinct integers in signals1 which are not present in signals2.\n",
    "answer[1] is a list of all distinct integers in signals2 which are not present in signals1.\n",
    "Note that the integers in the lists may be returned in any order.\n",
    "\n",
    "Below is the pseudocode for the problem. Implement this in Python and explain your implementation step-by-step."
   ]
  },
  {
   "cell_type": "code",
   "execution_count": null,
   "metadata": {},
   "outputs": [],
   "source": [
    "def find_difference(signals1, signals2):\n",
    "    pass"
   ]
  },
  {
   "cell_type": "markdown",
   "metadata": {},
   "source": [
    "# <h1 style=\"color: red;\">Session 1: Advanced Problem Set Version 1</h1>"
   ]
  },
  {
   "cell_type": "markdown",
   "metadata": {},
   "source": [
    "## Problem 1: Counting Treasure\n",
    "Captain Blackbeard has a treasure map with several clues that point to different locations on an island. Each clue is associated with a specific location and the number of treasures buried there. Given a dictionary `treasure_map` where keys are location names and values are integers representing the number of treasures buried at those locations, write a function `total_treasures()` that returns the total number of treasures buried on the island."
   ]
  },
  {
   "cell_type": "code",
   "execution_count": 252,
   "metadata": {},
   "outputs": [],
   "source": [
    "def total_treasure(treasure_map):\n",
    "    return sum(treasure_map.values())\n"
   ]
  },
  {
   "cell_type": "code",
   "execution_count": 254,
   "metadata": {},
   "outputs": [
    {
     "name": "stdout",
     "output_type": "stream",
     "text": [
      "15\n",
      "50\n"
     ]
    }
   ],
   "source": [
    "treasure_map1 = {\"Cove\": 3, \"Beach\": 7, \"Forest\": 5}\n",
    "\n",
    "treasure_map2 = {\"Shipwreck\": 10, \"Cave\": 20, \"Lagoon\": 15, \"Island Peak\": 5}\n",
    "\n",
    "print(total_treasure(treasure_map1))\n",
    "print(total_treasure(treasure_map2))"
   ]
  },
  {
   "cell_type": "code",
   "execution_count": null,
   "metadata": {},
   "outputs": [],
   "source": []
  },
  {
   "cell_type": "markdown",
   "metadata": {},
   "source": [
    "## Problem 2: Pirate Message Check\n",
    "Taken captive, Captain Anne Bonny has been smuggled a secret message from her crew. She will know she can trust the message if it contains all of the letters in the alphabet. Given a string message containing only lowercase English letters and whitespace, write a function can_trust_message() that returns True if the message contains every letter of the English alphabet at least once, and False otherwise."
   ]
  },
  {
   "cell_type": "code",
   "execution_count": 257,
   "metadata": {},
   "outputs": [],
   "source": [
    "def can_trust_message(message):\n",
    "    alpha = set('abcdefghijklmnopqrstuvwxyz')\n",
    "    msg = message.replace(\" \", \"\")\n",
    "    \n",
    "    return alpha.issubset(msg)\n",
    "        \n",
    "    "
   ]
  },
  {
   "cell_type": "code",
   "execution_count": 258,
   "metadata": {},
   "outputs": [
    {
     "name": "stdout",
     "output_type": "stream",
     "text": [
      "True\n",
      "False\n"
     ]
    }
   ],
   "source": [
    "message1 = \"sphinx of black quartz judge my vow\"\n",
    "message2 = \"trust me\"\n",
    "\n",
    "print(can_trust_message(message1))\n",
    "print(can_trust_message(message2))"
   ]
  },
  {
   "cell_type": "markdown",
   "metadata": {},
   "source": [
    "## Problem 3: Find All Duplicate Treasure Chests in an Array\n",
    "Captain Blackbeard has an integer array chests of length n where all the integers in `chests` are in the range `[1, n]` and each integer appears once or twice. Return an array of all the integers that appear twice, representing the treasure chests that have duplicates."
   ]
  },
  {
   "cell_type": "code",
   "execution_count": 164,
   "metadata": {},
   "outputs": [],
   "source": [
    "from collections import Counter\n",
    "\n",
    "# def find_duplicate_chests(chests):\n",
    "#     res = {}\n",
    "#     for chest in chests:\n",
    "#         if chest in res:\n",
    "#             res[chest] +=1\n",
    "#         else:\n",
    "#             res[chest] = 1\n",
    "#     lst = []\n",
    "#     for k, val in res.items():\n",
    "#         if val >= 2:\n",
    "#             lst.append(k)\n",
    "#     return lst\n",
    "\n",
    "\n",
    "def find_duplicate_chests(chests):\n",
    "    counter = Counter(chests)\n",
    "    return [chest for chest, count in counter.items() if count > 1]\n"
   ]
  },
  {
   "cell_type": "code",
   "execution_count": null,
   "metadata": {},
   "outputs": [],
   "source": [
    "chests1 = [4, 3, 2, 7, 8, 2, 3, 1]\n",
    "chests2 = [1, 1, 2]\n",
    "chests3 = [1]\n",
    "\n",
    "print(find_duplicate_chests(chests1))\n",
    "print(find_duplicate_chests(chests2))\n",
    "print(find_duplicate_chests(chests3))"
   ]
  },
  {
   "cell_type": "markdown",
   "metadata": {},
   "source": [
    "Problem 4: Booby Trap\n",
    "Captain Feathersword has found another pirate's buried treasure, but they suspect it's booby-trapped. The treasure chest has a secret code written in pirate language, and Captain Feathersword believes the trap can be disarmed if the code can be balanced. A balanced code is one where the frequency of every letter present in the code is equal. To disable the trap, Captain Feathersword must remove exactly one letter from the message. Help Captain Feathersword determine if it's possible to remove one letter to balance the pirate code.\n",
    "\n",
    "Given a 0-indexed string code consisting of only lowercase English letters, write a function `is_balanced()` that returns `True` if it's possible to remove one letter so that the frequency of all remaining letters is equal, and `False` otherwise."
   ]
  },
  {
   "cell_type": "code",
   "execution_count": 3,
   "metadata": {},
   "outputs": [
    {
     "name": "stdout",
     "output_type": "stream",
     "text": [
      "True\n",
      "True\n",
      "True\n",
      "True\n"
     ]
    }
   ],
   "source": [
    "from collections import Counter\n",
    "\n",
    "\n",
    "def is_balanced(code: str) -> bool:\n",
    "    # Step 1: Count the frequency of each character\n",
    "    char_count = Counter(code)\n",
    "\n",
    "    # Step 2: Count the frequencies of these frequencies\n",
    "    freq_count = Counter(char_count.values())\n",
    "\n",
    "    # If there's only one unique frequency, it's already balanced after removing one letter\n",
    "    if len(freq_count) == 1:\n",
    "        return True  # all frequencies are already equal\n",
    "\n",
    "    # If there are exactly two different frequencies\n",
    "    if len(freq_count) == 2:\n",
    "        freq1, freq2 = freq_count.keys()  # two unique frequencies\n",
    "        count1, count2 = freq_count[freq1], freq_count[freq2]\n",
    "\n",
    "        # Check the two cases:\n",
    "        # Case 1: One frequency is 1 and it occurs exactly once, so we can remove that character\n",
    "        if (freq1 == 1 and count1 == 1) or (freq2 == 1 and count2 == 1):\n",
    "            return True\n",
    "\n",
    "        # Case 2: One frequency is exactly one more than the other, and it occurs exactly once\n",
    "        if abs(freq1 - freq2) == 1:\n",
    "            if (freq1 > freq2 and count1 == 1) or (freq2 > freq1 and count2 == 1):\n",
    "                return True\n",
    "\n",
    "    # If neither of the above conditions hold, we return False\n",
    "    return False\n"
   ]
  },
  {
   "cell_type": "code",
   "execution_count": 4,
   "metadata": {},
   "outputs": [
    {
     "name": "stdout",
     "output_type": "stream",
     "text": [
      "True\n",
      "True\n"
     ]
    }
   ],
   "source": [
    "code1 = \"arghh\"\n",
    "code2 = \"haha\"\n",
    "\n",
    "print(is_balanced(code1))\n",
    "print(is_balanced(code2))"
   ]
  },
  {
   "cell_type": "markdown",
   "metadata": {},
   "source": [
    "## Problem 5: Overflowing With Gold\n",
    "Captain Feathersword and their crew has discovered a list of gold amounts at various hidden locations on an island. Each number on the map corresponds to the amount of gold at a specific location. Captain Feathersword already has plenty of loot, and their ship is nearly full. They want to find two distinct locations on the map such that the sum of the gold amounts at these two locations is exactly equal to the amount of space left on their ship.\n",
    "\n",
    "Given an array of integers gold_amounts representing the amount of gold at each location and an integer target, return the indices of the two locations whose gold amounts add up to the target.\n",
    "\n",
    "Assume that each input has exactly one solution, and you may not use the same location twice. You can return the answer in any order."
   ]
  },
  {
   "cell_type": "code",
   "execution_count": 186,
   "metadata": {},
   "outputs": [],
   "source": [
    "def find_treasure_indices(gold_amounts, target):\n",
    "    freqC = {}\n",
    "    for i in range(len(gold_amounts)):\n",
    "        remaining = target - gold_amounts[i]\n",
    "        if remaining in freqC:\n",
    "            return [freqC[remaining], i]\n",
    "        freqC[gold_amounts[i]] = i\n",
    "    return False\n",
    "    "
   ]
  },
  {
   "cell_type": "code",
   "execution_count": null,
   "metadata": {},
   "outputs": [],
   "source": [
    "gold_amounts1 = [2, 7, 11, 15]\n",
    "target1 = 9\n",
    "\n",
    "gold_amounts2 = [3, 2, 4]\n",
    "target2 = 6\n",
    "\n",
    "gold_amounts3 = [3, 3]\n",
    "target3 = 6\n",
    "\n",
    "print(find_treasure_indices(gold_amounts1, target1))\n",
    "# print(find_treasure_indices(gold_amounts2, target2))\n",
    "# print(find_treasure_indices(gold_amounts3, target3))"
   ]
  },
  {
   "cell_type": "markdown",
   "metadata": {},
   "source": [
    "## Problem 6: Organize the Pirate Crew\n",
    "Captain Blackbeard needs to organize his pirate crew into different groups for a treasure hunt. Each pirate has a unique ID from 0 to n - 1.\n",
    "\n",
    "You are given an integer array group_sizes, where group_sizes[i] is the size of the group that pirate i should be in. For example, if group_sizes[1] = 3, then pirate 1 must be in a group of size 3.\n",
    "\n",
    "Return a list of groups such that each pirate i is in a group of size group_sizes[i].\n",
    "\n",
    "Each pirate should appear in exactly one group, and every pirate must be in a group. If there are multiple answers, return any of them. It is guaranteed that there will be at least one valid solution for the given input.\n"
   ]
  },
  {
   "cell_type": "code",
   "execution_count": 217,
   "metadata": {},
   "outputs": [],
   "source": [
    "from collections import defaultdict\n",
    "\n",
    "# def organize_pirate_crew(group_sizes):\n",
    "#     freqMap = defaultdict(list)\n",
    "\n",
    "#     for idx, value in enumerate(group_sizes):\n",
    "#         freqMap[value].append(idx)\n",
    "\n",
    "#     groups = []\n",
    "#     for val, pirate_group in freqMap.items():\n",
    "#         for i in range(0, len(pirate_group), val):\n",
    "#             groups.append(pirate_group[i:i+val])\n",
    "#     return groups\n",
    "\n",
    "\n",
    "def organize_pirate_crew(group_sizes):\n",
    "    groups = []\n",
    "    freqMap = defaultdict(list)\n",
    "    # keeps track of the pirate index and pirate group\n",
    "    for pirate, pirate_group_size in enumerate(group_sizes):\n",
    "        # adds the corresponding pirate to the group size\n",
    "        freqMap[pirate_group_size].append(pirate)\n",
    "        # if the list of corresponding pirates equals the pirate_group size cap\n",
    "        if len(freqMap[pirate_group_size]) == pirate_group_size:\n",
    "            # we append all the pirates to the groups list\n",
    "            groups.append(freqMap[pirate_group_size])\n",
    "            # we also need to create an empty list for the group size again \n",
    "            freqMap[pirate_group_size] = []\n",
    "            \n",
    "    return groups\n",
    "            "
   ]
  },
  {
   "cell_type": "code",
   "execution_count": null,
   "metadata": {},
   "outputs": [],
   "source": [
    "group_sizes1 = [3, 3, 3, 3, 3, 1, 3]\n",
    "group_sizes2 = [2, 1, 3, 3, 3, 2]\n",
    "\n",
    "print(organize_pirate_crew(group_sizes1))\n",
    "# print(organize_pirate_crew(group_sizes2))"
   ]
  },
  {
   "cell_type": "markdown",
   "metadata": {},
   "source": [
    "## Problem 7: Minimum Number of Steps to Match Treasure Maps\n",
    "Captain Blackbeard has two treasure maps represented by two strings of the same length map1 and map2. In one step, you can choose any character of map2 and replace it with another character.\n",
    "\n",
    "Return the minimum number of steps to make map2 an anagram of map1.\n",
    "\n",
    "An Anagram of a string is a string that contains the same characters with a different (or the same) ordering."
   ]
  },
  {
   "cell_type": "code",
   "execution_count": 237,
   "metadata": {},
   "outputs": [],
   "source": [
    "from collections import Counter\n",
    "\n",
    "def min_steps_to_match_maps(map1, map2):\n",
    "    # create a frequency map of both strings\n",
    "    m1 = Counter(map1)\n",
    "    m2 = Counter(map2)\n",
    "    # use a counter to keep track of the steps\n",
    "    steps = 0\n",
    "    # traverse the frequency map of string 2\n",
    "    for i in m2:\n",
    "        # verify that the char in m2 is in m1\n",
    "        if i in m1:\n",
    "            # if the count of a given char in m2 is greater than m1 count\n",
    "            # we add the difference to the step counter\n",
    "            if m2[i] > m1[i]:\n",
    "                # add the difference to the step counter\n",
    "                steps += m2[i] - m1[i]\n",
    "        else:\n",
    "            # if the char is not in m1 we add the number of frequency occurances to the step counter\n",
    "            steps += m2[i]\n",
    "            \n",
    "    return steps\n",
    "        \n",
    "    \n",
    "        "
   ]
  },
  {
   "cell_type": "code",
   "execution_count": null,
   "metadata": {},
   "outputs": [],
   "source": [
    "map1_1 = \"bab\"\n",
    "map2_1 = \"aba\"\n",
    "map1_2 = \"treasure\"\n",
    "map2_2 = \"huntgold\"\n",
    "map1_3 = \"anagram\"\n",
    "map2_3 = \"mangaar\"\n",
    "\n",
    "print(min_steps_to_match_maps(map1_1, map2_1))\n",
    "print(min_steps_to_match_maps(map1_2, map2_2))\n",
    "print(min_steps_to_match_maps(map1_3, map2_3))"
   ]
  },
  {
   "cell_type": "markdown",
   "metadata": {},
   "source": [
    "## Problem 8: Counting Pirates' Action Minutes\n",
    "Captain Dread is keeping track of the crew's activities using a log. The logs are represented by a 2D integer array `logs` where each `logs[i] = [pirateID, time]` indicates that the pirate with `pirateID` performed an action at the minute time.\n",
    "\n",
    "Multiple pirates can perform actions simultaneously, and a single pirate can perform multiple actions in the same minute.\n",
    "\n",
    "The pirate action minutes (PAM) for a given pirate is defined as the number of unique minutes in which the pirate performed an action. A minute can only be counted once, even if multiple actions occur during it.\n",
    "\n",
    "You are to calculate a 1-indexed array `answer` of size `k` such that, for each `j (1 <= j <= k)`, `answer[j]` is the number of pirates whose PAM equals `j`.\n",
    "\n",
    "Return the array answer as described above."
   ]
  },
  {
   "cell_type": "code",
   "execution_count": 246,
   "metadata": {},
   "outputs": [],
   "source": [
    "def counting_pirates_action_minutes(logs, k):\n",
    "    # Dictionary to track unique minutes for each pirate\n",
    "    pirate_minutes = {}\n",
    "\n",
    "    for log in logs:\n",
    "        pirate_id, time = log\n",
    "        if pirate_id not in pirate_minutes:\n",
    "            pirate_minutes[pirate_id] = set()\n",
    "        pirate_minutes[pirate_id].add(time)\n",
    "\n",
    "    # List to count the number of pirates with a given number of unique minutes\n",
    "    pam_count = [0] * k\n",
    "    for minutes in pirate_minutes.values():\n",
    "        if len(minutes) <= k:\n",
    "            pam_count[len(minutes) - 1] += 1\n",
    "\n",
    "    return pam_count"
   ]
  },
  {
   "cell_type": "code",
   "execution_count": null,
   "metadata": {},
   "outputs": [],
   "source": [
    "logs1 = [[0, 5], [1, 2], [0, 2], [0, 5], [1, 3]]\n",
    "k1 = 5\n",
    "logs2 = [[1, 1], [2, 2], [2, 3]]\n",
    "k2 = 4\n",
    "\n",
    "print(counting_pirates_action_minutes(logs1, k1))\n",
    "print(counting_pirates_action_minutes(logs2, k2))"
   ]
  },
  {
   "cell_type": "code",
   "execution_count": 261,
   "metadata": {},
   "outputs": [
    {
     "name": "stdout",
     "output_type": "stream",
     "text": [
      "True\n",
      "False\n"
     ]
    },
    {
     "ename": "",
     "evalue": "",
     "output_type": "error",
     "traceback": [
      "\u001b[1;31mThe Kernel crashed while executing code in the current cell or a previous cell. \n",
      "\u001b[1;31mPlease review the code in the cell(s) to identify a possible cause of the failure. \n",
      "\u001b[1;31mClick <a href='https://aka.ms/vscodeJupyterKernelCrash'>here</a> for more info. \n",
      "\u001b[1;31mView Jupyter <a href='command:jupyter.viewOutput'>log</a> for further details."
     ]
    }
   ],
   "source": [
    "def can_trust_message(message):\n",
    "    alphabet = set('abcdefghijklmnopqrstuvwxyz')\n",
    "    msgNospace = message.replace(' ', '')\n",
    "    return alphabet.issubset(msgNospace)\n",
    "\n",
    "message1 = \"sphinx of black quartz judge my vow\"\n",
    "message2 = \"trust me\"\n",
    "\n",
    "print(can_trust_message(message1))\n",
    "print(can_trust_message(message2))"
   ]
  },
  {
   "cell_type": "code",
   "execution_count": null,
   "metadata": {},
   "outputs": [],
   "source": []
  },
  {
   "cell_type": "markdown",
   "metadata": {},
   "source": [
    "# <h1 style=\"color: red;\">Session 1: Advanced Problem Set Version 2</h1>"
   ]
  },
  {
   "cell_type": "markdown",
   "metadata": {},
   "source": [
    "## Problem 1: The Library of Alexandria\n",
    "In the ancient Library of Alexandria, a temporal rift has scattered several important scrolls across different rooms. You are given a dictionary library_catalog that maps room names to the number of scrolls that room should have and a second dictionary actual_distribution that maps room names to the number of scrolls found in that room after the temporal rift.\n",
    "\n",
    "Write a function analyze_library() that determines if any room has more or fewer scrolls than it should. The function should return a dictionary where the keys are the room names and the values are the differences in the number of scrolls (actual number of scrolls - expected number of scrolls). You must loop over the dictionaries to compute the differences."
   ]
  },
  {
   "cell_type": "code",
   "execution_count": 29,
   "metadata": {},
   "outputs": [],
   "source": [
    "from collections import Counter\n",
    "def analyze_library(library_catalog, actual_distribution):\n",
    "    libCat = Counter(library_catalog)\n",
    "    actDis = Counter(actual_distribution)\n",
    "    res = {}\n",
    "    for k, v in libCat.items():\n",
    "        if k in actDis:\n",
    "            res[k] = actDis[k] - v\n",
    "        else:\n",
    "            res[k] = v\n",
    "    return res"
   ]
  },
  {
   "cell_type": "code",
   "execution_count": 30,
   "metadata": {},
   "outputs": [
    {
     "name": "stdout",
     "output_type": "stream",
     "text": [
      "{'Room A': 0, 'Room B': -10, 'Room C': 10, 'Room D': 0}\n"
     ]
    }
   ],
   "source": [
    "library_catalog = {\"Room A\": 150, \"Room B\": 200, \"Room C\": 250, \"Room D\": 300}\n",
    "\n",
    "actual_distribution = {\"Room A\": 150, \"Room B\": 190, \"Room C\": 260, \"Room D\": 300}\n",
    "\n",
    "\n",
    "print(analyze_library(library_catalog, actual_distribution))"
   ]
  },
  {
   "cell_type": "markdown",
   "metadata": {},
   "source": [
    "## Problem 2: Grecian Artifacts\n",
    "You've spent your last few trips exploring different periods of Ancient Greece. During your travels, you discover several interesting artifacts. Some artifacts appear in multiple time periods, while others in just one.\n",
    "\n",
    "You are given two lists of strings artifacts1 and artifacts2 representing the artifacts found in two different time periods. Write a function find_common_artifacts() that returns a list of artifacts common to both time periods."
   ]
  },
  {
   "cell_type": "code",
   "execution_count": 35,
   "metadata": {},
   "outputs": [],
   "source": [
    "def find_common_artifacts(artifacts1, artifacts2):\n",
    "    lst3 = []\n",
    "    for i in artifacts1:\n",
    "        if i in artifacts2:\n",
    "            lst3.append(i)\n",
    "            \n",
    "    return lst3"
   ]
  },
  {
   "cell_type": "code",
   "execution_count": 36,
   "metadata": {},
   "outputs": [
    {
     "name": "stdout",
     "output_type": "stream",
     "text": [
      "['Golden Vase', 'Bronze Shield']\n"
     ]
    }
   ],
   "source": [
    "artifacts1 = [\"Statue of Zeus\", \"Golden Vase\", \"Bronze Shield\"]\n",
    "artifacts2 = [\"Golden Vase\", \"Silver Sword\", \"Bronze Shield\"]\n",
    "\n",
    "print(find_common_artifacts(artifacts1, artifacts2))"
   ]
  },
  {
   "cell_type": "markdown",
   "metadata": {},
   "source": [
    "## Problem 3: Souvenir Declutter\n",
    "As a time traveler, you've collected a mountain of souvenirs over the course of your travels. You're running out of room to store them all and need to declutter. Given a list of strings souvenirs and a integer threshold, declutter your souvenirs by writing a function declutter() that returns a list of souvenirs strictly below threshold."
   ]
  },
  {
   "cell_type": "code",
   "execution_count": 52,
   "metadata": {},
   "outputs": [],
   "source": [
    "def declutter(souvenirs, threshold):\n",
    "    res = Counter(souvenirs)\n",
    "    lst = []\n",
    "    for souv, count in res.items():\n",
    "        if count < threshold:\n",
    "            lst.append(souv)\n",
    "    return lst"
   ]
  },
  {
   "cell_type": "code",
   "execution_count": 54,
   "metadata": {},
   "outputs": [
    {
     "name": "stdout",
     "output_type": "stream",
     "text": [
      "['alien egg', 'map', 'statue']\n"
     ]
    }
   ],
   "source": [
    "souvenirs1 = [\"coin\", \"alien egg\", \"coin\", \"coin\", \"map\", \"map\", \"statue\"]\n",
    "threshold1 = 3\n",
    "print(declutter(souvenirs1, threshold1))\n",
    "\n",
    "souvenirs2 = [\"postcard\", \"postcard\", \"postcard\", \"sword\"]\n",
    "threshold = 2"
   ]
  },
  {
   "cell_type": "markdown",
   "metadata": {},
   "source": [
    "## Problem 4: Time Portals\n",
    "In your time travel adventures, you are given an array of digit strings portals and a digit string destination. Return the number of pairs of indices (i, j) (where i != j) such that the concatenation of portals[i] + portals[j] equals destination.\n",
    "\n",
    "Note: For index values i and j, the pairs (i, j) and (j, i) are considered different - order matters."
   ]
  },
  {
   "cell_type": "code",
   "execution_count": 77,
   "metadata": {},
   "outputs": [
    {
     "name": "stdout",
     "output_type": "stream",
     "text": [
      "4\n"
     ]
    }
   ],
   "source": [
    "from collections import Counter\n",
    "def num_of_time_portals(portals, destination):\n",
    "    freqC = Counter(portals)\n",
    "    validPairs = 0\n",
    "    for portal in portals:\n",
    "        remainingStr = destination[len(portal):]\n",
    "        \n",
    "        if remainingStr in freqC:\n",
    "            if portal == remainingStr:\n",
    "                validPairs += freqC[remainingStr] -1\n",
    "            else:\n",
    "                validPairs += freqC[remainingStr]\n",
    "    return validPairs\n",
    "\n",
    "\n",
    "# Example Test Case:\n",
    "portals1 = [\"777\", \"7\", \"77\", \"77\"]\n",
    "print(num_of_time_portals(portals1, \"777\"))  # Expected output: 4"
   ]
  },
  {
   "cell_type": "code",
   "execution_count": 78,
   "metadata": {},
   "outputs": [
    {
     "name": "stdout",
     "output_type": "stream",
     "text": [
      "4\n",
      "2\n",
      "6\n"
     ]
    }
   ],
   "source": [
    "portals1 = [\"777\", \"7\", \"77\", \"77\"]\n",
    "destination1 = \"7777\"\n",
    "portals2 = [\"123\", \"4\", \"12\", \"34\"]\n",
    "destination2 = \"1234\"\n",
    "portals3 = [\"1\", \"1\", \"1\"]\n",
    "destination3 = \"11\"\n",
    "\n",
    "print(num_of_time_portals(portals1, destination1))\n",
    "print(num_of_time_portals(portals2, destination2))\n",
    "print(num_of_time_portals(portals3, destination3))"
   ]
  },
  {
   "cell_type": "markdown",
   "metadata": {},
   "source": [
    "## Problem 5: Detect Temporal Anomaly\n",
    "As a time traveler, you have recorded the occurrences of specific events at different time points. You suspect that some events might be occurring too frequently within short time spans, indicating potential temporal anomalies. Given an array time_points where each element represents an event ID at a particular time point, and an integer k, determine if there are two distinct time points i and j such that time_points[i] == time_points[j] and the absolute difference between i and j is at most k.\n",
    "\n",
    "Note: The indices must be unique, but not the values i and j themselves."
   ]
  },
  {
   "cell_type": "code",
   "execution_count": 103,
   "metadata": {},
   "outputs": [],
   "source": [
    "def detect_temporal_anomaly(time_points, k):\n",
    "    # keep track of all unique events\n",
    "    seen = {}\n",
    "    # keep track of idx and event value\n",
    "    for idx, event in enumerate(time_points):\n",
    "        # if event is in seen and is within the time limit of k\n",
    "        if event in seen and abs(idx - seen[event]) <= k:\n",
    "            return True\n",
    "        else:\n",
    "            # add the event to the seen dictionary\n",
    "            seen[event] = idx\n",
    "    return False"
   ]
  },
  {
   "cell_type": "code",
   "execution_count": 104,
   "metadata": {},
   "outputs": [
    {
     "name": "stdout",
     "output_type": "stream",
     "text": [
      "True\n",
      "True\n",
      "False\n"
     ]
    }
   ],
   "source": [
    "time_points1 = [1, 2, 3, 1]\n",
    "k1 = 3\n",
    "\n",
    "time_points2 = [1, 0, 1, 1]\n",
    "k2 = 1\n",
    "\n",
    "time_points3 = [1, 2, 3, 1, 2, 3]\n",
    "k3 = 2\n",
    "\n",
    "print(detect_temporal_anomaly(time_points1, k1))\n",
    "print(detect_temporal_anomaly(time_points2, k2))\n",
    "print(detect_temporal_anomaly(time_points3, k3))\n",
    "# True\n",
    "# True\n",
    "# False"
   ]
  },
  {
   "cell_type": "markdown",
   "metadata": {},
   "source": [
    "## Problem 6: Find Travelers with Zero or One Temporal Anomalies\n",
    "\n",
    "In your time travel adventures, you are given an integer array `anomalies` where `anomalies[i] = [traveleri, anomalyi]` indicates that the traveler `traveleri` caused a temporal anomaly `anomalyi`.\n",
    "\n",
    "Return a list `answer` of size 2 where:\n",
    "\n",
    "- `answer[0]` is a list of all travelers that have not caused any anomalies.\n",
    "- `answer[1]` is a list of all travelers that have caused exactly one anomaly.\n",
    "\n",
    "The values in the two lists should be returned in increasing order.\n",
    "\n",
    "Note: You should only consider the travelers that have experienced at least one anomaly"
   ]
  },
  {
   "cell_type": "code",
   "execution_count": 130,
   "metadata": {},
   "outputs": [],
   "source": [
    "def find_travelers(anomalies):\n",
    "    anomCount = {}\n",
    "    for t, a in anomalies:\n",
    "        if t in anomCount:\n",
    "            anomCount[t] +=1\n",
    "        else:\n",
    "            anomCount[t] = 1\n",
    "    \n",
    "    noAnom = []\n",
    "    oneAnom = []\n",
    "    for traveler, count in anomCount.items():\n",
    "        if count ==1:\n",
    "            oneAnom.append(traveler)\n",
    "        elif count == 0:\n",
    "            oneAnom.append(traveler)\n",
    "    noAnom.sort()\n",
    "    oneAnom.sort()\n",
    "    return[noAnom, oneAnom]"
   ]
  },
  {
   "cell_type": "code",
   "execution_count": 131,
   "metadata": {},
   "outputs": [
    {
     "name": "stdout",
     "output_type": "stream",
     "text": [
      "[[], [1, 2, 3]]\n",
      "[[], [1, 2, 5, 6]]\n"
     ]
    }
   ],
   "source": [
    "anomalies1 = [\n",
    "    [1, 3],\n",
    "    [2, 3],\n",
    "    [3, 6],\n",
    "    [5, 6],\n",
    "    [5, 7],\n",
    "    [4, 5],\n",
    "    [4, 8],\n",
    "    [4, 9],\n",
    "    [10, 4],\n",
    "    [10, 9],\n",
    "]\n",
    "anomalies2 = [[2, 3], [1, 3], [5, 4], [6, 4]]\n",
    "\n",
    "print(find_travelers(anomalies1))\n",
    "print(find_travelers(anomalies2))"
   ]
  },
  {
   "cell_type": "markdown",
   "metadata": {},
   "source": [
    "## Problem 7: Lingual Frequencies\n",
    "As a time traveling linguist, you are analyzing texts written in an ancient script. However, some words in the text are illegible and can't be deciphered. Write a function find_most_frequent_word() that accepts a string text and a list of illegible words illegibles and returns the most frequent word in text that is not an illegible word."
   ]
  },
  {
   "cell_type": "code",
   "execution_count": 149,
   "metadata": {},
   "outputs": [],
   "source": [
    "\n",
    "import re\n",
    "def find_most_frequent_word(text, illegibles):\n",
    "    if not illegibles:\n",
    "        text = re.sub(r'[^a-zA-Z0-9]', '', text)\n",
    "        return text\n",
    "    "
   ]
  },
  {
   "cell_type": "code",
   "execution_count": 150,
   "metadata": {},
   "outputs": [
    {
     "name": "stdout",
     "output_type": "stream",
     "text": [
      "a\n",
      "None\n"
     ]
    }
   ],
   "source": [
    "paragraph1 = \"a.\"\n",
    "illegibles1 = []\n",
    "print(find_most_frequent_word(paragraph1, illegibles1))\n",
    "\n",
    "paragraph2 = \"Bob hit a ball, the hit BALL flew far after it was hit.\"\n",
    "illegibles2 = [\"hit\"]\n",
    "print(find_most_frequent_word(paragraph2, illegibles2))"
   ]
  },
  {
   "cell_type": "markdown",
   "metadata": {},
   "source": [
    "a\n",
    "\n",
    "ball\n",
    "Example 2 Explanation:\n",
    "\"hit\" occurs 3 times, but it is an unknown word.\n",
    "\"ball\" occurs twice (and no other word does), so it is the most frequent legible word in the paragraph. \n",
    "Note that words in the paragraph are not case sensitive,\n",
    "that punctuation is ignored (even if adjacent to words, such as \"ball,\"), \n",
    "and that \"hit\" isn't the answer even though it occurs more because it is illegible."
   ]
  },
  {
   "cell_type": "markdown",
   "metadata": {},
   "source": [
    "## Problem 8: Time Portal Usage\n",
    "In your time travel adventures, you have been collecting data on the usage of different time portals by various travelers. The data is represented by an array usage_records, where usage_records[i] = [traveler_name, portal_number, time_used] indicates that the traveler traveler_name used the portal portal_number at the time time_used.\n",
    "\n",
    "Return the adventure's \"display table\". The \"display table\" is a table whose row entries denote how many times each portal was used at each specific time. The first column is the portal number and the remaining columns correspond to each unique time in chronological order. The first row should be a header whose first column is \"Portal\", followed by the times in chronological order. Note that the traveler names are not part of the table. Additionally, the rows should be sorted in numerically increasing order."
   ]
  },
  {
   "cell_type": "code",
   "execution_count": null,
   "metadata": {},
   "outputs": [],
   "source": [
    "def display_time_portal_usage(usage_records):\n",
    "    pass"
   ]
  },
  {
   "cell_type": "code",
   "execution_count": null,
   "metadata": {},
   "outputs": [],
   "source": [
    "usage_records1 = [\n",
    "    [\"David\", \"3\", \"10:00\"],\n",
    "    [\"Corina\", \"10\", \"10:15\"],\n",
    "    [\"David\", \"3\", \"10:30\"],\n",
    "    [\"Carla\", \"5\", \"11:00\"],\n",
    "    [\"Carla\", \"5\", \"10:00\"],\n",
    "    [\"Rous\", \"3\", \"10:00\"],\n",
    "]\n",
    "usage_records2 = [\n",
    "    [\"James\", \"12\", \"11:00\"],\n",
    "    [\"Ratesh\", \"12\", \"11:00\"],\n",
    "    [\"Amadeus\", \"12\", \"11:00\"],\n",
    "    [\"Adam\", \"1\", \"09:00\"],\n",
    "    [\"Brianna\", \"1\", \"09:00\"],\n",
    "]\n",
    "usage_records3 = [\n",
    "    [\"Laura\", \"2\", \"08:00\"],\n",
    "    [\"Jhon\", \"2\", \"08:15\"],\n",
    "    [\"Melissa\", \"2\", \"08:30\"],\n",
    "]\n",
    "\n",
    "print(display_time_portal_usage(usage_records1))\n",
    "print(display_time_portal_usage(usage_records2))\n",
    "print(display_time_portal_usage(usage_records3))"
   ]
  },
  {
   "cell_type": "markdown",
   "metadata": {},
   "source": [
    "- [['Portal','10:00','10:15','10:30','11:00'],['3','2','0','1','0'],['5','1','0','0','1'],\n",
    " ['10','0','1','0','0']]\n",
    "- [['Portal','09:00','11:00'],['1','2','0'],['12','0','3']]\n",
    "- [['Portal','08:00','08:15','08:30'],['2','1','1','1']]"
   ]
  },
  {
   "cell_type": "markdown",
   "metadata": {},
   "source": [
    "# <h1 style=\"color: purple;\">Session 2: Standard Problem Set Version 1</h1>"
   ]
  },
  {
   "cell_type": "markdown",
   "metadata": {},
   "source": [
    "## Problem 1: Most Endangered Species\n",
    "Imagine you are working on a wildlife conservation database. Write a function named most_endangered() that returns the species with the highest conservation priority based on its population.\n",
    "\n",
    "The function should take in a list of dictionaries named species_list as a parameter. Each dictionary represents data associated with a species, including its name, habitat, and wild population. The function should return the name of the species with the lowest population.\n",
    "\n",
    "If there are multiple species with the lowest population, return the species with the lowest index."
   ]
  },
  {
   "cell_type": "markdown",
   "metadata": {},
   "source": [
    "# <h1 style=\"color: purple;\">Session 2: Standard Problem Set Version 2</h1>"
   ]
  },
  {
   "cell_type": "markdown",
   "metadata": {},
   "source": [
    "# <Session style = \"color: green;\" > Session 2: Advanced Problem Set Version 1 </h1>"
   ]
  },
  {
   "cell_type": "markdown",
   "metadata": {},
   "source": [
    "## Problem 1: Balanced Art Collection\n",
    "As the curator of an art gallery, you are organizing a new exhibition. You must ensure the collection of art pieces are balanced to attract the right range of buyers. A balanced collection is one where the difference between the maximum and minimum value of the art pieces is exactly 1.\n",
    "\n",
    "Given an integer array art_pieces representing the value of each art piece, write a function find_balanced_subsequence() that returns the length of the longest balanced subsequence.\n",
    "\n",
    "A subsequence is a sequence derived from the array by deleting some or no elements without changing the order of the remaining elements."
   ]
  },
  {
   "cell_type": "code",
   "execution_count": 205,
   "metadata": {},
   "outputs": [],
   "source": [
    "from collections import Counter\n",
    "\n",
    "def find_balanced_subsequence(art_pieces):\n",
    "    freqC = Counter(art_pieces)\n",
    "    maxCount = 0\n",
    "    for key in freqC:\n",
    "        if key + 1 in freqC:\n",
    "            currMax = freqC[key] + freqC[key + 1]\n",
    "            maxCount = max(currMax, maxCount)\n",
    "    return maxCount"
   ]
  },
  {
   "cell_type": "code",
   "execution_count": 206,
   "metadata": {},
   "outputs": [
    {
     "name": "stdout",
     "output_type": "stream",
     "text": [
      "5\n",
      "2\n",
      "0\n"
     ]
    }
   ],
   "source": [
    "art_pieces1 = [1, 3, 2, 2, 5, 2, 3, 7]\n",
    "art_pieces2 = [1, 2, 3, 4]\n",
    "art_pieces3 = [1, 1, 1, 1]\n",
    "\n",
    "print(find_balanced_subsequence(art_pieces1))\n",
    "print(find_balanced_subsequence(art_pieces2))\n",
    "print(find_balanced_subsequence(art_pieces3))\n",
    "# 5\n",
    "# Example 1 Explanation:  The longest balanced subsequence is [3,2,2,2,3].\n",
    "\n",
    "# Ex 2\n",
    "# 2\n",
    "# Ex 3\n",
    "# 0"
   ]
  },
  {
   "cell_type": "markdown",
   "metadata": {},
   "source": [
    "## Problem 2: Verifying Authenticity\n",
    "Your art gallery has just been shipped a new collection of numbered art pieces, and you need to verify their authenticity. The collection is considered \"authentic\" if it is a permutation of an array base[n].\n",
    "\n",
    "The base[n] array is defined as [1, 2, ..., n - 1, n, n], meaning it is an array of length n + 1 containing the integers from 1 to n - 1 exactly once, and the integer n twice. For example, base[1] is [1, 1] and base[3] is [1, 2, 3, 3].\n",
    "\n",
    "Write a function is_authentic_collection that accepts an array of integers art_pieces and returns True if the given array is an authentic array, and otherwise returns False.\n",
    "\n",
    "Note: A permutation of integers represents an arrangement of these numbers. For example [3, 2, 1] and [2, 1, 3] are both permutations of the series of numbers 1, 2, and 3."
   ]
  },
  {
   "cell_type": "code",
   "execution_count": 178,
   "metadata": {},
   "outputs": [],
   "source": [
    "def is_authentic_collection(art_pieces):\n",
    "    pass\n"
   ]
  },
  {
   "cell_type": "code",
   "execution_count": 179,
   "metadata": {},
   "outputs": [
    {
     "name": "stdout",
     "output_type": "stream",
     "text": [
      "[(1, 1), (2, 1), (3, 1)]\n",
      "None\n",
      "[(1, 1), (2, 1), (3, 2)]\n",
      "None\n",
      "[(1, 2)]\n",
      "None\n"
     ]
    }
   ],
   "source": [
    "collection1 = [2, 1, 3]\n",
    "collection2 = [1, 3, 3, 2]\n",
    "collection3 = [1, 1]\n",
    "\n",
    "print(is_authentic_collection(collection1))\n",
    "print(is_authentic_collection(collection2))\n",
    "print(is_authentic_collection(collection3))\n",
    "\n",
    "\n",
    "# False\n",
    "# Example 1 Explanation: Since the maximum element of the array is 3, the only \n",
    "# candidate n for which this array could be a permutation of base[n], is n = 3. \n",
    "# However, base[3] has four elements but array collection1 has three. Therefore, \n",
    "# it can not be a permutation of base[3] = [1, 2, 3, 3]. So the answer is false.\n",
    "\n",
    "# True\n",
    "# Example 2 Explanation:  Since the maximum element of the array is 3, the only \n",
    "# candidate n for which this array could be a permutation of base[n], is n = 3. \n",
    "# It can be seen that collection2 is a permutation of base[3] = [1, 2, 3, 3] \n",
    "# (by swapping the second and fourth elements in nums, we reach base[3]).\n",
    "#  Therefore, the answer is true.\n",
    "\n",
    "# True\n",
    "# Example 3 Explanation; Since the maximum element of the array is 1, \n",
    "# the only candidate n for which this array could be a permutation of base[n], \n",
    "# is n = 1. It can be seen that collection3 is a permutation of base[1] = [1, 1].\n",
    "# Therefore, the answer is true."
   ]
  },
  {
   "cell_type": "markdown",
   "metadata": {},
   "source": [
    "## Problem 3: Gallery Wall\n",
    "You are tasked with organizing a collection of art prints represented by a list of strings collection. You need to display these prints on a single wall in a 2D array format that meets the following criteria:\n",
    "\n",
    "1. The 2D array should contain only the elements of the array collection.\n",
    "2. Each row in the 2D array should contain distinct strings.\n",
    "3. The number of rows in the 2D array should be minimal.\n",
    "\n",
    "Return the resulting array. If there are multiple answers, return any of them. Note that the 2D array can have a different number of elements on each row."
   ]
  },
  {
   "cell_type": "code",
   "execution_count": 183,
   "metadata": {},
   "outputs": [],
   "source": [
    "def organize_exhibition(collection):\n",
    "    pass"
   ]
  },
  {
   "cell_type": "code",
   "execution_count": 184,
   "metadata": {},
   "outputs": [
    {
     "name": "stdout",
     "output_type": "stream",
     "text": [
      "None\n",
      "None\n"
     ]
    }
   ],
   "source": [
    "collection1 = [\"O'Keefe\", \"Kahlo\", \"Picasso\", \"O'Keefe\", \"Warhol\", \"Kahlo\", \"O'Keefe\"]\n",
    "collection2 = [\"Kusama\", \"Monet\", \"Ofili\", \"Banksy\"]\n",
    "\n",
    "print(organize_exhibition(collection1))\n",
    "print(organize_exhibition(collection2))\n",
    "\n",
    "# [\n",
    "#   [\"O'Keefe\", \"Kahlo\", \"Picasso\", \"Warhol\"],\n",
    "#   [\"O'Keefe\", \"Kahlo\"],\n",
    "#   [\"O'Keefe\"]\n",
    "# ]\n",
    "# Example 1 Explanation:\n",
    "# All elements of collections were used, and each row of the 2D array contains \n",
    "# distinct strings, so it is a valid answer.\n",
    "# It can be shown that we cannot have less than 3 rows in a valid array.\n",
    "\n",
    "# [[\"Kusama\", \"Monet\", \"Ofili\", \"Banksy\"]]\n",
    "# Example 2 Explanation: \n",
    "# All elements of the array are distinct, so we can keep all of them in the first \n",
    "# row of the 2D array."
   ]
  },
  {
   "cell_type": "markdown",
   "metadata": {},
   "source": [
    "## Problem 4: Gallery Subdomain Traffic\n",
    "Your gallery has been trying to increase it's online presence by hosting several virtual galleries. Each virtual gallery's web traffic is tracked through domain names, where each domain may have subdomains.\n",
    "\n",
    "A domain like \"modern.artmuseum.com\" consists of various subdomains. At the top level, we have \"com\", at the next level, we have \"artmuseum.com\", and at the lowest level, \"modern.artmuseum.com\". When visitors access a domain like \"modern.artmuseum.com\", they also implicitly visit the parent domains \"artmuseum.com\" and \"com\".\n",
    "\n",
    "A count-paired domain is represented as \"rep d1.d2.d3\" where rep is the number of visits to the domain and d1.d2.d3 is the domain itself.\n",
    "\n",
    "- For example, \"9001 modern.artmuseum.com\" indicates that \"modern.artmuseum.com\" was visited 9001 times.\n",
    "\n",
    "Given an array of count-paired domains cpdomains, return an array of the count-paired domains of each subdomain. The order of the output does not matter."
   ]
  },
  {
   "cell_type": "code",
   "execution_count": null,
   "metadata": {},
   "outputs": [],
   "source": [
    "def subdomain_visits(cpdomains):\n",
    "    pass"
   ]
  },
  {
   "cell_type": "code",
   "execution_count": null,
   "metadata": {},
   "outputs": [],
   "source": [
    "cpdomains1 = [\"9001 modern.artmuseum.com\"]\n",
    "cpdomains2 = [\n",
    "    \"900 abstract.gallery.com\",\n",
    "    \"50 impressionism.com\",\n",
    "    \"1 contemporary.gallery.com\",\n",
    "    \"5 medieval.org\",\n",
    "]\n",
    "\n",
    "print(subdomain_visits(cpdomains1))\n",
    "print(subdomain_visits(cpdomains2))\n",
    "\n",
    "# [\"9001 artmuseum.com\", \"9001 modern.artmuseum.com\", \"9001 com\"]\n",
    "\n",
    "# [\n",
    "#     \"901 gallery.com\",\n",
    "#     \"50 impressionism.com\",\n",
    "#     \"900 abstract.gallery.com\",\n",
    "#     \"5 medieval.org\",\n",
    "#     \"5 org\",\n",
    "#     \"1 contemporary.gallery.com\",\n",
    "#     \"951 com\",\n",
    "# ]"
   ]
  },
  {
   "cell_type": "markdown",
   "metadata": {},
   "source": [
    "## Problem 5: Beautiful Collection\n",
    "Your gallery has entered a competition for the most beautiful collection. Your collection is represented by a string collection where each artist in your gallery is represented by a character. The beauty of a collection is defined as the difference in frequencies between the most frequent and least frequent characters.\n",
    "\n",
    "For example, the beauty of \"abaacc\" is 3 - 1 = 2.\n",
    "Given a string collection, write a function beauty_sum() that returns the sum of beauty of all of its substrings (subcollections), not just of the collection itself."
   ]
  },
  {
   "cell_type": "code",
   "execution_count": null,
   "metadata": {},
   "outputs": [],
   "source": [
    "def beauty_sum(collection):\n",
    "    pass"
   ]
  },
  {
   "cell_type": "markdown",
   "metadata": {},
   "source": [
    "# <h1 style=\"color: green;\" >Session 2: Advanced Problem Set Version 2 </h1>"
   ]
  },
  {
   "cell_type": "markdown",
   "metadata": {},
   "source": [
    "## Problem 1: Cook Off\n",
    "In a reality TV show, contestants are challenged to do the best recreation of a meal cooked by an all-star judge using limited resources. The meal they must recreate is represented by the string target_meal. The contestants are given a collection of ingredients represented by the string ingredients.\n",
    "\n",
    "Help the contestants by writing a function max_attempts() that returns the maximum number of copies of target_meal they can create using the given ingredients. You can take some letters from ingredients and rearrange them to form new strings."
   ]
  },
  {
   "cell_type": "code",
   "execution_count": 180,
   "metadata": {},
   "outputs": [],
   "source": [
    "def max_attempts(ingredients, target_meal):\n",
    "    pass"
   ]
  },
  {
   "cell_type": "code",
   "execution_count": 181,
   "metadata": {},
   "outputs": [],
   "source": [
    "ingredients1 = \"aabbbcccc\"\n",
    "target_meal1 = \"abc\"\n",
    "\n",
    "ingredients2 = \"ppppqqqrrr\"\n",
    "target_meal2 = \"pqr\"\n",
    "\n",
    "ingredients3 = \"ingredientsforcooking\"\n",
    "target_meal3 = \"cooking\""
   ]
  },
  {
   "cell_type": "code",
   "execution_count": null,
   "metadata": {},
   "outputs": [],
   "source": []
  }
 ],
 "metadata": {
  "kernelspec": {
   "display_name": "tf2",
   "language": "python",
   "name": "python3"
  },
  "language_info": {
   "codemirror_mode": {
    "name": "ipython",
    "version": 3
   },
   "file_extension": ".py",
   "mimetype": "text/x-python",
   "name": "python",
   "nbconvert_exporter": "python",
   "pygments_lexer": "ipython3",
   "version": "3.10.14"
  }
 },
 "nbformat": 4,
 "nbformat_minor": 2
}
