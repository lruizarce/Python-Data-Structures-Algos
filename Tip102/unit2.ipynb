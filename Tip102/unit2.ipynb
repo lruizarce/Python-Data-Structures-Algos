{
 "cells": [
  {
   "cell_type": "markdown",
   "metadata": {},
   "source": [
    "<h1 style=\"color: green;\">Session 1: Standard Problem Set Version 1</h1>\n",
    "\n"
   ]
  },
  {
   "cell_type": "markdown",
   "metadata": {},
   "source": [
    "<h3 style=\"color: green;\">Problem 1: Festival Lineup</h3>\n",
    "\n",
    "Given two lists of strings `artists` and `set_times` of length `n`, write a function `lineup()` that maps each artist to their set time.\n",
    "\n",
    "An artist `artists[i]` has set time `set_times[i]`. Assume `i <= 0 < n` and `len(artists) == len(set_times)."
   ]
  },
  {
   "cell_type": "code",
   "execution_count": 48,
   "metadata": {},
   "outputs": [],
   "source": [
    "def lineup(artists, set_times):\n",
    "    lineups = dict(zip(artists, set_times))\n",
    "    return lineups\n",
    "                   "
   ]
  },
  {
   "cell_type": "code",
   "execution_count": 49,
   "metadata": {},
   "outputs": [
    {
     "name": "stdout",
     "output_type": "stream",
     "text": [
      "{'Kendrick Lamar': '9:30 PM', 'Chappell Roan': '5:00 PM', 'Mitski': '2:00 PM', 'Rosalia': '7:30 PM'}\n",
      "{}\n"
     ]
    }
   ],
   "source": [
    "artists1 = [\"Kendrick Lamar\", \"Chappell Roan\", \"Mitski\", \"Rosalia\"]\n",
    "set_times1 = [\"9:30 PM\", \"5:00 PM\", \"2:00 PM\", \"7:30 PM\"]\n",
    "\n",
    "artists2 = []\n",
    "set_times2 = []\n",
    "\n",
    "print(lineup(artists1, set_times1))\n",
    "print(lineup(artists2, set_times2))"
   ]
  },
  {
   "cell_type": "markdown",
   "metadata": {},
   "source": [
    "<h3 style=\"color: green;\">Problem 2: Planning App</h3>\n",
    "\n",
    "You are designing an app for your festival to help attendees have the best experience possible! As part of the application, users will be able to easily search their favorite artist and find out the day, time, and stage the artist is playing at. Write a function `get_artist_info()` that accepts a string artist and a dictionary `festival_schedule` mapping artist's names to dictionaries containing the day, time, and stage they are playing on. Return the dictionary containing the information about the given `artist`.\n",
    "\n",
    "If the artist searched for does not exist in `festival_schedule`, return the dictionary` {\"message\": \"Artist not found\"}`."
   ]
  },
  {
   "cell_type": "code",
   "execution_count": 56,
   "metadata": {},
   "outputs": [],
   "source": [
    "def get_artist_info(artist, festival_schedule):\n",
    "    if artist in festival_schedule:\n",
    "        return festival_schedule[str(artist)]\n",
    "    return {'message': 'Artist not found'}\n",
    "        "
   ]
  },
  {
   "cell_type": "code",
   "execution_count": 57,
   "metadata": {},
   "outputs": [
    {
     "name": "stdout",
     "output_type": "stream",
     "text": [
      "{'day': 'Friday', 'time': '9:00 PM', 'stage': 'Main Stage'}\n",
      "{'message': 'Artist not found'}\n"
     ]
    }
   ],
   "source": [
    "festival_schedule = {\n",
    "    \"Blood Orange\": {\"day\": \"Friday\", \"time\": \"9:00 PM\", \"stage\": \"Main Stage\"},\n",
    "    \"Metallica\": {\"day\": \"Saturday\", \"time\": \"8:00 PM\", \"stage\": \"Main Stage\"},\n",
    "    \"Kali Uchis\": {\"day\": \"Sunday\", \"time\": \"7:00 PM\", \"stage\": \"Second Stage\"},\n",
    "    \"Lawrence\": {\"day\": \"Friday\", \"time\": \"6:00 PM\", \"stage\": \"Main Stage\"},\n",
    "}\n",
    "\n",
    "print(get_artist_info(\"Blood Orange\", festival_schedule))\n",
    "print(get_artist_info(\"Taylor Swift\", festival_schedule))"
   ]
  },
  {
   "cell_type": "markdown",
   "metadata": {},
   "source": [
    "<h3 style=\"color: green;\">Problem 3: Ticket Sales</h3>\n",
    "\n",
    "A dictionary ticket_sales is used to map ticket type to number of tickets sold. Return the total number of tickets of all types sold."
   ]
  },
  {
   "cell_type": "code",
   "execution_count": 61,
   "metadata": {},
   "outputs": [],
   "source": [
    "def total_sales(ticket_sales):\n",
    "    total = 0\n",
    "    for val in ticket_sales.values():\n",
    "        total += val\n",
    "    return total"
   ]
  },
  {
   "cell_type": "code",
   "execution_count": 62,
   "metadata": {},
   "outputs": [
    {
     "name": "stdout",
     "output_type": "stream",
     "text": [
      "4500\n"
     ]
    }
   ],
   "source": [
    "ticket_sales = {\"Friday\": 200, \"Saturday\": 1000, \"Sunday\": 800, \"3-Day Pass\": 2500}\n",
    "\n",
    "print(total_sales(ticket_sales))"
   ]
  },
  {
   "cell_type": "markdown",
   "metadata": {},
   "source": [
    "## Problem 4: Scheduling Conflict\n",
    "Demand for your festival has exceeded expectations, so you're expanding the festival to span two different venues. Some artists will perform both venues, while others will perform at just one. To ensure that there are no scheduling conflicts, implement a function identify_conflicts() that accepts two dictionaries venue1_schedule and venue2_schedule each mapping the artists playing at the venue to their set times. Return a dictionary containing the key-value pairs that are the same in each schedule."
   ]
  },
  {
   "cell_type": "code",
   "execution_count": 70,
   "metadata": {},
   "outputs": [],
   "source": [
    "def identify_conflicts(venue1_schedule, venue2_schedule):\n",
    "    conflicts = {}\n",
    "    for artist, time in venue1_schedule.items():\n",
    "        if artist in venue2_schedule and venue2_schedule[artist] == time:\n",
    "            conflicts[artist] = time\n",
    "    return conflicts\n",
    "            \n",
    "        \n",
    "        "
   ]
  },
  {
   "cell_type": "code",
   "execution_count": 71,
   "metadata": {},
   "outputs": [
    {
     "name": "stdout",
     "output_type": "stream",
     "text": [
      "{'Stromae': '9:00 PM', 'HARDY': '7:00 PM'}\n"
     ]
    }
   ],
   "source": [
    "venue1_schedule = {\n",
    "    \"Stromae\": \"9:00 PM\",\n",
    "    \"Janelle Monáe\": \"8:00 PM\",\n",
    "    \"HARDY\": \"7:00 PM\",\n",
    "    \"Bruce Springsteen\": \"6:00 PM\",\n",
    "}\n",
    "\n",
    "venue2_schedule = {\n",
    "    \"Stromae\": \"9:00 PM\",\n",
    "    \"Janelle Monáe\": \"10:30 PM\",\n",
    "    \"HARDY\": \"7:00 PM\",\n",
    "    \"Wizkid\": \"6:00 PM\",\n",
    "}\n",
    "\n",
    "print(identify_conflicts(venue1_schedule, venue2_schedule))"
   ]
  },
  {
   "cell_type": "markdown",
   "metadata": {},
   "source": [
    "## Problem 5: Best Set\n",
    "As part of the festival, attendees cast votes for their favorite set. Given a dictionary votes that maps attendees id numbers to the artist they voted for, return the artist that had the most number of votes. If there is a tie, return any artist with the top number of votes."
   ]
  },
  {
   "cell_type": "code",
   "execution_count": 78,
   "metadata": {},
   "outputs": [],
   "source": [
    "def best_set(votes):\n",
    "    res = {}\n",
    "    for artist in votes.values():\n",
    "        if artist in res:\n",
    "            res[artist] += 1\n",
    "        else:\n",
    "            res[artist] = 1\n",
    "    return max(res, key=res.get)\n"
   ]
  },
  {
   "cell_type": "code",
   "execution_count": 79,
   "metadata": {},
   "outputs": [
    {
     "name": "stdout",
     "output_type": "stream",
     "text": [
      "SZA\n",
      "SZA\n"
     ]
    }
   ],
   "source": [
    "votes1 = {\n",
    "    1234: \"SZA\",\n",
    "    1235: \"Yo-Yo Ma\",\n",
    "    1236: \"Ethel Cain\",\n",
    "    1237: \"Ethel Cain\",\n",
    "    1238: \"SZA\",\n",
    "    1239: \"SZA\",\n",
    "}\n",
    "\n",
    "votes2 = {\n",
    "    1234: \"SZA\",\n",
    "    1235: \"Yo-Yo Ma\",\n",
    "    1236: \"Ethel Cain\",\n",
    "    1237: \"Ethel Cain\",\n",
    "    1238: \"SZA\",\n",
    "}\n",
    "\n",
    "print(best_set(votes1))\n",
    "print(best_set(votes2))"
   ]
  },
  {
   "cell_type": "markdown",
   "metadata": {},
   "source": [
    "## Problem 6: Performances with Maximum Audience\n",
    "You are given an array `audiences` consisting of positive integers representing the audience size for different performances at a music festival.\n",
    "\n",
    "Return the combined audience size of all performances in audiences with the maximum audience size.\n",
    "\n",
    "The audience size of a performance is the number of people who attended that performance."
   ]
  },
  {
   "cell_type": "code",
   "execution_count": 89,
   "metadata": {},
   "outputs": [],
   "source": [
    "def max_audience_performances(audiences):\n",
    "    max_audience = max(audiences)\n",
    "    size_map = {}\n",
    "    \n",
    "    for i in audiences:\n",
    "        if i in size_map:\n",
    "            size_map[i] +=1\n",
    "        else:\n",
    "            size_map[i] =1\n",
    "    return size_map[max_audience] * max_audience\n",
    "\n",
    "            \n",
    "            \n"
   ]
  },
  {
   "cell_type": "code",
   "execution_count": 90,
   "metadata": {},
   "outputs": [
    {
     "name": "stdout",
     "output_type": "stream",
     "text": [
      "250\n",
      "440\n"
     ]
    }
   ],
   "source": [
    "audiences1 = [100, 200, 200, 150, 100, 250]\n",
    "audiences2 = [120, 180, 220, 150, 220]\n",
    "\n",
    "print(max_audience_performances(audiences1))\n",
    "print(max_audience_performances(audiences2))"
   ]
  },
  {
   "cell_type": "markdown",
   "metadata": {},
   "source": [
    "## Problem 7: Performances with Maximum Audience II\n",
    "If you used a dictionary as part of your solution to max_audience_performances() in the previous problem, try reimplementing the function without using a dictionary. If you implemented max_audience_performances() without using a dictionary, try solving the problem with a dictionary.\n",
    "\n",
    "Once you've come up with your second solution, compare the two. Is one solution better than the other? Why or why not?"
   ]
  },
  {
   "cell_type": "code",
   "execution_count": 97,
   "metadata": {},
   "outputs": [],
   "source": [
    "def max_audience_performances(audiences):\n",
    "    maxAudience = max(audiences)\n",
    "    count = 0\n",
    "    for i in audiences:\n",
    "        if i == maxAudience:\n",
    "            count +=1\n",
    "    return maxAudience * count"
   ]
  },
  {
   "cell_type": "code",
   "execution_count": 98,
   "metadata": {},
   "outputs": [
    {
     "name": "stdout",
     "output_type": "stream",
     "text": [
      "250\n",
      "440\n"
     ]
    }
   ],
   "source": [
    "audiences1 = [100, 200, 200, 150, 100, 250]\n",
    "audiences2 = [120, 180, 220, 150, 220]\n",
    "\n",
    "print(max_audience_performances(audiences1))\n",
    "print(max_audience_performances(audiences2))"
   ]
  },
  {
   "cell_type": "markdown",
   "metadata": {},
   "source": [
    "## Problem 8: Popular Song Pairs\n",
    "Given an array of integers popularity_scores representing the popularity scores of songs in a music festival playlist, return the number of popular song pairs.\n",
    "\n",
    "A pair (i, j) is called popular if the songs have the same popularity score and i < j.\n",
    "\n",
    "Hint: number of pairs = (n x n-1)/2"
   ]
  },
  {
   "cell_type": "code",
   "execution_count": 115,
   "metadata": {},
   "outputs": [],
   "source": [
    "def num_popular_pairs(popularity_scores):\n",
    "    res = {}\n",
    "    \n",
    "    for i in range(len(popularity_scores)):\n",
    "        if popularity_scores[i] in res:\n",
    "            res[popularity_scores[i]] += 1\n",
    "        else:\n",
    "            res[popularity_scores[i]] = 1\n",
    "   \n",
    "    same = 0  \n",
    "    for val in res.values():\n",
    "        if val >= 2:\n",
    "            same += (val * (val - 1)) // 2\n",
    "    return same\n"
   ]
  },
  {
   "cell_type": "code",
   "execution_count": 116,
   "metadata": {},
   "outputs": [
    {
     "name": "stdout",
     "output_type": "stream",
     "text": [
      "4\n",
      "6\n",
      "0\n"
     ]
    }
   ],
   "source": [
    "popularity_scores1 = [1, 2, 3, 1, 1, 3]\n",
    "popularity_scores2 = [1, 1, 1, 1]\n",
    "popularity_scores3 = [1, 2, 3]\n",
    "\n",
    "print(num_popular_pairs(popularity_scores1))\n",
    "print(num_popular_pairs(popularity_scores2))\n",
    "print(num_popular_pairs(popularity_scores3))"
   ]
  },
  {
   "cell_type": "markdown",
   "metadata": {},
   "source": [
    "## Problem 9: Stage Arrangement Difference Between Two Performances\n",
    "You are given two strings s and t representing the stage arrangements of performers in two different performances at a music festival, such that every performer occurs at most once in s and t, and t is a permutation of s.\n",
    "\n",
    "The stage arrangement difference between s and t is defined as the sum of the absolute difference between the index of the occurrence of each performer in s and the index of the occurrence of the same performer in t.\n",
    "\n",
    "Return the stage arrangement difference between s and t.\n",
    "\n",
    "A permutation is a rearrangement of a sequence. For example, [3, 1, 2] and [2, 1 , 3] are both permutations of the list [1, 2, 3].\n",
    "\n",
    "Hint: Absolute value function"
   ]
  },
  {
   "cell_type": "code",
   "execution_count": 138,
   "metadata": {},
   "outputs": [],
   "source": [
    "def find_stage_arrangement_difference(s, t):\n",
    "    \"\"\"\n",
    "    :type s: List[str]\n",
    "    :type t: List[str]\n",
    "    :rtype: int\n",
    "    \"\"\"\n",
    "    \n",
    "    p1 = {}\n",
    "    p2 = {}\n",
    "    for i in range(len(s)):\n",
    "        p1[s[i]] = i\n",
    "        p2[t[i]] = i\n",
    "    displacement = 0\n",
    "    for k, val in p1.items():\n",
    "        if k in p2:\n",
    "            displacement += abs(val-p2[k])\n",
    "    return displacement"
   ]
  },
  {
   "cell_type": "code",
   "execution_count": 140,
   "metadata": {},
   "outputs": [
    {
     "name": "stdout",
     "output_type": "stream",
     "text": [
      "2\n",
      "12\n"
     ]
    }
   ],
   "source": [
    "s1 = [\"Alice\", \"Bob\", \"Charlie\"]\n",
    "t1 = [\"Bob\", \"Alice\", \"Charlie\"]\n",
    "s2 = [\"Alice\", \"Bob\", \"Charlie\", \"David\", \"Eve\"]\n",
    "t2 = [\"Eve\", \"David\", \"Bob\", \"Alice\", \"Charlie\"]\n",
    "\n",
    "print(find_stage_arrangement_difference(s1, t1))\n",
    "print(find_stage_arrangement_difference(s2, t2))"
   ]
  },
  {
   "cell_type": "markdown",
   "metadata": {},
   "source": [
    "## Problem 10: VIP Passes and Guests\n",
    "You're given strings vip_passes representing the types of guests that have VIP passes, and guests representing the guests you have at the music festival. Each character in guests is a type of guest you have. You want to know how many of the guests you have are also VIP pass holders.\n",
    "\n",
    "Letters are case sensitive, so \"a\" is considered a different type of guest from \"A\".\n",
    "\n",
    "Here is the pseudocode for the problem. Implement this in Python and explain your implementation step-by-step."
   ]
  },
  {
   "cell_type": "markdown",
   "metadata": {},
   "source": [
    "1. Create an empty set called vip_set.\n",
    "2. For each character in vip_passes, add it to vip_set.\n",
    "3. Initialize a counter variable to 0.\n",
    "4. For each character in guests:\n",
    "   * If the character is in vip_set, increment the count by 1.\n",
    "5. Return the count."
   ]
  },
  {
   "cell_type": "code",
   "execution_count": 146,
   "metadata": {},
   "outputs": [],
   "source": [
    "def num_VIP_guests(vip_passes, guests):\n",
    "    total = 0\n",
    "    for guest in guests:\n",
    "        if guest in vip_passes:\n",
    "            total +=1\n",
    "    return total"
   ]
  },
  {
   "cell_type": "code",
   "execution_count": 147,
   "metadata": {},
   "outputs": [
    {
     "name": "stdout",
     "output_type": "stream",
     "text": [
      "3\n",
      "0\n"
     ]
    }
   ],
   "source": [
    "vip_passes1 = \"aA\"\n",
    "guests1 = \"aAAbbbb\"\n",
    "\n",
    "vip_passes2 = \"z\"\n",
    "guests2 = \"ZZ\"\n",
    "\n",
    "print(num_VIP_guests(vip_passes1, guests1))\n",
    "print(num_VIP_guests(vip_passes2, guests2))"
   ]
  },
  {
   "cell_type": "markdown",
   "metadata": {},
   "source": [
    "## Problem 11: Performer Schedule Pattern\n",
    "Given a string pattern and a string schedule, return True if schedule follows the same pattern. Return False otherwise.\n",
    "\n",
    "Here, \"follow\" means a full match, such that there is a one-to-one correspondence between a letter in pattern and a non-empty word in schedule.\n",
    "\n",
    "You are provided with a partially implemented and buggy version of the solution. Identify and fix the bugs in the code. Then, perform a thorough code review and suggest improvements."
   ]
  },
  {
   "cell_type": "code",
   "execution_count": 168,
   "metadata": {},
   "outputs": [],
   "source": [
    "def schedule_pattern(pattern, schedule):\n",
    "    # Split the schedule string into a list of genres\n",
    "    genres = schedule.split()\n",
    "    \n",
    "    # If the number of genres does not match the length of the pattern, return False\n",
    "    if len(genres) != len(pattern):\n",
    "        return False\n",
    "\n",
    "    # Initialize dictionaries to keep track of the mapping\n",
    "    reference = {}\n",
    "    reverse_reference = {}\n",
    "\n",
    "    # Iterate over the pattern and genres simultaneously\n",
    "    for p, g in zip(pattern, genres):\n",
    "        # Check if the current pattern character is already mapped to a different genre\n",
    "        if p in reference and reference[p] != g:\n",
    "            return False\n",
    "        # Check if the current genre is already mapped to a different pattern character\n",
    "        if g in reverse_reference and reverse_reference[g] != p:\n",
    "            return False\n",
    "        # Map the pattern character to the genre\n",
    "        reference[p] = g\n",
    "        # Map the genre to the pattern character\n",
    "        reverse_reference[g] = p\n",
    "\n",
    "    # If all checks pass, return True\n",
    "    return True\n"
   ]
  },
  {
   "cell_type": "code",
   "execution_count": 169,
   "metadata": {},
   "outputs": [
    {
     "name": "stdout",
     "output_type": "stream",
     "text": [
      "True\n",
      "False\n",
      "False\n"
     ]
    }
   ],
   "source": [
    "pattern1 = \"abba\"\n",
    "schedule1 = \"rock jazz jazz rock\"\n",
    "\n",
    "pattern2 = \"abba\"\n",
    "schedule2 = \"rock jazz jazz blues\"\n",
    "\n",
    "pattern3 = \"aaaa\"\n",
    "schedule3 = \"rock jazz jazz rock\"\n",
    "\n",
    "print(schedule_pattern(pattern1, schedule1))\n",
    "print(schedule_pattern(pattern2, schedule2))\n",
    "print(schedule_pattern(pattern3, schedule3))"
   ]
  },
  {
   "cell_type": "markdown",
   "metadata": {},
   "source": [
    "## Problem 12: Sort the Performers\n",
    "You are given an array of strings performer_names, and an array performance_times that consists of distinct positive integers representing the performance durations in minutes. Both arrays are of length n.\n",
    "\n",
    "For each index i, performer_names[i] and performance_times[i] denote the name and performance duration of the ith performer.\n",
    "\n",
    "Return performer_names sorted in descending order by the performance durations."
   ]
  },
  {
   "cell_type": "code",
   "execution_count": 171,
   "metadata": {},
   "outputs": [],
   "source": [
    "def sort_performers(performer_names, performance_times):\n",
    "    \"\"\"\n",
    "    :type performer_names: List[str]\n",
    "    :type performance_times: List[int]\n",
    "    :rtype: List[str]\n",
    "    \"\"\"\n",
    "    return [x for _, x in sorted(zip(performance_times, performer_names), reverse=True)]\n",
    "    \n",
    "    "
   ]
  },
  {
   "cell_type": "code",
   "execution_count": 172,
   "metadata": {},
   "outputs": [
    {
     "name": "stdout",
     "output_type": "stream",
     "text": [
      "['Mary', 'Emma', 'John']\n",
      "['Bob', 'Alice', 'Bob']\n"
     ]
    }
   ],
   "source": [
    "performer_names1 = [\"Mary\", \"John\", \"Emma\"]\n",
    "performance_times1 = [180, 165, 170]\n",
    "\n",
    "performer_names2 = [\"Alice\", \"Bob\", \"Bob\"]\n",
    "performance_times2 = [155, 185, 150]\n",
    "\n",
    "print(sort_performers(performer_names1, performance_times1))\n",
    "print(sort_performers(performer_names2, performance_times2))"
   ]
  },
  {
   "cell_type": "markdown",
   "metadata": {},
   "source": [
    "# Session 1: Standard Problem Set Version 2"
   ]
  },
  {
   "cell_type": "markdown",
   "metadata": {},
   "source": [
    "## Problem 1: Most Endangered Species\n",
    "Imagine you are working on a wildlife conservation database. Write a function named most_endangered() that returns the species with the highest conservation priority based on its population.\n",
    "\n",
    "The function should take in a list of dictionaries named species_list as a parameter. Each dictionary represents data associated with a species, including its name, habitat, and wild population. The function should return the name of the species with the lowest population.\n",
    "\n",
    "If there are multiple species with the lowest population, return the species with the lowest index."
   ]
  },
  {
   "cell_type": "markdown",
   "metadata": {},
   "source": [
    "# Session 1: Advanced Problem Set Version 1"
   ]
  },
  {
   "cell_type": "markdown",
   "metadata": {},
   "source": [
    "# Session 1: Advanced Problem Set Version 2"
   ]
  },
  {
   "cell_type": "markdown",
   "metadata": {},
   "source": [
    "# Session 2: Standard Problem Set Version 1"
   ]
  },
  {
   "cell_type": "markdown",
   "metadata": {},
   "source": [
    "## Problem 1: Most Endangered Species\n",
    "Imagine you are working on a wildlife conservation database. Write a function named most_endangered() that returns the species with the highest conservation priority based on its population.\n",
    "\n",
    "The function should take in a list of dictionaries named species_list as a parameter. Each dictionary represents data associated with a species, including its name, habitat, and wild population. The function should return the name of the species with the lowest population.\n",
    "\n",
    "If there are multiple species with the lowest population, return the species with the lowest index."
   ]
  },
  {
   "cell_type": "markdown",
   "metadata": {},
   "source": [
    "# Session 2: Standard Problem Set Version 2"
   ]
  },
  {
   "cell_type": "markdown",
   "metadata": {},
   "source": [
    "# Session 2: Advanced Problem Set Version 1"
   ]
  },
  {
   "cell_type": "markdown",
   "metadata": {},
   "source": [
    "# Session 2: Advanced Problem Set Version 2"
   ]
  },
  {
   "cell_type": "code",
   "execution_count": null,
   "metadata": {},
   "outputs": [],
   "source": []
  }
 ],
 "metadata": {
  "kernelspec": {
   "display_name": "tf2",
   "language": "python",
   "name": "python3"
  },
  "language_info": {
   "codemirror_mode": {
    "name": "ipython",
    "version": 3
   },
   "file_extension": ".py",
   "mimetype": "text/x-python",
   "name": "python",
   "nbconvert_exporter": "python",
   "pygments_lexer": "ipython3",
   "version": "3.10.14"
  }
 },
 "nbformat": 4,
 "nbformat_minor": 2
}
