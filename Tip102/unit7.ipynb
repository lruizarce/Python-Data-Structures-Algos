{
 "cells": [
  {
   "cell_type": "markdown",
   "metadata": {},
   "source": [
    "# <h1 style=\"color: green;\">Session 1: Standard Problem Set Version 1</h1>"
   ]
  },
  {
   "cell_type": "markdown",
   "metadata": {},
   "source": [
    "## Problem 1: Counting Iron Man's Suits\n",
    "Tony Stark, aka Iron Man, has designed many different suits over the years. Given a list of strings suits where each string is a suit in Stark's collection, count the total number of suits in the list.\n",
    "\n",
    "Implement the solution iteratively without the use of the len() function.\n",
    "Implement the solution recursively.\n",
    "Discuss: what are the similarities between the two solutions? What are the differences?"
   ]
  },
  {
   "cell_type": "code",
   "execution_count": 23,
   "metadata": {},
   "outputs": [],
   "source": [
    "def count_suits_iterative(suits):\n",
    "    count = len([i for i in suits])\n",
    "    return count\n",
    "\n",
    "def count_suits_recursive(suits):\n",
    "    if not suits:\n",
    "        return 0\n",
    "    return 1 + count_suits_recursive(suits[1:])"
   ]
  },
  {
   "cell_type": "code",
   "execution_count": 24,
   "metadata": {},
   "outputs": [
    {
     "name": "stdout",
     "output_type": "stream",
     "text": [
      "3\n",
      "4\n"
     ]
    }
   ],
   "source": [
    "print(count_suits_iterative([\"Mark I\", \"Mark II\", \"Mark III\"]))\n",
    "print(count_suits_recursive([\"Mark I\", \"Mark I\", \"Mark III\", \"Mark IV\"]))\n",
    "# 3\n",
    "# 4"
   ]
  },
  {
   "cell_type": "markdown",
   "metadata": {},
   "source": [
    "## Problem 2: Collecting Infinity Stones\n",
    "Thanos is collecting Infinity Stones. Given an array of integers stones representing the power of each stone, return the total power using a recursive approach.\n",
    "\n",
    "Evaluate the time complexity of your solution. Define your variables and provide a rationale for why you believe your solution has the stated time complexity."
   ]
  },
  {
   "cell_type": "code",
   "execution_count": 25,
   "metadata": {},
   "outputs": [],
   "source": [
    "def sum_stones(stones):\n",
    "    if not stones:\n",
    "        return 0\n",
    "    return stones[0] + sum_stones(stones[1:])"
   ]
  },
  {
   "cell_type": "code",
   "execution_count": 26,
   "metadata": {},
   "outputs": [
    {
     "name": "stdout",
     "output_type": "stream",
     "text": [
      "105\n",
      "68\n"
     ]
    }
   ],
   "source": [
    "print(sum_stones([5, 10, 15, 20, 25, 30])) # 185\n",
    "\n",
    "print(sum_stones([12, 8, 22, 16, 10])) # 68"
   ]
  },
  {
   "cell_type": "markdown",
   "metadata": {},
   "source": [
    "## Problem 3: Counting Unique Suits\n",
    "Some of Iron Man's suits are duplicates. Given a list of strings suits where each string is a suit in Stark's collection, count the total number of unique suits in the list.\n",
    "\n",
    "Implement the solution iteratively.\n",
    "Implement the solution recursively.\n",
    "Discuss: what are the similarities between the two solutions? What are the differences?\n",
    "Evaluate the time complexity of each solution. Are they the same? Define your variables and provide a rationale for why you believe your solution has the stated time complexity."
   ]
  },
  {
   "cell_type": "code",
   "execution_count": 27,
   "metadata": {},
   "outputs": [],
   "source": [
    "def count_suits_iterative(suits):\n",
    "    return len(set(suits))\n",
    "\n",
    "def count_suits_recursive(suits):\n",
    "    if not suits:\n",
    "        return 0\n",
    "    \n",
    "    first = suits[0]\n",
    "    if first in suits[1:]:\n",
    "        return count_suits_recursive(suits[1:])\n",
    "    return 1 + count_suits_recursive(suits[1:])"
   ]
  },
  {
   "cell_type": "code",
   "execution_count": 28,
   "metadata": {},
   "outputs": [
    {
     "name": "stdout",
     "output_type": "stream",
     "text": [
      "3\n",
      "2\n"
     ]
    }
   ],
   "source": [
    "print(count_suits_iterative([\"Mark I\", \"Mark II\", \"Mark III\"]))\n",
    "print(count_suits_recursive([\"Mark I\", \"Mark I\", \"Mark III\"]))"
   ]
  },
  {
   "cell_type": "markdown",
   "metadata": {},
   "source": [
    "## Problem 4: Calculating Groot's Growth\n",
    "Groot grows according to a pattern similar to the Fibonacci sequence. Given n, find the height of Groot after n months using a recursive method.\n",
    "\n",
    "The Fibonacci numbers, commonly denoted F(n) form a sequence, called the Fibonacci sequence, such that each number is the sum of the two preceding ones, starting from 0 and 1. That is,\n",
    "\n",
    "- F(0) = 0, F(1) = 1\n",
    "- F(n) = F(n - 1) + F(n - 2), for n > 1.\n",
    "- Evaluate the time complexity of your solution. Define your variables and provide a rationale for why you believe your solution has the stated time complexity."
   ]
  },
  {
   "cell_type": "code",
   "execution_count": 29,
   "metadata": {},
   "outputs": [],
   "source": [
    "def fibonacci_growth(n):\n",
    "    if n == 0:\n",
    "        return 0\n",
    "    if n == 1:\n",
    "        return 1\n",
    "    return fibonacci_growth(n-1) + fibonacci_growth(n-2)"
   ]
  },
  {
   "cell_type": "code",
   "execution_count": 30,
   "metadata": {},
   "outputs": [
    {
     "name": "stdout",
     "output_type": "stream",
     "text": [
      "5\n",
      "21\n"
     ]
    }
   ],
   "source": [
    "print(fibonacci_growth(5))\n",
    "print(fibonacci_growth(8))"
   ]
  },
  {
   "cell_type": "markdown",
   "metadata": {},
   "source": [
    "## Problem 5: Calculating the Power of the Fantastic Four\n",
    "The superhero team, The Fantastic Four, are training to increase their power levels. Their power level is represented as a power of 4. Write a recursive function that calculates the power of 4 raised to the nth power to determine their training level.\n",
    "\n",
    "Evaluate the time complexity of your solution. Define your variables and provide a rationale for why you believe your solution has the stated time complexity."
   ]
  },
  {
   "cell_type": "code",
   "execution_count": 37,
   "metadata": {},
   "outputs": [],
   "source": [
    "def power_of_four(n):\n",
    "    if n == 0:\n",
    "        return 1\n",
    "    elif n > 0:\n",
    "        return 4 * power_of_four(n - 1)\n",
    "    else:\n",
    "        return 1 / (4 * power_of_four(-n - 1))\n"
   ]
  },
  {
   "cell_type": "code",
   "execution_count": 38,
   "metadata": {},
   "outputs": [
    {
     "name": "stdout",
     "output_type": "stream",
     "text": [
      "16\n",
      "0.0625\n"
     ]
    }
   ],
   "source": [
    "print(power_of_four(2))\n",
    "print(power_of_four(-2))"
   ]
  },
  {
   "cell_type": "markdown",
   "metadata": {},
   "source": [
    "## Problem 6: Strongest Avenger\n",
    "The Avengers need to determine who is the strongest. Given a list of their strengths, find the maximum strength using a recursive approach without using the max() function.\n",
    "\n",
    "Evaluate the time complexity of your solution. Define your variables and provide a rationale for why you believe your solution has the stated time complexity."
   ]
  },
  {
   "cell_type": "code",
   "execution_count": 41,
   "metadata": {},
   "outputs": [],
   "source": [
    "def strongest_avenger(strengths):\n",
    "    if len(strengths) == 1:\n",
    "        return strengths[0]\n",
    "    \n",
    "    if not strengths:\n",
    "        return 0\n",
    "    \n",
    "    overall = strengths[0]\n",
    "    max_of_rest = strongest_avenger(strengths[1:])\n",
    "    \n",
    "    if overall > max_of_rest:\n",
    "        return overall\n",
    "    return max_of_rest\n",
    "    \n"
   ]
  },
  {
   "cell_type": "code",
   "execution_count": 42,
   "metadata": {},
   "outputs": [
    {
     "name": "stdout",
     "output_type": "stream",
     "text": [
      "100\n",
      "90\n"
     ]
    }
   ],
   "source": [
    "print(strongest_avenger([88, 92, 95, 99, 97, 100, 94]))\n",
    "\n",
    "print(strongest_avenger([50, 75, 85, 60, 90]))\n",
    "# 100\n",
    "# 90"
   ]
  },
  {
   "cell_type": "markdown",
   "metadata": {},
   "source": [
    "## Problem 7: Counting Vibranium Deposits\n",
    "In Wakanda, vibranium is the most precious resource, and it is found in several deposits. Each deposit is represented by a character in a string (e.g., \"V\" for vibranium, \"G\" for gold, etc.)\n",
    "\n",
    "Given a string resources, write a recursive function count_deposits() that returns the total number of distinct vibranium deposits in resources.\n",
    "\n",
    "Evaluate the time complexity of your solution. Define your variables and provide a rationale for why you believe your solution has the stated time complexity."
   ]
  },
  {
   "cell_type": "code",
   "execution_count": 43,
   "metadata": {},
   "outputs": [],
   "source": [
    "def count_deposits(resources):\n",
    "    if not resources:\n",
    "        return 0\n",
    "    \n",
    "    first = resources[0]\n",
    "    if first != 'V':\n",
    "        return count_deposits(resources[1:])\n",
    "    else:\n",
    "        return 1 + count_deposits(resources[1:])"
   ]
  },
  {
   "cell_type": "code",
   "execution_count": 44,
   "metadata": {},
   "outputs": [
    {
     "name": "stdout",
     "output_type": "stream",
     "text": [
      "5\n",
      "2\n"
     ]
    }
   ],
   "source": [
    "print(count_deposits(\"VVVVV\")) # 5\n",
    "print(count_deposits(\"VXVYGA\")) # 2"
   ]
  },
  {
   "cell_type": "markdown",
   "metadata": {},
   "source": [
    "## Problem 8: Merging Missions\n",
    "The Avengers are planning multiple missions, and each mission has a priority level represented as a node in a linked list. You are given the heads of two sorted linked lists, mission1 and mission2, where each node represents a mission with its priority level.\n",
    "\n",
    "Implement a recursive function merge_missions() which merges these two mission lists into one sorted list, ensuring that the combined list maintains the correct order of priorities. The merged list should be made by splicing together the nodes from the first two lists.\n",
    "\n",
    "Return the head of the merged mission linked list."
   ]
  },
  {
   "cell_type": "code",
   "execution_count": 66,
   "metadata": {},
   "outputs": [],
   "source": [
    "class Node:\n",
    "  def __init__(self, value, next=None):\n",
    "      self.value = value\n",
    "      self.next = next\n",
    "\n",
    "# For testing\n",
    "def print_linked_list(head):\n",
    "    current = head\n",
    "    while current:\n",
    "        print(current.value, end=\" -> \" if current.next else \"\\n\")\n",
    "        current = current.next\n",
    "\n",
    "def merge_missions(mission1, mission2):\n",
    "    if not mission1:\n",
    "        return mission2\n",
    "    if not mission2:\n",
    "        return mission1\n",
    "    \n",
    "    if mission1.value <= mission2.value:\n",
    "        mission1.next = merge_missions(mission1.next, mission2)\n",
    "        return mission1\n",
    "    else:\n",
    "        mission2.next = merge_missions(mission2.next, mission1)\n",
    "        return mission2\n",
    "    \n"
   ]
  },
  {
   "cell_type": "code",
   "execution_count": 67,
   "metadata": {},
   "outputs": [
    {
     "name": "stdout",
     "output_type": "stream",
     "text": [
      "1 -> 1 -> 2 -> 3 -> 4 -> 4\n"
     ]
    }
   ],
   "source": [
    "mission1 = Node(1, Node(2, Node(4)))\n",
    "mission2 = Node(1, Node(3, Node(4)))\n",
    "\n",
    "print_linked_list(merge_missions(mission1, mission2))\n",
    "# 1 -> 1 -> 2 -> 3 -> 4 -> 4"
   ]
  },
  {
   "cell_type": "markdown",
   "metadata": {},
   "source": [
    "## Problem 9: Merging Missions II\n",
    "Below is an iterative solution to the merge_missions() function from the previous problem. Compare your recursive solution to the iterative solution below.\n",
    "\n",
    "Discuss with your podmates. Which solution do you prefer?"
   ]
  },
  {
   "cell_type": "code",
   "execution_count": 68,
   "metadata": {},
   "outputs": [],
   "source": [
    "class Node:\n",
    "    def __init__(self, value=0, next=None):\n",
    "        self.value = value\n",
    "        self.next = next\n",
    "\n",
    "# For testing\n",
    "def print_linked_list(head):\n",
    "    current = head\n",
    "    while current:\n",
    "        print(current.value, end=\" -> \" if current.next else \"\\n\")\n",
    "        current = current.next\n",
    "\n",
    "def merge_missions_iterative(mission1, mission2):\n",
    "    temp = Node()  # Temporary node to simplify the merging process\n",
    "    tail = temp\n",
    "\n",
    "    while mission1 and mission2:\n",
    "        if mission1.value < mission2.value:\n",
    "            tail.next = mission1\n",
    "            mission1 = mission1.next\n",
    "        else:\n",
    "            tail.next = mission2\n",
    "            mission2 = mission2.next\n",
    "        tail = tail.next\n",
    "\n",
    "    # Attach the remaining nodes, if any\n",
    "    if mission1:\n",
    "        tail.next = mission1\n",
    "    elif mission2:\n",
    "        tail.next = mission2\n",
    "\n",
    "    return temp.next  # Return the head of the merged linked list"
   ]
  },
  {
   "cell_type": "markdown",
   "metadata": {},
   "source": [
    "# <h1 style=\"color: purple;\">Session 1: Standard Problem Set Version 2</h1>"
   ]
  },
  {
   "cell_type": "markdown",
   "metadata": {},
   "source": [
    "## Problem 1: Calculating Village Size\n",
    "In the kingdom of Codepathia, the queen determines how many resources to distribute to a village based on its class. A village's class is equal to the number of digits in its population. Given an integer population, write a function get_village_class() that returns the number of digits in population.\n",
    "\n",
    "- Implement the solution iteratively.\n",
    "- Implement the solution recursively.\n",
    "- Discuss: what are the similarities between the two solutions? What are the differences?"
   ]
  },
  {
   "cell_type": "code",
   "execution_count": 79,
   "metadata": {},
   "outputs": [],
   "source": [
    "def get_village_class_iterative(population):\n",
    "    count = [i for i in str(population)]\n",
    "    return len(count)\n",
    "    \n",
    "\n",
    "def get_village_class_recursive(population):\n",
    "    if not population:\n",
    "        return 0\n",
    "    return 1 + get_village_class_recursive(str(population)[1:])"
   ]
  },
  {
   "cell_type": "code",
   "execution_count": 80,
   "metadata": {},
   "outputs": [
    {
     "name": "stdout",
     "output_type": "stream",
     "text": [
      "3\n",
      "3\n",
      "1\n",
      "1\n"
     ]
    }
   ],
   "source": [
    "print(get_village_class_iterative(432))\n",
    "print(get_village_class_recursive(432))\n",
    "print(get_village_class_iterative(9))\n",
    "print(get_village_class_recursive(9))\n",
    "# 3\n",
    "# 3\n",
    "# 1\n",
    "# 1"
   ]
  },
  {
   "cell_type": "markdown",
   "metadata": {},
   "source": [
    "## Problem 2: Counting the Castle Walls\n",
    "In a faraway kingdom, a castle is surrounded by multiple defensive walls, where each wall is nested within another. Given a list of lists walls where each list [] represents a wall, write a recursive function count_walls() that returns the total number of walls.\n",
    "\n",
    "Evaluate the time complexity of your solution. Define your variables and provide a rationale for why you believe your solution has the stated time complexity."
   ]
  },
  {
   "cell_type": "code",
   "execution_count": 93,
   "metadata": {},
   "outputs": [],
   "source": [
    "def count_walls(walls):\n",
    "    if not walls:\n",
    "        return 1\n",
    "    return 1 + count_walls(walls[1])\n",
    "        \n",
    "    \n",
    "    "
   ]
  },
  {
   "cell_type": "code",
   "execution_count": 94,
   "metadata": {},
   "outputs": [
    {
     "name": "stdout",
     "output_type": "stream",
     "text": [
      "4\n",
      "1\n"
     ]
    }
   ],
   "source": [
    "walls = [\"outer\", [\"inner\", [\"keep\", []]]]\n",
    "\n",
    "print(count_walls(walls)) # 4\n",
    "print(count_walls([])) # 1"
   ]
  },
  {
   "cell_type": "markdown",
   "metadata": {},
   "source": [
    "## Problem 3: Reversing a Scroll\n",
    "A wizard is deciphering an ancient scroll and needs to reverse the letters in a word to reveal a hidden message. Write a recursive function to reverse the letters in a given scroll and returns the reversed scroll. Assume scroll only contains alphabetic characters.\n",
    "\n",
    "Evaluate the time complexity of your solution. Define your variables and provide a rationale for why you believe your solution has the stated time complexity."
   ]
  },
  {
   "cell_type": "code",
   "execution_count": 101,
   "metadata": {},
   "outputs": [],
   "source": [
    "def reverse_scroll(scroll):\n",
    "    if len(scroll) == 1:\n",
    "        return scroll\n",
    "    return reverse_scroll(scroll[1:]) + scroll[0]\n",
    "    "
   ]
  },
  {
   "cell_type": "code",
   "execution_count": 102,
   "metadata": {},
   "outputs": [
    {
     "name": "stdout",
     "output_type": "stream",
     "text": [
      "magic\n",
      "spell\n"
     ]
    }
   ],
   "source": [
    "print(reverse_scroll(\"cigam\")) # magic\n",
    "print(reverse_scroll(\"lleps\")) # spells"
   ]
  },
  {
   "cell_type": "markdown",
   "metadata": {},
   "source": [
    "## Problem 4: Palindromic Name\n",
    "Queen Ada is superstitious and believes her children will only have good fortune if their name is symmetrical and reads the same forward and backward. Write a recursive function that takes in a string comprised of only lowercase alphabetic characters name and returns True if the name is palindromic and False otherwise.\n",
    "\n",
    "Evaluate the time complexity of your solution. Define your variables and provide a rationale for why you believe your solution has the stated time complexity."
   ]
  },
  {
   "cell_type": "code",
   "execution_count": 109,
   "metadata": {},
   "outputs": [],
   "source": [
    "def is_palindrome(name):\n",
    "    # Base case 1: An empty string or a single character string is a palindrome\n",
    "    if len(name) <= 1:\n",
    "        return True\n",
    "    \n",
    "    # Base case 2: If the first and last characters don't match, it's not a palindrome\n",
    "    if name[0] != name[-1]:\n",
    "        return False\n",
    "    \n",
    "    # Recursive case: Check the substring excluding the first and last characters\n",
    "    return is_palindrome(name[1:-1])"
   ]
  },
  {
   "cell_type": "code",
   "execution_count": 110,
   "metadata": {},
   "outputs": [
    {
     "name": "stdout",
     "output_type": "stream",
     "text": [
      "True\n",
      "False\n",
      "True\n"
     ]
    }
   ],
   "source": [
    "print(is_palindrome(\"eve\")) # T\n",
    "print(is_palindrome(\"ling\")) # F\n",
    "print(is_palindrome(\"\")) # T"
   ]
  },
  {
   "cell_type": "markdown",
   "metadata": {},
   "source": [
    "## Problem 5: Doubling the Power of a Spell\n",
    "The court magician is practicing a spell that doubles its power with each incantation. Given an integer initial_power and a non-negative integer n, write a recursive function that doubles initial_power n times.\n",
    "\n",
    "Evaluate the time complexity of your solution. Define your variables and provide a rationale for why you believe your solution has the stated time complexity."
   ]
  },
  {
   "cell_type": "code",
   "execution_count": 126,
   "metadata": {},
   "outputs": [],
   "source": [
    "def double_power(initial_power, n):\n",
    "    if n == 0:\n",
    "        return initial_power\n",
    "\n",
    "    return 2 * double_power(initial_power, n-1)"
   ]
  },
  {
   "cell_type": "code",
   "execution_count": 127,
   "metadata": {},
   "outputs": [
    {
     "name": "stdout",
     "output_type": "stream",
     "text": [
      "20\n",
      "28\n"
     ]
    }
   ],
   "source": [
    "print(double_power(5, 2))\n",
    "print(double_power(7, 2))\n",
    "# 40\n",
    "# Example 1 Explanation: 5 doubled 3 times: 5 -> 10 -> 20 -> 40\n",
    "\n",
    "# Output: 28\n",
    "# Example 2 Explanation: 7 doubled 2 times: 7 -> 14 -> 28"
   ]
  },
  {
   "cell_type": "markdown",
   "metadata": {},
   "source": [
    "## Problem 6: Checking the Knight's Path\n",
    "A knight is traveling along a path marked by stones, and each stone has a number on it. The knight must check if the numbers on the stones form a strictly increasing sequence. Write a recursive function to determine if the sequence is strictly increasing.\n",
    "\n",
    "Evaluate the time complexity of your solution. Define your variables and provide a rationale for why you believe your solution has the stated time complexity."
   ]
  },
  {
   "cell_type": "code",
   "execution_count": 130,
   "metadata": {},
   "outputs": [],
   "source": [
    "def is_increasing_path(path):\n",
    "    if len(path) <= 1:\n",
    "        return True\n",
    "    if path[0] >= path[1]:\n",
    "        return False\n",
    "    return is_increasing_path(path[1:])"
   ]
  },
  {
   "cell_type": "code",
   "execution_count": 131,
   "metadata": {},
   "outputs": [
    {
     "name": "stdout",
     "output_type": "stream",
     "text": [
      "True\n",
      "True\n"
     ]
    }
   ],
   "source": [
    "print(is_increasing_path([1, 2, 3, 4, 5])) # T\n",
    "\n",
    "print(is_increasing_path([3, 5, 2, 8])) # F"
   ]
  },
  {
   "cell_type": "markdown",
   "metadata": {},
   "source": [
    "## Problem 7: Finding the Longest Winning Streak\n",
    "In the kingdom's grand tournament, knights compete in a series of challenges. A knight's performance in the challenge is represented by a string challenges, where a success is represented by an S and each other outcome (like a draw or loss) is represented by an \"O\". Write a recursive function to find the length of the longest consecutive streak of successful challenges (\"S\").\n",
    "\n",
    "Evaluate the time complexity of your solution. Define your variables and provide a rationale for why you believe your solution has the stated time complexity."
   ]
  },
  {
   "cell_type": "code",
   "execution_count": 136,
   "metadata": {},
   "outputs": [],
   "source": [
    "def longest_streak(frames, current_length=0, max_length=0):\n",
    "    if not frames:\n",
    "        return 0\n",
    "    "
   ]
  },
  {
   "cell_type": "code",
   "execution_count": 137,
   "metadata": {},
   "outputs": [
    {
     "name": "stdout",
     "output_type": "stream",
     "text": [
      "0\n",
      "0\n"
     ]
    }
   ],
   "source": [
    "print(longest_streak(\"SSOSSS\"))\n",
    "\n",
    "print(longest_streak(\"SOSOSOSO\"))"
   ]
  },
  {
   "cell_type": "markdown",
   "metadata": {},
   "source": [
    "# <h1 style=\"color: pink;\">Session 1: Advance Problem Set Version 1</h1>"
   ]
  },
  {
   "cell_type": "markdown",
   "metadata": {},
   "source": [
    "## Problem 1: Counting the Layers of a Sandwich\n",
    "You're working at a deli, and need to count the layers of a sandwich to make sure you made the order correctly. Each layer is represented by a nested list. Given a list of lists sandwich where each list [] represents a sandwich layer, write a recursive function count_layers() that returns the total number of sandwich layers.\n",
    "\n",
    "Evaluate the time and space complexity of your solution. Define your variables and provide a rationale for why you believe your solution has the stated time and space complexity."
   ]
  },
  {
   "cell_type": "code",
   "execution_count": 1,
   "metadata": {},
   "outputs": [],
   "source": [
    "def count_layers(sandwich):\n",
    "    if len(sandwich) == 1:\n",
    "        return 1\n",
    "    else:\n",
    "        return 1 + count_layers(sandwich[1])    \n"
   ]
  },
  {
   "cell_type": "code",
   "execution_count": 2,
   "metadata": {},
   "outputs": [
    {
     "name": "stdout",
     "output_type": "stream",
     "text": [
      "4\n",
      "5\n"
     ]
    }
   ],
   "source": [
    "sandwich1 = [\"bread\", [\"lettuce\", [\"tomato\", [\"bread\"]]]]\n",
    "sandwich2 = [\"bread\", [\"cheese\", [\"ham\", [\"mustard\", [\"bread\"]]]]]\n",
    "\n",
    "print(count_layers(sandwich1))\n",
    "print(count_layers(sandwich2))"
   ]
  },
  {
   "cell_type": "markdown",
   "metadata": {},
   "source": [
    "Example Output:\n",
    "\n",
    "- 4\n",
    "- 5"
   ]
  },
  {
   "cell_type": "markdown",
   "metadata": {},
   "source": [
    "## Problem 2: Reversing Deli Orders\n",
    "The deli counter is busy, and orders have piled up. To serve the last customer first, you need to reverse the order of the deli orders. Given a string orders where each individual order is separated by a single space, write a recursive function reverse_orders() that returns a new string with the orders reversed.\n",
    "\n",
    "Evaluate the time and space complexity of your solution. Define your variables and provide a rationale for why you believe your solution has the stated time and space complexity."
   ]
  },
  {
   "cell_type": "code",
   "execution_count": null,
   "metadata": {},
   "outputs": [],
   "source": [
    "def reverse_orders(orders):\n",
    "    orders.split()\n",
    "    if len(orders) ==1:\n",
    "        return orders\n",
    "    else:\n",
    "        \n",
    "    "
   ]
  },
  {
   "cell_type": "code",
   "execution_count": 15,
   "metadata": {},
   "outputs": [
    {
     "name": "stdout",
     "output_type": "stream",
     "text": [
      "ee\n"
     ]
    }
   ],
   "source": [
    "print(reverse_orders(\"Bagel Sandwich Coffee\"))\n",
    "# Coffee Sandwich Bagel"
   ]
  },
  {
   "cell_type": "markdown",
   "metadata": {},
   "source": [
    "Problem 3: Sharing the Coffee\n",
    "The deli staff is in desperate need of caffeine to keep them going through their shift and has decided to divide the coffee supply equally among themselves. Each batch of coffee is stored in containers of different sizes. Write a recursive function can_split_coffee() that accepts a list of integers coffee representing the volume of each batch of coffee and returns True if the coffee can be split evenly by volume among n staff and False otherwise.\n",
    "\n",
    "Evaluate the time and space complexity of your solution. Define your variables and provide a rationale for why you believe your solution has the stated time and space complexity."
   ]
  },
  {
   "cell_type": "code",
   "execution_count": null,
   "metadata": {},
   "outputs": [],
   "source": [
    "def can_split_coffee(coffee, n):\n",
    "    if len(coffee) == 0:\n",
    "        return True\n",
    "    \n",
    "    if coffee[0] % 2 == 0:\n",
    "        return can_split_coffee(coffee[1:],n)\n",
    "    else:\n",
    "        return False\n"
   ]
  },
  {
   "cell_type": "code",
   "execution_count": 35,
   "metadata": {},
   "outputs": [
    {
     "name": "stdout",
     "output_type": "stream",
     "text": [
      "True\n",
      "False\n"
     ]
    }
   ],
   "source": [
    "print(can_split_coffee([4, 4, 8], 2)) # T\n",
    "print(can_split_coffee([5, 10, 15], 4)) # F"
   ]
  },
  {
   "cell_type": "markdown",
   "metadata": {},
   "source": [
    "## Problem 4: Super Sandwich\n",
    "A regular at the deli has requested a new order made by merging two different sandwiches on the menu together. Given the heads of two linked lists sandwich_a and sandwich_b where each node in the lists contains a spell segment, write a recursive function merge_orders() that merges the two sandwiches together in the pattern:\n",
    "\n",
    "a1 -> b1 -> a2 -> b2 -> a3 -> b3 -> ...\n",
    "\n",
    "Return the head of the merged sandwich.\n",
    "\n",
    "Evaluate the time and space complexity of your solution. Define your variables and provide a rationale for why you believe your solution has the stated time and space complexity."
   ]
  },
  {
   "cell_type": "code",
   "execution_count": null,
   "metadata": {},
   "outputs": [],
   "source": [
    "class Node:\n",
    "    def __init__(self, value, next=None):\n",
    "        self.value = value\n",
    "        self.next = next\n",
    "\n",
    "# For testing\n",
    "def print_linked_list(head):\n",
    "    current = head\n",
    "    while current:\n",
    "        print(current.value, end=\" -> \" if current.next else \"\\n\")\n",
    "        current = current.next\n",
    "\n",
    "def merge_orders(sandwich_a, sandwich_b)\n",
    "    pass"
   ]
  },
  {
   "cell_type": "code",
   "execution_count": null,
   "metadata": {},
   "outputs": [],
   "source": [
    "sandwich_a = Node('Bacon', Node('Lettuce', Node('Tomato')))\n",
    "sandwich_b = Node('Turkey', Node('Cheese', Node('Mayo')))\n",
    "sandwich_c = Node('Bread')\n",
    "\n",
    "print_linked_list(merge_orders(sandwich_a, sandwich_b))\n",
    "print_linked_list(merge_orders(sandwich_a, sandwich_c))"
   ]
  },
  {
   "cell_type": "markdown",
   "metadata": {},
   "source": [
    "Bacon -> Turkey -> Lettuce -> Cheese -> Tomato -> Mayo\n",
    "Bacon -> Bread -> Lettuce -> Tomato"
   ]
  },
  {
   "cell_type": "markdown",
   "metadata": {},
   "source": [
    "## Problem 5: Super Sandwich II\n",
    "Below is an iterative solution to the merge_orders() function from the previous problem. Compare your recursive solution to the iterative solution below.\n",
    "\n",
    "Discuss with your podmates. Which solution do you prefer? How do they compare on time complexity? Space complexity?"
   ]
  },
  {
   "cell_type": "code",
   "execution_count": null,
   "metadata": {},
   "outputs": [],
   "source": [
    "class Node:\n",
    "    def __init__(self, value, next=None):\n",
    "        self.value = value\n",
    "        self.next = next\n",
    "\n",
    "# For testing\n",
    "def print_linked_list(head):\n",
    "    current = head\n",
    "    while current:\n",
    "        print(current.value, end=\" -> \" if current.next else \"\\n\")\n",
    "        current = current.next\n",
    "\n",
    "def merge_orders(sandwich_a, sandwich_b):\n",
    "    # If either list is empty, return the other\n",
    "    if not sandwich_a:\n",
    "        return sandwich_b\n",
    "    if not sandwich_b:\n",
    "        return sandwich_a\n",
    "\n",
    "    # Start with the first node of sandwich_a\n",
    "    head = sandwich_a\n",
    "    \n",
    "    # Loop through both lists until one is exhausted\n",
    "    while sandwich_a and sandwich_b:\n",
    "        # Store the next pointers\n",
    "        next_a = sandwich_a.next\n",
    "        next_b = sandwich_b.next\n",
    "        \n",
    "        # Merge sandwich_b after sandwich_a\n",
    "        sandwich_a.next = sandwich_b\n",
    "        \n",
    "        # If there's more in sandwich_a, add it after sandwich_b\n",
    "        if sandwich_a:\n",
    "            sandwich_b.next = next_a\n",
    "        \n",
    "        # Move to the next nodes\n",
    "        sandwich_a = next_a\n",
    "        sandwich_b = next_b\n",
    "\n",
    "    # Return the head of the new merged list\n",
    "    return head"
   ]
  },
  {
   "cell_type": "markdown",
   "metadata": {},
   "source": [
    "## Problem 6: Ternary Expression\n",
    "Given a string expression representing arbitrarily nested ternary expressions, evaluate the expression, and return its result as a string.\n",
    "\n",
    "You can always assume that the given expression is valid and only contains digits, '?', ':', 'T', and 'F' where 'T' is True and 'F' is False. All the numbers in the expression are one-digit numbers (i.e., in the range [0, 9]).\n",
    "\n",
    "Ternary expressions use the following syntax:\n",
    "\n",
    "condition ? true_choice : false_choice\n",
    "\n",
    "condition is evaluate first and determines which choice to make.\n",
    "true_choice is taken if condition evaluates to True\n",
    "false_choice is taken if condition evaluates to False\n",
    "The conditional expressions group right-to-left, and the result of the expression will always evaluate to either a digit, 'T' or 'F'.\n",
    "\n",
    "We have provided an iterative solution that uses an explicit stack. Implement a recursive solution evaluate_ternary_expression_recursive()."
   ]
  },
  {
   "cell_type": "code",
   "execution_count": null,
   "metadata": {},
   "outputs": [],
   "source": [
    "def evaluate_ternary_expression_iterative(expression):\n",
    "    stack = []\n",
    "    \n",
    "    # Traverse the expression from right to left\n",
    "    for i in range(len(expression) - 1, -1, -1):\n",
    "        char = expression[i]\n",
    "        \n",
    "        if stack and stack[-1] == '?':\n",
    "            stack.pop()  # Remove the '?'\n",
    "            true_expr = stack.pop()  # True expression\n",
    "            stack.pop()  # Remove the ':'\n",
    "            false_expr = stack.pop()  # False expression\n",
    "            \n",
    "            if char == 'T':\n",
    "                stack.append(true_expr)\n",
    "            else:\n",
    "                stack.append(false_expr)\n",
    "        else:\n",
    "            stack.append(char)\n",
    "    \n",
    "    return stack[0]\n",
    "\n",
    "def evaluate_ternary_expression_recursive(expression):\n",
    "    pass"
   ]
  },
  {
   "cell_type": "code",
   "execution_count": null,
   "metadata": {},
   "outputs": [],
   "source": [
    "print(evaluate_ternary_expression_recursive(\"T?2:3\"))\n",
    "print(evaluate_ternary_expression_recursive(\"F?1:T?4:5\"))\n",
    "print(evaluate_ternary_expression_recursive(\"T?T?F:5:3\"))"
   ]
  },
  {
   "cell_type": "markdown",
   "metadata": {},
   "source": [
    "The first example is straightforward:\n",
    "\n",
    "2\n",
    "Example 1 Explanation: If the condition is True, then the result is 2; otherwise, the result is 3. This implies a simple ternary operation where the condition is True, so the result is 2.\n",
    "The second example involves nested conditional expressions:\n",
    "\n",
    "4\n",
    "Example Explanation: The conditional expressions group right-to-left. Using parentheses, it is read and evaluated as:\n",
    "(F ? 1 : (T ? 4 : 5)) --> (F ? 1 : 4) --> 4\n",
    "Alternatively, it can be read as:\n",
    "(F ? 1 : (T ? 4 : 5)) --> (T ? 4 : 5) --> 4 This demonstrates that regardless of the grouping, the result of the nested ternary operation is 4.\n",
    "The third example also involves nested conditional expressions:\n",
    "\n",
    "F\n",
    "Explanation: The conditional expressions group right-to-left. Using parentheses, it is read and evaluated as:\n",
    "(T ? (T ? F : 5) : 3) --> (T ? F : 3) --> F\n",
    "Alternatively, it can be read as:\n",
    "(T ? (T ? F : 5) : 3) --> (T ? F : 5) --> F This shows that the result of the nested ternary operation is F, regardless of the grouping."
   ]
  },
  {
   "cell_type": "markdown",
   "metadata": {},
   "source": [
    "# <h1 style=\"color: orange;\">Session 1: Advance Problem Set Version 2</h1>"
   ]
  },
  {
   "cell_type": "markdown",
   "metadata": {},
   "source": []
  },
  {
   "cell_type": "markdown",
   "metadata": {},
   "source": [
    "# <h1 style=\"color: green;\">Session 2: Standard Problem Set Version 1</h1>"
   ]
  },
  {
   "cell_type": "markdown",
   "metadata": {},
   "source": [
    "## Problem 1: Finding the Perfect Cruise\n",
    "It's vacation time! Given an integer vacation_length and a list of integers cruise_lengths sorted in ascending order, use binary search to return True if there is a cruise length that matches vacation_length and False otherwise."
   ]
  },
  {
   "cell_type": "code",
   "execution_count": null,
   "metadata": {},
   "outputs": [],
   "source": [
    "def find_cruise_length(cruise_lengths, vacation_length):\n",
    "    if len(cruise_lengths) <= 1:\n",
    "        if cruise_lengths[0] == vacation_length:\n",
    "            return True\n",
    "        else:\n",
    "            return False\n",
    "        \n",
    "    left = 0\n",
    "    right = len(cruise_lengths)\n",
    "    mid = left + right // 2\n",
    "    if cruise_lengths[mid] == vacation_length:\n",
    "        return True\n",
    "    elif vacation_length < cruise_lengths[mid]:\n",
    "        return find_cruise_length(cruise_lengths[:mid], vacation_length)\n",
    "    else:\n",
    "        return find_cruise_length(cruise_lengths[mid:], vacation_length)\n",
    "\n",
    "    \n",
    "        "
   ]
  },
  {
   "cell_type": "code",
   "execution_count": 11,
   "metadata": {},
   "outputs": [
    {
     "name": "stdout",
     "output_type": "stream",
     "text": [
      "True\n",
      "False\n"
     ]
    }
   ],
   "source": [
    "print(find_cruise_length([9, 10, 11, 12, 13, 14, 15], 13))\n",
    "print(find_cruise_length([8, 9, 12, 13, 13, 14, 15], 11))"
   ]
  },
  {
   "cell_type": "code",
   "execution_count": null,
   "metadata": {},
   "outputs": [],
   "source": [
    "def find_cabin_index(cabins, preferred_deck):\n",
    "    # Initiate the binary search with the full range of the list\n",
    "    return search_cabin(cabins, preferred_deck, 0, len(cabins) - 1)\n",
    "\n",
    "def search_cabin(cabins, preferred_deck, left, right):\n",
    "    # Base case: if the search range is invalid, return the insertion point\n",
    "    if left > right:\n",
    "        return left\n",
    "    \n",
    "    # Calculate the middle index\n",
    "    mid = (left + right) // 2\n",
    "    \n",
    "    # If the preferred deck is found, return its index\n",
    "    if cabins[mid] == preferred_deck:\n",
    "        return mid\n",
    "    # If the preferred deck is less than the middle element, search the left half\n",
    "    elif preferred_deck < cabins[mid]:\n",
    "        return search_cabin(cabins, preferred_deck, left, mid - 1)\n",
    "    # If the preferred deck is greater than the middle element, search the right half\n",
    "    else:\n",
    "        return search_cabin(cabins, preferred_deck, mid + 1, right)"
   ]
  },
  {
   "cell_type": "code",
   "execution_count": 20,
   "metadata": {},
   "outputs": [
    {
     "name": "stdout",
     "output_type": "stream",
     "text": [
      "2\n",
      "1\n",
      "4\n"
     ]
    }
   ],
   "source": [
    "print(find_cabin_index([1, 3, 5, 6], 5))\n",
    "print(find_cabin_index([1, 3, 5, 6], 2))\n",
    "print(find_cabin_index([1, 3, 5, 6], 7))"
   ]
  },
  {
   "cell_type": "code",
   "execution_count": null,
   "metadata": {},
   "outputs": [],
   "source": []
  }
 ],
 "metadata": {
  "kernelspec": {
   "display_name": "tf2",
   "language": "python",
   "name": "python3"
  },
  "language_info": {
   "codemirror_mode": {
    "name": "ipython",
    "version": 3
   },
   "file_extension": ".py",
   "mimetype": "text/x-python",
   "name": "python",
   "nbconvert_exporter": "python",
   "pygments_lexer": "ipython3",
   "version": "3.10.14"
  }
 },
 "nbformat": 4,
 "nbformat_minor": 2
}
