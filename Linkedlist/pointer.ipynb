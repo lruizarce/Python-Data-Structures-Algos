{
 "cells": [
  {
   "cell_type": "code",
   "execution_count": 4,
   "metadata": {},
   "outputs": [
    {
     "name": "stdout",
     "output_type": "stream",
     "text": [
      "before num2 value is updated:\n",
      "num1= 11\n",
      "num2= 11\n",
      "\n",
      "num1 points to: 2081559872048\n",
      "\n",
      "num2 points to: 2081559872048\n",
      "\n",
      "After num2 value is updated:\n",
      "num1= 11\n",
      "num2= 22\n",
      "\n",
      " num1 points to: 2081559872048\n",
      "\n",
      " num2 points to: 2081559872400\n"
     ]
    }
   ],
   "source": [
    "num1 = 11\n",
    "num2 = num1\n",
    "print(\"before num2 value is updated:\")\n",
    "print(\"num1=\", num1)\n",
    "print('num2=', num2)\n",
    "\n",
    "print(\"\\nnum1 points to:\", id(num1))\n",
    "print(\"\\nnum2 points to:\", id(num2))\n",
    "\n",
    "num2 =22\n",
    "print(\"\\nAfter num2 value is updated:\")\n",
    "print(\"num1=\", num1)\n",
    "print(\"num2=\", num2)\n",
    "\n",
    "print(\"\\n num1 points to:\", id(num1))\n",
    "print(\"\\n num2 points to:\", id(num2))"
   ]
  },
  {
   "cell_type": "code",
   "execution_count": null,
   "metadata": {},
   "outputs": [],
   "source": []
  }
 ],
 "metadata": {
  "kernelspec": {
   "display_name": "tf2",
   "language": "python",
   "name": "python3"
  },
  "language_info": {
   "codemirror_mode": {
    "name": "ipython",
    "version": 3
   },
   "file_extension": ".py",
   "mimetype": "text/x-python",
   "name": "python",
   "nbconvert_exporter": "python",
   "pygments_lexer": "ipython3",
   "version": "3.10.9"
  }
 },
 "nbformat": 4,
 "nbformat_minor": 2
}
